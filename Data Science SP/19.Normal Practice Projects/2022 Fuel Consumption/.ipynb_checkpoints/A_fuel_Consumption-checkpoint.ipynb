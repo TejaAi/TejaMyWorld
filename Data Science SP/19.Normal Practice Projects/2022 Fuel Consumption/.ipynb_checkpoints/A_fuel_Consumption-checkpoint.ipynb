{
 "cells": [
  {
   "cell_type": "markdown",
   "id": "df6652c3",
   "metadata": {},
   "source": [
    "<h1 style=\"color:red\"><center>Fuel Consumption</center></h1>"
   ]
  },
  {
   "cell_type": "markdown",
   "id": "29313b7f",
   "metadata": {},
   "source": [
    "![title](https://iea.imgix.net/3dd6d12c-e2bb-45a7-87a8-9de52cc087c5/shutterstock_346133240.jpg?auto=compress%2Cformat&fit=min&q=80&rect=0%2C0%2C3000%2C2000&w=1800&h=1200&fit=crop&fm=jpg&q=70&auto=format)"
   ]
  },
  {
   "cell_type": "markdown",
   "id": "bbdbe4d6",
   "metadata": {},
   "source": [
    "<h2 style=\"color:brown\">About Data</h2>"
   ]
  },
  {
   "cell_type": "markdown",
   "id": "78c6ebd5",
   "metadata": {},
   "source": [
    "Datasets provide model-specific fuel consumption ratings and estimated carbon dioxide emissions for new light-duty vehicles for retail sale in Canada.\n",
    "\n",
    "**Model:**\n",
    "\n",
    "* 4WD/4X4 = Four-wheel drive\n",
    "* AWD = All-wheel drive\n",
    "* FFV = Flexible-fuel vehicle\n",
    "* SWB = Short wheelbase\n",
    "* LWB = Long wheelbase\n",
    "* EWB = Extended wheelbase\n",
    "\n",
    "**Transmission:**\n",
    "* A = automatic\n",
    "* AM = automated manual\n",
    "* AS = automatic with select shift\n",
    "* AV = continuously variable\n",
    "* M = manual\n",
    "* 3 – 10 = Number of gears\n",
    "\n",
    "**Fuel type:**\n",
    "* X = regular gasoline\n",
    "* Z = premium gasoline\n",
    "* D = diesel\n",
    "* E = ethanol (E85)\n",
    "* N = natural gas\n",
    "\n",
    "**Fuel consumption:** City and highway fuel consumption ratings are shown in litres per 100 kilometres (L/100 km) - the combined rating (55% city, 45% hwy) is shown in L/100 km and in miles per imperial gallon (mpg)\n",
    "\n",
    "**CO2 emissions:** the tailpipe emissions of carbon dioxide (in grams per kilometre) for combined city and highway driving\n",
    "\n",
    "**CO2 rating:** the tailpipe emissions of carbon dioxide rated on a scale from 1 (worst) to 10 (best)\n",
    "\n",
    "**Smog rating:** the tailpipe emissions of smog-forming pollutants rated on a scale from 1 (worst) to 10 (best)"
   ]
  },
  {
   "cell_type": "markdown",
   "id": "36909b9c",
   "metadata": {},
   "source": [
    "![title](https://www.researchgate.net/profile/Julia-Bergmann-4/publication/337166847/figure/fig3/AS:824066491559942@1573484170571/Cross-Industry-Standard-Process-for-Data-Mining-CRISP-DM-in-the-style-of-Chapman-et.png)"
   ]
  },
  {
   "cell_type": "markdown",
   "id": "affc8de2",
   "metadata": {},
   "source": [
    "<h2 style=\"color:brown\">Content :</h2>"
   ]
  },
  {
   "cell_type": "markdown",
   "id": "fd485b16",
   "metadata": {},
   "source": [
    "<a href=\"#1\"><h3>1.Busniess Understanding</h3></a>\n",
    "\n",
    "<a href=\"#2\"><h3>2.Data Understanding</h3></a>\n",
    "\n",
    "<a href=\"#3\"><h3>3.Data Prepartion</h3>\n",
    "\n",
    "<a href=\"#4\"><h3>4.Modelling</h3>\n",
    "    \n",
    "<a href=\"#5\"><h3>5.Evaluation</h3>\n",
    "        "
   ]
  },
  {
   "cell_type": "markdown",
   "id": "22434eb5",
   "metadata": {},
   "source": [
    "<h3 style=\"color:brown\">Busniess Understanding :</h3>"
   ]
  },
  {
   "cell_type": "markdown",
   "id": "92330e64",
   "metadata": {},
   "source": [
    "We have to find the fuel consumption of the vehciles based on the features"
   ]
  },
  {
   "cell_type": "markdown",
   "id": "e64ae5f8",
   "metadata": {},
   "source": [
    "<h3 style=\"color:brown\">Data Understanding :</h3>"
   ]
  },
  {
   "cell_type": "markdown",
   "id": "494314e3",
   "metadata": {},
   "source": [
    "<a href=\"#2.1\"><h5 style=\"color:skyblue\">2.1 Importing Libiraries</h5></a>"
   ]
  },
  {
   "cell_type": "code",
   "execution_count": 1,
   "id": "7737b975",
   "metadata": {},
   "outputs": [],
   "source": [
    "# To satitical operation\n",
    "import pandas as pd\n",
    "import numpy as np  \n",
    "\n",
    "# Visualization\n",
    "import seaborn as sns\n",
    "import matplotlib.pyplot as plt\n"
   ]
  },
  {
   "cell_type": "markdown",
   "id": "3343dac5",
   "metadata": {},
   "source": [
    "<a href=\"#2.2\"><h5 style=\"color:skyblue\">2.2 Load Data</h5></a>"
   ]
  },
  {
   "cell_type": "code",
   "execution_count": 2,
   "id": "84a9b9b8",
   "metadata": {},
   "outputs": [
    {
     "data": {
      "text/html": [
       "<div>\n",
       "<style scoped>\n",
       "    .dataframe tbody tr th:only-of-type {\n",
       "        vertical-align: middle;\n",
       "    }\n",
       "\n",
       "    .dataframe tbody tr th {\n",
       "        vertical-align: top;\n",
       "    }\n",
       "\n",
       "    .dataframe thead th {\n",
       "        text-align: right;\n",
       "    }\n",
       "</style>\n",
       "<table border=\"1\" class=\"dataframe\">\n",
       "  <thead>\n",
       "    <tr style=\"text-align: right;\">\n",
       "      <th></th>\n",
       "      <th>Model Year</th>\n",
       "      <th>Make</th>\n",
       "      <th>Model</th>\n",
       "      <th>Vehicle Class</th>\n",
       "      <th>Engine Size(L)</th>\n",
       "      <th>Cylinders</th>\n",
       "      <th>Transmission</th>\n",
       "      <th>Fuel Type</th>\n",
       "      <th>Fuel Consumption (City (L/100 km)</th>\n",
       "      <th>Fuel Consumption(Hwy (L/100 km))</th>\n",
       "      <th>Fuel Consumption(Comb (L/100 km))</th>\n",
       "      <th>Fuel Consumption(Comb (mpg))</th>\n",
       "      <th>CO2 Emissions(g/km)</th>\n",
       "      <th>CO2 Rating</th>\n",
       "      <th>Smog Rating</th>\n",
       "    </tr>\n",
       "  </thead>\n",
       "  <tbody>\n",
       "    <tr>\n",
       "      <th>0</th>\n",
       "      <td>2022</td>\n",
       "      <td>Acura</td>\n",
       "      <td>ILX</td>\n",
       "      <td>Compact</td>\n",
       "      <td>2.4</td>\n",
       "      <td>4</td>\n",
       "      <td>AM8</td>\n",
       "      <td>Z</td>\n",
       "      <td>9.9</td>\n",
       "      <td>7.0</td>\n",
       "      <td>8.6</td>\n",
       "      <td>33</td>\n",
       "      <td>200</td>\n",
       "      <td>6</td>\n",
       "      <td>3</td>\n",
       "    </tr>\n",
       "    <tr>\n",
       "      <th>1</th>\n",
       "      <td>2022</td>\n",
       "      <td>Acura</td>\n",
       "      <td>MDX SH-AWD</td>\n",
       "      <td>SUV: Small</td>\n",
       "      <td>3.5</td>\n",
       "      <td>6</td>\n",
       "      <td>AS10</td>\n",
       "      <td>Z</td>\n",
       "      <td>12.6</td>\n",
       "      <td>9.4</td>\n",
       "      <td>11.2</td>\n",
       "      <td>25</td>\n",
       "      <td>263</td>\n",
       "      <td>4</td>\n",
       "      <td>5</td>\n",
       "    </tr>\n",
       "    <tr>\n",
       "      <th>2</th>\n",
       "      <td>2022</td>\n",
       "      <td>Acura</td>\n",
       "      <td>RDX SH-AWD</td>\n",
       "      <td>SUV: Small</td>\n",
       "      <td>2.0</td>\n",
       "      <td>4</td>\n",
       "      <td>AS10</td>\n",
       "      <td>Z</td>\n",
       "      <td>11.0</td>\n",
       "      <td>8.6</td>\n",
       "      <td>9.9</td>\n",
       "      <td>29</td>\n",
       "      <td>232</td>\n",
       "      <td>5</td>\n",
       "      <td>6</td>\n",
       "    </tr>\n",
       "  </tbody>\n",
       "</table>\n",
       "</div>"
      ],
      "text/plain": [
       "   Model Year   Make       Model Vehicle Class  Engine Size(L)  Cylinders  \\\n",
       "0        2022  Acura         ILX       Compact             2.4          4   \n",
       "1        2022  Acura  MDX SH-AWD    SUV: Small             3.5          6   \n",
       "2        2022  Acura  RDX SH-AWD    SUV: Small             2.0          4   \n",
       "\n",
       "  Transmission Fuel Type  Fuel Consumption (City (L/100 km)  \\\n",
       "0          AM8         Z                                9.9   \n",
       "1         AS10         Z                               12.6   \n",
       "2         AS10         Z                               11.0   \n",
       "\n",
       "   Fuel Consumption(Hwy (L/100 km))  Fuel Consumption(Comb (L/100 km))  \\\n",
       "0                               7.0                                8.6   \n",
       "1                               9.4                               11.2   \n",
       "2                               8.6                                9.9   \n",
       "\n",
       "   Fuel Consumption(Comb (mpg))  CO2 Emissions(g/km)  CO2 Rating  Smog Rating  \n",
       "0                            33                  200           6            3  \n",
       "1                            25                  263           4            5  \n",
       "2                            29                  232           5            6  "
      ]
     },
     "execution_count": 2,
     "metadata": {},
     "output_type": "execute_result"
    }
   ],
   "source": [
    "df=pd.read_csv(\"MY2022 Fuel Consumption Ratings.csv\")\n",
    "df.head(3)"
   ]
  },
  {
   "cell_type": "markdown",
   "id": "d31ec78f",
   "metadata": {},
   "source": [
    "<a href=\"#2.3\"><h5 style=\"color:skyblue\">2.3 EDA </h5></a>"
   ]
  },
  {
   "cell_type": "code",
   "execution_count": 3,
   "id": "2cff9092",
   "metadata": {},
   "outputs": [
    {
     "data": {
      "text/plain": [
       "Index(['Model Year', 'Make', 'Model', 'Vehicle Class', 'Engine Size(L)',\n",
       "       'Cylinders', 'Transmission', 'Fuel Type',\n",
       "       'Fuel Consumption (City (L/100 km)', 'Fuel Consumption(Hwy (L/100 km))',\n",
       "       'Fuel Consumption(Comb (L/100 km))', 'Fuel Consumption(Comb (mpg))',\n",
       "       'CO2 Emissions(g/km)', 'CO2 Rating', 'Smog Rating'],\n",
       "      dtype='object')"
      ]
     },
     "execution_count": 3,
     "metadata": {},
     "output_type": "execute_result"
    }
   ],
   "source": [
    "df.columns"
   ]
  },
  {
   "cell_type": "code",
   "execution_count": 4,
   "id": "58a54ebe",
   "metadata": {},
   "outputs": [],
   "source": [
    "df.rename(columns={\"Fuel Consumption (City (L/100 km)\":\"city\"},inplace=True)"
   ]
  },
  {
   "cell_type": "code",
   "execution_count": 5,
   "id": "d05291b0",
   "metadata": {},
   "outputs": [
    {
     "data": {
      "text/plain": [
       "Index(['Model Year', 'Make', 'Model', 'Vehicle Class', 'Engine Size(L)',\n",
       "       'Cylinders', 'Transmission', 'Fuel Type', 'city',\n",
       "       'Fuel Consumption(Hwy (L/100 km))', 'Fuel Consumption(Comb (L/100 km))',\n",
       "       'Fuel Consumption(Comb (mpg))', 'CO2 Emissions(g/km)', 'CO2 Rating',\n",
       "       'Smog Rating'],\n",
       "      dtype='object')"
      ]
     },
     "execution_count": 5,
     "metadata": {},
     "output_type": "execute_result"
    }
   ],
   "source": [
    "df.columns"
   ]
  },
  {
   "cell_type": "code",
   "execution_count": 6,
   "id": "a7fcced7",
   "metadata": {},
   "outputs": [
    {
     "data": {
      "text/plain": [
       "(946, 15)"
      ]
     },
     "execution_count": 6,
     "metadata": {},
     "output_type": "execute_result"
    }
   ],
   "source": [
    "# Checking the dimension\n",
    "df.shape"
   ]
  },
  {
   "cell_type": "markdown",
   "id": "ed37a730",
   "metadata": {},
   "source": [
    "946 Records and 15 Features"
   ]
  },
  {
   "cell_type": "code",
   "execution_count": 7,
   "id": "1004579c",
   "metadata": {},
   "outputs": [
    {
     "data": {
      "text/plain": [
       "Index(['Model Year', 'Make', 'Model', 'Vehicle Class', 'Engine Size(L)',\n",
       "       'Cylinders', 'Transmission', 'Fuel Type', 'city',\n",
       "       'Fuel Consumption(Hwy (L/100 km))', 'Fuel Consumption(Comb (L/100 km))',\n",
       "       'Fuel Consumption(Comb (mpg))', 'CO2 Emissions(g/km)', 'CO2 Rating',\n",
       "       'Smog Rating'],\n",
       "      dtype='object')"
      ]
     },
     "execution_count": 7,
     "metadata": {},
     "output_type": "execute_result"
    }
   ],
   "source": [
    "# Listing the Total features\n",
    "df.columns"
   ]
  },
  {
   "cell_type": "code",
   "execution_count": 8,
   "id": "ad283dea",
   "metadata": {},
   "outputs": [
    {
     "data": {
      "text/plain": [
       "Model Year                             1\n",
       "Make                                  39\n",
       "Model                                715\n",
       "Vehicle Class                         14\n",
       "Engine Size(L)                        36\n",
       "Cylinders                              8\n",
       "Transmission                          23\n",
       "Fuel Type                              4\n",
       "city                                 149\n",
       "Fuel Consumption(Hwy (L/100 km))     107\n",
       "Fuel Consumption(Comb (L/100 km))    131\n",
       "Fuel Consumption(Comb (mpg))          49\n",
       "CO2 Emissions(g/km)                  242\n",
       "CO2 Rating                            10\n",
       "Smog Rating                            5\n",
       "dtype: int64"
      ]
     },
     "execution_count": 8,
     "metadata": {},
     "output_type": "execute_result"
    }
   ],
   "source": [
    "df.nunique()"
   ]
  },
  {
   "cell_type": "markdown",
   "id": "959f4b51",
   "metadata": {},
   "source": [
    "**No of Unique Values in the each feature are listed above**"
   ]
  },
  {
   "cell_type": "code",
   "execution_count": 9,
   "id": "61b3dd51",
   "metadata": {},
   "outputs": [
    {
     "name": "stdout",
     "output_type": "stream",
     "text": [
      "The Total Unique values in fetaures\n",
      "Model Year                             1\n",
      "Make                                  39\n",
      "Model                                715\n",
      "Vehicle Class                         14\n",
      "Engine Size(L)                        36\n",
      "Cylinders                              8\n",
      "Transmission                          23\n",
      "Fuel Type                              4\n",
      "city                                 149\n",
      "Fuel Consumption(Hwy (L/100 km))     107\n",
      "Fuel Consumption(Comb (L/100 km))    131\n",
      "Fuel Consumption(Comb (mpg))          49\n",
      "CO2 Emissions(g/km)                  242\n",
      "CO2 Rating                            10\n",
      "Smog Rating                            5\n",
      "dtype: int64\n",
      "The Title :Model Year\n",
      "Unique values :{} [2022]\n",
      "\n",
      "******************************************************************************************\n",
      "\n",
      "The Title :Make\n",
      "Unique values :{} ['Acura' 'Alfa Romeo' 'Aston Martin' 'Audi' 'Bentley' 'BMW' 'Bugatti'\n",
      " 'Buick' 'Cadillac' 'Chevrolet' 'Chrysler' 'Dodge' 'FIAT' 'Ford' 'Genesis'\n",
      " 'GMC' 'Honda' 'Hyundai' 'Infiniti' 'Jaguar' 'Jeep' 'Kia' 'Lamborghini'\n",
      " 'Land Rover' 'Lexus' 'Lincoln' 'Maserati' 'Mazda' 'Mercedes-Benz' 'MINI'\n",
      " 'Mitsubishi' 'Nissan' 'Porsche' 'Ram' 'Rolls-Royce' 'Subaru' 'Toyota'\n",
      " 'Volkswagen' 'Volvo']\n",
      "\n",
      "******************************************************************************************\n",
      "\n",
      "The Title :Model\n",
      "Unique values :{} ['ILX' 'MDX SH-AWD' 'RDX SH-AWD' 'RDX SH-AWD A-SPEC' 'TLX SH-AWD'\n",
      " 'TLX SH-AWD A-SPEC' 'TLX Type S' 'TLX Type S (Performance Tire)' 'Giulia'\n",
      " 'Giulia AWD' 'Giulia Quadrifoglio' 'Stelvio' 'Stelvio AWD'\n",
      " 'Stelvio AWD Quadrifoglio' 'DB11 V8' 'DB11 V12' 'DBS V12' 'DBX V8'\n",
      " 'Vantage V8' 'A3 Sedan 40 TFSI quattro' 'A4 Sedan 40 TFSI quattro'\n",
      " 'A4 Sedan 45 TFSI quattro' 'A4 allroad 45 TFSI quattro'\n",
      " 'A5 Cabriolet 45 TFSI quattro' 'A5 Coupe 45 TFSI quattro'\n",
      " 'A5 Sportback 45 TFSI quattro' 'A6 Sedan 45 TFSI quattro'\n",
      " 'A6 Sedan 55 TFSI quattro' 'A6 allroad 55 TFSI quattro'\n",
      " 'A7 Sportback 55 TFSI quattro' 'A8 L Sedan 55 TFSI quattro'\n",
      " 'Q3 40 TFSI quattro' 'Q3 45 TFSI quattro' 'Q5 40 TFSI quattro'\n",
      " 'Q5 45 TFSI quattro' 'Q5 Sportback 45 TFSI quattro' 'Q7 45 TFSI quattro'\n",
      " 'Q7 55 TFSI quattro' 'Q8 55 TFSI quattro' 'R8 Coupe Performance'\n",
      " 'R8 Coupe Performance quattro' 'R8 Spyder Performance'\n",
      " 'R8 Spyder Performance quattro' 'RS 5 Coupe quattro'\n",
      " 'RS 5 Sportback quattro' 'RS 6 Avant quattro' 'RS 7 Sportback quattro'\n",
      " 'RS Q8 quattro' 'S3 Sedan quattro' 'S4 Sedan quattro'\n",
      " 'S5 Cabriolet quattro' 'S5 Coupe quattro' 'S5 Sportback quattro'\n",
      " 'S6 Sedan quattro' 'S7 Sportback quattro' 'S8 Sedan quattro'\n",
      " 'SQ5 quattro' 'SQ5 Sportback quattro' 'SQ7 quattro' 'SQ8 quattro'\n",
      " 'TT Coupe 45 TFSI quattro' 'TT Roadster 45 TFSI quattro'\n",
      " 'TT RS Coupe quattro' 'TTS Coupe quattro' 'Bentayga' 'Bentayga Speed'\n",
      " 'Continental GT' 'Continental GT Speed' 'Continental GT Convertible'\n",
      " 'Continental GT Convertible Speed' 'Flying Spur' '330i xDrive Sedan'\n",
      " '430i xDrive Cabriolet' '430i xDrive Coupe' '530i xDrive Sedan'\n",
      " '540i xDrive Sedan' '750i xDrive Sedan' '750Li xDrive Sedan' 'Alpina B7'\n",
      " 'Alpina B8 Gran Coupe' 'Alpina XB7' 'M235i xDrive Gran Coupe'\n",
      " 'M240i xDrive Coupe' 'M3 Sedan' 'M3 Competition Sedan'\n",
      " 'M3 Competition Sedan M xDrive' 'M340i xDrive Sedan'\n",
      " 'M4 Competition Cabriolet M xDrive' 'M4 Coupe' 'M4 Competition Coupe'\n",
      " 'M4 Competition Coupe M xDrive' 'M440i xDrive Cabriolet'\n",
      " 'M440i xDrive Coupe' 'M440i xDrive Gran Coupe' 'M5 Sedan'\n",
      " 'M5 Competition' 'M5 CS' 'M550i xDrive Sedan' 'M760i xDrive Sedan'\n",
      " 'M8 Cabriolet' 'M8 Cabriolet Competition' 'M8 Coupe'\n",
      " 'M8 Coupe Competition' 'M8 Gran Coupe' 'M8 Gran Coupe Competition'\n",
      " 'M850i xDrive Cabriolet' 'M850i xDrive Coupe' 'M850i xDrive Gran Coupe'\n",
      " 'X1 xDrive28i' 'X2 xDrive28i' 'X2 M35i' 'X3 xDrive30i' 'X3 M'\n",
      " 'X3 M Competition' 'X3 M40i' 'X4 xDrive30i' 'X4 M' 'X4 M Competition'\n",
      " 'X4 M40i' 'X5 xDrive40i' 'X5 M' 'X5 M Competition' 'X5 M50i'\n",
      " 'X6 xDrive40i' 'X6 M' 'X6 M Competition' 'X6 M50i' 'X7 xDrive40i'\n",
      " 'X7 M50i' 'Z4 sDrive30i' 'Z4 M40i' 'Chiron' 'Chiron Pur Sport'\n",
      " 'Chiron Super Sport' 'Enclave' 'Enclave AWD' 'Encore' 'Encore AWD'\n",
      " 'Encore GX' 'Encore GX AWD' 'Envision' 'Envision AWD' 'CT4' 'CT4 AWD'\n",
      " 'CT4-V' 'CT4-V AWD' 'CT4-V Blackwing' 'CT5' 'CT5 AWD' 'CT5-V' 'CT5-V AWD'\n",
      " 'CT5-V Blackwing' 'Escalade 4WD' 'Escalade 4WD (No Stop-Start)' 'XT4'\n",
      " 'XT4 AWD' 'XT5' 'XT5 AWD' 'XT6 AWD' 'Blazer' 'Blazer AWD' 'Camaro'\n",
      " 'Camaro SS' 'Camaro ZL1' 'Colorado' 'Colorado 4WD' 'Colorado ZR2 4WD'\n",
      " 'Corvette' 'Equinox' 'Equinox AWD' 'Malibu' 'Silverado' 'Silverado FFV'\n",
      " 'Silverado 4WD' 'Silverado 4WD Mud Terrain Tire'\n",
      " 'Silverado 4WD (With Sport Mode)' 'Silverado 4WD FFV'\n",
      " 'Silverado 4WD Mud Terrain Tire FFV' 'Silverado 4WD (No DFM)'\n",
      " 'Silverado 4WD (No Stop-Start)'\n",
      " 'Silverado 4WD Mud Terrain Tire (No Stop-Start)'\n",
      " 'Silverado 4WD Mud Terrain Tire (No DFM)'\n",
      " 'Silverado 4WD Custom Trail Boss' 'Silverado 4WD ZR2' 'Spark' 'Suburban'\n",
      " 'Suburban (No Stop-Start)' 'Suburban 4WD' 'Suburban 4WD (No Stop-Start)'\n",
      " 'Tahoe' 'Tahoe (No Stop-Start)' 'Tahoe 4WD' 'Tahoe 4WD (No Stop-Start)'\n",
      " 'Trailblazer' 'Trailblazer AWD' 'Traverse' 'Traverse AWD' 'Trax'\n",
      " 'Trax AWD' '300' '300 AWD' 'Grand Caravan' 'Pacifica' 'Pacifica AWD'\n",
      " 'Challenger' 'Challenger (MDS)' 'Challenger AWD'\n",
      " 'Challenger Widebody (MDS)' 'Challenger Widebody'\n",
      " 'Challenger SRT Hellcat' 'Challenger SRT Hellcat Widebody' 'Charger'\n",
      " 'Charger (MDS)' 'Charger AWD' 'Charger Widebody (MDS)'\n",
      " 'Charger SRT Hellcat Widebody' 'Durango AWD' 'Durango AWD SRT' '500X AWD'\n",
      " 'Bronco 4WD' 'Bronco Badlands 4WD' 'Bronco Black Diamond 4WD'\n",
      " 'Bronco Sasquatch 4WD' 'Bronco Sport 4WD' 'EcoSport AWD' 'Edge AWD'\n",
      " 'Escape' 'Escape AWD' 'Escape Hybrid' 'Escape Hybrid AWD'\n",
      " 'Expedition 4X4' 'Expedition 4X4 (Without Stop-Start)'\n",
      " 'Expedition Timberline 4X4'\n",
      " 'Expedition Timberline 4X4 (Without Stop-Start)' 'Explorer AWD'\n",
      " 'Explorer AWD (Without Stop-Start)' 'Explorer Timberline AWD'\n",
      " 'Explorer Timberline AWD (Without Stop-Start)' 'Explorer Hybrid AWD'\n",
      " 'F-150' 'F-150 (Without Stop-Start)' 'F-150 FFV'\n",
      " 'F-150 FFV (Without Stop-Start)' 'F-150 4X4' 'F-150 4X4 FFV'\n",
      " 'F-150 4X4 (Without Stop-Start)' 'F-150 4X4 FFV (Without Stop-Start)'\n",
      " 'F-150 Raptor 4X4' 'F-150 Raptor 4X4 (Without Stop-Start)'\n",
      " 'F-150 Raptor 37 4X4' 'F-150 Raptor 37 4X4 (Without Stop-Start)'\n",
      " 'F-150 Tremor 4X4' 'F-150 Tremor 4X4 (Without Stop-Start)' 'F-150 Hybrid'\n",
      " 'F-150 Hybrid 4X4' 'GT' 'Maverick AWD' 'Maverick Hybrid' 'Mustang'\n",
      " 'Mustang (High Performance)' 'Mustang Convertible'\n",
      " 'Mustang Convertible (High Performance)' 'Mustang Mach 1' 'Ranger 4WD'\n",
      " 'Ranger 4WD (Without Stop-Start)' 'Ranger 4WD Tremor'\n",
      " 'Shelby GT500 Mustang' 'Transit Connect Van' 'Transit Connect Van FFV'\n",
      " 'Transit Connect Wagon LWB' 'Transit Connect Wagon LWB FFV' 'G70 AWD'\n",
      " 'G80 AWD' 'G90 AWD' 'GV70 AWD' 'GV80 AWD' 'Acadia' 'Acadia AWD' 'Canyon'\n",
      " 'Canyon 4WD' 'Sierra' 'Sierra FFV' 'Sierra 4WD'\n",
      " 'Sierra 4WD Mud Terrain Tire' 'Sierra 4WD FFV'\n",
      " 'Sierra 4WD Mud Terrain Tire FFV' 'Sierra 4WD (No DFM)'\n",
      " 'Sierra 4WD (With Sport Mode)' 'Sierra 4WD (No Stop-Start)'\n",
      " 'Sierra 4WD Mud Terrain Tire (No DFM)'\n",
      " 'Sierra 4WD Mud Terrain Tire (No Stop-Start)' 'Terrain' 'Terrain AWD'\n",
      " 'Yukon' 'Yukon (No Stop-Start)' 'Yukon 4WD' 'Yukon 4WD (No Stop-Start)'\n",
      " 'Yukon XL' 'Yukon XL (No Stop-Start)' 'Yukon XL 4WD'\n",
      " 'Yukon XL 4WD (No Stop-Start)' 'Accord' 'Accord Sport/Touring'\n",
      " 'Accord Hybrid' 'Accord Hybrid Sport/Touring' 'Civic Hatchback'\n",
      " 'Civic Sedan' 'Civic Sedan Si' 'CR-V' 'CR-V AWD' 'HR-V' 'HR-V AWD'\n",
      " 'Odyssey' 'Passport AWD' 'Pilot AWD' 'Pilot AWD TrailSport'\n",
      " 'Ridgeline AWD' 'Elantra' 'Elantra (ISG)' 'Elantra N'\n",
      " 'Elantra Hybrid Blue' 'IONIQ' 'IONIQ Blue' 'Kona' 'Kona N' 'Kona AWD'\n",
      " 'Palisade AWD' 'Santa Cruz AWD' 'Santa Fe AWD' 'Santa Fe Hybrid' 'Sonata'\n",
      " 'Sonata Hybrid' 'Tucson' 'Tucson AWD' 'Tucson Hybrid' 'Veloster N'\n",
      " 'Venue' 'Q50 AWD' 'Q50 AWD Red Sport' 'Q60 AWD' 'Q60 AWD Red Sport'\n",
      " 'QX50 AWD' 'QX55 AWD' 'QX60 AWD' 'QX80 4WD' 'E-PACE P250' 'E-PACE P300'\n",
      " 'F-TYPE P450 Convertible' 'F-TYPE P450 Convertible AWD'\n",
      " 'F-TYPE P450 Coupe' 'F-TYPE P450 Coupe AWD' 'F-TYPE R Convertible AWD'\n",
      " 'F-TYPE R Coupe AWD' 'Cherokee' 'Cherokee 4X4 Active Drive I'\n",
      " 'Cherokee 4X4 Active Drive Lock' 'Compass' 'Compass 4X4'\n",
      " 'Gladiator 4X4 EcoDiesel' 'Gladiator 4X4 Rubicon EcoDiesel'\n",
      " 'Gladiator 4X4' 'Grand Cherokee 4X4' 'Grand Cherokee L 4X4'\n",
      " 'Grand Cherokee WK 4X4' 'Grand Wagoneer 4X4' 'Renegade' 'Renegade 4X4'\n",
      " 'Renegade 4X4 Trailhawk' 'Wagoneer 4X4' 'Wrangler JL 4X4'\n",
      " 'Wrangler JL 4X4 eTorque' 'Wrangler JL Unlimited 4X4'\n",
      " 'Wrangler JL Unlimited 4X4 EcoDiesel'\n",
      " 'Wrangler JL Unlimited 4X4 Rubicon EcoDiesel'\n",
      " 'Wrangler JL Unlimited 4X4 eTorque' 'Carnival' 'Forte' 'Forte 5' 'K5'\n",
      " 'K5 AWD' 'Niro' 'Niro FE' 'Niro Touring' 'Rio' 'Seltos' 'Seltos AWD'\n",
      " 'Sorento AWD' 'Sorento Hybrid AWD' 'Soul' 'Sportage' 'Sportage AWD'\n",
      " 'Stinger AWD' 'Telluride AWD' 'Aventador Countach' 'Aventador Coupe'\n",
      " 'Aventador Roadster' 'Huracan evo Coupe' 'Huracan evo Coupe AWD'\n",
      " 'Huracan evo Spyder' 'Huracan evo Spyder AWD' 'Urus' 'Defender 90 P300'\n",
      " 'Defender 90 P400' 'Defender 90 5.0L V8' 'Defender 110 P300'\n",
      " 'Defender 110 P400' 'Defender 110 5.0L V8' 'Discovery P300'\n",
      " 'Discovery P360' 'Range Rover P360' 'Range Rover P400' 'Range Rover P525'\n",
      " 'Range Rover P525 LWB' 'Range Rover SVAutobiography'\n",
      " 'Range Rover SVAutobiography LWB' 'Range Rover Sport P360'\n",
      " 'Range Rover Sport HST P400' 'Range Rover Sport P525'\n",
      " 'Range Rover Sport P575 SVR' 'ES 250 AWD' 'ES 300h' 'ES 350'\n",
      " 'ES 350 F SPORT' 'GX 460' 'IS 300' 'IS 300 AWD' 'IS 350 AWD' 'IS 500'\n",
      " 'LC 500' 'LC 500 Convertible' 'LC 500h' 'LS 500 AWD' 'LS 500h AWD'\n",
      " 'LX 600' 'NX 250 AWD' 'NX 350 AWD' 'NX 350 AWD F SPORT' 'NX 350h AWD'\n",
      " 'RC 300 AWD' 'RC 350 AWD' 'RC F' 'RX 350 AWD' 'RX 350 L AWD'\n",
      " 'RX 450h AWD' 'RX 450h L AWD' 'UX 200' 'UX 250h AWD' 'Aviator AWD'\n",
      " 'Corsair AWD' 'Nautilus AWD' 'Navigator 4X4' 'Ghibli GT' 'Ghibli Modena'\n",
      " 'Ghibli Modena AWD' 'Ghibli Trofeo' 'Levante GT' 'Levante Modena'\n",
      " 'Levante Modena V8' 'Levante Trofeo' 'MC20' 'Quattroporte GT'\n",
      " 'Quattroporte Modena' 'Quattroporte Modena AWD' 'Quattroporte Trofeo'\n",
      " 'CX-3' 'CX-3 (SIL)' 'CX-3 4WD' 'CX-30 4WD' 'CX-30 Turbo 4WD' 'CX-5 4WD'\n",
      " 'CX-5 4WD (Cylinder Deactivation)' 'CX-5 Turbo 4WD' 'CX-9 4WD'\n",
      " 'Mazda3 4-Door' 'Mazda3 4-Door (SIL)' 'Mazda3 4-Door 4WD'\n",
      " 'Mazda3 4-Door Turbo 4WD' 'Mazda3 5-Door' 'Mazda3 5-Door (SIL)'\n",
      " 'Mazda3 5-Door 4WD' 'Mazda3 5-Door Turbo 4WD' 'MX-5' 'MX-5 (SIL)'\n",
      " 'A 220 4MATIC Sedan' 'A 250 4MATIC Hatch' 'AMG A 35 4MATIC Sedan'\n",
      " 'AMG A 35 4MATIC Hatch' 'AMG C 43 4MATIC Cabriolet'\n",
      " 'AMG C 43 4MATIC Coupe' 'AMG CLA 35 4MATIC Coupe'\n",
      " 'AMG CLA 45 4MATIC Coupe' 'AMG CLS 53 4MATIC+ Coupe'\n",
      " 'AMG E 53 4MATIC+ Sedan' 'AMG E 53 4MATIC+ Cabriolet'\n",
      " 'AMG E 53 4MATIC+ Coupe' 'AMG GLA 35 4MATIC SUV' 'AMG GLA 45 4MATIC SUV'\n",
      " 'AMG GLB 35 4MATIC SUV' 'AMG GLC 43 4MATIC SUV' 'AMG GLC 43 4MATIC Coupe'\n",
      " 'AMG GLE 53 4MATIC+ SUV' 'AMG GLE 53 4MATIC+ Coupe'\n",
      " 'AMG GT 53 4MATIC+ Coupe' 'C 300 4MATIC Cabriolet' 'C 300 4MATIC Coupe'\n",
      " 'CLA 250 4MATIC Coupe' 'CLS 450 4MATIC Coupe' 'E 350 4MATIC Sedan'\n",
      " 'E 450 4MATIC Sedan' 'E 450 4MATIC Cabriolet' 'E 450 4MATIC Coupe'\n",
      " 'E 450 4MATIC All-Terrain Wagon' 'GLA 250 4MATIC SUV'\n",
      " 'GLB 250 4MATIC SUV' 'GLC 300 4MATIC SUV' 'GLC 300 4MATIC Coupe'\n",
      " 'GLE 350 4MATIC SUV' 'GLE 450 4MATIC SUV' 'GLE 450 4MATIC Coupe'\n",
      " 'GLS 450 4MATIC SUV' 'Maybach S 580 4MATIC Sedan' 'Metris Cargo Van'\n",
      " 'Metris Cargo Van LWB' 'Metris Passenger Van' 'S 500 4MATIC SWB Sedan'\n",
      " 'S 580 4MATIC LWB Sedan' 'Cooper 3 Door' 'Cooper 5 Door'\n",
      " 'Cooper Convertible' 'Cooper Countryman ALL4' 'Cooper S 3 Door'\n",
      " 'Cooper S 5 Door' 'Cooper S Clubman ALL4' 'Cooper S Convertible'\n",
      " 'Cooper S Countryman ALL4' 'John Cooper Works 3 Door'\n",
      " 'John Cooper Works Clubman ALL4' 'John Cooper Works Convertible'\n",
      " 'John Cooper Works Countryman ALL4' 'Eclipse Cross 4WD' 'Mirage'\n",
      " 'Outlander 4WD' 'RVR' 'RVR 4WD' 'Altima AWD' 'Altima AWD SR/Platinum'\n",
      " 'Armada 4WD' 'Frontier' 'Frontier 4WD' 'Kicks' 'Maxima' 'Murano AWD'\n",
      " 'Pathfinder 4WD' 'Qashqai' 'Qashqai AWD' 'Rogue' 'Rogue AWD'\n",
      " 'Rogue AWD SL/Platinum' 'Sentra' 'Sentra SR' 'Versa' '718 Boxster'\n",
      " '718 Boxster T' '718 Boxster S' '718 Boxster GTS 4.0' '718 Cayman'\n",
      " '718 Cayman T' '718 Cayman S' '718 Cayman GT4' '718 Cayman GTS 4.0'\n",
      " '718 Spyder' '911 Carrera' '911 Carrera Cabriolet' '911 Carrera 4'\n",
      " '911 Carrera 4 Cabriolet' '911 Carrera S' '911 Carrera S Cabriolet'\n",
      " '911 Carrera 4S' '911 Carrera 4S Cabriolet' '911 Carrera GTS'\n",
      " '911 Carrera GTS Cabriolet' '911 Carrera 4 GTS'\n",
      " '911 Carrera 4 GTS Cabriolet' '911 GT3' '911 GT3 Touring' '911 Targa 4'\n",
      " '911 Targa 4S' '911 Targa 4 GTS' '911 Turbo' '911 Turbo Cabriolet'\n",
      " '911 Turbo S' '911 Turbo S Cabriolet' 'Cayenne' 'Cayenne Coupe'\n",
      " 'Cayenne S' 'Cayenne S Coupe' 'Cayenne GTS' 'Cayenne GTS Coupe'\n",
      " 'Cayenne Turbo' 'Cayenne Turbo Coupe' 'Cayenne Turbo GT' 'Macan'\n",
      " 'Macan S' 'Macan GTS' 'Panamera' 'Panamera 4' 'Panamera 4 Executive'\n",
      " 'Panamera 4 ST' 'Panamera 4S' 'Panamera 4S Executive' 'Panamera 4S ST'\n",
      " 'Panamera GTS' 'Panamera GTS ST' 'Panamera Turbo S'\n",
      " 'Panamera Turbo S Executive' 'Panamera Turbo S ST' '1500 EcoDiesel'\n",
      " '1500 HFE EcoDiesel' '1500 eTorque' '1500 HFE eTorque' '1500'\n",
      " '1500 4X4 EcoDiesel' '1500 4X4 eTorque' '1500 4X4' '1500 4X4 TRX'\n",
      " '1500 Classic' '1500 Classic 4X4' 'ProMaster City' 'Cullinan'\n",
      " 'Cullinan Black Badge' 'Ghost' 'Ghost Black Badge' 'Ghost EWB' 'Phantom'\n",
      " 'Phantom EWB' 'Ascent AWD' 'BRZ' 'Crosstrek AWD' 'Forester AWD'\n",
      " 'Forester Wilderness AWD' 'Impreza 4-Door AWD' 'Impreza 5-Door AWD'\n",
      " 'Legacy AWD' 'Outback AWD' 'Outback Wilderness AWD' 'WRX AWD'\n",
      " '4Runner 4WD' '4Runner 4WD (Part-Time 4WD) ' 'C-HR' 'Camry LE/SE'\n",
      " 'Camry XSE' 'Camry XSE V6' 'Camry TRD' 'Camry AWD SE' 'Camry AWD XSE'\n",
      " 'Camry Hybrid LE' 'Camry Hybrid SE/XLE/XSE' 'Corolla' 'Corolla XLE'\n",
      " 'Corolla XSE' 'Corolla Apex Edition' 'Corolla Hatchback' 'Corolla Hybrid'\n",
      " 'Corolla Cross' 'Corolla Cross AWD' 'GR 86' 'GR Supra 2.0' 'GR Supra 3.0'\n",
      " 'Highlander AWD' 'Highlander Hybrid AWD'\n",
      " 'Highlander Hybrid AWD Limited/Platinum' 'Prius' 'Prius AWD' 'RAV4'\n",
      " 'RAV4 (Stop/Start)' 'RAV4 AWD' 'RAV4 AWD (Stop/Start)' 'RAV4 AWD LE'\n",
      " 'RAV4 AWD TRD Off-Road' 'RAV4 Hybrid AWD' 'Sequoia 4WD' 'Sienna'\n",
      " 'Sienna AWD' 'Tacoma 4WD' 'Tacoma 4WD D-Cab TRD Off-Road/PRO' 'Tundra'\n",
      " 'Tundra 4WD' 'Tundra 4WD TRD' 'Tundra Hybrid 4WD'\n",
      " 'Tundra Hybrid 4WD TRD PRO' 'Venza AWD' 'Atlas 4MOTION'\n",
      " 'Atlas Cross Sport 4MOTION' 'Golf GTI' 'Golf R' 'Jetta' 'Jetta SE/SEL'\n",
      " 'Jetta GLI' 'Passat' 'Taos' 'Taos 4MOTION' 'Tiguan 4MOTION'\n",
      " 'Tiguan R-Line 4MOTION' 'S60 B5' 'S60 B5 AWD' 'S90 B6 AWD' 'V60 T6 AWD'\n",
      " 'V60 CC T5 AWD' 'V90 CC B6 AWD' 'XC40 T4 AWD' 'XC40 T5 AWD' 'XC60 B5 AWD'\n",
      " 'XC60 B6 AWD' 'XC90 T5 AWD' 'XC90 T6 AWD']\n",
      "\n",
      "******************************************************************************************\n",
      "\n",
      "The Title :Vehicle Class\n",
      "Unique values :{} ['Compact' 'SUV: Small' 'Mid-size' 'Minicompact' 'SUV: Standard'\n",
      " 'Two-seater' 'Subcompact' 'Station wagon: Small'\n",
      " 'Station wagon: Mid-size' 'Full-size' 'Pickup truck: Small'\n",
      " 'Pickup truck: Standard' 'Minivan' 'Special purpose vehicle']\n",
      "\n",
      "******************************************************************************************\n",
      "\n",
      "The Title :Engine Size(L)\n",
      "Unique values :{} [2.4 3.5 2.  3.  2.9 4.  5.2 2.5 6.  4.4 6.6 8.  3.6 1.4 1.2 1.3 2.7 6.2\n",
      " 2.8 1.5 5.3 5.7 6.4 2.3 3.3 5.  1.8 1.6 3.8 5.6 3.2 6.5 4.6 3.4 3.7 6.7]\n",
      "\n",
      "******************************************************************************************\n",
      "\n",
      "The Title :Cylinders\n",
      "Unique values :{} [ 4  6  8 12 10  5 16  3]\n",
      "\n",
      "******************************************************************************************\n",
      "\n",
      "The Title :Transmission\n",
      "Unique values :{} ['AM8' 'AS10' 'A8' 'A9' 'AM7' 'AS8' 'M6' 'AS6' 'AV' 'AS9' 'A10' 'A6' 'M5'\n",
      " 'M7' 'AV7' 'AV1' 'AM6' 'AS7' 'AV8' 'AV6' 'AV10' 'AS5' 'A7']\n",
      "\n",
      "******************************************************************************************\n",
      "\n",
      "The Title :Fuel Type\n",
      "Unique values :{} ['Z' 'X' 'D' 'E']\n",
      "\n",
      "******************************************************************************************\n",
      "\n",
      "The Title :city\n",
      "Unique values :{} [ 9.9 12.6 11.  11.3 11.2 12.3 10.  10.5 13.5 10.3 10.8 13.9 13.  16.4\n",
      " 16.8 13.1  8.5  9.1  9.8 10.4 10.2 11.1 11.5 11.4 12.  12.8 16.7 17.9\n",
      " 16.1 16.  18.  16.9 12.5 11.7 15.8 19.  14.9 19.6 15.2 20.3 15.5 19.2\n",
      "  9.5 10.1 15.7 14.7 14.5 14.6 15.1 10.9 17.8 14.4 12.1  9.4 26.8 30.3\n",
      " 13.6  9.7  8.   8.2  9.  11.9 15.  12.4 18.1 18.3 16.3 17.  12.9 10.6\n",
      " 17.2 12.2 11.8 14.  13.3  8.9 10.7 16.2 21.5 16.5 22.  17.4 23.1 15.6\n",
      " 15.3 16.6 18.2  7.7 15.9 14.1 17.6 18.6 12.7 13.8  9.3 11.6  5.4  5.5\n",
      " 14.8 15.4 13.4 13.7 20.8 20.1 17.3 21.2 20.7 14.3 19.9  5.6 17.1  9.2\n",
      "  9.6  7.8  8.1  5.   5.3  7.6  8.7  8.3  8.4  8.8  7.1  4.5  4.3  4.\n",
      "  6.3  7.9  8.6 17.5 18.5  4.4  7.2  6.4 26.5 13.2 14.2  5.7  7.5  6.6\n",
      "  7.4 22.4 20.   4.9  6.7  4.6  5.8  6.8  5.9]\n",
      "\n",
      "******************************************************************************************\n",
      "\n",
      "The Title :Fuel Consumption(Hwy (L/100 km))\n",
      "Unique values :{} [ 7.   9.4  8.6  9.1  8.   8.1  9.8  7.2  7.7  9.3  8.3 10.3 10.7 11.9\n",
      "  9.6  6.6  7.6  7.9  7.5  7.4  7.8  8.4 10.5 12.1 12.3  8.5 10.2  9.7\n",
      " 11.4  9.9 13.   9.  12.   9.2 12.9 11.6 12.2  6.9  7.1 11.5 10.1 10.4\n",
      " 11.  11.7 10.6 16.6 20.9  7.3  8.2  8.7 12.7  9.5  8.8  8.9 11.2 16.\n",
      " 11.3 13.1 12.8 16.4 14.7 19.6 13.3 11.8 12.4 14.  13.9 13.8 13.2 14.2\n",
      " 14.1  6.2 10.9 13.5  6.8  6.3  6.4 10.  10.8 14.3 14.4 14.8  6.5  5.\n",
      "  5.7  6.1  6.   5.5  4.2  4.1  3.9  4.6  5.9  4.9  5.6 14.6 15.1 12.6\n",
      "  5.2  6.7 11.1  5.8 16.5 12.5  4.8  4.5  4.7]\n",
      "\n",
      "******************************************************************************************\n",
      "\n"
     ]
    },
    {
     "name": "stdout",
     "output_type": "stream",
     "text": [
      "The Title :Fuel Consumption(Comb (L/100 km))\n",
      "Unique values :{} [ 8.6 11.2  9.9 10.3  9.8 11.   8.7  9.2 11.6  9.3  9.6 12.3 11.5 13.8\n",
      " 14.6  7.6  8.2  8.8  8.9  9.1 10.  10.6  9.4 10.8 11.7 15.3 11.4 13.7\n",
      " 13.5 15.4  9.7 10.9 13.9 10.1  9.  13.2 16.3 12.2 16.2 12.5 17.  16.\n",
      "  8.3 12.  12.6 12.7 12.9 15.1 10.4 15.7 11.1  8.5 22.2 26.1 11.8  7.8\n",
      "  7.9  9.5 10.2 13.  10.7 14.8 15.2 10.5 14.7 14.9 11.3 12.1 14.1  8.4\n",
      "  7.5 14.5 19.1 13.4 13.1 14.  19.5 21.5 14.4 15.5 15.  16.4  7.   7.2\n",
      " 14.3 15.6 12.4  5.8  5.9 12.8 17.9 17.4 18.1 17.8 15.8 13.3 16.7  6.3\n",
      " 13.6  5.   5.5  7.1  8.   6.9  7.7  8.1  6.7  6.4  4.4  4.2  4.   7.4\n",
      " 16.5  4.6  5.3  6.6 11.9 21.2 16.9  6.   7.3  6.2  6.5 14.2 19.8  4.9\n",
      "  5.1  6.8  4.5  4.8  6.1]\n",
      "\n",
      "******************************************************************************************\n",
      "\n",
      "The Title :Fuel Consumption(Comb (mpg))\n",
      "Unique values :{} [33 25 29 27 26 32 31 24 30 23 20 19 37 34 28 18 21 17 22 13 11 36 38 15\n",
      " 14 40 39 49 48 16 45 56 51 35 41 42 44 64 67 71 61 53 43 47 46 58 55 63\n",
      " 59]\n",
      "\n",
      "******************************************************************************************\n",
      "\n",
      "The Title :CO2 Emissions(g/km)\n",
      "Unique values :{} [200 263 232 242 230 231 256 261 205 217 271 218 226 288 324 343 270 178\n",
      " 190 208 214 224 234 248 215 233 220 252 273 322 356 267 268 319 315 360\n",
      " 206 227 254 323 262 325 235 209 309 383 287 379 294 395 373 195 202 219\n",
      " 279 321 212 293 292 296 301 211 354 213 207 241 364 302 199 223 522 608\n",
      " 277 201 184 185 221 216 239 244 297 303 222 260 258 346 281 345 353 225\n",
      " 237 269 259 251 355 349 257 283 326 329 198 175 274 240 341 314 304 306\n",
      " 328 272 265 298 347 380 358 327 359 339 361 381 352 385 366 165 170 332\n",
      " 336 197 289 249 307 305 368 331 363 275 291 308 310 317 238 182 136 139\n",
      " 282 300 284 295 344 357 370 313 228 147 236 246 392 229 245 318 338 168\n",
      " 176 117 129 166 167 186 162 180 189 181 193 179 158 151 103  99  94 174\n",
      " 187 250 183 194 152 253 247 286 299 290 266 374 204 255 285 387 169 110\n",
      " 124 159 157 280 489 498 371 384 350 365 337 140 311 348 243 264 210 177\n",
      " 191 143 362 188 196 171 276 278 334 335 330 320 465 386 382 192 113 121\n",
      " 164 172 106 156 111 154 142 161]\n",
      "\n",
      "******************************************************************************************\n",
      "\n",
      "The Title :CO2 Rating\n",
      "Unique values :{} [ 6  4  5  3  7  2  1  8  9 10]\n",
      "\n",
      "******************************************************************************************\n",
      "\n",
      "The Title :Smog Rating\n",
      "Unique values :{} [3 5 6 7 1]\n",
      "\n",
      "******************************************************************************************\n",
      "\n"
     ]
    }
   ],
   "source": [
    "# For Unique Values in the Features\n",
    "print(\"The Total Unique values in fetaures\")\n",
    "print(df.nunique())\n",
    "for i in df.columns:\n",
    "    x=df[i].unique()\n",
    "    print(\"The Title :{}\".format(i))\n",
    "    print(\"Unique values :{}\",format(x))\n",
    "    print()\n",
    "    print(\"*\"*90)\n",
    "    print()"
   ]
  },
  {
   "cell_type": "code",
   "execution_count": 10,
   "id": "c0718327",
   "metadata": {},
   "outputs": [
    {
     "data": {
      "text/plain": [
       "Model Year                             int64\n",
       "Make                                  object\n",
       "Model                                 object\n",
       "Vehicle Class                         object\n",
       "Engine Size(L)                       float64\n",
       "Cylinders                              int64\n",
       "Transmission                          object\n",
       "Fuel Type                             object\n",
       "city                                 float64\n",
       "Fuel Consumption(Hwy (L/100 km))     float64\n",
       "Fuel Consumption(Comb (L/100 km))    float64\n",
       "Fuel Consumption(Comb (mpg))           int64\n",
       "CO2 Emissions(g/km)                    int64\n",
       "CO2 Rating                             int64\n",
       "Smog Rating                            int64\n",
       "dtype: object"
      ]
     },
     "execution_count": 10,
     "metadata": {},
     "output_type": "execute_result"
    }
   ],
   "source": [
    "# Checking data types of features\n",
    "df.dtypes"
   ]
  },
  {
   "cell_type": "markdown",
   "id": "aff69e4e",
   "metadata": {},
   "source": [
    "**We have 5 Categorial Features in our dataset**"
   ]
  },
  {
   "cell_type": "code",
   "execution_count": 11,
   "id": "8f418b31",
   "metadata": {},
   "outputs": [
    {
     "data": {
      "text/plain": [
       "Model Year                           0\n",
       "Make                                 0\n",
       "Model                                0\n",
       "Vehicle Class                        0\n",
       "Engine Size(L)                       0\n",
       "Cylinders                            0\n",
       "Transmission                         0\n",
       "Fuel Type                            0\n",
       "city                                 0\n",
       "Fuel Consumption(Hwy (L/100 km))     0\n",
       "Fuel Consumption(Comb (L/100 km))    0\n",
       "Fuel Consumption(Comb (mpg))         0\n",
       "CO2 Emissions(g/km)                  0\n",
       "CO2 Rating                           0\n",
       "Smog Rating                          0\n",
       "dtype: int64"
      ]
     },
     "execution_count": 11,
     "metadata": {},
     "output_type": "execute_result"
    }
   ],
   "source": [
    "# Check For Null values\n",
    "df.isnull().sum()"
   ]
  },
  {
   "cell_type": "code",
   "execution_count": 12,
   "id": "24200904",
   "metadata": {},
   "outputs": [
    {
     "name": "stdout",
     "output_type": "stream",
     "text": [
      "<class 'pandas.core.frame.DataFrame'>\n",
      "RangeIndex: 946 entries, 0 to 945\n",
      "Data columns (total 15 columns):\n",
      " #   Column                             Non-Null Count  Dtype  \n",
      "---  ------                             --------------  -----  \n",
      " 0   Model Year                         946 non-null    int64  \n",
      " 1   Make                               946 non-null    object \n",
      " 2   Model                              946 non-null    object \n",
      " 3   Vehicle Class                      946 non-null    object \n",
      " 4   Engine Size(L)                     946 non-null    float64\n",
      " 5   Cylinders                          946 non-null    int64  \n",
      " 6   Transmission                       946 non-null    object \n",
      " 7   Fuel Type                          946 non-null    object \n",
      " 8   city                               946 non-null    float64\n",
      " 9   Fuel Consumption(Hwy (L/100 km))   946 non-null    float64\n",
      " 10  Fuel Consumption(Comb (L/100 km))  946 non-null    float64\n",
      " 11  Fuel Consumption(Comb (mpg))       946 non-null    int64  \n",
      " 12  CO2 Emissions(g/km)                946 non-null    int64  \n",
      " 13  CO2 Rating                         946 non-null    int64  \n",
      " 14  Smog Rating                        946 non-null    int64  \n",
      "dtypes: float64(4), int64(6), object(5)\n",
      "memory usage: 111.0+ KB\n"
     ]
    }
   ],
   "source": [
    "df.info()"
   ]
  },
  {
   "cell_type": "code",
   "execution_count": 13,
   "id": "282a1c75",
   "metadata": {},
   "outputs": [
    {
     "data": {
      "text/html": [
       "<div>\n",
       "<style scoped>\n",
       "    .dataframe tbody tr th:only-of-type {\n",
       "        vertical-align: middle;\n",
       "    }\n",
       "\n",
       "    .dataframe tbody tr th {\n",
       "        vertical-align: top;\n",
       "    }\n",
       "\n",
       "    .dataframe thead th {\n",
       "        text-align: right;\n",
       "    }\n",
       "</style>\n",
       "<table border=\"1\" class=\"dataframe\">\n",
       "  <thead>\n",
       "    <tr style=\"text-align: right;\">\n",
       "      <th></th>\n",
       "      <th>Model Year</th>\n",
       "      <th>Engine Size(L)</th>\n",
       "      <th>Cylinders</th>\n",
       "      <th>city</th>\n",
       "      <th>Fuel Consumption(Hwy (L/100 km))</th>\n",
       "      <th>Fuel Consumption(Comb (L/100 km))</th>\n",
       "      <th>Fuel Consumption(Comb (mpg))</th>\n",
       "      <th>CO2 Emissions(g/km)</th>\n",
       "      <th>CO2 Rating</th>\n",
       "      <th>Smog Rating</th>\n",
       "    </tr>\n",
       "  </thead>\n",
       "  <tbody>\n",
       "    <tr>\n",
       "      <th>count</th>\n",
       "      <td>946.0</td>\n",
       "      <td>946.000000</td>\n",
       "      <td>946.000000</td>\n",
       "      <td>946.000000</td>\n",
       "      <td>946.000000</td>\n",
       "      <td>946.000000</td>\n",
       "      <td>946.000000</td>\n",
       "      <td>946.000000</td>\n",
       "      <td>946.000000</td>\n",
       "      <td>946.000000</td>\n",
       "    </tr>\n",
       "    <tr>\n",
       "      <th>mean</th>\n",
       "      <td>2022.0</td>\n",
       "      <td>3.198732</td>\n",
       "      <td>5.668076</td>\n",
       "      <td>12.506448</td>\n",
       "      <td>9.363319</td>\n",
       "      <td>11.092072</td>\n",
       "      <td>27.247357</td>\n",
       "      <td>259.172304</td>\n",
       "      <td>4.539112</td>\n",
       "      <td>4.950317</td>\n",
       "    </tr>\n",
       "    <tr>\n",
       "      <th>std</th>\n",
       "      <td>0.0</td>\n",
       "      <td>1.374814</td>\n",
       "      <td>1.932670</td>\n",
       "      <td>3.452043</td>\n",
       "      <td>2.285125</td>\n",
       "      <td>2.876276</td>\n",
       "      <td>7.685217</td>\n",
       "      <td>64.443149</td>\n",
       "      <td>1.471799</td>\n",
       "      <td>1.679842</td>\n",
       "    </tr>\n",
       "    <tr>\n",
       "      <th>min</th>\n",
       "      <td>2022.0</td>\n",
       "      <td>1.200000</td>\n",
       "      <td>3.000000</td>\n",
       "      <td>4.000000</td>\n",
       "      <td>3.900000</td>\n",
       "      <td>4.000000</td>\n",
       "      <td>11.000000</td>\n",
       "      <td>94.000000</td>\n",
       "      <td>1.000000</td>\n",
       "      <td>1.000000</td>\n",
       "    </tr>\n",
       "    <tr>\n",
       "      <th>25%</th>\n",
       "      <td>2022.0</td>\n",
       "      <td>2.000000</td>\n",
       "      <td>4.000000</td>\n",
       "      <td>10.200000</td>\n",
       "      <td>7.700000</td>\n",
       "      <td>9.100000</td>\n",
       "      <td>22.000000</td>\n",
       "      <td>213.250000</td>\n",
       "      <td>3.000000</td>\n",
       "      <td>3.000000</td>\n",
       "    </tr>\n",
       "    <tr>\n",
       "      <th>50%</th>\n",
       "      <td>2022.0</td>\n",
       "      <td>3.000000</td>\n",
       "      <td>6.000000</td>\n",
       "      <td>12.200000</td>\n",
       "      <td>9.200000</td>\n",
       "      <td>10.800000</td>\n",
       "      <td>26.000000</td>\n",
       "      <td>257.000000</td>\n",
       "      <td>5.000000</td>\n",
       "      <td>5.000000</td>\n",
       "    </tr>\n",
       "    <tr>\n",
       "      <th>75%</th>\n",
       "      <td>2022.0</td>\n",
       "      <td>3.800000</td>\n",
       "      <td>6.000000</td>\n",
       "      <td>14.700000</td>\n",
       "      <td>10.700000</td>\n",
       "      <td>12.900000</td>\n",
       "      <td>31.000000</td>\n",
       "      <td>300.750000</td>\n",
       "      <td>5.000000</td>\n",
       "      <td>6.000000</td>\n",
       "    </tr>\n",
       "    <tr>\n",
       "      <th>max</th>\n",
       "      <td>2022.0</td>\n",
       "      <td>8.000000</td>\n",
       "      <td>16.000000</td>\n",
       "      <td>30.300000</td>\n",
       "      <td>20.900000</td>\n",
       "      <td>26.100000</td>\n",
       "      <td>71.000000</td>\n",
       "      <td>608.000000</td>\n",
       "      <td>10.000000</td>\n",
       "      <td>7.000000</td>\n",
       "    </tr>\n",
       "  </tbody>\n",
       "</table>\n",
       "</div>"
      ],
      "text/plain": [
       "       Model Year  Engine Size(L)   Cylinders        city  \\\n",
       "count       946.0      946.000000  946.000000  946.000000   \n",
       "mean       2022.0        3.198732    5.668076   12.506448   \n",
       "std           0.0        1.374814    1.932670    3.452043   \n",
       "min        2022.0        1.200000    3.000000    4.000000   \n",
       "25%        2022.0        2.000000    4.000000   10.200000   \n",
       "50%        2022.0        3.000000    6.000000   12.200000   \n",
       "75%        2022.0        3.800000    6.000000   14.700000   \n",
       "max        2022.0        8.000000   16.000000   30.300000   \n",
       "\n",
       "       Fuel Consumption(Hwy (L/100 km))  Fuel Consumption(Comb (L/100 km))  \\\n",
       "count                        946.000000                         946.000000   \n",
       "mean                           9.363319                          11.092072   \n",
       "std                            2.285125                           2.876276   \n",
       "min                            3.900000                           4.000000   \n",
       "25%                            7.700000                           9.100000   \n",
       "50%                            9.200000                          10.800000   \n",
       "75%                           10.700000                          12.900000   \n",
       "max                           20.900000                          26.100000   \n",
       "\n",
       "       Fuel Consumption(Comb (mpg))  CO2 Emissions(g/km)  CO2 Rating  \\\n",
       "count                    946.000000           946.000000  946.000000   \n",
       "mean                      27.247357           259.172304    4.539112   \n",
       "std                        7.685217            64.443149    1.471799   \n",
       "min                       11.000000            94.000000    1.000000   \n",
       "25%                       22.000000           213.250000    3.000000   \n",
       "50%                       26.000000           257.000000    5.000000   \n",
       "75%                       31.000000           300.750000    5.000000   \n",
       "max                       71.000000           608.000000   10.000000   \n",
       "\n",
       "       Smog Rating  \n",
       "count   946.000000  \n",
       "mean      4.950317  \n",
       "std       1.679842  \n",
       "min       1.000000  \n",
       "25%       3.000000  \n",
       "50%       5.000000  \n",
       "75%       6.000000  \n",
       "max       7.000000  "
      ]
     },
     "execution_count": 13,
     "metadata": {},
     "output_type": "execute_result"
    }
   ],
   "source": [
    "df.describe()"
   ]
  },
  {
   "cell_type": "code",
   "execution_count": 14,
   "id": "ce262c46",
   "metadata": {},
   "outputs": [],
   "source": [
    "# Segerating the Object type and Numerical type columns\n",
    "obj=[]\n",
    "num=[]\n",
    "for i in df.columns:\n",
    "    if type(df[i][0])==str:\n",
    "        obj.append(i)\n",
    "    else:\n",
    "        num.append(i) "
   ]
  },
  {
   "cell_type": "code",
   "execution_count": 15,
   "id": "d458fa15",
   "metadata": {
    "scrolled": true
   },
   "outputs": [
    {
     "name": "stdout",
     "output_type": "stream",
     "text": [
      "________________The Object Type Columns_______________\n"
     ]
    },
    {
     "data": {
      "text/plain": [
       "['Make', 'Model', 'Vehicle Class', 'Transmission', 'Fuel Type']"
      ]
     },
     "execution_count": 15,
     "metadata": {},
     "output_type": "execute_result"
    }
   ],
   "source": [
    "print(\"________________The Object Type Columns_______________\")\n",
    "obj"
   ]
  },
  {
   "cell_type": "code",
   "execution_count": 16,
   "id": "421486ba",
   "metadata": {},
   "outputs": [
    {
     "name": "stdout",
     "output_type": "stream",
     "text": [
      "_________________The Int Type Columns___________________\n"
     ]
    },
    {
     "data": {
      "text/plain": [
       "['Model Year',\n",
       " 'Engine Size(L)',\n",
       " 'Cylinders',\n",
       " 'city',\n",
       " 'Fuel Consumption(Hwy (L/100 km))',\n",
       " 'Fuel Consumption(Comb (L/100 km))',\n",
       " 'Fuel Consumption(Comb (mpg))',\n",
       " 'CO2 Emissions(g/km)',\n",
       " 'CO2 Rating',\n",
       " 'Smog Rating']"
      ]
     },
     "execution_count": 16,
     "metadata": {},
     "output_type": "execute_result"
    }
   ],
   "source": [
    "print(\"_________________The Int Type Columns___________________\")\n",
    "num"
   ]
  },
  {
   "cell_type": "markdown",
   "id": "50e8f262",
   "metadata": {},
   "source": [
    "**Let Understand by visualization**"
   ]
  },
  {
   "cell_type": "markdown",
   "id": "49e97ff7",
   "metadata": {},
   "source": [
    "<h6 style=\"color:red\">Make</h6>"
   ]
  },
  {
   "cell_type": "code",
   "execution_count": 17,
   "id": "14d7f791",
   "metadata": {},
   "outputs": [
    {
     "data": {
      "text/plain": [
       "array(['Acura', 'Alfa Romeo', 'Aston Martin', 'Audi', 'Bentley', 'BMW',\n",
       "       'Bugatti', 'Buick', 'Cadillac', 'Chevrolet', 'Chrysler', 'Dodge',\n",
       "       'FIAT', 'Ford', 'Genesis', 'GMC', 'Honda', 'Hyundai', 'Infiniti',\n",
       "       'Jaguar', 'Jeep', 'Kia', 'Lamborghini', 'Land Rover', 'Lexus',\n",
       "       'Lincoln', 'Maserati', 'Mazda', 'Mercedes-Benz', 'MINI',\n",
       "       'Mitsubishi', 'Nissan', 'Porsche', 'Ram', 'Rolls-Royce', 'Subaru',\n",
       "       'Toyota', 'Volkswagen', 'Volvo'], dtype=object)"
      ]
     },
     "execution_count": 17,
     "metadata": {},
     "output_type": "execute_result"
    }
   ],
   "source": [
    "df[\"Make\"].unique()"
   ]
  },
  {
   "cell_type": "code",
   "execution_count": 18,
   "id": "c4f06504",
   "metadata": {},
   "outputs": [
    {
     "data": {
      "text/plain": [
       "8"
      ]
     },
     "execution_count": 18,
     "metadata": {},
     "output_type": "execute_result"
    }
   ],
   "source": [
    "len(df[df[\"Make\"]==\"Acura\"])"
   ]
  },
  {
   "cell_type": "code",
   "execution_count": 19,
   "id": "21af4e6b",
   "metadata": {},
   "outputs": [],
   "source": [
    "Makelen=[]\n",
    "for i in df[\"Make\"].unique():\n",
    "    x=len(df[df[\"Make\"]==i])\n",
    "    Makelen.append(x)"
   ]
  },
  {
   "cell_type": "code",
   "execution_count": 20,
   "id": "ab4ff8ca",
   "metadata": {},
   "outputs": [
    {
     "data": {
      "image/png": "[encoded data removed]",
      "text/plain": [
       "<Figure size 640x640 with 1 Axes>"
      ]
     },
     "metadata": {
      "needs_background": "light"
     },
     "output_type": "display_data"
    }
   ],
   "source": [
    "plt.figure(figsize=(8, 8), dpi=80)\n",
    "plt.scatter(Makelen,df[\"Make\"].unique(),c=\"red\")\n",
    "plt.show()"
   ]
  },
  {
   "cell_type": "markdown",
   "id": "d1979c4d",
   "metadata": {},
   "source": [
    "**Observation :**\n",
    "In our Dataset More vehicles are ford and Less Vehicles are Flat"
   ]
  },
  {
   "cell_type": "markdown",
   "id": "6f7d32a2",
   "metadata": {},
   "source": [
    "<h6 style=\"color:red\">Fuel Type</h6>"
   ]
  },
  {
   "cell_type": "code",
   "execution_count": 21,
   "id": "e3231190",
   "metadata": {},
   "outputs": [
    {
     "data": {
      "text/plain": [
       "array(['Z', 'X', 'D', 'E'], dtype=object)"
      ]
     },
     "execution_count": 21,
     "metadata": {},
     "output_type": "execute_result"
    }
   ],
   "source": [
    "df[\"Fuel Type\"].unique()"
   ]
  },
  {
   "cell_type": "code",
   "execution_count": 22,
   "id": "88d7e160",
   "metadata": {},
   "outputs": [],
   "source": [
    "Fuel=[]\n",
    "for i in df[\"Fuel Type\"].unique():\n",
    "    x=len(df[df[\"Fuel Type\"]==i])\n",
    "    Fuel.append(x)"
   ]
  },
  {
   "cell_type": "code",
   "execution_count": 23,
   "id": "d4971ee0",
   "metadata": {},
   "outputs": [
    {
     "data": {
      "image/png": "[encoded data removed]",
      "text/plain": [
       "<Figure size 432x432 with 1 Axes>"
      ]
     },
     "metadata": {},
     "output_type": "display_data"
    }
   ],
   "source": [
    "plt.figure(figsize=(6, 6))\n",
    "plt.pie(x=Fuel,labels=df[\"Fuel Type\"].unique(),autopct='%1.1f%%')\n",
    "plt.show()"
   ]
  },
  {
   "cell_type": "code",
   "execution_count": 34,
   "id": "b03112c4",
   "metadata": {},
   "outputs": [
    {
     "data": {
      "image/png": "[encoded data removed]",
      "text/plain": [
       "<Figure size 360x360 with 1 Axes>"
      ]
     },
     "metadata": {},
     "output_type": "display_data"
    }
   ],
   "source": [
    "sizes = Fuel\n",
    "labels = df[\"Fuel Type\"].unique()\n",
    " \n",
    "fig1, ax1 = plt.subplots(figsize=(5, 5))\n",
    "fig1.subplots_adjust(0.3, 0, 3, 5)\n",
    " \n",
    "theme = plt.get_cmap('copper')\n",
    "ax1.set_prop_cycle(\"color\", [theme(1. * i / len(sizes))\n",
    "                             for i in range(len(sizes))])\n",
    " \n",
    "_, _ = ax1.pie(sizes, startangle=90, radius=1800)\n",
    " \n",
    "ax1.axis('equal')\n",
    " \n",
    "total = sum(sizes)\n",
    "plt.legend(\n",
    "    loc='upper left',\n",
    "    labels=['%s, %1.1f%%' % (\n",
    "        l, (float(s) / total) * 100)\n",
    "            for l, s in zip(labels, sizes)],\n",
    "    prop={'size': 11},\n",
    "    bbox_to_anchor=(0.0, 1),\n",
    "    bbox_transform=fig1.transFigure\n",
    ")\n",
    " \n",
    "plt.show()"
   ]
  },
  {
   "cell_type": "markdown",
   "id": "a2c26ed6",
   "metadata": {},
   "source": [
    "**Observation**\n",
    "Z Type fuel is higher in dataset"
   ]
  },
  {
   "cell_type": "markdown",
   "id": "00914d23",
   "metadata": {},
   "source": [
    "<h6 style=\"color:red\">Transmission</h6>"
   ]
  },
  {
   "cell_type": "code",
   "execution_count": 25,
   "id": "cdaee128",
   "metadata": {},
   "outputs": [
    {
     "data": {
      "text/plain": [
       "array(['AM8', 'AS10', 'A8', 'A9', 'AM7', 'AS8', 'M6', 'AS6', 'AV', 'AS9',\n",
       "       'A10', 'A6', 'M5', 'M7', 'AV7', 'AV1', 'AM6', 'AS7', 'AV8', 'AV6',\n",
       "       'AV10', 'AS5', 'A7'], dtype=object)"
      ]
     },
     "execution_count": 25,
     "metadata": {},
     "output_type": "execute_result"
    }
   ],
   "source": [
    "df[\"Transmission\"].unique()"
   ]
  },
  {
   "cell_type": "code",
   "execution_count": 26,
   "id": "58344210",
   "metadata": {},
   "outputs": [],
   "source": [
    "Trans=[]\n",
    "for i in df[\"Transmission\"].unique():\n",
    "    x=len(df[df[\"Transmission\"]==i])\n",
    "    Trans.append(x)"
   ]
  },
  {
   "cell_type": "code",
   "execution_count": 27,
   "id": "feb1de45",
   "metadata": {},
   "outputs": [
    {
     "data": {
      "image/png": "[encoded data removed]",
      "text/plain": [
       "<Figure size 360x360 with 1 Axes>"
      ]
     },
     "metadata": {},
     "output_type": "display_data"
    }
   ],
   "source": [
    "sizes = Trans\n",
    "labels = df[\"Transmission\"].unique()\n",
    " \n",
    "fig1, ax1 = plt.subplots(figsize=(5, 5))\n",
    "fig1.subplots_adjust(0.3, 0, 1, 1)\n",
    " \n",
    "theme = plt.get_cmap('hsv')\n",
    "ax1.set_prop_cycle(\"color\", [theme(1. * i / len(sizes))\n",
    "                             for i in range(len(sizes))])\n",
    " \n",
    "_, _ = ax1.pie(sizes, startangle=90, radius=1800)\n",
    " \n",
    "ax1.axis('equal')\n",
    " \n",
    "total = sum(sizes)\n",
    "plt.legend(\n",
    "    loc='upper left',\n",
    "    labels=['%s, %1.1f%%' % (\n",
    "        l, (float(s) / total) * 100)\n",
    "            for l, s in zip(labels, sizes)],\n",
    "    prop={'size': 11},\n",
    "    bbox_to_anchor=(0.0, 1),\n",
    "    bbox_transform=fig1.transFigure\n",
    ")\n",
    " \n",
    "plt.show()"
   ]
  },
  {
   "cell_type": "markdown",
   "id": "62b905c4",
   "metadata": {},
   "source": [
    "**Observation**\n",
    " - A8 Transmission Vehicles are 10.6 and AS10 are 9.2"
   ]
  },
  {
   "cell_type": "markdown",
   "id": "8d465450",
   "metadata": {},
   "source": [
    "<h6 style=\"color:red\">Vehicle Class</h6>"
   ]
  },
  {
   "cell_type": "code",
   "execution_count": 28,
   "id": "48e5fd8b",
   "metadata": {},
   "outputs": [
    {
     "data": {
      "text/plain": [
       "array(['Compact', 'SUV: Small', 'Mid-size', 'Minicompact',\n",
       "       'SUV: Standard', 'Two-seater', 'Subcompact',\n",
       "       'Station wagon: Small', 'Station wagon: Mid-size', 'Full-size',\n",
       "       'Pickup truck: Small', 'Pickup truck: Standard', 'Minivan',\n",
       "       'Special purpose vehicle'], dtype=object)"
      ]
     },
     "execution_count": 28,
     "metadata": {},
     "output_type": "execute_result"
    }
   ],
   "source": [
    "df[\"Vehicle Class\"].unique()"
   ]
  },
  {
   "cell_type": "code",
   "execution_count": 29,
   "id": "7c4ba1f8",
   "metadata": {},
   "outputs": [],
   "source": [
    "Vehclass=[]\n",
    "for i in df[\"Vehicle Class\"].unique():\n",
    "    x=len(df[df[\"Vehicle Class\"]==i])\n",
    "    Vehclass.append(x)"
   ]
  },
  {
   "cell_type": "code",
   "execution_count": 30,
   "id": "a3a4f182",
   "metadata": {},
   "outputs": [
    {
     "data": {
      "image/png": "[encoded data removed]",
      "text/plain": [
       "<Figure size 360x360 with 1 Axes>"
      ]
     },
     "metadata": {},
     "output_type": "display_data"
    }
   ],
   "source": [
    "sizes = Vehclass\n",
    "labels = df[\"Vehicle Class\"].unique()\n",
    " \n",
    "fig1, ax1 = plt.subplots(figsize=(5, 5))\n",
    "fig1.subplots_adjust(0.3, 0, 1, 1)\n",
    " \n",
    "theme = plt.get_cmap('bwr')\n",
    "ax1.set_prop_cycle(\"color\", [theme(1. * i / len(sizes))\n",
    "                             for i in range(len(sizes))])\n",
    " \n",
    "_, _ = ax1.pie(sizes, startangle=90, radius=1800)\n",
    " \n",
    "ax1.axis('equal')\n",
    " \n",
    "total = sum(sizes)\n",
    "plt.legend(\n",
    "    loc='upper right',\n",
    "    labels=['%s, %1.1f%%' % (\n",
    "        l, (float(s) / total) * 100)\n",
    "            for l, s in zip(labels, sizes)],\n",
    "    prop={'size': 11},\n",
    "    bbox_to_anchor=(0.0, 1),\n",
    "    bbox_transform=fig1.transFigure\n",
    ")\n",
    " \n",
    "plt.show()"
   ]
  },
  {
   "cell_type": "markdown",
   "id": "8706d4fa",
   "metadata": {},
   "source": [
    "**Observation**\n",
    "- SUV small are 20.8\n",
    "- SUV standard are 14.9\n",
    "- pickup truck Standard 11.9"
   ]
  },
  {
   "cell_type": "markdown",
   "id": "0d678760",
   "metadata": {},
   "source": [
    "<h6 style=\"color:blue\">Model</h6>"
   ]
  },
  {
   "cell_type": "code",
   "execution_count": 31,
   "id": "5257b607",
   "metadata": {},
   "outputs": [
    {
     "data": {
      "text/plain": [
       "array(['ILX', 'MDX SH-AWD', 'RDX SH-AWD', 'RDX SH-AWD A-SPEC',\n",
       "       'TLX SH-AWD', 'TLX SH-AWD A-SPEC', 'TLX Type S',\n",
       "       'TLX Type S (Performance Tire)', 'Giulia', 'Giulia AWD',\n",
       "       'Giulia Quadrifoglio', 'Stelvio', 'Stelvio AWD',\n",
       "       'Stelvio AWD Quadrifoglio', 'DB11 V8', 'DB11 V12', 'DBS V12',\n",
       "       'DBX V8', 'Vantage V8', 'A3 Sedan 40 TFSI quattro',\n",
       "       'A4 Sedan 40 TFSI quattro', 'A4 Sedan 45 TFSI quattro',\n",
       "       'A4 allroad 45 TFSI quattro', 'A5 Cabriolet 45 TFSI quattro',\n",
       "       'A5 Coupe 45 TFSI quattro', 'A5 Sportback 45 TFSI quattro',\n",
       "       'A6 Sedan 45 TFSI quattro', 'A6 Sedan 55 TFSI quattro',\n",
       "       'A6 allroad 55 TFSI quattro', 'A7 Sportback 55 TFSI quattro',\n",
       "       'A8 L Sedan 55 TFSI quattro', 'Q3 40 TFSI quattro',\n",
       "       'Q3 45 TFSI quattro', 'Q5 40 TFSI quattro', 'Q5 45 TFSI quattro',\n",
       "       'Q5 Sportback 45 TFSI quattro', 'Q7 45 TFSI quattro',\n",
       "       'Q7 55 TFSI quattro', 'Q8 55 TFSI quattro', 'R8 Coupe Performance',\n",
       "       'R8 Coupe Performance quattro', 'R8 Spyder Performance',\n",
       "       'R8 Spyder Performance quattro', 'RS 5 Coupe quattro',\n",
       "       'RS 5 Sportback quattro', 'RS 6 Avant quattro',\n",
       "       'RS 7 Sportback quattro', 'RS Q8 quattro', 'S3 Sedan quattro',\n",
       "       'S4 Sedan quattro', 'S5 Cabriolet quattro', 'S5 Coupe quattro',\n",
       "       'S5 Sportback quattro', 'S6 Sedan quattro', 'S7 Sportback quattro',\n",
       "       'S8 Sedan quattro', 'SQ5 quattro', 'SQ5 Sportback quattro',\n",
       "       'SQ7 quattro', 'SQ8 quattro', 'TT Coupe 45 TFSI quattro',\n",
       "       'TT Roadster 45 TFSI quattro', 'TT RS Coupe quattro',\n",
       "       'TTS Coupe quattro', 'Bentayga', 'Bentayga Speed',\n",
       "       'Continental GT', 'Continental GT Speed',\n",
       "       'Continental GT Convertible', 'Continental GT Convertible Speed',\n",
       "       'Flying Spur', '330i xDrive Sedan', '430i xDrive Cabriolet',\n",
       "       '430i xDrive Coupe', '530i xDrive Sedan', '540i xDrive Sedan',\n",
       "       '750i xDrive Sedan', '750Li xDrive Sedan', 'Alpina B7',\n",
       "       'Alpina B8 Gran Coupe', 'Alpina XB7', 'M235i xDrive Gran Coupe',\n",
       "       'M240i xDrive Coupe', 'M3 Sedan', 'M3 Competition Sedan',\n",
       "       'M3 Competition Sedan M xDrive', 'M340i xDrive Sedan',\n",
       "       'M4 Competition Cabriolet M xDrive', 'M4 Coupe',\n",
       "       'M4 Competition Coupe', 'M4 Competition Coupe M xDrive',\n",
       "       'M440i xDrive Cabriolet', 'M440i xDrive Coupe',\n",
       "       'M440i xDrive Gran Coupe', 'M5 Sedan', 'M5 Competition', 'M5 CS',\n",
       "       'M550i xDrive Sedan', 'M760i xDrive Sedan', 'M8 Cabriolet',\n",
       "       'M8 Cabriolet Competition', 'M8 Coupe', 'M8 Coupe Competition',\n",
       "       'M8 Gran Coupe', 'M8 Gran Coupe Competition',\n",
       "       'M850i xDrive Cabriolet', 'M850i xDrive Coupe',\n",
       "       'M850i xDrive Gran Coupe', 'X1 xDrive28i', 'X2 xDrive28i',\n",
       "       'X2 M35i', 'X3 xDrive30i', 'X3 M', 'X3 M Competition', 'X3 M40i',\n",
       "       'X4 xDrive30i', 'X4 M', 'X4 M Competition', 'X4 M40i',\n",
       "       'X5 xDrive40i', 'X5 M', 'X5 M Competition', 'X5 M50i',\n",
       "       'X6 xDrive40i', 'X6 M', 'X6 M Competition', 'X6 M50i',\n",
       "       'X7 xDrive40i', 'X7 M50i', 'Z4 sDrive30i', 'Z4 M40i', 'Chiron',\n",
       "       'Chiron Pur Sport', 'Chiron Super Sport', 'Enclave', 'Enclave AWD',\n",
       "       'Encore', 'Encore AWD', 'Encore GX', 'Encore GX AWD', 'Envision',\n",
       "       'Envision AWD', 'CT4', 'CT4 AWD', 'CT4-V', 'CT4-V AWD',\n",
       "       'CT4-V Blackwing', 'CT5', 'CT5 AWD', 'CT5-V', 'CT5-V AWD',\n",
       "       'CT5-V Blackwing', 'Escalade 4WD', 'Escalade 4WD (No Stop-Start)',\n",
       "       'XT4', 'XT4 AWD', 'XT5', 'XT5 AWD', 'XT6 AWD', 'Blazer',\n",
       "       'Blazer AWD', 'Camaro', 'Camaro SS', 'Camaro ZL1', 'Colorado',\n",
       "       'Colorado 4WD', 'Colorado ZR2 4WD', 'Corvette', 'Equinox',\n",
       "       'Equinox AWD', 'Malibu', 'Silverado', 'Silverado FFV',\n",
       "       'Silverado 4WD', 'Silverado 4WD Mud Terrain Tire',\n",
       "       'Silverado 4WD (With Sport Mode)', 'Silverado 4WD FFV',\n",
       "       'Silverado 4WD Mud Terrain Tire FFV', 'Silverado 4WD (No DFM)',\n",
       "       'Silverado 4WD (No Stop-Start)',\n",
       "       'Silverado 4WD Mud Terrain Tire (No Stop-Start)',\n",
       "       'Silverado 4WD Mud Terrain Tire (No DFM)',\n",
       "       'Silverado 4WD Custom Trail Boss', 'Silverado 4WD ZR2', 'Spark',\n",
       "       'Suburban', 'Suburban (No Stop-Start)', 'Suburban 4WD',\n",
       "       'Suburban 4WD (No Stop-Start)', 'Tahoe', 'Tahoe (No Stop-Start)',\n",
       "       'Tahoe 4WD', 'Tahoe 4WD (No Stop-Start)', 'Trailblazer',\n",
       "       'Trailblazer AWD', 'Traverse', 'Traverse AWD', 'Trax', 'Trax AWD',\n",
       "       '300', '300 AWD', 'Grand Caravan', 'Pacifica', 'Pacifica AWD',\n",
       "       'Challenger', 'Challenger (MDS)', 'Challenger AWD',\n",
       "       'Challenger Widebody (MDS)', 'Challenger Widebody',\n",
       "       'Challenger SRT Hellcat', 'Challenger SRT Hellcat Widebody',\n",
       "       'Charger', 'Charger (MDS)', 'Charger AWD',\n",
       "       'Charger Widebody (MDS)', 'Charger SRT Hellcat Widebody',\n",
       "       'Durango AWD', 'Durango AWD SRT', '500X AWD', 'Bronco 4WD',\n",
       "       'Bronco Badlands 4WD', 'Bronco Black Diamond 4WD',\n",
       "       'Bronco Sasquatch 4WD', 'Bronco Sport 4WD', 'EcoSport AWD',\n",
       "       'Edge AWD', 'Escape', 'Escape AWD', 'Escape Hybrid',\n",
       "       'Escape Hybrid AWD', 'Expedition 4X4',\n",
       "       'Expedition 4X4 (Without Stop-Start)', 'Expedition Timberline 4X4',\n",
       "       'Expedition Timberline 4X4 (Without Stop-Start)', 'Explorer AWD',\n",
       "       'Explorer AWD (Without Stop-Start)', 'Explorer Timberline AWD',\n",
       "       'Explorer Timberline AWD (Without Stop-Start)',\n",
       "       'Explorer Hybrid AWD', 'F-150', 'F-150 (Without Stop-Start)',\n",
       "       'F-150 FFV', 'F-150 FFV (Without Stop-Start)', 'F-150 4X4',\n",
       "       'F-150 4X4 FFV', 'F-150 4X4 (Without Stop-Start)',\n",
       "       'F-150 4X4 FFV (Without Stop-Start)', 'F-150 Raptor 4X4',\n",
       "       'F-150 Raptor 4X4 (Without Stop-Start)', 'F-150 Raptor 37 4X4',\n",
       "       'F-150 Raptor 37 4X4 (Without Stop-Start)', 'F-150 Tremor 4X4',\n",
       "       'F-150 Tremor 4X4 (Without Stop-Start)', 'F-150 Hybrid',\n",
       "       'F-150 Hybrid 4X4', 'GT', 'Maverick AWD', 'Maverick Hybrid',\n",
       "       'Mustang', 'Mustang (High Performance)', 'Mustang Convertible',\n",
       "       'Mustang Convertible (High Performance)', 'Mustang Mach 1',\n",
       "       'Ranger 4WD', 'Ranger 4WD (Without Stop-Start)',\n",
       "       'Ranger 4WD Tremor', 'Shelby GT500 Mustang', 'Transit Connect Van',\n",
       "       'Transit Connect Van FFV', 'Transit Connect Wagon LWB',\n",
       "       'Transit Connect Wagon LWB FFV', 'G70 AWD', 'G80 AWD', 'G90 AWD',\n",
       "       'GV70 AWD', 'GV80 AWD', 'Acadia', 'Acadia AWD', 'Canyon',\n",
       "       'Canyon 4WD', 'Sierra', 'Sierra FFV', 'Sierra 4WD',\n",
       "       'Sierra 4WD Mud Terrain Tire', 'Sierra 4WD FFV',\n",
       "       'Sierra 4WD Mud Terrain Tire FFV', 'Sierra 4WD (No DFM)',\n",
       "       'Sierra 4WD (With Sport Mode)', 'Sierra 4WD (No Stop-Start)',\n",
       "       'Sierra 4WD Mud Terrain Tire (No DFM)',\n",
       "       'Sierra 4WD Mud Terrain Tire (No Stop-Start)', 'Terrain',\n",
       "       'Terrain AWD', 'Yukon', 'Yukon (No Stop-Start)', 'Yukon 4WD',\n",
       "       'Yukon 4WD (No Stop-Start)', 'Yukon XL',\n",
       "       'Yukon XL (No Stop-Start)', 'Yukon XL 4WD',\n",
       "       'Yukon XL 4WD (No Stop-Start)', 'Accord', 'Accord Sport/Touring',\n",
       "       'Accord Hybrid', 'Accord Hybrid Sport/Touring', 'Civic Hatchback',\n",
       "       'Civic Sedan', 'Civic Sedan Si', 'CR-V', 'CR-V AWD', 'HR-V',\n",
       "       'HR-V AWD', 'Odyssey', 'Passport AWD', 'Pilot AWD',\n",
       "       'Pilot AWD TrailSport', 'Ridgeline AWD', 'Elantra',\n",
       "       'Elantra (ISG)', 'Elantra N', 'Elantra Hybrid Blue', 'IONIQ',\n",
       "       'IONIQ Blue', 'Kona', 'Kona N', 'Kona AWD', 'Palisade AWD',\n",
       "       'Santa Cruz AWD', 'Santa Fe AWD', 'Santa Fe Hybrid', 'Sonata',\n",
       "       'Sonata Hybrid', 'Tucson', 'Tucson AWD', 'Tucson Hybrid',\n",
       "       'Veloster N', 'Venue', 'Q50 AWD', 'Q50 AWD Red Sport', 'Q60 AWD',\n",
       "       'Q60 AWD Red Sport', 'QX50 AWD', 'QX55 AWD', 'QX60 AWD',\n",
       "       'QX80 4WD', 'E-PACE P250', 'E-PACE P300',\n",
       "       'F-TYPE P450 Convertible', 'F-TYPE P450 Convertible AWD',\n",
       "       'F-TYPE P450 Coupe', 'F-TYPE P450 Coupe AWD',\n",
       "       'F-TYPE R Convertible AWD', 'F-TYPE R Coupe AWD', 'Cherokee',\n",
       "       'Cherokee 4X4 Active Drive I', 'Cherokee 4X4 Active Drive Lock',\n",
       "       'Compass', 'Compass 4X4', 'Gladiator 4X4 EcoDiesel',\n",
       "       'Gladiator 4X4 Rubicon EcoDiesel', 'Gladiator 4X4',\n",
       "       'Grand Cherokee 4X4', 'Grand Cherokee L 4X4',\n",
       "       'Grand Cherokee WK 4X4', 'Grand Wagoneer 4X4', 'Renegade',\n",
       "       'Renegade 4X4', 'Renegade 4X4 Trailhawk', 'Wagoneer 4X4',\n",
       "       'Wrangler JL 4X4', 'Wrangler JL 4X4 eTorque',\n",
       "       'Wrangler JL Unlimited 4X4', 'Wrangler JL Unlimited 4X4 EcoDiesel',\n",
       "       'Wrangler JL Unlimited 4X4 Rubicon EcoDiesel',\n",
       "       'Wrangler JL Unlimited 4X4 eTorque', 'Carnival', 'Forte',\n",
       "       'Forte 5', 'K5', 'K5 AWD', 'Niro', 'Niro FE', 'Niro Touring',\n",
       "       'Rio', 'Seltos', 'Seltos AWD', 'Sorento AWD', 'Sorento Hybrid AWD',\n",
       "       'Soul', 'Sportage', 'Sportage AWD', 'Stinger AWD', 'Telluride AWD',\n",
       "       'Aventador Countach', 'Aventador Coupe', 'Aventador Roadster',\n",
       "       'Huracan evo Coupe', 'Huracan evo Coupe AWD', 'Huracan evo Spyder',\n",
       "       'Huracan evo Spyder AWD', 'Urus', 'Defender 90 P300',\n",
       "       'Defender 90 P400', 'Defender 90 5.0L V8', 'Defender 110 P300',\n",
       "       'Defender 110 P400', 'Defender 110 5.0L V8', 'Discovery P300',\n",
       "       'Discovery P360', 'Range Rover P360', 'Range Rover P400',\n",
       "       'Range Rover P525', 'Range Rover P525 LWB',\n",
       "       'Range Rover SVAutobiography', 'Range Rover SVAutobiography LWB',\n",
       "       'Range Rover Sport P360', 'Range Rover Sport HST P400',\n",
       "       'Range Rover Sport P525', 'Range Rover Sport P575 SVR',\n",
       "       'ES 250 AWD', 'ES 300h', 'ES 350', 'ES 350 F SPORT', 'GX 460',\n",
       "       'IS 300', 'IS 300 AWD', 'IS 350 AWD', 'IS 500', 'LC 500',\n",
       "       'LC 500 Convertible', 'LC 500h', 'LS 500 AWD', 'LS 500h AWD',\n",
       "       'LX 600', 'NX 250 AWD', 'NX 350 AWD', 'NX 350 AWD F SPORT',\n",
       "       'NX 350h AWD', 'RC 300 AWD', 'RC 350 AWD', 'RC F', 'RX 350 AWD',\n",
       "       'RX 350 L AWD', 'RX 450h AWD', 'RX 450h L AWD', 'UX 200',\n",
       "       'UX 250h AWD', 'Aviator AWD', 'Corsair AWD', 'Nautilus AWD',\n",
       "       'Navigator 4X4', 'Ghibli GT', 'Ghibli Modena', 'Ghibli Modena AWD',\n",
       "       'Ghibli Trofeo', 'Levante GT', 'Levante Modena',\n",
       "       'Levante Modena V8', 'Levante Trofeo', 'MC20', 'Quattroporte GT',\n",
       "       'Quattroporte Modena', 'Quattroporte Modena AWD',\n",
       "       'Quattroporte Trofeo', 'CX-3', 'CX-3 (SIL)', 'CX-3 4WD',\n",
       "       'CX-30 4WD', 'CX-30 Turbo 4WD', 'CX-5 4WD',\n",
       "       'CX-5 4WD (Cylinder Deactivation)', 'CX-5 Turbo 4WD', 'CX-9 4WD',\n",
       "       'Mazda3 4-Door', 'Mazda3 4-Door (SIL)', 'Mazda3 4-Door 4WD',\n",
       "       'Mazda3 4-Door Turbo 4WD', 'Mazda3 5-Door', 'Mazda3 5-Door (SIL)',\n",
       "       'Mazda3 5-Door 4WD', 'Mazda3 5-Door Turbo 4WD', 'MX-5',\n",
       "       'MX-5 (SIL)', 'A 220 4MATIC Sedan', 'A 250 4MATIC Hatch',\n",
       "       'AMG A 35 4MATIC Sedan', 'AMG A 35 4MATIC Hatch',\n",
       "       'AMG C 43 4MATIC Cabriolet', 'AMG C 43 4MATIC Coupe',\n",
       "       'AMG CLA 35 4MATIC Coupe', 'AMG CLA 45 4MATIC Coupe',\n",
       "       'AMG CLS 53 4MATIC+ Coupe', 'AMG E 53 4MATIC+ Sedan',\n",
       "       'AMG E 53 4MATIC+ Cabriolet', 'AMG E 53 4MATIC+ Coupe',\n",
       "       'AMG GLA 35 4MATIC SUV', 'AMG GLA 45 4MATIC SUV',\n",
       "       'AMG GLB 35 4MATIC SUV', 'AMG GLC 43 4MATIC SUV',\n",
       "       'AMG GLC 43 4MATIC Coupe', 'AMG GLE 53 4MATIC+ SUV',\n",
       "       'AMG GLE 53 4MATIC+ Coupe', 'AMG GT 53 4MATIC+ Coupe',\n",
       "       'C 300 4MATIC Cabriolet', 'C 300 4MATIC Coupe',\n",
       "       'CLA 250 4MATIC Coupe', 'CLS 450 4MATIC Coupe',\n",
       "       'E 350 4MATIC Sedan', 'E 450 4MATIC Sedan',\n",
       "       'E 450 4MATIC Cabriolet', 'E 450 4MATIC Coupe',\n",
       "       'E 450 4MATIC All-Terrain Wagon', 'GLA 250 4MATIC SUV',\n",
       "       'GLB 250 4MATIC SUV', 'GLC 300 4MATIC SUV', 'GLC 300 4MATIC Coupe',\n",
       "       'GLE 350 4MATIC SUV', 'GLE 450 4MATIC SUV', 'GLE 450 4MATIC Coupe',\n",
       "       'GLS 450 4MATIC SUV', 'Maybach S 580 4MATIC Sedan',\n",
       "       'Metris Cargo Van', 'Metris Cargo Van LWB', 'Metris Passenger Van',\n",
       "       'S 500 4MATIC SWB Sedan', 'S 580 4MATIC LWB Sedan',\n",
       "       'Cooper 3 Door', 'Cooper 5 Door', 'Cooper Convertible',\n",
       "       'Cooper Countryman ALL4', 'Cooper S 3 Door', 'Cooper S 5 Door',\n",
       "       'Cooper S Clubman ALL4', 'Cooper S Convertible',\n",
       "       'Cooper S Countryman ALL4', 'John Cooper Works 3 Door',\n",
       "       'John Cooper Works Clubman ALL4', 'John Cooper Works Convertible',\n",
       "       'John Cooper Works Countryman ALL4', 'Eclipse Cross 4WD', 'Mirage',\n",
       "       'Outlander 4WD', 'RVR', 'RVR 4WD', 'Altima AWD',\n",
       "       'Altima AWD SR/Platinum', 'Armada 4WD', 'Frontier', 'Frontier 4WD',\n",
       "       'Kicks', 'Maxima', 'Murano AWD', 'Pathfinder 4WD', 'Qashqai',\n",
       "       'Qashqai AWD', 'Rogue', 'Rogue AWD', 'Rogue AWD SL/Platinum',\n",
       "       'Sentra', 'Sentra SR', 'Versa', '718 Boxster', '718 Boxster T',\n",
       "       '718 Boxster S', '718 Boxster GTS 4.0', '718 Cayman',\n",
       "       '718 Cayman T', '718 Cayman S', '718 Cayman GT4',\n",
       "       '718 Cayman GTS 4.0', '718 Spyder', '911 Carrera',\n",
       "       '911 Carrera Cabriolet', '911 Carrera 4',\n",
       "       '911 Carrera 4 Cabriolet', '911 Carrera S',\n",
       "       '911 Carrera S Cabriolet', '911 Carrera 4S',\n",
       "       '911 Carrera 4S Cabriolet', '911 Carrera GTS',\n",
       "       '911 Carrera GTS Cabriolet', '911 Carrera 4 GTS',\n",
       "       '911 Carrera 4 GTS Cabriolet', '911 GT3', '911 GT3 Touring',\n",
       "       '911 Targa 4', '911 Targa 4S', '911 Targa 4 GTS', '911 Turbo',\n",
       "       '911 Turbo Cabriolet', '911 Turbo S', '911 Turbo S Cabriolet',\n",
       "       'Cayenne', 'Cayenne Coupe', 'Cayenne S', 'Cayenne S Coupe',\n",
       "       'Cayenne GTS', 'Cayenne GTS Coupe', 'Cayenne Turbo',\n",
       "       'Cayenne Turbo Coupe', 'Cayenne Turbo GT', 'Macan', 'Macan S',\n",
       "       'Macan GTS', 'Panamera', 'Panamera 4', 'Panamera 4 Executive',\n",
       "       'Panamera 4 ST', 'Panamera 4S', 'Panamera 4S Executive',\n",
       "       'Panamera 4S ST', 'Panamera GTS', 'Panamera GTS ST',\n",
       "       'Panamera Turbo S', 'Panamera Turbo S Executive',\n",
       "       'Panamera Turbo S ST', '1500 EcoDiesel', '1500 HFE EcoDiesel',\n",
       "       '1500 eTorque', '1500 HFE eTorque', '1500', '1500 4X4 EcoDiesel',\n",
       "       '1500 4X4 eTorque', '1500 4X4', '1500 4X4 TRX', '1500 Classic',\n",
       "       '1500 Classic 4X4', 'ProMaster City', 'Cullinan',\n",
       "       'Cullinan Black Badge', 'Ghost', 'Ghost Black Badge', 'Ghost EWB',\n",
       "       'Phantom', 'Phantom EWB', 'Ascent AWD', 'BRZ', 'Crosstrek AWD',\n",
       "       'Forester AWD', 'Forester Wilderness AWD', 'Impreza 4-Door AWD',\n",
       "       'Impreza 5-Door AWD', 'Legacy AWD', 'Outback AWD',\n",
       "       'Outback Wilderness AWD', 'WRX AWD', '4Runner 4WD',\n",
       "       '4Runner 4WD (Part-Time 4WD) ', 'C-HR', 'Camry LE/SE', 'Camry XSE',\n",
       "       'Camry XSE V6', 'Camry TRD', 'Camry AWD SE', 'Camry AWD XSE',\n",
       "       'Camry Hybrid LE', 'Camry Hybrid SE/XLE/XSE', 'Corolla',\n",
       "       'Corolla XLE', 'Corolla XSE', 'Corolla Apex Edition',\n",
       "       'Corolla Hatchback', 'Corolla Hybrid', 'Corolla Cross',\n",
       "       'Corolla Cross AWD', 'GR 86', 'GR Supra 2.0', 'GR Supra 3.0',\n",
       "       'Highlander AWD', 'Highlander Hybrid AWD',\n",
       "       'Highlander Hybrid AWD Limited/Platinum', 'Prius', 'Prius AWD',\n",
       "       'RAV4', 'RAV4 (Stop/Start)', 'RAV4 AWD', 'RAV4 AWD (Stop/Start)',\n",
       "       'RAV4 AWD LE', 'RAV4 AWD TRD Off-Road', 'RAV4 Hybrid AWD',\n",
       "       'Sequoia 4WD', 'Sienna', 'Sienna AWD', 'Tacoma 4WD',\n",
       "       'Tacoma 4WD D-Cab TRD Off-Road/PRO', 'Tundra', 'Tundra 4WD',\n",
       "       'Tundra 4WD TRD', 'Tundra Hybrid 4WD', 'Tundra Hybrid 4WD TRD PRO',\n",
       "       'Venza AWD', 'Atlas 4MOTION', 'Atlas Cross Sport 4MOTION',\n",
       "       'Golf GTI', 'Golf R', 'Jetta', 'Jetta SE/SEL', 'Jetta GLI',\n",
       "       'Passat', 'Taos', 'Taos 4MOTION', 'Tiguan 4MOTION',\n",
       "       'Tiguan R-Line 4MOTION', 'S60 B5', 'S60 B5 AWD', 'S90 B6 AWD',\n",
       "       'V60 T6 AWD', 'V60 CC T5 AWD', 'V90 CC B6 AWD', 'XC40 T4 AWD',\n",
       "       'XC40 T5 AWD', 'XC60 B5 AWD', 'XC60 B6 AWD', 'XC90 T5 AWD',\n",
       "       'XC90 T6 AWD'], dtype=object)"
      ]
     },
     "execution_count": 31,
     "metadata": {},
     "output_type": "execute_result"
    }
   ],
   "source": [
    "df[\"Model\"].unique()"
   ]
  },
  {
   "cell_type": "code",
   "execution_count": 32,
   "id": "bd29c1a4",
   "metadata": {},
   "outputs": [],
   "source": [
    "Modells=[]\n",
    "for i in df[\"Model\"].unique():\n",
    "    x=len(df[df[\"Model\"]==i])\n",
    "    Modells.append(x)"
   ]
  },
  {
   "cell_type": "code",
   "execution_count": 33,
   "id": "1c0ccc3d",
   "metadata": {},
   "outputs": [
    {
     "ename": "KeyboardInterrupt",
     "evalue": "",
     "output_type": "error",
     "traceback": [
      "\u001b[1;31m---------------------------------------------------------------------------\u001b[0m",
      "\u001b[1;31mKeyboardInterrupt\u001b[0m                         Traceback (most recent call last)",
      "\u001b[1;32m~\\AppData\\Local\\Temp/ipykernel_8556/391196526.py\u001b[0m in \u001b[0;36m<module>\u001b[1;34m\u001b[0m\n\u001b[0;32m     24\u001b[0m )\n\u001b[0;32m     25\u001b[0m \u001b[1;33m\u001b[0m\u001b[0m\n\u001b[1;32m---> 26\u001b[1;33m \u001b[0mplt\u001b[0m\u001b[1;33m.\u001b[0m\u001b[0mshow\u001b[0m\u001b[1;33m(\u001b[0m\u001b[1;33m)\u001b[0m\u001b[1;33m\u001b[0m\u001b[1;33m\u001b[0m\u001b[0m\n\u001b[0m",
      "\u001b[1;32m~\\anaconda3\\TSWARUP\\lib\\site-packages\\matplotlib\\pyplot.py\u001b[0m in \u001b[0;36mshow\u001b[1;34m(*args, **kwargs)\u001b[0m\n\u001b[0;32m    376\u001b[0m     \"\"\"\n\u001b[0;32m    377\u001b[0m     \u001b[0m_warn_if_gui_out_of_main_thread\u001b[0m\u001b[1;33m(\u001b[0m\u001b[1;33m)\u001b[0m\u001b[1;33m\u001b[0m\u001b[1;33m\u001b[0m\u001b[0m\n\u001b[1;32m--> 378\u001b[1;33m     \u001b[1;32mreturn\u001b[0m \u001b[0m_backend_mod\u001b[0m\u001b[1;33m.\u001b[0m\u001b[0mshow\u001b[0m\u001b[1;33m(\u001b[0m\u001b[1;33m*\u001b[0m\u001b[0margs\u001b[0m\u001b[1;33m,\u001b[0m \u001b[1;33m**\u001b[0m\u001b[0mkwargs\u001b[0m\u001b[1;33m)\u001b[0m\u001b[1;33m\u001b[0m\u001b[1;33m\u001b[0m\u001b[0m\n\u001b[0m\u001b[0;32m    379\u001b[0m \u001b[1;33m\u001b[0m\u001b[0m\n\u001b[0;32m    380\u001b[0m \u001b[1;33m\u001b[0m\u001b[0m\n",
      "\u001b[1;32m~\\anaconda3\\TSWARUP\\lib\\site-packages\\matplotlib_inline\\backend_inline.py\u001b[0m in \u001b[0;36mshow\u001b[1;34m(close, block)\u001b[0m\n\u001b[0;32m     39\u001b[0m     \u001b[1;32mtry\u001b[0m\u001b[1;33m:\u001b[0m\u001b[1;33m\u001b[0m\u001b[1;33m\u001b[0m\u001b[0m\n\u001b[0;32m     40\u001b[0m         \u001b[1;32mfor\u001b[0m \u001b[0mfigure_manager\u001b[0m \u001b[1;32min\u001b[0m \u001b[0mGcf\u001b[0m\u001b[1;33m.\u001b[0m\u001b[0mget_all_fig_managers\u001b[0m\u001b[1;33m(\u001b[0m\u001b[1;33m)\u001b[0m\u001b[1;33m:\u001b[0m\u001b[1;33m\u001b[0m\u001b[1;33m\u001b[0m\u001b[0m\n\u001b[1;32m---> 41\u001b[1;33m             display(\n\u001b[0m\u001b[0;32m     42\u001b[0m                 \u001b[0mfigure_manager\u001b[0m\u001b[1;33m.\u001b[0m\u001b[0mcanvas\u001b[0m\u001b[1;33m.\u001b[0m\u001b[0mfigure\u001b[0m\u001b[1;33m,\u001b[0m\u001b[1;33m\u001b[0m\u001b[1;33m\u001b[0m\u001b[0m\n\u001b[0;32m     43\u001b[0m                 \u001b[0mmetadata\u001b[0m\u001b[1;33m=\u001b[0m\u001b[0m_fetch_figure_metadata\u001b[0m\u001b[1;33m(\u001b[0m\u001b[0mfigure_manager\u001b[0m\u001b[1;33m.\u001b[0m\u001b[0mcanvas\u001b[0m\u001b[1;33m.\u001b[0m\u001b[0mfigure\u001b[0m\u001b[1;33m)\u001b[0m\u001b[1;33m\u001b[0m\u001b[1;33m\u001b[0m\u001b[0m\n",
      "\u001b[1;32m~\\anaconda3\\TSWARUP\\lib\\site-packages\\IPython\\core\\display.py\u001b[0m in \u001b[0;36mdisplay\u001b[1;34m(include, exclude, metadata, transient, display_id, *objs, **kwargs)\u001b[0m\n\u001b[0;32m    318\u001b[0m             \u001b[0mpublish_display_data\u001b[0m\u001b[1;33m(\u001b[0m\u001b[0mdata\u001b[0m\u001b[1;33m=\u001b[0m\u001b[0mobj\u001b[0m\u001b[1;33m,\u001b[0m \u001b[0mmetadata\u001b[0m\u001b[1;33m=\u001b[0m\u001b[0mmetadata\u001b[0m\u001b[1;33m,\u001b[0m \u001b[1;33m**\u001b[0m\u001b[0mkwargs\u001b[0m\u001b[1;33m)\u001b[0m\u001b[1;33m\u001b[0m\u001b[1;33m\u001b[0m\u001b[0m\n\u001b[0;32m    319\u001b[0m         \u001b[1;32melse\u001b[0m\u001b[1;33m:\u001b[0m\u001b[1;33m\u001b[0m\u001b[1;33m\u001b[0m\u001b[0m\n\u001b[1;32m--> 320\u001b[1;33m             \u001b[0mformat_dict\u001b[0m\u001b[1;33m,\u001b[0m \u001b[0mmd_dict\u001b[0m \u001b[1;33m=\u001b[0m \u001b[0mformat\u001b[0m\u001b[1;33m(\u001b[0m\u001b[0mobj\u001b[0m\u001b[1;33m,\u001b[0m \u001b[0minclude\u001b[0m\u001b[1;33m=\u001b[0m\u001b[0minclude\u001b[0m\u001b[1;33m,\u001b[0m \u001b[0mexclude\u001b[0m\u001b[1;33m=\u001b[0m\u001b[0mexclude\u001b[0m\u001b[1;33m)\u001b[0m\u001b[1;33m\u001b[0m\u001b[1;33m\u001b[0m\u001b[0m\n\u001b[0m\u001b[0;32m    321\u001b[0m             \u001b[1;32mif\u001b[0m \u001b[1;32mnot\u001b[0m \u001b[0mformat_dict\u001b[0m\u001b[1;33m:\u001b[0m\u001b[1;33m\u001b[0m\u001b[1;33m\u001b[0m\u001b[0m\n\u001b[0;32m    322\u001b[0m                 \u001b[1;31m# nothing to display (e.g. _ipython_display_ took over)\u001b[0m\u001b[1;33m\u001b[0m\u001b[1;33m\u001b[0m\u001b[0m\n",
      "\u001b[1;32m~\\anaconda3\\TSWARUP\\lib\\site-packages\\IPython\\core\\formatters.py\u001b[0m in \u001b[0;36mformat\u001b[1;34m(self, obj, include, exclude)\u001b[0m\n\u001b[0;32m    178\u001b[0m             \u001b[0mmd\u001b[0m \u001b[1;33m=\u001b[0m \u001b[1;32mNone\u001b[0m\u001b[1;33m\u001b[0m\u001b[1;33m\u001b[0m\u001b[0m\n\u001b[0;32m    179\u001b[0m             \u001b[1;32mtry\u001b[0m\u001b[1;33m:\u001b[0m\u001b[1;33m\u001b[0m\u001b[1;33m\u001b[0m\u001b[0m\n\u001b[1;32m--> 180\u001b[1;33m                 \u001b[0mdata\u001b[0m \u001b[1;33m=\u001b[0m \u001b[0mformatter\u001b[0m\u001b[1;33m(\u001b[0m\u001b[0mobj\u001b[0m\u001b[1;33m)\u001b[0m\u001b[1;33m\u001b[0m\u001b[1;33m\u001b[0m\u001b[0m\n\u001b[0m\u001b[0;32m    181\u001b[0m             \u001b[1;32mexcept\u001b[0m\u001b[1;33m:\u001b[0m\u001b[1;33m\u001b[0m\u001b[1;33m\u001b[0m\u001b[0m\n\u001b[0;32m    182\u001b[0m                 \u001b[1;31m# FIXME: log the exception\u001b[0m\u001b[1;33m\u001b[0m\u001b[1;33m\u001b[0m\u001b[0m\n",
      "\u001b[1;32m~\\anaconda3\\TSWARUP\\lib\\site-packages\\decorator.py\u001b[0m in \u001b[0;36mfun\u001b[1;34m(*args, **kw)\u001b[0m\n\u001b[0;32m    230\u001b[0m             \u001b[1;32mif\u001b[0m \u001b[1;32mnot\u001b[0m \u001b[0mkwsyntax\u001b[0m\u001b[1;33m:\u001b[0m\u001b[1;33m\u001b[0m\u001b[1;33m\u001b[0m\u001b[0m\n\u001b[0;32m    231\u001b[0m                 \u001b[0margs\u001b[0m\u001b[1;33m,\u001b[0m \u001b[0mkw\u001b[0m \u001b[1;33m=\u001b[0m \u001b[0mfix\u001b[0m\u001b[1;33m(\u001b[0m\u001b[0margs\u001b[0m\u001b[1;33m,\u001b[0m \u001b[0mkw\u001b[0m\u001b[1;33m,\u001b[0m \u001b[0msig\u001b[0m\u001b[1;33m)\u001b[0m\u001b[1;33m\u001b[0m\u001b[1;33m\u001b[0m\u001b[0m\n\u001b[1;32m--> 232\u001b[1;33m             \u001b[1;32mreturn\u001b[0m \u001b[0mcaller\u001b[0m\u001b[1;33m(\u001b[0m\u001b[0mfunc\u001b[0m\u001b[1;33m,\u001b[0m \u001b[1;33m*\u001b[0m\u001b[1;33m(\u001b[0m\u001b[0mextras\u001b[0m \u001b[1;33m+\u001b[0m \u001b[0margs\u001b[0m\u001b[1;33m)\u001b[0m\u001b[1;33m,\u001b[0m \u001b[1;33m**\u001b[0m\u001b[0mkw\u001b[0m\u001b[1;33m)\u001b[0m\u001b[1;33m\u001b[0m\u001b[1;33m\u001b[0m\u001b[0m\n\u001b[0m\u001b[0;32m    233\u001b[0m     \u001b[0mfun\u001b[0m\u001b[1;33m.\u001b[0m\u001b[0m__name__\u001b[0m \u001b[1;33m=\u001b[0m \u001b[0mfunc\u001b[0m\u001b[1;33m.\u001b[0m\u001b[0m__name__\u001b[0m\u001b[1;33m\u001b[0m\u001b[1;33m\u001b[0m\u001b[0m\n\u001b[0;32m    234\u001b[0m     \u001b[0mfun\u001b[0m\u001b[1;33m.\u001b[0m\u001b[0m__doc__\u001b[0m \u001b[1;33m=\u001b[0m \u001b[0mfunc\u001b[0m\u001b[1;33m.\u001b[0m\u001b[0m__doc__\u001b[0m\u001b[1;33m\u001b[0m\u001b[1;33m\u001b[0m\u001b[0m\n",
      "\u001b[1;32m~\\anaconda3\\TSWARUP\\lib\\site-packages\\IPython\\core\\formatters.py\u001b[0m in \u001b[0;36mcatch_format_error\u001b[1;34m(method, self, *args, **kwargs)\u001b[0m\n\u001b[0;32m    222\u001b[0m     \u001b[1;34m\"\"\"show traceback on failed format call\"\"\"\u001b[0m\u001b[1;33m\u001b[0m\u001b[1;33m\u001b[0m\u001b[0m\n\u001b[0;32m    223\u001b[0m     \u001b[1;32mtry\u001b[0m\u001b[1;33m:\u001b[0m\u001b[1;33m\u001b[0m\u001b[1;33m\u001b[0m\u001b[0m\n\u001b[1;32m--> 224\u001b[1;33m         \u001b[0mr\u001b[0m \u001b[1;33m=\u001b[0m \u001b[0mmethod\u001b[0m\u001b[1;33m(\u001b[0m\u001b[0mself\u001b[0m\u001b[1;33m,\u001b[0m \u001b[1;33m*\u001b[0m\u001b[0margs\u001b[0m\u001b[1;33m,\u001b[0m \u001b[1;33m**\u001b[0m\u001b[0mkwargs\u001b[0m\u001b[1;33m)\u001b[0m\u001b[1;33m\u001b[0m\u001b[1;33m\u001b[0m\u001b[0m\n\u001b[0m\u001b[0;32m    225\u001b[0m     \u001b[1;32mexcept\u001b[0m \u001b[0mNotImplementedError\u001b[0m\u001b[1;33m:\u001b[0m\u001b[1;33m\u001b[0m\u001b[1;33m\u001b[0m\u001b[0m\n\u001b[0;32m    226\u001b[0m         \u001b[1;31m# don't warn on NotImplementedErrors\u001b[0m\u001b[1;33m\u001b[0m\u001b[1;33m\u001b[0m\u001b[0m\n",
      "\u001b[1;32m~\\anaconda3\\TSWARUP\\lib\\site-packages\\IPython\\core\\formatters.py\u001b[0m in \u001b[0;36m__call__\u001b[1;34m(self, obj)\u001b[0m\n\u001b[0;32m    339\u001b[0m                 \u001b[1;32mpass\u001b[0m\u001b[1;33m\u001b[0m\u001b[1;33m\u001b[0m\u001b[0m\n\u001b[0;32m    340\u001b[0m             \u001b[1;32melse\u001b[0m\u001b[1;33m:\u001b[0m\u001b[1;33m\u001b[0m\u001b[1;33m\u001b[0m\u001b[0m\n\u001b[1;32m--> 341\u001b[1;33m                 \u001b[1;32mreturn\u001b[0m \u001b[0mprinter\u001b[0m\u001b[1;33m(\u001b[0m\u001b[0mobj\u001b[0m\u001b[1;33m)\u001b[0m\u001b[1;33m\u001b[0m\u001b[1;33m\u001b[0m\u001b[0m\n\u001b[0m\u001b[0;32m    342\u001b[0m             \u001b[1;31m# Finally look for special method names\u001b[0m\u001b[1;33m\u001b[0m\u001b[1;33m\u001b[0m\u001b[0m\n\u001b[0;32m    343\u001b[0m             \u001b[0mmethod\u001b[0m \u001b[1;33m=\u001b[0m \u001b[0mget_real_method\u001b[0m\u001b[1;33m(\u001b[0m\u001b[0mobj\u001b[0m\u001b[1;33m,\u001b[0m \u001b[0mself\u001b[0m\u001b[1;33m.\u001b[0m\u001b[0mprint_method\u001b[0m\u001b[1;33m)\u001b[0m\u001b[1;33m\u001b[0m\u001b[1;33m\u001b[0m\u001b[0m\n",
      "\u001b[1;32m~\\anaconda3\\TSWARUP\\lib\\site-packages\\IPython\\core\\pylabtools.py\u001b[0m in \u001b[0;36mprint_figure\u001b[1;34m(fig, fmt, bbox_inches, base64, **kwargs)\u001b[0m\n\u001b[0;32m    149\u001b[0m         \u001b[0mFigureCanvasBase\u001b[0m\u001b[1;33m(\u001b[0m\u001b[0mfig\u001b[0m\u001b[1;33m)\u001b[0m\u001b[1;33m\u001b[0m\u001b[1;33m\u001b[0m\u001b[0m\n\u001b[0;32m    150\u001b[0m \u001b[1;33m\u001b[0m\u001b[0m\n\u001b[1;32m--> 151\u001b[1;33m     \u001b[0mfig\u001b[0m\u001b[1;33m.\u001b[0m\u001b[0mcanvas\u001b[0m\u001b[1;33m.\u001b[0m\u001b[0mprint_figure\u001b[0m\u001b[1;33m(\u001b[0m\u001b[0mbytes_io\u001b[0m\u001b[1;33m,\u001b[0m \u001b[1;33m**\u001b[0m\u001b[0mkw\u001b[0m\u001b[1;33m)\u001b[0m\u001b[1;33m\u001b[0m\u001b[1;33m\u001b[0m\u001b[0m\n\u001b[0m\u001b[0;32m    152\u001b[0m     \u001b[0mdata\u001b[0m \u001b[1;33m=\u001b[0m \u001b[0mbytes_io\u001b[0m\u001b[1;33m.\u001b[0m\u001b[0mgetvalue\u001b[0m\u001b[1;33m(\u001b[0m\u001b[1;33m)\u001b[0m\u001b[1;33m\u001b[0m\u001b[1;33m\u001b[0m\u001b[0m\n\u001b[0;32m    153\u001b[0m     \u001b[1;32mif\u001b[0m \u001b[0mfmt\u001b[0m \u001b[1;33m==\u001b[0m \u001b[1;34m'svg'\u001b[0m\u001b[1;33m:\u001b[0m\u001b[1;33m\u001b[0m\u001b[1;33m\u001b[0m\u001b[0m\n",
      "\u001b[1;32m~\\anaconda3\\TSWARUP\\lib\\site-packages\\matplotlib\\backend_bases.py\u001b[0m in \u001b[0;36mprint_figure\u001b[1;34m(self, filename, dpi, facecolor, edgecolor, orientation, format, bbox_inches, pad_inches, bbox_extra_artists, backend, **kwargs)\u001b[0m\n\u001b[0;32m   2232\u001b[0m             \u001b[1;32mif\u001b[0m \u001b[0mbbox_inches\u001b[0m\u001b[1;33m:\u001b[0m\u001b[1;33m\u001b[0m\u001b[1;33m\u001b[0m\u001b[0m\n\u001b[0;32m   2233\u001b[0m                 \u001b[1;32mif\u001b[0m \u001b[0mbbox_inches\u001b[0m \u001b[1;33m==\u001b[0m \u001b[1;34m\"tight\"\u001b[0m\u001b[1;33m:\u001b[0m\u001b[1;33m\u001b[0m\u001b[1;33m\u001b[0m\u001b[0m\n\u001b[1;32m-> 2234\u001b[1;33m                     bbox_inches = self.figure.get_tightbbox(\n\u001b[0m\u001b[0;32m   2235\u001b[0m                         renderer, bbox_extra_artists=bbox_extra_artists)\n\u001b[0;32m   2236\u001b[0m                     \u001b[1;32mif\u001b[0m \u001b[0mpad_inches\u001b[0m \u001b[1;32mis\u001b[0m \u001b[1;32mNone\u001b[0m\u001b[1;33m:\u001b[0m\u001b[1;33m\u001b[0m\u001b[1;33m\u001b[0m\u001b[0m\n",
      "\u001b[1;32m~\\anaconda3\\TSWARUP\\lib\\site-packages\\matplotlib\\figure.py\u001b[0m in \u001b[0;36mget_tightbbox\u001b[1;34m(self, renderer, bbox_extra_artists)\u001b[0m\n\u001b[0;32m   1637\u001b[0m \u001b[1;33m\u001b[0m\u001b[0m\n\u001b[0;32m   1638\u001b[0m         \u001b[1;32mfor\u001b[0m \u001b[0ma\u001b[0m \u001b[1;32min\u001b[0m \u001b[0martists\u001b[0m\u001b[1;33m:\u001b[0m\u001b[1;33m\u001b[0m\u001b[1;33m\u001b[0m\u001b[0m\n\u001b[1;32m-> 1639\u001b[1;33m             \u001b[0mbbox\u001b[0m \u001b[1;33m=\u001b[0m \u001b[0ma\u001b[0m\u001b[1;33m.\u001b[0m\u001b[0mget_tightbbox\u001b[0m\u001b[1;33m(\u001b[0m\u001b[0mrenderer\u001b[0m\u001b[1;33m)\u001b[0m\u001b[1;33m\u001b[0m\u001b[1;33m\u001b[0m\u001b[0m\n\u001b[0m\u001b[0;32m   1640\u001b[0m             \u001b[1;32mif\u001b[0m \u001b[0mbbox\u001b[0m \u001b[1;32mis\u001b[0m \u001b[1;32mnot\u001b[0m \u001b[1;32mNone\u001b[0m \u001b[1;32mand\u001b[0m \u001b[1;33m(\u001b[0m\u001b[0mbbox\u001b[0m\u001b[1;33m.\u001b[0m\u001b[0mwidth\u001b[0m \u001b[1;33m!=\u001b[0m \u001b[1;36m0\u001b[0m \u001b[1;32mor\u001b[0m \u001b[0mbbox\u001b[0m\u001b[1;33m.\u001b[0m\u001b[0mheight\u001b[0m \u001b[1;33m!=\u001b[0m \u001b[1;36m0\u001b[0m\u001b[1;33m)\u001b[0m\u001b[1;33m:\u001b[0m\u001b[1;33m\u001b[0m\u001b[1;33m\u001b[0m\u001b[0m\n\u001b[0;32m   1641\u001b[0m                 \u001b[0mbb\u001b[0m\u001b[1;33m.\u001b[0m\u001b[0mappend\u001b[0m\u001b[1;33m(\u001b[0m\u001b[0mbbox\u001b[0m\u001b[1;33m)\u001b[0m\u001b[1;33m\u001b[0m\u001b[1;33m\u001b[0m\u001b[0m\n",
      "\u001b[1;32m~\\anaconda3\\TSWARUP\\lib\\site-packages\\matplotlib\\legend.py\u001b[0m in \u001b[0;36mget_tightbbox\u001b[1;34m(self, renderer)\u001b[0m\n\u001b[0;32m    909\u001b[0m             \u001b[0mThe\u001b[0m \u001b[0mbounding\u001b[0m \u001b[0mbox\u001b[0m \u001b[1;32min\u001b[0m \u001b[0mfigure\u001b[0m \u001b[0mpixel\u001b[0m \u001b[0mcoordinates\u001b[0m\u001b[1;33m.\u001b[0m\u001b[1;33m\u001b[0m\u001b[1;33m\u001b[0m\u001b[0m\n\u001b[0;32m    910\u001b[0m         \"\"\"\n\u001b[1;32m--> 911\u001b[1;33m         \u001b[1;32mreturn\u001b[0m \u001b[0mself\u001b[0m\u001b[1;33m.\u001b[0m\u001b[0m_legend_box\u001b[0m\u001b[1;33m.\u001b[0m\u001b[0mget_window_extent\u001b[0m\u001b[1;33m(\u001b[0m\u001b[0mrenderer\u001b[0m\u001b[1;33m)\u001b[0m\u001b[1;33m\u001b[0m\u001b[1;33m\u001b[0m\u001b[0m\n\u001b[0m\u001b[0;32m    912\u001b[0m \u001b[1;33m\u001b[0m\u001b[0m\n\u001b[0;32m    913\u001b[0m     \u001b[1;32mdef\u001b[0m \u001b[0mget_frame_on\u001b[0m\u001b[1;33m(\u001b[0m\u001b[0mself\u001b[0m\u001b[1;33m)\u001b[0m\u001b[1;33m:\u001b[0m\u001b[1;33m\u001b[0m\u001b[1;33m\u001b[0m\u001b[0m\n",
      "\u001b[1;32m~\\anaconda3\\TSWARUP\\lib\\site-packages\\matplotlib\\offsetbox.py\u001b[0m in \u001b[0;36mget_window_extent\u001b[1;34m(self, renderer)\u001b[0m\n\u001b[0;32m    350\u001b[0m     \u001b[1;32mdef\u001b[0m \u001b[0mget_window_extent\u001b[0m\u001b[1;33m(\u001b[0m\u001b[0mself\u001b[0m\u001b[1;33m,\u001b[0m \u001b[0mrenderer\u001b[0m\u001b[1;33m)\u001b[0m\u001b[1;33m:\u001b[0m\u001b[1;33m\u001b[0m\u001b[1;33m\u001b[0m\u001b[0m\n\u001b[0;32m    351\u001b[0m         \u001b[1;34m\"\"\"Return the bounding box (`.Bbox`) in display space.\"\"\"\u001b[0m\u001b[1;33m\u001b[0m\u001b[1;33m\u001b[0m\u001b[0m\n\u001b[1;32m--> 352\u001b[1;33m         \u001b[0mw\u001b[0m\u001b[1;33m,\u001b[0m \u001b[0mh\u001b[0m\u001b[1;33m,\u001b[0m \u001b[0mxd\u001b[0m\u001b[1;33m,\u001b[0m \u001b[0myd\u001b[0m\u001b[1;33m,\u001b[0m \u001b[0moffsets\u001b[0m \u001b[1;33m=\u001b[0m \u001b[0mself\u001b[0m\u001b[1;33m.\u001b[0m\u001b[0mget_extent_offsets\u001b[0m\u001b[1;33m(\u001b[0m\u001b[0mrenderer\u001b[0m\u001b[1;33m)\u001b[0m\u001b[1;33m\u001b[0m\u001b[1;33m\u001b[0m\u001b[0m\n\u001b[0m\u001b[0;32m    353\u001b[0m         \u001b[0mpx\u001b[0m\u001b[1;33m,\u001b[0m \u001b[0mpy\u001b[0m \u001b[1;33m=\u001b[0m \u001b[0mself\u001b[0m\u001b[1;33m.\u001b[0m\u001b[0mget_offset\u001b[0m\u001b[1;33m(\u001b[0m\u001b[0mw\u001b[0m\u001b[1;33m,\u001b[0m \u001b[0mh\u001b[0m\u001b[1;33m,\u001b[0m \u001b[0mxd\u001b[0m\u001b[1;33m,\u001b[0m \u001b[0myd\u001b[0m\u001b[1;33m,\u001b[0m \u001b[0mrenderer\u001b[0m\u001b[1;33m)\u001b[0m\u001b[1;33m\u001b[0m\u001b[1;33m\u001b[0m\u001b[0m\n\u001b[0;32m    354\u001b[0m         \u001b[1;32mreturn\u001b[0m \u001b[0mmtransforms\u001b[0m\u001b[1;33m.\u001b[0m\u001b[0mBbox\u001b[0m\u001b[1;33m.\u001b[0m\u001b[0mfrom_bounds\u001b[0m\u001b[1;33m(\u001b[0m\u001b[0mpx\u001b[0m \u001b[1;33m-\u001b[0m \u001b[0mxd\u001b[0m\u001b[1;33m,\u001b[0m \u001b[0mpy\u001b[0m \u001b[1;33m-\u001b[0m \u001b[0myd\u001b[0m\u001b[1;33m,\u001b[0m \u001b[0mw\u001b[0m\u001b[1;33m,\u001b[0m \u001b[0mh\u001b[0m\u001b[1;33m)\u001b[0m\u001b[1;33m\u001b[0m\u001b[1;33m\u001b[0m\u001b[0m\n",
      "\u001b[1;32m~\\anaconda3\\TSWARUP\\lib\\site-packages\\matplotlib\\offsetbox.py\u001b[0m in \u001b[0;36mget_extent_offsets\u001b[1;34m(self, renderer)\u001b[0m\n\u001b[0;32m    436\u001b[0m                     \u001b[0mc\u001b[0m\u001b[1;33m.\u001b[0m\u001b[0mset_width\u001b[0m\u001b[1;33m(\u001b[0m\u001b[0mself\u001b[0m\u001b[1;33m.\u001b[0m\u001b[0mwidth\u001b[0m\u001b[1;33m)\u001b[0m\u001b[1;33m\u001b[0m\u001b[1;33m\u001b[0m\u001b[0m\n\u001b[0;32m    437\u001b[0m \u001b[1;33m\u001b[0m\u001b[0m\n\u001b[1;32m--> 438\u001b[1;33m         whd_list = [c.get_extent(renderer)\n\u001b[0m\u001b[0;32m    439\u001b[0m                     for c in self.get_visible_children()]\n\u001b[0;32m    440\u001b[0m         \u001b[0mwhd_list\u001b[0m \u001b[1;33m=\u001b[0m \u001b[1;33m[\u001b[0m\u001b[1;33m(\u001b[0m\u001b[0mw\u001b[0m\u001b[1;33m,\u001b[0m \u001b[0mh\u001b[0m\u001b[1;33m,\u001b[0m \u001b[0mxd\u001b[0m\u001b[1;33m,\u001b[0m \u001b[1;33m(\u001b[0m\u001b[0mh\u001b[0m \u001b[1;33m-\u001b[0m \u001b[0myd\u001b[0m\u001b[1;33m)\u001b[0m\u001b[1;33m)\u001b[0m \u001b[1;32mfor\u001b[0m \u001b[0mw\u001b[0m\u001b[1;33m,\u001b[0m \u001b[0mh\u001b[0m\u001b[1;33m,\u001b[0m \u001b[0mxd\u001b[0m\u001b[1;33m,\u001b[0m \u001b[0myd\u001b[0m \u001b[1;32min\u001b[0m \u001b[0mwhd_list\u001b[0m\u001b[1;33m]\u001b[0m\u001b[1;33m\u001b[0m\u001b[1;33m\u001b[0m\u001b[0m\n",
      "\u001b[1;32m~\\anaconda3\\TSWARUP\\lib\\site-packages\\matplotlib\\offsetbox.py\u001b[0m in \u001b[0;36m<listcomp>\u001b[1;34m(.0)\u001b[0m\n\u001b[0;32m    436\u001b[0m                     \u001b[0mc\u001b[0m\u001b[1;33m.\u001b[0m\u001b[0mset_width\u001b[0m\u001b[1;33m(\u001b[0m\u001b[0mself\u001b[0m\u001b[1;33m.\u001b[0m\u001b[0mwidth\u001b[0m\u001b[1;33m)\u001b[0m\u001b[1;33m\u001b[0m\u001b[1;33m\u001b[0m\u001b[0m\n\u001b[0;32m    437\u001b[0m \u001b[1;33m\u001b[0m\u001b[0m\n\u001b[1;32m--> 438\u001b[1;33m         whd_list = [c.get_extent(renderer)\n\u001b[0m\u001b[0;32m    439\u001b[0m                     for c in self.get_visible_children()]\n\u001b[0;32m    440\u001b[0m         \u001b[0mwhd_list\u001b[0m \u001b[1;33m=\u001b[0m \u001b[1;33m[\u001b[0m\u001b[1;33m(\u001b[0m\u001b[0mw\u001b[0m\u001b[1;33m,\u001b[0m \u001b[0mh\u001b[0m\u001b[1;33m,\u001b[0m \u001b[0mxd\u001b[0m\u001b[1;33m,\u001b[0m \u001b[1;33m(\u001b[0m\u001b[0mh\u001b[0m \u001b[1;33m-\u001b[0m \u001b[0myd\u001b[0m\u001b[1;33m)\u001b[0m\u001b[1;33m)\u001b[0m \u001b[1;32mfor\u001b[0m \u001b[0mw\u001b[0m\u001b[1;33m,\u001b[0m \u001b[0mh\u001b[0m\u001b[1;33m,\u001b[0m \u001b[0mxd\u001b[0m\u001b[1;33m,\u001b[0m \u001b[0myd\u001b[0m \u001b[1;32min\u001b[0m \u001b[0mwhd_list\u001b[0m\u001b[1;33m]\u001b[0m\u001b[1;33m\u001b[0m\u001b[1;33m\u001b[0m\u001b[0m\n",
      "\u001b[1;32m~\\anaconda3\\TSWARUP\\lib\\site-packages\\matplotlib\\offsetbox.py\u001b[0m in \u001b[0;36mget_extent\u001b[1;34m(self, renderer)\u001b[0m\n\u001b[0;32m    345\u001b[0m     \u001b[1;32mdef\u001b[0m \u001b[0mget_extent\u001b[0m\u001b[1;33m(\u001b[0m\u001b[0mself\u001b[0m\u001b[1;33m,\u001b[0m \u001b[0mrenderer\u001b[0m\u001b[1;33m)\u001b[0m\u001b[1;33m:\u001b[0m\u001b[1;33m\u001b[0m\u001b[1;33m\u001b[0m\u001b[0m\n\u001b[0;32m    346\u001b[0m         \u001b[1;34m\"\"\"Return a tuple ``width, height, xdescent, ydescent`` of the box.\"\"\"\u001b[0m\u001b[1;33m\u001b[0m\u001b[1;33m\u001b[0m\u001b[0m\n\u001b[1;32m--> 347\u001b[1;33m         \u001b[0mw\u001b[0m\u001b[1;33m,\u001b[0m \u001b[0mh\u001b[0m\u001b[1;33m,\u001b[0m \u001b[0mxd\u001b[0m\u001b[1;33m,\u001b[0m \u001b[0myd\u001b[0m\u001b[1;33m,\u001b[0m \u001b[0moffsets\u001b[0m \u001b[1;33m=\u001b[0m \u001b[0mself\u001b[0m\u001b[1;33m.\u001b[0m\u001b[0mget_extent_offsets\u001b[0m\u001b[1;33m(\u001b[0m\u001b[0mrenderer\u001b[0m\u001b[1;33m)\u001b[0m\u001b[1;33m\u001b[0m\u001b[1;33m\u001b[0m\u001b[0m\n\u001b[0m\u001b[0;32m    348\u001b[0m         \u001b[1;32mreturn\u001b[0m \u001b[0mw\u001b[0m\u001b[1;33m,\u001b[0m \u001b[0mh\u001b[0m\u001b[1;33m,\u001b[0m \u001b[0mxd\u001b[0m\u001b[1;33m,\u001b[0m \u001b[0myd\u001b[0m\u001b[1;33m\u001b[0m\u001b[1;33m\u001b[0m\u001b[0m\n\u001b[0;32m    349\u001b[0m \u001b[1;33m\u001b[0m\u001b[0m\n",
      "\u001b[1;32m~\\anaconda3\\TSWARUP\\lib\\site-packages\\matplotlib\\offsetbox.py\u001b[0m in \u001b[0;36mget_extent_offsets\u001b[1;34m(self, renderer)\u001b[0m\n\u001b[0;32m    472\u001b[0m         \u001b[0msep\u001b[0m \u001b[1;33m=\u001b[0m \u001b[0mself\u001b[0m\u001b[1;33m.\u001b[0m\u001b[0msep\u001b[0m \u001b[1;33m*\u001b[0m \u001b[0mdpicor\u001b[0m\u001b[1;33m\u001b[0m\u001b[1;33m\u001b[0m\u001b[0m\n\u001b[0;32m    473\u001b[0m \u001b[1;33m\u001b[0m\u001b[0m\n\u001b[1;32m--> 474\u001b[1;33m         whd_list = [c.get_extent(renderer)\n\u001b[0m\u001b[0;32m    475\u001b[0m                     for c in self.get_visible_children()]\n\u001b[0;32m    476\u001b[0m \u001b[1;33m\u001b[0m\u001b[0m\n",
      "\u001b[1;32m~\\anaconda3\\TSWARUP\\lib\\site-packages\\matplotlib\\offsetbox.py\u001b[0m in \u001b[0;36m<listcomp>\u001b[1;34m(.0)\u001b[0m\n\u001b[0;32m    472\u001b[0m         \u001b[0msep\u001b[0m \u001b[1;33m=\u001b[0m \u001b[0mself\u001b[0m\u001b[1;33m.\u001b[0m\u001b[0msep\u001b[0m \u001b[1;33m*\u001b[0m \u001b[0mdpicor\u001b[0m\u001b[1;33m\u001b[0m\u001b[1;33m\u001b[0m\u001b[0m\n\u001b[0;32m    473\u001b[0m \u001b[1;33m\u001b[0m\u001b[0m\n\u001b[1;32m--> 474\u001b[1;33m         whd_list = [c.get_extent(renderer)\n\u001b[0m\u001b[0;32m    475\u001b[0m                     for c in self.get_visible_children()]\n\u001b[0;32m    476\u001b[0m \u001b[1;33m\u001b[0m\u001b[0m\n",
      "\u001b[1;32m~\\anaconda3\\TSWARUP\\lib\\site-packages\\matplotlib\\offsetbox.py\u001b[0m in \u001b[0;36mget_extent\u001b[1;34m(self, renderer)\u001b[0m\n\u001b[0;32m    345\u001b[0m     \u001b[1;32mdef\u001b[0m \u001b[0mget_extent\u001b[0m\u001b[1;33m(\u001b[0m\u001b[0mself\u001b[0m\u001b[1;33m,\u001b[0m \u001b[0mrenderer\u001b[0m\u001b[1;33m)\u001b[0m\u001b[1;33m:\u001b[0m\u001b[1;33m\u001b[0m\u001b[1;33m\u001b[0m\u001b[0m\n\u001b[0;32m    346\u001b[0m         \u001b[1;34m\"\"\"Return a tuple ``width, height, xdescent, ydescent`` of the box.\"\"\"\u001b[0m\u001b[1;33m\u001b[0m\u001b[1;33m\u001b[0m\u001b[0m\n\u001b[1;32m--> 347\u001b[1;33m         \u001b[0mw\u001b[0m\u001b[1;33m,\u001b[0m \u001b[0mh\u001b[0m\u001b[1;33m,\u001b[0m \u001b[0mxd\u001b[0m\u001b[1;33m,\u001b[0m \u001b[0myd\u001b[0m\u001b[1;33m,\u001b[0m \u001b[0moffsets\u001b[0m \u001b[1;33m=\u001b[0m \u001b[0mself\u001b[0m\u001b[1;33m.\u001b[0m\u001b[0mget_extent_offsets\u001b[0m\u001b[1;33m(\u001b[0m\u001b[0mrenderer\u001b[0m\u001b[1;33m)\u001b[0m\u001b[1;33m\u001b[0m\u001b[1;33m\u001b[0m\u001b[0m\n\u001b[0m\u001b[0;32m    348\u001b[0m         \u001b[1;32mreturn\u001b[0m \u001b[0mw\u001b[0m\u001b[1;33m,\u001b[0m \u001b[0mh\u001b[0m\u001b[1;33m,\u001b[0m \u001b[0mxd\u001b[0m\u001b[1;33m,\u001b[0m \u001b[0myd\u001b[0m\u001b[1;33m\u001b[0m\u001b[1;33m\u001b[0m\u001b[0m\n\u001b[0;32m    349\u001b[0m \u001b[1;33m\u001b[0m\u001b[0m\n",
      "\u001b[1;32m~\\anaconda3\\TSWARUP\\lib\\site-packages\\matplotlib\\offsetbox.py\u001b[0m in \u001b[0;36mget_extent_offsets\u001b[1;34m(self, renderer)\u001b[0m\n\u001b[0;32m    436\u001b[0m                     \u001b[0mc\u001b[0m\u001b[1;33m.\u001b[0m\u001b[0mset_width\u001b[0m\u001b[1;33m(\u001b[0m\u001b[0mself\u001b[0m\u001b[1;33m.\u001b[0m\u001b[0mwidth\u001b[0m\u001b[1;33m)\u001b[0m\u001b[1;33m\u001b[0m\u001b[1;33m\u001b[0m\u001b[0m\n\u001b[0;32m    437\u001b[0m \u001b[1;33m\u001b[0m\u001b[0m\n\u001b[1;32m--> 438\u001b[1;33m         whd_list = [c.get_extent(renderer)\n\u001b[0m\u001b[0;32m    439\u001b[0m                     for c in self.get_visible_children()]\n\u001b[0;32m    440\u001b[0m         \u001b[0mwhd_list\u001b[0m \u001b[1;33m=\u001b[0m \u001b[1;33m[\u001b[0m\u001b[1;33m(\u001b[0m\u001b[0mw\u001b[0m\u001b[1;33m,\u001b[0m \u001b[0mh\u001b[0m\u001b[1;33m,\u001b[0m \u001b[0mxd\u001b[0m\u001b[1;33m,\u001b[0m \u001b[1;33m(\u001b[0m\u001b[0mh\u001b[0m \u001b[1;33m-\u001b[0m \u001b[0myd\u001b[0m\u001b[1;33m)\u001b[0m\u001b[1;33m)\u001b[0m \u001b[1;32mfor\u001b[0m \u001b[0mw\u001b[0m\u001b[1;33m,\u001b[0m \u001b[0mh\u001b[0m\u001b[1;33m,\u001b[0m \u001b[0mxd\u001b[0m\u001b[1;33m,\u001b[0m \u001b[0myd\u001b[0m \u001b[1;32min\u001b[0m \u001b[0mwhd_list\u001b[0m\u001b[1;33m]\u001b[0m\u001b[1;33m\u001b[0m\u001b[1;33m\u001b[0m\u001b[0m\n",
      "\u001b[1;32m~\\anaconda3\\TSWARUP\\lib\\site-packages\\matplotlib\\offsetbox.py\u001b[0m in \u001b[0;36m<listcomp>\u001b[1;34m(.0)\u001b[0m\n\u001b[0;32m    436\u001b[0m                     \u001b[0mc\u001b[0m\u001b[1;33m.\u001b[0m\u001b[0mset_width\u001b[0m\u001b[1;33m(\u001b[0m\u001b[0mself\u001b[0m\u001b[1;33m.\u001b[0m\u001b[0mwidth\u001b[0m\u001b[1;33m)\u001b[0m\u001b[1;33m\u001b[0m\u001b[1;33m\u001b[0m\u001b[0m\n\u001b[0;32m    437\u001b[0m \u001b[1;33m\u001b[0m\u001b[0m\n\u001b[1;32m--> 438\u001b[1;33m         whd_list = [c.get_extent(renderer)\n\u001b[0m\u001b[0;32m    439\u001b[0m                     for c in self.get_visible_children()]\n\u001b[0;32m    440\u001b[0m         \u001b[0mwhd_list\u001b[0m \u001b[1;33m=\u001b[0m \u001b[1;33m[\u001b[0m\u001b[1;33m(\u001b[0m\u001b[0mw\u001b[0m\u001b[1;33m,\u001b[0m \u001b[0mh\u001b[0m\u001b[1;33m,\u001b[0m \u001b[0mxd\u001b[0m\u001b[1;33m,\u001b[0m \u001b[1;33m(\u001b[0m\u001b[0mh\u001b[0m \u001b[1;33m-\u001b[0m \u001b[0myd\u001b[0m\u001b[1;33m)\u001b[0m\u001b[1;33m)\u001b[0m \u001b[1;32mfor\u001b[0m \u001b[0mw\u001b[0m\u001b[1;33m,\u001b[0m \u001b[0mh\u001b[0m\u001b[1;33m,\u001b[0m \u001b[0mxd\u001b[0m\u001b[1;33m,\u001b[0m \u001b[0myd\u001b[0m \u001b[1;32min\u001b[0m \u001b[0mwhd_list\u001b[0m\u001b[1;33m]\u001b[0m\u001b[1;33m\u001b[0m\u001b[1;33m\u001b[0m\u001b[0m\n",
      "\u001b[1;32m~\\anaconda3\\TSWARUP\\lib\\site-packages\\matplotlib\\offsetbox.py\u001b[0m in \u001b[0;36mget_extent\u001b[1;34m(self, renderer)\u001b[0m\n\u001b[0;32m    345\u001b[0m     \u001b[1;32mdef\u001b[0m \u001b[0mget_extent\u001b[0m\u001b[1;33m(\u001b[0m\u001b[0mself\u001b[0m\u001b[1;33m,\u001b[0m \u001b[0mrenderer\u001b[0m\u001b[1;33m)\u001b[0m\u001b[1;33m:\u001b[0m\u001b[1;33m\u001b[0m\u001b[1;33m\u001b[0m\u001b[0m\n\u001b[0;32m    346\u001b[0m         \u001b[1;34m\"\"\"Return a tuple ``width, height, xdescent, ydescent`` of the box.\"\"\"\u001b[0m\u001b[1;33m\u001b[0m\u001b[1;33m\u001b[0m\u001b[0m\n\u001b[1;32m--> 347\u001b[1;33m         \u001b[0mw\u001b[0m\u001b[1;33m,\u001b[0m \u001b[0mh\u001b[0m\u001b[1;33m,\u001b[0m \u001b[0mxd\u001b[0m\u001b[1;33m,\u001b[0m \u001b[0myd\u001b[0m\u001b[1;33m,\u001b[0m \u001b[0moffsets\u001b[0m \u001b[1;33m=\u001b[0m \u001b[0mself\u001b[0m\u001b[1;33m.\u001b[0m\u001b[0mget_extent_offsets\u001b[0m\u001b[1;33m(\u001b[0m\u001b[0mrenderer\u001b[0m\u001b[1;33m)\u001b[0m\u001b[1;33m\u001b[0m\u001b[1;33m\u001b[0m\u001b[0m\n\u001b[0m\u001b[0;32m    348\u001b[0m         \u001b[1;32mreturn\u001b[0m \u001b[0mw\u001b[0m\u001b[1;33m,\u001b[0m \u001b[0mh\u001b[0m\u001b[1;33m,\u001b[0m \u001b[0mxd\u001b[0m\u001b[1;33m,\u001b[0m \u001b[0myd\u001b[0m\u001b[1;33m\u001b[0m\u001b[1;33m\u001b[0m\u001b[0m\n\u001b[0;32m    349\u001b[0m \u001b[1;33m\u001b[0m\u001b[0m\n",
      "\u001b[1;32m~\\anaconda3\\TSWARUP\\lib\\site-packages\\matplotlib\\offsetbox.py\u001b[0m in \u001b[0;36mget_extent_offsets\u001b[1;34m(self, renderer)\u001b[0m\n\u001b[0;32m    472\u001b[0m         \u001b[0msep\u001b[0m \u001b[1;33m=\u001b[0m \u001b[0mself\u001b[0m\u001b[1;33m.\u001b[0m\u001b[0msep\u001b[0m \u001b[1;33m*\u001b[0m \u001b[0mdpicor\u001b[0m\u001b[1;33m\u001b[0m\u001b[1;33m\u001b[0m\u001b[0m\n\u001b[0;32m    473\u001b[0m \u001b[1;33m\u001b[0m\u001b[0m\n\u001b[1;32m--> 474\u001b[1;33m         whd_list = [c.get_extent(renderer)\n\u001b[0m\u001b[0;32m    475\u001b[0m                     for c in self.get_visible_children()]\n\u001b[0;32m    476\u001b[0m \u001b[1;33m\u001b[0m\u001b[0m\n",
      "\u001b[1;32m~\\anaconda3\\TSWARUP\\lib\\site-packages\\matplotlib\\offsetbox.py\u001b[0m in \u001b[0;36m<listcomp>\u001b[1;34m(.0)\u001b[0m\n\u001b[0;32m    472\u001b[0m         \u001b[0msep\u001b[0m \u001b[1;33m=\u001b[0m \u001b[0mself\u001b[0m\u001b[1;33m.\u001b[0m\u001b[0msep\u001b[0m \u001b[1;33m*\u001b[0m \u001b[0mdpicor\u001b[0m\u001b[1;33m\u001b[0m\u001b[1;33m\u001b[0m\u001b[0m\n\u001b[0;32m    473\u001b[0m \u001b[1;33m\u001b[0m\u001b[0m\n\u001b[1;32m--> 474\u001b[1;33m         whd_list = [c.get_extent(renderer)\n\u001b[0m\u001b[0;32m    475\u001b[0m                     for c in self.get_visible_children()]\n\u001b[0;32m    476\u001b[0m \u001b[1;33m\u001b[0m\u001b[0m\n",
      "\u001b[1;32m~\\anaconda3\\TSWARUP\\lib\\site-packages\\matplotlib\\offsetbox.py\u001b[0m in \u001b[0;36mget_extent\u001b[1;34m(self, renderer)\u001b[0m\n\u001b[0;32m    821\u001b[0m             ismath=\"TeX\" if self._text.get_usetex() else False)\n\u001b[0;32m    822\u001b[0m \u001b[1;33m\u001b[0m\u001b[0m\n\u001b[1;32m--> 823\u001b[1;33m         \u001b[0mbbox\u001b[0m\u001b[1;33m,\u001b[0m \u001b[0minfo\u001b[0m\u001b[1;33m,\u001b[0m \u001b[0myd\u001b[0m \u001b[1;33m=\u001b[0m \u001b[0mself\u001b[0m\u001b[1;33m.\u001b[0m\u001b[0m_text\u001b[0m\u001b[1;33m.\u001b[0m\u001b[0m_get_layout\u001b[0m\u001b[1;33m(\u001b[0m\u001b[0mrenderer\u001b[0m\u001b[1;33m)\u001b[0m\u001b[1;33m\u001b[0m\u001b[1;33m\u001b[0m\u001b[0m\n\u001b[0m\u001b[0;32m    824\u001b[0m         \u001b[0mw\u001b[0m\u001b[1;33m,\u001b[0m \u001b[0mh\u001b[0m \u001b[1;33m=\u001b[0m \u001b[0mbbox\u001b[0m\u001b[1;33m.\u001b[0m\u001b[0mwidth\u001b[0m\u001b[1;33m,\u001b[0m \u001b[0mbbox\u001b[0m\u001b[1;33m.\u001b[0m\u001b[0mheight\u001b[0m\u001b[1;33m\u001b[0m\u001b[1;33m\u001b[0m\u001b[0m\n\u001b[0;32m    825\u001b[0m \u001b[1;33m\u001b[0m\u001b[0m\n",
      "\u001b[1;32m~\\anaconda3\\TSWARUP\\lib\\site-packages\\matplotlib\\text.py\u001b[0m in \u001b[0;36m_get_layout\u001b[1;34m(self, renderer)\u001b[0m\n\u001b[0;32m    312\u001b[0m             \u001b[0mclean_line\u001b[0m\u001b[1;33m,\u001b[0m \u001b[0mismath\u001b[0m \u001b[1;33m=\u001b[0m \u001b[0mself\u001b[0m\u001b[1;33m.\u001b[0m\u001b[0m_preprocess_math\u001b[0m\u001b[1;33m(\u001b[0m\u001b[0mline\u001b[0m\u001b[1;33m)\u001b[0m\u001b[1;33m\u001b[0m\u001b[1;33m\u001b[0m\u001b[0m\n\u001b[0;32m    313\u001b[0m             \u001b[1;32mif\u001b[0m \u001b[0mclean_line\u001b[0m\u001b[1;33m:\u001b[0m\u001b[1;33m\u001b[0m\u001b[1;33m\u001b[0m\u001b[0m\n\u001b[1;32m--> 314\u001b[1;33m                 w, h, d = renderer.get_text_width_height_descent(\n\u001b[0m\u001b[0;32m    315\u001b[0m                     clean_line, self._fontproperties, ismath=ismath)\n\u001b[0;32m    316\u001b[0m             \u001b[1;32melse\u001b[0m\u001b[1;33m:\u001b[0m\u001b[1;33m\u001b[0m\u001b[1;33m\u001b[0m\u001b[0m\n",
      "\u001b[1;32m~\\anaconda3\\TSWARUP\\lib\\site-packages\\matplotlib\\backends\\backend_agg.py\u001b[0m in \u001b[0;36mget_text_width_height_descent\u001b[1;34m(self, s, prop, ismath)\u001b[0m\n\u001b[0;32m    238\u001b[0m         \u001b[0mflags\u001b[0m \u001b[1;33m=\u001b[0m \u001b[0mget_hinting_flag\u001b[0m\u001b[1;33m(\u001b[0m\u001b[1;33m)\u001b[0m\u001b[1;33m\u001b[0m\u001b[1;33m\u001b[0m\u001b[0m\n\u001b[0;32m    239\u001b[0m         \u001b[0mfont\u001b[0m \u001b[1;33m=\u001b[0m \u001b[0mself\u001b[0m\u001b[1;33m.\u001b[0m\u001b[0m_get_agg_font\u001b[0m\u001b[1;33m(\u001b[0m\u001b[0mprop\u001b[0m\u001b[1;33m)\u001b[0m\u001b[1;33m\u001b[0m\u001b[1;33m\u001b[0m\u001b[0m\n\u001b[1;32m--> 240\u001b[1;33m         \u001b[0mfont\u001b[0m\u001b[1;33m.\u001b[0m\u001b[0mset_text\u001b[0m\u001b[1;33m(\u001b[0m\u001b[0ms\u001b[0m\u001b[1;33m,\u001b[0m \u001b[1;36m0.0\u001b[0m\u001b[1;33m,\u001b[0m \u001b[0mflags\u001b[0m\u001b[1;33m=\u001b[0m\u001b[0mflags\u001b[0m\u001b[1;33m)\u001b[0m\u001b[1;33m\u001b[0m\u001b[1;33m\u001b[0m\u001b[0m\n\u001b[0m\u001b[0;32m    241\u001b[0m         \u001b[0mw\u001b[0m\u001b[1;33m,\u001b[0m \u001b[0mh\u001b[0m \u001b[1;33m=\u001b[0m \u001b[0mfont\u001b[0m\u001b[1;33m.\u001b[0m\u001b[0mget_width_height\u001b[0m\u001b[1;33m(\u001b[0m\u001b[1;33m)\u001b[0m  \u001b[1;31m# width and height of unrotated string\u001b[0m\u001b[1;33m\u001b[0m\u001b[1;33m\u001b[0m\u001b[0m\n\u001b[0;32m    242\u001b[0m         \u001b[0md\u001b[0m \u001b[1;33m=\u001b[0m \u001b[0mfont\u001b[0m\u001b[1;33m.\u001b[0m\u001b[0mget_descent\u001b[0m\u001b[1;33m(\u001b[0m\u001b[1;33m)\u001b[0m\u001b[1;33m\u001b[0m\u001b[1;33m\u001b[0m\u001b[0m\n",
      "\u001b[1;31mKeyboardInterrupt\u001b[0m: "
     ]
    }
   ],
   "source": [
    "sizes = Modells\n",
    "labels = df[\"Model\"].unique()\n",
    " \n",
    "fig1, ax1 = plt.subplots(figsize=(5, 5))\n",
    "fig1.subplots_adjust(0.3, 0, 1, 1)\n",
    " \n",
    "theme = plt.get_cmap('jet')\n",
    "ax1.set_prop_cycle(\"color\", [theme(1. * i / len(sizes))\n",
    "                             for i in range(len(sizes))])\n",
    " \n",
    "_, _ = ax1.pie(sizes, startangle=90, radius=1800)\n",
    " \n",
    "ax1.axis('equal')\n",
    " \n",
    "total = sum(sizes)\n",
    "plt.legend(\n",
    "    loc='upper right',\n",
    "    labels=['%s, %1.1f%%' % (\n",
    "        l, (float(s) / total) * 100)\n",
    "            for l, s in zip(labels, sizes)],\n",
    "    prop={'size': 11},\n",
    "    bbox_to_anchor=(0.0, 1),\n",
    "    bbox_transform=fig1.transFigure\n",
    ")\n",
    " \n",
    "plt.show()"
   ]
  },
  {
   "cell_type": "markdown",
   "id": "f66941d9",
   "metadata": {},
   "source": [
    "<h6 style=\"color:red\">vehicle class with fuel consumption</h6>"
   ]
  },
  {
   "cell_type": "code",
   "execution_count": null,
   "id": "656e22ff",
   "metadata": {},
   "outputs": [],
   "source": [
    "df[\"Vehicle Class\"].unique()"
   ]
  },
  {
   "cell_type": "code",
   "execution_count": null,
   "id": "1cf0e27e",
   "metadata": {},
   "outputs": [],
   "source": [
    "df[df[\"Vehicle Class\"]==\"Compact\"]['Fuel Consumption(Comb (L/100 km))'].mean()"
   ]
  },
  {
   "cell_type": "code",
   "execution_count": null,
   "id": "b19c0b17",
   "metadata": {},
   "outputs": [],
   "source": [
    "vcm=[]\n",
    "for i in df[\"Vehicle Class\"].unique():\n",
    "    meen = df[df[\"Vehicle Class\"]==i]['Fuel Consumption(Comb (L/100 km))'].mean()\n",
    "    vcm.append(meen)"
   ]
  },
  {
   "cell_type": "code",
   "execution_count": null,
   "id": "1c6e62d4",
   "metadata": {},
   "outputs": [],
   "source": [
    "vcm"
   ]
  },
  {
   "cell_type": "code",
   "execution_count": null,
   "id": "f000ed5d",
   "metadata": {},
   "outputs": [],
   "source": [
    "sizes = vcm\n",
    "labels = df[\"Vehicle Class\"].unique()\n",
    " \n",
    "fig1, ax1 = plt.subplots(figsize=(5, 5))\n",
    "fig1.subplots_adjust(0.3, 0, 1, 1)\n",
    " \n",
    "theme = plt.get_cmap('hsv')\n",
    "ax1.set_prop_cycle(\"color\", [theme(1. * i / len(sizes))\n",
    "                             for i in range(len(sizes))])\n",
    " \n",
    "_, _ = ax1.pie(sizes, startangle=90, radius=1800)\n",
    " \n",
    "ax1.axis('equal')\n",
    " \n",
    "total = sum(sizes)\n",
    "plt.legend(\n",
    "    loc='upper right',\n",
    "    labels=['%s, %1.1f%%' % (\n",
    "        l, (float(s) / total) * 100)\n",
    "            for l, s in zip(labels, sizes)],\n",
    "    prop={'size': 11},\n",
    "    bbox_to_anchor=(0.0, 1),\n",
    "    bbox_transform=fig1.transFigure\n",
    ")\n",
    " \n",
    "plt.show()"
   ]
  },
  {
   "cell_type": "markdown",
   "id": "6a0e59f9",
   "metadata": {},
   "source": [
    "**Observation:**\n",
    " - PickUp truck Standard consuming more Fuel 8.9\n",
    " - SUV 8.3\n",
    " - Two setter 8.6"
   ]
  },
  {
   "cell_type": "markdown",
   "id": "55a7125a",
   "metadata": {},
   "source": [
    "<h6 style=\"color:red\">Transmission</h6>"
   ]
  },
  {
   "cell_type": "code",
   "execution_count": null,
   "id": "af84d457",
   "metadata": {},
   "outputs": [],
   "source": [
    "tsm=[]\n",
    "for i in df[\"Transmission\"].unique():\n",
    "    meen = df[df[\"Transmission\"]==i]['Fuel Consumption(Comb (L/100 km))'].mean()\n",
    "    tsm.append(meen)"
   ]
  },
  {
   "cell_type": "code",
   "execution_count": null,
   "id": "6ed64f0d",
   "metadata": {},
   "outputs": [],
   "source": [
    "sizes = tsm\n",
    "labels = df[\"Transmission\"].unique()\n",
    " \n",
    "fig1, ax1 = plt.subplots(figsize=(5, 5))\n",
    "fig1.subplots_adjust(0.3, 0, 1, 1)\n",
    " \n",
    "theme = plt.get_cmap('hsv')\n",
    "ax1.set_prop_cycle(\"color\", [theme(1. * i / len(sizes))\n",
    "                             for i in range(len(sizes))])\n",
    " \n",
    "_, _ = ax1.pie(sizes, startangle=90, radius=1800)\n",
    " \n",
    "ax1.axis('equal')\n",
    " \n",
    "total = sum(sizes)\n",
    "plt.legend(\n",
    "    loc='upper right',\n",
    "    labels=['%s, %1.1f%%' % (\n",
    "        l, (float(s) / total) * 100)\n",
    "            for l, s in zip(labels, sizes)],\n",
    "    prop={'size': 11},\n",
    "    bbox_to_anchor=(0.0, 1),\n",
    "    bbox_transform=fig1.transFigure\n",
    ")\n",
    " \n",
    "plt.show()"
   ]
  },
  {
   "cell_type": "markdown",
   "id": "8340246a",
   "metadata": {},
   "source": [
    "**Observation**\n",
    "- A6 Transmission consumnes high 6.0%"
   ]
  },
  {
   "cell_type": "markdown",
   "id": "3dd6c2e1",
   "metadata": {},
   "source": [
    "<h6 style=\"color:red\">Fuel Type</h6>"
   ]
  },
  {
   "cell_type": "code",
   "execution_count": null,
   "id": "641b6de3",
   "metadata": {},
   "outputs": [],
   "source": [
    "ft=[]\n",
    "for i in df[\"Fuel Type\"].unique():\n",
    "    meen = df[df[\"Fuel Type\"]==i]['Fuel Consumption(Comb (L/100 km))'].mean()\n",
    "    ft.append(meen)"
   ]
  },
  {
   "cell_type": "code",
   "execution_count": null,
   "id": "984ba428",
   "metadata": {},
   "outputs": [],
   "source": [
    "sizes = ft\n",
    "labels = df[\"Fuel Type\"].unique()\n",
    " \n",
    "fig1, ax1 = plt.subplots(figsize=(5, 5))\n",
    "fig1.subplots_adjust(0.3, 0, 1, 1)\n",
    " \n",
    "theme = plt.get_cmap('copper')\n",
    "ax1.set_prop_cycle(\"color\", [theme(1. * i / len(sizes))\n",
    "                             for i in range(len(sizes))])\n",
    " \n",
    "_, _ = ax1.pie(sizes, startangle=90, radius=1800)\n",
    " \n",
    "ax1.axis('equal')\n",
    " \n",
    "total = sum(sizes)\n",
    "plt.legend(\n",
    "    loc='upper right',\n",
    "    labels=['%s, %1.1f%%' % (\n",
    "        l, (float(s) / total) * 100)\n",
    "            for l, s in zip(labels, sizes)],\n",
    "    prop={'size': 11},\n",
    "    bbox_to_anchor=(0.0, 1),\n",
    "    bbox_transform=fig1.transFigure\n",
    ")\n",
    " \n",
    "plt.show()"
   ]
  },
  {
   "cell_type": "markdown",
   "id": "88bc099e",
   "metadata": {},
   "source": [
    "**Observaion**\n",
    "- 35.5 percentage of Fuel is E"
   ]
  },
  {
   "cell_type": "code",
   "execution_count": null,
   "id": "99852fc2",
   "metadata": {},
   "outputs": [],
   "source": [
    "vizual = df[['Cylinders','Engine Size(L)','CO2 Rating', 'Smog Rating','CO2 Emissions(g/km)','Fuel Consumption(Comb (L/100 km))']]\n",
    "vizual.hist(color = 'blue', figsize = (10, 10))\n",
    "plt.tight_layout();\n",
    "plt.show();"
   ]
  },
  {
   "cell_type": "code",
   "execution_count": null,
   "id": "dc4f473a",
   "metadata": {},
   "outputs": [],
   "source": [
    "# Note :\n",
    "'''The first (and most common) reference is litres per 100km (litres/100km). \n",
    "This is how many litres of fuel the car needs in order to travel 100km.'''"
   ]
  },
  {
   "cell_type": "code",
   "execution_count": null,
   "id": "0c15927e",
   "metadata": {},
   "outputs": [],
   "source": [
    "df.head(1)"
   ]
  },
  {
   "cell_type": "code",
   "execution_count": null,
   "id": "e3895f42",
   "metadata": {},
   "outputs": [],
   "source": [
    "from pandas.plotting import scatter_matrix\n",
    "#set font of all elements to size 15\n",
    "plt.rc('font', size=12)\n",
    "scatter_matrix(df[['Cylinders','Engine Size(L)','CO2 Rating', 'Smog Rating','CO2 Emissions(g/km)','Fuel Consumption(Comb (L/100 km))']], figsize=(20, 20))\n",
    "plt.tight_layout;\n",
    "plt.show()"
   ]
  },
  {
   "cell_type": "markdown",
   "id": "c47eae0e",
   "metadata": {},
   "source": [
    "**Observations :**\n",
    "  -  No of Cylinders increases Fuel consumption also increases, if 15 cylinders it take 25 liters for 100km and 5 to 10 cylinders means it consume near 5 to 17 liters.\n",
    "  - Engine Size increases Fuel consumption also increases\n",
    "  - Full consumption is less means Co2 Rating is Good\n",
    "  - Full consumption is less then Smog Rating is Good\n",
    "  - Full consumption increases Co2 emission in also Increases in Gram/km"
   ]
  },
  {
   "cell_type": "code",
   "execution_count": null,
   "id": "6c13f061",
   "metadata": {},
   "outputs": [],
   "source": [
    "correc=df.corr()\n",
    "correc"
   ]
  },
  {
   "cell_type": "code",
   "execution_count": null,
   "id": "fecb1e7b",
   "metadata": {},
   "outputs": [],
   "source": [
    "corr = df.drop(['Model Year'], axis = 1).corr()\n",
    "corr_top = corr[abs(corr)>=.8]\n",
    "plt.figure(figsize=(12,8))\n",
    "sns.heatmap(corr_top, cmap=\"cividis_r\", annot = True);"
   ]
  },
  {
   "cell_type": "markdown",
   "id": "d3e8f53a",
   "metadata": {},
   "source": [
    "**Observation :**\n",
    "- Co2 Emission and Cylinders have High correlation to FuelConsumption\n",
    "- Engine Size and Co2 has same coorelation 0.82 so I negleted Engine size"
   ]
  },
  {
   "cell_type": "markdown",
   "id": "82b934c7",
   "metadata": {},
   "source": [
    "<h3 style=\"color:brown\">Data Processing</h3>"
   ]
  },
  {
   "cell_type": "code",
   "execution_count": null,
   "id": "3604d811",
   "metadata": {},
   "outputs": [],
   "source": [
    "df_copy=df.copy()"
   ]
  },
  {
   "cell_type": "code",
   "execution_count": null,
   "id": "8a2fbba4",
   "metadata": {},
   "outputs": [],
   "source": [
    "df_copy"
   ]
  },
  {
   "cell_type": "code",
   "execution_count": null,
   "id": "6960cb7f",
   "metadata": {},
   "outputs": [],
   "source": [
    "# checking for Null Values\n",
    "df_copy.isnull().sum()"
   ]
  },
  {
   "cell_type": "markdown",
   "id": "0697ec07",
   "metadata": {},
   "source": [
    "**Note**\n",
    "- No Null Values in our dataset"
   ]
  },
  {
   "cell_type": "markdown",
   "id": "db378750",
   "metadata": {},
   "source": [
    "### **Label Encoding**\n",
    "Some features in this dataset are categorical such as Vehicle Class,Transmission, and Fuel Type. Unfortunately, Sklearn models do not handle categorical variables. To convert these features to numerical values, LabelEncoder from sklearn.preprocessing can be used to convert categorical variable into dummy/indicator variables."
   ]
  },
  {
   "cell_type": "code",
   "execution_count": null,
   "id": "d43ad01d",
   "metadata": {},
   "outputs": [],
   "source": [
    "from sklearn.preprocessing import LabelEncoder\n",
    "le = LabelEncoder()\n",
    "df_copy['Vehicle Class'] = le.fit_transform(df_copy['Vehicle Class'])\n",
    "df_copy['Transmission'] = le.fit_transform(df_copy['Transmission'])\n",
    "df_copy['Fuel Type'] = le.fit_transform(df_copy['Fuel Type'])"
   ]
  },
  {
   "cell_type": "code",
   "execution_count": null,
   "id": "687e48ea",
   "metadata": {},
   "outputs": [],
   "source": [
    "corr = df_copy.drop(['Model Year'], axis = 1).corr()\n",
    "corr"
   ]
  },
  {
   "cell_type": "code",
   "execution_count": null,
   "id": "56694bca",
   "metadata": {},
   "outputs": [],
   "source": [
    "corr_top = corr[abs(corr)>=.8]\n",
    "plt.figure(figsize=(12,8))\n",
    "sns.heatmap(corr_top, cmap=\"cividis_r\", annot = True);"
   ]
  },
  {
   "cell_type": "markdown",
   "id": "54cbfb09",
   "metadata": {},
   "source": [
    "<h6 style=\"color:green\">After Data Preprocessing</h6>\n",
    "\n",
    "- No Change on it"
   ]
  },
  {
   "cell_type": "markdown",
   "id": "90ba398c",
   "metadata": {},
   "source": [
    "<h2 style=\"color:green\"><center>Let start story telling process</center></h2>"
   ]
  },
  {
   "cell_type": "markdown",
   "id": "ea47b8ab",
   "metadata": {},
   "source": [
    "**First Collect all Observation to create story**"
   ]
  },
  {
   "cell_type": "markdown",
   "id": "f352c844",
   "metadata": {},
   "source": [
    "<h6 style=\"color:red\">Categorial</h6>\n",
    "\n",
    " 'Make', 'Model', 'Vehicle Class', 'Transmission', 'Fuel Type'\n",
    "\n",
    "<h6 style=\"color:red\">Numerical</h6>\n",
    "\n",
    " 'Model Year',\n",
    " 'Engine Size(L)',\n",
    " 'Cylinders',\n",
    " 'Fuel Consumption (City (L/100 km)',\n",
    " 'Fuel Consumption(Hwy (L/100 km))',\n",
    " 'Fuel Consumption(Comb (L/100 km))',\n",
    " 'Fuel Consumption(Comb (mpg))',\n",
    " 'CO2 Emissions(g/km)',\n",
    " 'CO2 Rating',\n",
    " 'Smog Rating'\n",
    " \n",
    "<h6 style=\"color:red\">No of Items and Height</h6>\n",
    " \n",
    " - In our Dataset More vehicles are ford and Less Vehicles are Flat\n",
    " \n",
    " - Z Type fuel using is higher in dataset\n",
    " \n",
    " - A8 Transmission Vehicles are 10.6% and AS10 are 9.2%\n",
    " \n",
    " - SUV small are 20.8%\n",
    " \n",
    " - SUV standard are 14.9%\n",
    " \n",
    " - pickup truck Standard 11.9%\n",
    " \n",
    "<h6 style=\"color:red\">vehicle class with fuel consumption</h6>\n",
    "\n",
    " - PickUp truck Standard consuming more Fuel 8.9\n",
    " - SUV 8.3\n",
    " - Two setter 8.6\n",
    " \n",
    "<h6 style=\"color:red\">Transmission with fuel consumption</h6>\n",
    "\n",
    "- A6 Transmission consumnes high 6.0%\n",
    "\n",
    "<h6 style=\"color:red\">Fuel Type with fuel consumption</h6>\n",
    "\n",
    "- 35.5 percentage of Fuel is E\n",
    "\n",
    "<h6 style=\"color:red\">Observed in Paitplot</h6>\n",
    "\n",
    "-  No of Cylinders increases Fuel consumption also increases, if 15 cylinders it take 25 liters for 100km and 5 to 10 cylinders means it consume near 5 to 17 liters.\n",
    "  - Engine Size increases Fuel consumption also increases\n",
    "  - Full consumption is less means Co2 Rating is Good\n",
    "  - Full consumption is less then Smog Rating is Good\n",
    "  - Full consumption increases Co2 emission in also Increases in Gram/km\n",
    "  \n",
    "<h6 style=\"color:red\">High co-orelation with target feature</h6>\n",
    "\n",
    "  - Co2 Emission and Cylinders have High correlation to FuelConsumption\n",
    "  - Engine Size and Co2 has same coorelation 0.82 so I negleted Engine size"
   ]
  },
  {
   "cell_type": "markdown",
   "id": "1547f878",
   "metadata": {},
   "source": [
    "<h3 style=\"color:green\"><center>Visualization Story</center></h3>"
   ]
  },
  {
   "cell_type": "code",
   "execution_count": null,
   "id": "86903105",
   "metadata": {},
   "outputs": [],
   "source": [
    "plt.figure(figsize=(4, 4), dpi=80)\n",
    "plt.subplots_adjust(left=0.5,bottom=1,right=3.5,top=2,wspace=0.5,hspace=None)\n",
    "\n",
    "plt.subplot(1,2,1)     # It is Refering Postion\n",
    "plt.pie(x=[1,1,1,1,1],labels=obj)\n",
    "plt.title(\"Qualitative\")\n",
    "\n",
    "plt.subplot(1,2,2)    # It is Refering Postion\n",
    "plt.pie(x=[1,1,1,1,1,1,1,1,1,1],labels=num)\n",
    "plt.title(\"Quantitive\")\n",
    "plt.show()"
   ]
  },
  {
   "cell_type": "markdown",
   "id": "43623b88",
   "metadata": {},
   "source": [
    "**Our Promblem is to find out the which feature consuming the more fuel so let check which fuel type is majority in our data set**"
   ]
  },
  {
   "attachments": {
    "image-2.png": {
     "image/png": "[encoded data removed]"
    }
   },
   "cell_type": "markdown",
   "id": "9f7af225",
   "metadata": {},
   "source": [
    "![image-2.png](attachment:image-2.png)"
   ]
  },
  {
   "cell_type": "markdown",
   "id": "395b9766",
   "metadata": {},
   "source": [
    "**Perium Gasoline[\"Z\"] type is highest in our dataset**"
   ]
  },
  {
   "cell_type": "markdown",
   "id": "7e99b275",
   "metadata": {},
   "source": [
    "**Did Gasoline using vehicles using more fuel consumption No Etahol Using Vehicles are Consumning more fuel**"
   ]
  },
  {
   "attachments": {
    "image.png": {
     "image/png": "[encoded data removed]"
    }
   },
   "cell_type": "markdown",
   "id": "825c582f",
   "metadata": {},
   "source": [
    "![image.png](attachment:image.png)"
   ]
  },
  {
   "cell_type": "markdown",
   "id": "d0ff4cd4",
   "metadata": {},
   "source": [
    "**We can Observe Fuel Type X,D and Z are Less Consume compare to E !Ok We know that Z Fuel Using Vehicles are Highes in our dataset but more amount Fuel consumption tye is E**"
   ]
  },
  {
   "attachments": {
    "image.png": {
     "image/png": "[encoded data removed]"
    }
   },
   "cell_type": "markdown",
   "id": "c737677d",
   "metadata": {},
   "source": [
    "![image.png](attachment:image.png)"
   ]
  },
  {
   "cell_type": "markdown",
   "id": "3ae1cb76",
   "metadata": {},
   "source": [
    "**As we seen Cylinders and Co2 Emission have high correlation with the target variable and Cylinder and Co2 have same co-orelation so we negelted it**"
   ]
  },
  {
   "cell_type": "code",
   "execution_count": null,
   "id": "0e338847",
   "metadata": {},
   "outputs": [],
   "source": [
    "x=df[\"Cylinders\"]\n",
    "plt.hist(x)\n",
    "plt.show()"
   ]
  },
  {
   "cell_type": "markdown",
   "id": "6082695e",
   "metadata": {},
   "source": [
    "**In 4 cylinder vehicles high in our dataset**  "
   ]
  },
  {
   "cell_type": "code",
   "execution_count": null,
   "id": "034a22c9",
   "metadata": {},
   "outputs": [],
   "source": [
    "x=df[df[\"Fuel Type\"]==\"X\"][\"Cylinders\"]\n",
    "plt.hist(x)\n",
    "plt.show()"
   ]
  },
  {
   "cell_type": "markdown",
   "id": "c89ebe04",
   "metadata": {},
   "source": [
    "**4 cylinder vehicles are most using  X Fuel** "
   ]
  },
  {
   "cell_type": "code",
   "execution_count": null,
   "id": "86a2551d",
   "metadata": {},
   "outputs": [],
   "source": [
    "x=df[df[\"Fuel Type\"]==\"Z\"][\"Cylinders\"]\n",
    "plt.hist(x)\n",
    "plt.show()"
   ]
  },
  {
   "cell_type": "markdown",
   "id": "1513bb8c",
   "metadata": {},
   "source": [
    "**z type fuel balancing** "
   ]
  },
  {
   "cell_type": "code",
   "execution_count": null,
   "id": "332bc506",
   "metadata": {},
   "outputs": [],
   "source": [
    "x=df[df[\"Fuel Type\"]==\"E\"][\"Cylinders\"]\n",
    "plt.hist(x)\n",
    "plt.show()"
   ]
  },
  {
   "cell_type": "markdown",
   "id": "cf462ad9",
   "metadata": {},
   "source": [
    "**E-type vehicles more using the 8 Cylinders**"
   ]
  },
  {
   "attachments": {
    "image.png": {
     "image/png": "[encoded data removed]"
    }
   },
   "cell_type": "markdown",
   "id": "a978f1cf",
   "metadata": {},
   "source": [
    "![image.png](attachment:image.png)"
   ]
  },
  {
   "cell_type": "markdown",
   "id": "c6211f5b",
   "metadata": {},
   "source": [
    "**Highest Fuel Consuming Vehicels class are \"PickUp standard\" and SUV, Two Seater**"
   ]
  },
  {
   "cell_type": "code",
   "execution_count": null,
   "id": "9d60a1c2",
   "metadata": {},
   "outputs": [],
   "source": [
    "x=df[df[\"Cylinders\"]>=8][\"Vehicle Class\"].unique()\n",
    "x"
   ]
  },
  {
   "cell_type": "markdown",
   "id": "dd94665e",
   "metadata": {},
   "source": [
    "<h6 style=\"color:blue\">Data Prepartion</h6>"
   ]
  },
  {
   "cell_type": "code",
   "execution_count": null,
   "id": "8b48b47b",
   "metadata": {},
   "outputs": [],
   "source": [
    "X = df_copy[['Vehicle Class', 'Engine Size(L)', 'Cylinders', 'Transmission', 'Fuel Type','CO2 Emissions(g/km)', 'CO2 Rating', 'Smog Rating']]\n",
    "y = df_copy[['Fuel Consumption(Comb (L/100 km))']]\n",
    "X.shape,y.shape"
   ]
  },
  {
   "cell_type": "code",
   "execution_count": null,
   "id": "f52a1133",
   "metadata": {},
   "outputs": [],
   "source": [
    "X"
   ]
  },
  {
   "cell_type": "markdown",
   "id": "5f77ede9",
   "metadata": {},
   "source": [
    "<h3 style=\"color:brown\">Model :</h3>"
   ]
  },
  {
   "cell_type": "code",
   "execution_count": null,
   "id": "b62a5c0f",
   "metadata": {},
   "outputs": [],
   "source": [
    "from sklearn.model_selection import train_test_split\n",
    "X_train, X_test, y_train, y_test = train_test_split( X, y, test_size=0.2, random_state=4)\n",
    "print ('Train set:', X_train.shape,  y_train.shape)\n",
    "print ('Test set:', X_test.shape,  y_test.shape)"
   ]
  },
  {
   "cell_type": "code",
   "execution_count": null,
   "id": "7754b21a",
   "metadata": {},
   "outputs": [],
   "source": [
    "from sklearn.linear_model import LinearRegression\n",
    "model = LinearRegression()\n",
    "model.fit(X_train,y_train)"
   ]
  },
  {
   "cell_type": "code",
   "execution_count": null,
   "id": "3c3d6235",
   "metadata": {},
   "outputs": [],
   "source": [
    "model.intercept_"
   ]
  },
  {
   "cell_type": "code",
   "execution_count": null,
   "id": "c2bb1bed",
   "metadata": {},
   "outputs": [],
   "source": [
    "model.coef_"
   ]
  },
  {
   "cell_type": "markdown",
   "id": "93e1c490",
   "metadata": {},
   "source": [
    "**Prediction**"
   ]
  },
  {
   "cell_type": "code",
   "execution_count": null,
   "id": "11af42d1",
   "metadata": {},
   "outputs": [],
   "source": [
    "train_pred = model.predict(X_train)\n",
    "test_pred = model.predict(X_test)"
   ]
  },
  {
   "cell_type": "markdown",
   "id": "1979273a",
   "metadata": {},
   "source": [
    "<h3 style=\"color:brown\">Evaluation :</h3>"
   ]
  },
  {
   "cell_type": "code",
   "execution_count": null,
   "id": "a7b5b509",
   "metadata": {},
   "outputs": [],
   "source": [
    "from sklearn.metrics import mean_squared_error\n",
    "test_RMSE =np.sqrt(mean_squared_error(y_test,test_pred))\n",
    "train_RMSE = np.sqrt(mean_squared_error(y_train,train_pred))\n",
    "print(test_RMSE,train_RMSE)"
   ]
  },
  {
   "cell_type": "code",
   "execution_count": null,
   "id": "180b3839",
   "metadata": {},
   "outputs": [],
   "source": [
    "model.score(X_train,y_train)"
   ]
  },
  {
   "cell_type": "code",
   "execution_count": null,
   "id": "34286d7e",
   "metadata": {},
   "outputs": [],
   "source": [
    "model.score(X_test,y_test)"
   ]
  }
 ],
 "metadata": {
  "kernelspec": {
   "display_name": "Python 3 (ipykernel)",
   "language": "python",
   "name": "python3"
  },
  "language_info": {
   "codemirror_mode": {
    "name": "ipython",
    "version": 3
   },
   "file_extension": ".py",
   "mimetype": "text/x-python",
   "name": "python",
   "nbconvert_exporter": "python",
   "pygments_lexer": "ipython3",
   "version": "3.9.7"
  }
 },
 "nbformat": 4,
 "nbformat_minor": 5
}
