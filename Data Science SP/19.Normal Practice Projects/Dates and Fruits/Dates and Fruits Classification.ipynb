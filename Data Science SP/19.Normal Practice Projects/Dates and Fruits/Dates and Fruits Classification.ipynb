{
 "cells": [
  {
   "cell_type": "markdown",
   "id": "363cb33d",
   "metadata": {},
   "source": [
    "<h1 style=\"color:green\"><center><i>Dates and Fruits Classification</i></center></h1>"
   ]
  },
  {
   "cell_type": "markdown",
   "id": "21c36cc2",
   "metadata": {},
   "source": [
    "<h1 style=\"color:#88bddb\"> Content</h1>"
   ]
  },
  {
   "cell_type": "markdown",
   "id": "e9230171",
   "metadata": {},
   "source": [
    "- 1.<a href=\"#1\">Overview</a>\n",
    "- 2.<a href=\"#2\">Importing librarires</a>\n",
    "- 3.<a href=\"#3\">Load Dataset</a>\n",
    "- 4.<a href=\"#4\">Data Understanding</a>\n",
    "- 5.<a href=\"#5\">Data-Preprocessing</a>\n",
    "- 6.<a href=\"#6\">Modelling</a>"
   ]
  },
  {
   "cell_type": "markdown",
   "id": "406181fa",
   "metadata": {},
   "source": [
    "<a id=\"1\"></a>\n",
    "# 1.Overview"
   ]
  },
  {
   "cell_type": "markdown",
   "id": "6a52bb2a",
   "metadata": {},
   "source": [
    "Dataset Abstract:</b> A great number of fruits are grown around the world, each of which has various types. The factors that determine the type of fruit are the external appearance features such as color, length, diameter, and shape. The external appearance of the fruits is a major determinant of the fruit type. Determining the variety of fruits by looking at their external appearance may necessitate expertise, which is time-consuming and requires great effort. The aim of this study is to classify the types of date fruit, that are, Barhee, Deglet Nour, Sukkary, Rotab Mozafati, Ruthana, Safawi, and Sagai by using three different machine learning methods. In accordance with this purpose, 898 images of seven different date fruit types were obtained via the computer vision system (CVS). Through image processing techniques, a total of 34 features, including morphological features, shape, and color, were extracted from these images. First, models were developed by using the logistic regression (LR) and artificial neural network (ANN) methods, which are among the machine learning methods. Performance results achieved with these methods are 91.0% and 92.2%, respectively. Then, with the stacking model created by combining these models, the performance result was increased to 92.8%. It has been concluded that machine learning methods can be applied successfully for the classification of date fruit types."
   ]
  },
  {
   "cell_type": "markdown",
   "id": "02eb4858",
   "metadata": {},
   "source": [
    "<a id=\"2\"></a>\n",
    "# 2. Importing Libraries"
   ]
  },
  {
   "cell_type": "code",
   "execution_count": 1,
   "id": "acd49b38",
   "metadata": {},
   "outputs": [
    {
     "name": "stderr",
     "output_type": "stream",
     "text": [
      "C:\\Users\\tswar\\anaconda3\\TSWARUP\\lib\\site-packages\\xgboost\\compat.py:36: FutureWarning: pandas.Int64Index is deprecated and will be removed from pandas in a future version. Use pandas.Index with the appropriate dtype instead.\n",
      "  from pandas import MultiIndex, Int64Index\n"
     ]
    }
   ],
   "source": [
    "import numpy as np \n",
    "import pandas as pd \n",
    "import seaborn as sns\n",
    "\n",
    "from sklearn.preprocessing import LabelEncoder\n",
    "from sklearn.model_selection import train_test_split,RandomizedSearchCV, StratifiedKFold\n",
    "from sklearn.metrics import accuracy_score, f1_score, recall_score, confusion_matrix\n",
    "\n",
    "from xgboost import XGBClassifier"
   ]
  },
  {
   "cell_type": "markdown",
   "id": "8d63df55",
   "metadata": {},
   "source": [
    "**To Open XlX file we openpyxl**"
   ]
  },
  {
   "cell_type": "code",
   "execution_count": 2,
   "id": "3538ac40",
   "metadata": {},
   "outputs": [
    {
     "name": "stdout",
     "output_type": "stream",
     "text": [
      "Requirement already satisfied: openpyxl in c:\\users\\tswar\\anaconda3\\tswarup\\lib\\site-packages (3.0.9)Note: you may need to restart the kernel to use updated packages.\n",
      "Requirement already satisfied: et-xmlfile in c:\\users\\tswar\\anaconda3\\tswarup\\lib\\site-packages (from openpyxl) (1.1.0)\n",
      "\n"
     ]
    }
   ],
   "source": [
    "pip install openpyxl"
   ]
  },
  {
   "cell_type": "markdown",
   "id": "a1619860",
   "metadata": {},
   "source": [
    "<a id=\"3\"></a>\n",
    "# 3.Load Dataset"
   ]
  },
  {
   "cell_type": "code",
   "execution_count": 4,
   "id": "f834a761",
   "metadata": {},
   "outputs": [],
   "source": [
    "data_path = \"C:/Users/tswar/Downloads/SocialTek/Dates and Fruits/Date_Fruit_Datasets.xlsx\"\n",
    "data=pd.read_excel(data_path)\n",
    "\n",
    "df = data.copy()"
   ]
  },
  {
   "cell_type": "code",
   "execution_count": 5,
   "id": "6dc93543",
   "metadata": {},
   "outputs": [
    {
     "data": {
      "text/html": [
       "<div>\n",
       "<style scoped>\n",
       "    .dataframe tbody tr th:only-of-type {\n",
       "        vertical-align: middle;\n",
       "    }\n",
       "\n",
       "    .dataframe tbody tr th {\n",
       "        vertical-align: top;\n",
       "    }\n",
       "\n",
       "    .dataframe thead th {\n",
       "        text-align: right;\n",
       "    }\n",
       "</style>\n",
       "<table border=\"1\" class=\"dataframe\">\n",
       "  <thead>\n",
       "    <tr style=\"text-align: right;\">\n",
       "      <th></th>\n",
       "      <th>AREA</th>\n",
       "      <th>PERIMETER</th>\n",
       "      <th>MAJOR_AXIS</th>\n",
       "      <th>MINOR_AXIS</th>\n",
       "      <th>ECCENTRICITY</th>\n",
       "      <th>EQDIASQ</th>\n",
       "      <th>SOLIDITY</th>\n",
       "      <th>CONVEX_AREA</th>\n",
       "      <th>EXTENT</th>\n",
       "      <th>ASPECT_RATIO</th>\n",
       "      <th>...</th>\n",
       "      <th>KurtosisRR</th>\n",
       "      <th>KurtosisRG</th>\n",
       "      <th>KurtosisRB</th>\n",
       "      <th>EntropyRR</th>\n",
       "      <th>EntropyRG</th>\n",
       "      <th>EntropyRB</th>\n",
       "      <th>ALLdaub4RR</th>\n",
       "      <th>ALLdaub4RG</th>\n",
       "      <th>ALLdaub4RB</th>\n",
       "      <th>Class</th>\n",
       "    </tr>\n",
       "  </thead>\n",
       "  <tbody>\n",
       "    <tr>\n",
       "      <th>0</th>\n",
       "      <td>422163</td>\n",
       "      <td>2378.9080</td>\n",
       "      <td>837.8484</td>\n",
       "      <td>645.6693</td>\n",
       "      <td>0.6373</td>\n",
       "      <td>733.1539</td>\n",
       "      <td>0.9947</td>\n",
       "      <td>424428</td>\n",
       "      <td>0.7831</td>\n",
       "      <td>1.2976</td>\n",
       "      <td>...</td>\n",
       "      <td>3.2370</td>\n",
       "      <td>2.9574</td>\n",
       "      <td>4.2287</td>\n",
       "      <td>-59191263232</td>\n",
       "      <td>-50714214400</td>\n",
       "      <td>-39922372608</td>\n",
       "      <td>58.7255</td>\n",
       "      <td>54.9554</td>\n",
       "      <td>47.8400</td>\n",
       "      <td>BERHI</td>\n",
       "    </tr>\n",
       "    <tr>\n",
       "      <th>1</th>\n",
       "      <td>338136</td>\n",
       "      <td>2085.1440</td>\n",
       "      <td>723.8198</td>\n",
       "      <td>595.2073</td>\n",
       "      <td>0.5690</td>\n",
       "      <td>656.1464</td>\n",
       "      <td>0.9974</td>\n",
       "      <td>339014</td>\n",
       "      <td>0.7795</td>\n",
       "      <td>1.2161</td>\n",
       "      <td>...</td>\n",
       "      <td>2.6228</td>\n",
       "      <td>2.6350</td>\n",
       "      <td>3.1704</td>\n",
       "      <td>-34233065472</td>\n",
       "      <td>-37462601728</td>\n",
       "      <td>-31477794816</td>\n",
       "      <td>50.0259</td>\n",
       "      <td>52.8168</td>\n",
       "      <td>47.8315</td>\n",
       "      <td>BERHI</td>\n",
       "    </tr>\n",
       "    <tr>\n",
       "      <th>2</th>\n",
       "      <td>526843</td>\n",
       "      <td>2647.3940</td>\n",
       "      <td>940.7379</td>\n",
       "      <td>715.3638</td>\n",
       "      <td>0.6494</td>\n",
       "      <td>819.0222</td>\n",
       "      <td>0.9962</td>\n",
       "      <td>528876</td>\n",
       "      <td>0.7657</td>\n",
       "      <td>1.3150</td>\n",
       "      <td>...</td>\n",
       "      <td>3.7516</td>\n",
       "      <td>3.8611</td>\n",
       "      <td>4.7192</td>\n",
       "      <td>-93948354560</td>\n",
       "      <td>-74738221056</td>\n",
       "      <td>-60311207936</td>\n",
       "      <td>65.4772</td>\n",
       "      <td>59.2860</td>\n",
       "      <td>51.9378</td>\n",
       "      <td>BERHI</td>\n",
       "    </tr>\n",
       "    <tr>\n",
       "      <th>3</th>\n",
       "      <td>416063</td>\n",
       "      <td>2351.2100</td>\n",
       "      <td>827.9804</td>\n",
       "      <td>645.2988</td>\n",
       "      <td>0.6266</td>\n",
       "      <td>727.8378</td>\n",
       "      <td>0.9948</td>\n",
       "      <td>418255</td>\n",
       "      <td>0.7759</td>\n",
       "      <td>1.2831</td>\n",
       "      <td>...</td>\n",
       "      <td>5.0401</td>\n",
       "      <td>8.6136</td>\n",
       "      <td>8.2618</td>\n",
       "      <td>-32074307584</td>\n",
       "      <td>-32060925952</td>\n",
       "      <td>-29575010304</td>\n",
       "      <td>43.3900</td>\n",
       "      <td>44.1259</td>\n",
       "      <td>41.1882</td>\n",
       "      <td>BERHI</td>\n",
       "    </tr>\n",
       "    <tr>\n",
       "      <th>4</th>\n",
       "      <td>347562</td>\n",
       "      <td>2160.3540</td>\n",
       "      <td>763.9877</td>\n",
       "      <td>582.8359</td>\n",
       "      <td>0.6465</td>\n",
       "      <td>665.2291</td>\n",
       "      <td>0.9908</td>\n",
       "      <td>350797</td>\n",
       "      <td>0.7569</td>\n",
       "      <td>1.3108</td>\n",
       "      <td>...</td>\n",
       "      <td>2.7016</td>\n",
       "      <td>2.9761</td>\n",
       "      <td>4.4146</td>\n",
       "      <td>-39980974080</td>\n",
       "      <td>-35980042240</td>\n",
       "      <td>-25593278464</td>\n",
       "      <td>52.7743</td>\n",
       "      <td>50.9080</td>\n",
       "      <td>42.6666</td>\n",
       "      <td>BERHI</td>\n",
       "    </tr>\n",
       "    <tr>\n",
       "      <th>...</th>\n",
       "      <td>...</td>\n",
       "      <td>...</td>\n",
       "      <td>...</td>\n",
       "      <td>...</td>\n",
       "      <td>...</td>\n",
       "      <td>...</td>\n",
       "      <td>...</td>\n",
       "      <td>...</td>\n",
       "      <td>...</td>\n",
       "      <td>...</td>\n",
       "      <td>...</td>\n",
       "      <td>...</td>\n",
       "      <td>...</td>\n",
       "      <td>...</td>\n",
       "      <td>...</td>\n",
       "      <td>...</td>\n",
       "      <td>...</td>\n",
       "      <td>...</td>\n",
       "      <td>...</td>\n",
       "      <td>...</td>\n",
       "      <td>...</td>\n",
       "    </tr>\n",
       "    <tr>\n",
       "      <th>893</th>\n",
       "      <td>255403</td>\n",
       "      <td>1925.3650</td>\n",
       "      <td>691.8453</td>\n",
       "      <td>477.1796</td>\n",
       "      <td>0.7241</td>\n",
       "      <td>570.2536</td>\n",
       "      <td>0.9785</td>\n",
       "      <td>261028</td>\n",
       "      <td>0.7269</td>\n",
       "      <td>1.4499</td>\n",
       "      <td>...</td>\n",
       "      <td>2.2423</td>\n",
       "      <td>2.3704</td>\n",
       "      <td>2.7202</td>\n",
       "      <td>-25296416768</td>\n",
       "      <td>-19168882688</td>\n",
       "      <td>-18473392128</td>\n",
       "      <td>49.0869</td>\n",
       "      <td>43.0422</td>\n",
       "      <td>42.4153</td>\n",
       "      <td>SOGAY</td>\n",
       "    </tr>\n",
       "    <tr>\n",
       "      <th>894</th>\n",
       "      <td>365924</td>\n",
       "      <td>2664.8230</td>\n",
       "      <td>855.4633</td>\n",
       "      <td>551.5447</td>\n",
       "      <td>0.7644</td>\n",
       "      <td>682.5752</td>\n",
       "      <td>0.9466</td>\n",
       "      <td>386566</td>\n",
       "      <td>0.6695</td>\n",
       "      <td>1.5510</td>\n",
       "      <td>...</td>\n",
       "      <td>3.4109</td>\n",
       "      <td>3.5805</td>\n",
       "      <td>3.9910</td>\n",
       "      <td>-31605219328</td>\n",
       "      <td>-21945366528</td>\n",
       "      <td>-19277905920</td>\n",
       "      <td>46.8086</td>\n",
       "      <td>39.1046</td>\n",
       "      <td>36.5502</td>\n",
       "      <td>SOGAY</td>\n",
       "    </tr>\n",
       "    <tr>\n",
       "      <th>895</th>\n",
       "      <td>254330</td>\n",
       "      <td>1926.7360</td>\n",
       "      <td>747.4943</td>\n",
       "      <td>435.6219</td>\n",
       "      <td>0.8126</td>\n",
       "      <td>569.0545</td>\n",
       "      <td>0.9925</td>\n",
       "      <td>256255</td>\n",
       "      <td>0.7240</td>\n",
       "      <td>1.7159</td>\n",
       "      <td>...</td>\n",
       "      <td>2.2759</td>\n",
       "      <td>2.5090</td>\n",
       "      <td>2.6951</td>\n",
       "      <td>-22242772992</td>\n",
       "      <td>-19594921984</td>\n",
       "      <td>-17592152064</td>\n",
       "      <td>44.1325</td>\n",
       "      <td>40.7986</td>\n",
       "      <td>40.9769</td>\n",
       "      <td>SOGAY</td>\n",
       "    </tr>\n",
       "    <tr>\n",
       "      <th>896</th>\n",
       "      <td>238955</td>\n",
       "      <td>1906.2679</td>\n",
       "      <td>716.6485</td>\n",
       "      <td>441.8297</td>\n",
       "      <td>0.7873</td>\n",
       "      <td>551.5859</td>\n",
       "      <td>0.9604</td>\n",
       "      <td>248795</td>\n",
       "      <td>0.6954</td>\n",
       "      <td>1.6220</td>\n",
       "      <td>...</td>\n",
       "      <td>2.6769</td>\n",
       "      <td>2.6874</td>\n",
       "      <td>2.7991</td>\n",
       "      <td>-26048595968</td>\n",
       "      <td>-21299822592</td>\n",
       "      <td>-19809978368</td>\n",
       "      <td>51.2267</td>\n",
       "      <td>45.7162</td>\n",
       "      <td>45.6260</td>\n",
       "      <td>SOGAY</td>\n",
       "    </tr>\n",
       "    <tr>\n",
       "      <th>897</th>\n",
       "      <td>343792</td>\n",
       "      <td>2289.2720</td>\n",
       "      <td>823.8438</td>\n",
       "      <td>534.7757</td>\n",
       "      <td>0.7607</td>\n",
       "      <td>661.6113</td>\n",
       "      <td>0.9781</td>\n",
       "      <td>351472</td>\n",
       "      <td>0.6941</td>\n",
       "      <td>1.5405</td>\n",
       "      <td>...</td>\n",
       "      <td>2.5138</td>\n",
       "      <td>3.0369</td>\n",
       "      <td>3.0865</td>\n",
       "      <td>-31983476736</td>\n",
       "      <td>-20482514944</td>\n",
       "      <td>-21219354624</td>\n",
       "      <td>47.3454</td>\n",
       "      <td>38.6966</td>\n",
       "      <td>39.6738</td>\n",
       "      <td>SOGAY</td>\n",
       "    </tr>\n",
       "  </tbody>\n",
       "</table>\n",
       "<p>898 rows × 35 columns</p>\n",
       "</div>"
      ],
      "text/plain": [
       "       AREA  PERIMETER  MAJOR_AXIS  MINOR_AXIS  ECCENTRICITY   EQDIASQ  \\\n",
       "0    422163  2378.9080    837.8484    645.6693        0.6373  733.1539   \n",
       "1    338136  2085.1440    723.8198    595.2073        0.5690  656.1464   \n",
       "2    526843  2647.3940    940.7379    715.3638        0.6494  819.0222   \n",
       "3    416063  2351.2100    827.9804    645.2988        0.6266  727.8378   \n",
       "4    347562  2160.3540    763.9877    582.8359        0.6465  665.2291   \n",
       "..      ...        ...         ...         ...           ...       ...   \n",
       "893  255403  1925.3650    691.8453    477.1796        0.7241  570.2536   \n",
       "894  365924  2664.8230    855.4633    551.5447        0.7644  682.5752   \n",
       "895  254330  1926.7360    747.4943    435.6219        0.8126  569.0545   \n",
       "896  238955  1906.2679    716.6485    441.8297        0.7873  551.5859   \n",
       "897  343792  2289.2720    823.8438    534.7757        0.7607  661.6113   \n",
       "\n",
       "     SOLIDITY  CONVEX_AREA  EXTENT  ASPECT_RATIO  ...  KurtosisRR  KurtosisRG  \\\n",
       "0      0.9947       424428  0.7831        1.2976  ...      3.2370      2.9574   \n",
       "1      0.9974       339014  0.7795        1.2161  ...      2.6228      2.6350   \n",
       "2      0.9962       528876  0.7657        1.3150  ...      3.7516      3.8611   \n",
       "3      0.9948       418255  0.7759        1.2831  ...      5.0401      8.6136   \n",
       "4      0.9908       350797  0.7569        1.3108  ...      2.7016      2.9761   \n",
       "..        ...          ...     ...           ...  ...         ...         ...   \n",
       "893    0.9785       261028  0.7269        1.4499  ...      2.2423      2.3704   \n",
       "894    0.9466       386566  0.6695        1.5510  ...      3.4109      3.5805   \n",
       "895    0.9925       256255  0.7240        1.7159  ...      2.2759      2.5090   \n",
       "896    0.9604       248795  0.6954        1.6220  ...      2.6769      2.6874   \n",
       "897    0.9781       351472  0.6941        1.5405  ...      2.5138      3.0369   \n",
       "\n",
       "     KurtosisRB    EntropyRR    EntropyRG    EntropyRB  ALLdaub4RR  \\\n",
       "0        4.2287 -59191263232 -50714214400 -39922372608     58.7255   \n",
       "1        3.1704 -34233065472 -37462601728 -31477794816     50.0259   \n",
       "2        4.7192 -93948354560 -74738221056 -60311207936     65.4772   \n",
       "3        8.2618 -32074307584 -32060925952 -29575010304     43.3900   \n",
       "4        4.4146 -39980974080 -35980042240 -25593278464     52.7743   \n",
       "..          ...          ...          ...          ...         ...   \n",
       "893      2.7202 -25296416768 -19168882688 -18473392128     49.0869   \n",
       "894      3.9910 -31605219328 -21945366528 -19277905920     46.8086   \n",
       "895      2.6951 -22242772992 -19594921984 -17592152064     44.1325   \n",
       "896      2.7991 -26048595968 -21299822592 -19809978368     51.2267   \n",
       "897      3.0865 -31983476736 -20482514944 -21219354624     47.3454   \n",
       "\n",
       "     ALLdaub4RG  ALLdaub4RB  Class  \n",
       "0       54.9554     47.8400  BERHI  \n",
       "1       52.8168     47.8315  BERHI  \n",
       "2       59.2860     51.9378  BERHI  \n",
       "3       44.1259     41.1882  BERHI  \n",
       "4       50.9080     42.6666  BERHI  \n",
       "..          ...         ...    ...  \n",
       "893     43.0422     42.4153  SOGAY  \n",
       "894     39.1046     36.5502  SOGAY  \n",
       "895     40.7986     40.9769  SOGAY  \n",
       "896     45.7162     45.6260  SOGAY  \n",
       "897     38.6966     39.6738  SOGAY  \n",
       "\n",
       "[898 rows x 35 columns]"
      ]
     },
     "execution_count": 5,
     "metadata": {},
     "output_type": "execute_result"
    }
   ],
   "source": [
    "df"
   ]
  },
  {
   "cell_type": "markdown",
   "id": "c8ce9f91",
   "metadata": {},
   "source": [
    "<a id=\"4\"></a>\n",
    "# 4.Data Understanding"
   ]
  },
  {
   "cell_type": "code",
   "execution_count": 6,
   "id": "e026e15c",
   "metadata": {},
   "outputs": [],
   "source": [
    "def InfoData(dataframe,target_variable = None):\n",
    "    \n",
    "    print(f\"\"\"\n",
    "== DATA INFO ==\n",
    "* Shape: {dataframe.shape}\n",
    "* Number of data = {dataframe.shape[0]}\n",
    "\n",
    "\n",
    "== COLUMNS INFO ==\n",
    "* Number of columns: {len(dataframe.columns)}\n",
    "* Columns with dtype: \n",
    "{dataframe.dtypes}\n",
    "\n",
    "\n",
    "== Missing / Nan Values ==\n",
    "* Is there any missing value?: {dataframe.isnull().values.any()}\n",
    "    \"\"\")\n",
    "    \n",
    "    if (target_variable != None) and (target_variable in dataframe.columns):    \n",
    "        \n",
    "        print(f\"\"\"\n",
    "== TARGET VARIABLE ==\n",
    "\n",
    "* Variable: {target_variable}\n",
    "* Values of Variable: {\" - \".join(df.Class.unique())}\n",
    "* Count of Values: {len(df.Class.unique())}\n",
    "\"\"\")\n",
    "        \n",
    "        \n",
    "        \n",
    "    elif (target_variable != None) and (target_variable not in dataframe.columns): \n",
    "        print(\"Please type correctly your target variable\")\n",
    "      "
   ]
  },
  {
   "cell_type": "code",
   "execution_count": 7,
   "id": "20c5578a",
   "metadata": {},
   "outputs": [
    {
     "name": "stdout",
     "output_type": "stream",
     "text": [
      "\n",
      "== DATA INFO ==\n",
      "* Shape: (898, 35)\n",
      "* Number of data = 898\n",
      "\n",
      "\n",
      "== COLUMNS INFO ==\n",
      "* Number of columns: 35\n",
      "* Columns with dtype: \n",
      "AREA               int64\n",
      "PERIMETER        float64\n",
      "MAJOR_AXIS       float64\n",
      "MINOR_AXIS       float64\n",
      "ECCENTRICITY     float64\n",
      "EQDIASQ          float64\n",
      "SOLIDITY         float64\n",
      "CONVEX_AREA        int64\n",
      "EXTENT           float64\n",
      "ASPECT_RATIO     float64\n",
      "ROUNDNESS        float64\n",
      "COMPACTNESS      float64\n",
      "SHAPEFACTOR_1    float64\n",
      "SHAPEFACTOR_2    float64\n",
      "SHAPEFACTOR_3    float64\n",
      "SHAPEFACTOR_4    float64\n",
      "MeanRR           float64\n",
      "MeanRG           float64\n",
      "MeanRB           float64\n",
      "StdDevRR         float64\n",
      "StdDevRG         float64\n",
      "StdDevRB         float64\n",
      "SkewRR           float64\n",
      "SkewRG           float64\n",
      "SkewRB           float64\n",
      "KurtosisRR       float64\n",
      "KurtosisRG       float64\n",
      "KurtosisRB       float64\n",
      "EntropyRR          int64\n",
      "EntropyRG          int64\n",
      "EntropyRB          int64\n",
      "ALLdaub4RR       float64\n",
      "ALLdaub4RG       float64\n",
      "ALLdaub4RB       float64\n",
      "Class             object\n",
      "dtype: object\n",
      "\n",
      "\n",
      "== Missing / Nan Values ==\n",
      "* Is there any missing value?: False\n",
      "    \n",
      "\n",
      "== TARGET VARIABLE ==\n",
      "\n",
      "* Variable: Class\n",
      "* Values of Variable: BERHI - DEGLET - DOKOL - IRAQI - ROTANA - SAFAVI - SOGAY\n",
      "* Count of Values: 7\n",
      "\n"
     ]
    }
   ],
   "source": [
    "InfoData(df,\"Class\")"
   ]
  },
  {
   "cell_type": "code",
   "execution_count": 8,
   "id": "7d3ceff2",
   "metadata": {},
   "outputs": [
    {
     "name": "stdout",
     "output_type": "stream",
     "text": [
      "AREA: | Min: 1987.0000 | Max: 546063.0000 | Std: 107245.2053 | Mean: 298295.2071\n",
      "PERIMETER: | Min: 911.8280 | Max: 2811.9971 | Std: 410.0125 | Mean: 2057.6610\n",
      "MAJOR_AXIS: | Min: 336.7227 | Max: 1222.7230 | Std: 144.0593 | Mean: 750.8120\n",
      "MINOR_AXIS: | Min: 2.2832 | Max: 766.4536 | Std: 114.2689 | Mean: 495.8728\n",
      "ECCENTRICITY: | Min: 0.3448 | Max: 1.0000 | Std: 0.0887 | Mean: 0.7375\n",
      "EQDIASQ: | Min: 50.2984 | Max: 833.8279 | Std: 119.5939 | Mean: 604.5779\n",
      "SOLIDITY: | Min: 0.8366 | Max: 0.9974 | Std: 0.0182 | Mean: 0.9818\n",
      "CONVEX_AREA: | Min: 2257.0000 | Max: 552598.0000 | Std: 108815.6569 | Mean: 303845.5924\n",
      "EXTENT: | Min: 0.5123 | Max: 0.8562 | Std: 0.0537 | Mean: 0.7363\n",
      "ASPECT_RATIO: | Min: 1.0653 | Max: 535.5257 | Std: 17.8208 | Mean: 2.1311\n",
      "ROUNDNESS: | Min: 0.0048 | Max: 0.9773 | Std: 0.0708 | Mean: 0.8577\n",
      "COMPACTNESS: | Min: 0.0411 | Max: 0.9681 | Std: 0.0622 | Mean: 0.8072\n",
      "SHAPEFACTOR_1: | Min: 0.0017 | Max: 0.6154 | Std: 0.0205 | Mean: 0.0034\n",
      "SHAPEFACTOR_2: | Min: 0.0011 | Max: 0.0043 | Std: 0.0004 | Mean: 0.0018\n",
      "SHAPEFACTOR_3: | Min: 0.0017 | Max: 0.9373 | Std: 0.0943 | Mean: 0.6554\n",
      "SHAPEFACTOR_4: | Min: 0.7568 | Max: 0.9995 | Std: 0.0205 | Mean: 0.9887\n",
      "MeanRR: | Min: 30.3826 | Max: 159.6494 | Std: 32.1265 | Mean: 100.1659\n",
      "MeanRG: | Min: 41.0480 | Max: 166.1354 | Std: 28.2518 | Mean: 97.6094\n",
      "MeanRB: | Min: 44.2569 | Max: 148.2114 | Std: 21.6274 | Mean: 96.1949\n",
      "StdDevRR: | Min: 7.3038 | Max: 48.5712 | Std: 6.3069 | Mean: 29.0474\n",
      "StdDevRG: | Min: 8.6557 | Max: 45.5107 | Std: 5.4622 | Mean: 26.3834\n",
      "StdDevRB: | Min: 5.1486 | Max: 42.4228 | Std: 4.9051 | Mean: 26.1483\n",
      "SkewRR: | Min: -1.7242 | Max: 3.2236 | Std: 0.9433 | Mean: 0.0893\n",
      "SkewRG: | Min: -1.8344 | Max: 3.6971 | Std: 1.0398 | Mean: 0.5641\n",
      "SkewRB: | Min: -1.0291 | Max: 3.0923 | Std: 0.6329 | Mean: 0.2505\n",
      "KurtosisRR: | Min: 1.7082 | Max: 26.1711 | Std: 2.8924 | Mean: 4.2478\n",
      "KurtosisRG: | Min: 1.6076 | Max: 26.7367 | Std: 3.7455 | Mean: 5.1109\n",
      "KurtosisRB: | Min: 1.7672 | Max: 32.2495 | Std: 2.0498 | Mean: 3.7809\n",
      "EntropyRR: | Min: -109122420736.0000 | Max: -162731632.0000 | Std: 20372411642.7532 | Mean: -31850206242.6192\n",
      "EntropyRG: | Min: -92616974336.0000 | Max: -562772672.0000 | Std: 17129522646.0455 | Mean: -29018599755.4744\n",
      "EntropyRB: | Min: -87471767552.0000 | Max: -437043456.0000 | Std: 14841374790.1303 | Mean: -27718762813.8619\n",
      "ALLdaub4RR: | Min: 15.1911 | Max: 79.8289 | Std: 16.0631 | Mean: 50.0829\n",
      "ALLdaub4RG: | Min: 20.5247 | Max: 83.0649 | Std: 14.1259 | Mean: 48.8057\n",
      "ALLdaub4RB: | Min: 22.1300 | Max: 74.1046 | Std: 10.8139 | Mean: 48.0984\n"
     ]
    }
   ],
   "source": [
    "for i in df.columns[:-1]: # I dont want to / can not see last column(\"Class\") because it is target variable and it is an object\n",
    "    print(f\"{i}: | Min: {df[i].min():.4f} | Max: {df[i].max():.4f} | Std: {df[i].std():.4f} | Mean: {(df[i].mean()):.4f}\")"
   ]
  },
  {
   "cell_type": "markdown",
   "id": "21b39250",
   "metadata": {},
   "source": [
    "<a id=\"5\"></a>\n",
    "# 5.Data Preprocessing"
   ]
  },
  {
   "cell_type": "code",
   "execution_count": 9,
   "id": "f3cf4f3a",
   "metadata": {},
   "outputs": [],
   "source": [
    "# Label Encoding\n",
    "le = LabelEncoder()\n",
    "target = df['Class']\n",
    "target = le.fit_transform(target)"
   ]
  },
  {
   "cell_type": "code",
   "execution_count": 10,
   "id": "d3b67d23",
   "metadata": {},
   "outputs": [],
   "source": [
    "X = df.drop(\"Class\",axis=1)"
   ]
  },
  {
   "cell_type": "code",
   "execution_count": 11,
   "id": "8af394e8",
   "metadata": {},
   "outputs": [],
   "source": [
    "train_test_split_params = {\"test_size\":0.33,\n",
    "                        \"random_state\":1}"
   ]
  },
  {
   "cell_type": "code",
   "execution_count": 12,
   "id": "2fe6798d",
   "metadata": {},
   "outputs": [],
   "source": [
    "X_train, X_test, y_train, y_test = train_test_split(X, target,\n",
    "                                                    test_size=train_test_split_params[\"test_size\"],\n",
    "                                                    random_state=train_test_split_params[\"random_state\"],\n",
    "                                                    shuffle=True)"
   ]
  },
  {
   "cell_type": "code",
   "execution_count": 13,
   "id": "947fd91e",
   "metadata": {},
   "outputs": [
    {
     "name": "stdout",
     "output_type": "stream",
     "text": [
      "\n",
      "X_train shape: (601, 34)\n",
      "X_test shape: (297, 34)\n",
      "y_train shape: (601,)\n",
      "y_test shape: (297,)\n",
      "\n"
     ]
    }
   ],
   "source": [
    "print(f\"\"\"\n",
    "X_train shape: {X_train.shape}\n",
    "X_test shape: {X_test.shape}\n",
    "y_train shape: {y_train.shape}\n",
    "y_test shape: {y_test.shape}\n",
    "\"\"\")"
   ]
  },
  {
   "cell_type": "markdown",
   "id": "38662c3b",
   "metadata": {},
   "source": [
    "<a id=\"6\"></a>\n",
    "# 6.Modelling"
   ]
  },
  {
   "cell_type": "markdown",
   "id": "10a03f64",
   "metadata": {},
   "source": [
    "#### Notes:\n",
    "##### * I will use \"RandomizeGridSearch\" to select parameters\n",
    "##### * I will use \"StratifiedKFold\" because we are dealing with imbalanced class distributions. (You can see below)"
   ]
  },
  {
   "cell_type": "code",
   "execution_count": 14,
   "id": "e30d0f0a",
   "metadata": {},
   "outputs": [
    {
     "data": {
      "image/png": "[encoded data removed]",
      "text/plain": [
       "<Figure size 432x288 with 1 Axes>"
      ]
     },
     "metadata": {
      "needs_background": "light"
     },
     "output_type": "display_data"
    }
   ],
   "source": [
    "sns.barplot(y=df[\"Class\"].value_counts().index,x=df[\"Class\"].value_counts().values);"
   ]
  },
  {
   "cell_type": "code",
   "execution_count": 15,
   "id": "3e141cc2",
   "metadata": {},
   "outputs": [],
   "source": [
    "params = {\n",
    "        'min_child_weight': [1, 5, 10],\n",
    "        'gamma': [0.5, 1, 1.5, 2, 5],\n",
    "        'eval_metric': [\"mlogloss\"],\n",
    "        'learning_rate': [0.01, 0.05, 0.1],\n",
    "        'subsample': [0.6, 0.8, 1.0],\n",
    "        'colsample_bytree': [0.6, 0.8, 1.0],\n",
    "        'max_depth': [0, 3, 4]\n",
    "        }"
   ]
  },
  {
   "cell_type": "code",
   "execution_count": 16,
   "id": "3862f6f1",
   "metadata": {},
   "outputs": [
    {
     "name": "stdout",
     "output_type": "stream",
     "text": [
      "Fitting 5 folds for each of 5 candidates, totalling 25 fits\n"
     ]
    },
    {
     "name": "stderr",
     "output_type": "stream",
     "text": [
      "C:\\Users\\tswar\\anaconda3\\TSWARUP\\lib\\site-packages\\xgboost\\sklearn.py:1224: UserWarning: The use of label encoder in XGBClassifier is deprecated and will be removed in a future release. To remove this warning, do the following: 1) Pass option use_label_encoder=False when constructing XGBClassifier object; and 2) Encode your labels (y) as integers starting with 0, i.e. 0, 1, 2, ..., [num_class - 1].\n",
      "  warnings.warn(label_encoder_deprecation_msg, UserWarning)\n",
      "C:\\Users\\tswar\\anaconda3\\TSWARUP\\lib\\site-packages\\xgboost\\data.py:262: FutureWarning: pandas.Int64Index is deprecated and will be removed from pandas in a future version. Use pandas.Index with the appropriate dtype instead.\n",
      "  elif isinstance(data.columns, (pd.Int64Index, pd.RangeIndex)):\n"
     ]
    },
    {
     "name": "stdout",
     "output_type": "stream",
     "text": [
      "[CV 1/5] END colsample_bytree=1.0, eval_metric=mlogloss, gamma=2, learning_rate=0.01, max_depth=0, min_child_weight=10, subsample=1.0;, score=0.240 total time=   0.7s\n"
     ]
    },
    {
     "name": "stderr",
     "output_type": "stream",
     "text": [
      "C:\\Users\\tswar\\anaconda3\\TSWARUP\\lib\\site-packages\\xgboost\\sklearn.py:1224: UserWarning: The use of label encoder in XGBClassifier is deprecated and will be removed in a future release. To remove this warning, do the following: 1) Pass option use_label_encoder=False when constructing XGBClassifier object; and 2) Encode your labels (y) as integers starting with 0, i.e. 0, 1, 2, ..., [num_class - 1].\n",
      "  warnings.warn(label_encoder_deprecation_msg, UserWarning)\n",
      "C:\\Users\\tswar\\anaconda3\\TSWARUP\\lib\\site-packages\\xgboost\\data.py:262: FutureWarning: pandas.Int64Index is deprecated and will be removed from pandas in a future version. Use pandas.Index with the appropriate dtype instead.\n",
      "  elif isinstance(data.columns, (pd.Int64Index, pd.RangeIndex)):\n"
     ]
    },
    {
     "name": "stdout",
     "output_type": "stream",
     "text": [
      "[CV 2/5] END colsample_bytree=1.0, eval_metric=mlogloss, gamma=2, learning_rate=0.01, max_depth=0, min_child_weight=10, subsample=1.0;, score=0.233 total time=   0.2s\n"
     ]
    },
    {
     "name": "stderr",
     "output_type": "stream",
     "text": [
      "C:\\Users\\tswar\\anaconda3\\TSWARUP\\lib\\site-packages\\xgboost\\sklearn.py:1224: UserWarning: The use of label encoder in XGBClassifier is deprecated and will be removed in a future release. To remove this warning, do the following: 1) Pass option use_label_encoder=False when constructing XGBClassifier object; and 2) Encode your labels (y) as integers starting with 0, i.e. 0, 1, 2, ..., [num_class - 1].\n",
      "  warnings.warn(label_encoder_deprecation_msg, UserWarning)\n",
      "C:\\Users\\tswar\\anaconda3\\TSWARUP\\lib\\site-packages\\xgboost\\data.py:262: FutureWarning: pandas.Int64Index is deprecated and will be removed from pandas in a future version. Use pandas.Index with the appropriate dtype instead.\n",
      "  elif isinstance(data.columns, (pd.Int64Index, pd.RangeIndex)):\n"
     ]
    },
    {
     "name": "stdout",
     "output_type": "stream",
     "text": [
      "[CV 3/5] END colsample_bytree=1.0, eval_metric=mlogloss, gamma=2, learning_rate=0.01, max_depth=0, min_child_weight=10, subsample=1.0;, score=0.233 total time=   0.3s\n"
     ]
    },
    {
     "name": "stderr",
     "output_type": "stream",
     "text": [
      "C:\\Users\\tswar\\anaconda3\\TSWARUP\\lib\\site-packages\\xgboost\\sklearn.py:1224: UserWarning: The use of label encoder in XGBClassifier is deprecated and will be removed in a future release. To remove this warning, do the following: 1) Pass option use_label_encoder=False when constructing XGBClassifier object; and 2) Encode your labels (y) as integers starting with 0, i.e. 0, 1, 2, ..., [num_class - 1].\n",
      "  warnings.warn(label_encoder_deprecation_msg, UserWarning)\n",
      "C:\\Users\\tswar\\anaconda3\\TSWARUP\\lib\\site-packages\\xgboost\\data.py:262: FutureWarning: pandas.Int64Index is deprecated and will be removed from pandas in a future version. Use pandas.Index with the appropriate dtype instead.\n",
      "  elif isinstance(data.columns, (pd.Int64Index, pd.RangeIndex)):\n"
     ]
    },
    {
     "name": "stdout",
     "output_type": "stream",
     "text": [
      "[CV 4/5] END colsample_bytree=1.0, eval_metric=mlogloss, gamma=2, learning_rate=0.01, max_depth=0, min_child_weight=10, subsample=1.0;, score=0.233 total time=   0.2s\n"
     ]
    },
    {
     "name": "stderr",
     "output_type": "stream",
     "text": [
      "C:\\Users\\tswar\\anaconda3\\TSWARUP\\lib\\site-packages\\xgboost\\sklearn.py:1224: UserWarning: The use of label encoder in XGBClassifier is deprecated and will be removed in a future release. To remove this warning, do the following: 1) Pass option use_label_encoder=False when constructing XGBClassifier object; and 2) Encode your labels (y) as integers starting with 0, i.e. 0, 1, 2, ..., [num_class - 1].\n",
      "  warnings.warn(label_encoder_deprecation_msg, UserWarning)\n",
      "C:\\Users\\tswar\\anaconda3\\TSWARUP\\lib\\site-packages\\xgboost\\data.py:262: FutureWarning: pandas.Int64Index is deprecated and will be removed from pandas in a future version. Use pandas.Index with the appropriate dtype instead.\n",
      "  elif isinstance(data.columns, (pd.Int64Index, pd.RangeIndex)):\n"
     ]
    },
    {
     "name": "stdout",
     "output_type": "stream",
     "text": [
      "[CV 5/5] END colsample_bytree=1.0, eval_metric=mlogloss, gamma=2, learning_rate=0.01, max_depth=0, min_child_weight=10, subsample=1.0;, score=0.242 total time=   0.2s\n"
     ]
    },
    {
     "name": "stderr",
     "output_type": "stream",
     "text": [
      "C:\\Users\\tswar\\anaconda3\\TSWARUP\\lib\\site-packages\\xgboost\\sklearn.py:1224: UserWarning: The use of label encoder in XGBClassifier is deprecated and will be removed in a future release. To remove this warning, do the following: 1) Pass option use_label_encoder=False when constructing XGBClassifier object; and 2) Encode your labels (y) as integers starting with 0, i.e. 0, 1, 2, ..., [num_class - 1].\n",
      "  warnings.warn(label_encoder_deprecation_msg, UserWarning)\n",
      "C:\\Users\\tswar\\anaconda3\\TSWARUP\\lib\\site-packages\\xgboost\\data.py:262: FutureWarning: pandas.Int64Index is deprecated and will be removed from pandas in a future version. Use pandas.Index with the appropriate dtype instead.\n",
      "  elif isinstance(data.columns, (pd.Int64Index, pd.RangeIndex)):\n"
     ]
    },
    {
     "name": "stdout",
     "output_type": "stream",
     "text": [
      "[CV 1/5] END colsample_bytree=0.6, eval_metric=mlogloss, gamma=1.5, learning_rate=0.1, max_depth=4, min_child_weight=1, subsample=0.8;, score=0.868 total time=   1.2s\n"
     ]
    },
    {
     "name": "stderr",
     "output_type": "stream",
     "text": [
      "C:\\Users\\tswar\\anaconda3\\TSWARUP\\lib\\site-packages\\xgboost\\sklearn.py:1224: UserWarning: The use of label encoder in XGBClassifier is deprecated and will be removed in a future release. To remove this warning, do the following: 1) Pass option use_label_encoder=False when constructing XGBClassifier object; and 2) Encode your labels (y) as integers starting with 0, i.e. 0, 1, 2, ..., [num_class - 1].\n",
      "  warnings.warn(label_encoder_deprecation_msg, UserWarning)\n",
      "C:\\Users\\tswar\\anaconda3\\TSWARUP\\lib\\site-packages\\xgboost\\data.py:262: FutureWarning: pandas.Int64Index is deprecated and will be removed from pandas in a future version. Use pandas.Index with the appropriate dtype instead.\n",
      "  elif isinstance(data.columns, (pd.Int64Index, pd.RangeIndex)):\n"
     ]
    },
    {
     "name": "stdout",
     "output_type": "stream",
     "text": [
      "[CV 2/5] END colsample_bytree=0.6, eval_metric=mlogloss, gamma=1.5, learning_rate=0.1, max_depth=4, min_child_weight=1, subsample=0.8;, score=0.925 total time=   1.6s\n"
     ]
    },
    {
     "name": "stderr",
     "output_type": "stream",
     "text": [
      "C:\\Users\\tswar\\anaconda3\\TSWARUP\\lib\\site-packages\\xgboost\\sklearn.py:1224: UserWarning: The use of label encoder in XGBClassifier is deprecated and will be removed in a future release. To remove this warning, do the following: 1) Pass option use_label_encoder=False when constructing XGBClassifier object; and 2) Encode your labels (y) as integers starting with 0, i.e. 0, 1, 2, ..., [num_class - 1].\n",
      "  warnings.warn(label_encoder_deprecation_msg, UserWarning)\n",
      "C:\\Users\\tswar\\anaconda3\\TSWARUP\\lib\\site-packages\\xgboost\\data.py:262: FutureWarning: pandas.Int64Index is deprecated and will be removed from pandas in a future version. Use pandas.Index with the appropriate dtype instead.\n",
      "  elif isinstance(data.columns, (pd.Int64Index, pd.RangeIndex)):\n"
     ]
    },
    {
     "name": "stdout",
     "output_type": "stream",
     "text": [
      "[CV 3/5] END colsample_bytree=0.6, eval_metric=mlogloss, gamma=1.5, learning_rate=0.1, max_depth=4, min_child_weight=1, subsample=0.8;, score=0.892 total time=   1.3s\n"
     ]
    },
    {
     "name": "stderr",
     "output_type": "stream",
     "text": [
      "C:\\Users\\tswar\\anaconda3\\TSWARUP\\lib\\site-packages\\xgboost\\sklearn.py:1224: UserWarning: The use of label encoder in XGBClassifier is deprecated and will be removed in a future release. To remove this warning, do the following: 1) Pass option use_label_encoder=False when constructing XGBClassifier object; and 2) Encode your labels (y) as integers starting with 0, i.e. 0, 1, 2, ..., [num_class - 1].\n",
      "  warnings.warn(label_encoder_deprecation_msg, UserWarning)\n",
      "C:\\Users\\tswar\\anaconda3\\TSWARUP\\lib\\site-packages\\xgboost\\data.py:262: FutureWarning: pandas.Int64Index is deprecated and will be removed from pandas in a future version. Use pandas.Index with the appropriate dtype instead.\n",
      "  elif isinstance(data.columns, (pd.Int64Index, pd.RangeIndex)):\n"
     ]
    },
    {
     "name": "stdout",
     "output_type": "stream",
     "text": [
      "[CV 4/5] END colsample_bytree=0.6, eval_metric=mlogloss, gamma=1.5, learning_rate=0.1, max_depth=4, min_child_weight=1, subsample=0.8;, score=0.892 total time=   1.2s\n"
     ]
    },
    {
     "name": "stderr",
     "output_type": "stream",
     "text": [
      "C:\\Users\\tswar\\anaconda3\\TSWARUP\\lib\\site-packages\\xgboost\\sklearn.py:1224: UserWarning: The use of label encoder in XGBClassifier is deprecated and will be removed in a future release. To remove this warning, do the following: 1) Pass option use_label_encoder=False when constructing XGBClassifier object; and 2) Encode your labels (y) as integers starting with 0, i.e. 0, 1, 2, ..., [num_class - 1].\n",
      "  warnings.warn(label_encoder_deprecation_msg, UserWarning)\n",
      "C:\\Users\\tswar\\anaconda3\\TSWARUP\\lib\\site-packages\\xgboost\\data.py:262: FutureWarning: pandas.Int64Index is deprecated and will be removed from pandas in a future version. Use pandas.Index with the appropriate dtype instead.\n",
      "  elif isinstance(data.columns, (pd.Int64Index, pd.RangeIndex)):\n"
     ]
    },
    {
     "name": "stdout",
     "output_type": "stream",
     "text": [
      "[CV 5/5] END colsample_bytree=0.6, eval_metric=mlogloss, gamma=1.5, learning_rate=0.1, max_depth=4, min_child_weight=1, subsample=0.8;, score=0.858 total time=   1.6s\n"
     ]
    },
    {
     "name": "stderr",
     "output_type": "stream",
     "text": [
      "C:\\Users\\tswar\\anaconda3\\TSWARUP\\lib\\site-packages\\xgboost\\sklearn.py:1224: UserWarning: The use of label encoder in XGBClassifier is deprecated and will be removed in a future release. To remove this warning, do the following: 1) Pass option use_label_encoder=False when constructing XGBClassifier object; and 2) Encode your labels (y) as integers starting with 0, i.e. 0, 1, 2, ..., [num_class - 1].\n",
      "  warnings.warn(label_encoder_deprecation_msg, UserWarning)\n",
      "C:\\Users\\tswar\\anaconda3\\TSWARUP\\lib\\site-packages\\xgboost\\data.py:262: FutureWarning: pandas.Int64Index is deprecated and will be removed from pandas in a future version. Use pandas.Index with the appropriate dtype instead.\n",
      "  elif isinstance(data.columns, (pd.Int64Index, pd.RangeIndex)):\n"
     ]
    },
    {
     "name": "stdout",
     "output_type": "stream",
     "text": [
      "[CV 1/5] END colsample_bytree=1.0, eval_metric=mlogloss, gamma=2, learning_rate=0.05, max_depth=3, min_child_weight=10, subsample=0.8;, score=0.860 total time=   0.9s\n"
     ]
    },
    {
     "name": "stderr",
     "output_type": "stream",
     "text": [
      "C:\\Users\\tswar\\anaconda3\\TSWARUP\\lib\\site-packages\\xgboost\\sklearn.py:1224: UserWarning: The use of label encoder in XGBClassifier is deprecated and will be removed in a future release. To remove this warning, do the following: 1) Pass option use_label_encoder=False when constructing XGBClassifier object; and 2) Encode your labels (y) as integers starting with 0, i.e. 0, 1, 2, ..., [num_class - 1].\n",
      "  warnings.warn(label_encoder_deprecation_msg, UserWarning)\n",
      "C:\\Users\\tswar\\anaconda3\\TSWARUP\\lib\\site-packages\\xgboost\\data.py:262: FutureWarning: pandas.Int64Index is deprecated and will be removed from pandas in a future version. Use pandas.Index with the appropriate dtype instead.\n",
      "  elif isinstance(data.columns, (pd.Int64Index, pd.RangeIndex)):\n"
     ]
    },
    {
     "name": "stdout",
     "output_type": "stream",
     "text": [
      "[CV 2/5] END colsample_bytree=1.0, eval_metric=mlogloss, gamma=2, learning_rate=0.05, max_depth=3, min_child_weight=10, subsample=0.8;, score=0.858 total time=   0.9s\n"
     ]
    },
    {
     "name": "stderr",
     "output_type": "stream",
     "text": [
      "C:\\Users\\tswar\\anaconda3\\TSWARUP\\lib\\site-packages\\xgboost\\sklearn.py:1224: UserWarning: The use of label encoder in XGBClassifier is deprecated and will be removed in a future release. To remove this warning, do the following: 1) Pass option use_label_encoder=False when constructing XGBClassifier object; and 2) Encode your labels (y) as integers starting with 0, i.e. 0, 1, 2, ..., [num_class - 1].\n",
      "  warnings.warn(label_encoder_deprecation_msg, UserWarning)\n",
      "C:\\Users\\tswar\\anaconda3\\TSWARUP\\lib\\site-packages\\xgboost\\data.py:262: FutureWarning: pandas.Int64Index is deprecated and will be removed from pandas in a future version. Use pandas.Index with the appropriate dtype instead.\n",
      "  elif isinstance(data.columns, (pd.Int64Index, pd.RangeIndex)):\n"
     ]
    },
    {
     "name": "stdout",
     "output_type": "stream",
     "text": [
      "[CV 3/5] END colsample_bytree=1.0, eval_metric=mlogloss, gamma=2, learning_rate=0.05, max_depth=3, min_child_weight=10, subsample=0.8;, score=0.933 total time=   0.9s\n"
     ]
    },
    {
     "name": "stderr",
     "output_type": "stream",
     "text": [
      "C:\\Users\\tswar\\anaconda3\\TSWARUP\\lib\\site-packages\\xgboost\\sklearn.py:1224: UserWarning: The use of label encoder in XGBClassifier is deprecated and will be removed in a future release. To remove this warning, do the following: 1) Pass option use_label_encoder=False when constructing XGBClassifier object; and 2) Encode your labels (y) as integers starting with 0, i.e. 0, 1, 2, ..., [num_class - 1].\n",
      "  warnings.warn(label_encoder_deprecation_msg, UserWarning)\n",
      "C:\\Users\\tswar\\anaconda3\\TSWARUP\\lib\\site-packages\\xgboost\\data.py:262: FutureWarning: pandas.Int64Index is deprecated and will be removed from pandas in a future version. Use pandas.Index with the appropriate dtype instead.\n",
      "  elif isinstance(data.columns, (pd.Int64Index, pd.RangeIndex)):\n"
     ]
    },
    {
     "name": "stdout",
     "output_type": "stream",
     "text": [
      "[CV 4/5] END colsample_bytree=1.0, eval_metric=mlogloss, gamma=2, learning_rate=0.05, max_depth=3, min_child_weight=10, subsample=0.8;, score=0.883 total time=   1.0s\n"
     ]
    },
    {
     "name": "stderr",
     "output_type": "stream",
     "text": [
      "C:\\Users\\tswar\\anaconda3\\TSWARUP\\lib\\site-packages\\xgboost\\sklearn.py:1224: UserWarning: The use of label encoder in XGBClassifier is deprecated and will be removed in a future release. To remove this warning, do the following: 1) Pass option use_label_encoder=False when constructing XGBClassifier object; and 2) Encode your labels (y) as integers starting with 0, i.e. 0, 1, 2, ..., [num_class - 1].\n",
      "  warnings.warn(label_encoder_deprecation_msg, UserWarning)\n",
      "C:\\Users\\tswar\\anaconda3\\TSWARUP\\lib\\site-packages\\xgboost\\data.py:262: FutureWarning: pandas.Int64Index is deprecated and will be removed from pandas in a future version. Use pandas.Index with the appropriate dtype instead.\n",
      "  elif isinstance(data.columns, (pd.Int64Index, pd.RangeIndex)):\n"
     ]
    },
    {
     "name": "stdout",
     "output_type": "stream",
     "text": [
      "[CV 5/5] END colsample_bytree=1.0, eval_metric=mlogloss, gamma=2, learning_rate=0.05, max_depth=3, min_child_weight=10, subsample=0.8;, score=0.833 total time=   1.1s\n"
     ]
    },
    {
     "name": "stderr",
     "output_type": "stream",
     "text": [
      "C:\\Users\\tswar\\anaconda3\\TSWARUP\\lib\\site-packages\\xgboost\\sklearn.py:1224: UserWarning: The use of label encoder in XGBClassifier is deprecated and will be removed in a future release. To remove this warning, do the following: 1) Pass option use_label_encoder=False when constructing XGBClassifier object; and 2) Encode your labels (y) as integers starting with 0, i.e. 0, 1, 2, ..., [num_class - 1].\n",
      "  warnings.warn(label_encoder_deprecation_msg, UserWarning)\n",
      "C:\\Users\\tswar\\anaconda3\\TSWARUP\\lib\\site-packages\\xgboost\\data.py:262: FutureWarning: pandas.Int64Index is deprecated and will be removed from pandas in a future version. Use pandas.Index with the appropriate dtype instead.\n",
      "  elif isinstance(data.columns, (pd.Int64Index, pd.RangeIndex)):\n"
     ]
    },
    {
     "name": "stdout",
     "output_type": "stream",
     "text": [
      "[CV 1/5] END colsample_bytree=1.0, eval_metric=mlogloss, gamma=1, learning_rate=0.01, max_depth=3, min_child_weight=5, subsample=1.0;, score=0.843 total time=   1.8s\n"
     ]
    },
    {
     "name": "stderr",
     "output_type": "stream",
     "text": [
      "C:\\Users\\tswar\\anaconda3\\TSWARUP\\lib\\site-packages\\xgboost\\sklearn.py:1224: UserWarning: The use of label encoder in XGBClassifier is deprecated and will be removed in a future release. To remove this warning, do the following: 1) Pass option use_label_encoder=False when constructing XGBClassifier object; and 2) Encode your labels (y) as integers starting with 0, i.e. 0, 1, 2, ..., [num_class - 1].\n",
      "  warnings.warn(label_encoder_deprecation_msg, UserWarning)\n",
      "C:\\Users\\tswar\\anaconda3\\TSWARUP\\lib\\site-packages\\xgboost\\data.py:262: FutureWarning: pandas.Int64Index is deprecated and will be removed from pandas in a future version. Use pandas.Index with the appropriate dtype instead.\n",
      "  elif isinstance(data.columns, (pd.Int64Index, pd.RangeIndex)):\n"
     ]
    },
    {
     "name": "stdout",
     "output_type": "stream",
     "text": [
      "[CV 2/5] END colsample_bytree=1.0, eval_metric=mlogloss, gamma=1, learning_rate=0.01, max_depth=3, min_child_weight=5, subsample=1.0;, score=0.875 total time=   1.7s\n"
     ]
    },
    {
     "name": "stderr",
     "output_type": "stream",
     "text": [
      "C:\\Users\\tswar\\anaconda3\\TSWARUP\\lib\\site-packages\\xgboost\\sklearn.py:1224: UserWarning: The use of label encoder in XGBClassifier is deprecated and will be removed in a future release. To remove this warning, do the following: 1) Pass option use_label_encoder=False when constructing XGBClassifier object; and 2) Encode your labels (y) as integers starting with 0, i.e. 0, 1, 2, ..., [num_class - 1].\n",
      "  warnings.warn(label_encoder_deprecation_msg, UserWarning)\n",
      "C:\\Users\\tswar\\anaconda3\\TSWARUP\\lib\\site-packages\\xgboost\\data.py:262: FutureWarning: pandas.Int64Index is deprecated and will be removed from pandas in a future version. Use pandas.Index with the appropriate dtype instead.\n",
      "  elif isinstance(data.columns, (pd.Int64Index, pd.RangeIndex)):\n"
     ]
    },
    {
     "name": "stdout",
     "output_type": "stream",
     "text": [
      "[CV 3/5] END colsample_bytree=1.0, eval_metric=mlogloss, gamma=1, learning_rate=0.01, max_depth=3, min_child_weight=5, subsample=1.0;, score=0.858 total time=   1.5s\n"
     ]
    },
    {
     "name": "stderr",
     "output_type": "stream",
     "text": [
      "C:\\Users\\tswar\\anaconda3\\TSWARUP\\lib\\site-packages\\xgboost\\sklearn.py:1224: UserWarning: The use of label encoder in XGBClassifier is deprecated and will be removed in a future release. To remove this warning, do the following: 1) Pass option use_label_encoder=False when constructing XGBClassifier object; and 2) Encode your labels (y) as integers starting with 0, i.e. 0, 1, 2, ..., [num_class - 1].\n",
      "  warnings.warn(label_encoder_deprecation_msg, UserWarning)\n",
      "C:\\Users\\tswar\\anaconda3\\TSWARUP\\lib\\site-packages\\xgboost\\data.py:262: FutureWarning: pandas.Int64Index is deprecated and will be removed from pandas in a future version. Use pandas.Index with the appropriate dtype instead.\n",
      "  elif isinstance(data.columns, (pd.Int64Index, pd.RangeIndex)):\n"
     ]
    },
    {
     "name": "stdout",
     "output_type": "stream",
     "text": [
      "[CV 4/5] END colsample_bytree=1.0, eval_metric=mlogloss, gamma=1, learning_rate=0.01, max_depth=3, min_child_weight=5, subsample=1.0;, score=0.875 total time=   1.8s\n"
     ]
    },
    {
     "name": "stderr",
     "output_type": "stream",
     "text": [
      "C:\\Users\\tswar\\anaconda3\\TSWARUP\\lib\\site-packages\\xgboost\\sklearn.py:1224: UserWarning: The use of label encoder in XGBClassifier is deprecated and will be removed in a future release. To remove this warning, do the following: 1) Pass option use_label_encoder=False when constructing XGBClassifier object; and 2) Encode your labels (y) as integers starting with 0, i.e. 0, 1, 2, ..., [num_class - 1].\n",
      "  warnings.warn(label_encoder_deprecation_msg, UserWarning)\n",
      "C:\\Users\\tswar\\anaconda3\\TSWARUP\\lib\\site-packages\\xgboost\\data.py:262: FutureWarning: pandas.Int64Index is deprecated and will be removed from pandas in a future version. Use pandas.Index with the appropriate dtype instead.\n",
      "  elif isinstance(data.columns, (pd.Int64Index, pd.RangeIndex)):\n"
     ]
    },
    {
     "name": "stdout",
     "output_type": "stream",
     "text": [
      "[CV 5/5] END colsample_bytree=1.0, eval_metric=mlogloss, gamma=1, learning_rate=0.01, max_depth=3, min_child_weight=5, subsample=1.0;, score=0.825 total time=   1.9s\n"
     ]
    },
    {
     "name": "stderr",
     "output_type": "stream",
     "text": [
      "C:\\Users\\tswar\\anaconda3\\TSWARUP\\lib\\site-packages\\xgboost\\sklearn.py:1224: UserWarning: The use of label encoder in XGBClassifier is deprecated and will be removed in a future release. To remove this warning, do the following: 1) Pass option use_label_encoder=False when constructing XGBClassifier object; and 2) Encode your labels (y) as integers starting with 0, i.e. 0, 1, 2, ..., [num_class - 1].\n",
      "  warnings.warn(label_encoder_deprecation_msg, UserWarning)\n",
      "C:\\Users\\tswar\\anaconda3\\TSWARUP\\lib\\site-packages\\xgboost\\data.py:262: FutureWarning: pandas.Int64Index is deprecated and will be removed from pandas in a future version. Use pandas.Index with the appropriate dtype instead.\n",
      "  elif isinstance(data.columns, (pd.Int64Index, pd.RangeIndex)):\n"
     ]
    },
    {
     "name": "stdout",
     "output_type": "stream",
     "text": [
      "[CV 1/5] END colsample_bytree=0.8, eval_metric=mlogloss, gamma=2, learning_rate=0.1, max_depth=3, min_child_weight=5, subsample=0.8;, score=0.868 total time=   0.9s\n"
     ]
    },
    {
     "name": "stderr",
     "output_type": "stream",
     "text": [
      "C:\\Users\\tswar\\anaconda3\\TSWARUP\\lib\\site-packages\\xgboost\\sklearn.py:1224: UserWarning: The use of label encoder in XGBClassifier is deprecated and will be removed in a future release. To remove this warning, do the following: 1) Pass option use_label_encoder=False when constructing XGBClassifier object; and 2) Encode your labels (y) as integers starting with 0, i.e. 0, 1, 2, ..., [num_class - 1].\n",
      "  warnings.warn(label_encoder_deprecation_msg, UserWarning)\n",
      "C:\\Users\\tswar\\anaconda3\\TSWARUP\\lib\\site-packages\\xgboost\\data.py:262: FutureWarning: pandas.Int64Index is deprecated and will be removed from pandas in a future version. Use pandas.Index with the appropriate dtype instead.\n",
      "  elif isinstance(data.columns, (pd.Int64Index, pd.RangeIndex)):\n"
     ]
    },
    {
     "name": "stdout",
     "output_type": "stream",
     "text": [
      "[CV 2/5] END colsample_bytree=0.8, eval_metric=mlogloss, gamma=2, learning_rate=0.1, max_depth=3, min_child_weight=5, subsample=0.8;, score=0.883 total time=   0.8s\n"
     ]
    },
    {
     "name": "stderr",
     "output_type": "stream",
     "text": [
      "C:\\Users\\tswar\\anaconda3\\TSWARUP\\lib\\site-packages\\xgboost\\sklearn.py:1224: UserWarning: The use of label encoder in XGBClassifier is deprecated and will be removed in a future release. To remove this warning, do the following: 1) Pass option use_label_encoder=False when constructing XGBClassifier object; and 2) Encode your labels (y) as integers starting with 0, i.e. 0, 1, 2, ..., [num_class - 1].\n",
      "  warnings.warn(label_encoder_deprecation_msg, UserWarning)\n",
      "C:\\Users\\tswar\\anaconda3\\TSWARUP\\lib\\site-packages\\xgboost\\data.py:262: FutureWarning: pandas.Int64Index is deprecated and will be removed from pandas in a future version. Use pandas.Index with the appropriate dtype instead.\n",
      "  elif isinstance(data.columns, (pd.Int64Index, pd.RangeIndex)):\n"
     ]
    },
    {
     "name": "stdout",
     "output_type": "stream",
     "text": [
      "[CV 3/5] END colsample_bytree=0.8, eval_metric=mlogloss, gamma=2, learning_rate=0.1, max_depth=3, min_child_weight=5, subsample=0.8;, score=0.917 total time=   1.1s\n"
     ]
    },
    {
     "name": "stderr",
     "output_type": "stream",
     "text": [
      "C:\\Users\\tswar\\anaconda3\\TSWARUP\\lib\\site-packages\\xgboost\\sklearn.py:1224: UserWarning: The use of label encoder in XGBClassifier is deprecated and will be removed in a future release. To remove this warning, do the following: 1) Pass option use_label_encoder=False when constructing XGBClassifier object; and 2) Encode your labels (y) as integers starting with 0, i.e. 0, 1, 2, ..., [num_class - 1].\n",
      "  warnings.warn(label_encoder_deprecation_msg, UserWarning)\n",
      "C:\\Users\\tswar\\anaconda3\\TSWARUP\\lib\\site-packages\\xgboost\\data.py:262: FutureWarning: pandas.Int64Index is deprecated and will be removed from pandas in a future version. Use pandas.Index with the appropriate dtype instead.\n",
      "  elif isinstance(data.columns, (pd.Int64Index, pd.RangeIndex)):\n"
     ]
    },
    {
     "name": "stdout",
     "output_type": "stream",
     "text": [
      "[CV 4/5] END colsample_bytree=0.8, eval_metric=mlogloss, gamma=2, learning_rate=0.1, max_depth=3, min_child_weight=5, subsample=0.8;, score=0.892 total time=   1.0s\n"
     ]
    },
    {
     "name": "stderr",
     "output_type": "stream",
     "text": [
      "C:\\Users\\tswar\\anaconda3\\TSWARUP\\lib\\site-packages\\xgboost\\sklearn.py:1224: UserWarning: The use of label encoder in XGBClassifier is deprecated and will be removed in a future release. To remove this warning, do the following: 1) Pass option use_label_encoder=False when constructing XGBClassifier object; and 2) Encode your labels (y) as integers starting with 0, i.e. 0, 1, 2, ..., [num_class - 1].\n",
      "  warnings.warn(label_encoder_deprecation_msg, UserWarning)\n",
      "C:\\Users\\tswar\\anaconda3\\TSWARUP\\lib\\site-packages\\xgboost\\data.py:262: FutureWarning: pandas.Int64Index is deprecated and will be removed from pandas in a future version. Use pandas.Index with the appropriate dtype instead.\n",
      "  elif isinstance(data.columns, (pd.Int64Index, pd.RangeIndex)):\n"
     ]
    },
    {
     "name": "stdout",
     "output_type": "stream",
     "text": [
      "[CV 5/5] END colsample_bytree=0.8, eval_metric=mlogloss, gamma=2, learning_rate=0.1, max_depth=3, min_child_weight=5, subsample=0.8;, score=0.858 total time=   1.6s\n"
     ]
    },
    {
     "name": "stderr",
     "output_type": "stream",
     "text": [
      "C:\\Users\\tswar\\anaconda3\\TSWARUP\\lib\\site-packages\\xgboost\\sklearn.py:1224: UserWarning: The use of label encoder in XGBClassifier is deprecated and will be removed in a future release. To remove this warning, do the following: 1) Pass option use_label_encoder=False when constructing XGBClassifier object; and 2) Encode your labels (y) as integers starting with 0, i.e. 0, 1, 2, ..., [num_class - 1].\n",
      "  warnings.warn(label_encoder_deprecation_msg, UserWarning)\n",
      "C:\\Users\\tswar\\anaconda3\\TSWARUP\\lib\\site-packages\\xgboost\\data.py:262: FutureWarning: pandas.Int64Index is deprecated and will be removed from pandas in a future version. Use pandas.Index with the appropriate dtype instead.\n",
      "  elif isinstance(data.columns, (pd.Int64Index, pd.RangeIndex)):\n"
     ]
    },
    {
     "data": {
      "text/plain": [
       "RandomizedSearchCV(cv=<generator object _BaseKFold.split at 0x000002180B524C80>,\n",
       "                   estimator=XGBClassifier(base_score=None, booster=None,\n",
       "                                           colsample_bylevel=None,\n",
       "                                           colsample_bynode=None,\n",
       "                                           colsample_bytree=None,\n",
       "                                           enable_categorical=False, gamma=None,\n",
       "                                           gpu_id=None, importance_type=None,\n",
       "                                           interaction_constraints=None,\n",
       "                                           learning_rate=None,\n",
       "                                           max_delta_step=None, max_depth=None,\n",
       "                                           mi...\n",
       "                                           reg_alpha=None, reg_lambda=None,\n",
       "                                           scale_pos_weight=None,\n",
       "                                           subsample=None, tree_method=None,\n",
       "                                           validate_parameters=None,\n",
       "                                           verbosity=None),\n",
       "                   n_iter=5,\n",
       "                   param_distributions={'colsample_bytree': [0.6, 0.8, 1.0],\n",
       "                                        'eval_metric': ['mlogloss'],\n",
       "                                        'gamma': [0.5, 1, 1.5, 2, 5],\n",
       "                                        'learning_rate': [0.01, 0.05, 0.1],\n",
       "                                        'max_depth': [0, 3, 4],\n",
       "                                        'min_child_weight': [1, 5, 10],\n",
       "                                        'subsample': [0.6, 0.8, 1.0]},\n",
       "                   random_state=1, verbose=3)"
      ]
     },
     "execution_count": 16,
     "metadata": {},
     "output_type": "execute_result"
    }
   ],
   "source": [
    "skf = StratifiedKFold(n_splits=5, shuffle = True, random_state = 1)\n",
    "\n",
    "randomized_search = RandomizedSearchCV(XGBClassifier(), param_distributions=params, n_iter=5, cv=skf.split(X_train,y_train), verbose=3, random_state=1)\n",
    "\n",
    "randomized_search.fit(X_train, y_train)"
   ]
  },
  {
   "cell_type": "code",
   "execution_count": 17,
   "id": "810c66a2",
   "metadata": {},
   "outputs": [
    {
     "name": "stdout",
     "output_type": "stream",
     "text": [
      "Best hyperparameters: {'subsample': 0.8, 'min_child_weight': 1, 'max_depth': 4, 'learning_rate': 0.1, 'gamma': 1.5, 'eval_metric': 'mlogloss', 'colsample_bytree': 0.6}\n"
     ]
    }
   ],
   "source": [
    "print('Best hyperparameters:', randomized_search.best_params_)"
   ]
  },
  {
   "cell_type": "code",
   "execution_count": 18,
   "id": "68b5d26d",
   "metadata": {},
   "outputs": [],
   "source": [
    "xgb = XGBClassifier(subsample = randomized_search.best_params_[\"subsample\"],\n",
    "                      min_child_weight = randomized_search.best_params_[\"min_child_weight\"],\n",
    "                      max_depth = randomized_search.best_params_[\"max_depth\"],\n",
    "                      learning_rate = randomized_search.best_params_[\"learning_rate\"],\n",
    "                      gamma = randomized_search.best_params_[\"gamma\"],\n",
    "                      eval_metric = randomized_search.best_params_[\"eval_metric\"],\n",
    "                      colsample_bytree = randomized_search.best_params_[\"colsample_bytree\"])"
   ]
  },
  {
   "cell_type": "code",
   "execution_count": 19,
   "id": "f476dfb8",
   "metadata": {},
   "outputs": [
    {
     "data": {
      "text/plain": [
       "XGBClassifier(base_score=0.5, booster='gbtree', colsample_bylevel=1,\n",
       "              colsample_bynode=1, colsample_bytree=0.6,\n",
       "              enable_categorical=False, eval_metric='mlogloss', gamma=1.5,\n",
       "              gpu_id=-1, importance_type=None, interaction_constraints='',\n",
       "              learning_rate=0.1, max_delta_step=0, max_depth=4,\n",
       "              min_child_weight=1, missing=nan, monotone_constraints='()',\n",
       "              n_estimators=100, n_jobs=4, num_parallel_tree=1,\n",
       "              objective='multi:softprob', predictor='auto', random_state=0,\n",
       "              reg_alpha=0, reg_lambda=1, scale_pos_weight=None, subsample=0.8,\n",
       "              tree_method='exact', validate_parameters=1, verbosity=None)"
      ]
     },
     "execution_count": 19,
     "metadata": {},
     "output_type": "execute_result"
    }
   ],
   "source": [
    "xgb.fit(X_train, y_train)"
   ]
  },
  {
   "cell_type": "code",
   "execution_count": 20,
   "id": "e13c7182",
   "metadata": {},
   "outputs": [
    {
     "name": "stdout",
     "output_type": "stream",
     "text": [
      "Train Accuracy:  0.9900166389351082\n",
      "Test Accuracy: 0.8686868686868687\n"
     ]
    },
    {
     "name": "stderr",
     "output_type": "stream",
     "text": [
      "C:\\Users\\tswar\\anaconda3\\TSWARUP\\lib\\site-packages\\xgboost\\data.py:262: FutureWarning: pandas.Int64Index is deprecated and will be removed from pandas in a future version. Use pandas.Index with the appropriate dtype instead.\n",
      "  elif isinstance(data.columns, (pd.Int64Index, pd.RangeIndex)):\n"
     ]
    }
   ],
   "source": [
    "train_pred = xgb.predict(X_train)\n",
    "train_acc = accuracy_score(y_train,train_pred)\n",
    "print('Train Accuracy: ', train_acc)\n",
    " \n",
    "test_pred = xgb.predict(X_test)\n",
    "test_acc = accuracy_score(y_test,test_pred)\n",
    "print('Test Accuracy:', test_acc)\n"
   ]
  },
  {
   "cell_type": "code",
   "execution_count": null,
   "id": "31a15d23",
   "metadata": {},
   "outputs": [],
   "source": []
  }
 ],
 "metadata": {
  "kernelspec": {
   "display_name": "Python 3 (ipykernel)",
   "language": "python",
   "name": "python3"
  },
  "language_info": {
   "codemirror_mode": {
    "name": "ipython",
    "version": 3
   },
   "file_extension": ".py",
   "mimetype": "text/x-python",
   "name": "python",
   "nbconvert_exporter": "python",
   "pygments_lexer": "ipython3",
   "version": "3.9.7"
  }
 },
 "nbformat": 4,
 "nbformat_minor": 5
}
