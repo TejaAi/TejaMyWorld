{
 "cells": [
  {
   "cell_type": "markdown",
   "id": "e3e9d74a",
   "metadata": {
    "execution": {
     "iopub.execute_input": "2021-10-30T15:14:43.876299Z",
     "iopub.status.busy": "2021-10-30T15:14:43.875827Z",
     "iopub.status.idle": "2021-10-30T15:14:43.905281Z",
     "shell.execute_reply": "2021-10-30T15:14:43.90405Z",
     "shell.execute_reply.started": "2021-10-30T15:14:43.876188Z"
    },
    "papermill": {
     "duration": 0.032906,
     "end_time": "2021-10-30T15:33:17.124790",
     "exception": false,
     "start_time": "2021-10-30T15:33:17.091884",
     "status": "completed"
    },
    "tags": []
   },
   "source": [
    "<h1 style=\"color:tomato\"><center>Mall Customer Classification</center></h1>"
   ]
  },
  {
   "cell_type": "markdown",
   "id": "8cb54828",
   "metadata": {
    "papermill": {
     "duration": 0.031486,
     "end_time": "2021-10-30T15:33:17.251056",
     "exception": false,
     "start_time": "2021-10-30T15:33:17.219570",
     "status": "completed"
    },
    "tags": []
   },
   "source": [
    "<h1 style=\"color:#88bddb\">What will i do in this notebook?</h1>\n",
    "\n",
    "- 1.<a href=\"#1\">Importing the libraries</a>\n",
    "\n",
    "\n",
    "- 2.<a href=\"#2\">Load the data</a>\n",
    "\n",
    "- 3.<a href=\"#3\">EDA :</a>\n",
    "\n",
    "\n",
    "- 4.<a href=\"#4\">Data Preprocessing :</a>\n",
    "- - 4-1.<a href=\"#4_1\">Drop useless columns</a>\n",
    "- - 4-2.<a href=\"#4_2\">Missing values</a>\n",
    "- - 4-3.<a href=\"#4_3\">Encoding</a>\n",
    "- - 4-4.<a href=\"#4_4\">Scaling</a>\n",
    "- - 4-5.<a href=\"#4_5\">Dimensionality reduction</a>\n",
    "\n",
    "\n",
    "- 5.<a href=\"#5\">Visualization :</a>\n",
    "- - 5-1.<a href=\"#5_1\">Heatmap: correlation between features</a>\n",
    "- - 5-2.<a href=\"#5_2\">Relation between gender and spending score</a>\n",
    "- - 5-3.<a href=\"#5_3\">Relation between age and spending score</a>\n",
    "\n",
    "\n",
    "- 6.<a href=\"#6\">KMeans Clustering :</a>\n",
    "- - 6-1.<a href=\"#6_1\">Elbow plot</a>\n",
    "- - 6-2.<a href=\"#6_2\">KMeans clustered plot</a>"
   ]
  },
  {
   "cell_type": "markdown",
   "id": "bdb044a1",
   "metadata": {
    "papermill": {
     "duration": 0.030349,
     "end_time": "2021-10-30T15:33:17.312958",
     "exception": false,
     "start_time": "2021-10-30T15:33:17.282609",
     "status": "completed"
    },
    "tags": []
   },
   "source": [
    "<a id = \"1\"></a>\n",
    "## 1. Importing the libraries"
   ]
  },
  {
   "cell_type": "code",
   "execution_count": 1,
   "id": "be13946a",
   "metadata": {
    "execution": {
     "iopub.execute_input": "2021-10-30T15:33:17.380496Z",
     "iopub.status.busy": "2021-10-30T15:33:17.378650Z",
     "iopub.status.idle": "2021-10-30T15:33:18.873880Z",
     "shell.execute_reply": "2021-10-30T15:33:18.872992Z",
     "shell.execute_reply.started": "2021-10-30T15:24:19.530856Z"
    },
    "papermill": {
     "duration": 1.530586,
     "end_time": "2021-10-30T15:33:18.874082",
     "exception": false,
     "start_time": "2021-10-30T15:33:17.343496",
     "status": "completed"
    },
    "tags": []
   },
   "outputs": [],
   "source": [
    "# EDA\n",
    "#---------------------\n",
    "import numpy as np\n",
    "import pandas as pd\n",
    "\n",
    "\n",
    "# Visualization\n",
    "#---------------------\n",
    "%matplotlib inline\n",
    "import matplotlib.pyplot as plt\n",
    "from matplotlib.lines import Line2D\n",
    "import seaborn as sns\n",
    "\n",
    "# Scaling\n",
    "from sklearn.preprocessing import StandardScaler\n",
    "\n",
    "# Dimensional\n",
    "from sklearn.decomposition import PCA\n",
    "\n",
    "# Clustering\n",
    "from sklearn.cluster import KMeans"
   ]
  },
  {
   "cell_type": "markdown",
   "id": "c27dbd3f",
   "metadata": {
    "papermill": {
     "duration": 0.032445,
     "end_time": "2021-10-30T15:33:18.937342",
     "exception": false,
     "start_time": "2021-10-30T15:33:18.904897",
     "status": "completed"
    },
    "tags": []
   },
   "source": [
    "<a id = \"2\"></a>\n",
    "## 2. Load and Prepare Data"
   ]
  },
  {
   "cell_type": "code",
   "execution_count": 2,
   "id": "87065c2d",
   "metadata": {
    "execution": {
     "iopub.execute_input": "2021-10-30T15:33:19.003171Z",
     "iopub.status.busy": "2021-10-30T15:33:19.002121Z",
     "iopub.status.idle": "2021-10-30T15:33:19.046925Z",
     "shell.execute_reply": "2021-10-30T15:33:19.047526Z",
     "shell.execute_reply.started": "2021-10-30T15:24:20.241697Z"
    },
    "papermill": {
     "duration": 0.079577,
     "end_time": "2021-10-30T15:33:19.047725",
     "exception": false,
     "start_time": "2021-10-30T15:33:18.968148",
     "status": "completed"
    },
    "tags": []
   },
   "outputs": [],
   "source": [
    "data = pd.read_csv('Mall_Customers.csv')"
   ]
  },
  {
   "cell_type": "markdown",
   "id": "b8e8f64f",
   "metadata": {
    "papermill": {
     "duration": 0.031265,
     "end_time": "2021-10-30T15:33:19.109851",
     "exception": false,
     "start_time": "2021-10-30T15:33:19.078586",
     "status": "completed"
    },
    "tags": []
   },
   "source": [
    "<a id = \"3\"></a>\n",
    "## 3. EDA"
   ]
  },
  {
   "cell_type": "code",
   "execution_count": 3,
   "id": "a1e8a436",
   "metadata": {
    "execution": {
     "iopub.execute_input": "2021-10-30T15:33:19.175713Z",
     "iopub.status.busy": "2021-10-30T15:33:19.174598Z",
     "iopub.status.idle": "2021-10-30T15:33:19.183161Z",
     "shell.execute_reply": "2021-10-30T15:33:19.183748Z",
     "shell.execute_reply.started": "2021-10-30T15:24:20.256117Z"
    },
    "papermill": {
     "duration": 0.043343,
     "end_time": "2021-10-30T15:33:19.183943",
     "exception": false,
     "start_time": "2021-10-30T15:33:19.140600",
     "status": "completed"
    },
    "tags": []
   },
   "outputs": [
    {
     "data": {
      "text/plain": [
       "(200, 5)"
      ]
     },
     "execution_count": 3,
     "metadata": {},
     "output_type": "execute_result"
    }
   ],
   "source": [
    "data.shape"
   ]
  },
  {
   "cell_type": "code",
   "execution_count": 4,
   "id": "1cb572b1",
   "metadata": {
    "execution": {
     "iopub.execute_input": "2021-10-30T15:33:19.250861Z",
     "iopub.status.busy": "2021-10-30T15:33:19.249786Z",
     "iopub.status.idle": "2021-10-30T15:33:19.268039Z",
     "shell.execute_reply": "2021-10-30T15:33:19.268720Z",
     "shell.execute_reply.started": "2021-10-30T15:24:20.269671Z"
    },
    "papermill": {
     "duration": 0.053419,
     "end_time": "2021-10-30T15:33:19.268921",
     "exception": false,
     "start_time": "2021-10-30T15:33:19.215502",
     "status": "completed"
    },
    "tags": []
   },
   "outputs": [
    {
     "data": {
      "text/html": [
       "<div>\n",
       "<style scoped>\n",
       "    .dataframe tbody tr th:only-of-type {\n",
       "        vertical-align: middle;\n",
       "    }\n",
       "\n",
       "    .dataframe tbody tr th {\n",
       "        vertical-align: top;\n",
       "    }\n",
       "\n",
       "    .dataframe thead th {\n",
       "        text-align: right;\n",
       "    }\n",
       "</style>\n",
       "<table border=\"1\" class=\"dataframe\">\n",
       "  <thead>\n",
       "    <tr style=\"text-align: right;\">\n",
       "      <th></th>\n",
       "      <th>CustomerID</th>\n",
       "      <th>Genre</th>\n",
       "      <th>Age</th>\n",
       "      <th>Annual Income (k$)</th>\n",
       "      <th>Spending Score (1-100)</th>\n",
       "    </tr>\n",
       "  </thead>\n",
       "  <tbody>\n",
       "    <tr>\n",
       "      <th>0</th>\n",
       "      <td>1</td>\n",
       "      <td>Male</td>\n",
       "      <td>19</td>\n",
       "      <td>15</td>\n",
       "      <td>39</td>\n",
       "    </tr>\n",
       "    <tr>\n",
       "      <th>1</th>\n",
       "      <td>2</td>\n",
       "      <td>Male</td>\n",
       "      <td>21</td>\n",
       "      <td>15</td>\n",
       "      <td>81</td>\n",
       "    </tr>\n",
       "    <tr>\n",
       "      <th>2</th>\n",
       "      <td>3</td>\n",
       "      <td>Female</td>\n",
       "      <td>20</td>\n",
       "      <td>16</td>\n",
       "      <td>6</td>\n",
       "    </tr>\n",
       "    <tr>\n",
       "      <th>3</th>\n",
       "      <td>4</td>\n",
       "      <td>Female</td>\n",
       "      <td>23</td>\n",
       "      <td>16</td>\n",
       "      <td>77</td>\n",
       "    </tr>\n",
       "    <tr>\n",
       "      <th>4</th>\n",
       "      <td>5</td>\n",
       "      <td>Female</td>\n",
       "      <td>31</td>\n",
       "      <td>17</td>\n",
       "      <td>40</td>\n",
       "    </tr>\n",
       "  </tbody>\n",
       "</table>\n",
       "</div>"
      ],
      "text/plain": [
       "   CustomerID   Genre  Age  Annual Income (k$)  Spending Score (1-100)\n",
       "0           1    Male   19                  15                      39\n",
       "1           2    Male   21                  15                      81\n",
       "2           3  Female   20                  16                       6\n",
       "3           4  Female   23                  16                      77\n",
       "4           5  Female   31                  17                      40"
      ]
     },
     "execution_count": 4,
     "metadata": {},
     "output_type": "execute_result"
    }
   ],
   "source": [
    "data.head()"
   ]
  },
  {
   "cell_type": "code",
   "execution_count": 5,
   "id": "679d6bec",
   "metadata": {
    "execution": {
     "iopub.execute_input": "2021-10-30T15:33:19.336706Z",
     "iopub.status.busy": "2021-10-30T15:33:19.335572Z",
     "iopub.status.idle": "2021-10-30T15:33:19.358588Z",
     "shell.execute_reply": "2021-10-30T15:33:19.359254Z",
     "shell.execute_reply.started": "2021-10-30T15:24:20.289393Z"
    },
    "papermill": {
     "duration": 0.058887,
     "end_time": "2021-10-30T15:33:19.359466",
     "exception": false,
     "start_time": "2021-10-30T15:33:19.300579",
     "status": "completed"
    },
    "tags": []
   },
   "outputs": [
    {
     "name": "stdout",
     "output_type": "stream",
     "text": [
      "<class 'pandas.core.frame.DataFrame'>\n",
      "RangeIndex: 200 entries, 0 to 199\n",
      "Data columns (total 5 columns):\n",
      " #   Column                  Non-Null Count  Dtype \n",
      "---  ------                  --------------  ----- \n",
      " 0   CustomerID              200 non-null    int64 \n",
      " 1   Genre                   200 non-null    object\n",
      " 2   Age                     200 non-null    int64 \n",
      " 3   Annual Income (k$)      200 non-null    int64 \n",
      " 4   Spending Score (1-100)  200 non-null    int64 \n",
      "dtypes: int64(4), object(1)\n",
      "memory usage: 7.9+ KB\n"
     ]
    }
   ],
   "source": [
    "data.info()"
   ]
  },
  {
   "cell_type": "code",
   "execution_count": 6,
   "id": "5b488752",
   "metadata": {
    "execution": {
     "iopub.execute_input": "2021-10-30T15:33:19.429023Z",
     "iopub.status.busy": "2021-10-30T15:33:19.427890Z",
     "iopub.status.idle": "2021-10-30T15:33:19.433280Z",
     "shell.execute_reply": "2021-10-30T15:33:19.433983Z",
     "shell.execute_reply.started": "2021-10-30T15:24:20.30564Z"
    },
    "papermill": {
     "duration": 0.042295,
     "end_time": "2021-10-30T15:33:19.434180",
     "exception": false,
     "start_time": "2021-10-30T15:33:19.391885",
     "status": "completed"
    },
    "tags": []
   },
   "outputs": [],
   "source": [
    "data.rename(columns = {'Genre':'Gender'} , inplace = True)"
   ]
  },
  {
   "cell_type": "code",
   "execution_count": 7,
   "id": "35531213",
   "metadata": {
    "execution": {
     "iopub.execute_input": "2021-10-30T15:33:19.503910Z",
     "iopub.status.busy": "2021-10-30T15:33:19.502815Z",
     "iopub.status.idle": "2021-10-30T15:33:19.529569Z",
     "shell.execute_reply": "2021-10-30T15:33:19.528965Z",
     "shell.execute_reply.started": "2021-10-30T15:24:20.319882Z"
    },
    "papermill": {
     "duration": 0.063084,
     "end_time": "2021-10-30T15:33:19.529741",
     "exception": false,
     "start_time": "2021-10-30T15:33:19.466657",
     "status": "completed"
    },
    "tags": []
   },
   "outputs": [
    {
     "data": {
      "text/html": [
       "<div>\n",
       "<style scoped>\n",
       "    .dataframe tbody tr th:only-of-type {\n",
       "        vertical-align: middle;\n",
       "    }\n",
       "\n",
       "    .dataframe tbody tr th {\n",
       "        vertical-align: top;\n",
       "    }\n",
       "\n",
       "    .dataframe thead th {\n",
       "        text-align: right;\n",
       "    }\n",
       "</style>\n",
       "<table border=\"1\" class=\"dataframe\">\n",
       "  <thead>\n",
       "    <tr style=\"text-align: right;\">\n",
       "      <th></th>\n",
       "      <th>CustomerID</th>\n",
       "      <th>Age</th>\n",
       "      <th>Annual Income (k$)</th>\n",
       "      <th>Spending Score (1-100)</th>\n",
       "    </tr>\n",
       "  </thead>\n",
       "  <tbody>\n",
       "    <tr>\n",
       "      <th>count</th>\n",
       "      <td>200.000000</td>\n",
       "      <td>200.000000</td>\n",
       "      <td>200.000000</td>\n",
       "      <td>200.000000</td>\n",
       "    </tr>\n",
       "    <tr>\n",
       "      <th>mean</th>\n",
       "      <td>100.500000</td>\n",
       "      <td>38.850000</td>\n",
       "      <td>60.560000</td>\n",
       "      <td>50.200000</td>\n",
       "    </tr>\n",
       "    <tr>\n",
       "      <th>std</th>\n",
       "      <td>57.879185</td>\n",
       "      <td>13.969007</td>\n",
       "      <td>26.264721</td>\n",
       "      <td>25.823522</td>\n",
       "    </tr>\n",
       "    <tr>\n",
       "      <th>min</th>\n",
       "      <td>1.000000</td>\n",
       "      <td>18.000000</td>\n",
       "      <td>15.000000</td>\n",
       "      <td>1.000000</td>\n",
       "    </tr>\n",
       "    <tr>\n",
       "      <th>25%</th>\n",
       "      <td>50.750000</td>\n",
       "      <td>28.750000</td>\n",
       "      <td>41.500000</td>\n",
       "      <td>34.750000</td>\n",
       "    </tr>\n",
       "    <tr>\n",
       "      <th>50%</th>\n",
       "      <td>100.500000</td>\n",
       "      <td>36.000000</td>\n",
       "      <td>61.500000</td>\n",
       "      <td>50.000000</td>\n",
       "    </tr>\n",
       "    <tr>\n",
       "      <th>75%</th>\n",
       "      <td>150.250000</td>\n",
       "      <td>49.000000</td>\n",
       "      <td>78.000000</td>\n",
       "      <td>73.000000</td>\n",
       "    </tr>\n",
       "    <tr>\n",
       "      <th>max</th>\n",
       "      <td>200.000000</td>\n",
       "      <td>70.000000</td>\n",
       "      <td>137.000000</td>\n",
       "      <td>99.000000</td>\n",
       "    </tr>\n",
       "  </tbody>\n",
       "</table>\n",
       "</div>"
      ],
      "text/plain": [
       "       CustomerID         Age  Annual Income (k$)  Spending Score (1-100)\n",
       "count  200.000000  200.000000          200.000000              200.000000\n",
       "mean   100.500000   38.850000           60.560000               50.200000\n",
       "std     57.879185   13.969007           26.264721               25.823522\n",
       "min      1.000000   18.000000           15.000000                1.000000\n",
       "25%     50.750000   28.750000           41.500000               34.750000\n",
       "50%    100.500000   36.000000           61.500000               50.000000\n",
       "75%    150.250000   49.000000           78.000000               73.000000\n",
       "max    200.000000   70.000000          137.000000               99.000000"
      ]
     },
     "execution_count": 7,
     "metadata": {},
     "output_type": "execute_result"
    }
   ],
   "source": [
    "data.describe()"
   ]
  },
  {
   "cell_type": "markdown",
   "id": "c8ad142d",
   "metadata": {
    "papermill": {
     "duration": 0.032634,
     "end_time": "2021-10-30T15:33:19.595293",
     "exception": false,
     "start_time": "2021-10-30T15:33:19.562659",
     "status": "completed"
    },
    "tags": []
   },
   "source": [
    "<a id = \"4\"></a>\n",
    "## 4. Data Preprocessing"
   ]
  },
  {
   "cell_type": "markdown",
   "id": "725629c0",
   "metadata": {
    "papermill": {
     "duration": 0.032429,
     "end_time": "2021-10-30T15:33:19.660486",
     "exception": false,
     "start_time": "2021-10-30T15:33:19.628057",
     "status": "completed"
    },
    "tags": []
   },
   "source": [
    "<a id = \"4_1\"></a>\n",
    "<h2 style=\"color:#005b96\">4-1. Drop useless columns</h2>\n",
    "- Drop 'CustomerID'"
   ]
  },
  {
   "cell_type": "code",
   "execution_count": 8,
   "id": "f0018b76",
   "metadata": {
    "execution": {
     "iopub.execute_input": "2021-10-30T15:33:19.730135Z",
     "iopub.status.busy": "2021-10-30T15:33:19.728996Z",
     "iopub.status.idle": "2021-10-30T15:33:19.734461Z",
     "shell.execute_reply": "2021-10-30T15:33:19.735085Z",
     "shell.execute_reply.started": "2021-10-30T15:24:20.357195Z"
    },
    "papermill": {
     "duration": 0.042348,
     "end_time": "2021-10-30T15:33:19.735289",
     "exception": false,
     "start_time": "2021-10-30T15:33:19.692941",
     "status": "completed"
    },
    "tags": []
   },
   "outputs": [],
   "source": [
    "data.drop(labels = 'CustomerID' , axis = 1 , inplace = True)"
   ]
  },
  {
   "cell_type": "markdown",
   "id": "5ecdaaed",
   "metadata": {
    "papermill": {
     "duration": 0.033214,
     "end_time": "2021-10-30T15:33:19.800926",
     "exception": false,
     "start_time": "2021-10-30T15:33:19.767712",
     "status": "completed"
    },
    "tags": []
   },
   "source": [
    "<a id = \"4_2\"></a>\n",
    "<h2 style=\"color:#005b96\">4-2. Missing values</h2>"
   ]
  },
  {
   "cell_type": "code",
   "execution_count": 9,
   "id": "44679c6e",
   "metadata": {
    "execution": {
     "iopub.execute_input": "2021-10-30T15:33:19.871625Z",
     "iopub.status.busy": "2021-10-30T15:33:19.870573Z",
     "iopub.status.idle": "2021-10-30T15:33:19.879812Z",
     "shell.execute_reply": "2021-10-30T15:33:19.880383Z",
     "shell.execute_reply.started": "2021-10-30T15:24:20.366522Z"
    },
    "papermill": {
     "duration": 0.046899,
     "end_time": "2021-10-30T15:33:19.880589",
     "exception": false,
     "start_time": "2021-10-30T15:33:19.833690",
     "status": "completed"
    },
    "tags": []
   },
   "outputs": [
    {
     "data": {
      "text/plain": [
       "Gender                    0\n",
       "Age                       0\n",
       "Annual Income (k$)        0\n",
       "Spending Score (1-100)    0\n",
       "dtype: int64"
      ]
     },
     "execution_count": 9,
     "metadata": {},
     "output_type": "execute_result"
    }
   ],
   "source": [
    "data.isnull().sum()"
   ]
  },
  {
   "cell_type": "markdown",
   "id": "093beb80",
   "metadata": {
    "papermill": {
     "duration": 0.032551,
     "end_time": "2021-10-30T15:33:19.946158",
     "exception": false,
     "start_time": "2021-10-30T15:33:19.913607",
     "status": "completed"
    },
    "tags": []
   },
   "source": [
    "<a id = \"4_3\"></a>\n",
    "<h2 style=\"color:#005b96\">4-3. Encoding</h2>"
   ]
  },
  {
   "cell_type": "code",
   "execution_count": 10,
   "id": "5a9718b1",
   "metadata": {
    "execution": {
     "iopub.execute_input": "2021-10-30T15:33:20.015919Z",
     "iopub.status.busy": "2021-10-30T15:33:20.014964Z",
     "iopub.status.idle": "2021-10-30T15:33:20.022084Z",
     "shell.execute_reply": "2021-10-30T15:33:20.022710Z",
     "shell.execute_reply.started": "2021-10-30T15:24:20.387655Z"
    },
    "papermill": {
     "duration": 0.043998,
     "end_time": "2021-10-30T15:33:20.022897",
     "exception": false,
     "start_time": "2021-10-30T15:33:19.978899",
     "status": "completed"
    },
    "tags": []
   },
   "outputs": [
    {
     "data": {
      "text/plain": [
       "Gender                    object\n",
       "Age                        int64\n",
       "Annual Income (k$)         int64\n",
       "Spending Score (1-100)     int64\n",
       "dtype: object"
      ]
     },
     "execution_count": 10,
     "metadata": {},
     "output_type": "execute_result"
    }
   ],
   "source": [
    "data.dtypes"
   ]
  },
  {
   "cell_type": "code",
   "execution_count": 11,
   "id": "9b2cc9c4",
   "metadata": {
    "execution": {
     "iopub.execute_input": "2021-10-30T15:33:20.093349Z",
     "iopub.status.busy": "2021-10-30T15:33:20.092321Z",
     "iopub.status.idle": "2021-10-30T15:33:20.100290Z",
     "shell.execute_reply": "2021-10-30T15:33:20.100936Z",
     "shell.execute_reply.started": "2021-10-30T15:24:20.39913Z"
    },
    "papermill": {
     "duration": 0.045216,
     "end_time": "2021-10-30T15:33:20.101136",
     "exception": false,
     "start_time": "2021-10-30T15:33:20.055920",
     "status": "completed"
    },
    "tags": []
   },
   "outputs": [
    {
     "data": {
      "text/plain": [
       "Female    112\n",
       "Male       88\n",
       "Name: Gender, dtype: int64"
      ]
     },
     "execution_count": 11,
     "metadata": {},
     "output_type": "execute_result"
    }
   ],
   "source": [
    "data['Gender'].value_counts()"
   ]
  },
  {
   "cell_type": "code",
   "execution_count": 12,
   "id": "108d96a9",
   "metadata": {
    "execution": {
     "iopub.execute_input": "2021-10-30T15:33:20.176780Z",
     "iopub.status.busy": "2021-10-30T15:33:20.175940Z",
     "iopub.status.idle": "2021-10-30T15:33:20.177562Z",
     "shell.execute_reply": "2021-10-30T15:33:20.178051Z",
     "shell.execute_reply.started": "2021-10-30T15:24:20.416318Z"
    },
    "papermill": {
     "duration": 0.043086,
     "end_time": "2021-10-30T15:33:20.178237",
     "exception": false,
     "start_time": "2021-10-30T15:33:20.135151",
     "status": "completed"
    },
    "tags": []
   },
   "outputs": [],
   "source": [
    "data['Gender'].replace({'Male':1 , 'Female':0} , inplace = True)"
   ]
  },
  {
   "cell_type": "code",
   "execution_count": 13,
   "id": "8f94bdda",
   "metadata": {
    "execution": {
     "iopub.execute_input": "2021-10-30T15:33:20.251221Z",
     "iopub.status.busy": "2021-10-30T15:33:20.250486Z",
     "iopub.status.idle": "2021-10-30T15:33:20.263241Z",
     "shell.execute_reply": "2021-10-30T15:33:20.262638Z",
     "shell.execute_reply.started": "2021-10-30T15:24:20.433351Z"
    },
    "papermill": {
     "duration": 0.051203,
     "end_time": "2021-10-30T15:33:20.263411",
     "exception": false,
     "start_time": "2021-10-30T15:33:20.212208",
     "status": "completed"
    },
    "tags": []
   },
   "outputs": [
    {
     "name": "stdout",
     "output_type": "stream",
     "text": [
      "<class 'pandas.core.frame.DataFrame'>\n",
      "RangeIndex: 200 entries, 0 to 199\n",
      "Data columns (total 4 columns):\n",
      " #   Column                  Non-Null Count  Dtype\n",
      "---  ------                  --------------  -----\n",
      " 0   Gender                  200 non-null    int64\n",
      " 1   Age                     200 non-null    int64\n",
      " 2   Annual Income (k$)      200 non-null    int64\n",
      " 3   Spending Score (1-100)  200 non-null    int64\n",
      "dtypes: int64(4)\n",
      "memory usage: 6.4 KB\n"
     ]
    }
   ],
   "source": [
    "data.info()"
   ]
  },
  {
   "cell_type": "markdown",
   "id": "9eb250a4",
   "metadata": {
    "papermill": {
     "duration": 0.03386,
     "end_time": "2021-10-30T15:33:20.331799",
     "exception": false,
     "start_time": "2021-10-30T15:33:20.297939",
     "status": "completed"
    },
    "tags": []
   },
   "source": [
    "<h2 style=\"color:#005b96\">Everything seems to be good until now.<br><br>I will do <u>scaling</u> and <u>Dimensionality reduction</u> after some visualization.</h2>"
   ]
  },
  {
   "cell_type": "markdown",
   "id": "d95a00df",
   "metadata": {
    "papermill": {
     "duration": 0.033911,
     "end_time": "2021-10-30T15:33:20.399692",
     "exception": false,
     "start_time": "2021-10-30T15:33:20.365781",
     "status": "completed"
    },
    "tags": []
   },
   "source": [
    "<a id = \"5\"></a>\n",
    "## 5. Strorytelling - Visualization"
   ]
  },
  {
   "cell_type": "markdown",
   "id": "a712c95a",
   "metadata": {
    "papermill": {
     "duration": 0.03374,
     "end_time": "2021-10-30T15:33:20.467307",
     "exception": false,
     "start_time": "2021-10-30T15:33:20.433567",
     "status": "completed"
    },
    "tags": []
   },
   "source": [
    "<a id = \"5_1\"></a>\n",
    "<h2 style=\"color:#005b96\">5-1. Heatmap: correlation between features</h2>"
   ]
  },
  {
   "cell_type": "code",
   "execution_count": 14,
   "id": "a999f1f6",
   "metadata": {
    "execution": {
     "iopub.execute_input": "2021-10-30T15:33:20.562554Z",
     "iopub.status.busy": "2021-10-30T15:33:20.544713Z",
     "iopub.status.idle": "2021-10-30T15:33:20.931502Z",
     "shell.execute_reply": "2021-10-30T15:33:20.932041Z",
     "shell.execute_reply.started": "2021-10-30T15:24:20.450619Z"
    },
    "papermill": {
     "duration": 0.431103,
     "end_time": "2021-10-30T15:33:20.932240",
     "exception": false,
     "start_time": "2021-10-30T15:33:20.501137",
     "status": "completed"
    },
    "tags": []
   },
   "outputs": [
    {
     "data": {
      "text/plain": [
       "<AxesSubplot:>"
      ]
     },
     "execution_count": 14,
     "metadata": {},
     "output_type": "execute_result"
    },
    {
     "data": {
      "image/png": "[encoded data removed]",
      "text/plain": [
       "<Figure size 432x288 with 2 Axes>"
      ]
     },
     "metadata": {
      "needs_background": "light"
     },
     "output_type": "display_data"
    }
   ],
   "source": [
    "sns.heatmap(data = data.corr() , annot = True , fmt = '.2f' , cmap = 'coolwarm')"
   ]
  },
  {
   "cell_type": "markdown",
   "id": "6f1be6bf",
   "metadata": {
    "papermill": {
     "duration": 0.035617,
     "end_time": "2021-10-30T15:33:21.084189",
     "exception": false,
     "start_time": "2021-10-30T15:33:21.048572",
     "status": "completed"
    },
    "tags": []
   },
   "source": [
    "- <h2 style = \"color:#009b96\">Heatmap is showing that spending score has a higher correlation with customer age</h2>\n",
    "- <h2 style = \"color:#009b96\">we will analyze the relation between age and spending score</h2>"
   ]
  },
  {
   "cell_type": "markdown",
   "id": "301b67d5",
   "metadata": {
    "papermill": {
     "duration": 0.034986,
     "end_time": "2021-10-30T15:33:21.155098",
     "exception": false,
     "start_time": "2021-10-30T15:33:21.120112",
     "status": "completed"
    },
    "tags": []
   },
   "source": [
    "<a id = \"5_2\"></a>\n",
    "<h2 style=\"color:#005b96\">5-2. Relation between gender and spending score</h2>"
   ]
  },
  {
   "cell_type": "code",
   "execution_count": 15,
   "id": "7c439926",
   "metadata": {
    "execution": {
     "iopub.execute_input": "2021-10-30T15:33:21.230276Z",
     "iopub.status.busy": "2021-10-30T15:33:21.229210Z",
     "iopub.status.idle": "2021-10-30T15:33:21.530450Z",
     "shell.execute_reply": "2021-10-30T15:33:21.530986Z",
     "shell.execute_reply.started": "2021-10-30T15:24:20.868682Z"
    },
    "papermill": {
     "duration": 0.340508,
     "end_time": "2021-10-30T15:33:21.531178",
     "exception": false,
     "start_time": "2021-10-30T15:33:21.190670",
     "status": "completed"
    },
    "tags": []
   },
   "outputs": [
    {
     "data": {
      "image/png": "[encoded data removed]",
      "text/plain": [
       "<Figure size 432x288 with 2 Axes>"
      ]
     },
     "metadata": {
      "needs_background": "light"
     },
     "output_type": "display_data"
    }
   ],
   "source": [
    "plt_font = {'family':'serif' , 'size':16}\n",
    "plt.subplots_adjust(left = 1 , bottom = 1 , right = 2.5 , top = 2 , wspace = 0.5 , hspace = None)\n",
    "\n",
    "\n",
    "plt.subplot(1,2,1)\n",
    "plt.pie(x = [len(data[data.Gender == 1]) , len(data[data.Gender == 0])] , labels = ['Male' , 'Female']\n",
    "       , shadow = True , startangle = -30 , explode = [0.1,0] , autopct = '%.0f%%')\n",
    "\n",
    "plt.title(\"Customers gender\" , fontdict = plt_font)\n",
    "\n",
    "plt.subplot(1,2,2)\n",
    "\n",
    "male_avg_score = data[data.Gender == 1]['Spending Score (1-100)'].mean()\n",
    "female_avg_score = data[data.Gender == 0]['Spending Score (1-100)'].mean()\n",
    "\n",
    "plt.bar(x = ['Male' , 'Female'] , height = [male_avg_score , female_avg_score] , color = ['tab:blue' , 'tab:orange'])\n",
    "plt.title('Customers spending score' , fontdict = plt_font)\n",
    "plt.ylabel('Average spending score' , fontdict = plt_font)\n",
    "plt.xlabel('Gender' , fontdict = plt_font)\n",
    "\n",
    "plt.text(-0.3 , 40 , 'Average = {:.2f}'.format(male_avg_score))\n",
    "plt.text(0.7 , 40 , 'Average = {:.2f}'.format(female_avg_score))\n",
    "\n",
    "plt.show()"
   ]
  },
  {
   "cell_type": "markdown",
   "id": "41ddc72f",
   "metadata": {
    "papermill": {
     "duration": 0.036304,
     "end_time": "2021-10-30T15:33:21.604246",
     "exception": false,
     "start_time": "2021-10-30T15:33:21.567942",
     "status": "completed"
    },
    "tags": []
   },
   "source": [
    "- <h2 style = \"color:#009b96\">The first subplot is showing that our female customers are more than our male customers.</h2>\n",
    "- <h2 style = \"color:#009b96\">Also the second subplot is showing that our female customers have more spending score on average.</h2>"
   ]
  },
  {
   "cell_type": "markdown",
   "id": "7636f683",
   "metadata": {
    "papermill": {
     "duration": 0.036316,
     "end_time": "2021-10-30T15:33:21.677335",
     "exception": false,
     "start_time": "2021-10-30T15:33:21.641019",
     "status": "completed"
    },
    "tags": []
   },
   "source": [
    "<a id = \"5_3\"></a>\n",
    "<h2 style=\"color:#005b96\">5-3. Relation between age and spending score</h2>"
   ]
  },
  {
   "cell_type": "code",
   "execution_count": 16,
   "id": "16cf0dd9",
   "metadata": {
    "execution": {
     "iopub.execute_input": "2021-10-30T15:33:21.755756Z",
     "iopub.status.busy": "2021-10-30T15:33:21.754649Z",
     "iopub.status.idle": "2021-10-30T15:33:21.992612Z",
     "shell.execute_reply": "2021-10-30T15:33:21.993137Z",
     "shell.execute_reply.started": "2021-10-30T15:24:21.186448Z"
    },
    "papermill": {
     "duration": 0.279207,
     "end_time": "2021-10-30T15:33:21.993333",
     "exception": false,
     "start_time": "2021-10-30T15:33:21.714126",
     "status": "completed"
    },
    "tags": []
   },
   "outputs": [
    {
     "data": {
      "image/png": "[encoded data removed]",
      "text/plain": [
       "<Figure size 432x288 with 1 Axes>"
      ]
     },
     "metadata": {
      "needs_background": "light"
     },
     "output_type": "display_data"
    }
   ],
   "source": [
    "age_list = data.Age.unique()\n",
    "age_list.sort()\n",
    "avg_list = []\n",
    "\n",
    "\n",
    "for age in age_list:\n",
    "    avg_list.append(data[data.Age == age]['Spending Score (1-100)'].mean())\n",
    "\n",
    "plt.plot(age_list,avg_list)\n",
    "plt.xlabel('Age' , fontdict = plt_font)\n",
    "plt.ylabel('Average spending score' , fontdict = {'family':'serif' , 'size':14})\n",
    "plt.title('Spending score in different ages')\n",
    "\n",
    "plt.plot([20,70] , [40,40] , linestyle = '--' , c = 'tab:orange' , alpha = 0.8)\n",
    "\n",
    "plt.plot([35,35] , [10,90] , linestyle = '--' , c = 'tab:red' , alpha = 0.8)\n",
    "plt.text(31,7,'Age = 35')\n",
    "plt.show()"
   ]
  },
  {
   "cell_type": "markdown",
   "id": "1c9a445f",
   "metadata": {
    "papermill": {
     "duration": 0.038312,
     "end_time": "2021-10-30T15:33:22.069783",
     "exception": false,
     "start_time": "2021-10-30T15:33:22.031471",
     "status": "completed"
    },
    "tags": []
   },
   "source": [
    "- <h2 style = \"color:#009b96\">It's a little tricky but customers with lower ages have more average spending score.</h2>\n",
    "- <h2 style = \"color:#009b96\">As you see the plot is showing that customers younger than 35 have more average spending score.</h2>"
   ]
  },
  {
   "cell_type": "markdown",
   "id": "e9f5db20",
   "metadata": {
    "papermill": {
     "duration": 0.037958,
     "end_time": "2021-10-30T15:33:22.145869",
     "exception": false,
     "start_time": "2021-10-30T15:33:22.107911",
     "status": "completed"
    },
    "tags": []
   },
   "source": [
    "<a id = \"4_4\"></a>\n",
    "<h2 style=\"color:#005b96\">4-4. Scaling</h2>"
   ]
  },
  {
   "cell_type": "markdown",
   "id": "340beec9",
   "metadata": {
    "papermill": {
     "duration": 0.037956,
     "end_time": "2021-10-30T15:33:22.222901",
     "exception": false,
     "start_time": "2021-10-30T15:33:22.184945",
     "status": "completed"
    },
    "tags": []
   },
   "source": [
    "Clustering algorithms such as K-means do need feature scaling before they are fed to the algorithm. Since, clustering techniques use Euclidean Distance to form the cohorts, it will be wise to scale the variables.\n",
    "- <h3>here our problem is clustering and we dont have any label or target feature.<br>So we assume that all of the features are input features.</h3>"
   ]
  },
  {
   "cell_type": "code",
   "execution_count": 17,
   "id": "18cc39c8",
   "metadata": {
    "execution": {
     "iopub.execute_input": "2021-10-30T15:33:22.304048Z",
     "iopub.status.busy": "2021-10-30T15:33:22.303310Z",
     "iopub.status.idle": "2021-10-30T15:33:22.311045Z",
     "shell.execute_reply": "2021-10-30T15:33:22.311691Z",
     "shell.execute_reply.started": "2021-10-30T15:24:21.437529Z"
    },
    "papermill": {
     "duration": 0.049877,
     "end_time": "2021-10-30T15:33:22.311910",
     "exception": false,
     "start_time": "2021-10-30T15:33:22.262033",
     "status": "completed"
    },
    "tags": []
   },
   "outputs": [],
   "source": [
    "sc = StandardScaler()\n",
    "data_scaled = sc.fit_transform(data)"
   ]
  },
  {
   "cell_type": "markdown",
   "id": "c86004bb",
   "metadata": {
    "papermill": {
     "duration": 0.037961,
     "end_time": "2021-10-30T15:33:22.388241",
     "exception": false,
     "start_time": "2021-10-30T15:33:22.350280",
     "status": "completed"
    },
    "tags": []
   },
   "source": [
    "<a id = \"4_5\"></a>\n",
    "<h2 style=\"color:#005b96\">4-5. Dimensionality reduction</h2>"
   ]
  },
  {
   "cell_type": "markdown",
   "id": "f54e28bf",
   "metadata": {
    "papermill": {
     "duration": 0.037822,
     "end_time": "2021-10-30T15:33:22.465182",
     "exception": false,
     "start_time": "2021-10-30T15:33:22.427360",
     "status": "completed"
    },
    "tags": []
   },
   "source": [
    "- <h3>Our data is a 4 dimensional data.</h3>\n",
    "- <h3>It's impossible for us to see this space with naked eyes.</h3>\n",
    "- <h3>PCA projects the data into a lower dimension, allowing us to visualize the data in a 2D or 3D space with a naked eye.</h3>\n",
    "- <h3>Here we reduce the dimension to a 2D space.</h3>"
   ]
  },
  {
   "cell_type": "code",
   "execution_count": 18,
   "id": "07b7e6c2",
   "metadata": {
    "execution": {
     "iopub.execute_input": "2021-10-30T15:33:22.545305Z",
     "iopub.status.busy": "2021-10-30T15:33:22.544632Z",
     "iopub.status.idle": "2021-10-30T15:33:22.558375Z",
     "shell.execute_reply": "2021-10-30T15:33:22.559114Z",
     "shell.execute_reply.started": "2021-10-30T15:24:21.449158Z"
    },
    "papermill": {
     "duration": 0.05606,
     "end_time": "2021-10-30T15:33:22.559416",
     "exception": false,
     "start_time": "2021-10-30T15:33:22.503356",
     "status": "completed"
    },
    "tags": []
   },
   "outputs": [
    {
     "name": "stdout",
     "output_type": "stream",
     "text": [
      "data shape after PCA : (200, 2)\n"
     ]
    }
   ],
   "source": [
    "pca = PCA(n_components = 2)\n",
    "data_pca = pca.fit_transform(data_scaled)\n",
    "print(\"data shape after PCA :\",data_pca.shape)"
   ]
  },
  {
   "cell_type": "markdown",
   "id": "ee3fa31a",
   "metadata": {
    "papermill": {
     "duration": 0.03795,
     "end_time": "2021-10-30T15:33:22.638100",
     "exception": false,
     "start_time": "2021-10-30T15:33:22.600150",
     "status": "completed"
    },
    "tags": []
   },
   "source": [
    "<a id = \"6\"></a>\n",
    "## 6. KMeans Clustering"
   ]
  },
  {
   "cell_type": "markdown",
   "id": "810eda6d",
   "metadata": {
    "papermill": {
     "duration": 0.037869,
     "end_time": "2021-10-30T15:33:22.714372",
     "exception": false,
     "start_time": "2021-10-30T15:33:22.676503",
     "status": "completed"
    },
    "tags": []
   },
   "source": [
    "<a id = \"6_1\"></a>\n",
    "<h2 style=\"color:#005b96\">6-1. Elbow plot</h2>"
   ]
  },
  {
   "cell_type": "markdown",
   "id": "f65ebf65",
   "metadata": {
    "papermill": {
     "duration": 0.037921,
     "end_time": "2021-10-30T15:33:22.790609",
     "exception": false,
     "start_time": "2021-10-30T15:33:22.752688",
     "status": "completed"
    },
    "tags": []
   },
   "source": [
    "- <h3>K is a hyperparameter in KMeans algorithm.</h3>\n",
    "- <h3>WCSS : Within Cluster Sum of Squares, in other word it's sum of squared distance between each point and the centroid in a cluster</h3>\n",
    "- <h3>Lower WCSS shows a better clustering(because points in a cluster are more similar to each other, this is what we want)</h3>\n",
    "- <h3>Increasing the k value always results in a lower WCSS.</h3>\n",
    "- <h3>if we put k to be equal to the number of samples(so each point is a special cluster) then WCSS = 0 , but this is not a wise way.</h3>\n",
    "- <h3>Here we will use <u>elbow plot</u> to find the best k.</h3>\n",
    "- <h3>Elbow point will show the best k.</h3>\n",
    "- <h3>How to find this point ?</h3>\n",
    "- <h3>After this point the speed of WCSS decreasing will be lowered.</h3>"
   ]
  },
  {
   "cell_type": "code",
   "execution_count": 19,
   "id": "80af79ac",
   "metadata": {
    "execution": {
     "iopub.execute_input": "2021-10-30T15:33:22.874190Z",
     "iopub.status.busy": "2021-10-30T15:33:22.873451Z",
     "iopub.status.idle": "2021-10-30T15:33:23.910246Z",
     "shell.execute_reply": "2021-10-30T15:33:23.910830Z",
     "shell.execute_reply.started": "2021-10-30T15:24:21.46763Z"
    },
    "papermill": {
     "duration": 1.082077,
     "end_time": "2021-10-30T15:33:23.911040",
     "exception": false,
     "start_time": "2021-10-30T15:33:22.828963",
     "status": "completed"
    },
    "tags": []
   },
   "outputs": [
    {
     "name": "stderr",
     "output_type": "stream",
     "text": [
      "C:\\Users\\tswar\\anaconda3\\TSWARUP\\lib\\site-packages\\sklearn\\cluster\\_kmeans.py:1036: UserWarning: KMeans is known to have a memory leak on Windows with MKL, when there are less chunks than available threads. You can avoid it by setting the environment variable OMP_NUM_THREADS=1.\n",
      "  warnings.warn(\n"
     ]
    },
    {
     "data": {
      "image/png": "[encoded data removed]",
      "text/plain": [
       "<Figure size 432x288 with 1 Axes>"
      ]
     },
     "metadata": {
      "needs_background": "light"
     },
     "output_type": "display_data"
    }
   ],
   "source": [
    "wcss_list = []\n",
    "for i in range(1, 15):\n",
    "    kmeans = KMeans(n_clusters = i , init = 'k-means++'  , random_state = 1)\n",
    "    kmeans.fit(data_pca) \n",
    "    wcss_list.append(kmeans.inertia_)\n",
    "\n",
    "plt.plot(range(1,15) , wcss_list)\n",
    "plt.plot([4,4] , [0 , 500] , linestyle = '--' , alpha = 0.7)\n",
    "plt.text(4.2 , 300 , 'Elbow = 4')\n",
    "plt.xlabel('K' , fontdict = plt_font)\n",
    "plt.ylabel('WCSS' , fontdict = plt_font)\n",
    "plt.show()"
   ]
  },
  {
   "cell_type": "code",
   "execution_count": 20,
   "id": "3ddfa3d3",
   "metadata": {
    "execution": {
     "iopub.execute_input": "2021-10-30T15:33:23.999266Z",
     "iopub.status.busy": "2021-10-30T15:33:23.998186Z",
     "iopub.status.idle": "2021-10-30T15:33:24.043944Z",
     "shell.execute_reply": "2021-10-30T15:33:24.043204Z",
     "shell.execute_reply.started": "2021-10-30T15:24:22.557276Z"
    },
    "papermill": {
     "duration": 0.093117,
     "end_time": "2021-10-30T15:33:24.044112",
     "exception": false,
     "start_time": "2021-10-30T15:33:23.950995",
     "status": "completed"
    },
    "tags": []
   },
   "outputs": [],
   "source": [
    "kmeans = KMeans(n_clusters = 4 , init = 'k-means++'  , random_state = 1)\n",
    "kmeans.fit(data_pca)\n",
    "cluster_id = kmeans.predict(data_pca)"
   ]
  },
  {
   "cell_type": "code",
   "execution_count": 21,
   "id": "2ff3abca",
   "metadata": {
    "execution": {
     "iopub.execute_input": "2021-10-30T15:33:24.136770Z",
     "iopub.status.busy": "2021-10-30T15:33:24.129949Z",
     "iopub.status.idle": "2021-10-30T15:33:24.139809Z",
     "shell.execute_reply": "2021-10-30T15:33:24.139203Z",
     "shell.execute_reply.started": "2021-10-30T15:24:22.612685Z"
    },
    "papermill": {
     "duration": 0.056174,
     "end_time": "2021-10-30T15:33:24.139974",
     "exception": false,
     "start_time": "2021-10-30T15:33:24.083800",
     "status": "completed"
    },
    "tags": []
   },
   "outputs": [],
   "source": [
    "result_data = pd.DataFrame()\n",
    "result_data['PC1'] = data_pca[:,0]\n",
    "result_data['PC2'] = data_pca[:,1]\n",
    "result_data['ClusterID'] = cluster_id"
   ]
  },
  {
   "cell_type": "markdown",
   "id": "5d757643",
   "metadata": {
    "papermill": {
     "duration": 0.038848,
     "end_time": "2021-10-30T15:33:24.218365",
     "exception": false,
     "start_time": "2021-10-30T15:33:24.179517",
     "status": "completed"
    },
    "tags": []
   },
   "source": [
    "<a id = \"6_2\"></a>\n",
    "<h2 style=\"color:#005b96\">6-2. KMeans clustered plot</h2>"
   ]
  },
  {
   "cell_type": "code",
   "execution_count": 22,
   "id": "33b2e8aa",
   "metadata": {
    "execution": {
     "iopub.execute_input": "2021-10-30T15:33:24.337392Z",
     "iopub.status.busy": "2021-10-30T15:33:24.309877Z",
     "iopub.status.idle": "2021-10-30T15:33:24.571477Z",
     "shell.execute_reply": "2021-10-30T15:33:24.572021Z",
     "shell.execute_reply.started": "2021-10-30T15:24:22.625709Z"
    },
    "papermill": {
     "duration": 0.313953,
     "end_time": "2021-10-30T15:33:24.572216",
     "exception": false,
     "start_time": "2021-10-30T15:33:24.258263",
     "status": "completed"
    },
    "tags": []
   },
   "outputs": [
    {
     "data": {
      "image/png": "[encoded data removed]",
      "text/plain": [
       "<Figure size 432x288 with 1 Axes>"
      ]
     },
     "metadata": {
      "needs_background": "light"
     },
     "output_type": "display_data"
    }
   ],
   "source": [
    "cluster_colors = {0:'tab:red' , 1:'tab:green' , 2:'tab:blue' , 3:'tab:pink'}\n",
    "cluster_dict = {'Centroid':'tab:orange','Cluster0':'tab:red' , 'Cluster1':'tab:green'\n",
    "                , 'Cluster2':'tab:blue' , 'Cluster3':'tab:pink'}\n",
    "\n",
    "\n",
    "plt.scatter(x = result_data['PC1'] , y = result_data['PC2'] \n",
    "                , c = result_data['ClusterID'].map(cluster_colors))\n",
    "handles = [Line2D([0], [0], marker='o', color='w', markerfacecolor=v, label=k, markersize=8) for k, v in cluster_dict.items()]\n",
    "plt.legend(title='color', handles=handles, bbox_to_anchor=(1.05, 1), loc='upper left')\n",
    "\n",
    "plt.scatter(x = kmeans.cluster_centers_[:,0] , y = kmeans.cluster_centers_[:,1] , marker = 'o' , c = 'tab:orange'\n",
    "            , s = 150 , alpha = 1)\n",
    "\n",
    "plt.title(\"Clustered by KMeans\" , fontdict = plt_font)\n",
    "plt.xlabel(\"PC1\" , fontdict = plt_font)\n",
    "plt.ylabel(\"PC2\" , fontdict = plt_font)\n",
    "\n",
    "plt.show()"
   ]
  }
 ],
 "metadata": {
  "kernelspec": {
   "display_name": "Python 3 (ipykernel)",
   "language": "python",
   "name": "python3"
  },
  "language_info": {
   "codemirror_mode": {
    "name": "ipython",
    "version": 3
   },
   "file_extension": ".py",
   "mimetype": "text/x-python",
   "name": "python",
   "nbconvert_exporter": "python",
   "pygments_lexer": "ipython3",
   "version": "3.9.7"
  },
  "papermill": {
   "default_parameters": {},
   "duration": 18.54746,
   "end_time": "2021-10-30T15:33:25.626042",
   "environment_variables": {},
   "exception": null,
   "input_path": "__notebook__.ipynb",
   "output_path": "__notebook__.ipynb",
   "parameters": {},
   "start_time": "2021-10-30T15:33:07.078582",
   "version": "2.3.3"
  }
 },
 "nbformat": 4,
 "nbformat_minor": 5
}
