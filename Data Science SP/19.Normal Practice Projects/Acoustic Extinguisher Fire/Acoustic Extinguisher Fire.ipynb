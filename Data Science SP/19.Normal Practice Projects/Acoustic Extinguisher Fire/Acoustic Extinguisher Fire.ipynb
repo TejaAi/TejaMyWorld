{
 "cells": [
  {
   "cell_type": "markdown",
   "id": "ae38c9a5",
   "metadata": {},
   "source": [
    "<h1 style=\"color:green\"><center><i>Acoustic Extinguisher Fire</i></center></h1>"
   ]
  },
  {
   "cell_type": "markdown",
   "id": "bfcb45bc",
   "metadata": {},
   "source": [
    "<h1 style=\"color:#88bddb\">Content</h1>"
   ]
  },
  {
   "cell_type": "markdown",
   "id": "67f3b52d",
   "metadata": {},
   "source": [
    "- 1.<a href=\"#1\">Overview</a>\n",
    "- 2.<a href=\"#2\">Importing librarires</a>\n",
    "- 3.<a href=\"#3\">Load Dataset</a>\n",
    "- 4.<a href=\"#4\">Data Understanding</a>\n",
    "- 5.<a href=\"#5\">Data-Preprocessing</a>\n",
    "- 6.<a href=\"#6\">Modelling</a>"
   ]
  },
  {
   "cell_type": "markdown",
   "id": "2cfb6865",
   "metadata": {},
   "source": [
    "<a id=\"1\"></a>\n",
    "# 1.Overview"
   ]
  },
  {
   "cell_type": "markdown",
   "id": "9791f759",
   "metadata": {},
   "source": [
    "The dataset was obtained as a result of the extinguishing tests of four different fuel flames with a sound wave extinguishing system. The sound wave fire-extinguishing system consists of 4 subwoofers with a total power of 4,000 Watt placed in the collimator cabinet. There are two amplifiers that enable the sound come to these subwoofers as boosted. Power supply that powers the system and filter circuit ensuring that the sound frequencies are properly transmitted to the system is located within the control unit. While computer is used as frequency source, anemometer was used to measure the airflow resulted from sound waves during the extinguishing phase of the flame, and a decibel meter to measure the sound intensity. An infrared thermometer was used to measure the temperature of the flame and the fuel can, and a camera is installed to detect the extinction time of the flame. A total of 17,442 tests were conducted with this experimental setup.\n",
    "\n",
    "### Keywords :\n",
    "\n",
    "- Fire, Extinguishing System, Sound wave, Machine learning, Fire safety, Low frequency, Acoustic\n",
    "\n",
    "- Data properties and descriptions for liquid fuels\n",
    "- FEATURES MIN/MAX VALUES UNIT DESCRIPTIONS\n",
    "- SIZE 7, 12, 14, 16, 20 cm Recorded as 7 cm=1, 12 cm=2, 14 cm=3, 16 cm=4, 20 cm=5\n",
    "- FUEL Gasoline, Kerosene, Thinner Fuel type\n",
    "- DISTANCE 10 - 190 cm\n",
    "- DESIBEL 72 - 113 dB\n",
    "- AIRFLOW 0 - 17 m/s\n",
    "- FREQUENCY 1-75 Hz\n",
    "- STATUS 0, 1 0 indicates the non-extinction state, 1 indicates the extinction state\n",
    "\n",
    "- Data properties and descriptions for LPG\n",
    "- FEATURES MIN/MAX VALUES UNIT DESCRIPTIONS\n",
    "- SIZE Half throttle setting, Full throttle setting Reocerded as Half throttle setting=6, Full - - throttle setting=7\n",
    "- FUEL LPG Fuel type\n",
    "- DISTANCE 10 - 190 cm\n",
    "- DESIBEL 72 - 113 dB\n",
    "- AIRFLOW 0 - 17 m/s\n",
    "- FREQUENCY 1-75 Hz\n",
    "- STATUS 0, 1 [0 indicates the non-extinction state, 1 indicates the extinction (అంతరించిపోవడం)  state]"
   ]
  },
  {
   "cell_type": "markdown",
   "id": "57abe779",
   "metadata": {},
   "source": [
    "<a id=\"2\"></a>\n",
    "# 2.Importing Libraries"
   ]
  },
  {
   "cell_type": "code",
   "execution_count": 1,
   "id": "3ae6cb40",
   "metadata": {},
   "outputs": [],
   "source": [
    "import numpy as np\n",
    "import pandas as pd\n",
    "import matplotlib.pyplot as plt\n",
    "import seaborn as sns\n",
    "\n",
    " "
   ]
  },
  {
   "cell_type": "markdown",
   "id": "4fbd86ae",
   "metadata": {},
   "source": [
    "**To Perform Operation On xlsx file we have to import openpyxl**"
   ]
  },
  {
   "cell_type": "code",
   "execution_count": 2,
   "id": "0365afe9",
   "metadata": {},
   "outputs": [
    {
     "name": "stdout",
     "output_type": "stream",
     "text": [
      "Requirement already satisfied: openpyxl in c:\\users\\tswar\\anaconda3\\tswarup\\lib\\site-packages (3.0.9)\n",
      "Requirement already satisfied: et-xmlfile in c:\\users\\tswar\\anaconda3\\tswarup\\lib\\site-packages (from openpyxl) (1.1.0)\n"
     ]
    }
   ],
   "source": [
    "!pip install openpyxl"
   ]
  },
  {
   "cell_type": "markdown",
   "id": "2b6b4883",
   "metadata": {},
   "source": [
    "<a id=\"3\"></a>\n",
    "# 3.Load Datasets"
   ]
  },
  {
   "cell_type": "code",
   "execution_count": 3,
   "id": "5459ad4e",
   "metadata": {},
   "outputs": [
    {
     "data": {
      "text/html": [
       "<div>\n",
       "<style scoped>\n",
       "    .dataframe tbody tr th:only-of-type {\n",
       "        vertical-align: middle;\n",
       "    }\n",
       "\n",
       "    .dataframe tbody tr th {\n",
       "        vertical-align: top;\n",
       "    }\n",
       "\n",
       "    .dataframe thead th {\n",
       "        text-align: right;\n",
       "    }\n",
       "</style>\n",
       "<table border=\"1\" class=\"dataframe\">\n",
       "  <thead>\n",
       "    <tr style=\"text-align: right;\">\n",
       "      <th></th>\n",
       "      <th>SIZE</th>\n",
       "      <th>FUEL</th>\n",
       "      <th>DISTANCE</th>\n",
       "      <th>DESIBEL</th>\n",
       "      <th>AIRFLOW</th>\n",
       "      <th>FREQUENCY</th>\n",
       "      <th>STATUS</th>\n",
       "    </tr>\n",
       "  </thead>\n",
       "  <tbody>\n",
       "    <tr>\n",
       "      <th>0</th>\n",
       "      <td>1</td>\n",
       "      <td>gasoline</td>\n",
       "      <td>10</td>\n",
       "      <td>96</td>\n",
       "      <td>0.0</td>\n",
       "      <td>75</td>\n",
       "      <td>0</td>\n",
       "    </tr>\n",
       "    <tr>\n",
       "      <th>1</th>\n",
       "      <td>1</td>\n",
       "      <td>gasoline</td>\n",
       "      <td>10</td>\n",
       "      <td>96</td>\n",
       "      <td>0.0</td>\n",
       "      <td>72</td>\n",
       "      <td>1</td>\n",
       "    </tr>\n",
       "    <tr>\n",
       "      <th>2</th>\n",
       "      <td>1</td>\n",
       "      <td>gasoline</td>\n",
       "      <td>10</td>\n",
       "      <td>96</td>\n",
       "      <td>2.6</td>\n",
       "      <td>70</td>\n",
       "      <td>1</td>\n",
       "    </tr>\n",
       "    <tr>\n",
       "      <th>3</th>\n",
       "      <td>1</td>\n",
       "      <td>gasoline</td>\n",
       "      <td>10</td>\n",
       "      <td>96</td>\n",
       "      <td>3.2</td>\n",
       "      <td>68</td>\n",
       "      <td>1</td>\n",
       "    </tr>\n",
       "    <tr>\n",
       "      <th>4</th>\n",
       "      <td>1</td>\n",
       "      <td>gasoline</td>\n",
       "      <td>10</td>\n",
       "      <td>109</td>\n",
       "      <td>4.5</td>\n",
       "      <td>67</td>\n",
       "      <td>1</td>\n",
       "    </tr>\n",
       "  </tbody>\n",
       "</table>\n",
       "</div>"
      ],
      "text/plain": [
       "   SIZE      FUEL  DISTANCE  DESIBEL  AIRFLOW  FREQUENCY  STATUS\n",
       "0     1  gasoline        10       96      0.0         75       0\n",
       "1     1  gasoline        10       96      0.0         72       1\n",
       "2     1  gasoline        10       96      2.6         70       1\n",
       "3     1  gasoline        10       96      3.2         68       1\n",
       "4     1  gasoline        10      109      4.5         67       1"
      ]
     },
     "execution_count": 3,
     "metadata": {},
     "output_type": "execute_result"
    }
   ],
   "source": [
    "df=pd.read_excel('Acoustic_Extinguisher_Fire_Dataset.xlsx')\n",
    "df.head()"
   ]
  },
  {
   "cell_type": "markdown",
   "id": "fc0a4bfe",
   "metadata": {},
   "source": [
    "<a id=\"4\"></a>\n",
    "# 4.Data Understanding & EDA"
   ]
  },
  {
   "cell_type": "code",
   "execution_count": 4,
   "id": "67dd02df",
   "metadata": {},
   "outputs": [
    {
     "data": {
      "text/plain": [
       "(17442, 7)"
      ]
     },
     "execution_count": 4,
     "metadata": {},
     "output_type": "execute_result"
    }
   ],
   "source": [
    "df.shape"
   ]
  },
  {
   "cell_type": "raw",
   "id": "dea0b90b",
   "metadata": {},
   "source": [
    "17442 Rows and 7 Columns"
   ]
  },
  {
   "cell_type": "code",
   "execution_count": 5,
   "id": "0bb840e3",
   "metadata": {},
   "outputs": [
    {
     "data": {
      "text/plain": [
       "Index(['SIZE', 'FUEL', 'DISTANCE', 'DESIBEL', 'AIRFLOW', 'FREQUENCY',\n",
       "       'STATUS'],\n",
       "      dtype='object')"
      ]
     },
     "execution_count": 5,
     "metadata": {},
     "output_type": "execute_result"
    }
   ],
   "source": [
    "df.columns"
   ]
  },
  {
   "cell_type": "code",
   "execution_count": 6,
   "id": "2db95d9c",
   "metadata": {},
   "outputs": [
    {
     "name": "stdout",
     "output_type": "stream",
     "text": [
      "<class 'pandas.core.frame.DataFrame'>\n",
      "RangeIndex: 17442 entries, 0 to 17441\n",
      "Data columns (total 7 columns):\n",
      " #   Column     Non-Null Count  Dtype  \n",
      "---  ------     --------------  -----  \n",
      " 0   SIZE       17442 non-null  int64  \n",
      " 1   FUEL       17442 non-null  object \n",
      " 2   DISTANCE   17442 non-null  int64  \n",
      " 3   DESIBEL    17442 non-null  int64  \n",
      " 4   AIRFLOW    17442 non-null  float64\n",
      " 5   FREQUENCY  17442 non-null  int64  \n",
      " 6   STATUS     17442 non-null  int64  \n",
      "dtypes: float64(1), int64(5), object(1)\n",
      "memory usage: 954.0+ KB\n"
     ]
    }
   ],
   "source": [
    "df.info()"
   ]
  },
  {
   "cell_type": "code",
   "execution_count": 7,
   "id": "8e17abb2",
   "metadata": {},
   "outputs": [
    {
     "data": {
      "text/html": [
       "<div>\n",
       "<style scoped>\n",
       "    .dataframe tbody tr th:only-of-type {\n",
       "        vertical-align: middle;\n",
       "    }\n",
       "\n",
       "    .dataframe tbody tr th {\n",
       "        vertical-align: top;\n",
       "    }\n",
       "\n",
       "    .dataframe thead th {\n",
       "        text-align: right;\n",
       "    }\n",
       "</style>\n",
       "<table border=\"1\" class=\"dataframe\">\n",
       "  <thead>\n",
       "    <tr style=\"text-align: right;\">\n",
       "      <th></th>\n",
       "      <th>SIZE</th>\n",
       "      <th>FUEL</th>\n",
       "      <th>DISTANCE</th>\n",
       "      <th>DESIBEL</th>\n",
       "      <th>AIRFLOW</th>\n",
       "      <th>FREQUENCY</th>\n",
       "      <th>STATUS</th>\n",
       "    </tr>\n",
       "  </thead>\n",
       "  <tbody>\n",
       "    <tr>\n",
       "      <th>count</th>\n",
       "      <td>17442.000000</td>\n",
       "      <td>17442</td>\n",
       "      <td>17442.000000</td>\n",
       "      <td>17442.000000</td>\n",
       "      <td>17442.000000</td>\n",
       "      <td>17442.000000</td>\n",
       "      <td>17442.000000</td>\n",
       "    </tr>\n",
       "    <tr>\n",
       "      <th>unique</th>\n",
       "      <td>NaN</td>\n",
       "      <td>4</td>\n",
       "      <td>NaN</td>\n",
       "      <td>NaN</td>\n",
       "      <td>NaN</td>\n",
       "      <td>NaN</td>\n",
       "      <td>NaN</td>\n",
       "    </tr>\n",
       "    <tr>\n",
       "      <th>top</th>\n",
       "      <td>NaN</td>\n",
       "      <td>gasoline</td>\n",
       "      <td>NaN</td>\n",
       "      <td>NaN</td>\n",
       "      <td>NaN</td>\n",
       "      <td>NaN</td>\n",
       "      <td>NaN</td>\n",
       "    </tr>\n",
       "    <tr>\n",
       "      <th>freq</th>\n",
       "      <td>NaN</td>\n",
       "      <td>5130</td>\n",
       "      <td>NaN</td>\n",
       "      <td>NaN</td>\n",
       "      <td>NaN</td>\n",
       "      <td>NaN</td>\n",
       "      <td>NaN</td>\n",
       "    </tr>\n",
       "    <tr>\n",
       "      <th>mean</th>\n",
       "      <td>3.411765</td>\n",
       "      <td>NaN</td>\n",
       "      <td>100.000000</td>\n",
       "      <td>96.379142</td>\n",
       "      <td>6.975634</td>\n",
       "      <td>31.611111</td>\n",
       "      <td>0.497821</td>\n",
       "    </tr>\n",
       "    <tr>\n",
       "      <th>std</th>\n",
       "      <td>1.750977</td>\n",
       "      <td>NaN</td>\n",
       "      <td>54.773826</td>\n",
       "      <td>8.164096</td>\n",
       "      <td>4.736169</td>\n",
       "      <td>20.939149</td>\n",
       "      <td>0.500010</td>\n",
       "    </tr>\n",
       "    <tr>\n",
       "      <th>min</th>\n",
       "      <td>1.000000</td>\n",
       "      <td>NaN</td>\n",
       "      <td>10.000000</td>\n",
       "      <td>72.000000</td>\n",
       "      <td>0.000000</td>\n",
       "      <td>1.000000</td>\n",
       "      <td>0.000000</td>\n",
       "    </tr>\n",
       "    <tr>\n",
       "      <th>25%</th>\n",
       "      <td>2.000000</td>\n",
       "      <td>NaN</td>\n",
       "      <td>50.000000</td>\n",
       "      <td>90.000000</td>\n",
       "      <td>3.200000</td>\n",
       "      <td>14.000000</td>\n",
       "      <td>0.000000</td>\n",
       "    </tr>\n",
       "    <tr>\n",
       "      <th>50%</th>\n",
       "      <td>3.000000</td>\n",
       "      <td>NaN</td>\n",
       "      <td>100.000000</td>\n",
       "      <td>95.000000</td>\n",
       "      <td>5.800000</td>\n",
       "      <td>27.500000</td>\n",
       "      <td>0.000000</td>\n",
       "    </tr>\n",
       "    <tr>\n",
       "      <th>75%</th>\n",
       "      <td>5.000000</td>\n",
       "      <td>NaN</td>\n",
       "      <td>150.000000</td>\n",
       "      <td>104.000000</td>\n",
       "      <td>11.200000</td>\n",
       "      <td>47.000000</td>\n",
       "      <td>1.000000</td>\n",
       "    </tr>\n",
       "    <tr>\n",
       "      <th>max</th>\n",
       "      <td>7.000000</td>\n",
       "      <td>NaN</td>\n",
       "      <td>190.000000</td>\n",
       "      <td>113.000000</td>\n",
       "      <td>17.000000</td>\n",
       "      <td>75.000000</td>\n",
       "      <td>1.000000</td>\n",
       "    </tr>\n",
       "  </tbody>\n",
       "</table>\n",
       "</div>"
      ],
      "text/plain": [
       "                SIZE      FUEL      DISTANCE       DESIBEL       AIRFLOW  \\\n",
       "count   17442.000000     17442  17442.000000  17442.000000  17442.000000   \n",
       "unique           NaN         4           NaN           NaN           NaN   \n",
       "top              NaN  gasoline           NaN           NaN           NaN   \n",
       "freq             NaN      5130           NaN           NaN           NaN   \n",
       "mean        3.411765       NaN    100.000000     96.379142      6.975634   \n",
       "std         1.750977       NaN     54.773826      8.164096      4.736169   \n",
       "min         1.000000       NaN     10.000000     72.000000      0.000000   \n",
       "25%         2.000000       NaN     50.000000     90.000000      3.200000   \n",
       "50%         3.000000       NaN    100.000000     95.000000      5.800000   \n",
       "75%         5.000000       NaN    150.000000    104.000000     11.200000   \n",
       "max         7.000000       NaN    190.000000    113.000000     17.000000   \n",
       "\n",
       "           FREQUENCY        STATUS  \n",
       "count   17442.000000  17442.000000  \n",
       "unique           NaN           NaN  \n",
       "top              NaN           NaN  \n",
       "freq             NaN           NaN  \n",
       "mean       31.611111      0.497821  \n",
       "std        20.939149      0.500010  \n",
       "min         1.000000      0.000000  \n",
       "25%        14.000000      0.000000  \n",
       "50%        27.500000      0.000000  \n",
       "75%        47.000000      1.000000  \n",
       "max        75.000000      1.000000  "
      ]
     },
     "execution_count": 7,
     "metadata": {},
     "output_type": "execute_result"
    }
   ],
   "source": [
    "df.describe(include=\"all\")"
   ]
  },
  {
   "cell_type": "code",
   "execution_count": 8,
   "id": "bd914546",
   "metadata": {},
   "outputs": [
    {
     "data": {
      "text/plain": [
       "SIZE         0\n",
       "FUEL         0\n",
       "DISTANCE     0\n",
       "DESIBEL      0\n",
       "AIRFLOW      0\n",
       "FREQUENCY    0\n",
       "STATUS       0\n",
       "dtype: int64"
      ]
     },
     "execution_count": 8,
     "metadata": {},
     "output_type": "execute_result"
    }
   ],
   "source": [
    "df.isnull().sum()"
   ]
  },
  {
   "cell_type": "markdown",
   "id": "f3a6c554",
   "metadata": {},
   "source": [
    " No Null Values"
   ]
  },
  {
   "cell_type": "code",
   "execution_count": 9,
   "id": "64eb188e",
   "metadata": {},
   "outputs": [
    {
     "data": {
      "text/html": [
       "<div>\n",
       "<style scoped>\n",
       "    .dataframe tbody tr th:only-of-type {\n",
       "        vertical-align: middle;\n",
       "    }\n",
       "\n",
       "    .dataframe tbody tr th {\n",
       "        vertical-align: top;\n",
       "    }\n",
       "\n",
       "    .dataframe thead th {\n",
       "        text-align: right;\n",
       "    }\n",
       "</style>\n",
       "<table border=\"1\" class=\"dataframe\">\n",
       "  <thead>\n",
       "    <tr style=\"text-align: right;\">\n",
       "      <th></th>\n",
       "      <th>FUEL</th>\n",
       "    </tr>\n",
       "  </thead>\n",
       "  <tbody>\n",
       "    <tr>\n",
       "      <th>count</th>\n",
       "      <td>17442</td>\n",
       "    </tr>\n",
       "    <tr>\n",
       "      <th>unique</th>\n",
       "      <td>4</td>\n",
       "    </tr>\n",
       "    <tr>\n",
       "      <th>top</th>\n",
       "      <td>gasoline</td>\n",
       "    </tr>\n",
       "    <tr>\n",
       "      <th>freq</th>\n",
       "      <td>5130</td>\n",
       "    </tr>\n",
       "  </tbody>\n",
       "</table>\n",
       "</div>"
      ],
      "text/plain": [
       "            FUEL\n",
       "count      17442\n",
       "unique         4\n",
       "top     gasoline\n",
       "freq        5130"
      ]
     },
     "execution_count": 9,
     "metadata": {},
     "output_type": "execute_result"
    }
   ],
   "source": [
    "df.describe(include=[\"object\"])"
   ]
  },
  {
   "cell_type": "code",
   "execution_count": 10,
   "id": "e88dac2d",
   "metadata": {},
   "outputs": [
    {
     "data": {
      "image/png": "[encoded data removed]",
      "text/plain": [
       "<Figure size 432x288 with 1 Axes>"
      ]
     },
     "metadata": {
      "needs_background": "light"
     },
     "output_type": "display_data"
    }
   ],
   "source": [
    "sns.countplot(df[\"FUEL\"])\n",
    "plt.show()"
   ]
  },
  {
   "cell_type": "code",
   "execution_count": 11,
   "id": "67073677",
   "metadata": {},
   "outputs": [
    {
     "data": {
      "image/png": "[encoded data removed]",
      "text/plain": [
       "<Figure size 432x288 with 1 Axes>"
      ]
     },
     "metadata": {},
     "output_type": "display_data"
    }
   ],
   "source": [
    "df[\"FUEL\"].value_counts().plot(kind=\"pie\",autopct=\"%.2f%%\")\n",
    "plt.show()"
   ]
  },
  {
   "cell_type": "code",
   "execution_count": 12,
   "id": "73340775",
   "metadata": {},
   "outputs": [
    {
     "data": {
      "image/png": "[encoded data removed]",
      "text/plain": [
       "<Figure size 432x288 with 1 Axes>"
      ]
     },
     "metadata": {
      "needs_background": "light"
     },
     "output_type": "display_data"
    }
   ],
   "source": [
    "sns.countplot(df[\"STATUS\"])\n",
    "plt.show()"
   ]
  },
  {
   "cell_type": "code",
   "execution_count": 13,
   "id": "bfc851a5",
   "metadata": {},
   "outputs": [
    {
     "data": {
      "image/png": "[encoded data removed]",
      "text/plain": [
       "<Figure size 432x288 with 1 Axes>"
      ]
     },
     "metadata": {},
     "output_type": "display_data"
    }
   ],
   "source": [
    "df[\"STATUS\"].value_counts().plot(kind=\"pie\",autopct=\"%.2f%%\")\n",
    "plt.show()"
   ]
  },
  {
   "cell_type": "markdown",
   "id": "15c583ce",
   "metadata": {},
   "source": [
    "<a id=\"5\"></a>\n",
    "# 5.Data Preprocessing"
   ]
  },
  {
   "cell_type": "markdown",
   "id": "b0fdc651",
   "metadata": {},
   "source": [
    "<h4 style=\"color:orange\"><i>Ordinal Encoding</i></h4>"
   ]
  },
  {
   "cell_type": "code",
   "execution_count": 14,
   "id": "e08d9c8f",
   "metadata": {},
   "outputs": [],
   "source": [
    "from sklearn.preprocessing import OrdinalEncoder"
   ]
  },
  {
   "cell_type": "code",
   "execution_count": 15,
   "id": "3a8624fb",
   "metadata": {},
   "outputs": [],
   "source": [
    "oe=OrdinalEncoder()\n",
    "df[\"FUEL\"]=oe.fit_transform(df[[\"FUEL\"]])"
   ]
  },
  {
   "cell_type": "code",
   "execution_count": 16,
   "id": "40b7e9c2",
   "metadata": {},
   "outputs": [
    {
     "data": {
      "text/plain": [
       "[array(['gasoline', 'kerosene', 'lpg', 'thinner'], dtype=object)]"
      ]
     },
     "execution_count": 16,
     "metadata": {},
     "output_type": "execute_result"
    }
   ],
   "source": [
    "oe.categories_"
   ]
  },
  {
   "cell_type": "code",
   "execution_count": 17,
   "id": "383b69b1",
   "metadata": {},
   "outputs": [
    {
     "data": {
      "text/html": [
       "<div>\n",
       "<style scoped>\n",
       "    .dataframe tbody tr th:only-of-type {\n",
       "        vertical-align: middle;\n",
       "    }\n",
       "\n",
       "    .dataframe tbody tr th {\n",
       "        vertical-align: top;\n",
       "    }\n",
       "\n",
       "    .dataframe thead th {\n",
       "        text-align: right;\n",
       "    }\n",
       "</style>\n",
       "<table border=\"1\" class=\"dataframe\">\n",
       "  <thead>\n",
       "    <tr style=\"text-align: right;\">\n",
       "      <th></th>\n",
       "      <th>SIZE</th>\n",
       "      <th>FUEL</th>\n",
       "      <th>DISTANCE</th>\n",
       "      <th>DESIBEL</th>\n",
       "      <th>AIRFLOW</th>\n",
       "      <th>FREQUENCY</th>\n",
       "      <th>STATUS</th>\n",
       "    </tr>\n",
       "  </thead>\n",
       "  <tbody>\n",
       "    <tr>\n",
       "      <th>0</th>\n",
       "      <td>1</td>\n",
       "      <td>0.0</td>\n",
       "      <td>10</td>\n",
       "      <td>96</td>\n",
       "      <td>0.0</td>\n",
       "      <td>75</td>\n",
       "      <td>0</td>\n",
       "    </tr>\n",
       "    <tr>\n",
       "      <th>1</th>\n",
       "      <td>1</td>\n",
       "      <td>0.0</td>\n",
       "      <td>10</td>\n",
       "      <td>96</td>\n",
       "      <td>0.0</td>\n",
       "      <td>72</td>\n",
       "      <td>1</td>\n",
       "    </tr>\n",
       "    <tr>\n",
       "      <th>2</th>\n",
       "      <td>1</td>\n",
       "      <td>0.0</td>\n",
       "      <td>10</td>\n",
       "      <td>96</td>\n",
       "      <td>2.6</td>\n",
       "      <td>70</td>\n",
       "      <td>1</td>\n",
       "    </tr>\n",
       "    <tr>\n",
       "      <th>3</th>\n",
       "      <td>1</td>\n",
       "      <td>0.0</td>\n",
       "      <td>10</td>\n",
       "      <td>96</td>\n",
       "      <td>3.2</td>\n",
       "      <td>68</td>\n",
       "      <td>1</td>\n",
       "    </tr>\n",
       "    <tr>\n",
       "      <th>4</th>\n",
       "      <td>1</td>\n",
       "      <td>0.0</td>\n",
       "      <td>10</td>\n",
       "      <td>109</td>\n",
       "      <td>4.5</td>\n",
       "      <td>67</td>\n",
       "      <td>1</td>\n",
       "    </tr>\n",
       "  </tbody>\n",
       "</table>\n",
       "</div>"
      ],
      "text/plain": [
       "   SIZE  FUEL  DISTANCE  DESIBEL  AIRFLOW  FREQUENCY  STATUS\n",
       "0     1   0.0        10       96      0.0         75       0\n",
       "1     1   0.0        10       96      0.0         72       1\n",
       "2     1   0.0        10       96      2.6         70       1\n",
       "3     1   0.0        10       96      3.2         68       1\n",
       "4     1   0.0        10      109      4.5         67       1"
      ]
     },
     "execution_count": 17,
     "metadata": {},
     "output_type": "execute_result"
    }
   ],
   "source": [
    "df.head()"
   ]
  },
  {
   "cell_type": "code",
   "execution_count": 18,
   "id": "4276614c",
   "metadata": {},
   "outputs": [],
   "source": [
    "from scipy.stats import skew"
   ]
  },
  {
   "cell_type": "code",
   "execution_count": 19,
   "id": "cc152160",
   "metadata": {},
   "outputs": [
    {
     "name": "stdout",
     "output_type": "stream",
     "text": [
      "SIZE\n",
      "Skewness: 0.2786998636581806\n"
     ]
    },
    {
     "data": {
      "image/png": "[encoded data removed]",
      "text/plain": [
       "<Figure size 432x288 with 1 Axes>"
      ]
     },
     "metadata": {
      "needs_background": "light"
     },
     "output_type": "display_data"
    },
    {
     "name": "stdout",
     "output_type": "stream",
     "text": [
      "FUEL\n",
      "Skewness: 0.20959140221588837\n"
     ]
    },
    {
     "data": {
      "image/png": "[encoded data removed]",
      "text/plain": [
       "<Figure size 432x288 with 1 Axes>"
      ]
     },
     "metadata": {
      "needs_background": "light"
     },
     "output_type": "display_data"
    },
    {
     "name": "stdout",
     "output_type": "stream",
     "text": [
      "DISTANCE\n",
      "Skewness: 0.0\n"
     ]
    },
    {
     "data": {
      "image/png": "[encoded data removed]",
      "text/plain": [
       "<Figure size 432x288 with 1 Axes>"
      ]
     },
     "metadata": {
      "needs_background": "light"
     },
     "output_type": "display_data"
    },
    {
     "name": "stdout",
     "output_type": "stream",
     "text": [
      "DESIBEL\n",
      "Skewness: -0.17903195807888958\n"
     ]
    },
    {
     "data": {
      "image/png": "[encoded data removed]",
      "text/plain": [
       "<Figure size 432x288 with 1 Axes>"
      ]
     },
     "metadata": {
      "needs_background": "light"
     },
     "output_type": "display_data"
    },
    {
     "name": "stdout",
     "output_type": "stream",
     "text": [
      "AIRFLOW\n",
      "Skewness: 0.24434745944124117\n"
     ]
    },
    {
     "data": {
      "image/png": "[encoded data removed]",
      "text/plain": [
       "<Figure size 432x288 with 1 Axes>"
      ]
     },
     "metadata": {
      "needs_background": "light"
     },
     "output_type": "display_data"
    },
    {
     "name": "stdout",
     "output_type": "stream",
     "text": [
      "FREQUENCY\n",
      "Skewness: 0.4348548916349596\n"
     ]
    },
    {
     "data": {
      "image/png": "[encoded data removed]",
      "text/plain": [
       "<Figure size 432x288 with 1 Axes>"
      ]
     },
     "metadata": {
      "needs_background": "light"
     },
     "output_type": "display_data"
    },
    {
     "name": "stdout",
     "output_type": "stream",
     "text": [
      "STATUS\n",
      "Skewness: 0.008714679678955612\n"
     ]
    },
    {
     "data": {
      "image/png": "[encoded data removed]",
      "text/plain": [
       "<Figure size 432x288 with 1 Axes>"
      ]
     },
     "metadata": {
      "needs_background": "light"
     },
     "output_type": "display_data"
    }
   ],
   "source": [
    "for col in df:\n",
    "    print(col)\n",
    "    print(f\"Skewness: {skew(df[col])}\")\n",
    "    \n",
    "    plt.figure()\n",
    "    sns.distplot(df[col])\n",
    "    plt.grid(True)\n",
    "    plt.show()"
   ]
  },
  {
   "cell_type": "code",
   "execution_count": 20,
   "id": "1740721e",
   "metadata": {},
   "outputs": [
    {
     "data": {
      "text/html": [
       "<div>\n",
       "<style scoped>\n",
       "    .dataframe tbody tr th:only-of-type {\n",
       "        vertical-align: middle;\n",
       "    }\n",
       "\n",
       "    .dataframe tbody tr th {\n",
       "        vertical-align: top;\n",
       "    }\n",
       "\n",
       "    .dataframe thead th {\n",
       "        text-align: right;\n",
       "    }\n",
       "</style>\n",
       "<table border=\"1\" class=\"dataframe\">\n",
       "  <thead>\n",
       "    <tr style=\"text-align: right;\">\n",
       "      <th></th>\n",
       "      <th>SIZE</th>\n",
       "      <th>FUEL</th>\n",
       "      <th>DISTANCE</th>\n",
       "      <th>DESIBEL</th>\n",
       "      <th>AIRFLOW</th>\n",
       "      <th>FREQUENCY</th>\n",
       "      <th>STATUS</th>\n",
       "    </tr>\n",
       "  </thead>\n",
       "  <tbody>\n",
       "    <tr>\n",
       "      <th>SIZE</th>\n",
       "      <td>1.000000e+00</td>\n",
       "      <td>1.161420e-01</td>\n",
       "      <td>-2.437871e-15</td>\n",
       "      <td>-6.125585e-15</td>\n",
       "      <td>1.677898e-16</td>\n",
       "      <td>9.978281e-17</td>\n",
       "      <td>-0.096947</td>\n",
       "    </tr>\n",
       "    <tr>\n",
       "      <th>FUEL</th>\n",
       "      <td>1.161420e-01</td>\n",
       "      <td>1.000000e+00</td>\n",
       "      <td>-5.956652e-16</td>\n",
       "      <td>-1.383383e-14</td>\n",
       "      <td>-8.832434e-16</td>\n",
       "      <td>-1.081887e-15</td>\n",
       "      <td>-0.019384</td>\n",
       "    </tr>\n",
       "    <tr>\n",
       "      <th>DISTANCE</th>\n",
       "      <td>-2.437871e-15</td>\n",
       "      <td>-5.956652e-16</td>\n",
       "      <td>1.000000e+00</td>\n",
       "      <td>-2.385897e-01</td>\n",
       "      <td>-7.074906e-01</td>\n",
       "      <td>-2.452947e-17</td>\n",
       "      <td>-0.644051</td>\n",
       "    </tr>\n",
       "    <tr>\n",
       "      <th>DESIBEL</th>\n",
       "      <td>-6.125585e-15</td>\n",
       "      <td>-1.383383e-14</td>\n",
       "      <td>-2.385897e-01</td>\n",
       "      <td>1.000000e+00</td>\n",
       "      <td>3.769153e-01</td>\n",
       "      <td>5.617409e-01</td>\n",
       "      <td>0.203970</td>\n",
       "    </tr>\n",
       "    <tr>\n",
       "      <th>AIRFLOW</th>\n",
       "      <td>1.677898e-16</td>\n",
       "      <td>-8.832434e-16</td>\n",
       "      <td>-7.074906e-01</td>\n",
       "      <td>3.769153e-01</td>\n",
       "      <td>1.000000e+00</td>\n",
       "      <td>-2.120462e-01</td>\n",
       "      <td>0.760628</td>\n",
       "    </tr>\n",
       "    <tr>\n",
       "      <th>FREQUENCY</th>\n",
       "      <td>9.978281e-17</td>\n",
       "      <td>-1.081887e-15</td>\n",
       "      <td>-2.452947e-17</td>\n",
       "      <td>5.617409e-01</td>\n",
       "      <td>-2.120462e-01</td>\n",
       "      <td>1.000000e+00</td>\n",
       "      <td>-0.244203</td>\n",
       "    </tr>\n",
       "    <tr>\n",
       "      <th>STATUS</th>\n",
       "      <td>-9.694718e-02</td>\n",
       "      <td>-1.938442e-02</td>\n",
       "      <td>-6.440506e-01</td>\n",
       "      <td>2.039698e-01</td>\n",
       "      <td>7.606279e-01</td>\n",
       "      <td>-2.442030e-01</td>\n",
       "      <td>1.000000</td>\n",
       "    </tr>\n",
       "  </tbody>\n",
       "</table>\n",
       "</div>"
      ],
      "text/plain": [
       "                   SIZE          FUEL      DISTANCE       DESIBEL  \\\n",
       "SIZE       1.000000e+00  1.161420e-01 -2.437871e-15 -6.125585e-15   \n",
       "FUEL       1.161420e-01  1.000000e+00 -5.956652e-16 -1.383383e-14   \n",
       "DISTANCE  -2.437871e-15 -5.956652e-16  1.000000e+00 -2.385897e-01   \n",
       "DESIBEL   -6.125585e-15 -1.383383e-14 -2.385897e-01  1.000000e+00   \n",
       "AIRFLOW    1.677898e-16 -8.832434e-16 -7.074906e-01  3.769153e-01   \n",
       "FREQUENCY  9.978281e-17 -1.081887e-15 -2.452947e-17  5.617409e-01   \n",
       "STATUS    -9.694718e-02 -1.938442e-02 -6.440506e-01  2.039698e-01   \n",
       "\n",
       "                AIRFLOW     FREQUENCY    STATUS  \n",
       "SIZE       1.677898e-16  9.978281e-17 -0.096947  \n",
       "FUEL      -8.832434e-16 -1.081887e-15 -0.019384  \n",
       "DISTANCE  -7.074906e-01 -2.452947e-17 -0.644051  \n",
       "DESIBEL    3.769153e-01  5.617409e-01  0.203970  \n",
       "AIRFLOW    1.000000e+00 -2.120462e-01  0.760628  \n",
       "FREQUENCY -2.120462e-01  1.000000e+00 -0.244203  \n",
       "STATUS     7.606279e-01 -2.442030e-01  1.000000  "
      ]
     },
     "execution_count": 20,
     "metadata": {},
     "output_type": "execute_result"
    }
   ],
   "source": [
    "df.corr()"
   ]
  },
  {
   "cell_type": "code",
   "execution_count": 21,
   "id": "3609d1d6",
   "metadata": {},
   "outputs": [
    {
     "data": {
      "text/plain": [
       "DISTANCE    -0.644051\n",
       "FREQUENCY   -0.244203\n",
       "SIZE        -0.096947\n",
       "FUEL        -0.019384\n",
       "DESIBEL      0.203970\n",
       "AIRFLOW      0.760628\n",
       "STATUS       1.000000\n",
       "Name: STATUS, dtype: float64"
      ]
     },
     "execution_count": 21,
     "metadata": {},
     "output_type": "execute_result"
    }
   ],
   "source": [
    "df.corr()[\"STATUS\"].sort_values()"
   ]
  },
  {
   "cell_type": "code",
   "execution_count": 22,
   "id": "08ec93f8",
   "metadata": {},
   "outputs": [
    {
     "data": {
      "image/png": "[encoded data removed]",
      "text/plain": [
       "<Figure size 720x360 with 2 Axes>"
      ]
     },
     "metadata": {
      "needs_background": "light"
     },
     "output_type": "display_data"
    }
   ],
   "source": [
    "plt.figure(figsize=(10,5))\n",
    "sns.heatmap(df.corr(),annot=True,cmap=\"viridis\")\n",
    "plt.show()"
   ]
  },
  {
   "cell_type": "code",
   "execution_count": 23,
   "id": "7e760855",
   "metadata": {},
   "outputs": [
    {
     "data": {
      "image/png": "[encoded data removed]",
      "text/plain": [
       "<Figure size 720x360 with 1 Axes>"
      ]
     },
     "metadata": {
      "needs_background": "light"
     },
     "output_type": "display_data"
    }
   ],
   "source": [
    "plt.figure(figsize=(10,5))\n",
    "plt.bar(df.columns,df.nunique())\n",
    "plt.show()"
   ]
  },
  {
   "cell_type": "code",
   "execution_count": 24,
   "id": "af215303",
   "metadata": {},
   "outputs": [
    {
     "data": {
      "text/plain": [
       "Index(['SIZE', 'FUEL', 'DISTANCE', 'DESIBEL', 'AIRFLOW', 'FREQUENCY',\n",
       "       'STATUS'],\n",
       "      dtype='object')"
      ]
     },
     "execution_count": 24,
     "metadata": {},
     "output_type": "execute_result"
    }
   ],
   "source": [
    "df.columns"
   ]
  },
  {
   "cell_type": "markdown",
   "id": "08a78410",
   "metadata": {},
   "source": [
    "<a id=\"6\"></a>\n",
    "# 6.Data Prepartion"
   ]
  },
  {
   "cell_type": "code",
   "execution_count": 25,
   "id": "b4aded12",
   "metadata": {},
   "outputs": [
    {
     "data": {
      "text/html": [
       "<div>\n",
       "<style scoped>\n",
       "    .dataframe tbody tr th:only-of-type {\n",
       "        vertical-align: middle;\n",
       "    }\n",
       "\n",
       "    .dataframe tbody tr th {\n",
       "        vertical-align: top;\n",
       "    }\n",
       "\n",
       "    .dataframe thead th {\n",
       "        text-align: right;\n",
       "    }\n",
       "</style>\n",
       "<table border=\"1\" class=\"dataframe\">\n",
       "  <thead>\n",
       "    <tr style=\"text-align: right;\">\n",
       "      <th></th>\n",
       "      <th>SIZE</th>\n",
       "      <th>FUEL</th>\n",
       "      <th>DISTANCE</th>\n",
       "      <th>DESIBEL</th>\n",
       "      <th>AIRFLOW</th>\n",
       "      <th>FREQUENCY</th>\n",
       "    </tr>\n",
       "  </thead>\n",
       "  <tbody>\n",
       "    <tr>\n",
       "      <th>0</th>\n",
       "      <td>1</td>\n",
       "      <td>0.0</td>\n",
       "      <td>10</td>\n",
       "      <td>96</td>\n",
       "      <td>0.0</td>\n",
       "      <td>75</td>\n",
       "    </tr>\n",
       "    <tr>\n",
       "      <th>1</th>\n",
       "      <td>1</td>\n",
       "      <td>0.0</td>\n",
       "      <td>10</td>\n",
       "      <td>96</td>\n",
       "      <td>0.0</td>\n",
       "      <td>72</td>\n",
       "    </tr>\n",
       "    <tr>\n",
       "      <th>2</th>\n",
       "      <td>1</td>\n",
       "      <td>0.0</td>\n",
       "      <td>10</td>\n",
       "      <td>96</td>\n",
       "      <td>2.6</td>\n",
       "      <td>70</td>\n",
       "    </tr>\n",
       "    <tr>\n",
       "      <th>3</th>\n",
       "      <td>1</td>\n",
       "      <td>0.0</td>\n",
       "      <td>10</td>\n",
       "      <td>96</td>\n",
       "      <td>3.2</td>\n",
       "      <td>68</td>\n",
       "    </tr>\n",
       "    <tr>\n",
       "      <th>4</th>\n",
       "      <td>1</td>\n",
       "      <td>0.0</td>\n",
       "      <td>10</td>\n",
       "      <td>109</td>\n",
       "      <td>4.5</td>\n",
       "      <td>67</td>\n",
       "    </tr>\n",
       "  </tbody>\n",
       "</table>\n",
       "</div>"
      ],
      "text/plain": [
       "   SIZE  FUEL  DISTANCE  DESIBEL  AIRFLOW  FREQUENCY\n",
       "0     1   0.0        10       96      0.0         75\n",
       "1     1   0.0        10       96      0.0         72\n",
       "2     1   0.0        10       96      2.6         70\n",
       "3     1   0.0        10       96      3.2         68\n",
       "4     1   0.0        10      109      4.5         67"
      ]
     },
     "execution_count": 25,
     "metadata": {},
     "output_type": "execute_result"
    }
   ],
   "source": [
    "x=df.iloc[ : , :-1]\n",
    "x.head()"
   ]
  },
  {
   "cell_type": "code",
   "execution_count": 26,
   "id": "717fc4e9",
   "metadata": {},
   "outputs": [
    {
     "data": {
      "text/plain": [
       "0    0\n",
       "1    1\n",
       "2    1\n",
       "3    1\n",
       "4    1\n",
       "Name: STATUS, dtype: int64"
      ]
     },
     "execution_count": 26,
     "metadata": {},
     "output_type": "execute_result"
    }
   ],
   "source": [
    "y=df.iloc[ : ,-1]\n",
    "y.head()"
   ]
  },
  {
   "cell_type": "code",
   "execution_count": 27,
   "id": "363dd13d",
   "metadata": {},
   "outputs": [],
   "source": [
    "from sklearn.model_selection import train_test_split\n",
    "xtrain,xtest,ytrain,ytest=train_test_split(x,y,test_size=0.3,random_state=1)"
   ]
  },
  {
   "cell_type": "code",
   "execution_count": 28,
   "id": "a4251265",
   "metadata": {},
   "outputs": [],
   "source": [
    "from sklearn.preprocessing import StandardScaler\n",
    "ss=StandardScaler()\n",
    "xtrain=ss.fit_transform(xtrain)\n",
    "xtest=ss.fit_transform(xtest)"
   ]
  },
  {
   "cell_type": "code",
   "execution_count": 29,
   "id": "82451c85",
   "metadata": {},
   "outputs": [],
   "source": [
    "from sklearn.metrics import accuracy_score, confusion_matrix, classification_report"
   ]
  },
  {
   "cell_type": "markdown",
   "id": "162bada8",
   "metadata": {},
   "source": [
    "<a id=\"7\"></a>\n",
    "# 7.Modelling"
   ]
  },
  {
   "cell_type": "markdown",
   "id": "f9d72acd",
   "metadata": {},
   "source": [
    "<h1 style=\"color:red\"><i>KNN</i></h1>"
   ]
  },
  {
   "cell_type": "code",
   "execution_count": 30,
   "id": "9b4c1da3",
   "metadata": {},
   "outputs": [],
   "source": [
    "from sklearn.neighbors import KNeighborsClassifier\n",
    "knn=KNeighborsClassifier()\n",
    "knn.fit(xtrain,ytrain)\n",
    "ypred=knn.predict(xtest)"
   ]
  },
  {
   "cell_type": "code",
   "execution_count": 31,
   "id": "8ec4135d",
   "metadata": {},
   "outputs": [
    {
     "name": "stdout",
     "output_type": "stream",
     "text": [
      "              precision    recall  f1-score   support\n",
      "\n",
      "           0       0.96      0.96      0.96      2664\n",
      "           1       0.96      0.96      0.96      2569\n",
      "\n",
      "    accuracy                           0.96      5233\n",
      "   macro avg       0.96      0.96      0.96      5233\n",
      "weighted avg       0.96      0.96      0.96      5233\n",
      "\n"
     ]
    }
   ],
   "source": [
    "print(classification_report(ytest,ypred))"
   ]
  },
  {
   "cell_type": "code",
   "execution_count": 32,
   "id": "d8ceb253",
   "metadata": {},
   "outputs": [
    {
     "data": {
      "text/plain": [
       "0.9598700554175426"
      ]
     },
     "execution_count": 32,
     "metadata": {},
     "output_type": "execute_result"
    }
   ],
   "source": [
    "accuracy_score(ytest,ypred)"
   ]
  },
  {
   "cell_type": "code",
   "execution_count": 33,
   "id": "84e8e4f5",
   "metadata": {},
   "outputs": [
    {
     "data": {
      "text/plain": [
       "array([[2553,  111],\n",
       "       [  99, 2470]], dtype=int64)"
      ]
     },
     "execution_count": 33,
     "metadata": {},
     "output_type": "execute_result"
    }
   ],
   "source": [
    "confusion_matrix(ytest,ypred)"
   ]
  },
  {
   "cell_type": "markdown",
   "id": "5af3fe8d",
   "metadata": {},
   "source": [
    "<h4 style=\"color:orange\"><i>Hyper Parameter Tunning</i></h4>"
   ]
  },
  {
   "cell_type": "code",
   "execution_count": 34,
   "id": "ffba1a0d",
   "metadata": {},
   "outputs": [],
   "source": [
    "accuracy=[]\n",
    "for i in range(1,21):\n",
    "    knn=KNeighborsClassifier(n_neighbors=i)\n",
    "    knn.fit(xtrain,ytrain)\n",
    "    ypred=knn.predict(xtest)\n",
    "    ac=accuracy_score(ytest,ypred)\n",
    "    accuracy.append(ac)"
   ]
  },
  {
   "cell_type": "code",
   "execution_count": 35,
   "id": "847077ec",
   "metadata": {},
   "outputs": [
    {
     "data": {
      "image/png": "[encoded data removed]",
      "text/plain": [
       "<Figure size 432x288 with 1 Axes>"
      ]
     },
     "metadata": {
      "needs_background": "light"
     },
     "output_type": "display_data"
    }
   ],
   "source": [
    "plt.plot(range(1,21),accuracy)\n",
    "plt.grid(True)\n",
    "plt.show()"
   ]
  },
  {
   "cell_type": "code",
   "execution_count": 36,
   "id": "dd20a5fa",
   "metadata": {},
   "outputs": [],
   "source": [
    "knn=KNeighborsClassifier(n_neighbors=3)\n",
    "knn.fit(xtrain,ytrain)\n",
    "ypred=knn.predict(xtest)"
   ]
  },
  {
   "cell_type": "code",
   "execution_count": 37,
   "id": "07460e09",
   "metadata": {},
   "outputs": [
    {
     "name": "stdout",
     "output_type": "stream",
     "text": [
      "              precision    recall  f1-score   support\n",
      "\n",
      "           0       0.97      0.96      0.96      2664\n",
      "           1       0.96      0.96      0.96      2569\n",
      "\n",
      "    accuracy                           0.96      5233\n",
      "   macro avg       0.96      0.96      0.96      5233\n",
      "weighted avg       0.96      0.96      0.96      5233\n",
      "\n"
     ]
    }
   ],
   "source": [
    "print(classification_report(ytest,ypred))"
   ]
  },
  {
   "cell_type": "code",
   "execution_count": 38,
   "id": "0f80d0b2",
   "metadata": {},
   "outputs": [
    {
     "data": {
      "text/plain": [
       "0.9606344353143512"
      ]
     },
     "execution_count": 38,
     "metadata": {},
     "output_type": "execute_result"
    }
   ],
   "source": [
    "accuracy_score(ytest,ypred)"
   ]
  },
  {
   "cell_type": "code",
   "execution_count": 39,
   "id": "1e5cb77f",
   "metadata": {},
   "outputs": [
    {
     "data": {
      "text/plain": [
       "array([[2549,  115],\n",
       "       [  91, 2478]], dtype=int64)"
      ]
     },
     "execution_count": 39,
     "metadata": {},
     "output_type": "execute_result"
    }
   ],
   "source": [
    "confusion_matrix(ytest,ypred)"
   ]
  },
  {
   "cell_type": "markdown",
   "id": "161fec99",
   "metadata": {},
   "source": [
    "<h4 style=\"color:orange\"><i>Cross Validation Score</i></h4>"
   ]
  },
  {
   "cell_type": "code",
   "execution_count": 40,
   "id": "74768b51",
   "metadata": {},
   "outputs": [
    {
     "name": "stdout",
     "output_type": "stream",
     "text": [
      "CVS: [0.9220407  0.88650043 0.91542431 0.90166284 0.83486239]\n",
      "CVS Mean: 0.8920981341095606\n",
      "CVS Standard Deviation: 0.03111082349186224\n"
     ]
    }
   ],
   "source": [
    "from sklearn.model_selection import cross_val_score\n",
    "cvs=cross_val_score(knn,x,y,cv=5,scoring=\"accuracy\")\n",
    "print(f\"CVS: {cvs}\")\n",
    "print(f\"CVS Mean: {cvs.mean()}\")\n",
    "print(f\"CVS Standard Deviation: {cvs.std()}\")"
   ]
  },
  {
   "cell_type": "markdown",
   "id": "12f296ce",
   "metadata": {},
   "source": [
    "<h4 style=\"color:orange\"><i>Bagging</i></h4>"
   ]
  },
  {
   "cell_type": "code",
   "execution_count": 41,
   "id": "4100a3af",
   "metadata": {},
   "outputs": [],
   "source": [
    "from sklearn.ensemble import BaggingClassifier\n",
    "bg=BaggingClassifier(knn)\n",
    "bg.fit(xtrain,ytrain)\n",
    "ypred=bg.predict(xtest)"
   ]
  },
  {
   "cell_type": "code",
   "execution_count": 42,
   "id": "a7d37857",
   "metadata": {},
   "outputs": [
    {
     "name": "stdout",
     "output_type": "stream",
     "text": [
      "              precision    recall  f1-score   support\n",
      "\n",
      "           0       0.96      0.96      0.96      2664\n",
      "           1       0.96      0.96      0.96      2569\n",
      "\n",
      "    accuracy                           0.96      5233\n",
      "   macro avg       0.96      0.96      0.96      5233\n",
      "weighted avg       0.96      0.96      0.96      5233\n",
      "\n"
     ]
    }
   ],
   "source": [
    "print(classification_report(ytest,ypred))"
   ]
  },
  {
   "cell_type": "code",
   "execution_count": 43,
   "id": "330db382",
   "metadata": {},
   "outputs": [
    {
     "data": {
      "text/plain": [
       "0.9615899101853621"
      ]
     },
     "execution_count": 43,
     "metadata": {},
     "output_type": "execute_result"
    }
   ],
   "source": [
    "accuracy_score(ytest,ypred)"
   ]
  },
  {
   "cell_type": "code",
   "execution_count": 44,
   "id": "0a70d582",
   "metadata": {},
   "outputs": [
    {
     "data": {
      "text/plain": [
       "array([[2557,  107],\n",
       "       [  94, 2475]], dtype=int64)"
      ]
     },
     "execution_count": 44,
     "metadata": {},
     "output_type": "execute_result"
    }
   ],
   "source": [
    "confusion_matrix(ytest,ypred)"
   ]
  },
  {
   "cell_type": "markdown",
   "id": "9974c26e",
   "metadata": {},
   "source": [
    "<h1 style=\"color:red\"><i>Logistic Regression</i></h1>"
   ]
  },
  {
   "cell_type": "code",
   "execution_count": 45,
   "id": "e717c29e",
   "metadata": {},
   "outputs": [],
   "source": [
    "from sklearn.linear_model import LogisticRegression\n",
    "logreg=LogisticRegression()\n",
    "logreg.fit(xtrain,ytrain)\n",
    "ypred=logreg.predict(xtest)"
   ]
  },
  {
   "cell_type": "code",
   "execution_count": 46,
   "id": "8abd44d9",
   "metadata": {},
   "outputs": [
    {
     "name": "stdout",
     "output_type": "stream",
     "text": [
      "              precision    recall  f1-score   support\n",
      "\n",
      "           0       0.87      0.89      0.88      2664\n",
      "           1       0.88      0.86      0.87      2569\n",
      "\n",
      "    accuracy                           0.88      5233\n",
      "   macro avg       0.88      0.87      0.88      5233\n",
      "weighted avg       0.88      0.88      0.88      5233\n",
      "\n"
     ]
    }
   ],
   "source": [
    "print(classification_report(ytest,ypred))"
   ]
  },
  {
   "cell_type": "code",
   "execution_count": 47,
   "id": "9dafe314",
   "metadata": {},
   "outputs": [
    {
     "data": {
      "text/plain": [
       "0.8752149818459775"
      ]
     },
     "execution_count": 47,
     "metadata": {},
     "output_type": "execute_result"
    }
   ],
   "source": [
    "accuracy_score(ytest,ypred)"
   ]
  },
  {
   "cell_type": "code",
   "execution_count": 48,
   "id": "44c661db",
   "metadata": {},
   "outputs": [
    {
     "data": {
      "text/plain": [
       "array([[2369,  295],\n",
       "       [ 358, 2211]], dtype=int64)"
      ]
     },
     "execution_count": 48,
     "metadata": {},
     "output_type": "execute_result"
    }
   ],
   "source": [
    "confusion_matrix(ytest,ypred)"
   ]
  },
  {
   "cell_type": "markdown",
   "id": "b7b9d22c",
   "metadata": {},
   "source": [
    "<h4 style=\"color:orange\"><i>Hyper Parameter Tunning</i></h4>"
   ]
  },
  {
   "cell_type": "code",
   "execution_count": 49,
   "id": "23b7a32e",
   "metadata": {},
   "outputs": [],
   "source": [
    "params={\n",
    "    \"C\": np.logspace(-3,3,7),\n",
    "    \"solver\": [\"liblinear\",\"lbfgs\",\"sag\",\"saga\",\"newton-cg\"],\n",
    "    \"penalty\": [\"l1\",\"l2\",\"elasticnet\"]\n",
    "}"
   ]
  },
  {
   "cell_type": "code",
   "execution_count": 50,
   "id": "29718e44",
   "metadata": {},
   "outputs": [
    {
     "name": "stdout",
     "output_type": "stream",
     "text": [
      "Fitting 5 folds for each of 105 candidates, totalling 525 fits\n",
      "[CV 1/5] END C=0.001, penalty=l1, solver=liblinear;, score=0.876 total time=   0.0s\n",
      "[CV 2/5] END C=0.001, penalty=l1, solver=liblinear;, score=0.866 total time=   0.0s\n",
      "[CV 3/5] END C=0.001, penalty=l1, solver=liblinear;, score=0.866 total time=   0.0s\n",
      "[CV 4/5] END C=0.001, penalty=l1, solver=liblinear;, score=0.857 total time=   0.0s\n",
      "[CV 5/5] END C=0.001, penalty=l1, solver=liblinear;, score=0.869 total time=   0.0s\n",
      "[CV 1/5] END ...C=0.001, penalty=l1, solver=lbfgs;, score=nan total time=   0.0s\n",
      "[CV 2/5] END ...C=0.001, penalty=l1, solver=lbfgs;, score=nan total time=   0.0s\n",
      "[CV 3/5] END ...C=0.001, penalty=l1, solver=lbfgs;, score=nan total time=   0.0s\n",
      "[CV 4/5] END ...C=0.001, penalty=l1, solver=lbfgs;, score=nan total time=   0.0s\n",
      "[CV 5/5] END ...C=0.001, penalty=l1, solver=lbfgs;, score=nan total time=   0.0s\n",
      "[CV 1/5] END .....C=0.001, penalty=l1, solver=sag;, score=nan total time=   0.0s\n",
      "[CV 2/5] END .....C=0.001, penalty=l1, solver=sag;, score=nan total time=   0.0s\n",
      "[CV 3/5] END .....C=0.001, penalty=l1, solver=sag;, score=nan total time=   0.0s\n",
      "[CV 4/5] END .....C=0.001, penalty=l1, solver=sag;, score=nan total time=   0.0s\n",
      "[CV 5/5] END .....C=0.001, penalty=l1, solver=sag;, score=nan total time=   0.0s\n",
      "[CV 1/5] END ..C=0.001, penalty=l1, solver=saga;, score=0.879 total time=   0.0s\n",
      "[CV 2/5] END ..C=0.001, penalty=l1, solver=saga;, score=0.867 total time=   0.0s\n",
      "[CV 3/5] END ..C=0.001, penalty=l1, solver=saga;, score=0.867 total time=   0.0s\n",
      "[CV 4/5] END ..C=0.001, penalty=l1, solver=saga;, score=0.857 total time=   0.0s\n",
      "[CV 5/5] END ..C=0.001, penalty=l1, solver=saga;, score=0.868 total time=   0.0s\n",
      "[CV 1/5] END C=0.001, penalty=l1, solver=newton-cg;, score=nan total time=   0.0s\n",
      "[CV 2/5] END C=0.001, penalty=l1, solver=newton-cg;, score=nan total time=   0.0s\n",
      "[CV 3/5] END C=0.001, penalty=l1, solver=newton-cg;, score=nan total time=   0.0s\n",
      "[CV 4/5] END C=0.001, penalty=l1, solver=newton-cg;, score=nan total time=   0.0s\n",
      "[CV 5/5] END C=0.001, penalty=l1, solver=newton-cg;, score=nan total time=   0.0s\n",
      "[CV 1/5] END C=0.001, penalty=l2, solver=liblinear;, score=0.883 total time=   0.0s\n",
      "[CV 2/5] END C=0.001, penalty=l2, solver=liblinear;, score=0.876 total time=   0.0s\n",
      "[CV 3/5] END C=0.001, penalty=l2, solver=liblinear;, score=0.870 total time=   0.0s\n",
      "[CV 4/5] END C=0.001, penalty=l2, solver=liblinear;, score=0.869 total time=   0.0s\n",
      "[CV 5/5] END C=0.001, penalty=l2, solver=liblinear;, score=0.873 total time=   0.0s\n",
      "[CV 1/5] END .C=0.001, penalty=l2, solver=lbfgs;, score=0.883 total time=   0.0s\n",
      "[CV 2/5] END .C=0.001, penalty=l2, solver=lbfgs;, score=0.876 total time=   0.0s\n",
      "[CV 3/5] END .C=0.001, penalty=l2, solver=lbfgs;, score=0.870 total time=   0.0s\n",
      "[CV 4/5] END .C=0.001, penalty=l2, solver=lbfgs;, score=0.869 total time=   0.0s\n",
      "[CV 5/5] END .C=0.001, penalty=l2, solver=lbfgs;, score=0.873 total time=   0.0s\n",
      "[CV 1/5] END ...C=0.001, penalty=l2, solver=sag;, score=0.883 total time=   0.0s\n",
      "[CV 2/5] END ...C=0.001, penalty=l2, solver=sag;, score=0.876 total time=   0.0s\n",
      "[CV 3/5] END ...C=0.001, penalty=l2, solver=sag;, score=0.870 total time=   0.0s\n",
      "[CV 4/5] END ...C=0.001, penalty=l2, solver=sag;, score=0.869 total time=   0.0s\n",
      "[CV 5/5] END ...C=0.001, penalty=l2, solver=sag;, score=0.873 total time=   0.0s\n",
      "[CV 1/5] END ..C=0.001, penalty=l2, solver=saga;, score=0.883 total time=   0.0s\n",
      "[CV 2/5] END ..C=0.001, penalty=l2, solver=saga;, score=0.876 total time=   0.0s\n",
      "[CV 3/5] END ..C=0.001, penalty=l2, solver=saga;, score=0.870 total time=   0.0s\n",
      "[CV 4/5] END ..C=0.001, penalty=l2, solver=saga;, score=0.869 total time=   0.0s\n",
      "[CV 5/5] END ..C=0.001, penalty=l2, solver=saga;, score=0.873 total time=   0.0s\n",
      "[CV 1/5] END C=0.001, penalty=l2, solver=newton-cg;, score=0.883 total time=   0.0s\n",
      "[CV 2/5] END C=0.001, penalty=l2, solver=newton-cg;, score=0.876 total time=   0.0s\n",
      "[CV 3/5] END C=0.001, penalty=l2, solver=newton-cg;, score=0.870 total time=   0.0s\n",
      "[CV 4/5] END C=0.001, penalty=l2, solver=newton-cg;, score=0.869 total time=   0.0s\n",
      "[CV 5/5] END C=0.001, penalty=l2, solver=newton-cg;, score=0.873 total time=   0.0s\n",
      "[CV 1/5] END C=0.001, penalty=elasticnet, solver=liblinear;, score=nan total time=   0.0s\n",
      "[CV 2/5] END C=0.001, penalty=elasticnet, solver=liblinear;, score=nan total time=   0.0s\n",
      "[CV 3/5] END C=0.001, penalty=elasticnet, solver=liblinear;, score=nan total time=   0.0s\n",
      "[CV 4/5] END C=0.001, penalty=elasticnet, solver=liblinear;, score=nan total time=   0.0s\n",
      "[CV 5/5] END C=0.001, penalty=elasticnet, solver=liblinear;, score=nan total time=   0.0s\n",
      "[CV 1/5] END C=0.001, penalty=elasticnet, solver=lbfgs;, score=nan total time=   0.0s\n",
      "[CV 2/5] END C=0.001, penalty=elasticnet, solver=lbfgs;, score=nan total time=   0.0s\n",
      "[CV 3/5] END C=0.001, penalty=elasticnet, solver=lbfgs;, score=nan total time=   0.0s\n",
      "[CV 4/5] END C=0.001, penalty=elasticnet, solver=lbfgs;, score=nan total time=   0.0s\n",
      "[CV 5/5] END C=0.001, penalty=elasticnet, solver=lbfgs;, score=nan total time=   0.0s\n",
      "[CV 1/5] END C=0.001, penalty=elasticnet, solver=sag;, score=nan total time=   0.0s\n",
      "[CV 2/5] END C=0.001, penalty=elasticnet, solver=sag;, score=nan total time=   0.0s\n",
      "[CV 3/5] END C=0.001, penalty=elasticnet, solver=sag;, score=nan total time=   0.0s\n",
      "[CV 4/5] END C=0.001, penalty=elasticnet, solver=sag;, score=nan total time=   0.0s\n",
      "[CV 5/5] END C=0.001, penalty=elasticnet, solver=sag;, score=nan total time=   0.0s\n",
      "[CV 1/5] END C=0.001, penalty=elasticnet, solver=saga;, score=nan total time=   0.0s\n",
      "[CV 2/5] END C=0.001, penalty=elasticnet, solver=saga;, score=nan total time=   0.0s\n",
      "[CV 3/5] END C=0.001, penalty=elasticnet, solver=saga;, score=nan total time=   0.0s\n",
      "[CV 4/5] END C=0.001, penalty=elasticnet, solver=saga;, score=nan total time=   0.0s\n",
      "[CV 5/5] END C=0.001, penalty=elasticnet, solver=saga;, score=nan total time=   0.0s\n",
      "[CV 1/5] END C=0.001, penalty=elasticnet, solver=newton-cg;, score=nan total time=   0.0s\n",
      "[CV 2/5] END C=0.001, penalty=elasticnet, solver=newton-cg;, score=nan total time=   0.0s\n",
      "[CV 3/5] END C=0.001, penalty=elasticnet, solver=newton-cg;, score=nan total time=   0.0s\n",
      "[CV 4/5] END C=0.001, penalty=elasticnet, solver=newton-cg;, score=nan total time=   0.0s\n",
      "[CV 5/5] END C=0.001, penalty=elasticnet, solver=newton-cg;, score=nan total time=   0.0s\n",
      "[CV 1/5] END C=0.01, penalty=l1, solver=liblinear;, score=0.881 total time=   0.0s\n",
      "[CV 2/5] END C=0.01, penalty=l1, solver=liblinear;, score=0.879 total time=   0.0s\n",
      "[CV 3/5] END C=0.01, penalty=l1, solver=liblinear;, score=0.871 total time=   0.0s\n",
      "[CV 4/5] END C=0.01, penalty=l1, solver=liblinear;, score=0.866 total time=   0.0s\n",
      "[CV 5/5] END C=0.01, penalty=l1, solver=liblinear;, score=0.874 total time=   0.0s\n",
      "[CV 1/5] END ....C=0.01, penalty=l1, solver=lbfgs;, score=nan total time=   0.0s\n",
      "[CV 2/5] END ....C=0.01, penalty=l1, solver=lbfgs;, score=nan total time=   0.0s\n",
      "[CV 3/5] END ....C=0.01, penalty=l1, solver=lbfgs;, score=nan total time=   0.0s\n",
      "[CV 4/5] END ....C=0.01, penalty=l1, solver=lbfgs;, score=nan total time=   0.0s\n",
      "[CV 5/5] END ....C=0.01, penalty=l1, solver=lbfgs;, score=nan total time=   0.0s\n",
      "[CV 1/5] END ......C=0.01, penalty=l1, solver=sag;, score=nan total time=   0.0s\n",
      "[CV 2/5] END ......C=0.01, penalty=l1, solver=sag;, score=nan total time=   0.0s\n",
      "[CV 3/5] END ......C=0.01, penalty=l1, solver=sag;, score=nan total time=   0.0s\n",
      "[CV 4/5] END ......C=0.01, penalty=l1, solver=sag;, score=nan total time=   0.0s\n",
      "[CV 5/5] END ......C=0.01, penalty=l1, solver=sag;, score=nan total time=   0.0s\n",
      "[CV 1/5] END ...C=0.01, penalty=l1, solver=saga;, score=0.880 total time=   0.0s\n",
      "[CV 2/5] END ...C=0.01, penalty=l1, solver=saga;, score=0.880 total time=   0.0s\n",
      "[CV 3/5] END ...C=0.01, penalty=l1, solver=saga;, score=0.871 total time=   0.0s\n",
      "[CV 4/5] END ...C=0.01, penalty=l1, solver=saga;, score=0.867 total time=   0.0s\n",
      "[CV 5/5] END ...C=0.01, penalty=l1, solver=saga;, score=0.873 total time=   0.0s\n",
      "[CV 1/5] END C=0.01, penalty=l1, solver=newton-cg;, score=nan total time=   0.0s\n",
      "[CV 2/5] END C=0.01, penalty=l1, solver=newton-cg;, score=nan total time=   0.0s\n",
      "[CV 3/5] END C=0.01, penalty=l1, solver=newton-cg;, score=nan total time=   0.0s\n",
      "[CV 4/5] END C=0.01, penalty=l1, solver=newton-cg;, score=nan total time=   0.0s\n",
      "[CV 5/5] END C=0.01, penalty=l1, solver=newton-cg;, score=nan total time=   0.0s\n",
      "[CV 1/5] END C=0.01, penalty=l2, solver=liblinear;, score=0.880 total time=   0.0s\n",
      "[CV 2/5] END C=0.01, penalty=l2, solver=liblinear;, score=0.878 total time=   0.0s\n",
      "[CV 3/5] END C=0.01, penalty=l2, solver=liblinear;, score=0.869 total time=   0.0s\n"
     ]
    },
    {
     "name": "stdout",
     "output_type": "stream",
     "text": [
      "[CV 4/5] END C=0.01, penalty=l2, solver=liblinear;, score=0.870 total time=   0.0s\n",
      "[CV 5/5] END C=0.01, penalty=l2, solver=liblinear;, score=0.877 total time=   0.0s\n",
      "[CV 1/5] END ..C=0.01, penalty=l2, solver=lbfgs;, score=0.880 total time=   0.0s\n",
      "[CV 2/5] END ..C=0.01, penalty=l2, solver=lbfgs;, score=0.878 total time=   0.0s\n",
      "[CV 3/5] END ..C=0.01, penalty=l2, solver=lbfgs;, score=0.870 total time=   0.0s\n",
      "[CV 4/5] END ..C=0.01, penalty=l2, solver=lbfgs;, score=0.870 total time=   0.0s\n",
      "[CV 5/5] END ..C=0.01, penalty=l2, solver=lbfgs;, score=0.876 total time=   0.0s\n",
      "[CV 1/5] END ....C=0.01, penalty=l2, solver=sag;, score=0.880 total time=   0.0s\n",
      "[CV 2/5] END ....C=0.01, penalty=l2, solver=sag;, score=0.878 total time=   0.0s\n",
      "[CV 3/5] END ....C=0.01, penalty=l2, solver=sag;, score=0.870 total time=   0.0s\n",
      "[CV 4/5] END ....C=0.01, penalty=l2, solver=sag;, score=0.870 total time=   0.0s\n",
      "[CV 5/5] END ....C=0.01, penalty=l2, solver=sag;, score=0.876 total time=   0.0s\n",
      "[CV 1/5] END ...C=0.01, penalty=l2, solver=saga;, score=0.880 total time=   0.0s\n",
      "[CV 2/5] END ...C=0.01, penalty=l2, solver=saga;, score=0.878 total time=   0.0s\n",
      "[CV 3/5] END ...C=0.01, penalty=l2, solver=saga;, score=0.870 total time=   0.0s\n",
      "[CV 4/5] END ...C=0.01, penalty=l2, solver=saga;, score=0.870 total time=   0.0s\n",
      "[CV 5/5] END ...C=0.01, penalty=l2, solver=saga;, score=0.876 total time=   0.0s\n",
      "[CV 1/5] END C=0.01, penalty=l2, solver=newton-cg;, score=0.880 total time=   0.0s\n",
      "[CV 2/5] END C=0.01, penalty=l2, solver=newton-cg;, score=0.878 total time=   0.0s\n",
      "[CV 3/5] END C=0.01, penalty=l2, solver=newton-cg;, score=0.870 total time=   0.0s\n",
      "[CV 4/5] END C=0.01, penalty=l2, solver=newton-cg;, score=0.870 total time=   0.0s\n",
      "[CV 5/5] END C=0.01, penalty=l2, solver=newton-cg;, score=0.876 total time=   0.1s\n",
      "[CV 1/5] END C=0.01, penalty=elasticnet, solver=liblinear;, score=nan total time=   0.0s\n",
      "[CV 2/5] END C=0.01, penalty=elasticnet, solver=liblinear;, score=nan total time=   0.0s\n",
      "[CV 3/5] END C=0.01, penalty=elasticnet, solver=liblinear;, score=nan total time=   0.0s\n",
      "[CV 4/5] END C=0.01, penalty=elasticnet, solver=liblinear;, score=nan total time=   0.0s\n",
      "[CV 5/5] END C=0.01, penalty=elasticnet, solver=liblinear;, score=nan total time=   0.0s\n",
      "[CV 1/5] END C=0.01, penalty=elasticnet, solver=lbfgs;, score=nan total time=   0.0s\n",
      "[CV 2/5] END C=0.01, penalty=elasticnet, solver=lbfgs;, score=nan total time=   0.0s\n",
      "[CV 3/5] END C=0.01, penalty=elasticnet, solver=lbfgs;, score=nan total time=   0.0s\n",
      "[CV 4/5] END C=0.01, penalty=elasticnet, solver=lbfgs;, score=nan total time=   0.0s\n",
      "[CV 5/5] END C=0.01, penalty=elasticnet, solver=lbfgs;, score=nan total time=   0.0s\n",
      "[CV 1/5] END C=0.01, penalty=elasticnet, solver=sag;, score=nan total time=   0.0s\n",
      "[CV 2/5] END C=0.01, penalty=elasticnet, solver=sag;, score=nan total time=   0.0s\n",
      "[CV 3/5] END C=0.01, penalty=elasticnet, solver=sag;, score=nan total time=   0.0s\n",
      "[CV 4/5] END C=0.01, penalty=elasticnet, solver=sag;, score=nan total time=   0.0s\n",
      "[CV 5/5] END C=0.01, penalty=elasticnet, solver=sag;, score=nan total time=   0.0s\n",
      "[CV 1/5] END C=0.01, penalty=elasticnet, solver=saga;, score=nan total time=   0.0s\n",
      "[CV 2/5] END C=0.01, penalty=elasticnet, solver=saga;, score=nan total time=   0.0s\n",
      "[CV 3/5] END C=0.01, penalty=elasticnet, solver=saga;, score=nan total time=   0.0s\n",
      "[CV 4/5] END C=0.01, penalty=elasticnet, solver=saga;, score=nan total time=   0.0s\n",
      "[CV 5/5] END C=0.01, penalty=elasticnet, solver=saga;, score=nan total time=   0.0s\n",
      "[CV 1/5] END C=0.01, penalty=elasticnet, solver=newton-cg;, score=nan total time=   0.0s\n",
      "[CV 2/5] END C=0.01, penalty=elasticnet, solver=newton-cg;, score=nan total time=   0.0s\n",
      "[CV 3/5] END C=0.01, penalty=elasticnet, solver=newton-cg;, score=nan total time=   0.0s\n",
      "[CV 4/5] END C=0.01, penalty=elasticnet, solver=newton-cg;, score=nan total time=   0.0s\n",
      "[CV 5/5] END C=0.01, penalty=elasticnet, solver=newton-cg;, score=nan total time=   0.0s\n",
      "[CV 1/5] END C=0.1, penalty=l1, solver=liblinear;, score=0.878 total time=   0.0s\n",
      "[CV 2/5] END C=0.1, penalty=l1, solver=liblinear;, score=0.880 total time=   0.0s\n",
      "[CV 3/5] END C=0.1, penalty=l1, solver=liblinear;, score=0.872 total time=   0.0s\n",
      "[CV 4/5] END C=0.1, penalty=l1, solver=liblinear;, score=0.869 total time=   0.0s\n",
      "[CV 5/5] END C=0.1, penalty=l1, solver=liblinear;, score=0.876 total time=   0.0s\n",
      "[CV 1/5] END .....C=0.1, penalty=l1, solver=lbfgs;, score=nan total time=   0.0s\n",
      "[CV 2/5] END .....C=0.1, penalty=l1, solver=lbfgs;, score=nan total time=   0.0s\n",
      "[CV 3/5] END .....C=0.1, penalty=l1, solver=lbfgs;, score=nan total time=   0.0s\n",
      "[CV 4/5] END .....C=0.1, penalty=l1, solver=lbfgs;, score=nan total time=   0.0s\n",
      "[CV 5/5] END .....C=0.1, penalty=l1, solver=lbfgs;, score=nan total time=   0.0s\n",
      "[CV 1/5] END .......C=0.1, penalty=l1, solver=sag;, score=nan total time=   0.0s\n",
      "[CV 2/5] END .......C=0.1, penalty=l1, solver=sag;, score=nan total time=   0.0s\n",
      "[CV 3/5] END .......C=0.1, penalty=l1, solver=sag;, score=nan total time=   0.0s\n",
      "[CV 4/5] END .......C=0.1, penalty=l1, solver=sag;, score=nan total time=   0.0s\n",
      "[CV 5/5] END .......C=0.1, penalty=l1, solver=sag;, score=nan total time=   0.0s\n",
      "[CV 1/5] END ....C=0.1, penalty=l1, solver=saga;, score=0.878 total time=   0.0s\n",
      "[CV 2/5] END ....C=0.1, penalty=l1, solver=saga;, score=0.879 total time=   0.1s\n",
      "[CV 3/5] END ....C=0.1, penalty=l1, solver=saga;, score=0.874 total time=   0.1s\n",
      "[CV 4/5] END ....C=0.1, penalty=l1, solver=saga;, score=0.869 total time=   0.1s\n",
      "[CV 5/5] END ....C=0.1, penalty=l1, solver=saga;, score=0.875 total time=   0.1s\n",
      "[CV 1/5] END .C=0.1, penalty=l1, solver=newton-cg;, score=nan total time=   0.0s\n",
      "[CV 2/5] END .C=0.1, penalty=l1, solver=newton-cg;, score=nan total time=   0.0s\n",
      "[CV 3/5] END .C=0.1, penalty=l1, solver=newton-cg;, score=nan total time=   0.0s\n",
      "[CV 4/5] END .C=0.1, penalty=l1, solver=newton-cg;, score=nan total time=   0.0s\n",
      "[CV 5/5] END .C=0.1, penalty=l1, solver=newton-cg;, score=nan total time=   0.0s\n",
      "[CV 1/5] END C=0.1, penalty=l2, solver=liblinear;, score=0.878 total time=   0.0s\n",
      "[CV 2/5] END C=0.1, penalty=l2, solver=liblinear;, score=0.878 total time=   0.0s\n",
      "[CV 3/5] END C=0.1, penalty=l2, solver=liblinear;, score=0.874 total time=   0.0s\n",
      "[CV 4/5] END C=0.1, penalty=l2, solver=liblinear;, score=0.871 total time=   0.0s\n",
      "[CV 5/5] END C=0.1, penalty=l2, solver=liblinear;, score=0.874 total time=   0.0s\n",
      "[CV 1/5] END ...C=0.1, penalty=l2, solver=lbfgs;, score=0.878 total time=   0.0s\n",
      "[CV 2/5] END ...C=0.1, penalty=l2, solver=lbfgs;, score=0.878 total time=   0.0s\n",
      "[CV 3/5] END ...C=0.1, penalty=l2, solver=lbfgs;, score=0.875 total time=   0.0s\n",
      "[CV 4/5] END ...C=0.1, penalty=l2, solver=lbfgs;, score=0.871 total time=   0.0s\n",
      "[CV 5/5] END ...C=0.1, penalty=l2, solver=lbfgs;, score=0.875 total time=   0.0s\n",
      "[CV 1/5] END .....C=0.1, penalty=l2, solver=sag;, score=0.878 total time=   0.0s\n",
      "[CV 2/5] END .....C=0.1, penalty=l2, solver=sag;, score=0.878 total time=   0.0s\n",
      "[CV 3/5] END .....C=0.1, penalty=l2, solver=sag;, score=0.875 total time=   0.0s\n",
      "[CV 4/5] END .....C=0.1, penalty=l2, solver=sag;, score=0.871 total time=   0.0s\n",
      "[CV 5/5] END .....C=0.1, penalty=l2, solver=sag;, score=0.875 total time=   0.0s\n",
      "[CV 1/5] END ....C=0.1, penalty=l2, solver=saga;, score=0.878 total time=   0.0s\n",
      "[CV 2/5] END ....C=0.1, penalty=l2, solver=saga;, score=0.878 total time=   0.0s\n",
      "[CV 3/5] END ....C=0.1, penalty=l2, solver=saga;, score=0.875 total time=   0.0s\n",
      "[CV 4/5] END ....C=0.1, penalty=l2, solver=saga;, score=0.871 total time=   0.0s\n",
      "[CV 5/5] END ....C=0.1, penalty=l2, solver=saga;, score=0.875 total time=   0.0s\n",
      "[CV 1/5] END C=0.1, penalty=l2, solver=newton-cg;, score=0.878 total time=   0.0s\n",
      "[CV 2/5] END C=0.1, penalty=l2, solver=newton-cg;, score=0.878 total time=   0.0s\n",
      "[CV 3/5] END C=0.1, penalty=l2, solver=newton-cg;, score=0.875 total time=   0.1s\n",
      "[CV 4/5] END C=0.1, penalty=l2, solver=newton-cg;, score=0.871 total time=   0.0s\n",
      "[CV 5/5] END C=0.1, penalty=l2, solver=newton-cg;, score=0.875 total time=   0.1s\n",
      "[CV 1/5] END C=0.1, penalty=elasticnet, solver=liblinear;, score=nan total time=   0.0s\n",
      "[CV 2/5] END C=0.1, penalty=elasticnet, solver=liblinear;, score=nan total time=   0.0s\n",
      "[CV 3/5] END C=0.1, penalty=elasticnet, solver=liblinear;, score=nan total time=   0.0s\n",
      "[CV 4/5] END C=0.1, penalty=elasticnet, solver=liblinear;, score=nan total time=   0.0s\n",
      "[CV 5/5] END C=0.1, penalty=elasticnet, solver=liblinear;, score=nan total time=   0.0s\n",
      "[CV 1/5] END C=0.1, penalty=elasticnet, solver=lbfgs;, score=nan total time=   0.0s\n",
      "[CV 2/5] END C=0.1, penalty=elasticnet, solver=lbfgs;, score=nan total time=   0.0s\n",
      "[CV 3/5] END C=0.1, penalty=elasticnet, solver=lbfgs;, score=nan total time=   0.0s\n",
      "[CV 4/5] END C=0.1, penalty=elasticnet, solver=lbfgs;, score=nan total time=   0.0s\n",
      "[CV 5/5] END C=0.1, penalty=elasticnet, solver=lbfgs;, score=nan total time=   0.0s\n",
      "[CV 1/5] END C=0.1, penalty=elasticnet, solver=sag;, score=nan total time=   0.0s\n",
      "[CV 2/5] END C=0.1, penalty=elasticnet, solver=sag;, score=nan total time=   0.0s\n",
      "[CV 3/5] END C=0.1, penalty=elasticnet, solver=sag;, score=nan total time=   0.0s\n",
      "[CV 4/5] END C=0.1, penalty=elasticnet, solver=sag;, score=nan total time=   0.0s\n",
      "[CV 5/5] END C=0.1, penalty=elasticnet, solver=sag;, score=nan total time=   0.0s\n",
      "[CV 1/5] END C=0.1, penalty=elasticnet, solver=saga;, score=nan total time=   0.0s\n",
      "[CV 2/5] END C=0.1, penalty=elasticnet, solver=saga;, score=nan total time=   0.0s\n",
      "[CV 3/5] END C=0.1, penalty=elasticnet, solver=saga;, score=nan total time=   0.0s\n",
      "[CV 4/5] END C=0.1, penalty=elasticnet, solver=saga;, score=nan total time=   0.0s\n",
      "[CV 5/5] END C=0.1, penalty=elasticnet, solver=saga;, score=nan total time=   0.0s\n",
      "[CV 1/5] END C=0.1, penalty=elasticnet, solver=newton-cg;, score=nan total time=   0.0s\n",
      "[CV 2/5] END C=0.1, penalty=elasticnet, solver=newton-cg;, score=nan total time=   0.0s\n",
      "[CV 3/5] END C=0.1, penalty=elasticnet, solver=newton-cg;, score=nan total time=   0.0s\n",
      "[CV 4/5] END C=0.1, penalty=elasticnet, solver=newton-cg;, score=nan total time=   0.0s\n",
      "[CV 5/5] END C=0.1, penalty=elasticnet, solver=newton-cg;, score=nan total time=   0.0s\n"
     ]
    },
    {
     "name": "stdout",
     "output_type": "stream",
     "text": [
      "[CV 1/5] END C=1.0, penalty=l1, solver=liblinear;, score=0.878 total time=   0.0s\n",
      "[CV 2/5] END C=1.0, penalty=l1, solver=liblinear;, score=0.879 total time=   0.0s\n",
      "[CV 3/5] END C=1.0, penalty=l1, solver=liblinear;, score=0.875 total time=   0.0s\n",
      "[CV 4/5] END C=1.0, penalty=l1, solver=liblinear;, score=0.872 total time=   0.0s\n",
      "[CV 5/5] END C=1.0, penalty=l1, solver=liblinear;, score=0.875 total time=   0.0s\n",
      "[CV 1/5] END .....C=1.0, penalty=l1, solver=lbfgs;, score=nan total time=   0.0s\n",
      "[CV 2/5] END .....C=1.0, penalty=l1, solver=lbfgs;, score=nan total time=   0.0s\n",
      "[CV 3/5] END .....C=1.0, penalty=l1, solver=lbfgs;, score=nan total time=   0.0s\n",
      "[CV 4/5] END .....C=1.0, penalty=l1, solver=lbfgs;, score=nan total time=   0.0s\n",
      "[CV 5/5] END .....C=1.0, penalty=l1, solver=lbfgs;, score=nan total time=   0.0s\n",
      "[CV 1/5] END .......C=1.0, penalty=l1, solver=sag;, score=nan total time=   0.0s\n",
      "[CV 2/5] END .......C=1.0, penalty=l1, solver=sag;, score=nan total time=   0.0s\n",
      "[CV 3/5] END .......C=1.0, penalty=l1, solver=sag;, score=nan total time=   0.0s\n",
      "[CV 4/5] END .......C=1.0, penalty=l1, solver=sag;, score=nan total time=   0.0s\n",
      "[CV 5/5] END .......C=1.0, penalty=l1, solver=sag;, score=nan total time=   0.0s\n",
      "[CV 1/5] END ....C=1.0, penalty=l1, solver=saga;, score=0.878 total time=   0.1s\n",
      "[CV 2/5] END ....C=1.0, penalty=l1, solver=saga;, score=0.879 total time=   0.0s\n",
      "[CV 3/5] END ....C=1.0, penalty=l1, solver=saga;, score=0.875 total time=   0.1s\n",
      "[CV 4/5] END ....C=1.0, penalty=l1, solver=saga;, score=0.872 total time=   0.1s\n",
      "[CV 5/5] END ....C=1.0, penalty=l1, solver=saga;, score=0.875 total time=   0.0s\n",
      "[CV 1/5] END .C=1.0, penalty=l1, solver=newton-cg;, score=nan total time=   0.0s\n",
      "[CV 2/5] END .C=1.0, penalty=l1, solver=newton-cg;, score=nan total time=   0.0s\n",
      "[CV 3/5] END .C=1.0, penalty=l1, solver=newton-cg;, score=nan total time=   0.0s\n",
      "[CV 4/5] END .C=1.0, penalty=l1, solver=newton-cg;, score=nan total time=   0.0s\n",
      "[CV 5/5] END .C=1.0, penalty=l1, solver=newton-cg;, score=nan total time=   0.0s\n",
      "[CV 1/5] END C=1.0, penalty=l2, solver=liblinear;, score=0.879 total time=   0.0s\n",
      "[CV 2/5] END C=1.0, penalty=l2, solver=liblinear;, score=0.879 total time=   0.0s\n",
      "[CV 3/5] END C=1.0, penalty=l2, solver=liblinear;, score=0.875 total time=   0.0s\n",
      "[CV 4/5] END C=1.0, penalty=l2, solver=liblinear;, score=0.872 total time=   0.0s\n",
      "[CV 5/5] END C=1.0, penalty=l2, solver=liblinear;, score=0.875 total time=   0.0s\n",
      "[CV 1/5] END ...C=1.0, penalty=l2, solver=lbfgs;, score=0.879 total time=   0.0s\n",
      "[CV 2/5] END ...C=1.0, penalty=l2, solver=lbfgs;, score=0.879 total time=   0.0s\n",
      "[CV 3/5] END ...C=1.0, penalty=l2, solver=lbfgs;, score=0.875 total time=   0.0s\n",
      "[CV 4/5] END ...C=1.0, penalty=l2, solver=lbfgs;, score=0.872 total time=   0.0s\n",
      "[CV 5/5] END ...C=1.0, penalty=l2, solver=lbfgs;, score=0.875 total time=   0.0s\n",
      "[CV 1/5] END .....C=1.0, penalty=l2, solver=sag;, score=0.879 total time=   0.0s\n",
      "[CV 2/5] END .....C=1.0, penalty=l2, solver=sag;, score=0.879 total time=   0.0s\n",
      "[CV 3/5] END .....C=1.0, penalty=l2, solver=sag;, score=0.875 total time=   0.0s\n",
      "[CV 4/5] END .....C=1.0, penalty=l2, solver=sag;, score=0.872 total time=   0.0s\n",
      "[CV 5/5] END .....C=1.0, penalty=l2, solver=sag;, score=0.875 total time=   0.0s\n",
      "[CV 1/5] END ....C=1.0, penalty=l2, solver=saga;, score=0.879 total time=   0.0s\n",
      "[CV 2/5] END ....C=1.0, penalty=l2, solver=saga;, score=0.879 total time=   0.0s\n",
      "[CV 3/5] END ....C=1.0, penalty=l2, solver=saga;, score=0.875 total time=   0.0s\n",
      "[CV 4/5] END ....C=1.0, penalty=l2, solver=saga;, score=0.872 total time=   0.0s\n",
      "[CV 5/5] END ....C=1.0, penalty=l2, solver=saga;, score=0.875 total time=   0.0s\n",
      "[CV 1/5] END C=1.0, penalty=l2, solver=newton-cg;, score=0.879 total time=   0.0s\n",
      "[CV 2/5] END C=1.0, penalty=l2, solver=newton-cg;, score=0.879 total time=   0.0s\n",
      "[CV 3/5] END C=1.0, penalty=l2, solver=newton-cg;, score=0.875 total time=   0.0s\n",
      "[CV 4/5] END C=1.0, penalty=l2, solver=newton-cg;, score=0.872 total time=   0.0s\n",
      "[CV 5/5] END C=1.0, penalty=l2, solver=newton-cg;, score=0.875 total time=   0.0s\n",
      "[CV 1/5] END C=1.0, penalty=elasticnet, solver=liblinear;, score=nan total time=   0.0s\n",
      "[CV 2/5] END C=1.0, penalty=elasticnet, solver=liblinear;, score=nan total time=   0.0s\n",
      "[CV 3/5] END C=1.0, penalty=elasticnet, solver=liblinear;, score=nan total time=   0.0s\n",
      "[CV 4/5] END C=1.0, penalty=elasticnet, solver=liblinear;, score=nan total time=   0.0s\n",
      "[CV 5/5] END C=1.0, penalty=elasticnet, solver=liblinear;, score=nan total time=   0.0s\n",
      "[CV 1/5] END C=1.0, penalty=elasticnet, solver=lbfgs;, score=nan total time=   0.0s\n",
      "[CV 2/5] END C=1.0, penalty=elasticnet, solver=lbfgs;, score=nan total time=   0.0s\n",
      "[CV 3/5] END C=1.0, penalty=elasticnet, solver=lbfgs;, score=nan total time=   0.0s\n",
      "[CV 4/5] END C=1.0, penalty=elasticnet, solver=lbfgs;, score=nan total time=   0.0s\n",
      "[CV 5/5] END C=1.0, penalty=elasticnet, solver=lbfgs;, score=nan total time=   0.0s\n",
      "[CV 1/5] END C=1.0, penalty=elasticnet, solver=sag;, score=nan total time=   0.0s\n",
      "[CV 2/5] END C=1.0, penalty=elasticnet, solver=sag;, score=nan total time=   0.0s\n",
      "[CV 3/5] END C=1.0, penalty=elasticnet, solver=sag;, score=nan total time=   0.0s\n",
      "[CV 4/5] END C=1.0, penalty=elasticnet, solver=sag;, score=nan total time=   0.0s\n",
      "[CV 5/5] END C=1.0, penalty=elasticnet, solver=sag;, score=nan total time=   0.0s\n",
      "[CV 1/5] END C=1.0, penalty=elasticnet, solver=saga;, score=nan total time=   0.0s\n",
      "[CV 2/5] END C=1.0, penalty=elasticnet, solver=saga;, score=nan total time=   0.0s\n",
      "[CV 3/5] END C=1.0, penalty=elasticnet, solver=saga;, score=nan total time=   0.0s\n",
      "[CV 4/5] END C=1.0, penalty=elasticnet, solver=saga;, score=nan total time=   0.0s\n",
      "[CV 5/5] END C=1.0, penalty=elasticnet, solver=saga;, score=nan total time=   0.0s\n",
      "[CV 1/5] END C=1.0, penalty=elasticnet, solver=newton-cg;, score=nan total time=   0.0s\n",
      "[CV 2/5] END C=1.0, penalty=elasticnet, solver=newton-cg;, score=nan total time=   0.0s\n",
      "[CV 3/5] END C=1.0, penalty=elasticnet, solver=newton-cg;, score=nan total time=   0.0s\n",
      "[CV 4/5] END C=1.0, penalty=elasticnet, solver=newton-cg;, score=nan total time=   0.0s\n",
      "[CV 5/5] END C=1.0, penalty=elasticnet, solver=newton-cg;, score=nan total time=   0.0s\n",
      "[CV 1/5] END C=10.0, penalty=l1, solver=liblinear;, score=0.879 total time=   0.0s\n",
      "[CV 2/5] END C=10.0, penalty=l1, solver=liblinear;, score=0.879 total time=   0.0s\n",
      "[CV 3/5] END C=10.0, penalty=l1, solver=liblinear;, score=0.875 total time=   0.0s\n",
      "[CV 4/5] END C=10.0, penalty=l1, solver=liblinear;, score=0.872 total time=   0.0s\n",
      "[CV 5/5] END C=10.0, penalty=l1, solver=liblinear;, score=0.875 total time=   0.0s\n",
      "[CV 1/5] END ....C=10.0, penalty=l1, solver=lbfgs;, score=nan total time=   0.0s\n",
      "[CV 2/5] END ....C=10.0, penalty=l1, solver=lbfgs;, score=nan total time=   0.0s\n",
      "[CV 3/5] END ....C=10.0, penalty=l1, solver=lbfgs;, score=nan total time=   0.0s\n",
      "[CV 4/5] END ....C=10.0, penalty=l1, solver=lbfgs;, score=nan total time=   0.0s\n",
      "[CV 5/5] END ....C=10.0, penalty=l1, solver=lbfgs;, score=nan total time=   0.0s\n",
      "[CV 1/5] END ......C=10.0, penalty=l1, solver=sag;, score=nan total time=   0.0s\n",
      "[CV 2/5] END ......C=10.0, penalty=l1, solver=sag;, score=nan total time=   0.0s\n",
      "[CV 3/5] END ......C=10.0, penalty=l1, solver=sag;, score=nan total time=   0.0s\n",
      "[CV 4/5] END ......C=10.0, penalty=l1, solver=sag;, score=nan total time=   0.0s\n",
      "[CV 5/5] END ......C=10.0, penalty=l1, solver=sag;, score=nan total time=   0.0s\n",
      "[CV 1/5] END ...C=10.0, penalty=l1, solver=saga;, score=0.879 total time=   0.0s\n",
      "[CV 2/5] END ...C=10.0, penalty=l1, solver=saga;, score=0.879 total time=   0.1s\n",
      "[CV 3/5] END ...C=10.0, penalty=l1, solver=saga;, score=0.875 total time=   0.0s\n",
      "[CV 4/5] END ...C=10.0, penalty=l1, solver=saga;, score=0.872 total time=   0.0s\n",
      "[CV 5/5] END ...C=10.0, penalty=l1, solver=saga;, score=0.875 total time=   0.0s\n",
      "[CV 1/5] END C=10.0, penalty=l1, solver=newton-cg;, score=nan total time=   0.0s\n",
      "[CV 2/5] END C=10.0, penalty=l1, solver=newton-cg;, score=nan total time=   0.0s\n",
      "[CV 3/5] END C=10.0, penalty=l1, solver=newton-cg;, score=nan total time=   0.0s\n",
      "[CV 4/5] END C=10.0, penalty=l1, solver=newton-cg;, score=nan total time=   0.0s\n",
      "[CV 5/5] END C=10.0, penalty=l1, solver=newton-cg;, score=nan total time=   0.0s\n"
     ]
    },
    {
     "name": "stdout",
     "output_type": "stream",
     "text": [
      "[CV 1/5] END C=10.0, penalty=l2, solver=liblinear;, score=0.879 total time=   0.0s\n",
      "[CV 2/5] END C=10.0, penalty=l2, solver=liblinear;, score=0.879 total time=   0.0s\n",
      "[CV 3/5] END C=10.0, penalty=l2, solver=liblinear;, score=0.875 total time=   0.0s\n",
      "[CV 4/5] END C=10.0, penalty=l2, solver=liblinear;, score=0.872 total time=   0.0s\n",
      "[CV 5/5] END C=10.0, penalty=l2, solver=liblinear;, score=0.875 total time=   0.0s\n",
      "[CV 1/5] END ..C=10.0, penalty=l2, solver=lbfgs;, score=0.879 total time=   0.0s\n",
      "[CV 2/5] END ..C=10.0, penalty=l2, solver=lbfgs;, score=0.879 total time=   0.0s\n",
      "[CV 3/5] END ..C=10.0, penalty=l2, solver=lbfgs;, score=0.875 total time=   0.0s\n",
      "[CV 4/5] END ..C=10.0, penalty=l2, solver=lbfgs;, score=0.872 total time=   0.0s\n",
      "[CV 5/5] END ..C=10.0, penalty=l2, solver=lbfgs;, score=0.875 total time=   0.0s\n",
      "[CV 1/5] END ....C=10.0, penalty=l2, solver=sag;, score=0.879 total time=   0.0s\n",
      "[CV 2/5] END ....C=10.0, penalty=l2, solver=sag;, score=0.879 total time=   0.1s\n",
      "[CV 3/5] END ....C=10.0, penalty=l2, solver=sag;, score=0.875 total time=   0.1s\n",
      "[CV 4/5] END ....C=10.0, penalty=l2, solver=sag;, score=0.872 total time=   0.0s\n",
      "[CV 5/5] END ....C=10.0, penalty=l2, solver=sag;, score=0.875 total time=   0.1s\n",
      "[CV 1/5] END ...C=10.0, penalty=l2, solver=saga;, score=0.879 total time=   0.0s\n",
      "[CV 2/5] END ...C=10.0, penalty=l2, solver=saga;, score=0.879 total time=   0.0s\n",
      "[CV 3/5] END ...C=10.0, penalty=l2, solver=saga;, score=0.875 total time=   0.0s\n",
      "[CV 4/5] END ...C=10.0, penalty=l2, solver=saga;, score=0.872 total time=   0.0s\n",
      "[CV 5/5] END ...C=10.0, penalty=l2, solver=saga;, score=0.875 total time=   0.0s\n",
      "[CV 1/5] END C=10.0, penalty=l2, solver=newton-cg;, score=0.879 total time=   0.0s\n",
      "[CV 2/5] END C=10.0, penalty=l2, solver=newton-cg;, score=0.879 total time=   0.1s\n",
      "[CV 3/5] END C=10.0, penalty=l2, solver=newton-cg;, score=0.875 total time=   0.0s\n",
      "[CV 4/5] END C=10.0, penalty=l2, solver=newton-cg;, score=0.872 total time=   0.0s\n",
      "[CV 5/5] END C=10.0, penalty=l2, solver=newton-cg;, score=0.875 total time=   0.0s\n",
      "[CV 1/5] END C=10.0, penalty=elasticnet, solver=liblinear;, score=nan total time=   0.0s\n",
      "[CV 2/5] END C=10.0, penalty=elasticnet, solver=liblinear;, score=nan total time=   0.0s\n",
      "[CV 3/5] END C=10.0, penalty=elasticnet, solver=liblinear;, score=nan total time=   0.0s\n",
      "[CV 4/5] END C=10.0, penalty=elasticnet, solver=liblinear;, score=nan total time=   0.0s\n",
      "[CV 5/5] END C=10.0, penalty=elasticnet, solver=liblinear;, score=nan total time=   0.0s\n",
      "[CV 1/5] END C=10.0, penalty=elasticnet, solver=lbfgs;, score=nan total time=   0.0s\n",
      "[CV 2/5] END C=10.0, penalty=elasticnet, solver=lbfgs;, score=nan total time=   0.0s\n",
      "[CV 3/5] END C=10.0, penalty=elasticnet, solver=lbfgs;, score=nan total time=   0.0s\n",
      "[CV 4/5] END C=10.0, penalty=elasticnet, solver=lbfgs;, score=nan total time=   0.0s\n",
      "[CV 5/5] END C=10.0, penalty=elasticnet, solver=lbfgs;, score=nan total time=   0.0s\n",
      "[CV 1/5] END C=10.0, penalty=elasticnet, solver=sag;, score=nan total time=   0.0s\n",
      "[CV 2/5] END C=10.0, penalty=elasticnet, solver=sag;, score=nan total time=   0.0s\n",
      "[CV 3/5] END C=10.0, penalty=elasticnet, solver=sag;, score=nan total time=   0.0s\n",
      "[CV 4/5] END C=10.0, penalty=elasticnet, solver=sag;, score=nan total time=   0.0s\n",
      "[CV 5/5] END C=10.0, penalty=elasticnet, solver=sag;, score=nan total time=   0.0s\n",
      "[CV 1/5] END C=10.0, penalty=elasticnet, solver=saga;, score=nan total time=   0.0s\n",
      "[CV 2/5] END C=10.0, penalty=elasticnet, solver=saga;, score=nan total time=   0.0s\n",
      "[CV 3/5] END C=10.0, penalty=elasticnet, solver=saga;, score=nan total time=   0.0s\n",
      "[CV 4/5] END C=10.0, penalty=elasticnet, solver=saga;, score=nan total time=   0.0s\n",
      "[CV 5/5] END C=10.0, penalty=elasticnet, solver=saga;, score=nan total time=   0.0s\n",
      "[CV 1/5] END C=10.0, penalty=elasticnet, solver=newton-cg;, score=nan total time=   0.0s\n",
      "[CV 2/5] END C=10.0, penalty=elasticnet, solver=newton-cg;, score=nan total time=   0.0s\n",
      "[CV 3/5] END C=10.0, penalty=elasticnet, solver=newton-cg;, score=nan total time=   0.0s\n",
      "[CV 4/5] END C=10.0, penalty=elasticnet, solver=newton-cg;, score=nan total time=   0.0s\n",
      "[CV 5/5] END C=10.0, penalty=elasticnet, solver=newton-cg;, score=nan total time=   0.0s\n",
      "[CV 1/5] END C=100.0, penalty=l1, solver=liblinear;, score=0.879 total time=   0.0s\n",
      "[CV 2/5] END C=100.0, penalty=l1, solver=liblinear;, score=0.879 total time=   0.0s\n",
      "[CV 3/5] END C=100.0, penalty=l1, solver=liblinear;, score=0.876 total time=   0.0s\n",
      "[CV 4/5] END C=100.0, penalty=l1, solver=liblinear;, score=0.872 total time=   0.0s\n",
      "[CV 5/5] END C=100.0, penalty=l1, solver=liblinear;, score=0.875 total time=   0.0s\n",
      "[CV 1/5] END ...C=100.0, penalty=l1, solver=lbfgs;, score=nan total time=   0.0s\n",
      "[CV 2/5] END ...C=100.0, penalty=l1, solver=lbfgs;, score=nan total time=   0.0s\n",
      "[CV 3/5] END ...C=100.0, penalty=l1, solver=lbfgs;, score=nan total time=   0.0s\n",
      "[CV 4/5] END ...C=100.0, penalty=l1, solver=lbfgs;, score=nan total time=   0.0s\n",
      "[CV 5/5] END ...C=100.0, penalty=l1, solver=lbfgs;, score=nan total time=   0.0s\n",
      "[CV 1/5] END .....C=100.0, penalty=l1, solver=sag;, score=nan total time=   0.0s\n",
      "[CV 2/5] END .....C=100.0, penalty=l1, solver=sag;, score=nan total time=   0.0s\n",
      "[CV 3/5] END .....C=100.0, penalty=l1, solver=sag;, score=nan total time=   0.0s\n",
      "[CV 4/5] END .....C=100.0, penalty=l1, solver=sag;, score=nan total time=   0.0s\n",
      "[CV 5/5] END .....C=100.0, penalty=l1, solver=sag;, score=nan total time=   0.0s\n",
      "[CV 1/5] END ..C=100.0, penalty=l1, solver=saga;, score=0.879 total time=   0.1s\n",
      "[CV 2/5] END ..C=100.0, penalty=l1, solver=saga;, score=0.879 total time=   0.1s\n",
      "[CV 3/5] END ..C=100.0, penalty=l1, solver=saga;, score=0.875 total time=   0.0s\n",
      "[CV 4/5] END ..C=100.0, penalty=l1, solver=saga;, score=0.872 total time=   0.1s\n",
      "[CV 5/5] END ..C=100.0, penalty=l1, solver=saga;, score=0.875 total time=   0.1s\n",
      "[CV 1/5] END C=100.0, penalty=l1, solver=newton-cg;, score=nan total time=   0.0s\n",
      "[CV 2/5] END C=100.0, penalty=l1, solver=newton-cg;, score=nan total time=   0.0s\n",
      "[CV 3/5] END C=100.0, penalty=l1, solver=newton-cg;, score=nan total time=   0.0s\n",
      "[CV 4/5] END C=100.0, penalty=l1, solver=newton-cg;, score=nan total time=   0.0s\n",
      "[CV 5/5] END C=100.0, penalty=l1, solver=newton-cg;, score=nan total time=   0.0s\n",
      "[CV 1/5] END C=100.0, penalty=l2, solver=liblinear;, score=0.879 total time=   0.0s\n",
      "[CV 2/5] END C=100.0, penalty=l2, solver=liblinear;, score=0.879 total time=   0.0s\n",
      "[CV 3/5] END C=100.0, penalty=l2, solver=liblinear;, score=0.875 total time=   0.0s\n",
      "[CV 4/5] END C=100.0, penalty=l2, solver=liblinear;, score=0.872 total time=   0.0s\n",
      "[CV 5/5] END C=100.0, penalty=l2, solver=liblinear;, score=0.875 total time=   0.0s\n",
      "[CV 1/5] END .C=100.0, penalty=l2, solver=lbfgs;, score=0.879 total time=   0.0s\n",
      "[CV 2/5] END .C=100.0, penalty=l2, solver=lbfgs;, score=0.879 total time=   0.0s\n",
      "[CV 3/5] END .C=100.0, penalty=l2, solver=lbfgs;, score=0.875 total time=   0.0s\n",
      "[CV 4/5] END .C=100.0, penalty=l2, solver=lbfgs;, score=0.872 total time=   0.0s\n",
      "[CV 5/5] END .C=100.0, penalty=l2, solver=lbfgs;, score=0.875 total time=   0.0s\n",
      "[CV 1/5] END ...C=100.0, penalty=l2, solver=sag;, score=0.879 total time=   0.1s\n",
      "[CV 2/5] END ...C=100.0, penalty=l2, solver=sag;, score=0.879 total time=   0.1s\n",
      "[CV 3/5] END ...C=100.0, penalty=l2, solver=sag;, score=0.875 total time=   0.0s\n",
      "[CV 4/5] END ...C=100.0, penalty=l2, solver=sag;, score=0.872 total time=   0.0s\n",
      "[CV 5/5] END ...C=100.0, penalty=l2, solver=sag;, score=0.875 total time=   0.1s\n",
      "[CV 1/5] END ..C=100.0, penalty=l2, solver=saga;, score=0.879 total time=   0.0s\n",
      "[CV 2/5] END ..C=100.0, penalty=l2, solver=saga;, score=0.879 total time=   0.0s\n",
      "[CV 3/5] END ..C=100.0, penalty=l2, solver=saga;, score=0.875 total time=   0.0s\n",
      "[CV 4/5] END ..C=100.0, penalty=l2, solver=saga;, score=0.872 total time=   0.0s\n",
      "[CV 5/5] END ..C=100.0, penalty=l2, solver=saga;, score=0.875 total time=   0.0s\n",
      "[CV 1/5] END C=100.0, penalty=l2, solver=newton-cg;, score=0.879 total time=   0.1s\n",
      "[CV 2/5] END C=100.0, penalty=l2, solver=newton-cg;, score=0.879 total time=   0.0s\n",
      "[CV 3/5] END C=100.0, penalty=l2, solver=newton-cg;, score=0.875 total time=   0.0s\n",
      "[CV 4/5] END C=100.0, penalty=l2, solver=newton-cg;, score=0.872 total time=   0.0s\n"
     ]
    },
    {
     "name": "stdout",
     "output_type": "stream",
     "text": [
      "[CV 5/5] END C=100.0, penalty=l2, solver=newton-cg;, score=0.875 total time=   0.0s\n",
      "[CV 1/5] END C=100.0, penalty=elasticnet, solver=liblinear;, score=nan total time=   0.0s\n",
      "[CV 2/5] END C=100.0, penalty=elasticnet, solver=liblinear;, score=nan total time=   0.0s\n",
      "[CV 3/5] END C=100.0, penalty=elasticnet, solver=liblinear;, score=nan total time=   0.0s\n",
      "[CV 4/5] END C=100.0, penalty=elasticnet, solver=liblinear;, score=nan total time=   0.0s\n",
      "[CV 5/5] END C=100.0, penalty=elasticnet, solver=liblinear;, score=nan total time=   0.0s\n",
      "[CV 1/5] END C=100.0, penalty=elasticnet, solver=lbfgs;, score=nan total time=   0.0s\n",
      "[CV 2/5] END C=100.0, penalty=elasticnet, solver=lbfgs;, score=nan total time=   0.0s\n",
      "[CV 3/5] END C=100.0, penalty=elasticnet, solver=lbfgs;, score=nan total time=   0.0s\n",
      "[CV 4/5] END C=100.0, penalty=elasticnet, solver=lbfgs;, score=nan total time=   0.0s\n",
      "[CV 5/5] END C=100.0, penalty=elasticnet, solver=lbfgs;, score=nan total time=   0.0s\n",
      "[CV 1/5] END C=100.0, penalty=elasticnet, solver=sag;, score=nan total time=   0.0s\n",
      "[CV 2/5] END C=100.0, penalty=elasticnet, solver=sag;, score=nan total time=   0.0s\n",
      "[CV 3/5] END C=100.0, penalty=elasticnet, solver=sag;, score=nan total time=   0.0s\n",
      "[CV 4/5] END C=100.0, penalty=elasticnet, solver=sag;, score=nan total time=   0.0s\n",
      "[CV 5/5] END C=100.0, penalty=elasticnet, solver=sag;, score=nan total time=   0.0s\n",
      "[CV 1/5] END C=100.0, penalty=elasticnet, solver=saga;, score=nan total time=   0.0s\n",
      "[CV 2/5] END C=100.0, penalty=elasticnet, solver=saga;, score=nan total time=   0.0s\n",
      "[CV 3/5] END C=100.0, penalty=elasticnet, solver=saga;, score=nan total time=   0.0s\n",
      "[CV 4/5] END C=100.0, penalty=elasticnet, solver=saga;, score=nan total time=   0.0s\n",
      "[CV 5/5] END C=100.0, penalty=elasticnet, solver=saga;, score=nan total time=   0.0s\n",
      "[CV 1/5] END C=100.0, penalty=elasticnet, solver=newton-cg;, score=nan total time=   0.0s\n",
      "[CV 2/5] END C=100.0, penalty=elasticnet, solver=newton-cg;, score=nan total time=   0.0s\n",
      "[CV 3/5] END C=100.0, penalty=elasticnet, solver=newton-cg;, score=nan total time=   0.0s\n",
      "[CV 4/5] END C=100.0, penalty=elasticnet, solver=newton-cg;, score=nan total time=   0.0s\n",
      "[CV 5/5] END C=100.0, penalty=elasticnet, solver=newton-cg;, score=nan total time=   0.0s\n",
      "[CV 1/5] END C=1000.0, penalty=l1, solver=liblinear;, score=0.879 total time=   0.0s\n",
      "[CV 2/5] END C=1000.0, penalty=l1, solver=liblinear;, score=0.879 total time=   0.0s\n",
      "[CV 3/5] END C=1000.0, penalty=l1, solver=liblinear;, score=0.875 total time=   0.0s\n",
      "[CV 4/5] END C=1000.0, penalty=l1, solver=liblinear;, score=0.872 total time=   0.0s\n",
      "[CV 5/5] END C=1000.0, penalty=l1, solver=liblinear;, score=0.875 total time=   0.0s\n",
      "[CV 1/5] END ..C=1000.0, penalty=l1, solver=lbfgs;, score=nan total time=   0.0s\n",
      "[CV 2/5] END ..C=1000.0, penalty=l1, solver=lbfgs;, score=nan total time=   0.0s\n",
      "[CV 3/5] END ..C=1000.0, penalty=l1, solver=lbfgs;, score=nan total time=   0.0s\n",
      "[CV 4/5] END ..C=1000.0, penalty=l1, solver=lbfgs;, score=nan total time=   0.0s\n",
      "[CV 5/5] END ..C=1000.0, penalty=l1, solver=lbfgs;, score=nan total time=   0.0s\n",
      "[CV 1/5] END ....C=1000.0, penalty=l1, solver=sag;, score=nan total time=   0.0s\n",
      "[CV 2/5] END ....C=1000.0, penalty=l1, solver=sag;, score=nan total time=   0.0s\n",
      "[CV 3/5] END ....C=1000.0, penalty=l1, solver=sag;, score=nan total time=   0.0s\n",
      "[CV 4/5] END ....C=1000.0, penalty=l1, solver=sag;, score=nan total time=   0.0s\n",
      "[CV 5/5] END ....C=1000.0, penalty=l1, solver=sag;, score=nan total time=   0.0s\n",
      "[CV 1/5] END .C=1000.0, penalty=l1, solver=saga;, score=0.879 total time=   0.1s\n",
      "[CV 2/5] END .C=1000.0, penalty=l1, solver=saga;, score=0.879 total time=   0.0s\n",
      "[CV 3/5] END .C=1000.0, penalty=l1, solver=saga;, score=0.875 total time=   0.1s\n",
      "[CV 4/5] END .C=1000.0, penalty=l1, solver=saga;, score=0.872 total time=   0.0s\n",
      "[CV 5/5] END .C=1000.0, penalty=l1, solver=saga;, score=0.875 total time=   0.1s\n",
      "[CV 1/5] END C=1000.0, penalty=l1, solver=newton-cg;, score=nan total time=   0.0s\n",
      "[CV 2/5] END C=1000.0, penalty=l1, solver=newton-cg;, score=nan total time=   0.0s\n",
      "[CV 3/5] END C=1000.0, penalty=l1, solver=newton-cg;, score=nan total time=   0.0s\n",
      "[CV 4/5] END C=1000.0, penalty=l1, solver=newton-cg;, score=nan total time=   0.0s\n",
      "[CV 5/5] END C=1000.0, penalty=l1, solver=newton-cg;, score=nan total time=   0.0s\n",
      "[CV 1/5] END C=1000.0, penalty=l2, solver=liblinear;, score=0.879 total time=   0.0s\n",
      "[CV 2/5] END C=1000.0, penalty=l2, solver=liblinear;, score=0.879 total time=   0.0s\n",
      "[CV 3/5] END C=1000.0, penalty=l2, solver=liblinear;, score=0.875 total time=   0.0s\n",
      "[CV 4/5] END C=1000.0, penalty=l2, solver=liblinear;, score=0.872 total time=   0.0s\n",
      "[CV 5/5] END C=1000.0, penalty=l2, solver=liblinear;, score=0.875 total time=   0.0s\n",
      "[CV 1/5] END C=1000.0, penalty=l2, solver=lbfgs;, score=0.879 total time=   0.0s\n",
      "[CV 2/5] END C=1000.0, penalty=l2, solver=lbfgs;, score=0.879 total time=   0.0s\n",
      "[CV 3/5] END C=1000.0, penalty=l2, solver=lbfgs;, score=0.875 total time=   0.0s\n",
      "[CV 4/5] END C=1000.0, penalty=l2, solver=lbfgs;, score=0.872 total time=   0.0s\n",
      "[CV 5/5] END C=1000.0, penalty=l2, solver=lbfgs;, score=0.875 total time=   0.0s\n",
      "[CV 1/5] END ..C=1000.0, penalty=l2, solver=sag;, score=0.879 total time=   0.1s\n",
      "[CV 2/5] END ..C=1000.0, penalty=l2, solver=sag;, score=0.879 total time=   0.0s\n",
      "[CV 3/5] END ..C=1000.0, penalty=l2, solver=sag;, score=0.875 total time=   0.1s\n",
      "[CV 4/5] END ..C=1000.0, penalty=l2, solver=sag;, score=0.872 total time=   0.1s\n",
      "[CV 5/5] END ..C=1000.0, penalty=l2, solver=sag;, score=0.875 total time=   0.1s\n",
      "[CV 1/5] END .C=1000.0, penalty=l2, solver=saga;, score=0.879 total time=   0.0s\n",
      "[CV 2/5] END .C=1000.0, penalty=l2, solver=saga;, score=0.879 total time=   0.0s\n",
      "[CV 3/5] END .C=1000.0, penalty=l2, solver=saga;, score=0.875 total time=   0.0s\n",
      "[CV 4/5] END .C=1000.0, penalty=l2, solver=saga;, score=0.872 total time=   0.0s\n",
      "[CV 5/5] END .C=1000.0, penalty=l2, solver=saga;, score=0.875 total time=   0.0s\n",
      "[CV 1/5] END C=1000.0, penalty=l2, solver=newton-cg;, score=0.879 total time=   0.1s\n",
      "[CV 2/5] END C=1000.0, penalty=l2, solver=newton-cg;, score=0.879 total time=   0.1s\n",
      "[CV 3/5] END C=1000.0, penalty=l2, solver=newton-cg;, score=0.875 total time=   0.0s\n",
      "[CV 4/5] END C=1000.0, penalty=l2, solver=newton-cg;, score=0.872 total time=   0.1s\n",
      "[CV 5/5] END C=1000.0, penalty=l2, solver=newton-cg;, score=0.875 total time=   0.1s\n",
      "[CV 1/5] END C=1000.0, penalty=elasticnet, solver=liblinear;, score=nan total time=   0.0s\n",
      "[CV 2/5] END C=1000.0, penalty=elasticnet, solver=liblinear;, score=nan total time=   0.0s\n",
      "[CV 3/5] END C=1000.0, penalty=elasticnet, solver=liblinear;, score=nan total time=   0.0s\n",
      "[CV 4/5] END C=1000.0, penalty=elasticnet, solver=liblinear;, score=nan total time=   0.0s\n",
      "[CV 5/5] END C=1000.0, penalty=elasticnet, solver=liblinear;, score=nan total time=   0.0s\n",
      "[CV 1/5] END C=1000.0, penalty=elasticnet, solver=lbfgs;, score=nan total time=   0.0s\n",
      "[CV 2/5] END C=1000.0, penalty=elasticnet, solver=lbfgs;, score=nan total time=   0.0s\n",
      "[CV 3/5] END C=1000.0, penalty=elasticnet, solver=lbfgs;, score=nan total time=   0.0s\n",
      "[CV 4/5] END C=1000.0, penalty=elasticnet, solver=lbfgs;, score=nan total time=   0.0s\n",
      "[CV 5/5] END C=1000.0, penalty=elasticnet, solver=lbfgs;, score=nan total time=   0.0s\n",
      "[CV 1/5] END C=1000.0, penalty=elasticnet, solver=sag;, score=nan total time=   0.0s\n",
      "[CV 2/5] END C=1000.0, penalty=elasticnet, solver=sag;, score=nan total time=   0.0s\n",
      "[CV 3/5] END C=1000.0, penalty=elasticnet, solver=sag;, score=nan total time=   0.0s\n",
      "[CV 4/5] END C=1000.0, penalty=elasticnet, solver=sag;, score=nan total time=   0.0s\n",
      "[CV 5/5] END C=1000.0, penalty=elasticnet, solver=sag;, score=nan total time=   0.0s\n",
      "[CV 1/5] END C=1000.0, penalty=elasticnet, solver=saga;, score=nan total time=   0.0s\n",
      "[CV 2/5] END C=1000.0, penalty=elasticnet, solver=saga;, score=nan total time=   0.0s\n",
      "[CV 3/5] END C=1000.0, penalty=elasticnet, solver=saga;, score=nan total time=   0.0s\n",
      "[CV 4/5] END C=1000.0, penalty=elasticnet, solver=saga;, score=nan total time=   0.0s\n",
      "[CV 5/5] END C=1000.0, penalty=elasticnet, solver=saga;, score=nan total time=   0.0s\n",
      "[CV 1/5] END C=1000.0, penalty=elasticnet, solver=newton-cg;, score=nan total time=   0.0s\n",
      "[CV 2/5] END C=1000.0, penalty=elasticnet, solver=newton-cg;, score=nan total time=   0.0s\n",
      "[CV 3/5] END C=1000.0, penalty=elasticnet, solver=newton-cg;, score=nan total time=   0.0s\n",
      "[CV 4/5] END C=1000.0, penalty=elasticnet, solver=newton-cg;, score=nan total time=   0.0s\n",
      "[CV 5/5] END C=1000.0, penalty=elasticnet, solver=newton-cg;, score=nan total time=   0.0s\n"
     ]
    },
    {
     "data": {
      "text/plain": [
       "GridSearchCV(estimator=LogisticRegression(),\n",
       "             param_grid={'C': array([1.e-03, 1.e-02, 1.e-01, 1.e+00, 1.e+01, 1.e+02, 1.e+03]),\n",
       "                         'penalty': ['l1', 'l2', 'elasticnet'],\n",
       "                         'solver': ['liblinear', 'lbfgs', 'sag', 'saga',\n",
       "                                    'newton-cg']},\n",
       "             verbose=3)"
      ]
     },
     "execution_count": 50,
     "metadata": {},
     "output_type": "execute_result"
    }
   ],
   "source": [
    "from sklearn.model_selection import GridSearchCV\n",
    "grid=GridSearchCV(logreg,params,verbose=3)\n",
    "grid.fit(xtrain,ytrain)"
   ]
  },
  {
   "cell_type": "code",
   "execution_count": 51,
   "id": "de7b81e0",
   "metadata": {},
   "outputs": [
    {
     "data": {
      "text/plain": [
       "0.875911109053264"
      ]
     },
     "execution_count": 51,
     "metadata": {},
     "output_type": "execute_result"
    }
   ],
   "source": [
    "grid.best_score_"
   ]
  },
  {
   "cell_type": "code",
   "execution_count": 52,
   "id": "10fc3846",
   "metadata": {},
   "outputs": [
    {
     "data": {
      "text/plain": [
       "{'C': 100.0, 'penalty': 'l1', 'solver': 'liblinear'}"
      ]
     },
     "execution_count": 52,
     "metadata": {},
     "output_type": "execute_result"
    }
   ],
   "source": [
    "grid.best_params_"
   ]
  },
  {
   "cell_type": "code",
   "execution_count": 53,
   "id": "68a4f7b6",
   "metadata": {},
   "outputs": [
    {
     "data": {
      "text/plain": [
       "LogisticRegression(C=100.0, penalty='l1', solver='liblinear')"
      ]
     },
     "execution_count": 53,
     "metadata": {},
     "output_type": "execute_result"
    }
   ],
   "source": [
    "grid.best_estimator_"
   ]
  },
  {
   "cell_type": "code",
   "execution_count": 54,
   "id": "e2c1a1e0",
   "metadata": {},
   "outputs": [],
   "source": [
    "logreg=grid.best_estimator_\n",
    "logreg.fit(xtrain,ytrain)\n",
    "ypred=logreg.predict(xtest)"
   ]
  },
  {
   "cell_type": "code",
   "execution_count": 55,
   "id": "4ee95da0",
   "metadata": {},
   "outputs": [
    {
     "name": "stdout",
     "output_type": "stream",
     "text": [
      "              precision    recall  f1-score   support\n",
      "\n",
      "           0       0.87      0.89      0.88      2664\n",
      "           1       0.88      0.86      0.87      2569\n",
      "\n",
      "    accuracy                           0.88      5233\n",
      "   macro avg       0.88      0.87      0.88      5233\n",
      "weighted avg       0.88      0.88      0.88      5233\n",
      "\n"
     ]
    }
   ],
   "source": [
    "print(classification_report(ytest,ypred))"
   ]
  },
  {
   "cell_type": "code",
   "execution_count": 56,
   "id": "e2fb0c04",
   "metadata": {},
   "outputs": [
    {
     "data": {
      "text/plain": [
       "0.8752149818459775"
      ]
     },
     "execution_count": 56,
     "metadata": {},
     "output_type": "execute_result"
    }
   ],
   "source": [
    "accuracy_score(ytest,ypred)"
   ]
  },
  {
   "cell_type": "code",
   "execution_count": 57,
   "id": "75359f88",
   "metadata": {},
   "outputs": [
    {
     "data": {
      "text/plain": [
       "array([[2369,  295],\n",
       "       [ 358, 2211]], dtype=int64)"
      ]
     },
     "execution_count": 57,
     "metadata": {},
     "output_type": "execute_result"
    }
   ],
   "source": [
    "confusion_matrix(ytest,ypred)"
   ]
  },
  {
   "cell_type": "markdown",
   "id": "78f0a85c",
   "metadata": {},
   "source": [
    "<h4 style=\"color:orange\"><i>Cross Validation Score</i></h4>"
   ]
  },
  {
   "cell_type": "code",
   "execution_count": 58,
   "id": "1d166f37",
   "metadata": {},
   "outputs": [
    {
     "name": "stdout",
     "output_type": "stream",
     "text": [
      "CVS: [0.88793351 0.84895385 0.88274083 0.89048165 0.8122133 ]\n",
      "CVS Mean: 0.8644646280183329\n",
      "CVS Standard Deviation: 0.030108065959694022\n"
     ]
    }
   ],
   "source": [
    "from sklearn.model_selection import cross_val_score\n",
    "cvs=cross_val_score(logreg,x,y,cv=5,scoring=\"accuracy\")\n",
    "print(f\"CVS: {cvs}\")\n",
    "print(f\"CVS Mean: {cvs.mean()}\")\n",
    "print(f\"CVS Standard Deviation: {cvs.std()}\")"
   ]
  },
  {
   "cell_type": "markdown",
   "id": "615bd7dd",
   "metadata": {},
   "source": [
    "<h4 style=\"color:orange\"><i>Bagging</i></h4>"
   ]
  },
  {
   "cell_type": "code",
   "execution_count": 59,
   "id": "9c82275d",
   "metadata": {},
   "outputs": [],
   "source": [
    "from sklearn.ensemble import BaggingClassifier\n",
    "bg=BaggingClassifier(logreg)\n",
    "bg.fit(xtrain,ytrain)\n",
    "ypred=bg.predict(xtest)"
   ]
  },
  {
   "cell_type": "code",
   "execution_count": 60,
   "id": "3b00b2f2",
   "metadata": {},
   "outputs": [
    {
     "name": "stdout",
     "output_type": "stream",
     "text": [
      "              precision    recall  f1-score   support\n",
      "\n",
      "           0       0.87      0.89      0.88      2664\n",
      "           1       0.88      0.86      0.87      2569\n",
      "\n",
      "    accuracy                           0.88      5233\n",
      "   macro avg       0.88      0.88      0.88      5233\n",
      "weighted avg       0.88      0.88      0.88      5233\n",
      "\n"
     ]
    }
   ],
   "source": [
    "print(classification_report(ytest,ypred))"
   ]
  },
  {
   "cell_type": "code",
   "execution_count": 61,
   "id": "2874a679",
   "metadata": {},
   "outputs": [
    {
     "data": {
      "text/plain": [
       "0.8755971717943818"
      ]
     },
     "execution_count": 61,
     "metadata": {},
     "output_type": "execute_result"
    }
   ],
   "source": [
    "accuracy_score(ytest,ypred)"
   ]
  },
  {
   "cell_type": "code",
   "execution_count": 62,
   "id": "7c5d603d",
   "metadata": {},
   "outputs": [
    {
     "data": {
      "text/plain": [
       "array([[2372,  292],\n",
       "       [ 359, 2210]], dtype=int64)"
      ]
     },
     "execution_count": 62,
     "metadata": {},
     "output_type": "execute_result"
    }
   ],
   "source": [
    "confusion_matrix(ytest,ypred)"
   ]
  },
  {
   "cell_type": "markdown",
   "id": "0ee2ad72",
   "metadata": {},
   "source": [
    "<h1 style=\"color:red\"><i>DecesionTree</i></h1>"
   ]
  },
  {
   "cell_type": "code",
   "execution_count": 63,
   "id": "81dfa191",
   "metadata": {},
   "outputs": [],
   "source": [
    "from sklearn.tree import DecisionTreeClassifier\n",
    "dt=DecisionTreeClassifier()\n",
    "dt.fit(xtrain,ytrain)\n",
    "ypred=dt.predict(xtest)"
   ]
  },
  {
   "cell_type": "code",
   "execution_count": 64,
   "id": "b00dabf4",
   "metadata": {},
   "outputs": [
    {
     "name": "stdout",
     "output_type": "stream",
     "text": [
      "              precision    recall  f1-score   support\n",
      "\n",
      "           0       0.96      0.96      0.96      2664\n",
      "           1       0.96      0.96      0.96      2569\n",
      "\n",
      "    accuracy                           0.96      5233\n",
      "   macro avg       0.96      0.96      0.96      5233\n",
      "weighted avg       0.96      0.96      0.96      5233\n",
      "\n"
     ]
    }
   ],
   "source": [
    "print(classification_report(ytest,ypred))"
   ]
  },
  {
   "cell_type": "code",
   "execution_count": 65,
   "id": "b84d2428",
   "metadata": {},
   "outputs": [
    {
     "data": {
      "text/plain": [
       "0.9617810051595643"
      ]
     },
     "execution_count": 65,
     "metadata": {},
     "output_type": "execute_result"
    }
   ],
   "source": [
    "accuracy_score(ytest,ypred)"
   ]
  },
  {
   "cell_type": "code",
   "execution_count": 66,
   "id": "a2376a23",
   "metadata": {},
   "outputs": [
    {
     "data": {
      "text/plain": [
       "array([[2560,  104],\n",
       "       [  96, 2473]], dtype=int64)"
      ]
     },
     "execution_count": 66,
     "metadata": {},
     "output_type": "execute_result"
    }
   ],
   "source": [
    "confusion_matrix(ytest,ypred)"
   ]
  },
  {
   "cell_type": "markdown",
   "id": "16773f55",
   "metadata": {},
   "source": [
    "<h4 style=\"color:orange\"><i>Hyper Parameter Tunning</i></h4>"
   ]
  },
  {
   "cell_type": "markdown",
   "id": "a43b71fb",
   "metadata": {},
   "source": [
    "Criterion--> \"GINI\""
   ]
  },
  {
   "cell_type": "code",
   "execution_count": 67,
   "id": "8a6864a9",
   "metadata": {},
   "outputs": [
    {
     "name": "stdout",
     "output_type": "stream",
     "text": [
      "0.9636919549015861 18\n"
     ]
    }
   ],
   "source": [
    "s=0\n",
    "for i in range(1,50):\n",
    "    dt=DecisionTreeClassifier(criterion=\"gini\",max_depth=i)\n",
    "    dt.fit(xtrain,ytrain)\n",
    "    ypred=dt.predict(xtest)\n",
    "    ss=accuracy_score(ytest,ypred)\n",
    "    if(s<ss):\n",
    "        s=ss\n",
    "        a=i\n",
    "print(s,a)"
   ]
  },
  {
   "cell_type": "code",
   "execution_count": 68,
   "id": "af389924",
   "metadata": {},
   "outputs": [
    {
     "name": "stdout",
     "output_type": "stream",
     "text": [
      "0.9612077202369578 1\n"
     ]
    }
   ],
   "source": [
    "s=0\n",
    "for i in range(1,50):\n",
    "    dt=DecisionTreeClassifier(criterion=\"gini\",min_samples_leaf=i)\n",
    "    dt.fit(xtrain,ytrain)\n",
    "    ypred=dt.predict(xtest)\n",
    "    ss=accuracy_score(ytest,ypred)\n",
    "    if(s<ss):\n",
    "        s=ss\n",
    "        a=i\n",
    "print(s,a)"
   ]
  },
  {
   "cell_type": "markdown",
   "id": "25acc6be",
   "metadata": {},
   "source": [
    "Criterion-->\"ENTROPY\""
   ]
  },
  {
   "cell_type": "code",
   "execution_count": 69,
   "id": "adae9db6",
   "metadata": {},
   "outputs": [
    {
     "name": "stdout",
     "output_type": "stream",
     "text": [
      "0.9677049493598319 26\n"
     ]
    }
   ],
   "source": [
    "s=0\n",
    "for i in range(1,50):\n",
    "    dt=DecisionTreeClassifier(criterion=\"entropy\",max_depth=i)\n",
    "    dt.fit(xtrain,ytrain)\n",
    "    ypred=dt.predict(xtest)\n",
    "    ss=accuracy_score(ytest,ypred)\n",
    "    if(s<ss):\n",
    "        s=ss\n",
    "        a=i\n",
    "print(s,a)"
   ]
  },
  {
   "cell_type": "code",
   "execution_count": 70,
   "id": "2dd84cfb",
   "metadata": {},
   "outputs": [
    {
     "name": "stdout",
     "output_type": "stream",
     "text": [
      "0.9652207146952035 1\n"
     ]
    }
   ],
   "source": [
    "s=0\n",
    "for i in range(1,50):\n",
    "    dt=DecisionTreeClassifier(criterion=\"entropy\",min_samples_leaf=i)\n",
    "    dt.fit(xtrain,ytrain)\n",
    "    ypred=dt.predict(xtest)\n",
    "    ss=accuracy_score(ytest,ypred)\n",
    "    if(s<ss):\n",
    "        s=ss\n",
    "        a=i\n",
    "print(s,a)"
   ]
  },
  {
   "cell_type": "markdown",
   "id": "b395627a",
   "metadata": {},
   "source": [
    "SUMMARY:\n",
    "    Criterion \"GINI\"\n",
    "        - Max depth: 96.29%\n",
    "        - Min samples leaf: 96.00%\n",
    "    Criterion \"ENTROPY\"\n",
    "        - Max depth: 96.81%\n",
    "        - Min samples leaf: 96.69%"
   ]
  },
  {
   "cell_type": "code",
   "execution_count": 71,
   "id": "1a35c8d4",
   "metadata": {},
   "outputs": [
    {
     "name": "stdout",
     "output_type": "stream",
     "text": [
      "              precision    recall  f1-score   support\n",
      "\n",
      "           0       0.94      0.90      0.92      2664\n",
      "           1       0.90      0.94      0.92      2569\n",
      "\n",
      "    accuracy                           0.92      5233\n",
      "   macro avg       0.92      0.92      0.92      5233\n",
      "weighted avg       0.92      0.92      0.92      5233\n",
      "\n"
     ]
    }
   ],
   "source": [
    "print(classification_report(ytest,ypred))"
   ]
  },
  {
   "cell_type": "code",
   "execution_count": 72,
   "id": "2a562d37",
   "metadata": {},
   "outputs": [
    {
     "data": {
      "text/plain": [
       "0.919740110835085"
      ]
     },
     "execution_count": 72,
     "metadata": {},
     "output_type": "execute_result"
    }
   ],
   "source": [
    "accuracy_score(ytest,ypred)"
   ]
  },
  {
   "cell_type": "code",
   "execution_count": 73,
   "id": "5237296f",
   "metadata": {},
   "outputs": [
    {
     "data": {
      "text/plain": [
       "array([[2386,  278],\n",
       "       [ 142, 2427]], dtype=int64)"
      ]
     },
     "execution_count": 73,
     "metadata": {},
     "output_type": "execute_result"
    }
   ],
   "source": [
    "confusion_matrix(ytest,ypred)"
   ]
  },
  {
   "cell_type": "markdown",
   "id": "966b6690",
   "metadata": {},
   "source": [
    "<h4 style=\"color:orange\"><i>Cross Validation Score</i></h4>"
   ]
  },
  {
   "cell_type": "code",
   "execution_count": 74,
   "id": "50a149e5",
   "metadata": {},
   "outputs": [
    {
     "name": "stdout",
     "output_type": "stream",
     "text": [
      "CVS: [0.87159645 0.84436801 0.88818807 0.90166284 0.84690367]\n",
      "CVS Mean: 0.8705438093773091\n",
      "CVS Standard Deviation: 0.022471541530404142\n"
     ]
    }
   ],
   "source": [
    "from sklearn.model_selection import cross_val_score\n",
    "cvs=cross_val_score(dt,x,y,cv=5,scoring=\"accuracy\")\n",
    "print(f\"CVS: {cvs}\")\n",
    "print(f\"CVS Mean: {cvs.mean()}\")\n",
    "print(f\"CVS Standard Deviation: {cvs.std()}\")"
   ]
  },
  {
   "cell_type": "markdown",
   "id": "10425063",
   "metadata": {},
   "source": [
    "<h4 style=\"color:orange\"><i>Bagging</i></h4>"
   ]
  },
  {
   "cell_type": "code",
   "execution_count": 75,
   "id": "9efc8213",
   "metadata": {},
   "outputs": [],
   "source": [
    "from sklearn.ensemble import BaggingClassifier\n",
    "bg=BaggingClassifier(dt)\n",
    "bg.fit(xtrain,ytrain)\n",
    "ypred=bg.predict(xtest)"
   ]
  },
  {
   "cell_type": "code",
   "execution_count": 76,
   "id": "be30b947",
   "metadata": {},
   "outputs": [
    {
     "name": "stdout",
     "output_type": "stream",
     "text": [
      "              precision    recall  f1-score   support\n",
      "\n",
      "           0       0.93      0.92      0.92      2664\n",
      "           1       0.92      0.93      0.92      2569\n",
      "\n",
      "    accuracy                           0.92      5233\n",
      "   macro avg       0.92      0.92      0.92      5233\n",
      "weighted avg       0.92      0.92      0.92      5233\n",
      "\n"
     ]
    }
   ],
   "source": [
    "print(classification_report(ytest,ypred))"
   ]
  },
  {
   "cell_type": "code",
   "execution_count": 77,
   "id": "061c4e65",
   "metadata": {},
   "outputs": [
    {
     "data": {
      "text/plain": [
       "0.9241352952417351"
      ]
     },
     "execution_count": 77,
     "metadata": {},
     "output_type": "execute_result"
    }
   ],
   "source": [
    "accuracy_score(ytest,ypred)"
   ]
  },
  {
   "cell_type": "code",
   "execution_count": 78,
   "id": "800cebe1",
   "metadata": {},
   "outputs": [
    {
     "data": {
      "text/plain": [
       "array([[2446,  218],\n",
       "       [ 179, 2390]], dtype=int64)"
      ]
     },
     "execution_count": 78,
     "metadata": {},
     "output_type": "execute_result"
    }
   ],
   "source": [
    "confusion_matrix(ytest,ypred)"
   ]
  },
  {
   "cell_type": "markdown",
   "id": "1a1067f3",
   "metadata": {},
   "source": [
    "<h1 style=\"color:red\"><i>Random Forest</i></h1>"
   ]
  },
  {
   "cell_type": "code",
   "execution_count": 79,
   "id": "78616daf",
   "metadata": {},
   "outputs": [],
   "source": [
    "from sklearn.ensemble import RandomForestClassifier\n",
    "rf=RandomForestClassifier()\n",
    "rf.fit(xtrain,ytrain)\n",
    "ypred=rf.predict(xtest)"
   ]
  },
  {
   "cell_type": "code",
   "execution_count": 80,
   "id": "7468bacc",
   "metadata": {},
   "outputs": [
    {
     "name": "stdout",
     "output_type": "stream",
     "text": [
      "              precision    recall  f1-score   support\n",
      "\n",
      "           0       0.96      0.96      0.96      2664\n",
      "           1       0.96      0.96      0.96      2569\n",
      "\n",
      "    accuracy                           0.96      5233\n",
      "   macro avg       0.96      0.96      0.96      5233\n",
      "weighted avg       0.96      0.96      0.96      5233\n",
      "\n"
     ]
    }
   ],
   "source": [
    "print(classification_report(ytest,ypred))"
   ]
  },
  {
   "cell_type": "code",
   "execution_count": 81,
   "id": "f0aab0c0",
   "metadata": {},
   "outputs": [
    {
     "data": {
      "text/plain": [
       "0.962545385056373"
      ]
     },
     "execution_count": 81,
     "metadata": {},
     "output_type": "execute_result"
    }
   ],
   "source": [
    "accuracy_score(ytest,ypred)"
   ]
  },
  {
   "cell_type": "code",
   "execution_count": 82,
   "id": "df7a5e32",
   "metadata": {},
   "outputs": [
    {
     "data": {
      "text/plain": [
       "array([[2566,   98],\n",
       "       [  98, 2471]], dtype=int64)"
      ]
     },
     "execution_count": 82,
     "metadata": {},
     "output_type": "execute_result"
    }
   ],
   "source": [
    "confusion_matrix(ytest,ypred)"
   ]
  },
  {
   "cell_type": "markdown",
   "id": "81cee996",
   "metadata": {},
   "source": [
    "<h4 style=\"color:orange\"><i>Cross Validation Score</i></h4>"
   ]
  },
  {
   "cell_type": "code",
   "execution_count": 83,
   "id": "7b5aa88c",
   "metadata": {},
   "outputs": [
    {
     "name": "stdout",
     "output_type": "stream",
     "text": [
      "CVS: [0.91172256 0.85583262 0.90682339 0.93061927 0.84489679]\n",
      "CVS Mean: 0.8899789245886811\n",
      "CVS Standard Deviation: 0.033485902526965414\n"
     ]
    }
   ],
   "source": [
    "from sklearn.model_selection import cross_val_score\n",
    "cvs=cross_val_score(rf,x,y,cv=5,scoring=\"accuracy\")\n",
    "print(f\"CVS: {cvs}\")\n",
    "print(f\"CVS Mean: {cvs.mean()}\")\n",
    "print(f\"CVS Standard Deviation: {cvs.std()}\")"
   ]
  },
  {
   "cell_type": "markdown",
   "id": "c1db1954",
   "metadata": {},
   "source": [
    "<h1 style=\"color:green\"><i> Voting Classifier</i></h1>"
   ]
  },
  {
   "cell_type": "code",
   "execution_count": 84,
   "id": "f4ff4e7c",
   "metadata": {},
   "outputs": [],
   "source": [
    "models=[]\n",
    "models.append((\"KNeighborsClassifier\", KNeighborsClassifier()))\n",
    "models.append((\"LogisticRegression\", LogisticRegression()))\n",
    "models.append((\"DecisionTree\", DecisionTreeClassifier()))\n",
    "models.append((\"RandomForest\", RandomForestClassifier()))"
   ]
  },
  {
   "cell_type": "code",
   "execution_count": 85,
   "id": "5f2e8d36",
   "metadata": {},
   "outputs": [],
   "source": [
    "from sklearn.ensemble import VotingClassifier\n",
    "vt=VotingClassifier(estimators=models)\n",
    "vt.fit(xtrain,ytrain)\n",
    "ypred=vt.predict(xtest)"
   ]
  },
  {
   "cell_type": "code",
   "execution_count": 86,
   "id": "f21b8324",
   "metadata": {},
   "outputs": [
    {
     "name": "stdout",
     "output_type": "stream",
     "text": [
      "              precision    recall  f1-score   support\n",
      "\n",
      "           0       0.95      0.98      0.97      2664\n",
      "           1       0.98      0.95      0.96      2569\n",
      "\n",
      "    accuracy                           0.97      5233\n",
      "   macro avg       0.97      0.97      0.97      5233\n",
      "weighted avg       0.97      0.97      0.97      5233\n",
      "\n"
     ]
    }
   ],
   "source": [
    "print(classification_report(ytest,ypred))"
   ]
  },
  {
   "cell_type": "code",
   "execution_count": 87,
   "id": "d00c8984",
   "metadata": {},
   "outputs": [
    {
     "data": {
      "text/plain": [
       "array([[2608,   56],\n",
       "       [ 124, 2445]], dtype=int64)"
      ]
     },
     "execution_count": 87,
     "metadata": {},
     "output_type": "execute_result"
    }
   ],
   "source": [
    "confusion_matrix(ytest,ypred)"
   ]
  },
  {
   "cell_type": "code",
   "execution_count": 88,
   "id": "29d4c41e",
   "metadata": {},
   "outputs": [
    {
     "data": {
      "text/plain": [
       "0.9656029046436079"
      ]
     },
     "execution_count": 88,
     "metadata": {},
     "output_type": "execute_result"
    }
   ],
   "source": [
    "accuracy_score(ytest,ypred)"
   ]
  },
  {
   "cell_type": "markdown",
   "id": "008140a3",
   "metadata": {},
   "source": [
    "<h1 style=\"color:red\"><i>Boosting</i></h1>"
   ]
  },
  {
   "cell_type": "markdown",
   "id": "0cc125c2",
   "metadata": {},
   "source": [
    "<h4 style=\"color:red\"><i>AdaBoostClassifier</i></h4>"
   ]
  },
  {
   "cell_type": "code",
   "execution_count": 89,
   "id": "2d933fa5",
   "metadata": {},
   "outputs": [
    {
     "name": "stdout",
     "output_type": "stream",
     "text": [
      "              precision    recall  f1-score   support\n",
      "\n",
      "           0       0.92      0.93      0.92      2664\n",
      "           1       0.93      0.92      0.92      2569\n",
      "\n",
      "    accuracy                           0.92      5233\n",
      "   macro avg       0.92      0.92      0.92      5233\n",
      "weighted avg       0.92      0.92      0.92      5233\n",
      "\n"
     ]
    }
   ],
   "source": [
    "from sklearn.ensemble import AdaBoostClassifier\n",
    "abc = AdaBoostClassifier()\n",
    "abc.fit(xtrain,ytrain)\n",
    "ypred = abc.predict(xtest)\n",
    "print(classification_report(ytest,ypred))"
   ]
  },
  {
   "cell_type": "code",
   "execution_count": 90,
   "id": "29e737bc",
   "metadata": {},
   "outputs": [
    {
     "data": {
      "text/plain": [
       "0.9229887253965221"
      ]
     },
     "execution_count": 90,
     "metadata": {},
     "output_type": "execute_result"
    }
   ],
   "source": [
    "accuracy_score(ytest,ypred)"
   ]
  },
  {
   "cell_type": "code",
   "execution_count": 91,
   "id": "5a113737",
   "metadata": {},
   "outputs": [
    {
     "data": {
      "text/plain": [
       "array([[2474,  190],\n",
       "       [ 213, 2356]], dtype=int64)"
      ]
     },
     "execution_count": 91,
     "metadata": {},
     "output_type": "execute_result"
    }
   ],
   "source": [
    "confusion_matrix(ytest,ypred)"
   ]
  },
  {
   "cell_type": "markdown",
   "id": "ee45e8fe",
   "metadata": {},
   "source": [
    "<h5 style=\"color:orange\"><i>Gradient Boosting</i></h5>"
   ]
  },
  {
   "cell_type": "code",
   "execution_count": 92,
   "id": "9a57c463",
   "metadata": {},
   "outputs": [
    {
     "name": "stdout",
     "output_type": "stream",
     "text": [
      "              precision    recall  f1-score   support\n",
      "\n",
      "           0       0.94      0.95      0.94      2664\n",
      "           1       0.95      0.94      0.94      2569\n",
      "\n",
      "    accuracy                           0.94      5233\n",
      "   macro avg       0.94      0.94      0.94      5233\n",
      "weighted avg       0.94      0.94      0.94      5233\n",
      "\n"
     ]
    }
   ],
   "source": [
    "from sklearn.ensemble import GradientBoostingClassifier\n",
    "gb = GradientBoostingClassifier()\n",
    "gb.fit(xtrain,ytrain)\n",
    "ypred = gb.predict(xtest)\n",
    "print(classification_report(ytest,ypred))"
   ]
  },
  {
   "cell_type": "code",
   "execution_count": 93,
   "id": "87631b3d",
   "metadata": {},
   "outputs": [
    {
     "data": {
      "text/plain": [
       "0.9428626027135486"
      ]
     },
     "execution_count": 93,
     "metadata": {},
     "output_type": "execute_result"
    }
   ],
   "source": [
    "accuracy_score(ytest,ypred)"
   ]
  },
  {
   "cell_type": "code",
   "execution_count": 94,
   "id": "6441c2e5",
   "metadata": {},
   "outputs": [
    {
     "data": {
      "text/plain": [
       "array([[2530,  134],\n",
       "       [ 165, 2404]], dtype=int64)"
      ]
     },
     "execution_count": 94,
     "metadata": {},
     "output_type": "execute_result"
    }
   ],
   "source": [
    "confusion_matrix(ytest,ypred)"
   ]
  },
  {
   "cell_type": "markdown",
   "id": "f1630f42",
   "metadata": {},
   "source": [
    "<h4 style=\"color:red\"><i>XG Boosting</i></h4>"
   ]
  },
  {
   "cell_type": "code",
   "execution_count": 95,
   "id": "3606c714",
   "metadata": {},
   "outputs": [
    {
     "name": "stdout",
     "output_type": "stream",
     "text": [
      "[20:27:32] WARNING: D:\\bld\\xgboost-split_1645118015404\\work\\src\\learner.cc:1115: Starting in XGBoost 1.3.0, the default evaluation metric used with the objective 'binary:logistic' was changed from 'error' to 'logloss'. Explicitly set eval_metric if you'd like to restore the old behavior.\n",
      "              precision    recall  f1-score   support\n",
      "\n",
      "           0       0.98      0.98      0.98      2664\n",
      "           1       0.98      0.98      0.98      2569\n",
      "\n",
      "    accuracy                           0.98      5233\n",
      "   macro avg       0.98      0.98      0.98      5233\n",
      "weighted avg       0.98      0.98      0.98      5233\n",
      "\n"
     ]
    }
   ],
   "source": [
    "from xgboost import XGBClassifier\n",
    "xg = XGBClassifier()\n",
    "xg.fit(xtrain, ytrain)\n",
    "ypred = xg.predict(xtest)\n",
    "print(classification_report(ytest, ypred))"
   ]
  },
  {
   "cell_type": "code",
   "execution_count": 96,
   "id": "2ade92c0",
   "metadata": {},
   "outputs": [
    {
     "data": {
      "text/plain": [
       "0.9772596980699407"
      ]
     },
     "execution_count": 96,
     "metadata": {},
     "output_type": "execute_result"
    }
   ],
   "source": [
    "accuracy_score(ytest,ypred)"
   ]
  },
  {
   "cell_type": "code",
   "execution_count": 97,
   "id": "13e24d36",
   "metadata": {},
   "outputs": [
    {
     "data": {
      "text/plain": [
       "array([[2606,   58],\n",
       "       [  61, 2508]], dtype=int64)"
      ]
     },
     "execution_count": 97,
     "metadata": {},
     "output_type": "execute_result"
    }
   ],
   "source": [
    "confusion_matrix(ytest,ypred)"
   ]
  },
  {
   "cell_type": "markdown",
   "id": "f83764fe",
   "metadata": {},
   "source": [
    "<h1 style=\"color:brown\"><i>Summary</i></h1>"
   ]
  },
  {
   "cell_type": "markdown",
   "id": "4caea2ae",
   "metadata": {},
   "source": [
    "###### The Accuracy achieved per model is as follows:\n",
    "\n",
    "Model name: KNN\n",
    "    - Initial Accuracy: 95.98%,\n",
    "    - Accuracy Post Hyper-parameter Tuning: 96.06%,\n",
    "    - Cross Validation Score: 89.07%,\n",
    "    - Bagging Accuracy: 96.00%,\n",
    "    - Best Accuracy Achieved: 96.06%\n",
    "        \n",
    "        \n",
    "Model name: Logistic Regression\n",
    "    - Initial Accuracy: 87.52%,\n",
    "    - Accuracy Post Hyper-parameter Tuning: 87.52%,\n",
    "    - Cross Validation Score: 86.45%,\n",
    "    - Bagging Accuracy: 87.57%,\n",
    "    - Best Accuracy Achieved: 87.57%\n",
    "\n",
    "        \n",
    "Model name: Decision Tree\n",
    "    - Initial Accuracy: 96.06%,\n",
    "    - Accuracy Post Hyper-parameter Tuning: 96.65%,\n",
    "        Criterion Gini:\n",
    "            Max Depth best Accuracy- 96.29%,\n",
    "            Min Samples Leaf best Accuracy- 96.00%,\n",
    "        Criterion Entropy:\n",
    "            Max Depth best Accuracy- 96.81%,\n",
    "            Min Samples Leaf best Accuracy- 96.69%,\n",
    "    - Cross Validation Score: 85.46%,\n",
    "    - Bagging Accuracy: 96.52%,\n",
    "    - Best Accuracy Achieved: 96.65%\n",
    "\n",
    "        \n",
    "Model name: Random Forest\n",
    "    - Initial Accuracy: 96.25%,\n",
    "    - Cross Validation Score: 88.89%,\n",
    "    - Best Accuracy Achieved: 96.25%\n",
    "    \n",
    "        \n",
    "        \n",
    "Voting Classifier Accuracy: 94.68%\n",
    "\n",
    "\n",
    "Boosting:\n",
    "    - Ada Boosting: 92.29%,\n",
    "    - Gradient Boosting: 94.28%,\n",
    "    - XG Boosting: 93.96%,"
   ]
  },
  {
   "cell_type": "code",
   "execution_count": null,
   "id": "bd4e6199",
   "metadata": {},
   "outputs": [],
   "source": []
  }
 ],
 "metadata": {
  "kernelspec": {
   "display_name": "Python 3 (ipykernel)",
   "language": "python",
   "name": "python3"
  },
  "language_info": {
   "codemirror_mode": {
    "name": "ipython",
    "version": 3
   },
   "file_extension": ".py",
   "mimetype": "text/x-python",
   "name": "python",
   "nbconvert_exporter": "python",
   "pygments_lexer": "ipython3",
   "version": "3.9.7"
  }
 },
 "nbformat": 4,
 "nbformat_minor": 5
}
