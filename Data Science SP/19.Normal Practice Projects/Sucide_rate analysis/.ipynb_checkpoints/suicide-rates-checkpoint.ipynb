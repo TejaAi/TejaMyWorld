{
 "cells": [
  {
   "cell_type": "markdown",
   "id": "aggressive-royal",
   "metadata": {
    "papermill": {
     "duration": 0.094975,
     "end_time": "2021-06-28T10:17:52.026990",
     "exception": false,
     "start_time": "2021-06-28T10:17:51.932015",
     "status": "completed"
    },
    "tags": []
   },
   "source": [
    "# **Data analysis project: Suicide rates & mental health.**"
   ]
  },
  {
   "cell_type": "code",
   "execution_count": 1,
   "id": "manufactured-shield",
   "metadata": {
    "execution": {
     "iopub.execute_input": "2021-06-28T10:17:52.207348Z",
     "iopub.status.busy": "2021-06-28T10:17:52.206587Z",
     "iopub.status.idle": "2021-06-28T10:18:02.609707Z",
     "shell.execute_reply": "2021-06-28T10:18:02.608712Z",
     "shell.execute_reply.started": "2021-06-26T19:26:30.109883Z"
    },
    "papermill": {
     "duration": 10.505877,
     "end_time": "2021-06-28T10:18:02.609983",
     "exception": false,
     "start_time": "2021-06-28T10:17:52.104106",
     "status": "completed"
    },
    "tags": []
   },
   "outputs": [
    {
     "name": "stdout",
     "output_type": "stream",
     "text": [
      "Collecting chart_studio\r\n",
      "  Downloading chart_studio-1.1.0-py3-none-any.whl (64 kB)\r\n",
      "\u001b[K     |████████████████████████████████| 64 kB 294 kB/s \r\n",
      "\u001b[?25hRequirement already satisfied: six in /opt/conda/lib/python3.7/site-packages (from chart_studio) (1.15.0)\r\n",
      "Requirement already satisfied: retrying>=1.3.3 in /opt/conda/lib/python3.7/site-packages (from chart_studio) (1.3.3)\r\n",
      "Requirement already satisfied: plotly in /opt/conda/lib/python3.7/site-packages (from chart_studio) (4.14.3)\r\n",
      "Requirement already satisfied: requests in /opt/conda/lib/python3.7/site-packages (from chart_studio) (2.25.1)\r\n",
      "Requirement already satisfied: chardet<5,>=3.0.2 in /opt/conda/lib/python3.7/site-packages (from requests->chart_studio) (4.0.0)\r\n",
      "Requirement already satisfied: urllib3<1.27,>=1.21.1 in /opt/conda/lib/python3.7/site-packages (from requests->chart_studio) (1.26.4)\r\n",
      "Requirement already satisfied: idna<3,>=2.5 in /opt/conda/lib/python3.7/site-packages (from requests->chart_studio) (2.10)\r\n",
      "Requirement already satisfied: certifi>=2017.4.17 in /opt/conda/lib/python3.7/site-packages (from requests->chart_studio) (2020.12.5)\r\n",
      "Installing collected packages: chart-studio\r\n",
      "Successfully installed chart-studio-1.1.0\r\n",
      "Note: you may need to restart the kernel to use updated packages.\n"
     ]
    }
   ],
   "source": [
    "pip install chart_studio"
   ]
  },
  {
   "cell_type": "code",
   "execution_count": 2,
   "id": "first-demonstration",
   "metadata": {
    "execution": {
     "iopub.execute_input": "2021-06-28T10:18:02.776755Z",
     "iopub.status.busy": "2021-06-28T10:18:02.775731Z",
     "iopub.status.idle": "2021-06-28T10:18:03.769073Z",
     "shell.execute_reply": "2021-06-28T10:18:03.768176Z",
     "shell.execute_reply.started": "2021-06-26T19:26:36.470616Z"
    },
    "papermill": {
     "duration": 1.079293,
     "end_time": "2021-06-28T10:18:03.769245",
     "exception": false,
     "start_time": "2021-06-28T10:18:02.689952",
     "status": "completed"
    },
    "tags": []
   },
   "outputs": [],
   "source": [
    "import pandas as pd\n",
    "import numpy as np\n",
    "import matplotlib.pyplot as plt\n",
    "import seaborn as sns\n",
    "from chart_studio import plotly\n",
    "import chart_studio.plotly as py\n",
    "import plotly.graph_objs as go \n",
    "from plotly.offline import download_plotlyjs, init_notebook_mode, plot, iplot\n",
    "%matplotlib inline"
   ]
  },
  {
   "cell_type": "code",
   "execution_count": 3,
   "id": "protective-routine",
   "metadata": {
    "execution": {
     "iopub.execute_input": "2021-06-28T10:18:03.933794Z",
     "iopub.status.busy": "2021-06-28T10:18:03.933023Z",
     "iopub.status.idle": "2021-06-28T10:18:03.947658Z",
     "shell.execute_reply": "2021-06-28T10:18:03.946988Z",
     "shell.execute_reply.started": "2021-06-26T19:26:36.481194Z"
    },
    "papermill": {
     "duration": 0.097831,
     "end_time": "2021-06-28T10:18:03.947823",
     "exception": false,
     "start_time": "2021-06-28T10:18:03.849992",
     "status": "completed"
    },
    "tags": []
   },
   "outputs": [
    {
     "name": "stdout",
     "output_type": "stream",
     "text": [
      "/kaggle/input/mental-health-and-suicide-rates/Crude suicide rates.csv\n",
      "/kaggle/input/mental-health-and-suicide-rates/Facilities.csv\n",
      "/kaggle/input/mental-health-and-suicide-rates/Human Resources.csv\n",
      "/kaggle/input/mental-health-and-suicide-rates/Age-standardized suicide rates.csv\n"
     ]
    }
   ],
   "source": [
    "import os\n",
    "for dirname, _, filenames in os.walk('/kaggle/input'):\n",
    "    for filename in filenames:\n",
    "        print(os.path.join(dirname, filename))"
   ]
  },
  {
   "cell_type": "code",
   "execution_count": 4,
   "id": "binding-lounge",
   "metadata": {
    "execution": {
     "iopub.execute_input": "2021-06-28T10:18:04.111885Z",
     "iopub.status.busy": "2021-06-28T10:18:04.111118Z",
     "iopub.status.idle": "2021-06-28T10:18:04.126951Z",
     "shell.execute_reply": "2021-06-28T10:18:04.126200Z",
     "shell.execute_reply.started": "2021-06-26T19:26:36.498421Z"
    },
    "papermill": {
     "duration": 0.100539,
     "end_time": "2021-06-28T10:18:04.127107",
     "exception": false,
     "start_time": "2021-06-28T10:18:04.026568",
     "status": "completed"
    },
    "tags": []
   },
   "outputs": [],
   "source": [
    "sr= pd.read_csv(\"/kaggle/input/mental-health-and-suicide-rates/Age-standardized suicide rates.csv\")"
   ]
  },
  {
   "cell_type": "code",
   "execution_count": 5,
   "id": "joint-submission",
   "metadata": {
    "execution": {
     "iopub.execute_input": "2021-06-28T10:18:04.307659Z",
     "iopub.status.busy": "2021-06-28T10:18:04.296095Z",
     "iopub.status.idle": "2021-06-28T10:18:04.316099Z",
     "shell.execute_reply": "2021-06-28T10:18:04.315410Z",
     "shell.execute_reply.started": "2021-06-26T19:26:36.513469Z"
    },
    "papermill": {
     "duration": 0.109677,
     "end_time": "2021-06-28T10:18:04.316294",
     "exception": false,
     "start_time": "2021-06-28T10:18:04.206617",
     "status": "completed"
    },
    "tags": []
   },
   "outputs": [
    {
     "data": {
      "text/plain": [
       " Both sexes    183\n",
       " Male          183\n",
       " Female        183\n",
       "Name: Sex, dtype: int64"
      ]
     },
     "execution_count": 5,
     "metadata": {},
     "output_type": "execute_result"
    }
   ],
   "source": [
    "sr['Sex'].value_counts()"
   ]
  },
  {
   "cell_type": "code",
   "execution_count": 6,
   "id": "noted-tattoo",
   "metadata": {
    "execution": {
     "iopub.execute_input": "2021-06-28T10:18:04.510417Z",
     "iopub.status.busy": "2021-06-28T10:18:04.509629Z",
     "iopub.status.idle": "2021-06-28T10:18:04.512533Z",
     "shell.execute_reply": "2021-06-28T10:18:04.511874Z",
     "shell.execute_reply.started": "2021-06-26T19:26:36.525424Z"
    },
    "papermill": {
     "duration": 0.101857,
     "end_time": "2021-06-28T10:18:04.512701",
     "exception": false,
     "start_time": "2021-06-28T10:18:04.410844",
     "status": "completed"
    },
    "tags": []
   },
   "outputs": [],
   "source": [
    "sr=sr.astype({'2000':'float','2010':'float','2015':'float','2016':'float'})"
   ]
  },
  {
   "cell_type": "code",
   "execution_count": 7,
   "id": "precise-tribute",
   "metadata": {
    "execution": {
     "iopub.execute_input": "2021-06-28T10:18:04.680934Z",
     "iopub.status.busy": "2021-06-28T10:18:04.680147Z",
     "iopub.status.idle": "2021-06-28T10:18:04.702953Z",
     "shell.execute_reply": "2021-06-28T10:18:04.702245Z",
     "shell.execute_reply.started": "2021-06-26T19:26:36.537054Z"
    },
    "papermill": {
     "duration": 0.109614,
     "end_time": "2021-06-28T10:18:04.703105",
     "exception": false,
     "start_time": "2021-06-28T10:18:04.593491",
     "status": "completed"
    },
    "tags": []
   },
   "outputs": [
    {
     "data": {
      "text/html": [
       "<div>\n",
       "<style scoped>\n",
       "    .dataframe tbody tr th:only-of-type {\n",
       "        vertical-align: middle;\n",
       "    }\n",
       "\n",
       "    .dataframe tbody tr th {\n",
       "        vertical-align: top;\n",
       "    }\n",
       "\n",
       "    .dataframe thead th {\n",
       "        text-align: right;\n",
       "    }\n",
       "</style>\n",
       "<table border=\"1\" class=\"dataframe\">\n",
       "  <thead>\n",
       "    <tr style=\"text-align: right;\">\n",
       "      <th></th>\n",
       "      <th>Country</th>\n",
       "      <th>Sex</th>\n",
       "      <th>2016</th>\n",
       "      <th>2015</th>\n",
       "      <th>2010</th>\n",
       "      <th>2000</th>\n",
       "    </tr>\n",
       "  </thead>\n",
       "  <tbody>\n",
       "    <tr>\n",
       "      <th>0</th>\n",
       "      <td>Afghanistan</td>\n",
       "      <td>Both sexes</td>\n",
       "      <td>6.4</td>\n",
       "      <td>6.6</td>\n",
       "      <td>7.4</td>\n",
       "      <td>8.1</td>\n",
       "    </tr>\n",
       "    <tr>\n",
       "      <th>1</th>\n",
       "      <td>Afghanistan</td>\n",
       "      <td>Male</td>\n",
       "      <td>10.6</td>\n",
       "      <td>10.9</td>\n",
       "      <td>12.5</td>\n",
       "      <td>14.3</td>\n",
       "    </tr>\n",
       "    <tr>\n",
       "      <th>2</th>\n",
       "      <td>Afghanistan</td>\n",
       "      <td>Female</td>\n",
       "      <td>2.1</td>\n",
       "      <td>2.1</td>\n",
       "      <td>2.1</td>\n",
       "      <td>1.7</td>\n",
       "    </tr>\n",
       "    <tr>\n",
       "      <th>3</th>\n",
       "      <td>Albania</td>\n",
       "      <td>Both sexes</td>\n",
       "      <td>5.6</td>\n",
       "      <td>5.3</td>\n",
       "      <td>7.7</td>\n",
       "      <td>5.8</td>\n",
       "    </tr>\n",
       "    <tr>\n",
       "      <th>4</th>\n",
       "      <td>Albania</td>\n",
       "      <td>Male</td>\n",
       "      <td>7.0</td>\n",
       "      <td>6.7</td>\n",
       "      <td>9.5</td>\n",
       "      <td>8.2</td>\n",
       "    </tr>\n",
       "  </tbody>\n",
       "</table>\n",
       "</div>"
      ],
      "text/plain": [
       "       Country          Sex  2016  2015  2010  2000\n",
       "0  Afghanistan   Both sexes   6.4   6.6   7.4   8.1\n",
       "1  Afghanistan         Male  10.6  10.9  12.5  14.3\n",
       "2  Afghanistan       Female   2.1   2.1   2.1   1.7\n",
       "3      Albania   Both sexes   5.6   5.3   7.7   5.8\n",
       "4      Albania         Male   7.0   6.7   9.5   8.2"
      ]
     },
     "execution_count": 7,
     "metadata": {},
     "output_type": "execute_result"
    }
   ],
   "source": [
    "sr.head()"
   ]
  },
  {
   "cell_type": "code",
   "execution_count": 8,
   "id": "phantom-variety",
   "metadata": {
    "execution": {
     "iopub.execute_input": "2021-06-28T10:18:04.892499Z",
     "iopub.status.busy": "2021-06-28T10:18:04.875462Z",
     "iopub.status.idle": "2021-06-28T10:18:05.110098Z",
     "shell.execute_reply": "2021-06-28T10:18:05.109478Z",
     "shell.execute_reply.started": "2021-06-26T19:26:36.559855Z"
    },
    "papermill": {
     "duration": 0.324759,
     "end_time": "2021-06-28T10:18:05.110268",
     "exception": false,
     "start_time": "2021-06-28T10:18:04.785509",
     "status": "completed"
    },
    "tags": []
   },
   "outputs": [
    {
     "data": {
      "text/plain": [
       "<AxesSubplot:title={'center':'Suicide Rate per 100.000 people (Global)'}>"
      ]
     },
     "execution_count": 8,
     "metadata": {},
     "output_type": "execute_result"
    },
    {
     "data": {
      "image/png": "[encoded data removed]",
      "text/plain": [
       "<Figure size 864x288 with 1 Axes>"
      ]
     },
     "metadata": {
      "needs_background": "light"
     },
     "output_type": "display_data"
    }
   ],
   "source": [
    "plt.figure(figsize=(12,4))\n",
    "plt.ylim(8,13)\n",
    "plt.title('Suicide Rate per 100.000 people (Global)')\n",
    "sr[['2000','2010','2015','2016']].mean().plot(linestyle='dashed',color='orange',marker='o',markersize=10,markerfacecolor='yellow')"
   ]
  },
  {
   "cell_type": "code",
   "execution_count": 9,
   "id": "american-template",
   "metadata": {
    "execution": {
     "iopub.execute_input": "2021-06-28T10:18:05.282560Z",
     "iopub.status.busy": "2021-06-28T10:18:05.281507Z",
     "iopub.status.idle": "2021-06-28T10:18:05.287458Z",
     "shell.execute_reply": "2021-06-28T10:18:05.286678Z",
     "shell.execute_reply.started": "2021-06-26T19:26:36.719247Z"
    },
    "papermill": {
     "duration": 0.094522,
     "end_time": "2021-06-28T10:18:05.287631",
     "exception": false,
     "start_time": "2021-06-28T10:18:05.193109",
     "status": "completed"
    },
    "tags": []
   },
   "outputs": [],
   "source": [
    "sr['sum']=sr[['2000','2010','2015','2016']].sum(axis=1)"
   ]
  },
  {
   "cell_type": "code",
   "execution_count": 10,
   "id": "blessed-favorite",
   "metadata": {
    "execution": {
     "iopub.execute_input": "2021-06-28T10:18:05.461237Z",
     "iopub.status.busy": "2021-06-28T10:18:05.456664Z",
     "iopub.status.idle": "2021-06-28T10:18:05.464248Z",
     "shell.execute_reply": "2021-06-28T10:18:05.464774Z",
     "shell.execute_reply.started": "2021-06-26T19:26:36.728216Z"
    },
    "papermill": {
     "duration": 0.094395,
     "end_time": "2021-06-28T10:18:05.465016",
     "exception": false,
     "start_time": "2021-06-28T10:18:05.370621",
     "status": "completed"
    },
    "tags": []
   },
   "outputs": [],
   "source": [
    "sr.sort_values('sum',ascending=False,inplace=True)\n",
    "sr=sr.reset_index().drop(columns='index')"
   ]
  },
  {
   "cell_type": "code",
   "execution_count": 11,
   "id": "sophisticated-penny",
   "metadata": {
    "execution": {
     "iopub.execute_input": "2021-06-28T10:18:05.643423Z",
     "iopub.status.busy": "2021-06-28T10:18:05.642741Z",
     "iopub.status.idle": "2021-06-28T10:18:05.647204Z",
     "shell.execute_reply": "2021-06-28T10:18:05.647708Z",
     "shell.execute_reply.started": "2021-06-26T19:26:36.741576Z"
    },
    "papermill": {
     "duration": 0.096908,
     "end_time": "2021-06-28T10:18:05.647910",
     "exception": false,
     "start_time": "2021-06-28T10:18:05.551002",
     "status": "completed"
    },
    "tags": []
   },
   "outputs": [],
   "source": [
    "sex = pd.get_dummies(sr['Sex'],drop_first=True)\n",
    "sr=pd.concat([sr,sex], axis=1)"
   ]
  },
  {
   "cell_type": "code",
   "execution_count": 12,
   "id": "painted-inspiration",
   "metadata": {
    "execution": {
     "iopub.execute_input": "2021-06-28T10:18:05.823067Z",
     "iopub.status.busy": "2021-06-28T10:18:05.822264Z",
     "iopub.status.idle": "2021-06-28T10:18:05.827911Z",
     "shell.execute_reply": "2021-06-28T10:18:05.828450Z",
     "shell.execute_reply.started": "2021-06-26T19:26:36.752962Z"
    },
    "papermill": {
     "duration": 0.09789,
     "end_time": "2021-06-28T10:18:05.828640",
     "exception": false,
     "start_time": "2021-06-28T10:18:05.730750",
     "status": "completed"
    },
    "tags": []
   },
   "outputs": [],
   "source": [
    "sr=sr.drop(columns='Sex')"
   ]
  },
  {
   "cell_type": "code",
   "execution_count": 13,
   "id": "attractive-hawaii",
   "metadata": {
    "execution": {
     "iopub.execute_input": "2021-06-28T10:18:06.017640Z",
     "iopub.status.busy": "2021-06-28T10:18:06.016815Z",
     "iopub.status.idle": "2021-06-28T10:18:06.020219Z",
     "shell.execute_reply": "2021-06-28T10:18:06.020698Z",
     "shell.execute_reply.started": "2021-06-26T19:26:36.766311Z"
    },
    "papermill": {
     "duration": 0.107526,
     "end_time": "2021-06-28T10:18:06.020911",
     "exception": false,
     "start_time": "2021-06-28T10:18:05.913385",
     "status": "completed"
    },
    "tags": []
   },
   "outputs": [
    {
     "data": {
      "text/html": [
       "<div>\n",
       "<style scoped>\n",
       "    .dataframe tbody tr th:only-of-type {\n",
       "        vertical-align: middle;\n",
       "    }\n",
       "\n",
       "    .dataframe tbody tr th {\n",
       "        vertical-align: top;\n",
       "    }\n",
       "\n",
       "    .dataframe thead th {\n",
       "        text-align: right;\n",
       "    }\n",
       "</style>\n",
       "<table border=\"1\" class=\"dataframe\">\n",
       "  <thead>\n",
       "    <tr style=\"text-align: right;\">\n",
       "      <th></th>\n",
       "      <th>Country</th>\n",
       "      <th>2016</th>\n",
       "      <th>2015</th>\n",
       "      <th>2010</th>\n",
       "      <th>2000</th>\n",
       "      <th>sum</th>\n",
       "      <th>Female</th>\n",
       "      <th>Male</th>\n",
       "    </tr>\n",
       "  </thead>\n",
       "  <tbody>\n",
       "    <tr>\n",
       "      <th>0</th>\n",
       "      <td>Russian Federation</td>\n",
       "      <td>48.3</td>\n",
       "      <td>49.9</td>\n",
       "      <td>62.3</td>\n",
       "      <td>85.8</td>\n",
       "      <td>246.3</td>\n",
       "      <td>0</td>\n",
       "      <td>1</td>\n",
       "    </tr>\n",
       "    <tr>\n",
       "      <th>1</th>\n",
       "      <td>Lithuania</td>\n",
       "      <td>47.5</td>\n",
       "      <td>51.5</td>\n",
       "      <td>56.4</td>\n",
       "      <td>81.7</td>\n",
       "      <td>237.1</td>\n",
       "      <td>0</td>\n",
       "      <td>1</td>\n",
       "    </tr>\n",
       "    <tr>\n",
       "      <th>2</th>\n",
       "      <td>Belarus</td>\n",
       "      <td>39.3</td>\n",
       "      <td>39.2</td>\n",
       "      <td>58.1</td>\n",
       "      <td>70.4</td>\n",
       "      <td>207.0</td>\n",
       "      <td>0</td>\n",
       "      <td>1</td>\n",
       "    </tr>\n",
       "    <tr>\n",
       "      <th>3</th>\n",
       "      <td>Kazakhstan</td>\n",
       "      <td>40.1</td>\n",
       "      <td>44.2</td>\n",
       "      <td>56.1</td>\n",
       "      <td>63.1</td>\n",
       "      <td>203.5</td>\n",
       "      <td>0</td>\n",
       "      <td>1</td>\n",
       "    </tr>\n",
       "    <tr>\n",
       "      <th>4</th>\n",
       "      <td>Guyana</td>\n",
       "      <td>46.6</td>\n",
       "      <td>46.6</td>\n",
       "      <td>44.9</td>\n",
       "      <td>41.2</td>\n",
       "      <td>179.3</td>\n",
       "      <td>0</td>\n",
       "      <td>1</td>\n",
       "    </tr>\n",
       "  </tbody>\n",
       "</table>\n",
       "</div>"
      ],
      "text/plain": [
       "              Country  2016  2015  2010  2000    sum   Female   Male\n",
       "0  Russian Federation  48.3  49.9  62.3  85.8  246.3        0      1\n",
       "1           Lithuania  47.5  51.5  56.4  81.7  237.1        0      1\n",
       "2             Belarus  39.3  39.2  58.1  70.4  207.0        0      1\n",
       "3          Kazakhstan  40.1  44.2  56.1  63.1  203.5        0      1\n",
       "4              Guyana  46.6  46.6  44.9  41.2  179.3        0      1"
      ]
     },
     "execution_count": 13,
     "metadata": {},
     "output_type": "execute_result"
    }
   ],
   "source": [
    "sr.head()"
   ]
  },
  {
   "cell_type": "code",
   "execution_count": 14,
   "id": "killing-planner",
   "metadata": {
    "execution": {
     "iopub.execute_input": "2021-06-28T10:18:06.194534Z",
     "iopub.status.busy": "2021-06-28T10:18:06.193727Z",
     "iopub.status.idle": "2021-06-28T10:18:06.198537Z",
     "shell.execute_reply": "2021-06-28T10:18:06.199079Z",
     "shell.execute_reply.started": "2021-06-26T19:26:36.790692Z"
    },
    "papermill": {
     "duration": 0.093177,
     "end_time": "2021-06-28T10:18:06.199303",
     "exception": false,
     "start_time": "2021-06-28T10:18:06.106126",
     "status": "completed"
    },
    "tags": []
   },
   "outputs": [],
   "source": [
    "sr.rename({' Male':'male'},axis=1,inplace=True)"
   ]
  },
  {
   "cell_type": "code",
   "execution_count": 15,
   "id": "technological-marijuana",
   "metadata": {
    "execution": {
     "iopub.execute_input": "2021-06-28T10:18:06.368588Z",
     "iopub.status.busy": "2021-06-28T10:18:06.367388Z",
     "iopub.status.idle": "2021-06-28T10:18:06.923664Z",
     "shell.execute_reply": "2021-06-28T10:18:06.924197Z",
     "shell.execute_reply.started": "2021-06-26T19:26:36.797202Z"
    },
    "papermill": {
     "duration": 0.642172,
     "end_time": "2021-06-28T10:18:06.924411",
     "exception": false,
     "start_time": "2021-06-28T10:18:06.282239",
     "status": "completed"
    },
    "tags": []
   },
   "outputs": [
    {
     "data": {
      "text/plain": [
       "<AxesSubplot:title={'center':'10 countries with the highest suicide rate means for 2000 , 2010 , 2015 & 2016 data (Females)'}, xlabel='Country', ylabel='Sum of suicide rates'>"
      ]
     },
     "execution_count": 15,
     "metadata": {},
     "output_type": "execute_result"
    },
    {
     "data": {
      "image/png": "[encoded data removed]",
      "text/plain": [
       "<Figure size 864x288 with 1 Axes>"
      ]
     },
     "metadata": {
      "needs_background": "light"
     },
     "output_type": "display_data"
    },
    {
     "data": {
      "image/png": "[encoded data removed]",
      "text/plain": [
       "<Figure size 864x288 with 1 Axes>"
      ]
     },
     "metadata": {
      "needs_background": "light"
     },
     "output_type": "display_data"
    }
   ],
   "source": [
    "#Males#\n",
    "plt.figure(figsize=(12,4))\n",
    "plt.title('10 countries with the highest suicide rate means for 2000 , 2010 , 2015 & 2016 data (Males)')\n",
    "plt.ylim(100,270)\n",
    "plt.xlabel('Country')\n",
    "plt.ylabel('Sum of suicide rates')\n",
    "sns.lineplot(x='Country',y='sum',data=sr.head(10),color='orange',linestyle='dashed',marker='o',markersize=10,markerfacecolor='yellow')\n",
    "#Females#\n",
    "plt.figure(figsize=(12,4))\n",
    "plt.title('10 countries with the highest suicide rate means for 2000 , 2010 , 2015 & 2016 data (Females)')\n",
    "plt.xlabel('Country')\n",
    "plt.ylabel('Sum of suicide rates')\n",
    "plt.ylim(20,150)\n",
    "sns.lineplot(x='Country',y='sum',data=sr[sr['male']==0].head(10),color='orange',linestyle='dashed',marker='o',markersize=10,markerfacecolor='yellow')"
   ]
  },
  {
   "cell_type": "code",
   "execution_count": 16,
   "id": "objective-jonathan",
   "metadata": {
    "execution": {
     "iopub.execute_input": "2021-06-28T10:18:07.110499Z",
     "iopub.status.busy": "2021-06-28T10:18:07.109495Z",
     "iopub.status.idle": "2021-06-28T10:18:07.113007Z",
     "shell.execute_reply": "2021-06-28T10:18:07.113483Z",
     "shell.execute_reply.started": "2021-06-26T19:26:37.261991Z"
    },
    "papermill": {
     "duration": 0.101969,
     "end_time": "2021-06-28T10:18:07.113677",
     "exception": false,
     "start_time": "2021-06-28T10:18:07.011708",
     "status": "completed"
    },
    "tags": []
   },
   "outputs": [],
   "source": [
    "sr.drop(' Female',axis=1,inplace=True)"
   ]
  },
  {
   "cell_type": "code",
   "execution_count": 17,
   "id": "grave-rugby",
   "metadata": {
    "execution": {
     "iopub.execute_input": "2021-06-28T10:18:07.314124Z",
     "iopub.status.busy": "2021-06-28T10:18:07.313015Z",
     "iopub.status.idle": "2021-06-28T10:18:07.317751Z",
     "shell.execute_reply": "2021-06-28T10:18:07.317055Z",
     "shell.execute_reply.started": "2021-06-26T19:26:37.268757Z"
    },
    "papermill": {
     "duration": 0.108506,
     "end_time": "2021-06-28T10:18:07.317930",
     "exception": false,
     "start_time": "2021-06-28T10:18:07.209424",
     "status": "completed"
    },
    "tags": []
   },
   "outputs": [
    {
     "data": {
      "text/html": [
       "<div>\n",
       "<style scoped>\n",
       "    .dataframe tbody tr th:only-of-type {\n",
       "        vertical-align: middle;\n",
       "    }\n",
       "\n",
       "    .dataframe tbody tr th {\n",
       "        vertical-align: top;\n",
       "    }\n",
       "\n",
       "    .dataframe thead th {\n",
       "        text-align: right;\n",
       "    }\n",
       "</style>\n",
       "<table border=\"1\" class=\"dataframe\">\n",
       "  <thead>\n",
       "    <tr style=\"text-align: right;\">\n",
       "      <th></th>\n",
       "      <th>Country</th>\n",
       "      <th>2016</th>\n",
       "      <th>2015</th>\n",
       "      <th>2010</th>\n",
       "      <th>2000</th>\n",
       "      <th>sum</th>\n",
       "      <th>male</th>\n",
       "    </tr>\n",
       "  </thead>\n",
       "  <tbody>\n",
       "    <tr>\n",
       "      <th>0</th>\n",
       "      <td>Russian Federation</td>\n",
       "      <td>48.3</td>\n",
       "      <td>49.9</td>\n",
       "      <td>62.3</td>\n",
       "      <td>85.8</td>\n",
       "      <td>246.3</td>\n",
       "      <td>1</td>\n",
       "    </tr>\n",
       "    <tr>\n",
       "      <th>1</th>\n",
       "      <td>Lithuania</td>\n",
       "      <td>47.5</td>\n",
       "      <td>51.5</td>\n",
       "      <td>56.4</td>\n",
       "      <td>81.7</td>\n",
       "      <td>237.1</td>\n",
       "      <td>1</td>\n",
       "    </tr>\n",
       "    <tr>\n",
       "      <th>2</th>\n",
       "      <td>Belarus</td>\n",
       "      <td>39.3</td>\n",
       "      <td>39.2</td>\n",
       "      <td>58.1</td>\n",
       "      <td>70.4</td>\n",
       "      <td>207.0</td>\n",
       "      <td>1</td>\n",
       "    </tr>\n",
       "    <tr>\n",
       "      <th>3</th>\n",
       "      <td>Kazakhstan</td>\n",
       "      <td>40.1</td>\n",
       "      <td>44.2</td>\n",
       "      <td>56.1</td>\n",
       "      <td>63.1</td>\n",
       "      <td>203.5</td>\n",
       "      <td>1</td>\n",
       "    </tr>\n",
       "    <tr>\n",
       "      <th>4</th>\n",
       "      <td>Guyana</td>\n",
       "      <td>46.6</td>\n",
       "      <td>46.6</td>\n",
       "      <td>44.9</td>\n",
       "      <td>41.2</td>\n",
       "      <td>179.3</td>\n",
       "      <td>1</td>\n",
       "    </tr>\n",
       "  </tbody>\n",
       "</table>\n",
       "</div>"
      ],
      "text/plain": [
       "              Country  2016  2015  2010  2000    sum  male\n",
       "0  Russian Federation  48.3  49.9  62.3  85.8  246.3     1\n",
       "1           Lithuania  47.5  51.5  56.4  81.7  237.1     1\n",
       "2             Belarus  39.3  39.2  58.1  70.4  207.0     1\n",
       "3          Kazakhstan  40.1  44.2  56.1  63.1  203.5     1\n",
       "4              Guyana  46.6  46.6  44.9  41.2  179.3     1"
      ]
     },
     "execution_count": 17,
     "metadata": {},
     "output_type": "execute_result"
    }
   ],
   "source": [
    "sr.head()"
   ]
  },
  {
   "cell_type": "code",
   "execution_count": 18,
   "id": "primary-system",
   "metadata": {
    "execution": {
     "iopub.execute_input": "2021-06-28T10:18:07.503635Z",
     "iopub.status.busy": "2021-06-28T10:18:07.502942Z",
     "iopub.status.idle": "2021-06-28T10:18:07.506082Z",
     "shell.execute_reply": "2021-06-28T10:18:07.506610Z",
     "shell.execute_reply.started": "2021-06-26T19:26:37.291058Z"
    },
    "papermill": {
     "duration": 0.099934,
     "end_time": "2021-06-28T10:18:07.506841",
     "exception": false,
     "start_time": "2021-06-28T10:18:07.406907",
     "status": "completed"
    },
    "tags": []
   },
   "outputs": [],
   "source": [
    "srm=pd.melt(sr,id_vars=['Country','male','sum'],var_name='year',value_name='suicide rate')\n",
    "srm.drop(columns='sum',inplace=True)"
   ]
  },
  {
   "cell_type": "code",
   "execution_count": 19,
   "id": "handmade-crack",
   "metadata": {
    "execution": {
     "iopub.execute_input": "2021-06-28T10:18:07.680335Z",
     "iopub.status.busy": "2021-06-28T10:18:07.679354Z",
     "iopub.status.idle": "2021-06-28T10:18:07.684066Z",
     "shell.execute_reply": "2021-06-28T10:18:07.683507Z",
     "shell.execute_reply.started": "2021-06-26T19:26:37.306597Z"
    },
    "papermill": {
     "duration": 0.09352,
     "end_time": "2021-06-28T10:18:07.684227",
     "exception": false,
     "start_time": "2021-06-28T10:18:07.590707",
     "status": "completed"
    },
    "tags": []
   },
   "outputs": [],
   "source": [
    "srm.sort_values('suicide rate',ascending=False,inplace= True)"
   ]
  },
  {
   "cell_type": "code",
   "execution_count": 20,
   "id": "similar-amino",
   "metadata": {
    "execution": {
     "iopub.execute_input": "2021-06-28T10:18:07.862064Z",
     "iopub.status.busy": "2021-06-28T10:18:07.861310Z",
     "iopub.status.idle": "2021-06-28T10:18:07.865453Z",
     "shell.execute_reply": "2021-06-28T10:18:07.864828Z",
     "shell.execute_reply.started": "2021-06-26T19:26:37.318799Z"
    },
    "papermill": {
     "duration": 0.097084,
     "end_time": "2021-06-28T10:18:07.865607",
     "exception": false,
     "start_time": "2021-06-28T10:18:07.768523",
     "status": "completed"
    },
    "tags": []
   },
   "outputs": [],
   "source": [
    "srm=srm.reset_index().drop(columns='index')"
   ]
  },
  {
   "cell_type": "code",
   "execution_count": 21,
   "id": "metric-cleaning",
   "metadata": {
    "execution": {
     "iopub.execute_input": "2021-06-28T10:18:08.044464Z",
     "iopub.status.busy": "2021-06-28T10:18:08.043526Z",
     "iopub.status.idle": "2021-06-28T10:18:08.048960Z",
     "shell.execute_reply": "2021-06-28T10:18:08.048245Z",
     "shell.execute_reply.started": "2021-06-26T19:26:37.331254Z"
    },
    "papermill": {
     "duration": 0.100008,
     "end_time": "2021-06-28T10:18:08.049127",
     "exception": false,
     "start_time": "2021-06-28T10:18:07.949119",
     "status": "completed"
    },
    "tags": []
   },
   "outputs": [
    {
     "data": {
      "text/html": [
       "<div>\n",
       "<style scoped>\n",
       "    .dataframe tbody tr th:only-of-type {\n",
       "        vertical-align: middle;\n",
       "    }\n",
       "\n",
       "    .dataframe tbody tr th {\n",
       "        vertical-align: top;\n",
       "    }\n",
       "\n",
       "    .dataframe thead th {\n",
       "        text-align: right;\n",
       "    }\n",
       "</style>\n",
       "<table border=\"1\" class=\"dataframe\">\n",
       "  <thead>\n",
       "    <tr style=\"text-align: right;\">\n",
       "      <th></th>\n",
       "      <th>Country</th>\n",
       "      <th>male</th>\n",
       "      <th>year</th>\n",
       "      <th>suicide rate</th>\n",
       "    </tr>\n",
       "  </thead>\n",
       "  <tbody>\n",
       "    <tr>\n",
       "      <th>0</th>\n",
       "      <td>Russian Federation</td>\n",
       "      <td>1</td>\n",
       "      <td>2000</td>\n",
       "      <td>85.8</td>\n",
       "    </tr>\n",
       "    <tr>\n",
       "      <th>1</th>\n",
       "      <td>Lithuania</td>\n",
       "      <td>1</td>\n",
       "      <td>2000</td>\n",
       "      <td>81.7</td>\n",
       "    </tr>\n",
       "    <tr>\n",
       "      <th>2</th>\n",
       "      <td>Belarus</td>\n",
       "      <td>1</td>\n",
       "      <td>2000</td>\n",
       "      <td>70.4</td>\n",
       "    </tr>\n",
       "    <tr>\n",
       "      <th>3</th>\n",
       "      <td>Kazakhstan</td>\n",
       "      <td>1</td>\n",
       "      <td>2000</td>\n",
       "      <td>63.1</td>\n",
       "    </tr>\n",
       "    <tr>\n",
       "      <th>4</th>\n",
       "      <td>Russian Federation</td>\n",
       "      <td>1</td>\n",
       "      <td>2010</td>\n",
       "      <td>62.3</td>\n",
       "    </tr>\n",
       "  </tbody>\n",
       "</table>\n",
       "</div>"
      ],
      "text/plain": [
       "              Country  male  year  suicide rate\n",
       "0  Russian Federation     1  2000          85.8\n",
       "1           Lithuania     1  2000          81.7\n",
       "2             Belarus     1  2000          70.4\n",
       "3          Kazakhstan     1  2000          63.1\n",
       "4  Russian Federation     1  2010          62.3"
      ]
     },
     "execution_count": 21,
     "metadata": {},
     "output_type": "execute_result"
    }
   ],
   "source": [
    "srm.head()"
   ]
  },
  {
   "cell_type": "code",
   "execution_count": 22,
   "id": "attempted-defendant",
   "metadata": {
    "execution": {
     "iopub.execute_input": "2021-06-28T10:18:08.230054Z",
     "iopub.status.busy": "2021-06-28T10:18:08.229110Z",
     "iopub.status.idle": "2021-06-28T10:18:08.233687Z",
     "shell.execute_reply": "2021-06-28T10:18:08.233061Z",
     "shell.execute_reply.started": "2021-06-26T19:26:37.347719Z"
    },
    "papermill": {
     "duration": 0.098873,
     "end_time": "2021-06-28T10:18:08.233860",
     "exception": false,
     "start_time": "2021-06-28T10:18:08.134987",
     "status": "completed"
    },
    "tags": []
   },
   "outputs": [
    {
     "data": {
      "text/plain": [
       "2015    549\n",
       "2016    549\n",
       "2000    549\n",
       "2010    549\n",
       "Name: year, dtype: int64"
      ]
     },
     "execution_count": 22,
     "metadata": {},
     "output_type": "execute_result"
    }
   ],
   "source": [
    "srm['year'].value_counts()"
   ]
  },
  {
   "cell_type": "code",
   "execution_count": 23,
   "id": "ruled-bibliography",
   "metadata": {
    "execution": {
     "iopub.execute_input": "2021-06-28T10:18:08.410844Z",
     "iopub.status.busy": "2021-06-28T10:18:08.410185Z",
     "iopub.status.idle": "2021-06-28T10:18:08.622756Z",
     "shell.execute_reply": "2021-06-28T10:18:08.622191Z",
     "shell.execute_reply.started": "2021-06-26T19:26:37.361656Z"
    },
    "papermill": {
     "duration": 0.303667,
     "end_time": "2021-06-28T10:18:08.622967",
     "exception": false,
     "start_time": "2021-06-28T10:18:08.319300",
     "status": "completed"
    },
    "tags": []
   },
   "outputs": [],
   "source": [
    "from sklearn.model_selection import train_test_split"
   ]
  },
  {
   "cell_type": "code",
   "execution_count": 24,
   "id": "anticipated-analyst",
   "metadata": {
    "execution": {
     "iopub.execute_input": "2021-06-28T10:18:08.797531Z",
     "iopub.status.busy": "2021-06-28T10:18:08.796698Z",
     "iopub.status.idle": "2021-06-28T10:18:08.800592Z",
     "shell.execute_reply": "2021-06-28T10:18:08.800063Z",
     "shell.execute_reply.started": "2021-06-26T19:26:37.3728Z"
    },
    "papermill": {
     "duration": 0.093518,
     "end_time": "2021-06-28T10:18:08.800739",
     "exception": false,
     "start_time": "2021-06-28T10:18:08.707221",
     "status": "completed"
    },
    "tags": []
   },
   "outputs": [],
   "source": [
    "X=srm[['male','year']]\n",
    "y=srm['suicide rate']"
   ]
  },
  {
   "cell_type": "code",
   "execution_count": 25,
   "id": "enormous-thickness",
   "metadata": {
    "execution": {
     "iopub.execute_input": "2021-06-28T10:18:08.976572Z",
     "iopub.status.busy": "2021-06-28T10:18:08.975850Z",
     "iopub.status.idle": "2021-06-28T10:18:08.980977Z",
     "shell.execute_reply": "2021-06-28T10:18:08.980335Z",
     "shell.execute_reply.started": "2021-06-26T19:26:37.387236Z"
    },
    "papermill": {
     "duration": 0.096189,
     "end_time": "2021-06-28T10:18:08.981133",
     "exception": false,
     "start_time": "2021-06-28T10:18:08.884944",
     "status": "completed"
    },
    "tags": []
   },
   "outputs": [],
   "source": [
    "X_train, X_test, y_train, y_test = train_test_split(X, y, test_size=0.33, random_state=101)"
   ]
  },
  {
   "cell_type": "code",
   "execution_count": 26,
   "id": "theoretical-tractor",
   "metadata": {
    "execution": {
     "iopub.execute_input": "2021-06-28T10:18:09.155986Z",
     "iopub.status.busy": "2021-06-28T10:18:09.155341Z",
     "iopub.status.idle": "2021-06-28T10:18:09.416274Z",
     "shell.execute_reply": "2021-06-28T10:18:09.415519Z",
     "shell.execute_reply.started": "2021-06-26T19:26:37.399943Z"
    },
    "papermill": {
     "duration": 0.350435,
     "end_time": "2021-06-28T10:18:09.416436",
     "exception": false,
     "start_time": "2021-06-28T10:18:09.066001",
     "status": "completed"
    },
    "tags": []
   },
   "outputs": [],
   "source": [
    "from sklearn.linear_model import LinearRegression"
   ]
  },
  {
   "cell_type": "code",
   "execution_count": 27,
   "id": "meaningful-constitutional",
   "metadata": {
    "execution": {
     "iopub.execute_input": "2021-06-28T10:18:09.599691Z",
     "iopub.status.busy": "2021-06-28T10:18:09.598960Z",
     "iopub.status.idle": "2021-06-28T10:18:09.603172Z",
     "shell.execute_reply": "2021-06-28T10:18:09.602555Z",
     "shell.execute_reply.started": "2021-06-26T19:26:37.408325Z"
    },
    "papermill": {
     "duration": 0.097887,
     "end_time": "2021-06-28T10:18:09.603328",
     "exception": false,
     "start_time": "2021-06-28T10:18:09.505441",
     "status": "completed"
    },
    "tags": []
   },
   "outputs": [],
   "source": [
    "lr= LinearRegression()"
   ]
  },
  {
   "cell_type": "code",
   "execution_count": 28,
   "id": "equal-guatemala",
   "metadata": {
    "execution": {
     "iopub.execute_input": "2021-06-28T10:18:09.809737Z",
     "iopub.status.busy": "2021-06-28T10:18:09.798416Z",
     "iopub.status.idle": "2021-06-28T10:18:09.817402Z",
     "shell.execute_reply": "2021-06-28T10:18:09.816890Z",
     "shell.execute_reply.started": "2021-06-26T19:26:37.419261Z"
    },
    "papermill": {
     "duration": 0.12431,
     "end_time": "2021-06-28T10:18:09.817550",
     "exception": false,
     "start_time": "2021-06-28T10:18:09.693240",
     "status": "completed"
    },
    "tags": []
   },
   "outputs": [
    {
     "data": {
      "text/plain": [
       "LinearRegression()"
      ]
     },
     "execution_count": 28,
     "metadata": {},
     "output_type": "execute_result"
    }
   ],
   "source": [
    "lr.fit(X_train,y_train)"
   ]
  },
  {
   "cell_type": "code",
   "execution_count": 29,
   "id": "confused-cherry",
   "metadata": {
    "execution": {
     "iopub.execute_input": "2021-06-28T10:18:10.001288Z",
     "iopub.status.busy": "2021-06-28T10:18:10.000496Z",
     "iopub.status.idle": "2021-06-28T10:18:10.005736Z",
     "shell.execute_reply": "2021-06-28T10:18:10.004831Z",
     "shell.execute_reply.started": "2021-06-26T19:26:37.455233Z"
    },
    "papermill": {
     "duration": 0.102077,
     "end_time": "2021-06-28T10:18:10.005937",
     "exception": false,
     "start_time": "2021-06-28T10:18:09.903860",
     "status": "completed"
    },
    "tags": []
   },
   "outputs": [],
   "source": [
    "pred=lr.predict(X_test)"
   ]
  },
  {
   "cell_type": "code",
   "execution_count": 30,
   "id": "authorized-benchmark",
   "metadata": {
    "execution": {
     "iopub.execute_input": "2021-06-28T10:18:10.194923Z",
     "iopub.status.busy": "2021-06-28T10:18:10.193992Z",
     "iopub.status.idle": "2021-06-28T10:18:10.200073Z",
     "shell.execute_reply": "2021-06-28T10:18:10.199299Z",
     "shell.execute_reply.started": "2021-06-26T19:26:37.46338Z"
    },
    "papermill": {
     "duration": 0.102245,
     "end_time": "2021-06-28T10:18:10.200290",
     "exception": false,
     "start_time": "2021-06-28T10:18:10.098045",
     "status": "completed"
    },
    "tags": []
   },
   "outputs": [
    {
     "data": {
      "text/plain": [
       "array([ 7.73578346, -0.08718197])"
      ]
     },
     "execution_count": 30,
     "metadata": {},
     "output_type": "execute_result"
    }
   ],
   "source": [
    "lr.coef_"
   ]
  },
  {
   "cell_type": "code",
   "execution_count": 31,
   "id": "devoted-spirituality",
   "metadata": {
    "execution": {
     "iopub.execute_input": "2021-06-28T10:18:10.393823Z",
     "iopub.status.busy": "2021-06-28T10:18:10.393147Z",
     "iopub.status.idle": "2021-06-28T10:18:10.398462Z",
     "shell.execute_reply": "2021-06-28T10:18:10.397904Z",
     "shell.execute_reply.started": "2021-06-26T19:26:37.475659Z"
    },
    "papermill": {
     "duration": 0.105654,
     "end_time": "2021-06-28T10:18:10.398625",
     "exception": false,
     "start_time": "2021-06-28T10:18:10.292971",
     "status": "completed"
    },
    "tags": []
   },
   "outputs": [],
   "source": [
    "from sklearn.metrics import mean_absolute_error,mean_squared_error,r2_score"
   ]
  },
  {
   "cell_type": "code",
   "execution_count": 32,
   "id": "vulnerable-sculpture",
   "metadata": {
    "execution": {
     "iopub.execute_input": "2021-06-28T10:18:10.591476Z",
     "iopub.status.busy": "2021-06-28T10:18:10.590654Z",
     "iopub.status.idle": "2021-06-28T10:18:10.595352Z",
     "shell.execute_reply": "2021-06-28T10:18:10.594393Z",
     "shell.execute_reply.started": "2021-06-26T19:26:37.492318Z"
    },
    "papermill": {
     "duration": 0.105302,
     "end_time": "2021-06-28T10:18:10.595543",
     "exception": false,
     "start_time": "2021-06-28T10:18:10.490241",
     "status": "completed"
    },
    "tags": []
   },
   "outputs": [],
   "source": [
    "MAE= mean_absolute_error(y_test,pred)\n",
    "MSE= mean_squared_error(y_test,pred)\n",
    "RMSE= np.sqrt(mean_squared_error(y_test,pred))\n",
    "r2= r2_score(y_test,pred)\n"
   ]
  },
  {
   "cell_type": "code",
   "execution_count": 33,
   "id": "precious-navigation",
   "metadata": {
    "execution": {
     "iopub.execute_input": "2021-06-28T10:18:10.787922Z",
     "iopub.status.busy": "2021-06-28T10:18:10.786865Z",
     "iopub.status.idle": "2021-06-28T10:18:10.791820Z",
     "shell.execute_reply": "2021-06-28T10:18:10.791114Z",
     "shell.execute_reply.started": "2021-06-26T19:26:37.501647Z"
    },
    "papermill": {
     "duration": 0.102939,
     "end_time": "2021-06-28T10:18:10.791996",
     "exception": false,
     "start_time": "2021-06-28T10:18:10.689057",
     "status": "completed"
    },
    "tags": []
   },
   "outputs": [
    {
     "data": {
      "text/plain": [
       "(5.520956983043143, 64.11325027806525, 8.007075013890232, 0.19860394693302963)"
      ]
     },
     "execution_count": 33,
     "metadata": {},
     "output_type": "execute_result"
    }
   ],
   "source": [
    "MAE,MSE,RMSE,r2"
   ]
  },
  {
   "cell_type": "code",
   "execution_count": 34,
   "id": "relevant-communist",
   "metadata": {
    "execution": {
     "iopub.execute_input": "2021-06-28T10:18:10.988008Z",
     "iopub.status.busy": "2021-06-28T10:18:10.987231Z",
     "iopub.status.idle": "2021-06-28T10:18:10.990129Z",
     "shell.execute_reply": "2021-06-28T10:18:10.989443Z",
     "shell.execute_reply.started": "2021-06-26T19:26:37.513756Z"
    },
    "papermill": {
     "duration": 0.104102,
     "end_time": "2021-06-28T10:18:10.990324",
     "exception": false,
     "start_time": "2021-06-28T10:18:10.886222",
     "status": "completed"
    },
    "tags": []
   },
   "outputs": [],
   "source": [
    "coeff= pd.DataFrame(lr.coef_,X.columns,columns=['Coefficient'])"
   ]
  },
  {
   "cell_type": "code",
   "execution_count": 35,
   "id": "absent-figure",
   "metadata": {
    "execution": {
     "iopub.execute_input": "2021-06-28T10:18:11.180499Z",
     "iopub.status.busy": "2021-06-28T10:18:11.179765Z",
     "iopub.status.idle": "2021-06-28T10:18:11.188142Z",
     "shell.execute_reply": "2021-06-28T10:18:11.187097Z",
     "shell.execute_reply.started": "2021-06-26T19:26:37.523037Z"
    },
    "papermill": {
     "duration": 0.10516,
     "end_time": "2021-06-28T10:18:11.188397",
     "exception": false,
     "start_time": "2021-06-28T10:18:11.083237",
     "status": "completed"
    },
    "tags": []
   },
   "outputs": [
    {
     "data": {
      "text/html": [
       "<div>\n",
       "<style scoped>\n",
       "    .dataframe tbody tr th:only-of-type {\n",
       "        vertical-align: middle;\n",
       "    }\n",
       "\n",
       "    .dataframe tbody tr th {\n",
       "        vertical-align: top;\n",
       "    }\n",
       "\n",
       "    .dataframe thead th {\n",
       "        text-align: right;\n",
       "    }\n",
       "</style>\n",
       "<table border=\"1\" class=\"dataframe\">\n",
       "  <thead>\n",
       "    <tr style=\"text-align: right;\">\n",
       "      <th></th>\n",
       "      <th>Coefficient</th>\n",
       "    </tr>\n",
       "  </thead>\n",
       "  <tbody>\n",
       "    <tr>\n",
       "      <th>male</th>\n",
       "      <td>7.735783</td>\n",
       "    </tr>\n",
       "    <tr>\n",
       "      <th>year</th>\n",
       "      <td>-0.087182</td>\n",
       "    </tr>\n",
       "  </tbody>\n",
       "</table>\n",
       "</div>"
      ],
      "text/plain": [
       "      Coefficient\n",
       "male     7.735783\n",
       "year    -0.087182"
      ]
     },
     "execution_count": 35,
     "metadata": {},
     "output_type": "execute_result"
    }
   ],
   "source": [
    "coeff"
   ]
  },
  {
   "cell_type": "markdown",
   "id": "prospective-smart",
   "metadata": {
    "papermill": {
     "duration": 0.095725,
     "end_time": "2021-06-28T10:18:11.376597",
     "exception": false,
     "start_time": "2021-06-28T10:18:11.280872",
     "status": "completed"
    },
    "tags": []
   },
   "source": [
    "***r2 score isnt big enough to extract any solid conclusions, but results indicate the following:***\n",
    "\n",
    "***Being male increases suicide rate by 7.73 points***\n",
    "\n",
    "***For every year we go back from this dataset (2016,2015,2010,2000) the suicide rate goes up by .087***"
   ]
  },
  {
   "cell_type": "markdown",
   "id": "noticed-peeing",
   "metadata": {
    "papermill": {
     "duration": 0.086597,
     "end_time": "2021-06-28T10:18:11.558842",
     "exception": false,
     "start_time": "2021-06-28T10:18:11.472245",
     "status": "completed"
    },
    "tags": []
   },
   "source": [
    "## Import new dataset with both sexes to geoplot."
   ]
  },
  {
   "cell_type": "code",
   "execution_count": 36,
   "id": "respective-injury",
   "metadata": {
    "execution": {
     "iopub.execute_input": "2021-06-28T10:18:11.737439Z",
     "iopub.status.busy": "2021-06-28T10:18:11.736662Z",
     "iopub.status.idle": "2021-06-28T10:18:11.754461Z",
     "shell.execute_reply": "2021-06-28T10:18:11.753744Z",
     "shell.execute_reply.started": "2021-06-26T19:26:37.538443Z"
    },
    "papermill": {
     "duration": 0.110067,
     "end_time": "2021-06-28T10:18:11.754633",
     "exception": false,
     "start_time": "2021-06-28T10:18:11.644566",
     "status": "completed"
    },
    "tags": []
   },
   "outputs": [],
   "source": [
    "srb=pd.read_csv(\"/kaggle/input/mental-health-and-suicide-rates/Age-standardized suicide rates.csv\")\n",
    "srb.set_index(srb['Sex'],inplace=True)\n",
    "srb.drop(' Male',axis=0,inplace=True)\n",
    "srb.drop(' Female',axis=0,inplace=True)\n",
    "srb.drop('Sex',axis=1,inplace=True)\n",
    "srb.reset_index(inplace=True)"
   ]
  },
  {
   "cell_type": "code",
   "execution_count": 37,
   "id": "mechanical-lotus",
   "metadata": {
    "execution": {
     "iopub.execute_input": "2021-06-28T10:18:11.937009Z",
     "iopub.status.busy": "2021-06-28T10:18:11.936043Z",
     "iopub.status.idle": "2021-06-28T10:18:11.939580Z",
     "shell.execute_reply": "2021-06-28T10:18:11.938987Z",
     "shell.execute_reply.started": "2021-06-26T19:26:37.559091Z"
    },
    "papermill": {
     "duration": 0.098124,
     "end_time": "2021-06-28T10:18:11.939764",
     "exception": false,
     "start_time": "2021-06-28T10:18:11.841640",
     "status": "completed"
    },
    "tags": []
   },
   "outputs": [],
   "source": [
    "srb= srb[['Country','Sex','2000','2010','2015','2016']]"
   ]
  },
  {
   "cell_type": "code",
   "execution_count": 38,
   "id": "liked-aspect",
   "metadata": {
    "execution": {
     "iopub.execute_input": "2021-06-28T10:18:12.120180Z",
     "iopub.status.busy": "2021-06-28T10:18:12.119452Z",
     "iopub.status.idle": "2021-06-28T10:18:12.133385Z",
     "shell.execute_reply": "2021-06-28T10:18:12.133850Z",
     "shell.execute_reply.started": "2021-06-26T19:26:37.568722Z"
    },
    "papermill": {
     "duration": 0.106387,
     "end_time": "2021-06-28T10:18:12.134056",
     "exception": false,
     "start_time": "2021-06-28T10:18:12.027669",
     "status": "completed"
    },
    "tags": []
   },
   "outputs": [
    {
     "data": {
      "text/html": [
       "<div>\n",
       "<style scoped>\n",
       "    .dataframe tbody tr th:only-of-type {\n",
       "        vertical-align: middle;\n",
       "    }\n",
       "\n",
       "    .dataframe tbody tr th {\n",
       "        vertical-align: top;\n",
       "    }\n",
       "\n",
       "    .dataframe thead th {\n",
       "        text-align: right;\n",
       "    }\n",
       "</style>\n",
       "<table border=\"1\" class=\"dataframe\">\n",
       "  <thead>\n",
       "    <tr style=\"text-align: right;\">\n",
       "      <th></th>\n",
       "      <th>Country</th>\n",
       "      <th>Sex</th>\n",
       "      <th>2000</th>\n",
       "      <th>2010</th>\n",
       "      <th>2015</th>\n",
       "      <th>2016</th>\n",
       "    </tr>\n",
       "  </thead>\n",
       "  <tbody>\n",
       "    <tr>\n",
       "      <th>0</th>\n",
       "      <td>Afghanistan</td>\n",
       "      <td>Both sexes</td>\n",
       "      <td>8.1</td>\n",
       "      <td>7.4</td>\n",
       "      <td>6.6</td>\n",
       "      <td>6.4</td>\n",
       "    </tr>\n",
       "    <tr>\n",
       "      <th>1</th>\n",
       "      <td>Albania</td>\n",
       "      <td>Both sexes</td>\n",
       "      <td>5.8</td>\n",
       "      <td>7.7</td>\n",
       "      <td>5.3</td>\n",
       "      <td>5.6</td>\n",
       "    </tr>\n",
       "    <tr>\n",
       "      <th>2</th>\n",
       "      <td>Algeria</td>\n",
       "      <td>Both sexes</td>\n",
       "      <td>4.7</td>\n",
       "      <td>3.5</td>\n",
       "      <td>3.4</td>\n",
       "      <td>3.3</td>\n",
       "    </tr>\n",
       "    <tr>\n",
       "      <th>3</th>\n",
       "      <td>Angola</td>\n",
       "      <td>Both sexes</td>\n",
       "      <td>13.9</td>\n",
       "      <td>10.4</td>\n",
       "      <td>9.3</td>\n",
       "      <td>8.9</td>\n",
       "    </tr>\n",
       "    <tr>\n",
       "      <th>4</th>\n",
       "      <td>Antigua and Barbuda</td>\n",
       "      <td>Both sexes</td>\n",
       "      <td>2.1</td>\n",
       "      <td>0.2</td>\n",
       "      <td>0.8</td>\n",
       "      <td>0.5</td>\n",
       "    </tr>\n",
       "  </tbody>\n",
       "</table>\n",
       "</div>"
      ],
      "text/plain": [
       "               Country          Sex  2000  2010  2015  2016\n",
       "0          Afghanistan   Both sexes   8.1   7.4   6.6   6.4\n",
       "1              Albania   Both sexes   5.8   7.7   5.3   5.6\n",
       "2              Algeria   Both sexes   4.7   3.5   3.4   3.3\n",
       "3               Angola   Both sexes  13.9  10.4   9.3   8.9\n",
       "4  Antigua and Barbuda   Both sexes   2.1   0.2   0.8   0.5"
      ]
     },
     "execution_count": 38,
     "metadata": {},
     "output_type": "execute_result"
    }
   ],
   "source": [
    "srb.head()"
   ]
  },
  {
   "cell_type": "code",
   "execution_count": 39,
   "id": "desirable-louisville",
   "metadata": {
    "execution": {
     "iopub.execute_input": "2021-06-28T10:18:12.315466Z",
     "iopub.status.busy": "2021-06-28T10:18:12.314706Z",
     "iopub.status.idle": "2021-06-28T10:18:12.331119Z",
     "shell.execute_reply": "2021-06-28T10:18:12.331648Z",
     "shell.execute_reply.started": "2021-06-26T19:26:37.589478Z"
    },
    "papermill": {
     "duration": 0.110687,
     "end_time": "2021-06-28T10:18:12.331918",
     "exception": false,
     "start_time": "2021-06-28T10:18:12.221231",
     "status": "completed"
    },
    "tags": []
   },
   "outputs": [],
   "source": [
    "srb2016p=srb.drop(columns=['2015','2010','2000'])\n",
    "srb2016=pd.melt(srb2016p,id_vars=['Country','Sex'],var_name='year',value_name='suicide rate')\n",
    "\n",
    "srb2000p=srb.drop(columns=['2016','2015','2010'])\n",
    "srb2000=pd.melt(srb2000p,id_vars=['Country','Sex'],var_name='year',value_name='suicide rate')"
   ]
  },
  {
   "cell_type": "code",
   "execution_count": 40,
   "id": "pediatric-gather",
   "metadata": {
    "execution": {
     "iopub.execute_input": "2021-06-28T10:18:12.511059Z",
     "iopub.status.busy": "2021-06-28T10:18:12.510374Z",
     "iopub.status.idle": "2021-06-28T10:18:12.515430Z",
     "shell.execute_reply": "2021-06-28T10:18:12.515939Z",
     "shell.execute_reply.started": "2021-06-26T19:26:37.607956Z"
    },
    "papermill": {
     "duration": 0.095188,
     "end_time": "2021-06-28T10:18:12.516149",
     "exception": false,
     "start_time": "2021-06-28T10:18:12.420961",
     "status": "completed"
    },
    "tags": []
   },
   "outputs": [],
   "source": [
    "cloro= dict(type='choropleth',\n",
    "            locations=srb2016['Country'],\n",
    "            locationmode='country names',\n",
    "            z=srb2016['suicide rate'],\n",
    "            text=srb2016['Country'],\n",
    "            colorscale='Oranges_r',\n",
    "            reversescale=True,\n",
    "            colorbar={'title':'suicide rate per 100.000 inhabitants'})"
   ]
  },
  {
   "cell_type": "code",
   "execution_count": 41,
   "id": "original-hydrogen",
   "metadata": {
    "execution": {
     "iopub.execute_input": "2021-06-28T10:18:12.785361Z",
     "iopub.status.busy": "2021-06-28T10:18:12.784575Z",
     "iopub.status.idle": "2021-06-28T10:18:12.789705Z",
     "shell.execute_reply": "2021-06-28T10:18:12.788854Z",
     "shell.execute_reply.started": "2021-06-26T19:26:37.614691Z"
    },
    "papermill": {
     "duration": 0.186103,
     "end_time": "2021-06-28T10:18:12.789930",
     "exception": false,
     "start_time": "2021-06-28T10:18:12.603827",
     "status": "completed"
    },
    "tags": []
   },
   "outputs": [],
   "source": [
    "layout= dict(title= 'Suicide rate in 2016',\n",
    "             geo= dict(showframe=True,\n",
    "                       showcoastlines=True,\n",
    "                      projection={'type':'miller'}))"
   ]
  },
  {
   "cell_type": "code",
   "execution_count": 42,
   "id": "talented-concentrate",
   "metadata": {
    "execution": {
     "iopub.execute_input": "2021-06-28T10:18:12.993892Z",
     "iopub.status.busy": "2021-06-28T10:18:12.993144Z",
     "iopub.status.idle": "2021-06-28T10:18:13.136332Z",
     "shell.execute_reply": "2021-06-28T10:18:13.135678Z",
     "shell.execute_reply.started": "2021-06-26T19:26:37.625167Z"
    },
    "papermill": {
     "duration": 0.241826,
     "end_time": "2021-06-28T10:18:13.136502",
     "exception": false,
     "start_time": "2021-06-28T10:18:12.894676",
     "status": "completed"
    },
    "tags": []
   },
   "outputs": [],
   "source": [
    "choromap3= go.Figure(data=[cloro],layout=layout)"
   ]
  },
  {
   "cell_type": "code",
   "execution_count": 43,
   "id": "cognitive-necklace",
   "metadata": {
    "execution": {
     "iopub.execute_input": "2021-06-28T10:18:13.333270Z",
     "iopub.status.busy": "2021-06-28T10:18:13.332527Z",
     "iopub.status.idle": "2021-06-28T10:18:13.336873Z",
     "shell.execute_reply": "2021-06-28T10:18:13.336127Z",
     "shell.execute_reply.started": "2021-06-26T19:26:37.743218Z"
    },
    "papermill": {
     "duration": 0.103709,
     "end_time": "2021-06-28T10:18:13.337112",
     "exception": false,
     "start_time": "2021-06-28T10:18:13.233403",
     "status": "completed"
    },
    "tags": []
   },
   "outputs": [],
   "source": [
    "cloro2= dict(type='choropleth',\n",
    "            locations=srb2000['Country'],\n",
    "            locationmode='country names',\n",
    "            z=srb2000['suicide rate'],\n",
    "            text=srb2000['Country'],\n",
    "            colorscale='Oranges_r',\n",
    "            reversescale=True,\n",
    "            autocolorscale=False,\n",
    "            colorbar={'title':'suicide rate per 100.000 inhabitants'})"
   ]
  },
  {
   "cell_type": "code",
   "execution_count": 44,
   "id": "fresh-indie",
   "metadata": {
    "execution": {
     "iopub.execute_input": "2021-06-28T10:18:13.519371Z",
     "iopub.status.busy": "2021-06-28T10:18:13.518696Z",
     "iopub.status.idle": "2021-06-28T10:18:13.522229Z",
     "shell.execute_reply": "2021-06-28T10:18:13.521650Z",
     "shell.execute_reply.started": "2021-06-26T19:26:37.750029Z"
    },
    "papermill": {
     "duration": 0.096348,
     "end_time": "2021-06-28T10:18:13.522420",
     "exception": false,
     "start_time": "2021-06-28T10:18:13.426072",
     "status": "completed"
    },
    "tags": []
   },
   "outputs": [],
   "source": [
    "layout2= dict(title= 'Suicide rate in 2000',\n",
    "             geo= dict(showframe=True,\n",
    "                       showcoastlines=True,\n",
    "                      projection={'type':'miller'}))"
   ]
  },
  {
   "cell_type": "code",
   "execution_count": 45,
   "id": "dedicated-electric",
   "metadata": {
    "execution": {
     "iopub.execute_input": "2021-06-28T10:18:13.704742Z",
     "iopub.status.busy": "2021-06-28T10:18:13.704013Z",
     "iopub.status.idle": "2021-06-28T10:18:13.713395Z",
     "shell.execute_reply": "2021-06-28T10:18:13.712759Z",
     "shell.execute_reply.started": "2021-06-26T19:26:37.761763Z"
    },
    "papermill": {
     "duration": 0.103342,
     "end_time": "2021-06-28T10:18:13.713578",
     "exception": false,
     "start_time": "2021-06-28T10:18:13.610236",
     "status": "completed"
    },
    "tags": []
   },
   "outputs": [],
   "source": [
    "choromap4= go.Figure(data=[cloro2],layout=layout2)"
   ]
  },
  {
   "cell_type": "code",
   "execution_count": 46,
   "id": "defined-talent",
   "metadata": {
    "execution": {
     "iopub.execute_input": "2021-06-28T10:18:13.895322Z",
     "iopub.status.busy": "2021-06-28T10:18:13.894623Z",
     "iopub.status.idle": "2021-06-28T10:18:14.844708Z",
     "shell.execute_reply": "2021-06-28T10:18:14.844104Z",
     "shell.execute_reply.started": "2021-06-26T19:26:37.78241Z"
    },
    "papermill": {
     "duration": 1.044938,
     "end_time": "2021-06-28T10:18:14.844923",
     "exception": false,
     "start_time": "2021-06-28T10:18:13.799985",
     "status": "completed"
    },
    "tags": []
   },
   "outputs": [
    {
     "data": {
      "text/html": [
       "        <script type=\"text/javascript\">\n",
       "        window.PlotlyConfig = {MathJaxConfig: 'local'};\n",
       "        if (window.MathJax) {MathJax.Hub.Config({SVG: {font: \"STIX-Web\"}});}\n",
       "        if (typeof require !== 'undefined') {\n",
       "        require.undef(\"plotly\");\n",
       "        requirejs.config({\n",
       "            paths: {\n",
       "                'plotly': ['https://cdn.plot.ly/plotly-latest.min']\n",
       "            }\n",
       "        });\n",
       "        require(['plotly'], function(Plotly) {\n",
       "            window._Plotly = Plotly;\n",
       "        });\n",
       "        }\n",
       "        </script>\n",
       "        "
      ]
     },
     "metadata": {},
     "output_type": "display_data"
    },
    {
     "data": {
      "text/html": [
       "<div>                            <div id=\"44925b58-fca8-42f4-bf39-187abaef5e0a\" class=\"plotly-graph-div\" style=\"height:525px; width:100%;\"></div>            <script type=\"text/javascript\">                require([\"plotly\"], function(Plotly) {                    window.PLOTLYENV=window.PLOTLYENV || {};                                    if (document.getElementById(\"44925b58-fca8-42f4-bf39-187abaef5e0a\")) {                    Plotly.newPlot(                        \"44925b58-fca8-42f4-bf39-187abaef5e0a\",                        [{\"autocolorscale\": false, \"colorbar\": {\"title\": {\"text\": \"suicide rate per 100.000 inhabitants\"}}, \"colorscale\": [[0.0, \"rgb(127,39,4)\"], [0.125, \"rgb(166,54,3)\"], [0.25, \"rgb(217,72,1)\"], [0.375, \"rgb(241,105,19)\"], [0.5, \"rgb(253,141,60)\"], [0.625, \"rgb(253,174,107)\"], [0.75, \"rgb(253,208,162)\"], [0.875, \"rgb(254,230,206)\"], [1.0, \"rgb(255,245,235)\"]], \"locationmode\": \"country names\", \"locations\": [\"Afghanistan\", \"Albania\", \"Algeria\", \"Angola\", \"Antigua and Barbuda\", \"Argentina\", \"Armenia\", \"Australia\", \"Austria\", \"Azerbaijan\", \"Bahamas\", \"Bahrain\", \"Bangladesh\", \"Barbados\", \"Belarus\", \"Belgium\", \"Belize\", \"Benin\", \"Bhutan\", \"Bolivia (Plurinational State of)\", \"Bosnia and Herzegovina\", \"Botswana\", \"Brazil\", \"Brunei Darussalam\", \"Bulgaria\", \"Burkina Faso\", \"Burundi\", \"Cabo Verde\", \"Cambodia\", \"Cameroon\", \"Canada\", \"Central African Republic\", \"Chad\", \"Chile\", \"China\", \"Colombia\", \"Comoros\", \"Congo\", \"Costa Rica\", \"C\\u00f4te d'Ivoire\", \"Croatia\", \"Cuba\", \"Cyprus\", \"Czechia\", \"Democratic People's Republic of Korea\", \"Democratic Republic of the Congo\", \"Denmark\", \"Djibouti\", \"Dominican Republic\", \"Ecuador\", \"Egypt\", \"El Salvador\", \"Equatorial Guinea\", \"Eritrea\", \"Estonia\", \"Eswatini\", \"Ethiopia\", \"Fiji\", \"Finland\", \"France\", \"Gabon\", \"Gambia\", \"Georgia\", \"Germany\", \"Ghana\", \"Greece\", \"Grenada\", \"Guatemala\", \"Guinea\", \"Guinea-Bissau\", \"Guyana\", \"Haiti\", \"Honduras\", \"Hungary\", \"Iceland\", \"India\", \"Indonesia\", \"Iran (Islamic Republic of)\", \"Iraq\", \"Ireland\", \"Israel\", \"Italy\", \"Jamaica\", \"Japan\", \"Jordan\", \"Kazakhstan\", \"Kenya\", \"Kiribati\", \"Kuwait\", \"Kyrgyzstan\", \"Lao People's Democratic Republic\", \"Latvia\", \"Lebanon\", \"Lesotho\", \"Liberia\", \"Libya\", \"Lithuania\", \"Luxembourg\", \"Madagascar\", \"Malawi\", \"Malaysia\", \"Maldives\", \"Mali\", \"Malta\", \"Mauritania\", \"Mauritius\", \"Mexico\", \"Micronesia (Federated States of)\", \"Mongolia\", \"Montenegro\", \"Morocco\", \"Mozambique\", \"Myanmar\", \"Namibia\", \"Nepal\", \"Netherlands\", \"New Zealand\", \"Nicaragua\", \"Niger\", \"Nigeria\", \"Norway\", \"Oman\", \"Pakistan\", \"Panama\", \"Papua New Guinea\", \"Paraguay\", \"Peru\", \"Philippines\", \"Poland\", \"Portugal\", \"Qatar\", \"Republic of Korea\", \"Republic of Moldova\", \"Republic of North Macedonia\", \"Romania\", \"Russian Federation\", \"Rwanda\", \"Saint Lucia\", \"Saint Vincent and the Grenadines\", \"Samoa\", \"Sao Tome and Principe\", \"Saudi Arabia\", \"Senegal\", \"Serbia\", \"Seychelles\", \"Sierra Leone\", \"Singapore\", \"Slovakia\", \"Slovenia\", \"Solomon Islands\", \"Somalia\", \"South Africa\", \"South Sudan\", \"Spain\", \"Sri Lanka\", \"Sudan\", \"Suriname\", \"Sweden\", \"Switzerland\", \"Syrian Arab Republic\", \"Tajikistan\", \"Thailand\", \"Timor-Leste\", \"Togo\", \"Tonga\", \"Trinidad and Tobago\", \"Tunisia\", \"Turkey\", \"Turkmenistan\", \"Uganda\", \"Ukraine\", \"United Arab Emirates\", \"United Kingdom of Great Britain and Northern Ireland\", \"United Republic of Tanzania\", \"United States of America\", \"Uruguay\", \"Uzbekistan\", \"Vanuatu\", \"Venezuela (Bolivarian Republic of)\", \"Viet Nam\", \"Yemen\", \"Zambia\", \"Zimbabwe\"], \"reversescale\": true, \"text\": [\"Afghanistan\", \"Albania\", \"Algeria\", \"Angola\", \"Antigua and Barbuda\", \"Argentina\", \"Armenia\", \"Australia\", \"Austria\", \"Azerbaijan\", \"Bahamas\", \"Bahrain\", \"Bangladesh\", \"Barbados\", \"Belarus\", \"Belgium\", \"Belize\", \"Benin\", \"Bhutan\", \"Bolivia (Plurinational State of)\", \"Bosnia and Herzegovina\", \"Botswana\", \"Brazil\", \"Brunei Darussalam\", \"Bulgaria\", \"Burkina Faso\", \"Burundi\", \"Cabo Verde\", \"Cambodia\", \"Cameroon\", \"Canada\", \"Central African Republic\", \"Chad\", \"Chile\", \"China\", \"Colombia\", \"Comoros\", \"Congo\", \"Costa Rica\", \"C\\u00f4te d'Ivoire\", \"Croatia\", \"Cuba\", \"Cyprus\", \"Czechia\", \"Democratic People's Republic of Korea\", \"Democratic Republic of the Congo\", \"Denmark\", \"Djibouti\", \"Dominican Republic\", \"Ecuador\", \"Egypt\", \"El Salvador\", \"Equatorial Guinea\", \"Eritrea\", \"Estonia\", \"Eswatini\", \"Ethiopia\", \"Fiji\", \"Finland\", \"France\", \"Gabon\", \"Gambia\", \"Georgia\", \"Germany\", \"Ghana\", \"Greece\", \"Grenada\", \"Guatemala\", \"Guinea\", \"Guinea-Bissau\", \"Guyana\", \"Haiti\", \"Honduras\", \"Hungary\", \"Iceland\", \"India\", \"Indonesia\", \"Iran (Islamic Republic of)\", \"Iraq\", \"Ireland\", \"Israel\", \"Italy\", \"Jamaica\", \"Japan\", \"Jordan\", \"Kazakhstan\", \"Kenya\", \"Kiribati\", \"Kuwait\", \"Kyrgyzstan\", \"Lao People's Democratic Republic\", \"Latvia\", \"Lebanon\", \"Lesotho\", \"Liberia\", \"Libya\", \"Lithuania\", \"Luxembourg\", \"Madagascar\", \"Malawi\", \"Malaysia\", \"Maldives\", \"Mali\", \"Malta\", \"Mauritania\", \"Mauritius\", \"Mexico\", \"Micronesia (Federated States of)\", \"Mongolia\", \"Montenegro\", \"Morocco\", \"Mozambique\", \"Myanmar\", \"Namibia\", \"Nepal\", \"Netherlands\", \"New Zealand\", \"Nicaragua\", \"Niger\", \"Nigeria\", \"Norway\", \"Oman\", \"Pakistan\", \"Panama\", \"Papua New Guinea\", \"Paraguay\", \"Peru\", \"Philippines\", \"Poland\", \"Portugal\", \"Qatar\", \"Republic of Korea\", \"Republic of Moldova\", \"Republic of North Macedonia\", \"Romania\", \"Russian Federation\", \"Rwanda\", \"Saint Lucia\", \"Saint Vincent and the Grenadines\", \"Samoa\", \"Sao Tome and Principe\", \"Saudi Arabia\", \"Senegal\", \"Serbia\", \"Seychelles\", \"Sierra Leone\", \"Singapore\", \"Slovakia\", \"Slovenia\", \"Solomon Islands\", \"Somalia\", \"South Africa\", \"South Sudan\", \"Spain\", \"Sri Lanka\", \"Sudan\", \"Suriname\", \"Sweden\", \"Switzerland\", \"Syrian Arab Republic\", \"Tajikistan\", \"Thailand\", \"Timor-Leste\", \"Togo\", \"Tonga\", \"Trinidad and Tobago\", \"Tunisia\", \"Turkey\", \"Turkmenistan\", \"Uganda\", \"Ukraine\", \"United Arab Emirates\", \"United Kingdom of Great Britain and Northern Ireland\", \"United Republic of Tanzania\", \"United States of America\", \"Uruguay\", \"Uzbekistan\", \"Vanuatu\", \"Venezuela (Bolivarian Republic of)\", \"Viet Nam\", \"Yemen\", \"Zambia\", \"Zimbabwe\"], \"type\": \"choropleth\", \"z\": [8.1, 5.8, 4.7, 13.9, 2.1, 9.5, 3.2, 12.2, 16.0, 2.4, 2.2, 7.3, 7.0, 2.1, 38.7, 18.8, 7.4, 15.6, 16.3, 18.5, 9.7, 15.3, 5.3, 3.7, 14.3, 15.6, 12.9, 15.5, 7.3, 21.3, 11.6, 12.8, 15.0, 11.1, 14.1, 8.0, 8.8, 14.6, 7.7, 16.5, 16.8, 15.8, 2.1, 14.1, 10.2, 10.9, 12.7, 8.6, 10.9, 6.3, 3.9, 14.8, 21.2, 18.9, 25.4, 16.6, 13.7, 4.9, 21.6, 16.9, 8.9, 12.3, 5.4, 11.4, 7.2, 2.9, 2.7, 3.9, 10.6, 9.2, 26.7, 10.3, 3.3, 26.1, 16.0, 18.7, 4.3, 10.7, 3.8, 11.8, 7.4, 5.8, 2.5, 18.8, 4.8, 34.9, 8.2, 15.6, 1.6, 15.4, 12.4, 29.7, 3.2, 26.8, 11.2, 6.2, 46.3, 14.1, 8.5, 11.9, 7.4, 6.5, 9.0, 5.7, 6.2, 10.8, 4.0, 12.6, 19.7, 9.4, 8.2, 14.2, 7.9, 14.5, 18.0, 8.3, 12.7, 18.3, 8.8, 18.5, 12.0, 4.8, 4.0, 6.6, 8.4, 11.0, 6.0, 3.1, 15.2, 5.3, 3.8, 14.2, 15.6, 7.1, 11.7, 47.5, 24.6, 7.4, 7.2, 10.7, 2.7, 3.4, 14.0, 16.8, 9.4, 19.2, 11.7, 12.8, 26.0, 12.7, 8.2, 14.4, 8.0, 6.5, 30.3, 9.5, 26.4, 12.2, 16.8, 1.8, 4.2, 15.9, 13.6, 17.2, 4.5, 15.2, 3.8, 7.3, 9.9, 22.8, 32.0, 3.4, 8.1, 11.8, 10.1, 15.9, 9.1, 8.7, 9.1, 7.5, 9.1, 14.1, 21.7]}],                        {\"geo\": {\"projection\": {\"type\": \"miller\"}, \"showcoastlines\": true, \"showframe\": true}, \"template\": {\"data\": {\"bar\": [{\"error_x\": {\"color\": \"#2a3f5f\"}, \"error_y\": {\"color\": \"#2a3f5f\"}, \"marker\": {\"line\": {\"color\": \"#E5ECF6\", \"width\": 0.5}}, \"type\": \"bar\"}], \"barpolar\": [{\"marker\": {\"line\": {\"color\": \"#E5ECF6\", \"width\": 0.5}}, \"type\": \"barpolar\"}], \"carpet\": [{\"aaxis\": {\"endlinecolor\": \"#2a3f5f\", \"gridcolor\": \"white\", \"linecolor\": \"white\", \"minorgridcolor\": \"white\", \"startlinecolor\": \"#2a3f5f\"}, \"baxis\": {\"endlinecolor\": \"#2a3f5f\", \"gridcolor\": \"white\", \"linecolor\": \"white\", \"minorgridcolor\": \"white\", \"startlinecolor\": \"#2a3f5f\"}, \"type\": \"carpet\"}], \"choropleth\": [{\"colorbar\": {\"outlinewidth\": 0, \"ticks\": \"\"}, \"type\": \"choropleth\"}], \"contour\": [{\"colorbar\": {\"outlinewidth\": 0, \"ticks\": \"\"}, \"colorscale\": [[0.0, \"#0d0887\"], [0.1111111111111111, \"#46039f\"], [0.2222222222222222, \"#7201a8\"], [0.3333333333333333, \"#9c179e\"], [0.4444444444444444, \"#bd3786\"], [0.5555555555555556, \"#d8576b\"], [0.6666666666666666, \"#ed7953\"], [0.7777777777777778, \"#fb9f3a\"], [0.8888888888888888, \"#fdca26\"], [1.0, \"#f0f921\"]], \"type\": \"contour\"}], \"contourcarpet\": [{\"colorbar\": {\"outlinewidth\": 0, \"ticks\": \"\"}, \"type\": \"contourcarpet\"}], \"heatmap\": [{\"colorbar\": {\"outlinewidth\": 0, \"ticks\": \"\"}, \"colorscale\": [[0.0, \"#0d0887\"], [0.1111111111111111, \"#46039f\"], [0.2222222222222222, \"#7201a8\"], [0.3333333333333333, \"#9c179e\"], [0.4444444444444444, \"#bd3786\"], [0.5555555555555556, \"#d8576b\"], [0.6666666666666666, \"#ed7953\"], [0.7777777777777778, \"#fb9f3a\"], [0.8888888888888888, \"#fdca26\"], [1.0, \"#f0f921\"]], \"type\": \"heatmap\"}], \"heatmapgl\": [{\"colorbar\": {\"outlinewidth\": 0, \"ticks\": \"\"}, \"colorscale\": [[0.0, \"#0d0887\"], [0.1111111111111111, \"#46039f\"], [0.2222222222222222, \"#7201a8\"], [0.3333333333333333, \"#9c179e\"], [0.4444444444444444, \"#bd3786\"], [0.5555555555555556, \"#d8576b\"], [0.6666666666666666, \"#ed7953\"], [0.7777777777777778, \"#fb9f3a\"], [0.8888888888888888, \"#fdca26\"], [1.0, \"#f0f921\"]], \"type\": \"heatmapgl\"}], \"histogram\": [{\"marker\": {\"colorbar\": {\"outlinewidth\": 0, \"ticks\": \"\"}}, \"type\": \"histogram\"}], \"histogram2d\": [{\"colorbar\": {\"outlinewidth\": 0, \"ticks\": \"\"}, \"colorscale\": [[0.0, \"#0d0887\"], [0.1111111111111111, \"#46039f\"], [0.2222222222222222, \"#7201a8\"], [0.3333333333333333, \"#9c179e\"], [0.4444444444444444, \"#bd3786\"], [0.5555555555555556, \"#d8576b\"], [0.6666666666666666, \"#ed7953\"], [0.7777777777777778, \"#fb9f3a\"], [0.8888888888888888, \"#fdca26\"], [1.0, \"#f0f921\"]], \"type\": \"histogram2d\"}], \"histogram2dcontour\": [{\"colorbar\": {\"outlinewidth\": 0, \"ticks\": \"\"}, \"colorscale\": [[0.0, \"#0d0887\"], [0.1111111111111111, \"#46039f\"], [0.2222222222222222, \"#7201a8\"], [0.3333333333333333, \"#9c179e\"], [0.4444444444444444, \"#bd3786\"], [0.5555555555555556, \"#d8576b\"], [0.6666666666666666, \"#ed7953\"], [0.7777777777777778, \"#fb9f3a\"], [0.8888888888888888, \"#fdca26\"], [1.0, \"#f0f921\"]], \"type\": \"histogram2dcontour\"}], \"mesh3d\": [{\"colorbar\": {\"outlinewidth\": 0, \"ticks\": \"\"}, \"type\": \"mesh3d\"}], \"parcoords\": [{\"line\": {\"colorbar\": {\"outlinewidth\": 0, \"ticks\": \"\"}}, \"type\": \"parcoords\"}], \"pie\": [{\"automargin\": true, \"type\": \"pie\"}], \"scatter\": [{\"marker\": {\"colorbar\": {\"outlinewidth\": 0, \"ticks\": \"\"}}, \"type\": \"scatter\"}], \"scatter3d\": [{\"line\": {\"colorbar\": {\"outlinewidth\": 0, \"ticks\": \"\"}}, \"marker\": {\"colorbar\": {\"outlinewidth\": 0, \"ticks\": \"\"}}, \"type\": \"scatter3d\"}], \"scattercarpet\": [{\"marker\": {\"colorbar\": {\"outlinewidth\": 0, \"ticks\": \"\"}}, \"type\": \"scattercarpet\"}], \"scattergeo\": [{\"marker\": {\"colorbar\": {\"outlinewidth\": 0, \"ticks\": \"\"}}, \"type\": \"scattergeo\"}], \"scattergl\": [{\"marker\": {\"colorbar\": {\"outlinewidth\": 0, \"ticks\": \"\"}}, \"type\": \"scattergl\"}], \"scattermapbox\": [{\"marker\": {\"colorbar\": {\"outlinewidth\": 0, \"ticks\": \"\"}}, \"type\": \"scattermapbox\"}], \"scatterpolar\": [{\"marker\": {\"colorbar\": {\"outlinewidth\": 0, \"ticks\": \"\"}}, \"type\": \"scatterpolar\"}], \"scatterpolargl\": [{\"marker\": {\"colorbar\": {\"outlinewidth\": 0, \"ticks\": \"\"}}, \"type\": \"scatterpolargl\"}], \"scatterternary\": [{\"marker\": {\"colorbar\": {\"outlinewidth\": 0, \"ticks\": \"\"}}, \"type\": \"scatterternary\"}], \"surface\": [{\"colorbar\": {\"outlinewidth\": 0, \"ticks\": \"\"}, \"colorscale\": [[0.0, \"#0d0887\"], [0.1111111111111111, \"#46039f\"], [0.2222222222222222, \"#7201a8\"], [0.3333333333333333, \"#9c179e\"], [0.4444444444444444, \"#bd3786\"], [0.5555555555555556, \"#d8576b\"], [0.6666666666666666, \"#ed7953\"], [0.7777777777777778, \"#fb9f3a\"], [0.8888888888888888, \"#fdca26\"], [1.0, \"#f0f921\"]], \"type\": \"surface\"}], \"table\": [{\"cells\": {\"fill\": {\"color\": \"#EBF0F8\"}, \"line\": {\"color\": \"white\"}}, \"header\": {\"fill\": {\"color\": \"#C8D4E3\"}, \"line\": {\"color\": \"white\"}}, \"type\": \"table\"}]}, \"layout\": {\"annotationdefaults\": {\"arrowcolor\": \"#2a3f5f\", \"arrowhead\": 0, \"arrowwidth\": 1}, \"autotypenumbers\": \"strict\", \"coloraxis\": {\"colorbar\": {\"outlinewidth\": 0, \"ticks\": \"\"}}, \"colorscale\": {\"diverging\": [[0, \"#8e0152\"], [0.1, \"#c51b7d\"], [0.2, \"#de77ae\"], [0.3, \"#f1b6da\"], [0.4, \"#fde0ef\"], [0.5, \"#f7f7f7\"], [0.6, \"#e6f5d0\"], [0.7, \"#b8e186\"], [0.8, \"#7fbc41\"], [0.9, \"#4d9221\"], [1, \"#276419\"]], \"sequential\": [[0.0, \"#0d0887\"], [0.1111111111111111, \"#46039f\"], [0.2222222222222222, \"#7201a8\"], [0.3333333333333333, \"#9c179e\"], [0.4444444444444444, \"#bd3786\"], [0.5555555555555556, \"#d8576b\"], [0.6666666666666666, \"#ed7953\"], [0.7777777777777778, \"#fb9f3a\"], [0.8888888888888888, \"#fdca26\"], [1.0, \"#f0f921\"]], \"sequentialminus\": [[0.0, \"#0d0887\"], [0.1111111111111111, \"#46039f\"], [0.2222222222222222, \"#7201a8\"], [0.3333333333333333, \"#9c179e\"], [0.4444444444444444, \"#bd3786\"], [0.5555555555555556, \"#d8576b\"], [0.6666666666666666, \"#ed7953\"], [0.7777777777777778, \"#fb9f3a\"], [0.8888888888888888, \"#fdca26\"], [1.0, \"#f0f921\"]]}, \"colorway\": [\"#636efa\", \"#EF553B\", \"#00cc96\", \"#ab63fa\", \"#FFA15A\", \"#19d3f3\", \"#FF6692\", \"#B6E880\", \"#FF97FF\", \"#FECB52\"], \"font\": {\"color\": \"#2a3f5f\"}, \"geo\": {\"bgcolor\": \"white\", \"lakecolor\": \"white\", \"landcolor\": \"#E5ECF6\", \"showlakes\": true, \"showland\": true, \"subunitcolor\": \"white\"}, \"hoverlabel\": {\"align\": \"left\"}, \"hovermode\": \"closest\", \"mapbox\": {\"style\": \"light\"}, \"paper_bgcolor\": \"white\", \"plot_bgcolor\": \"#E5ECF6\", \"polar\": {\"angularaxis\": {\"gridcolor\": \"white\", \"linecolor\": \"white\", \"ticks\": \"\"}, \"bgcolor\": \"#E5ECF6\", \"radialaxis\": {\"gridcolor\": \"white\", \"linecolor\": \"white\", \"ticks\": \"\"}}, \"scene\": {\"xaxis\": {\"backgroundcolor\": \"#E5ECF6\", \"gridcolor\": \"white\", \"gridwidth\": 2, \"linecolor\": \"white\", \"showbackground\": true, \"ticks\": \"\", \"zerolinecolor\": \"white\"}, \"yaxis\": {\"backgroundcolor\": \"#E5ECF6\", \"gridcolor\": \"white\", \"gridwidth\": 2, \"linecolor\": \"white\", \"showbackground\": true, \"ticks\": \"\", \"zerolinecolor\": \"white\"}, \"zaxis\": {\"backgroundcolor\": \"#E5ECF6\", \"gridcolor\": \"white\", \"gridwidth\": 2, \"linecolor\": \"white\", \"showbackground\": true, \"ticks\": \"\", \"zerolinecolor\": \"white\"}}, \"shapedefaults\": {\"line\": {\"color\": \"#2a3f5f\"}}, \"ternary\": {\"aaxis\": {\"gridcolor\": \"white\", \"linecolor\": \"white\", \"ticks\": \"\"}, \"baxis\": {\"gridcolor\": \"white\", \"linecolor\": \"white\", \"ticks\": \"\"}, \"bgcolor\": \"#E5ECF6\", \"caxis\": {\"gridcolor\": \"white\", \"linecolor\": \"white\", \"ticks\": \"\"}}, \"title\": {\"x\": 0.05}, \"xaxis\": {\"automargin\": true, \"gridcolor\": \"white\", \"linecolor\": \"white\", \"ticks\": \"\", \"title\": {\"standoff\": 15}, \"zerolinecolor\": \"white\", \"zerolinewidth\": 2}, \"yaxis\": {\"automargin\": true, \"gridcolor\": \"white\", \"linecolor\": \"white\", \"ticks\": \"\", \"title\": {\"standoff\": 15}, \"zerolinecolor\": \"white\", \"zerolinewidth\": 2}}}, \"title\": {\"text\": \"Suicide rate in 2000\"}},                        {\"responsive\": true}                    ).then(function(){\n",
       "                            \n",
       "var gd = document.getElementById('44925b58-fca8-42f4-bf39-187abaef5e0a');\n",
       "var x = new MutationObserver(function (mutations, observer) {{\n",
       "        var display = window.getComputedStyle(gd).display;\n",
       "        if (!display || display === 'none') {{\n",
       "            console.log([gd, 'removed!']);\n",
       "            Plotly.purge(gd);\n",
       "            observer.disconnect();\n",
       "        }}\n",
       "}});\n",
       "\n",
       "// Listen for the removal of the full notebook cells\n",
       "var notebookContainer = gd.closest('#notebook-container');\n",
       "if (notebookContainer) {{\n",
       "    x.observe(notebookContainer, {childList: true});\n",
       "}}\n",
       "\n",
       "// Listen for the clearing of the current output cell\n",
       "var outputEl = gd.closest('.output');\n",
       "if (outputEl) {{\n",
       "    x.observe(outputEl, {childList: true});\n",
       "}}\n",
       "\n",
       "                        })                };                });            </script>        </div>"
      ]
     },
     "metadata": {},
     "output_type": "display_data"
    }
   ],
   "source": [
    "iplot(choromap4) "
   ]
  },
  {
   "cell_type": "code",
   "execution_count": 47,
   "id": "married-unknown",
   "metadata": {
    "execution": {
     "iopub.execute_input": "2021-06-28T10:18:15.039674Z",
     "iopub.status.busy": "2021-06-28T10:18:15.038975Z",
     "iopub.status.idle": "2021-06-28T10:18:15.068613Z",
     "shell.execute_reply": "2021-06-28T10:18:15.069127Z",
     "shell.execute_reply.started": "2021-06-26T19:26:38.698868Z"
    },
    "papermill": {
     "duration": 0.135462,
     "end_time": "2021-06-28T10:18:15.069330",
     "exception": false,
     "start_time": "2021-06-28T10:18:14.933868",
     "status": "completed"
    },
    "tags": []
   },
   "outputs": [
    {
     "data": {
      "text/html": [
       "<div>                            <div id=\"634b6bbe-1253-408d-9839-dff94e55999b\" class=\"plotly-graph-div\" style=\"height:525px; width:100%;\"></div>            <script type=\"text/javascript\">                require([\"plotly\"], function(Plotly) {                    window.PLOTLYENV=window.PLOTLYENV || {};                                    if (document.getElementById(\"634b6bbe-1253-408d-9839-dff94e55999b\")) {                    Plotly.newPlot(                        \"634b6bbe-1253-408d-9839-dff94e55999b\",                        [{\"colorbar\": {\"title\": {\"text\": \"suicide rate per 100.000 inhabitants\"}}, \"colorscale\": [[0.0, \"rgb(127,39,4)\"], [0.125, \"rgb(166,54,3)\"], [0.25, \"rgb(217,72,1)\"], [0.375, \"rgb(241,105,19)\"], [0.5, \"rgb(253,141,60)\"], [0.625, \"rgb(253,174,107)\"], [0.75, \"rgb(253,208,162)\"], [0.875, \"rgb(254,230,206)\"], [1.0, \"rgb(255,245,235)\"]], \"locationmode\": \"country names\", \"locations\": [\"Afghanistan\", \"Albania\", \"Algeria\", \"Angola\", \"Antigua and Barbuda\", \"Argentina\", \"Armenia\", \"Australia\", \"Austria\", \"Azerbaijan\", \"Bahamas\", \"Bahrain\", \"Bangladesh\", \"Barbados\", \"Belarus\", \"Belgium\", \"Belize\", \"Benin\", \"Bhutan\", \"Bolivia (Plurinational State of)\", \"Bosnia and Herzegovina\", \"Botswana\", \"Brazil\", \"Brunei Darussalam\", \"Bulgaria\", \"Burkina Faso\", \"Burundi\", \"Cabo Verde\", \"Cambodia\", \"Cameroon\", \"Canada\", \"Central African Republic\", \"Chad\", \"Chile\", \"China\", \"Colombia\", \"Comoros\", \"Congo\", \"Costa Rica\", \"C\\u00f4te d'Ivoire\", \"Croatia\", \"Cuba\", \"Cyprus\", \"Czechia\", \"Democratic People's Republic of Korea\", \"Democratic Republic of the Congo\", \"Denmark\", \"Djibouti\", \"Dominican Republic\", \"Ecuador\", \"Egypt\", \"El Salvador\", \"Equatorial Guinea\", \"Eritrea\", \"Estonia\", \"Eswatini\", \"Ethiopia\", \"Fiji\", \"Finland\", \"France\", \"Gabon\", \"Gambia\", \"Georgia\", \"Germany\", \"Ghana\", \"Greece\", \"Grenada\", \"Guatemala\", \"Guinea\", \"Guinea-Bissau\", \"Guyana\", \"Haiti\", \"Honduras\", \"Hungary\", \"Iceland\", \"India\", \"Indonesia\", \"Iran (Islamic Republic of)\", \"Iraq\", \"Ireland\", \"Israel\", \"Italy\", \"Jamaica\", \"Japan\", \"Jordan\", \"Kazakhstan\", \"Kenya\", \"Kiribati\", \"Kuwait\", \"Kyrgyzstan\", \"Lao People's Democratic Republic\", \"Latvia\", \"Lebanon\", \"Lesotho\", \"Liberia\", \"Libya\", \"Lithuania\", \"Luxembourg\", \"Madagascar\", \"Malawi\", \"Malaysia\", \"Maldives\", \"Mali\", \"Malta\", \"Mauritania\", \"Mauritius\", \"Mexico\", \"Micronesia (Federated States of)\", \"Mongolia\", \"Montenegro\", \"Morocco\", \"Mozambique\", \"Myanmar\", \"Namibia\", \"Nepal\", \"Netherlands\", \"New Zealand\", \"Nicaragua\", \"Niger\", \"Nigeria\", \"Norway\", \"Oman\", \"Pakistan\", \"Panama\", \"Papua New Guinea\", \"Paraguay\", \"Peru\", \"Philippines\", \"Poland\", \"Portugal\", \"Qatar\", \"Republic of Korea\", \"Republic of Moldova\", \"Republic of North Macedonia\", \"Romania\", \"Russian Federation\", \"Rwanda\", \"Saint Lucia\", \"Saint Vincent and the Grenadines\", \"Samoa\", \"Sao Tome and Principe\", \"Saudi Arabia\", \"Senegal\", \"Serbia\", \"Seychelles\", \"Sierra Leone\", \"Singapore\", \"Slovakia\", \"Slovenia\", \"Solomon Islands\", \"Somalia\", \"South Africa\", \"South Sudan\", \"Spain\", \"Sri Lanka\", \"Sudan\", \"Suriname\", \"Sweden\", \"Switzerland\", \"Syrian Arab Republic\", \"Tajikistan\", \"Thailand\", \"Timor-Leste\", \"Togo\", \"Tonga\", \"Trinidad and Tobago\", \"Tunisia\", \"Turkey\", \"Turkmenistan\", \"Uganda\", \"Ukraine\", \"United Arab Emirates\", \"United Kingdom of Great Britain and Northern Ireland\", \"United Republic of Tanzania\", \"United States of America\", \"Uruguay\", \"Uzbekistan\", \"Vanuatu\", \"Venezuela (Bolivarian Republic of)\", \"Viet Nam\", \"Yemen\", \"Zambia\", \"Zimbabwe\"], \"reversescale\": true, \"text\": [\"Afghanistan\", \"Albania\", \"Algeria\", \"Angola\", \"Antigua and Barbuda\", \"Argentina\", \"Armenia\", \"Australia\", \"Austria\", \"Azerbaijan\", \"Bahamas\", \"Bahrain\", \"Bangladesh\", \"Barbados\", \"Belarus\", \"Belgium\", \"Belize\", \"Benin\", \"Bhutan\", \"Bolivia (Plurinational State of)\", \"Bosnia and Herzegovina\", \"Botswana\", \"Brazil\", \"Brunei Darussalam\", \"Bulgaria\", \"Burkina Faso\", \"Burundi\", \"Cabo Verde\", \"Cambodia\", \"Cameroon\", \"Canada\", \"Central African Republic\", \"Chad\", \"Chile\", \"China\", \"Colombia\", \"Comoros\", \"Congo\", \"Costa Rica\", \"C\\u00f4te d'Ivoire\", \"Croatia\", \"Cuba\", \"Cyprus\", \"Czechia\", \"Democratic People's Republic of Korea\", \"Democratic Republic of the Congo\", \"Denmark\", \"Djibouti\", \"Dominican Republic\", \"Ecuador\", \"Egypt\", \"El Salvador\", \"Equatorial Guinea\", \"Eritrea\", \"Estonia\", \"Eswatini\", \"Ethiopia\", \"Fiji\", \"Finland\", \"France\", \"Gabon\", \"Gambia\", \"Georgia\", \"Germany\", \"Ghana\", \"Greece\", \"Grenada\", \"Guatemala\", \"Guinea\", \"Guinea-Bissau\", \"Guyana\", \"Haiti\", \"Honduras\", \"Hungary\", \"Iceland\", \"India\", \"Indonesia\", \"Iran (Islamic Republic of)\", \"Iraq\", \"Ireland\", \"Israel\", \"Italy\", \"Jamaica\", \"Japan\", \"Jordan\", \"Kazakhstan\", \"Kenya\", \"Kiribati\", \"Kuwait\", \"Kyrgyzstan\", \"Lao People's Democratic Republic\", \"Latvia\", \"Lebanon\", \"Lesotho\", \"Liberia\", \"Libya\", \"Lithuania\", \"Luxembourg\", \"Madagascar\", \"Malawi\", \"Malaysia\", \"Maldives\", \"Mali\", \"Malta\", \"Mauritania\", \"Mauritius\", \"Mexico\", \"Micronesia (Federated States of)\", \"Mongolia\", \"Montenegro\", \"Morocco\", \"Mozambique\", \"Myanmar\", \"Namibia\", \"Nepal\", \"Netherlands\", \"New Zealand\", \"Nicaragua\", \"Niger\", \"Nigeria\", \"Norway\", \"Oman\", \"Pakistan\", \"Panama\", \"Papua New Guinea\", \"Paraguay\", \"Peru\", \"Philippines\", \"Poland\", \"Portugal\", \"Qatar\", \"Republic of Korea\", \"Republic of Moldova\", \"Republic of North Macedonia\", \"Romania\", \"Russian Federation\", \"Rwanda\", \"Saint Lucia\", \"Saint Vincent and the Grenadines\", \"Samoa\", \"Sao Tome and Principe\", \"Saudi Arabia\", \"Senegal\", \"Serbia\", \"Seychelles\", \"Sierra Leone\", \"Singapore\", \"Slovakia\", \"Slovenia\", \"Solomon Islands\", \"Somalia\", \"South Africa\", \"South Sudan\", \"Spain\", \"Sri Lanka\", \"Sudan\", \"Suriname\", \"Sweden\", \"Switzerland\", \"Syrian Arab Republic\", \"Tajikistan\", \"Thailand\", \"Timor-Leste\", \"Togo\", \"Tonga\", \"Trinidad and Tobago\", \"Tunisia\", \"Turkey\", \"Turkmenistan\", \"Uganda\", \"Ukraine\", \"United Arab Emirates\", \"United Kingdom of Great Britain and Northern Ireland\", \"United Republic of Tanzania\", \"United States of America\", \"Uruguay\", \"Uzbekistan\", \"Vanuatu\", \"Venezuela (Bolivarian Republic of)\", \"Viet Nam\", \"Yemen\", \"Zambia\", \"Zimbabwe\"], \"type\": \"choropleth\", \"z\": [6.4, 5.6, 3.3, 8.9, 0.5, 9.1, 5.7, 11.7, 11.4, 2.6, 1.6, 5.7, 6.1, 0.4, 21.4, 15.7, 5.9, 15.7, 11.6, 12.9, 6.4, 11.5, 6.1, 4.5, 7.9, 14.8, 15.0, 15.1, 5.9, 19.5, 10.4, 11.6, 15.5, 9.7, 8.0, 7.0, 11.1, 9.3, 7.5, 23.0, 11.5, 10.1, 4.5, 10.5, 10.6, 9.7, 9.2, 8.5, 10.5, 7.2, 4.4, 13.5, 22.0, 13.8, 14.4, 16.7, 11.4, 5.5, 13.8, 12.1, 9.6, 10.0, 6.7, 9.1, 8.7, 3.8, 1.7, 2.9, 10.5, 7.4, 30.2, 12.2, 3.4, 13.6, 13.3, 16.5, 3.7, 4.0, 4.1, 10.9, 5.2, 5.5, 2.0, 14.3, 3.7, 22.8, 5.6, 15.2, 2.2, 9.1, 9.3, 17.2, 3.2, 28.9, 13.4, 5.5, 25.7, 10.4, 6.9, 7.8, 6.2, 2.7, 8.9, 6.5, 7.5, 7.3, 5.2, 11.3, 13.3, 7.9, 3.1, 8.4, 8.1, 11.5, 9.6, 9.6, 11.6, 11.9, 9.0, 17.3, 10.1, 3.5, 3.1, 4.4, 7.0, 9.3, 5.1, 3.7, 13.4, 8.6, 5.8, 20.2, 13.4, 6.2, 8.0, 26.5, 11.0, 7.3, 2.4, 5.4, 3.1, 3.4, 11.8, 10.9, 8.3, 16.1, 7.9, 10.1, 13.3, 5.9, 8.3, 12.8, 6.1, 6.1, 14.2, 9.5, 23.2, 11.7, 11.3, 2.4, 3.3, 12.9, 6.4, 16.6, 4.0, 12.9, 3.2, 7.2, 7.2, 20.0, 18.5, 2.7, 7.6, 9.6, 13.7, 16.5, 7.4, 5.4, 3.8, 7.0, 9.8, 11.3, 19.1]}],                        {\"geo\": {\"projection\": {\"type\": \"miller\"}, \"showcoastlines\": true, \"showframe\": true}, \"template\": {\"data\": {\"bar\": [{\"error_x\": {\"color\": \"#2a3f5f\"}, \"error_y\": {\"color\": \"#2a3f5f\"}, \"marker\": {\"line\": {\"color\": \"#E5ECF6\", \"width\": 0.5}}, \"type\": \"bar\"}], \"barpolar\": [{\"marker\": {\"line\": {\"color\": \"#E5ECF6\", \"width\": 0.5}}, \"type\": \"barpolar\"}], \"carpet\": [{\"aaxis\": {\"endlinecolor\": \"#2a3f5f\", \"gridcolor\": \"white\", \"linecolor\": \"white\", \"minorgridcolor\": \"white\", \"startlinecolor\": \"#2a3f5f\"}, \"baxis\": {\"endlinecolor\": \"#2a3f5f\", \"gridcolor\": \"white\", \"linecolor\": \"white\", \"minorgridcolor\": \"white\", \"startlinecolor\": \"#2a3f5f\"}, \"type\": \"carpet\"}], \"choropleth\": [{\"colorbar\": {\"outlinewidth\": 0, \"ticks\": \"\"}, \"type\": \"choropleth\"}], \"contour\": [{\"colorbar\": {\"outlinewidth\": 0, \"ticks\": \"\"}, \"colorscale\": [[0.0, \"#0d0887\"], [0.1111111111111111, \"#46039f\"], [0.2222222222222222, \"#7201a8\"], [0.3333333333333333, \"#9c179e\"], [0.4444444444444444, \"#bd3786\"], [0.5555555555555556, \"#d8576b\"], [0.6666666666666666, \"#ed7953\"], [0.7777777777777778, \"#fb9f3a\"], [0.8888888888888888, \"#fdca26\"], [1.0, \"#f0f921\"]], \"type\": \"contour\"}], \"contourcarpet\": [{\"colorbar\": {\"outlinewidth\": 0, \"ticks\": \"\"}, \"type\": \"contourcarpet\"}], \"heatmap\": [{\"colorbar\": {\"outlinewidth\": 0, \"ticks\": \"\"}, \"colorscale\": [[0.0, \"#0d0887\"], [0.1111111111111111, \"#46039f\"], [0.2222222222222222, \"#7201a8\"], [0.3333333333333333, \"#9c179e\"], [0.4444444444444444, \"#bd3786\"], [0.5555555555555556, \"#d8576b\"], [0.6666666666666666, \"#ed7953\"], [0.7777777777777778, \"#fb9f3a\"], [0.8888888888888888, \"#fdca26\"], [1.0, \"#f0f921\"]], \"type\": \"heatmap\"}], \"heatmapgl\": [{\"colorbar\": {\"outlinewidth\": 0, \"ticks\": \"\"}, \"colorscale\": [[0.0, \"#0d0887\"], [0.1111111111111111, \"#46039f\"], [0.2222222222222222, \"#7201a8\"], [0.3333333333333333, \"#9c179e\"], [0.4444444444444444, \"#bd3786\"], [0.5555555555555556, \"#d8576b\"], [0.6666666666666666, \"#ed7953\"], [0.7777777777777778, \"#fb9f3a\"], [0.8888888888888888, \"#fdca26\"], [1.0, \"#f0f921\"]], \"type\": \"heatmapgl\"}], \"histogram\": [{\"marker\": {\"colorbar\": {\"outlinewidth\": 0, \"ticks\": \"\"}}, \"type\": \"histogram\"}], \"histogram2d\": [{\"colorbar\": {\"outlinewidth\": 0, \"ticks\": \"\"}, \"colorscale\": [[0.0, \"#0d0887\"], [0.1111111111111111, \"#46039f\"], [0.2222222222222222, \"#7201a8\"], [0.3333333333333333, \"#9c179e\"], [0.4444444444444444, \"#bd3786\"], [0.5555555555555556, \"#d8576b\"], [0.6666666666666666, \"#ed7953\"], [0.7777777777777778, \"#fb9f3a\"], [0.8888888888888888, \"#fdca26\"], [1.0, \"#f0f921\"]], \"type\": \"histogram2d\"}], \"histogram2dcontour\": [{\"colorbar\": {\"outlinewidth\": 0, \"ticks\": \"\"}, \"colorscale\": [[0.0, \"#0d0887\"], [0.1111111111111111, \"#46039f\"], [0.2222222222222222, \"#7201a8\"], [0.3333333333333333, \"#9c179e\"], [0.4444444444444444, \"#bd3786\"], [0.5555555555555556, \"#d8576b\"], [0.6666666666666666, \"#ed7953\"], [0.7777777777777778, \"#fb9f3a\"], [0.8888888888888888, \"#fdca26\"], [1.0, \"#f0f921\"]], \"type\": \"histogram2dcontour\"}], \"mesh3d\": [{\"colorbar\": {\"outlinewidth\": 0, \"ticks\": \"\"}, \"type\": \"mesh3d\"}], \"parcoords\": [{\"line\": {\"colorbar\": {\"outlinewidth\": 0, \"ticks\": \"\"}}, \"type\": \"parcoords\"}], \"pie\": [{\"automargin\": true, \"type\": \"pie\"}], \"scatter\": [{\"marker\": {\"colorbar\": {\"outlinewidth\": 0, \"ticks\": \"\"}}, \"type\": \"scatter\"}], \"scatter3d\": [{\"line\": {\"colorbar\": {\"outlinewidth\": 0, \"ticks\": \"\"}}, \"marker\": {\"colorbar\": {\"outlinewidth\": 0, \"ticks\": \"\"}}, \"type\": \"scatter3d\"}], \"scattercarpet\": [{\"marker\": {\"colorbar\": {\"outlinewidth\": 0, \"ticks\": \"\"}}, \"type\": \"scattercarpet\"}], \"scattergeo\": [{\"marker\": {\"colorbar\": {\"outlinewidth\": 0, \"ticks\": \"\"}}, \"type\": \"scattergeo\"}], \"scattergl\": [{\"marker\": {\"colorbar\": {\"outlinewidth\": 0, \"ticks\": \"\"}}, \"type\": \"scattergl\"}], \"scattermapbox\": [{\"marker\": {\"colorbar\": {\"outlinewidth\": 0, \"ticks\": \"\"}}, \"type\": \"scattermapbox\"}], \"scatterpolar\": [{\"marker\": {\"colorbar\": {\"outlinewidth\": 0, \"ticks\": \"\"}}, \"type\": \"scatterpolar\"}], \"scatterpolargl\": [{\"marker\": {\"colorbar\": {\"outlinewidth\": 0, \"ticks\": \"\"}}, \"type\": \"scatterpolargl\"}], \"scatterternary\": [{\"marker\": {\"colorbar\": {\"outlinewidth\": 0, \"ticks\": \"\"}}, \"type\": \"scatterternary\"}], \"surface\": [{\"colorbar\": {\"outlinewidth\": 0, \"ticks\": \"\"}, \"colorscale\": [[0.0, \"#0d0887\"], [0.1111111111111111, \"#46039f\"], [0.2222222222222222, \"#7201a8\"], [0.3333333333333333, \"#9c179e\"], [0.4444444444444444, \"#bd3786\"], [0.5555555555555556, \"#d8576b\"], [0.6666666666666666, \"#ed7953\"], [0.7777777777777778, \"#fb9f3a\"], [0.8888888888888888, \"#fdca26\"], [1.0, \"#f0f921\"]], \"type\": \"surface\"}], \"table\": [{\"cells\": {\"fill\": {\"color\": \"#EBF0F8\"}, \"line\": {\"color\": \"white\"}}, \"header\": {\"fill\": {\"color\": \"#C8D4E3\"}, \"line\": {\"color\": \"white\"}}, \"type\": \"table\"}]}, \"layout\": {\"annotationdefaults\": {\"arrowcolor\": \"#2a3f5f\", \"arrowhead\": 0, \"arrowwidth\": 1}, \"autotypenumbers\": \"strict\", \"coloraxis\": {\"colorbar\": {\"outlinewidth\": 0, \"ticks\": \"\"}}, \"colorscale\": {\"diverging\": [[0, \"#8e0152\"], [0.1, \"#c51b7d\"], [0.2, \"#de77ae\"], [0.3, \"#f1b6da\"], [0.4, \"#fde0ef\"], [0.5, \"#f7f7f7\"], [0.6, \"#e6f5d0\"], [0.7, \"#b8e186\"], [0.8, \"#7fbc41\"], [0.9, \"#4d9221\"], [1, \"#276419\"]], \"sequential\": [[0.0, \"#0d0887\"], [0.1111111111111111, \"#46039f\"], [0.2222222222222222, \"#7201a8\"], [0.3333333333333333, \"#9c179e\"], [0.4444444444444444, \"#bd3786\"], [0.5555555555555556, \"#d8576b\"], [0.6666666666666666, \"#ed7953\"], [0.7777777777777778, \"#fb9f3a\"], [0.8888888888888888, \"#fdca26\"], [1.0, \"#f0f921\"]], \"sequentialminus\": [[0.0, \"#0d0887\"], [0.1111111111111111, \"#46039f\"], [0.2222222222222222, \"#7201a8\"], [0.3333333333333333, \"#9c179e\"], [0.4444444444444444, \"#bd3786\"], [0.5555555555555556, \"#d8576b\"], [0.6666666666666666, \"#ed7953\"], [0.7777777777777778, \"#fb9f3a\"], [0.8888888888888888, \"#fdca26\"], [1.0, \"#f0f921\"]]}, \"colorway\": [\"#636efa\", \"#EF553B\", \"#00cc96\", \"#ab63fa\", \"#FFA15A\", \"#19d3f3\", \"#FF6692\", \"#B6E880\", \"#FF97FF\", \"#FECB52\"], \"font\": {\"color\": \"#2a3f5f\"}, \"geo\": {\"bgcolor\": \"white\", \"lakecolor\": \"white\", \"landcolor\": \"#E5ECF6\", \"showlakes\": true, \"showland\": true, \"subunitcolor\": \"white\"}, \"hoverlabel\": {\"align\": \"left\"}, \"hovermode\": \"closest\", \"mapbox\": {\"style\": \"light\"}, \"paper_bgcolor\": \"white\", \"plot_bgcolor\": \"#E5ECF6\", \"polar\": {\"angularaxis\": {\"gridcolor\": \"white\", \"linecolor\": \"white\", \"ticks\": \"\"}, \"bgcolor\": \"#E5ECF6\", \"radialaxis\": {\"gridcolor\": \"white\", \"linecolor\": \"white\", \"ticks\": \"\"}}, \"scene\": {\"xaxis\": {\"backgroundcolor\": \"#E5ECF6\", \"gridcolor\": \"white\", \"gridwidth\": 2, \"linecolor\": \"white\", \"showbackground\": true, \"ticks\": \"\", \"zerolinecolor\": \"white\"}, \"yaxis\": {\"backgroundcolor\": \"#E5ECF6\", \"gridcolor\": \"white\", \"gridwidth\": 2, \"linecolor\": \"white\", \"showbackground\": true, \"ticks\": \"\", \"zerolinecolor\": \"white\"}, \"zaxis\": {\"backgroundcolor\": \"#E5ECF6\", \"gridcolor\": \"white\", \"gridwidth\": 2, \"linecolor\": \"white\", \"showbackground\": true, \"ticks\": \"\", \"zerolinecolor\": \"white\"}}, \"shapedefaults\": {\"line\": {\"color\": \"#2a3f5f\"}}, \"ternary\": {\"aaxis\": {\"gridcolor\": \"white\", \"linecolor\": \"white\", \"ticks\": \"\"}, \"baxis\": {\"gridcolor\": \"white\", \"linecolor\": \"white\", \"ticks\": \"\"}, \"bgcolor\": \"#E5ECF6\", \"caxis\": {\"gridcolor\": \"white\", \"linecolor\": \"white\", \"ticks\": \"\"}}, \"title\": {\"x\": 0.05}, \"xaxis\": {\"automargin\": true, \"gridcolor\": \"white\", \"linecolor\": \"white\", \"ticks\": \"\", \"title\": {\"standoff\": 15}, \"zerolinecolor\": \"white\", \"zerolinewidth\": 2}, \"yaxis\": {\"automargin\": true, \"gridcolor\": \"white\", \"linecolor\": \"white\", \"ticks\": \"\", \"title\": {\"standoff\": 15}, \"zerolinecolor\": \"white\", \"zerolinewidth\": 2}}}, \"title\": {\"text\": \"Suicide rate in 2016\"}},                        {\"responsive\": true}                    ).then(function(){\n",
       "                            \n",
       "var gd = document.getElementById('634b6bbe-1253-408d-9839-dff94e55999b');\n",
       "var x = new MutationObserver(function (mutations, observer) {{\n",
       "        var display = window.getComputedStyle(gd).display;\n",
       "        if (!display || display === 'none') {{\n",
       "            console.log([gd, 'removed!']);\n",
       "            Plotly.purge(gd);\n",
       "            observer.disconnect();\n",
       "        }}\n",
       "}});\n",
       "\n",
       "// Listen for the removal of the full notebook cells\n",
       "var notebookContainer = gd.closest('#notebook-container');\n",
       "if (notebookContainer) {{\n",
       "    x.observe(notebookContainer, {childList: true});\n",
       "}}\n",
       "\n",
       "// Listen for the clearing of the current output cell\n",
       "var outputEl = gd.closest('.output');\n",
       "if (outputEl) {{\n",
       "    x.observe(outputEl, {childList: true});\n",
       "}}\n",
       "\n",
       "                        })                };                });            </script>        </div>"
      ]
     },
     "metadata": {},
     "output_type": "display_data"
    }
   ],
   "source": [
    "iplot(choromap3)"
   ]
  },
  {
   "cell_type": "markdown",
   "id": "sorted-carpet",
   "metadata": {
    "papermill": {
     "duration": 0.088523,
     "end_time": "2021-06-28T10:18:15.247968",
     "exception": false,
     "start_time": "2021-06-28T10:18:15.159445",
     "status": "completed"
    },
    "tags": []
   },
   "source": [
    "## Import datasets including human resources & facilities. "
   ]
  },
  {
   "cell_type": "code",
   "execution_count": 48,
   "id": "transsexual-narrow",
   "metadata": {
    "execution": {
     "iopub.execute_input": "2021-06-28T10:18:15.456650Z",
     "iopub.status.busy": "2021-06-28T10:18:15.455822Z",
     "iopub.status.idle": "2021-06-28T10:18:15.478610Z",
     "shell.execute_reply": "2021-06-28T10:18:15.479199Z",
     "shell.execute_reply.started": "2021-06-26T19:26:38.735957Z"
    },
    "papermill": {
     "duration": 0.142207,
     "end_time": "2021-06-28T10:18:15.479425",
     "exception": false,
     "start_time": "2021-06-28T10:18:15.337218",
     "status": "completed"
    },
    "tags": []
   },
   "outputs": [],
   "source": [
    "fac = pd.read_csv('/kaggle/input/mental-health-and-suicide-rates/Facilities.csv')\n",
    "hhrr= pd.read_csv('/kaggle/input/mental-health-and-suicide-rates/Human Resources.csv')"
   ]
  },
  {
   "cell_type": "code",
   "execution_count": 49,
   "id": "surprising-functionality",
   "metadata": {
    "execution": {
     "iopub.execute_input": "2021-06-28T10:18:15.661814Z",
     "iopub.status.busy": "2021-06-28T10:18:15.661157Z",
     "iopub.status.idle": "2021-06-28T10:18:15.677252Z",
     "shell.execute_reply": "2021-06-28T10:18:15.677738Z",
     "shell.execute_reply.started": "2021-06-26T19:26:38.753178Z"
    },
    "papermill": {
     "duration": 0.10928,
     "end_time": "2021-06-28T10:18:15.677993",
     "exception": false,
     "start_time": "2021-06-28T10:18:15.568713",
     "status": "completed"
    },
    "tags": []
   },
   "outputs": [
    {
     "data": {
      "text/html": [
       "<div>\n",
       "<style scoped>\n",
       "    .dataframe tbody tr th:only-of-type {\n",
       "        vertical-align: middle;\n",
       "    }\n",
       "\n",
       "    .dataframe tbody tr th {\n",
       "        vertical-align: top;\n",
       "    }\n",
       "\n",
       "    .dataframe thead th {\n",
       "        text-align: right;\n",
       "    }\n",
       "</style>\n",
       "<table border=\"1\" class=\"dataframe\">\n",
       "  <thead>\n",
       "    <tr style=\"text-align: right;\">\n",
       "      <th></th>\n",
       "      <th>Country</th>\n",
       "      <th>Year</th>\n",
       "      <th>Mental _hospitals</th>\n",
       "      <th>health_units</th>\n",
       "      <th>outpatient _facilities</th>\n",
       "      <th>day _treatment</th>\n",
       "      <th>residential_facilities</th>\n",
       "    </tr>\n",
       "  </thead>\n",
       "  <tbody>\n",
       "    <tr>\n",
       "      <th>0</th>\n",
       "      <td>Afghanistan</td>\n",
       "      <td>2016</td>\n",
       "      <td>0.003</td>\n",
       "      <td>0.012</td>\n",
       "      <td>0.006</td>\n",
       "      <td>NaN</td>\n",
       "      <td>NaN</td>\n",
       "    </tr>\n",
       "    <tr>\n",
       "      <th>1</th>\n",
       "      <td>Albania</td>\n",
       "      <td>2016</td>\n",
       "      <td>0.068</td>\n",
       "      <td>0.068</td>\n",
       "      <td>0.410</td>\n",
       "      <td>NaN</td>\n",
       "      <td>0.445</td>\n",
       "    </tr>\n",
       "    <tr>\n",
       "      <th>2</th>\n",
       "      <td>Algeria</td>\n",
       "      <td>2016</td>\n",
       "      <td>0.048</td>\n",
       "      <td>0.068</td>\n",
       "      <td>0.048</td>\n",
       "      <td>NaN</td>\n",
       "      <td>NaN</td>\n",
       "    </tr>\n",
       "    <tr>\n",
       "      <th>3</th>\n",
       "      <td>Angola</td>\n",
       "      <td>2016</td>\n",
       "      <td>0.011</td>\n",
       "      <td>NaN</td>\n",
       "      <td>NaN</td>\n",
       "      <td>NaN</td>\n",
       "      <td>0.014</td>\n",
       "    </tr>\n",
       "    <tr>\n",
       "      <th>4</th>\n",
       "      <td>Antigua and Barbuda</td>\n",
       "      <td>2016</td>\n",
       "      <td>1.001</td>\n",
       "      <td>NaN</td>\n",
       "      <td>NaN</td>\n",
       "      <td>NaN</td>\n",
       "      <td>NaN</td>\n",
       "    </tr>\n",
       "  </tbody>\n",
       "</table>\n",
       "</div>"
      ],
      "text/plain": [
       "               Country  Year  Mental _hospitals  health_units  \\\n",
       "0          Afghanistan  2016              0.003         0.012   \n",
       "1              Albania  2016              0.068         0.068   \n",
       "2              Algeria  2016              0.048         0.068   \n",
       "3               Angola  2016              0.011           NaN   \n",
       "4  Antigua and Barbuda  2016              1.001           NaN   \n",
       "\n",
       "   outpatient _facilities  day _treatment  residential_facilities  \n",
       "0                   0.006             NaN                     NaN  \n",
       "1                   0.410             NaN                   0.445  \n",
       "2                   0.048             NaN                     NaN  \n",
       "3                     NaN             NaN                   0.014  \n",
       "4                     NaN             NaN                     NaN  "
      ]
     },
     "execution_count": 49,
     "metadata": {},
     "output_type": "execute_result"
    }
   ],
   "source": [
    "fac.head()"
   ]
  },
  {
   "cell_type": "code",
   "execution_count": 50,
   "id": "reduced-thursday",
   "metadata": {
    "execution": {
     "iopub.execute_input": "2021-06-28T10:18:15.869069Z",
     "iopub.status.busy": "2021-06-28T10:18:15.868369Z",
     "iopub.status.idle": "2021-06-28T10:18:15.877455Z",
     "shell.execute_reply": "2021-06-28T10:18:15.877963Z",
     "shell.execute_reply.started": "2021-06-26T19:26:38.77037Z"
    },
    "papermill": {
     "duration": 0.108259,
     "end_time": "2021-06-28T10:18:15.878168",
     "exception": false,
     "start_time": "2021-06-28T10:18:15.769909",
     "status": "completed"
    },
    "tags": []
   },
   "outputs": [
    {
     "data": {
      "text/plain": [
       "Country                    0\n",
       "Year                       0\n",
       "Mental _hospitals         22\n",
       "health_units              10\n",
       "outpatient _facilities    12\n",
       "day _treatment            61\n",
       "residential_facilities    67\n",
       "dtype: int64"
      ]
     },
     "execution_count": 50,
     "metadata": {},
     "output_type": "execute_result"
    }
   ],
   "source": [
    "fac.isnull().sum()"
   ]
  },
  {
   "cell_type": "code",
   "execution_count": 51,
   "id": "becoming-stick",
   "metadata": {
    "execution": {
     "iopub.execute_input": "2021-06-28T10:18:16.068266Z",
     "iopub.status.busy": "2021-06-28T10:18:16.067568Z",
     "iopub.status.idle": "2021-06-28T10:18:16.456664Z",
     "shell.execute_reply": "2021-06-28T10:18:16.456090Z",
     "shell.execute_reply.started": "2021-06-26T19:26:38.779529Z"
    },
    "papermill": {
     "duration": 0.487932,
     "end_time": "2021-06-28T10:18:16.456835",
     "exception": false,
     "start_time": "2021-06-28T10:18:15.968903",
     "status": "completed"
    },
    "tags": []
   },
   "outputs": [
    {
     "data": {
      "text/plain": [
       "<AxesSubplot:>"
      ]
     },
     "execution_count": 51,
     "metadata": {},
     "output_type": "execute_result"
    },
    {
     "data": {
      "image/png": "[encoded data removed]",
      "text/plain": [
       "<Figure size 432x288 with 2 Axes>"
      ]
     },
     "metadata": {
      "needs_background": "light"
     },
     "output_type": "display_data"
    }
   ],
   "source": [
    "sns.heatmap(fac.isnull(),cmap='Oranges')"
   ]
  },
  {
   "cell_type": "code",
   "execution_count": 52,
   "id": "outside-greece",
   "metadata": {
    "execution": {
     "iopub.execute_input": "2021-06-28T10:18:16.651090Z",
     "iopub.status.busy": "2021-06-28T10:18:16.650324Z",
     "iopub.status.idle": "2021-06-28T10:18:16.653958Z",
     "shell.execute_reply": "2021-06-28T10:18:16.654471Z",
     "shell.execute_reply.started": "2021-06-26T19:26:39.164343Z"
    },
    "papermill": {
     "duration": 0.104867,
     "end_time": "2021-06-28T10:18:16.654675",
     "exception": false,
     "start_time": "2021-06-28T10:18:16.549808",
     "status": "completed"
    },
    "tags": []
   },
   "outputs": [],
   "source": [
    "fac.drop(columns=['day _treatment','residential_facilities'],inplace=True)"
   ]
  },
  {
   "cell_type": "code",
   "execution_count": 53,
   "id": "disabled-redhead",
   "metadata": {
    "execution": {
     "iopub.execute_input": "2021-06-28T10:18:16.841751Z",
     "iopub.status.busy": "2021-06-28T10:18:16.841023Z",
     "iopub.status.idle": "2021-06-28T10:18:16.856189Z",
     "shell.execute_reply": "2021-06-28T10:18:16.856828Z",
     "shell.execute_reply.started": "2021-06-26T19:26:39.170858Z"
    },
    "papermill": {
     "duration": 0.111107,
     "end_time": "2021-06-28T10:18:16.857044",
     "exception": false,
     "start_time": "2021-06-28T10:18:16.745937",
     "status": "completed"
    },
    "tags": []
   },
   "outputs": [
    {
     "data": {
      "text/html": [
       "<div>\n",
       "<style scoped>\n",
       "    .dataframe tbody tr th:only-of-type {\n",
       "        vertical-align: middle;\n",
       "    }\n",
       "\n",
       "    .dataframe tbody tr th {\n",
       "        vertical-align: top;\n",
       "    }\n",
       "\n",
       "    .dataframe thead th {\n",
       "        text-align: right;\n",
       "    }\n",
       "</style>\n",
       "<table border=\"1\" class=\"dataframe\">\n",
       "  <thead>\n",
       "    <tr style=\"text-align: right;\">\n",
       "      <th></th>\n",
       "      <th>Country</th>\n",
       "      <th>Year</th>\n",
       "      <th>Psychiatrists</th>\n",
       "      <th>Nurses</th>\n",
       "      <th>Social_workers</th>\n",
       "      <th>Psychologists</th>\n",
       "    </tr>\n",
       "  </thead>\n",
       "  <tbody>\n",
       "    <tr>\n",
       "      <th>0</th>\n",
       "      <td>Afghanistan</td>\n",
       "      <td>2016</td>\n",
       "      <td>0.231</td>\n",
       "      <td>0.098</td>\n",
       "      <td>NaN</td>\n",
       "      <td>0.296</td>\n",
       "    </tr>\n",
       "    <tr>\n",
       "      <th>1</th>\n",
       "      <td>Albania</td>\n",
       "      <td>2016</td>\n",
       "      <td>1.471</td>\n",
       "      <td>6.876</td>\n",
       "      <td>1.060</td>\n",
       "      <td>1.231</td>\n",
       "    </tr>\n",
       "    <tr>\n",
       "      <th>2</th>\n",
       "      <td>Angola</td>\n",
       "      <td>2016</td>\n",
       "      <td>0.057</td>\n",
       "      <td>0.660</td>\n",
       "      <td>0.022</td>\n",
       "      <td>0.179</td>\n",
       "    </tr>\n",
       "    <tr>\n",
       "      <th>3</th>\n",
       "      <td>Antigua and Barbuda</td>\n",
       "      <td>2016</td>\n",
       "      <td>1.001</td>\n",
       "      <td>7.005</td>\n",
       "      <td>4.003</td>\n",
       "      <td>NaN</td>\n",
       "    </tr>\n",
       "    <tr>\n",
       "      <th>4</th>\n",
       "      <td>Argentina</td>\n",
       "      <td>2016</td>\n",
       "      <td>21.705</td>\n",
       "      <td>NaN</td>\n",
       "      <td>NaN</td>\n",
       "      <td>222.572</td>\n",
       "    </tr>\n",
       "  </tbody>\n",
       "</table>\n",
       "</div>"
      ],
      "text/plain": [
       "               Country  Year  Psychiatrists  Nurses  Social_workers  \\\n",
       "0          Afghanistan  2016          0.231   0.098             NaN   \n",
       "1              Albania  2016          1.471   6.876           1.060   \n",
       "2               Angola  2016          0.057   0.660           0.022   \n",
       "3  Antigua and Barbuda  2016          1.001   7.005           4.003   \n",
       "4            Argentina  2016         21.705     NaN             NaN   \n",
       "\n",
       "   Psychologists  \n",
       "0          0.296  \n",
       "1          1.231  \n",
       "2          0.179  \n",
       "3            NaN  \n",
       "4        222.572  "
      ]
     },
     "execution_count": 53,
     "metadata": {},
     "output_type": "execute_result"
    }
   ],
   "source": [
    "hhrr.head()"
   ]
  },
  {
   "cell_type": "code",
   "execution_count": 54,
   "id": "accepting-passport",
   "metadata": {
    "execution": {
     "iopub.execute_input": "2021-06-28T10:18:17.046202Z",
     "iopub.status.busy": "2021-06-28T10:18:17.045469Z",
     "iopub.status.idle": "2021-06-28T10:18:17.439975Z",
     "shell.execute_reply": "2021-06-28T10:18:17.439269Z",
     "shell.execute_reply.started": "2021-06-26T19:26:39.194532Z"
    },
    "papermill": {
     "duration": 0.491404,
     "end_time": "2021-06-28T10:18:17.440149",
     "exception": false,
     "start_time": "2021-06-28T10:18:16.948745",
     "status": "completed"
    },
    "tags": []
   },
   "outputs": [
    {
     "data": {
      "text/plain": [
       "<AxesSubplot:>"
      ]
     },
     "execution_count": 54,
     "metadata": {},
     "output_type": "execute_result"
    },
    {
     "data": {
      "image/png": "[encoded data removed]",
      "text/plain": [
       "<Figure size 432x288 with 2 Axes>"
      ]
     },
     "metadata": {
      "needs_background": "light"
     },
     "output_type": "display_data"
    }
   ],
   "source": [
    "sns.heatmap(hhrr.isnull(),cmap='Oranges')"
   ]
  },
  {
   "cell_type": "code",
   "execution_count": 55,
   "id": "flush-token",
   "metadata": {
    "execution": {
     "iopub.execute_input": "2021-06-28T10:18:17.639713Z",
     "iopub.status.busy": "2021-06-28T10:18:17.639024Z",
     "iopub.status.idle": "2021-06-28T10:18:17.642188Z",
     "shell.execute_reply": "2021-06-28T10:18:17.641636Z",
     "shell.execute_reply.started": "2021-06-26T19:26:39.510953Z"
    },
    "papermill": {
     "duration": 0.109559,
     "end_time": "2021-06-28T10:18:17.642359",
     "exception": false,
     "start_time": "2021-06-28T10:18:17.532800",
     "status": "completed"
    },
    "tags": []
   },
   "outputs": [],
   "source": [
    "res= pd.merge(fac,hhrr,on='Country')"
   ]
  },
  {
   "cell_type": "code",
   "execution_count": 56,
   "id": "popular-astrology",
   "metadata": {
    "execution": {
     "iopub.execute_input": "2021-06-28T10:18:17.834215Z",
     "iopub.status.busy": "2021-06-28T10:18:17.833516Z",
     "iopub.status.idle": "2021-06-28T10:18:17.837259Z",
     "shell.execute_reply": "2021-06-28T10:18:17.837731Z",
     "shell.execute_reply.started": "2021-06-26T19:26:39.523844Z"
    },
    "papermill": {
     "duration": 0.102744,
     "end_time": "2021-06-28T10:18:17.837992",
     "exception": false,
     "start_time": "2021-06-28T10:18:17.735248",
     "status": "completed"
    },
    "tags": []
   },
   "outputs": [
    {
     "data": {
      "text/plain": [
       "Index(['Country', 'Year_x', 'Mental _hospitals', 'health_units',\n",
       "       'outpatient _facilities', 'Year_y', 'Psychiatrists', 'Nurses',\n",
       "       'Social_workers', 'Psychologists'],\n",
       "      dtype='object')"
      ]
     },
     "execution_count": 56,
     "metadata": {},
     "output_type": "execute_result"
    }
   ],
   "source": [
    "res.columns"
   ]
  },
  {
   "cell_type": "code",
   "execution_count": 57,
   "id": "organized-criticism",
   "metadata": {
    "execution": {
     "iopub.execute_input": "2021-06-28T10:18:18.027761Z",
     "iopub.status.busy": "2021-06-28T10:18:18.027118Z",
     "iopub.status.idle": "2021-06-28T10:18:18.034618Z",
     "shell.execute_reply": "2021-06-28T10:18:18.034003Z",
     "shell.execute_reply.started": "2021-06-26T19:26:39.535164Z"
    },
    "papermill": {
     "duration": 0.103943,
     "end_time": "2021-06-28T10:18:18.034807",
     "exception": false,
     "start_time": "2021-06-28T10:18:17.930864",
     "status": "completed"
    },
    "tags": []
   },
   "outputs": [],
   "source": [
    "res.drop(columns='Year_y',axis=1,inplace=True)"
   ]
  },
  {
   "cell_type": "code",
   "execution_count": 58,
   "id": "healthy-check",
   "metadata": {
    "execution": {
     "iopub.execute_input": "2021-06-28T10:18:18.229700Z",
     "iopub.status.busy": "2021-06-28T10:18:18.229045Z",
     "iopub.status.idle": "2021-06-28T10:18:18.232161Z",
     "shell.execute_reply": "2021-06-28T10:18:18.232717Z",
     "shell.execute_reply.started": "2021-06-26T19:26:39.551409Z"
    },
    "papermill": {
     "duration": 0.103543,
     "end_time": "2021-06-28T10:18:18.232948",
     "exception": false,
     "start_time": "2021-06-28T10:18:18.129405",
     "status": "completed"
    },
    "tags": []
   },
   "outputs": [],
   "source": [
    "res.rename(columns={'Year_x':'year'},inplace=True)"
   ]
  },
  {
   "cell_type": "code",
   "execution_count": 59,
   "id": "abroad-portfolio",
   "metadata": {
    "execution": {
     "iopub.execute_input": "2021-06-28T10:18:18.458724Z",
     "iopub.status.busy": "2021-06-28T10:18:18.457884Z",
     "iopub.status.idle": "2021-06-28T10:18:18.866962Z",
     "shell.execute_reply": "2021-06-28T10:18:18.866384Z",
     "shell.execute_reply.started": "2021-06-26T19:26:39.563348Z"
    },
    "papermill": {
     "duration": 0.540416,
     "end_time": "2021-06-28T10:18:18.867133",
     "exception": false,
     "start_time": "2021-06-28T10:18:18.326717",
     "status": "completed"
    },
    "tags": []
   },
   "outputs": [
    {
     "data": {
      "text/plain": [
       "<AxesSubplot:>"
      ]
     },
     "execution_count": 59,
     "metadata": {},
     "output_type": "execute_result"
    },
    {
     "data": {
      "image/png": "[encoded data removed]",
      "text/plain": [
       "<Figure size 432x288 with 2 Axes>"
      ]
     },
     "metadata": {
      "needs_background": "light"
     },
     "output_type": "display_data"
    }
   ],
   "source": [
    "sns.heatmap(res.isnull(),cmap='Oranges')"
   ]
  },
  {
   "cell_type": "code",
   "execution_count": 60,
   "id": "iraqi-contributor",
   "metadata": {
    "execution": {
     "iopub.execute_input": "2021-06-28T10:18:19.074518Z",
     "iopub.status.busy": "2021-06-28T10:18:19.073745Z",
     "iopub.status.idle": "2021-06-28T10:18:19.078182Z",
     "shell.execute_reply": "2021-06-28T10:18:19.077411Z",
     "shell.execute_reply.started": "2021-06-26T19:26:39.926635Z"
    },
    "papermill": {
     "duration": 0.111519,
     "end_time": "2021-06-28T10:18:19.078344",
     "exception": false,
     "start_time": "2021-06-28T10:18:18.966825",
     "status": "completed"
    },
    "tags": []
   },
   "outputs": [],
   "source": [
    "res.drop(columns='Social_workers',inplace=True)"
   ]
  },
  {
   "cell_type": "code",
   "execution_count": 61,
   "id": "quiet-radical",
   "metadata": {
    "execution": {
     "iopub.execute_input": "2021-06-28T10:18:19.303617Z",
     "iopub.status.busy": "2021-06-28T10:18:19.302658Z",
     "iopub.status.idle": "2021-06-28T10:18:19.308507Z",
     "shell.execute_reply": "2021-06-28T10:18:19.307638Z",
     "shell.execute_reply.started": "2021-06-26T19:26:39.933594Z"
    },
    "papermill": {
     "duration": 0.128596,
     "end_time": "2021-06-28T10:18:19.308682",
     "exception": false,
     "start_time": "2021-06-28T10:18:19.180086",
     "status": "completed"
    },
    "tags": []
   },
   "outputs": [
    {
     "data": {
      "text/html": [
       "<div>\n",
       "<style scoped>\n",
       "    .dataframe tbody tr th:only-of-type {\n",
       "        vertical-align: middle;\n",
       "    }\n",
       "\n",
       "    .dataframe tbody tr th {\n",
       "        vertical-align: top;\n",
       "    }\n",
       "\n",
       "    .dataframe thead th {\n",
       "        text-align: right;\n",
       "    }\n",
       "</style>\n",
       "<table border=\"1\" class=\"dataframe\">\n",
       "  <thead>\n",
       "    <tr style=\"text-align: right;\">\n",
       "      <th></th>\n",
       "      <th>Country</th>\n",
       "      <th>year</th>\n",
       "      <th>Mental _hospitals</th>\n",
       "      <th>health_units</th>\n",
       "      <th>outpatient _facilities</th>\n",
       "      <th>Psychiatrists</th>\n",
       "      <th>Nurses</th>\n",
       "      <th>Psychologists</th>\n",
       "    </tr>\n",
       "  </thead>\n",
       "  <tbody>\n",
       "    <tr>\n",
       "      <th>0</th>\n",
       "      <td>Afghanistan</td>\n",
       "      <td>2016</td>\n",
       "      <td>0.003</td>\n",
       "      <td>0.012</td>\n",
       "      <td>0.006</td>\n",
       "      <td>0.231</td>\n",
       "      <td>0.098</td>\n",
       "      <td>0.296</td>\n",
       "    </tr>\n",
       "    <tr>\n",
       "      <th>1</th>\n",
       "      <td>Albania</td>\n",
       "      <td>2016</td>\n",
       "      <td>0.068</td>\n",
       "      <td>0.068</td>\n",
       "      <td>0.410</td>\n",
       "      <td>1.471</td>\n",
       "      <td>6.876</td>\n",
       "      <td>1.231</td>\n",
       "    </tr>\n",
       "    <tr>\n",
       "      <th>2</th>\n",
       "      <td>Angola</td>\n",
       "      <td>2016</td>\n",
       "      <td>0.011</td>\n",
       "      <td>NaN</td>\n",
       "      <td>NaN</td>\n",
       "      <td>0.057</td>\n",
       "      <td>0.660</td>\n",
       "      <td>0.179</td>\n",
       "    </tr>\n",
       "    <tr>\n",
       "      <th>3</th>\n",
       "      <td>Antigua and Barbuda</td>\n",
       "      <td>2016</td>\n",
       "      <td>1.001</td>\n",
       "      <td>NaN</td>\n",
       "      <td>NaN</td>\n",
       "      <td>1.001</td>\n",
       "      <td>7.005</td>\n",
       "      <td>NaN</td>\n",
       "    </tr>\n",
       "    <tr>\n",
       "      <th>4</th>\n",
       "      <td>Argentina</td>\n",
       "      <td>2016</td>\n",
       "      <td>0.937</td>\n",
       "      <td>1.071</td>\n",
       "      <td>1.720</td>\n",
       "      <td>21.705</td>\n",
       "      <td>NaN</td>\n",
       "      <td>222.572</td>\n",
       "    </tr>\n",
       "  </tbody>\n",
       "</table>\n",
       "</div>"
      ],
      "text/plain": [
       "               Country  year  Mental _hospitals  health_units  \\\n",
       "0          Afghanistan  2016              0.003         0.012   \n",
       "1              Albania  2016              0.068         0.068   \n",
       "2               Angola  2016              0.011           NaN   \n",
       "3  Antigua and Barbuda  2016              1.001           NaN   \n",
       "4            Argentina  2016              0.937         1.071   \n",
       "\n",
       "   outpatient _facilities  Psychiatrists  Nurses  Psychologists  \n",
       "0                   0.006          0.231   0.098          0.296  \n",
       "1                   0.410          1.471   6.876          1.231  \n",
       "2                     NaN          0.057   0.660          0.179  \n",
       "3                     NaN          1.001   7.005            NaN  \n",
       "4                   1.720         21.705     NaN        222.572  "
      ]
     },
     "execution_count": 61,
     "metadata": {},
     "output_type": "execute_result"
    }
   ],
   "source": [
    "res.head()"
   ]
  },
  {
   "cell_type": "code",
   "execution_count": 62,
   "id": "mobile-bicycle",
   "metadata": {
    "execution": {
     "iopub.execute_input": "2021-06-28T10:18:19.509169Z",
     "iopub.status.busy": "2021-06-28T10:18:19.508094Z",
     "iopub.status.idle": "2021-06-28T10:18:19.512861Z",
     "shell.execute_reply": "2021-06-28T10:18:19.512057Z",
     "shell.execute_reply.started": "2021-06-26T19:26:39.962917Z"
    },
    "papermill": {
     "duration": 0.108446,
     "end_time": "2021-06-28T10:18:19.513041",
     "exception": false,
     "start_time": "2021-06-28T10:18:19.404595",
     "status": "completed"
    },
    "tags": []
   },
   "outputs": [],
   "source": [
    "tomerge= srb.drop(['2000','2010','2015'],axis=1)"
   ]
  },
  {
   "cell_type": "code",
   "execution_count": 63,
   "id": "hungarian-determination",
   "metadata": {
    "execution": {
     "iopub.execute_input": "2021-06-28T10:18:19.718103Z",
     "iopub.status.busy": "2021-06-28T10:18:19.717142Z",
     "iopub.status.idle": "2021-06-28T10:18:19.721609Z",
     "shell.execute_reply": "2021-06-28T10:18:19.720993Z",
     "shell.execute_reply.started": "2021-06-26T19:26:39.97124Z"
    },
    "papermill": {
     "duration": 0.109995,
     "end_time": "2021-06-28T10:18:19.721790",
     "exception": false,
     "start_time": "2021-06-28T10:18:19.611795",
     "status": "completed"
    },
    "tags": []
   },
   "outputs": [
    {
     "data": {
      "text/plain": [
       " Both sexes    183\n",
       "Name: Sex, dtype: int64"
      ]
     },
     "execution_count": 63,
     "metadata": {},
     "output_type": "execute_result"
    }
   ],
   "source": [
    "tomerge['Sex'].value_counts()"
   ]
  },
  {
   "cell_type": "code",
   "execution_count": 64,
   "id": "lesbian-miller",
   "metadata": {
    "execution": {
     "iopub.execute_input": "2021-06-28T10:18:19.923762Z",
     "iopub.status.busy": "2021-06-28T10:18:19.922683Z",
     "iopub.status.idle": "2021-06-28T10:18:19.926739Z",
     "shell.execute_reply": "2021-06-28T10:18:19.926164Z",
     "shell.execute_reply.started": "2021-06-26T19:26:39.987534Z"
    },
    "papermill": {
     "duration": 0.107869,
     "end_time": "2021-06-28T10:18:19.926920",
     "exception": false,
     "start_time": "2021-06-28T10:18:19.819051",
     "status": "completed"
    },
    "tags": []
   },
   "outputs": [],
   "source": [
    "tomerge.drop('Sex',axis=1,inplace=True)"
   ]
  },
  {
   "cell_type": "code",
   "execution_count": 65,
   "id": "electric-calibration",
   "metadata": {
    "execution": {
     "iopub.execute_input": "2021-06-28T10:18:20.130085Z",
     "iopub.status.busy": "2021-06-28T10:18:20.129400Z",
     "iopub.status.idle": "2021-06-28T10:18:20.132033Z",
     "shell.execute_reply": "2021-06-28T10:18:20.131382Z",
     "shell.execute_reply.started": "2021-06-26T19:26:39.99835Z"
    },
    "papermill": {
     "duration": 0.106644,
     "end_time": "2021-06-28T10:18:20.132204",
     "exception": false,
     "start_time": "2021-06-28T10:18:20.025560",
     "status": "completed"
    },
    "tags": []
   },
   "outputs": [],
   "source": [
    "tomerge.rename({'2016':'suicide_rate'},axis=1,inplace=True)"
   ]
  },
  {
   "cell_type": "code",
   "execution_count": 66,
   "id": "vanilla-dining",
   "metadata": {
    "execution": {
     "iopub.execute_input": "2021-06-28T10:18:20.336092Z",
     "iopub.status.busy": "2021-06-28T10:18:20.335386Z",
     "iopub.status.idle": "2021-06-28T10:18:20.350165Z",
     "shell.execute_reply": "2021-06-28T10:18:20.351115Z",
     "shell.execute_reply.started": "2021-06-26T19:26:40.011796Z"
    },
    "papermill": {
     "duration": 0.119634,
     "end_time": "2021-06-28T10:18:20.351364",
     "exception": false,
     "start_time": "2021-06-28T10:18:20.231730",
     "status": "completed"
    },
    "tags": []
   },
   "outputs": [
    {
     "data": {
      "text/html": [
       "<div>\n",
       "<style scoped>\n",
       "    .dataframe tbody tr th:only-of-type {\n",
       "        vertical-align: middle;\n",
       "    }\n",
       "\n",
       "    .dataframe tbody tr th {\n",
       "        vertical-align: top;\n",
       "    }\n",
       "\n",
       "    .dataframe thead th {\n",
       "        text-align: right;\n",
       "    }\n",
       "</style>\n",
       "<table border=\"1\" class=\"dataframe\">\n",
       "  <thead>\n",
       "    <tr style=\"text-align: right;\">\n",
       "      <th></th>\n",
       "      <th>Country</th>\n",
       "      <th>suicide_rate</th>\n",
       "    </tr>\n",
       "  </thead>\n",
       "  <tbody>\n",
       "    <tr>\n",
       "      <th>0</th>\n",
       "      <td>Afghanistan</td>\n",
       "      <td>6.4</td>\n",
       "    </tr>\n",
       "    <tr>\n",
       "      <th>1</th>\n",
       "      <td>Albania</td>\n",
       "      <td>5.6</td>\n",
       "    </tr>\n",
       "    <tr>\n",
       "      <th>2</th>\n",
       "      <td>Algeria</td>\n",
       "      <td>3.3</td>\n",
       "    </tr>\n",
       "    <tr>\n",
       "      <th>3</th>\n",
       "      <td>Angola</td>\n",
       "      <td>8.9</td>\n",
       "    </tr>\n",
       "    <tr>\n",
       "      <th>4</th>\n",
       "      <td>Antigua and Barbuda</td>\n",
       "      <td>0.5</td>\n",
       "    </tr>\n",
       "    <tr>\n",
       "      <th>...</th>\n",
       "      <td>...</td>\n",
       "      <td>...</td>\n",
       "    </tr>\n",
       "    <tr>\n",
       "      <th>178</th>\n",
       "      <td>Venezuela (Bolivarian Republic of)</td>\n",
       "      <td>3.8</td>\n",
       "    </tr>\n",
       "    <tr>\n",
       "      <th>179</th>\n",
       "      <td>Viet Nam</td>\n",
       "      <td>7.0</td>\n",
       "    </tr>\n",
       "    <tr>\n",
       "      <th>180</th>\n",
       "      <td>Yemen</td>\n",
       "      <td>9.8</td>\n",
       "    </tr>\n",
       "    <tr>\n",
       "      <th>181</th>\n",
       "      <td>Zambia</td>\n",
       "      <td>11.3</td>\n",
       "    </tr>\n",
       "    <tr>\n",
       "      <th>182</th>\n",
       "      <td>Zimbabwe</td>\n",
       "      <td>19.1</td>\n",
       "    </tr>\n",
       "  </tbody>\n",
       "</table>\n",
       "<p>183 rows × 2 columns</p>\n",
       "</div>"
      ],
      "text/plain": [
       "                                Country  suicide_rate\n",
       "0                           Afghanistan           6.4\n",
       "1                               Albania           5.6\n",
       "2                               Algeria           3.3\n",
       "3                                Angola           8.9\n",
       "4                   Antigua and Barbuda           0.5\n",
       "..                                  ...           ...\n",
       "178  Venezuela (Bolivarian Republic of)           3.8\n",
       "179                            Viet Nam           7.0\n",
       "180                               Yemen           9.8\n",
       "181                              Zambia          11.3\n",
       "182                            Zimbabwe          19.1\n",
       "\n",
       "[183 rows x 2 columns]"
      ]
     },
     "execution_count": 66,
     "metadata": {},
     "output_type": "execute_result"
    }
   ],
   "source": [
    "tomerge"
   ]
  },
  {
   "cell_type": "code",
   "execution_count": 67,
   "id": "moderate-turkish",
   "metadata": {
    "execution": {
     "iopub.execute_input": "2021-06-28T10:18:20.563848Z",
     "iopub.status.busy": "2021-06-28T10:18:20.563157Z",
     "iopub.status.idle": "2021-06-28T10:18:20.571698Z",
     "shell.execute_reply": "2021-06-28T10:18:20.572278Z",
     "shell.execute_reply.started": "2021-06-26T19:26:40.03436Z"
    },
    "papermill": {
     "duration": 0.117194,
     "end_time": "2021-06-28T10:18:20.572472",
     "exception": false,
     "start_time": "2021-06-28T10:18:20.455278",
     "status": "completed"
    },
    "tags": []
   },
   "outputs": [],
   "source": [
    "full= pd.merge(res,tomerge,on='Country')"
   ]
  },
  {
   "cell_type": "code",
   "execution_count": 68,
   "id": "computational-washington",
   "metadata": {
    "execution": {
     "iopub.execute_input": "2021-06-28T10:18:20.771432Z",
     "iopub.status.busy": "2021-06-28T10:18:20.770668Z",
     "iopub.status.idle": "2021-06-28T10:18:20.777306Z",
     "shell.execute_reply": "2021-06-28T10:18:20.777880Z",
     "shell.execute_reply.started": "2021-06-26T19:26:40.044299Z"
    },
    "papermill": {
     "duration": 0.106877,
     "end_time": "2021-06-28T10:18:20.778092",
     "exception": false,
     "start_time": "2021-06-28T10:18:20.671215",
     "status": "completed"
    },
    "tags": []
   },
   "outputs": [],
   "source": [
    "full.drop('year',axis=1,inplace=True)"
   ]
  },
  {
   "cell_type": "code",
   "execution_count": 69,
   "id": "meaningful-martin",
   "metadata": {
    "execution": {
     "iopub.execute_input": "2021-06-28T10:18:20.977153Z",
     "iopub.status.busy": "2021-06-28T10:18:20.976486Z",
     "iopub.status.idle": "2021-06-28T10:18:21.000691Z",
     "shell.execute_reply": "2021-06-28T10:18:21.000178Z",
     "shell.execute_reply.started": "2021-06-26T19:26:40.060182Z"
    },
    "papermill": {
     "duration": 0.123348,
     "end_time": "2021-06-28T10:18:21.000876",
     "exception": false,
     "start_time": "2021-06-28T10:18:20.877528",
     "status": "completed"
    },
    "tags": []
   },
   "outputs": [
    {
     "data": {
      "text/html": [
       "<div>\n",
       "<style scoped>\n",
       "    .dataframe tbody tr th:only-of-type {\n",
       "        vertical-align: middle;\n",
       "    }\n",
       "\n",
       "    .dataframe tbody tr th {\n",
       "        vertical-align: top;\n",
       "    }\n",
       "\n",
       "    .dataframe thead th {\n",
       "        text-align: right;\n",
       "    }\n",
       "</style>\n",
       "<table border=\"1\" class=\"dataframe\">\n",
       "  <thead>\n",
       "    <tr style=\"text-align: right;\">\n",
       "      <th></th>\n",
       "      <th>Country</th>\n",
       "      <th>Mental _hospitals</th>\n",
       "      <th>health_units</th>\n",
       "      <th>outpatient _facilities</th>\n",
       "      <th>Psychiatrists</th>\n",
       "      <th>Nurses</th>\n",
       "      <th>Psychologists</th>\n",
       "      <th>suicide_rate</th>\n",
       "    </tr>\n",
       "  </thead>\n",
       "  <tbody>\n",
       "    <tr>\n",
       "      <th>0</th>\n",
       "      <td>Afghanistan</td>\n",
       "      <td>0.003</td>\n",
       "      <td>0.012</td>\n",
       "      <td>0.006</td>\n",
       "      <td>0.231</td>\n",
       "      <td>0.098</td>\n",
       "      <td>0.296</td>\n",
       "      <td>6.4</td>\n",
       "    </tr>\n",
       "    <tr>\n",
       "      <th>1</th>\n",
       "      <td>Albania</td>\n",
       "      <td>0.068</td>\n",
       "      <td>0.068</td>\n",
       "      <td>0.410</td>\n",
       "      <td>1.471</td>\n",
       "      <td>6.876</td>\n",
       "      <td>1.231</td>\n",
       "      <td>5.6</td>\n",
       "    </tr>\n",
       "    <tr>\n",
       "      <th>2</th>\n",
       "      <td>Angola</td>\n",
       "      <td>0.011</td>\n",
       "      <td>NaN</td>\n",
       "      <td>NaN</td>\n",
       "      <td>0.057</td>\n",
       "      <td>0.660</td>\n",
       "      <td>0.179</td>\n",
       "      <td>8.9</td>\n",
       "    </tr>\n",
       "    <tr>\n",
       "      <th>3</th>\n",
       "      <td>Antigua and Barbuda</td>\n",
       "      <td>1.001</td>\n",
       "      <td>NaN</td>\n",
       "      <td>NaN</td>\n",
       "      <td>1.001</td>\n",
       "      <td>7.005</td>\n",
       "      <td>NaN</td>\n",
       "      <td>0.5</td>\n",
       "    </tr>\n",
       "    <tr>\n",
       "      <th>4</th>\n",
       "      <td>Argentina</td>\n",
       "      <td>0.937</td>\n",
       "      <td>1.071</td>\n",
       "      <td>1.720</td>\n",
       "      <td>21.705</td>\n",
       "      <td>NaN</td>\n",
       "      <td>222.572</td>\n",
       "      <td>9.1</td>\n",
       "    </tr>\n",
       "    <tr>\n",
       "      <th>...</th>\n",
       "      <td>...</td>\n",
       "      <td>...</td>\n",
       "      <td>...</td>\n",
       "      <td>...</td>\n",
       "      <td>...</td>\n",
       "      <td>...</td>\n",
       "      <td>...</td>\n",
       "      <td>...</td>\n",
       "    </tr>\n",
       "    <tr>\n",
       "      <th>96</th>\n",
       "      <td>Uzbekistan</td>\n",
       "      <td>0.081</td>\n",
       "      <td>0.013</td>\n",
       "      <td>0.084</td>\n",
       "      <td>2.612</td>\n",
       "      <td>9.214</td>\n",
       "      <td>0.090</td>\n",
       "      <td>7.4</td>\n",
       "    </tr>\n",
       "    <tr>\n",
       "      <th>97</th>\n",
       "      <td>Vanuatu</td>\n",
       "      <td>NaN</td>\n",
       "      <td>0.756</td>\n",
       "      <td>2.645</td>\n",
       "      <td>0.378</td>\n",
       "      <td>4.535</td>\n",
       "      <td>0.756</td>\n",
       "      <td>5.4</td>\n",
       "    </tr>\n",
       "    <tr>\n",
       "      <th>98</th>\n",
       "      <td>Yemen</td>\n",
       "      <td>0.033</td>\n",
       "      <td>0.026</td>\n",
       "      <td>0.063</td>\n",
       "      <td>0.201</td>\n",
       "      <td>0.323</td>\n",
       "      <td>0.409</td>\n",
       "      <td>9.8</td>\n",
       "    </tr>\n",
       "    <tr>\n",
       "      <th>99</th>\n",
       "      <td>Zambia</td>\n",
       "      <td>0.062</td>\n",
       "      <td>0.062</td>\n",
       "      <td>0.205</td>\n",
       "      <td>0.056</td>\n",
       "      <td>1.429</td>\n",
       "      <td>0.031</td>\n",
       "      <td>11.3</td>\n",
       "    </tr>\n",
       "    <tr>\n",
       "      <th>100</th>\n",
       "      <td>Zimbabwe</td>\n",
       "      <td>0.025</td>\n",
       "      <td>0.025</td>\n",
       "      <td>0.057</td>\n",
       "      <td>0.095</td>\n",
       "      <td>3.486</td>\n",
       "      <td>0.057</td>\n",
       "      <td>19.1</td>\n",
       "    </tr>\n",
       "  </tbody>\n",
       "</table>\n",
       "<p>101 rows × 8 columns</p>\n",
       "</div>"
      ],
      "text/plain": [
       "                 Country  Mental _hospitals  health_units  \\\n",
       "0            Afghanistan              0.003         0.012   \n",
       "1                Albania              0.068         0.068   \n",
       "2                 Angola              0.011           NaN   \n",
       "3    Antigua and Barbuda              1.001           NaN   \n",
       "4              Argentina              0.937         1.071   \n",
       "..                   ...                ...           ...   \n",
       "96            Uzbekistan              0.081         0.013   \n",
       "97               Vanuatu                NaN         0.756   \n",
       "98                 Yemen              0.033         0.026   \n",
       "99                Zambia              0.062         0.062   \n",
       "100             Zimbabwe              0.025         0.025   \n",
       "\n",
       "     outpatient _facilities  Psychiatrists  Nurses  Psychologists  \\\n",
       "0                     0.006          0.231   0.098          0.296   \n",
       "1                     0.410          1.471   6.876          1.231   \n",
       "2                       NaN          0.057   0.660          0.179   \n",
       "3                       NaN          1.001   7.005            NaN   \n",
       "4                     1.720         21.705     NaN        222.572   \n",
       "..                      ...            ...     ...            ...   \n",
       "96                    0.084          2.612   9.214          0.090   \n",
       "97                    2.645          0.378   4.535          0.756   \n",
       "98                    0.063          0.201   0.323          0.409   \n",
       "99                    0.205          0.056   1.429          0.031   \n",
       "100                   0.057          0.095   3.486          0.057   \n",
       "\n",
       "     suicide_rate  \n",
       "0             6.4  \n",
       "1             5.6  \n",
       "2             8.9  \n",
       "3             0.5  \n",
       "4             9.1  \n",
       "..            ...  \n",
       "96            7.4  \n",
       "97            5.4  \n",
       "98            9.8  \n",
       "99           11.3  \n",
       "100          19.1  \n",
       "\n",
       "[101 rows x 8 columns]"
      ]
     },
     "execution_count": 69,
     "metadata": {},
     "output_type": "execute_result"
    }
   ],
   "source": [
    "full"
   ]
  },
  {
   "cell_type": "code",
   "execution_count": 70,
   "id": "front-burton",
   "metadata": {
    "execution": {
     "iopub.execute_input": "2021-06-28T10:18:21.218246Z",
     "iopub.status.busy": "2021-06-28T10:18:21.199819Z",
     "iopub.status.idle": "2021-06-28T10:18:21.785246Z",
     "shell.execute_reply": "2021-06-28T10:18:21.784456Z",
     "shell.execute_reply.started": "2021-06-26T19:26:40.092465Z"
    },
    "papermill": {
     "duration": 0.687447,
     "end_time": "2021-06-28T10:18:21.785421",
     "exception": false,
     "start_time": "2021-06-28T10:18:21.097974",
     "status": "completed"
    },
    "tags": []
   },
   "outputs": [
    {
     "data": {
      "text/plain": [
       "<AxesSubplot:>"
      ]
     },
     "execution_count": 70,
     "metadata": {},
     "output_type": "execute_result"
    },
    {
     "data": {
      "image/png": "[encoded data removed]",
      "text/plain": [
       "<Figure size 432x288 with 2 Axes>"
      ]
     },
     "metadata": {
      "needs_background": "light"
     },
     "output_type": "display_data"
    }
   ],
   "source": [
    "sns.heatmap(full.corr(),annot=True,cmap='Oranges')"
   ]
  },
  {
   "cell_type": "code",
   "execution_count": 71,
   "id": "suited-preparation",
   "metadata": {
    "execution": {
     "iopub.execute_input": "2021-06-28T10:18:22.031369Z",
     "iopub.status.busy": "2021-06-28T10:18:22.007326Z",
     "iopub.status.idle": "2021-06-28T10:18:22.317994Z",
     "shell.execute_reply": "2021-06-28T10:18:22.317262Z",
     "shell.execute_reply.started": "2021-06-26T19:26:40.580929Z"
    },
    "papermill": {
     "duration": 0.427654,
     "end_time": "2021-06-28T10:18:22.318155",
     "exception": false,
     "start_time": "2021-06-28T10:18:21.890501",
     "status": "completed"
    },
    "tags": []
   },
   "outputs": [
    {
     "data": {
      "text/plain": [
       "<AxesSubplot:xlabel='Psychiatrists', ylabel='suicide_rate'>"
      ]
     },
     "execution_count": 71,
     "metadata": {},
     "output_type": "execute_result"
    },
    {
     "data": {
      "image/png": "[encoded data removed]",
      "text/plain": [
       "<Figure size 432x288 with 1 Axes>"
      ]
     },
     "metadata": {
      "needs_background": "light"
     },
     "output_type": "display_data"
    }
   ],
   "source": [
    "sns.regplot(x='Psychiatrists',y='suicide_rate',color='orange', data=full)"
   ]
  },
  {
   "cell_type": "code",
   "execution_count": 72,
   "id": "leading-chapter",
   "metadata": {
    "execution": {
     "iopub.execute_input": "2021-06-28T10:18:22.563085Z",
     "iopub.status.busy": "2021-06-28T10:18:22.561190Z",
     "iopub.status.idle": "2021-06-28T10:18:22.569052Z",
     "shell.execute_reply": "2021-06-28T10:18:22.569833Z",
     "shell.execute_reply.started": "2021-06-26T19:26:40.87929Z"
    },
    "papermill": {
     "duration": 0.14039,
     "end_time": "2021-06-28T10:18:22.570057",
     "exception": false,
     "start_time": "2021-06-28T10:18:22.429667",
     "status": "completed"
    },
    "tags": []
   },
   "outputs": [
    {
     "data": {
      "text/html": [
       "<div>\n",
       "<style scoped>\n",
       "    .dataframe tbody tr th:only-of-type {\n",
       "        vertical-align: middle;\n",
       "    }\n",
       "\n",
       "    .dataframe tbody tr th {\n",
       "        vertical-align: top;\n",
       "    }\n",
       "\n",
       "    .dataframe thead th {\n",
       "        text-align: right;\n",
       "    }\n",
       "</style>\n",
       "<table border=\"1\" class=\"dataframe\">\n",
       "  <thead>\n",
       "    <tr style=\"text-align: right;\">\n",
       "      <th></th>\n",
       "      <th>Country</th>\n",
       "      <th>Mental _hospitals</th>\n",
       "      <th>health_units</th>\n",
       "      <th>outpatient _facilities</th>\n",
       "      <th>Psychiatrists</th>\n",
       "      <th>Nurses</th>\n",
       "      <th>Psychologists</th>\n",
       "      <th>suicide_rate</th>\n",
       "    </tr>\n",
       "  </thead>\n",
       "  <tbody>\n",
       "    <tr>\n",
       "      <th>0</th>\n",
       "      <td>Afghanistan</td>\n",
       "      <td>0.003</td>\n",
       "      <td>0.012</td>\n",
       "      <td>0.006</td>\n",
       "      <td>0.231</td>\n",
       "      <td>0.098</td>\n",
       "      <td>0.296</td>\n",
       "      <td>6.4</td>\n",
       "    </tr>\n",
       "    <tr>\n",
       "      <th>1</th>\n",
       "      <td>Albania</td>\n",
       "      <td>0.068</td>\n",
       "      <td>0.068</td>\n",
       "      <td>0.410</td>\n",
       "      <td>1.471</td>\n",
       "      <td>6.876</td>\n",
       "      <td>1.231</td>\n",
       "      <td>5.6</td>\n",
       "    </tr>\n",
       "    <tr>\n",
       "      <th>2</th>\n",
       "      <td>Angola</td>\n",
       "      <td>0.011</td>\n",
       "      <td>NaN</td>\n",
       "      <td>NaN</td>\n",
       "      <td>0.057</td>\n",
       "      <td>0.660</td>\n",
       "      <td>0.179</td>\n",
       "      <td>8.9</td>\n",
       "    </tr>\n",
       "    <tr>\n",
       "      <th>3</th>\n",
       "      <td>Antigua and Barbuda</td>\n",
       "      <td>1.001</td>\n",
       "      <td>NaN</td>\n",
       "      <td>NaN</td>\n",
       "      <td>1.001</td>\n",
       "      <td>7.005</td>\n",
       "      <td>NaN</td>\n",
       "      <td>0.5</td>\n",
       "    </tr>\n",
       "    <tr>\n",
       "      <th>4</th>\n",
       "      <td>Argentina</td>\n",
       "      <td>0.937</td>\n",
       "      <td>1.071</td>\n",
       "      <td>1.720</td>\n",
       "      <td>21.705</td>\n",
       "      <td>NaN</td>\n",
       "      <td>222.572</td>\n",
       "      <td>9.1</td>\n",
       "    </tr>\n",
       "  </tbody>\n",
       "</table>\n",
       "</div>"
      ],
      "text/plain": [
       "               Country  Mental _hospitals  health_units  \\\n",
       "0          Afghanistan              0.003         0.012   \n",
       "1              Albania              0.068         0.068   \n",
       "2               Angola              0.011           NaN   \n",
       "3  Antigua and Barbuda              1.001           NaN   \n",
       "4            Argentina              0.937         1.071   \n",
       "\n",
       "   outpatient _facilities  Psychiatrists  Nurses  Psychologists  suicide_rate  \n",
       "0                   0.006          0.231   0.098          0.296           6.4  \n",
       "1                   0.410          1.471   6.876          1.231           5.6  \n",
       "2                     NaN          0.057   0.660          0.179           8.9  \n",
       "3                     NaN          1.001   7.005            NaN           0.5  \n",
       "4                   1.720         21.705     NaN        222.572           9.1  "
      ]
     },
     "execution_count": 72,
     "metadata": {},
     "output_type": "execute_result"
    }
   ],
   "source": [
    "full.head()"
   ]
  },
  {
   "cell_type": "markdown",
   "id": "vanilla-cambridge",
   "metadata": {
    "papermill": {
     "duration": 0.10269,
     "end_time": "2021-06-28T10:18:22.780488",
     "exception": false,
     "start_time": "2021-06-28T10:18:22.677798",
     "status": "completed"
    },
    "tags": []
   },
   "source": [
    "## Regression ##"
   ]
  },
  {
   "cell_type": "code",
   "execution_count": 73,
   "id": "alien-kazakhstan",
   "metadata": {
    "execution": {
     "iopub.execute_input": "2021-06-28T10:18:23.015209Z",
     "iopub.status.busy": "2021-06-28T10:18:23.012243Z",
     "iopub.status.idle": "2021-06-28T10:18:23.414045Z",
     "shell.execute_reply": "2021-06-28T10:18:23.412747Z",
     "shell.execute_reply.started": "2021-06-26T19:26:40.899022Z"
    },
    "papermill": {
     "duration": 0.531143,
     "end_time": "2021-06-28T10:18:23.414262",
     "exception": false,
     "start_time": "2021-06-28T10:18:22.883119",
     "status": "completed"
    },
    "tags": []
   },
   "outputs": [
    {
     "data": {
      "text/plain": [
       "<AxesSubplot:>"
      ]
     },
     "execution_count": 73,
     "metadata": {},
     "output_type": "execute_result"
    },
    {
     "data": {
      "image/png": "[encoded data removed]",
      "text/plain": [
       "<Figure size 432x288 with 2 Axes>"
      ]
     },
     "metadata": {
      "needs_background": "light"
     },
     "output_type": "display_data"
    }
   ],
   "source": [
    "sns.heatmap(full.isnull(),cmap='Oranges')"
   ]
  },
  {
   "cell_type": "code",
   "execution_count": 74,
   "id": "imported-portable",
   "metadata": {
    "execution": {
     "iopub.execute_input": "2021-06-28T10:18:23.636448Z",
     "iopub.status.busy": "2021-06-28T10:18:23.635798Z",
     "iopub.status.idle": "2021-06-28T10:18:23.641193Z",
     "shell.execute_reply": "2021-06-28T10:18:23.641658Z",
     "shell.execute_reply.started": "2021-06-26T19:26:41.25304Z"
    },
    "papermill": {
     "duration": 0.119415,
     "end_time": "2021-06-28T10:18:23.641885",
     "exception": false,
     "start_time": "2021-06-28T10:18:23.522470",
     "status": "completed"
    },
    "tags": []
   },
   "outputs": [],
   "source": [
    "ml=full.drop('Country',axis= 1)"
   ]
  },
  {
   "cell_type": "code",
   "execution_count": 75,
   "id": "friendly-injury",
   "metadata": {
    "execution": {
     "iopub.execute_input": "2021-06-28T10:18:23.856363Z",
     "iopub.status.busy": "2021-06-28T10:18:23.855617Z",
     "iopub.status.idle": "2021-06-28T10:18:23.864191Z",
     "shell.execute_reply": "2021-06-28T10:18:23.864661Z",
     "shell.execute_reply.started": "2021-06-26T19:26:41.261022Z"
    },
    "papermill": {
     "duration": 0.115021,
     "end_time": "2021-06-28T10:18:23.864890",
     "exception": false,
     "start_time": "2021-06-28T10:18:23.749869",
     "status": "completed"
    },
    "tags": []
   },
   "outputs": [],
   "source": [
    "ml=ml.apply(lambda x: x.fillna(x.mean()))"
   ]
  },
  {
   "cell_type": "code",
   "execution_count": 76,
   "id": "missing-acting",
   "metadata": {
    "execution": {
     "iopub.execute_input": "2021-06-28T10:18:24.074348Z",
     "iopub.status.busy": "2021-06-28T10:18:24.073622Z",
     "iopub.status.idle": "2021-06-28T10:18:24.700351Z",
     "shell.execute_reply": "2021-06-28T10:18:24.699691Z",
     "shell.execute_reply.started": "2021-06-26T19:26:41.277971Z"
    },
    "papermill": {
     "duration": 0.733667,
     "end_time": "2021-06-28T10:18:24.700525",
     "exception": false,
     "start_time": "2021-06-28T10:18:23.966858",
     "status": "completed"
    },
    "tags": []
   },
   "outputs": [
    {
     "data": {
      "text/plain": [
       "<AxesSubplot:>"
      ]
     },
     "execution_count": 76,
     "metadata": {},
     "output_type": "execute_result"
    },
    {
     "data": {
      "image/png": "[encoded data removed]",
      "text/plain": [
       "<Figure size 432x288 with 2 Axes>"
      ]
     },
     "metadata": {
      "needs_background": "light"
     },
     "output_type": "display_data"
    }
   ],
   "source": [
    "sns.heatmap(ml.isnull(),cmap='Oranges')"
   ]
  },
  {
   "cell_type": "code",
   "execution_count": 77,
   "id": "gross-lawrence",
   "metadata": {
    "execution": {
     "iopub.execute_input": "2021-06-28T10:18:24.929128Z",
     "iopub.status.busy": "2021-06-28T10:18:24.928390Z",
     "iopub.status.idle": "2021-06-28T10:18:24.932688Z",
     "shell.execute_reply": "2021-06-28T10:18:24.932130Z",
     "shell.execute_reply.started": "2021-06-26T19:26:41.646223Z"
    },
    "papermill": {
     "duration": 0.120153,
     "end_time": "2021-06-28T10:18:24.932887",
     "exception": false,
     "start_time": "2021-06-28T10:18:24.812734",
     "status": "completed"
    },
    "tags": []
   },
   "outputs": [],
   "source": [
    "from sklearn.linear_model import LinearRegression\n",
    "from sklearn.model_selection import train_test_split\n",
    "from sklearn.metrics import mean_absolute_error,mean_squared_error,r2_score"
   ]
  },
  {
   "cell_type": "code",
   "execution_count": 78,
   "id": "willing-documentary",
   "metadata": {
    "execution": {
     "iopub.execute_input": "2021-06-28T10:18:25.153384Z",
     "iopub.status.busy": "2021-06-28T10:18:25.151299Z",
     "iopub.status.idle": "2021-06-28T10:18:25.156883Z",
     "shell.execute_reply": "2021-06-28T10:18:25.157354Z",
     "shell.execute_reply.started": "2021-06-26T19:26:41.655646Z"
    },
    "papermill": {
     "duration": 0.118365,
     "end_time": "2021-06-28T10:18:25.157563",
     "exception": false,
     "start_time": "2021-06-28T10:18:25.039198",
     "status": "completed"
    },
    "tags": []
   },
   "outputs": [],
   "source": [
    "X= ml.drop('suicide_rate',axis=1)\n",
    "y= ml['suicide_rate']\n",
    "X_train, X_test, y_train, y_test = train_test_split(X, y, test_size=0.2, random_state=101)"
   ]
  },
  {
   "cell_type": "code",
   "execution_count": 79,
   "id": "korean-preliminary",
   "metadata": {
    "execution": {
     "iopub.execute_input": "2021-06-28T10:18:25.379877Z",
     "iopub.status.busy": "2021-06-28T10:18:25.378859Z",
     "iopub.status.idle": "2021-06-28T10:18:25.382953Z",
     "shell.execute_reply": "2021-06-28T10:18:25.382255Z",
     "shell.execute_reply.started": "2021-06-26T19:26:41.669633Z"
    },
    "papermill": {
     "duration": 0.122173,
     "end_time": "2021-06-28T10:18:25.383136",
     "exception": false,
     "start_time": "2021-06-28T10:18:25.260963",
     "status": "completed"
    },
    "tags": []
   },
   "outputs": [],
   "source": [
    "lr= LinearRegression()\n",
    "lr.fit(X_train,y_train)\n",
    "pred= lr.predict(X_test)"
   ]
  },
  {
   "cell_type": "code",
   "execution_count": 80,
   "id": "outstanding-tongue",
   "metadata": {
    "execution": {
     "iopub.execute_input": "2021-06-28T10:18:25.604200Z",
     "iopub.status.busy": "2021-06-28T10:18:25.603482Z",
     "iopub.status.idle": "2021-06-28T10:18:25.607187Z",
     "shell.execute_reply": "2021-06-28T10:18:25.606554Z",
     "shell.execute_reply.started": "2021-06-26T19:26:41.683777Z"
    },
    "papermill": {
     "duration": 0.114865,
     "end_time": "2021-06-28T10:18:25.607361",
     "exception": false,
     "start_time": "2021-06-28T10:18:25.492496",
     "status": "completed"
    },
    "tags": []
   },
   "outputs": [],
   "source": [
    "def eva(y_test,pred):\n",
    "    print('MAE=',(mean_absolute_error(y_test,pred)))\n",
    "    print('MSE=',(mean_squared_error(y_test,pred)))\n",
    "    print('Determination coeff. =', (r2_score(y_test,pred)))"
   ]
  },
  {
   "cell_type": "code",
   "execution_count": 81,
   "id": "otherwise-stopping",
   "metadata": {
    "execution": {
     "iopub.execute_input": "2021-06-28T10:18:25.826042Z",
     "iopub.status.busy": "2021-06-28T10:18:25.824920Z",
     "iopub.status.idle": "2021-06-28T10:18:25.831254Z",
     "shell.execute_reply": "2021-06-28T10:18:25.830651Z",
     "shell.execute_reply.started": "2021-06-26T19:26:41.696387Z"
    },
    "papermill": {
     "duration": 0.118395,
     "end_time": "2021-06-28T10:18:25.831528",
     "exception": false,
     "start_time": "2021-06-28T10:18:25.713133",
     "status": "completed"
    },
    "tags": []
   },
   "outputs": [
    {
     "name": "stdout",
     "output_type": "stream",
     "text": [
      "MAE= 4.225825279231344\n",
      "MSE= 28.36419832345689\n",
      "Determination coeff. = 0.12655460787343842\n"
     ]
    }
   ],
   "source": [
    "eva(y_test,pred)"
   ]
  },
  {
   "cell_type": "code",
   "execution_count": 82,
   "id": "formed-arnold",
   "metadata": {
    "execution": {
     "iopub.execute_input": "2021-06-28T10:18:26.047582Z",
     "iopub.status.busy": "2021-06-28T10:18:26.046534Z",
     "iopub.status.idle": "2021-06-28T10:18:26.051321Z",
     "shell.execute_reply": "2021-06-28T10:18:26.052339Z",
     "shell.execute_reply.started": "2021-06-26T19:26:41.716869Z"
    },
    "papermill": {
     "duration": 0.116927,
     "end_time": "2021-06-28T10:18:26.052600",
     "exception": false,
     "start_time": "2021-06-28T10:18:25.935673",
     "status": "completed"
    },
    "tags": []
   },
   "outputs": [
    {
     "data": {
      "text/plain": [
       "array([ 0.17239305, -0.71298545, -0.17639743,  0.1627694 ,  0.02277947,\n",
       "       -0.02405126])"
      ]
     },
     "execution_count": 82,
     "metadata": {},
     "output_type": "execute_result"
    }
   ],
   "source": [
    "lr.coef_"
   ]
  },
  {
   "cell_type": "code",
   "execution_count": 83,
   "id": "seeing-headline",
   "metadata": {
    "execution": {
     "iopub.execute_input": "2021-06-28T10:18:26.287551Z",
     "iopub.status.busy": "2021-06-28T10:18:26.286521Z",
     "iopub.status.idle": "2021-06-28T10:18:26.289719Z",
     "shell.execute_reply": "2021-06-28T10:18:26.289113Z",
     "shell.execute_reply.started": "2021-06-26T19:26:41.727971Z"
    },
    "papermill": {
     "duration": 0.12646,
     "end_time": "2021-06-28T10:18:26.290268",
     "exception": false,
     "start_time": "2021-06-28T10:18:26.163808",
     "status": "completed"
    },
    "tags": []
   },
   "outputs": [],
   "source": [
    "finalcoeff=pd.DataFrame(lr.coef_, X.columns,columns=['Coeff']).sort_values('Coeff',ascending=False)"
   ]
  },
  {
   "cell_type": "code",
   "execution_count": 84,
   "id": "wound-garbage",
   "metadata": {
    "execution": {
     "iopub.execute_input": "2021-06-28T10:18:26.538147Z",
     "iopub.status.busy": "2021-06-28T10:18:26.537382Z",
     "iopub.status.idle": "2021-06-28T10:18:26.543278Z",
     "shell.execute_reply": "2021-06-28T10:18:26.542629Z",
     "shell.execute_reply.started": "2021-06-26T19:26:41.737988Z"
    },
    "papermill": {
     "duration": 0.136621,
     "end_time": "2021-06-28T10:18:26.543485",
     "exception": false,
     "start_time": "2021-06-28T10:18:26.406864",
     "status": "completed"
    },
    "tags": []
   },
   "outputs": [
    {
     "data": {
      "text/html": [
       "<div>\n",
       "<style scoped>\n",
       "    .dataframe tbody tr th:only-of-type {\n",
       "        vertical-align: middle;\n",
       "    }\n",
       "\n",
       "    .dataframe tbody tr th {\n",
       "        vertical-align: top;\n",
       "    }\n",
       "\n",
       "    .dataframe thead th {\n",
       "        text-align: right;\n",
       "    }\n",
       "</style>\n",
       "<table border=\"1\" class=\"dataframe\">\n",
       "  <thead>\n",
       "    <tr style=\"text-align: right;\">\n",
       "      <th></th>\n",
       "      <th>Coeff</th>\n",
       "    </tr>\n",
       "  </thead>\n",
       "  <tbody>\n",
       "    <tr>\n",
       "      <th>Mental _hospitals</th>\n",
       "      <td>0.172393</td>\n",
       "    </tr>\n",
       "    <tr>\n",
       "      <th>Psychiatrists</th>\n",
       "      <td>0.162769</td>\n",
       "    </tr>\n",
       "    <tr>\n",
       "      <th>Nurses</th>\n",
       "      <td>0.022779</td>\n",
       "    </tr>\n",
       "    <tr>\n",
       "      <th>Psychologists</th>\n",
       "      <td>-0.024051</td>\n",
       "    </tr>\n",
       "    <tr>\n",
       "      <th>outpatient _facilities</th>\n",
       "      <td>-0.176397</td>\n",
       "    </tr>\n",
       "    <tr>\n",
       "      <th>health_units</th>\n",
       "      <td>-0.712985</td>\n",
       "    </tr>\n",
       "  </tbody>\n",
       "</table>\n",
       "</div>"
      ],
      "text/plain": [
       "                           Coeff\n",
       "Mental _hospitals       0.172393\n",
       "Psychiatrists           0.162769\n",
       "Nurses                  0.022779\n",
       "Psychologists          -0.024051\n",
       "outpatient _facilities -0.176397\n",
       "health_units           -0.712985"
      ]
     },
     "execution_count": 84,
     "metadata": {},
     "output_type": "execute_result"
    }
   ],
   "source": [
    "finalcoeff"
   ]
  },
  {
   "cell_type": "code",
   "execution_count": 85,
   "id": "aboriginal-grammar",
   "metadata": {
    "execution": {
     "iopub.execute_input": "2021-06-28T10:18:26.797148Z",
     "iopub.status.busy": "2021-06-28T10:18:26.788961Z",
     "iopub.status.idle": "2021-06-28T10:18:27.042872Z",
     "shell.execute_reply": "2021-06-28T10:18:27.043406Z",
     "shell.execute_reply.started": "2021-06-26T19:26:41.753078Z"
    },
    "papermill": {
     "duration": 0.395641,
     "end_time": "2021-06-28T10:18:27.043601",
     "exception": false,
     "start_time": "2021-06-28T10:18:26.647960",
     "status": "completed"
    },
    "tags": []
   },
   "outputs": [
    {
     "data": {
      "text/plain": [
       "<AxesSubplot:>"
      ]
     },
     "execution_count": 85,
     "metadata": {},
     "output_type": "execute_result"
    },
    {
     "data": {
      "image/png": "[encoded data removed]",
      "text/plain": [
       "<Figure size 432x288 with 2 Axes>"
      ]
     },
     "metadata": {
      "needs_background": "light"
     },
     "output_type": "display_data"
    }
   ],
   "source": [
    "sns.heatmap(finalcoeff,cmap='Oranges')"
   ]
  },
  {
   "cell_type": "code",
   "execution_count": 86,
   "id": "comparative-nancy",
   "metadata": {
    "execution": {
     "iopub.execute_input": "2021-06-28T10:18:27.288919Z",
     "iopub.status.busy": "2021-06-28T10:18:27.288235Z",
     "iopub.status.idle": "2021-06-28T10:18:27.557084Z",
     "shell.execute_reply": "2021-06-28T10:18:27.557616Z",
     "shell.execute_reply.started": "2021-06-26T19:26:41.987283Z"
    },
    "papermill": {
     "duration": 0.399589,
     "end_time": "2021-06-28T10:18:27.557818",
     "exception": false,
     "start_time": "2021-06-28T10:18:27.158229",
     "status": "completed"
    },
    "tags": []
   },
   "outputs": [
    {
     "data": {
      "text/plain": [
       "<AxesSubplot:xlabel='suicide_rate', ylabel='Mental _hospitals'>"
      ]
     },
     "execution_count": 86,
     "metadata": {},
     "output_type": "execute_result"
    },
    {
     "data": {
      "image/png": "[encoded data removed]",
      "text/plain": [
       "<Figure size 864x432 with 1 Axes>"
      ]
     },
     "metadata": {
      "needs_background": "light"
     },
     "output_type": "display_data"
    }
   ],
   "source": [
    "plt.figure(figsize=(12,6))\n",
    "plt.ylim(0,0.6)\n",
    "sns.regplot(x='suicide_rate',y='Mental _hospitals',color='orange',data=ml)\n"
   ]
  },
  {
   "cell_type": "code",
   "execution_count": 87,
   "id": "environmental-casino",
   "metadata": {
    "execution": {
     "iopub.execute_input": "2021-06-28T10:18:27.773469Z",
     "iopub.status.busy": "2021-06-28T10:18:27.772859Z",
     "iopub.status.idle": "2021-06-28T10:18:28.067812Z",
     "shell.execute_reply": "2021-06-28T10:18:28.068300Z",
     "shell.execute_reply.started": "2021-06-26T19:26:42.288272Z"
    },
    "papermill": {
     "duration": 0.405053,
     "end_time": "2021-06-28T10:18:28.068518",
     "exception": false,
     "start_time": "2021-06-28T10:18:27.663465",
     "status": "completed"
    },
    "tags": []
   },
   "outputs": [
    {
     "data": {
      "text/plain": [
       "<AxesSubplot:xlabel='suicide_rate', ylabel='Psychiatrists'>"
      ]
     },
     "execution_count": 87,
     "metadata": {},
     "output_type": "execute_result"
    },
    {
     "data": {
      "image/png": "[encoded data removed]",
      "text/plain": [
       "<Figure size 864x432 with 1 Axes>"
      ]
     },
     "metadata": {
      "needs_background": "light"
     },
     "output_type": "display_data"
    }
   ],
   "source": [
    "plt.figure(figsize=(12,6))\n",
    "plt.ylim(0,20)\n",
    "sns.regplot(x='suicide_rate',y='Psychiatrists',color='orange',data=ml)"
   ]
  },
  {
   "cell_type": "markdown",
   "id": "swedish-mentor",
   "metadata": {
    "papermill": {
     "duration": 0.115344,
     "end_time": "2021-06-28T10:18:28.294484",
     "exception": false,
     "start_time": "2021-06-28T10:18:28.179140",
     "status": "completed"
    },
    "tags": []
   },
   "source": [
    "##### Having a .12 r2 score means we can't extract any solid conclusions from our data, but our regression analysis suggests that having a higher rate of psychiatrists and mental hospitals MIGHT increase suicide rates ####"
   ]
  },
  {
   "cell_type": "markdown",
   "id": "abandoned-solomon",
   "metadata": {
    "papermill": {
     "duration": 0.11225,
     "end_time": "2021-06-28T10:18:28.514579",
     "exception": false,
     "start_time": "2021-06-28T10:18:28.402329",
     "status": "completed"
    },
    "tags": []
   },
   "source": [
    "# Top 10 highest and lowest scores"
   ]
  },
  {
   "cell_type": "code",
   "execution_count": 88,
   "id": "legitimate-banner",
   "metadata": {
    "execution": {
     "iopub.execute_input": "2021-06-28T10:18:28.740764Z",
     "iopub.status.busy": "2021-06-28T10:18:28.740085Z",
     "iopub.status.idle": "2021-06-28T10:18:28.745448Z",
     "shell.execute_reply": "2021-06-28T10:18:28.745931Z",
     "shell.execute_reply.started": "2021-06-26T19:26:42.58522Z"
    },
    "papermill": {
     "duration": 0.122233,
     "end_time": "2021-06-28T10:18:28.746121",
     "exception": false,
     "start_time": "2021-06-28T10:18:28.623888",
     "status": "completed"
    },
    "tags": []
   },
   "outputs": [],
   "source": [
    "highest=full.sort_values('suicide_rate',ascending=False)\n",
    "highest.reset_index(inplace=True)\n",
    "highest.drop('index',axis=1,inplace=True)\n",
    "\n",
    "lowest=full.sort_values('suicide_rate',ascending=True)\n",
    "lowest.reset_index(inplace=True)\n",
    "lowest.drop('index',axis=1,inplace=True)"
   ]
  },
  {
   "cell_type": "code",
   "execution_count": 89,
   "id": "interracial-drain",
   "metadata": {
    "execution": {
     "iopub.execute_input": "2021-06-28T10:18:28.967674Z",
     "iopub.status.busy": "2021-06-28T10:18:28.967022Z",
     "iopub.status.idle": "2021-06-28T10:18:28.975991Z",
     "shell.execute_reply": "2021-06-28T10:18:28.976519Z",
     "shell.execute_reply.started": "2021-06-26T19:26:42.601163Z"
    },
    "papermill": {
     "duration": 0.121512,
     "end_time": "2021-06-28T10:18:28.976722",
     "exception": false,
     "start_time": "2021-06-28T10:18:28.855210",
     "status": "completed"
    },
    "tags": []
   },
   "outputs": [],
   "source": [
    "hhrr= highest[['Country','Psychiatrists','Nurses','Psychologists','suicide_rate']]\n",
    "facilities= highest.drop(['Psychiatrists','Nurses','Psychologists'],axis=1)\n",
    "\n",
    "hhrr2= lowest[['Country','Psychiatrists','Nurses','Psychologists','suicide_rate']]\n",
    "facilities2=lowest.drop(['Psychiatrists','Nurses','Psychologists'],axis=1)\n"
   ]
  },
  {
   "cell_type": "code",
   "execution_count": 90,
   "id": "banned-ordinance",
   "metadata": {
    "execution": {
     "iopub.execute_input": "2021-06-28T10:18:29.199092Z",
     "iopub.status.busy": "2021-06-28T10:18:29.198329Z",
     "iopub.status.idle": "2021-06-28T10:18:29.419732Z",
     "shell.execute_reply": "2021-06-28T10:18:29.420242Z",
     "shell.execute_reply.started": "2021-06-26T19:26:42.615025Z"
    },
    "papermill": {
     "duration": 0.335018,
     "end_time": "2021-06-28T10:18:29.420444",
     "exception": false,
     "start_time": "2021-06-28T10:18:29.085426",
     "status": "completed"
    },
    "tags": []
   },
   "outputs": [
    {
     "data": {
      "text/plain": [
       "<matplotlib.legend.Legend at 0x7fac7e74e690>"
      ]
     },
     "execution_count": 90,
     "metadata": {},
     "output_type": "execute_result"
    },
    {
     "data": {
      "image/png": "[encoded data removed]",
      "text/plain": [
       "<Figure size 864x432 with 1 Axes>"
      ]
     },
     "metadata": {
      "needs_background": "light"
     },
     "output_type": "display_data"
    }
   ],
   "source": [
    "plt.figure(figsize=(12,6))\n",
    "plt.title('Facility comparison: Highest suicide rate countries vs lowest')\n",
    "facilities.head(10)[['Mental _hospitals','health_units','outpatient _facilities']].mean().plot(linestyle='dashed',color='blue',marker='o',markersize=10,label='Highest Suicide Rate')\n",
    "facilities2.head(10)[['Mental _hospitals','health_units','outpatient _facilities']].mean().plot(color='orange',marker='o',markersize=10,label='Lowest Suicide Rate')\n",
    "plt.legend(loc=\"upper left\")"
   ]
  },
  {
   "cell_type": "code",
   "execution_count": 91,
   "id": "disturbed-concentration",
   "metadata": {
    "execution": {
     "iopub.execute_input": "2021-06-28T10:18:29.668137Z",
     "iopub.status.busy": "2021-06-28T10:18:29.664297Z",
     "iopub.status.idle": "2021-06-28T10:18:29.850039Z",
     "shell.execute_reply": "2021-06-28T10:18:29.849295Z",
     "shell.execute_reply.started": "2021-06-26T19:26:42.830705Z"
    },
    "papermill": {
     "duration": 0.318453,
     "end_time": "2021-06-28T10:18:29.850212",
     "exception": false,
     "start_time": "2021-06-28T10:18:29.531759",
     "status": "completed"
    },
    "tags": []
   },
   "outputs": [
    {
     "data": {
      "text/plain": [
       "<matplotlib.legend.Legend at 0x7fac7e764a50>"
      ]
     },
     "execution_count": 91,
     "metadata": {},
     "output_type": "execute_result"
    },
    {
     "data": {
      "image/png": "[encoded data removed]",
      "text/plain": [
       "<Figure size 864x432 with 1 Axes>"
      ]
     },
     "metadata": {
      "needs_background": "light"
     },
     "output_type": "display_data"
    }
   ],
   "source": [
    "plt.figure(figsize=(12,6))\n",
    "plt.title('Human resource comparison: Highest suicide rate countries vs lowest')\n",
    "hhrr.head(10)[['Psychiatrists', 'Nurses', 'Psychologists']].mean().plot(linestyle='dashed',color='blue',marker='o',markersize=10,label='Highest Suicide Rate')\n",
    "hhrr2.head(10)[['Psychiatrists', 'Nurses', 'Psychologists']].mean().plot(color='orange',marker='o',markersize=10,label='Lowest Suicide Rate')\n",
    "plt.legend(loc=\"upper left\")"
   ]
  },
  {
   "cell_type": "markdown",
   "id": "yellow-dallas",
   "metadata": {
    "papermill": {
     "duration": 0.112037,
     "end_time": "2021-06-28T10:18:30.075463",
     "exception": false,
     "start_time": "2021-06-28T10:18:29.963426",
     "status": "completed"
    },
    "tags": []
   },
   "source": [
    "*Geographical location for the top 10 countries with the **highest** suicide rate: **South America**: 1, **Africa**: 4 ,**Eastern Europe**: 3, **Asia**: 2 (1 northern asia, 1 south asia).*"
   ]
  },
  {
   "cell_type": "markdown",
   "id": "japanese-bacteria",
   "metadata": {
    "papermill": {
     "duration": 0.11121,
     "end_time": "2021-06-28T10:18:30.298737",
     "exception": false,
     "start_time": "2021-06-28T10:18:30.187527",
     "status": "completed"
    },
    "tags": []
   },
   "source": [
    "*Geographical location for the top 10 countries with the **lowest** suicide rate: **South America**: 3 (2 Caribbean, 1 mainland), **Middle East**: 4 , **Africa**: 2 , **Central Asia**: 1.*"
   ]
  },
  {
   "cell_type": "markdown",
   "id": "touched-julian",
   "metadata": {
    "papermill": {
     "duration": 0.127062,
     "end_time": "2021-06-28T10:18:30.535994",
     "exception": false,
     "start_time": "2021-06-28T10:18:30.408932",
     "status": "completed"
    },
    "tags": []
   },
   "source": [
    "***The top countries with a lower suicide rate showed a higher rate of psychologists & outpatient facilities, as well as a fewer amount of psychiatrists, but the final analysis is inconclusive, as our full analysis wasn't capable of explaining the suicide rate variable, some reasons might be: Absence of variables that might've been important (socioeconomic, culture related, etc.), bigger sample size & missing data.*** "
   ]
  }
 ],
 "metadata": {
  "kernelspec": {
   "display_name": "Python 3 (ipykernel)",
   "language": "python",
   "name": "python3"
  },
  "language_info": {
   "codemirror_mode": {
    "name": "ipython",
    "version": 3
   },
   "file_extension": ".py",
   "mimetype": "text/x-python",
   "name": "python",
   "nbconvert_exporter": "python",
   "pygments_lexer": "ipython3",
   "version": "3.9.7"
  },
  "papermill": {
   "default_parameters": {},
   "duration": 49.142384,
   "end_time": "2021-06-28T10:18:32.516462",
   "environment_variables": {},
   "exception": null,
   "input_path": "__notebook__.ipynb",
   "output_path": "__notebook__.ipynb",
   "parameters": {},
   "start_time": "2021-06-28T10:17:43.374078",
   "version": "2.3.3"
  }
 },
 "nbformat": 4,
 "nbformat_minor": 5
}
