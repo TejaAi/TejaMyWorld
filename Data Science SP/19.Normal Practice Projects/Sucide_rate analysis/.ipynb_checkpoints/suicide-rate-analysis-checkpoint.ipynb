{
 "cells": [
  {
   "cell_type": "markdown",
   "metadata": {},
   "source": [
    "# Suicide Rate Analysis"
   ]
  },
  {
   "cell_type": "markdown",
   "metadata": {},
   "source": [
    "## Introduction\n",
    "\n",
    "Close to 800 000 people die due to suicide every year, which is one person every 40 seconds. Suicide is a global phenomenon and occurs throughout the lifespan. Effective and evidence-based interventions can be implemented at population, sub-population and individual levels to prevent suicide and suicide attempts. There are indications that for each adult who died by suicide there may have been more than 20 others attempting suicide.\n",
    "\n",
    "Suicide is a complex issue and therefore suicide prevention efforts require coordination and collaboration among multiple sectors of society, including the health sector and other sectors such as education, labour, agriculture, business, justice, law, defense, politics, and the media. These efforts must be comprehensive and integrated as no single approach alone can make an impact on an issue as complex as suicide."
   ]
  },
  {
   "cell_type": "markdown",
   "metadata": {},
   "source": [
    "## Objective\n",
    "\n",
    "* This Project is aimed at accessing Mental health generally by analyzing global suicide rate data \n",
    "* Predicting sentiment and Suicide intentions in tweets from Twitter.com"
   ]
  },
  {
   "cell_type": "markdown",
   "metadata": {},
   "source": [
    "## Install & Import Libraries"
   ]
  },
  {
   "cell_type": "code",
   "execution_count": null,
   "metadata": {
    "execution": {
     "iopub.execute_input": "2021-11-11T17:44:52.127522Z",
     "iopub.status.busy": "2021-11-11T17:44:52.127263Z",
     "iopub.status.idle": "2021-11-11T17:45:03.143844Z",
     "shell.execute_reply": "2021-11-11T17:45:03.142801Z",
     "shell.execute_reply.started": "2021-11-11T17:44:52.127495Z"
    }
   },
   "outputs": [],
   "source": [
    "pip install chart_studio"
   ]
  },
  {
   "cell_type": "code",
   "execution_count": null,
   "metadata": {
    "_cell_guid": "b1076dfc-b9ad-4769-8c92-a6c4dae69d19",
    "_uuid": "8f2839f25d086af736a60e9eeb907d3b93b6e0e5",
    "execution": {
     "iopub.execute_input": "2021-11-11T17:45:03.146384Z",
     "iopub.status.busy": "2021-11-11T17:45:03.146107Z",
     "iopub.status.idle": "2021-11-11T17:45:03.357739Z",
     "shell.execute_reply": "2021-11-11T17:45:03.356864Z",
     "shell.execute_reply.started": "2021-11-11T17:45:03.146352Z"
    }
   },
   "outputs": [],
   "source": [
    "# This Python 3 environment comes with many helpful analytics libraries installed\n",
    "# It is defined by the kaggle/python Docker image: https://github.com/kaggle/docker-python\n",
    "# For example, here's several helpful packages to load\n",
    "\n",
    "import numpy as np # linear algebra\n",
    "import pandas as pd # data processing, CSV file I/O (e.g. pd.read_csv)\n",
    "from pandas_profiling import ProfileReport\n",
    "import plotly.express as px\n",
    "import matplotlib.pyplot as plt\n",
    "import matplotlib.patches as mpatches\n",
    "import seaborn as sns\n",
    "sns.set_palette(\"pastel\")\n",
    "import pickle\n",
    "\n",
    "from sklearn.model_selection import train_test_split\n",
    "from sklearn.linear_model import LinearRegression\n",
    "from sklearn.metrics import mean_absolute_error,mean_squared_error,r2_score\n",
    "\n",
    "from chart_studio import plotly\n",
    "import chart_studio.plotly as py\n",
    "import plotly.graph_objs as go \n",
    "import plotly.express as px \n",
    "from plotly.offline import download_plotlyjs, init_notebook_mode, plot, iplot\n",
    "import chart_studio.tools as ctls\n",
    "%matplotlib inline\n",
    "\n",
    "#log in to plotly\n",
    "\n",
    "username = \"***\"\n",
    "api_key = \"***\"\n",
    "\n",
    "ctls.set_credentials_file(username = username, api_key = api_key)\n",
    "\n",
    "# Input data files are available in the read-only \"../input/\" directory\n",
    "# For example, running this (by clicking run or pressing Shift+Enter) will list all files under the input directory\n",
    "\n",
    "import os\n",
    "for dirname, _, filenames in os.walk('/kaggle/input'):\n",
    "    for filename in filenames:\n",
    "        print(os.path.join(dirname, filename))\n",
    "\n",
    "# You can write up to 20GB to the current directory (/kaggle/working/) that gets preserved as output when you create a version using \"Save & Run All\" \n",
    "# You can also write temporary files to /kaggle/temp/, but they won't be saved outside of the current session"
   ]
  },
  {
   "cell_type": "markdown",
   "metadata": {},
   "source": [
    "## Dataset Preview\n"
   ]
  },
  {
   "cell_type": "code",
   "execution_count": null,
   "metadata": {
    "execution": {
     "iopub.execute_input": "2021-11-11T17:45:17.081559Z",
     "iopub.status.busy": "2021-11-11T17:45:17.081291Z",
     "iopub.status.idle": "2021-11-11T17:45:17.16174Z",
     "shell.execute_reply": "2021-11-11T17:45:17.16071Z",
     "shell.execute_reply.started": "2021-11-11T17:45:17.08153Z"
    }
   },
   "outputs": [],
   "source": [
    "df_age = pd.read_csv(\"../input/mental-health-and-suicide-rates/Age-standardized suicide rates.csv\")\n",
    "df_age.head()"
   ]
  },
  {
   "cell_type": "code",
   "execution_count": null,
   "metadata": {
    "execution": {
     "iopub.execute_input": "2021-11-11T17:45:17.529128Z",
     "iopub.status.busy": "2021-11-11T17:45:17.528537Z",
     "iopub.status.idle": "2021-11-11T17:45:46.405222Z",
     "shell.execute_reply": "2021-11-11T17:45:46.404307Z",
     "shell.execute_reply.started": "2021-11-11T17:45:17.529088Z"
    }
   },
   "outputs": [],
   "source": [
    "age_report = ProfileReport(df_age, title = \"Age Standardized Suicide Rate\")\n",
    "age_report.to_widgets()\n",
    "age_report.to_file(\"Age Standardized Suicide Rate.html\")"
   ]
  },
  {
   "cell_type": "code",
   "execution_count": null,
   "metadata": {
    "execution": {
     "iopub.execute_input": "2021-11-11T17:45:46.407857Z",
     "iopub.status.busy": "2021-11-11T17:45:46.407544Z",
     "iopub.status.idle": "2021-11-11T17:45:46.551212Z",
     "shell.execute_reply": "2021-11-11T17:45:46.550158Z",
     "shell.execute_reply.started": "2021-11-11T17:45:46.407816Z"
    }
   },
   "outputs": [],
   "source": [
    "df_sr = pd.read_csv(\"../input/suicide-rates-overview-1985-to-2016/master.csv\")\n",
    "df_sr.head()"
   ]
  },
  {
   "cell_type": "code",
   "execution_count": null,
   "metadata": {
    "execution": {
     "iopub.execute_input": "2021-11-11T10:09:22.734584Z",
     "iopub.status.busy": "2021-11-11T10:09:22.73381Z",
     "iopub.status.idle": "2021-11-11T10:10:12.979148Z",
     "shell.execute_reply": "2021-11-11T10:10:12.978265Z",
     "shell.execute_reply.started": "2021-11-11T10:09:22.73454Z"
    }
   },
   "outputs": [],
   "source": [
    "sr_report = ProfileReport(df_sr, title = \"Suicide Rate\")\n",
    "sr_report.to_widgets()\n",
    "sr_report.to_file(\"Suicide Rate.html\")"
   ]
  },
  {
   "cell_type": "code",
   "execution_count": null,
   "metadata": {
    "execution": {
     "iopub.execute_input": "2021-11-11T17:45:46.552768Z",
     "iopub.status.busy": "2021-11-11T17:45:46.552467Z",
     "iopub.status.idle": "2021-11-11T17:45:46.62894Z",
     "shell.execute_reply": "2021-11-11T17:45:46.628043Z",
     "shell.execute_reply.started": "2021-11-11T17:45:46.552736Z"
    }
   },
   "outputs": [],
   "source": [
    "df_sro = pd.read_csv(\"../input/suicide-rates-overview-1985-to-2016/master.csv\")\n",
    "df_sro.head()"
   ]
  },
  {
   "cell_type": "code",
   "execution_count": null,
   "metadata": {
    "execution": {
     "iopub.execute_input": "2021-11-11T11:00:25.535516Z",
     "iopub.status.busy": "2021-11-11T11:00:25.535194Z",
     "iopub.status.idle": "2021-11-11T11:01:18.533558Z",
     "shell.execute_reply": "2021-11-11T11:01:18.532659Z",
     "shell.execute_reply.started": "2021-11-11T11:00:25.535482Z"
    }
   },
   "outputs": [],
   "source": [
    "sro_report = ProfileReport(df_sro, title = \"Suicide Rate overview\")\n",
    "sro_report.to_widgets()\n",
    "sro_report.to_file(\"Suicide Rate Overview.html\")"
   ]
  },
  {
   "cell_type": "markdown",
   "metadata": {},
   "source": [
    "## Exploratory Data Analysis"
   ]
  },
  {
   "cell_type": "code",
   "execution_count": null,
   "metadata": {
    "execution": {
     "iopub.execute_input": "2021-11-11T09:59:29.055161Z",
     "iopub.status.busy": "2021-11-11T09:59:29.054891Z",
     "iopub.status.idle": "2021-11-11T09:59:29.062615Z",
     "shell.execute_reply": "2021-11-11T09:59:29.061522Z",
     "shell.execute_reply.started": "2021-11-11T09:59:29.05513Z"
    }
   },
   "outputs": [],
   "source": [
    "#Replace empty spaces in sex values\n",
    "df_age.replace([\" Both sexes\", \" Male\", \" Female\"], [\"Both sexes\", \"Male\", \"Female\"], inplace = True)"
   ]
  },
  {
   "cell_type": "code",
   "execution_count": null,
   "metadata": {
    "execution": {
     "iopub.execute_input": "2021-11-11T09:59:29.064913Z",
     "iopub.status.busy": "2021-11-11T09:59:29.064164Z",
     "iopub.status.idle": "2021-11-11T09:59:29.088551Z",
     "shell.execute_reply": "2021-11-11T09:59:29.087882Z",
     "shell.execute_reply.started": "2021-11-11T09:59:29.064879Z"
    }
   },
   "outputs": [],
   "source": [
    "#Both sexes dataset\n",
    "df_age_both = df_age[df_age[\"Sex\"] == \"Both sexes\"]\n",
    "df_age_both.head()"
   ]
  },
  {
   "cell_type": "code",
   "execution_count": null,
   "metadata": {
    "execution": {
     "iopub.execute_input": "2021-11-11T09:59:29.090275Z",
     "iopub.status.busy": "2021-11-11T09:59:29.089677Z",
     "iopub.status.idle": "2021-11-11T09:59:29.1104Z",
     "shell.execute_reply": "2021-11-11T09:59:29.1096Z",
     "shell.execute_reply.started": "2021-11-11T09:59:29.090226Z"
    }
   },
   "outputs": [],
   "source": [
    "#Male dataset\n",
    "df_age_male = df_age[df_age[\"Sex\"] == \"Male\"]\n",
    "df_age_male.head()"
   ]
  },
  {
   "cell_type": "code",
   "execution_count": null,
   "metadata": {
    "execution": {
     "iopub.execute_input": "2021-11-11T09:59:29.112887Z",
     "iopub.status.busy": "2021-11-11T09:59:29.111933Z",
     "iopub.status.idle": "2021-11-11T09:59:29.132121Z",
     "shell.execute_reply": "2021-11-11T09:59:29.131007Z",
     "shell.execute_reply.started": "2021-11-11T09:59:29.112842Z"
    }
   },
   "outputs": [],
   "source": [
    "#Female dataset\n",
    "df_age_female = df_age[df_age[\"Sex\"] == \"Female\"]\n",
    "df_age_female.head()"
   ]
  },
  {
   "cell_type": "code",
   "execution_count": null,
   "metadata": {
    "execution": {
     "iopub.execute_input": "2021-11-11T10:15:19.480087Z",
     "iopub.status.busy": "2021-11-11T10:15:19.479112Z",
     "iopub.status.idle": "2021-11-11T10:15:19.72716Z",
     "shell.execute_reply": "2021-11-11T10:15:19.726365Z",
     "shell.execute_reply.started": "2021-11-11T10:15:19.480038Z"
    }
   },
   "outputs": [],
   "source": [
    "#Plot Global Sum Suicide Rate by Year\n",
    "\n",
    "global_mean = df_age_both[[\"2000\", \"2010\", \"2015\", \"2016\"]].sum()\n",
    "plt.figure(figsize=(10, 5))\n",
    "plt.title(\"Global Sum Suicide Rate by Year\")\n",
    "global_mean.plot(marker = \"o\")"
   ]
  },
  {
   "cell_type": "code",
   "execution_count": null,
   "metadata": {
    "execution": {
     "iopub.execute_input": "2021-11-11T10:15:50.573799Z",
     "iopub.status.busy": "2021-11-11T10:15:50.573469Z",
     "iopub.status.idle": "2021-11-11T10:15:50.823771Z",
     "shell.execute_reply": "2021-11-11T10:15:50.823027Z",
     "shell.execute_reply.started": "2021-11-11T10:15:50.573762Z"
    }
   },
   "outputs": [],
   "source": [
    "#Plot Global Sum of Suicide Rate by Year by Gender\n",
    "plt.figure(figsize=(10, 5))\n",
    "plt.title(\"Global Sum of Suicide Rate by  Gender\")\n",
    "df_age_male[[\"2000\", \"2010\", \"2015\", \"2016\"]].sum().plot(marker = \"o\")\n",
    "df_age_female[[\"2000\", \"2010\", \"2015\", \"2016\"]].sum().plot(marker = \"x\")\n",
    "plt.legend([\"Male\", \"Female\"])"
   ]
  },
  {
   "cell_type": "code",
   "execution_count": null,
   "metadata": {
    "execution": {
     "iopub.execute_input": "2021-11-11T10:16:10.697616Z",
     "iopub.status.busy": "2021-11-11T10:16:10.696983Z",
     "iopub.status.idle": "2021-11-11T10:16:10.704597Z",
     "shell.execute_reply": "2021-11-11T10:16:10.703921Z",
     "shell.execute_reply.started": "2021-11-11T10:16:10.697577Z"
    }
   },
   "outputs": [],
   "source": [
    "#extract Data For NIgeria\n",
    "nigf = df_age_female[df_age_female[\"Country\"] == \"Nigeria\"]\n",
    "nigm = df_age_male[df_age_male[\"Country\"] == \"Nigeria\"]"
   ]
  },
  {
   "cell_type": "code",
   "execution_count": null,
   "metadata": {
    "execution": {
     "iopub.execute_input": "2021-11-11T10:16:14.144603Z",
     "iopub.status.busy": "2021-11-11T10:16:14.143909Z",
     "iopub.status.idle": "2021-11-11T10:16:14.357411Z",
     "shell.execute_reply": "2021-11-11T10:16:14.356611Z",
     "shell.execute_reply.started": "2021-11-11T10:16:14.14456Z"
    }
   },
   "outputs": [],
   "source": [
    "#Plot Nigeria Sum of Suicide Rate by Year\n",
    "plt.figure(figsize=(10, 5))\n",
    "plt.title(\"Nigeria Sum of Suicide Rate by Year\")\n",
    "nigm[[\"2000\", \"2010\", \"2015\", \"2016\"]].sum().plot(marker = \"o\")\n",
    "nigf[[\"2000\", \"2010\", \"2015\", \"2016\"]].sum().plot(marker = \"x\")\n",
    "plt.legend([\"Male\", \"Female\"])"
   ]
  },
  {
   "cell_type": "code",
   "execution_count": null,
   "metadata": {
    "execution": {
     "iopub.execute_input": "2021-11-11T09:59:29.785161Z",
     "iopub.status.busy": "2021-11-11T09:59:29.7849Z",
     "iopub.status.idle": "2021-11-11T09:59:29.800196Z",
     "shell.execute_reply": "2021-11-11T09:59:29.799159Z",
     "shell.execute_reply.started": "2021-11-11T09:59:29.785131Z"
    }
   },
   "outputs": [],
   "source": [
    "df_age.head()"
   ]
  },
  {
   "cell_type": "code",
   "execution_count": null,
   "metadata": {
    "execution": {
     "iopub.execute_input": "2021-11-11T09:59:29.802166Z",
     "iopub.status.busy": "2021-11-11T09:59:29.801797Z",
     "iopub.status.idle": "2021-11-11T09:59:29.826881Z",
     "shell.execute_reply": "2021-11-11T09:59:29.826199Z",
     "shell.execute_reply.started": "2021-11-11T09:59:29.802119Z"
    }
   },
   "outputs": [],
   "source": [
    "df_age[\"Sum\"] = df_age.sum(axis = 1)\n",
    "df_age.head()"
   ]
  },
  {
   "cell_type": "code",
   "execution_count": null,
   "metadata": {
    "execution": {
     "iopub.execute_input": "2021-11-11T09:59:29.828607Z",
     "iopub.status.busy": "2021-11-11T09:59:29.828184Z",
     "iopub.status.idle": "2021-11-11T09:59:29.852541Z",
     "shell.execute_reply": "2021-11-11T09:59:29.851916Z",
     "shell.execute_reply.started": "2021-11-11T09:59:29.828567Z"
    }
   },
   "outputs": [],
   "source": [
    "df_age_male[\"Sum\"] = df_age_male.sum(axis = 1)\n",
    "df_age_male.head()"
   ]
  },
  {
   "cell_type": "code",
   "execution_count": null,
   "metadata": {
    "execution": {
     "iopub.execute_input": "2021-11-11T09:59:29.85423Z",
     "iopub.status.busy": "2021-11-11T09:59:29.853826Z",
     "iopub.status.idle": "2021-11-11T09:59:29.869859Z",
     "shell.execute_reply": "2021-11-11T09:59:29.869196Z",
     "shell.execute_reply.started": "2021-11-11T09:59:29.854196Z"
    }
   },
   "outputs": [],
   "source": [
    "df_age_male_sort = df_age_male.sort_values(\"Sum\", ascending = False)\n",
    "df_age_male_sort.head()"
   ]
  },
  {
   "cell_type": "code",
   "execution_count": null,
   "metadata": {
    "execution": {
     "iopub.execute_input": "2021-11-11T09:59:29.872203Z",
     "iopub.status.busy": "2021-11-11T09:59:29.871341Z",
     "iopub.status.idle": "2021-11-11T09:59:29.89106Z",
     "shell.execute_reply": "2021-11-11T09:59:29.890082Z",
     "shell.execute_reply.started": "2021-11-11T09:59:29.872133Z"
    }
   },
   "outputs": [],
   "source": [
    "df_age_female[\"Sum\"] = df_age_female.sum(axis = 1)\n",
    "df_age_female.head()"
   ]
  },
  {
   "cell_type": "code",
   "execution_count": null,
   "metadata": {
    "execution": {
     "iopub.execute_input": "2021-11-11T09:59:29.893356Z",
     "iopub.status.busy": "2021-11-11T09:59:29.893Z",
     "iopub.status.idle": "2021-11-11T09:59:29.910735Z",
     "shell.execute_reply": "2021-11-11T09:59:29.9098Z",
     "shell.execute_reply.started": "2021-11-11T09:59:29.89331Z"
    }
   },
   "outputs": [],
   "source": [
    "df_age_female_sort = df_age_female.sort_values(\"Sum\", ascending = False)\n",
    "df_age_female_sort.head()"
   ]
  },
  {
   "cell_type": "code",
   "execution_count": null,
   "metadata": {
    "execution": {
     "iopub.execute_input": "2021-11-11T09:59:29.912936Z",
     "iopub.status.busy": "2021-11-11T09:59:29.912593Z",
     "iopub.status.idle": "2021-11-11T09:59:29.935858Z",
     "shell.execute_reply": "2021-11-11T09:59:29.934982Z",
     "shell.execute_reply.started": "2021-11-11T09:59:29.912891Z"
    }
   },
   "outputs": [],
   "source": [
    "df_age_both[\"Sum\"] = df_age_both.sum(axis = 1)\n",
    "df_age_both.head()"
   ]
  },
  {
   "cell_type": "code",
   "execution_count": null,
   "metadata": {
    "execution": {
     "iopub.execute_input": "2021-11-11T09:59:29.938264Z",
     "iopub.status.busy": "2021-11-11T09:59:29.937716Z",
     "iopub.status.idle": "2021-11-11T09:59:29.9494Z",
     "shell.execute_reply": "2021-11-11T09:59:29.948672Z",
     "shell.execute_reply.started": "2021-11-11T09:59:29.938219Z"
    }
   },
   "outputs": [],
   "source": [
    "df_age_both_sort = df_age_both.sort_values(\"Sum\", ascending = False)"
   ]
  },
  {
   "cell_type": "code",
   "execution_count": null,
   "metadata": {
    "execution": {
     "iopub.execute_input": "2021-11-11T09:59:29.951726Z",
     "iopub.status.busy": "2021-11-11T09:59:29.951139Z",
     "iopub.status.idle": "2021-11-11T09:59:29.974178Z",
     "shell.execute_reply": "2021-11-11T09:59:29.97342Z",
     "shell.execute_reply.started": "2021-11-11T09:59:29.951681Z"
    }
   },
   "outputs": [],
   "source": [
    "df_age_both_sort.head()"
   ]
  },
  {
   "cell_type": "code",
   "execution_count": null,
   "metadata": {
    "execution": {
     "iopub.execute_input": "2021-11-11T09:59:29.97613Z",
     "iopub.status.busy": "2021-11-11T09:59:29.975418Z",
     "iopub.status.idle": "2021-11-11T09:59:29.987009Z",
     "shell.execute_reply": "2021-11-11T09:59:29.986074Z",
     "shell.execute_reply.started": "2021-11-11T09:59:29.976077Z"
    }
   },
   "outputs": [],
   "source": [
    "male_lst = list(df_age_male_sort[:10].Country)\n",
    "male_lst"
   ]
  },
  {
   "cell_type": "code",
   "execution_count": null,
   "metadata": {},
   "outputs": [],
   "source": []
  },
  {
   "cell_type": "code",
   "execution_count": null,
   "metadata": {
    "execution": {
     "iopub.execute_input": "2021-11-11T09:59:29.98918Z",
     "iopub.status.busy": "2021-11-11T09:59:29.988424Z",
     "iopub.status.idle": "2021-11-11T09:59:30.343941Z",
     "shell.execute_reply": "2021-11-11T09:59:30.343284Z",
     "shell.execute_reply.started": "2021-11-11T09:59:29.989144Z"
    }
   },
   "outputs": [],
   "source": [
    "#Plot Top 10 country with highest Mean Suicide Rate\n",
    "plt.figure(figsize=(20, 7))\n",
    "data= df_age_both_sort[:10]\n",
    "data2 = df_age_male_sort[:10]\n",
    "data3 = df_age_female_sort[:10]\n",
    "plt.title(\"Top 10 country with highest Sum Suicide Rate\")\n",
    "sns.set_style(\"white\")\n",
    "sns.lineplot(x=\"Country\", y= \"Sum\", data= data2, marker = \"o\")\n",
    "sns.lineplot(x=male_lst, y=\"Sum\", data= data, marker = \"o\")\n",
    "sns.lineplot(x= male_lst, y= \"Sum\", data= data3, marker = \"o\")\n",
    "plt.legend([\"Both\", \"Male\", \"Female\"])\n",
    "\n",
    "plt.show()"
   ]
  },
  {
   "cell_type": "code",
   "execution_count": null,
   "metadata": {
    "execution": {
     "iopub.execute_input": "2021-11-11T09:59:30.395417Z",
     "iopub.status.busy": "2021-11-11T09:59:30.395149Z",
     "iopub.status.idle": "2021-11-11T09:59:30.415077Z",
     "shell.execute_reply": "2021-11-11T09:59:30.414382Z",
     "shell.execute_reply.started": "2021-11-11T09:59:30.395384Z"
    }
   },
   "outputs": [],
   "source": [
    "df_count = df_age[df_age[\"Sex\"] != \"Both sexes\"]\n",
    "df_count.head()"
   ]
  },
  {
   "cell_type": "code",
   "execution_count": null,
   "metadata": {
    "execution": {
     "iopub.execute_input": "2021-11-11T09:59:30.416724Z",
     "iopub.status.busy": "2021-11-11T09:59:30.416353Z",
     "iopub.status.idle": "2021-11-11T09:59:30.432348Z",
     "shell.execute_reply": "2021-11-11T09:59:30.431332Z",
     "shell.execute_reply.started": "2021-11-11T09:59:30.416686Z"
    }
   },
   "outputs": [],
   "source": [
    "df_age_male_sort.head()"
   ]
  },
  {
   "cell_type": "code",
   "execution_count": null,
   "metadata": {
    "execution": {
     "iopub.execute_input": "2021-11-11T09:59:30.442074Z",
     "iopub.status.busy": "2021-11-11T09:59:30.441001Z",
     "iopub.status.idle": "2021-11-11T09:59:30.459452Z",
     "shell.execute_reply": "2021-11-11T09:59:30.458531Z",
     "shell.execute_reply.started": "2021-11-11T09:59:30.442032Z"
    }
   },
   "outputs": [],
   "source": [
    "df_age_female_sort.head()"
   ]
  },
  {
   "cell_type": "code",
   "execution_count": null,
   "metadata": {
    "execution": {
     "iopub.execute_input": "2021-11-11T09:59:30.461272Z",
     "iopub.status.busy": "2021-11-11T09:59:30.46099Z",
     "iopub.status.idle": "2021-11-11T09:59:30.478331Z",
     "shell.execute_reply": "2021-11-11T09:59:30.477516Z",
     "shell.execute_reply.started": "2021-11-11T09:59:30.461243Z"
    }
   },
   "outputs": [],
   "source": [
    "df_age_both_sort.head()"
   ]
  },
  {
   "cell_type": "code",
   "execution_count": null,
   "metadata": {
    "execution": {
     "iopub.execute_input": "2021-11-11T10:31:21.639312Z",
     "iopub.status.busy": "2021-11-11T10:31:21.638426Z",
     "iopub.status.idle": "2021-11-11T10:31:21.655965Z",
     "shell.execute_reply": "2021-11-11T10:31:21.65546Z",
     "shell.execute_reply.started": "2021-11-11T10:31:21.63926Z"
    }
   },
   "outputs": [],
   "source": [
    "data=df_count.sort_values(\"Sum\", ascending = False)\n",
    "data.head()"
   ]
  },
  {
   "cell_type": "code",
   "execution_count": null,
   "metadata": {
    "execution": {
     "iopub.execute_input": "2021-11-11T10:45:44.025565Z",
     "iopub.status.busy": "2021-11-11T10:45:44.025189Z",
     "iopub.status.idle": "2021-11-11T10:45:45.352975Z",
     "shell.execute_reply": "2021-11-11T10:45:45.352049Z",
     "shell.execute_reply.started": "2021-11-11T10:45:44.025526Z"
    }
   },
   "outputs": [],
   "source": [
    "#sns.set_palette(\"pastel\")\n",
    "colors = sns.color_palette('pastel')[0:5]\n",
    "plt.figure(figsize=(20, 15\n",
    "                ))\n",
    "plt.title(\"World Suicide Rate\")\n",
    "sns.barplot(y=\"Country\", x=\"Sum\", data=df_age_male_sort[:50], color = \"lightblue\", estimator=sum, ci=None)\n",
    "sns.barplot(y=\"Country\", x=\"Sum\", data=df_age_female_sort[:50], color = \"darkblue\")\n",
    "\n",
    "\n",
    "top_bar = mpatches.Patch(color='darkblue', label='Female')\n",
    "bottom_bar = mpatches.Patch(color='lightblue', label='Male')\n",
    "plt.legend(handles=[top_bar, bottom_bar])\n",
    "\n"
   ]
  },
  {
   "cell_type": "markdown",
   "metadata": {},
   "source": [
    "Comparison of top 10 countries with highest male suicide rate"
   ]
  },
  {
   "cell_type": "code",
   "execution_count": null,
   "metadata": {
    "execution": {
     "iopub.execute_input": "2021-11-11T10:49:03.888249Z",
     "iopub.status.busy": "2021-11-11T10:49:03.887761Z",
     "iopub.status.idle": "2021-11-11T10:49:03.962663Z",
     "shell.execute_reply": "2021-11-11T10:49:03.96176Z",
     "shell.execute_reply.started": "2021-11-11T10:49:03.888216Z"
    }
   },
   "outputs": [],
   "source": [
    "df_sr = pd.read_csv(\"../input/suicide-rates-overview-1985-to-2016/master.csv\")\n",
    "df_sr.head()"
   ]
  },
  {
   "cell_type": "code",
   "execution_count": null,
   "metadata": {
    "execution": {
     "iopub.execute_input": "2021-11-11T10:49:14.826213Z",
     "iopub.status.busy": "2021-11-11T10:49:14.825464Z",
     "iopub.status.idle": "2021-11-11T10:49:14.839052Z",
     "shell.execute_reply": "2021-11-11T10:49:14.838463Z",
     "shell.execute_reply.started": "2021-11-11T10:49:14.826175Z"
    }
   },
   "outputs": [],
   "source": [
    "df_srs = df_sr.groupby([\"year\", \"age\"])[\"suicides_no\"].sum()\n",
    "df_srs.head()"
   ]
  },
  {
   "cell_type": "code",
   "execution_count": null,
   "metadata": {
    "execution": {
     "iopub.execute_input": "2021-11-11T10:49:19.614347Z",
     "iopub.status.busy": "2021-11-11T10:49:19.613801Z",
     "iopub.status.idle": "2021-11-11T10:49:19.628822Z",
     "shell.execute_reply": "2021-11-11T10:49:19.627935Z",
     "shell.execute_reply.started": "2021-11-11T10:49:19.614312Z"
    }
   },
   "outputs": [],
   "source": [
    "df_srs = df_srs.reset_index()\n",
    "df_srs = df_srs[df_srs[\"year\"] != 2016]\n",
    "df_srs.tail()"
   ]
  },
  {
   "cell_type": "code",
   "execution_count": null,
   "metadata": {
    "execution": {
     "iopub.execute_input": "2021-11-11T10:49:24.296066Z",
     "iopub.status.busy": "2021-11-11T10:49:24.295754Z",
     "iopub.status.idle": "2021-11-11T10:49:24.764985Z",
     "shell.execute_reply": "2021-11-11T10:49:24.764082Z",
     "shell.execute_reply.started": "2021-11-11T10:49:24.296035Z"
    }
   },
   "outputs": [],
   "source": [
    "plt.figure(figsize=(20,10))\n",
    "plt.title(\"Suicide Rate by Age Group\")\n",
    "\n",
    "sns.lineplot(x = \"year\", y= df_srs.suicides_no, hue = \"age\",\n",
    "             data = df_srs, linewidth = 2.5, style = \"age\", markers=True, dashes=False)\n",
    "plt.xticks(rotation = 90)\n",
    "plt.show()"
   ]
  },
  {
   "cell_type": "code",
   "execution_count": null,
   "metadata": {
    "execution": {
     "iopub.execute_input": "2021-11-11T09:59:32.033006Z",
     "iopub.status.busy": "2021-11-11T09:59:32.032623Z",
     "iopub.status.idle": "2021-11-11T09:59:32.058824Z",
     "shell.execute_reply": "2021-11-11T09:59:32.057964Z",
     "shell.execute_reply.started": "2021-11-11T09:59:32.032978Z"
    }
   },
   "outputs": [],
   "source": [
    "df_g = df_sr.groupby([\"year\", \"generation\"])[\"suicides_no\", \"population\"].sum()\n",
    "df_gen = df_g.copy().reset_index()\n",
    "df_gen.head()"
   ]
  },
  {
   "cell_type": "code",
   "execution_count": null,
   "metadata": {
    "execution": {
     "iopub.execute_input": "2021-11-11T09:59:32.060833Z",
     "iopub.status.busy": "2021-11-11T09:59:32.06024Z",
     "iopub.status.idle": "2021-11-11T09:59:32.490551Z",
     "shell.execute_reply": "2021-11-11T09:59:32.489607Z",
     "shell.execute_reply.started": "2021-11-11T09:59:32.06079Z"
    }
   },
   "outputs": [],
   "source": [
    "plt.figure(figsize=(15,6))\n",
    "plt.title(\"Suicide Rate by Generation\")\n",
    "\n",
    "sns.lineplot(x = \"year\", y= df_gen.suicides_no*100/df_gen.population, hue = \"generation\",\n",
    "             data = df_gen, linewidth = 2.5, style = \"generation\", markers=True, dashes=False)\n",
    "plt.xticks(rotation = 90)\n",
    "plt.show()"
   ]
  },
  {
   "cell_type": "markdown",
   "metadata": {},
   "source": [
    "## Simple Linear Regression"
   ]
  },
  {
   "cell_type": "code",
   "execution_count": null,
   "metadata": {
    "execution": {
     "iopub.execute_input": "2021-11-11T09:59:32.492363Z",
     "iopub.status.busy": "2021-11-11T09:59:32.492129Z",
     "iopub.status.idle": "2021-11-11T09:59:32.512933Z",
     "shell.execute_reply": "2021-11-11T09:59:32.512275Z",
     "shell.execute_reply.started": "2021-11-11T09:59:32.492335Z"
    }
   },
   "outputs": [],
   "source": [
    "df_age"
   ]
  },
  {
   "cell_type": "code",
   "execution_count": null,
   "metadata": {
    "execution": {
     "iopub.execute_input": "2021-11-11T09:59:32.514757Z",
     "iopub.status.busy": "2021-11-11T09:59:32.514147Z",
     "iopub.status.idle": "2021-11-11T09:59:32.537766Z",
     "shell.execute_reply": "2021-11-11T09:59:32.536702Z",
     "shell.execute_reply.started": "2021-11-11T09:59:32.514714Z"
    }
   },
   "outputs": [],
   "source": [
    "df_reg = df_age.sort_values(\"Sum\", ascending = False)\n",
    "df_reg.reset_index(drop = True, inplace = True)\n",
    "df_reg.head()"
   ]
  },
  {
   "cell_type": "code",
   "execution_count": null,
   "metadata": {
    "execution": {
     "iopub.execute_input": "2021-11-11T09:59:32.539885Z",
     "iopub.status.busy": "2021-11-11T09:59:32.539531Z",
     "iopub.status.idle": "2021-11-11T09:59:32.564938Z",
     "shell.execute_reply": "2021-11-11T09:59:32.563937Z",
     "shell.execute_reply.started": "2021-11-11T09:59:32.539836Z"
    }
   },
   "outputs": [],
   "source": [
    "sex = pd.get_dummies(df_reg[\"Sex\"], drop_first = True)\n",
    "df_reg = pd.concat([df_reg, sex], axis = 1)\n",
    "df_reg.head()"
   ]
  },
  {
   "cell_type": "code",
   "execution_count": null,
   "metadata": {
    "execution": {
     "iopub.execute_input": "2021-11-11T09:59:32.567042Z",
     "iopub.status.busy": "2021-11-11T09:59:32.566393Z",
     "iopub.status.idle": "2021-11-11T09:59:32.577723Z",
     "shell.execute_reply": "2021-11-11T09:59:32.576858Z",
     "shell.execute_reply.started": "2021-11-11T09:59:32.567003Z"
    }
   },
   "outputs": [],
   "source": [
    "df_reg.drop([\"Sex\", \"Female\"], axis = 1, inplace  = True)"
   ]
  },
  {
   "cell_type": "code",
   "execution_count": null,
   "metadata": {
    "execution": {
     "iopub.execute_input": "2021-11-11T09:59:32.579238Z",
     "iopub.status.busy": "2021-11-11T09:59:32.578817Z",
     "iopub.status.idle": "2021-11-11T09:59:32.597227Z",
     "shell.execute_reply": "2021-11-11T09:59:32.596175Z",
     "shell.execute_reply.started": "2021-11-11T09:59:32.579201Z"
    }
   },
   "outputs": [],
   "source": [
    "df_reg_melt = pd.melt(df_reg, id_vars = [\"Country\", \"Male\", \"Sum\"], var_name = \"Year\", value_name = \"SR\")\n",
    "df_reg_melt.drop(columns = \"Sum\", inplace = True)"
   ]
  },
  {
   "cell_type": "code",
   "execution_count": null,
   "metadata": {
    "execution": {
     "iopub.execute_input": "2021-11-11T09:59:32.598911Z",
     "iopub.status.busy": "2021-11-11T09:59:32.59863Z",
     "iopub.status.idle": "2021-11-11T09:59:32.616841Z",
     "shell.execute_reply": "2021-11-11T09:59:32.61618Z",
     "shell.execute_reply.started": "2021-11-11T09:59:32.598881Z"
    }
   },
   "outputs": [],
   "source": [
    "df_reg_melt"
   ]
  },
  {
   "cell_type": "code",
   "execution_count": null,
   "metadata": {
    "execution": {
     "iopub.execute_input": "2021-11-11T09:59:32.618621Z",
     "iopub.status.busy": "2021-11-11T09:59:32.618199Z",
     "iopub.status.idle": "2021-11-11T09:59:32.623633Z",
     "shell.execute_reply": "2021-11-11T09:59:32.622995Z",
     "shell.execute_reply.started": "2021-11-11T09:59:32.618589Z"
    }
   },
   "outputs": [],
   "source": [
    "#Split Data\n",
    "x =df_reg_melt[['Male','Year']]\n",
    "y=df_reg_melt['SR']"
   ]
  },
  {
   "cell_type": "code",
   "execution_count": null,
   "metadata": {
    "execution": {
     "iopub.execute_input": "2021-11-11T09:59:32.625347Z",
     "iopub.status.busy": "2021-11-11T09:59:32.625052Z",
     "iopub.status.idle": "2021-11-11T09:59:32.642422Z",
     "shell.execute_reply": "2021-11-11T09:59:32.641375Z",
     "shell.execute_reply.started": "2021-11-11T09:59:32.625315Z"
    }
   },
   "outputs": [],
   "source": [
    "x_train, x_test, y_train, y_test = train_test_split(x, y, test_size=0.2, random_state=42)\n",
    "model_lr = LinearRegression()"
   ]
  },
  {
   "cell_type": "code",
   "execution_count": null,
   "metadata": {
    "execution": {
     "iopub.execute_input": "2021-11-11T09:59:32.644711Z",
     "iopub.status.busy": "2021-11-11T09:59:32.644134Z",
     "iopub.status.idle": "2021-11-11T09:59:32.664877Z",
     "shell.execute_reply": "2021-11-11T09:59:32.663832Z",
     "shell.execute_reply.started": "2021-11-11T09:59:32.644665Z"
    }
   },
   "outputs": [],
   "source": [
    "model_lr.fit(x_train, y_train)\n",
    "pred = model_lr.predict(x_test)"
   ]
  },
  {
   "cell_type": "code",
   "execution_count": null,
   "metadata": {
    "execution": {
     "iopub.execute_input": "2021-11-11T09:59:32.666665Z",
     "iopub.status.busy": "2021-11-11T09:59:32.66621Z",
     "iopub.status.idle": "2021-11-11T09:59:32.670958Z",
     "shell.execute_reply": "2021-11-11T09:59:32.670237Z",
     "shell.execute_reply.started": "2021-11-11T09:59:32.666633Z"
    }
   },
   "outputs": [],
   "source": [
    "#save model\n",
    "with open('Linear_reg', 'wb') as picklefile:\n",
    "    pickle.dump(model_lr,picklefile)"
   ]
  },
  {
   "cell_type": "code",
   "execution_count": null,
   "metadata": {
    "execution": {
     "iopub.execute_input": "2021-11-11T09:59:32.672604Z",
     "iopub.status.busy": "2021-11-11T09:59:32.672204Z",
     "iopub.status.idle": "2021-11-11T09:59:32.687701Z",
     "shell.execute_reply": "2021-11-11T09:59:32.686779Z",
     "shell.execute_reply.started": "2021-11-11T09:59:32.672575Z"
    }
   },
   "outputs": [],
   "source": [
    "model_lr.coef_"
   ]
  },
  {
   "cell_type": "code",
   "execution_count": null,
   "metadata": {
    "execution": {
     "iopub.execute_input": "2021-11-11T09:59:32.689734Z",
     "iopub.status.busy": "2021-11-11T09:59:32.689054Z",
     "iopub.status.idle": "2021-11-11T09:59:32.699613Z",
     "shell.execute_reply": "2021-11-11T09:59:32.698944Z",
     "shell.execute_reply.started": "2021-11-11T09:59:32.689687Z"
    }
   },
   "outputs": [],
   "source": [
    "#Error checks\n",
    "MAE= mean_absolute_error(y_test,pred)\n",
    "MSE= mean_squared_error(y_test,pred)\n",
    "RMSE= np.sqrt(mean_squared_error(y_test,pred))\n",
    "r2= r2_score(y_test,pred)"
   ]
  },
  {
   "cell_type": "code",
   "execution_count": null,
   "metadata": {
    "execution": {
     "iopub.execute_input": "2021-11-11T09:59:32.701264Z",
     "iopub.status.busy": "2021-11-11T09:59:32.700649Z",
     "iopub.status.idle": "2021-11-11T09:59:32.713827Z",
     "shell.execute_reply": "2021-11-11T09:59:32.713016Z",
     "shell.execute_reply.started": "2021-11-11T09:59:32.701228Z"
    }
   },
   "outputs": [],
   "source": [
    "print( \"MAE:\", MAE)\n",
    "print( \"MSE:\", MSE)\n",
    "print( \"RMSE:\", RMSE)\n",
    "print( \"r2:\", r2)"
   ]
  },
  {
   "cell_type": "code",
   "execution_count": null,
   "metadata": {
    "execution": {
     "iopub.execute_input": "2021-11-11T09:59:32.715951Z",
     "iopub.status.busy": "2021-11-11T09:59:32.715022Z",
     "iopub.status.idle": "2021-11-11T09:59:32.727623Z",
     "shell.execute_reply": "2021-11-11T09:59:32.726987Z",
     "shell.execute_reply.started": "2021-11-11T09:59:32.715913Z"
    }
   },
   "outputs": [],
   "source": [
    "coeff= pd.DataFrame(model_lr.coef_,x.columns,columns=['Coefficient'])\n",
    "coeff"
   ]
  },
  {
   "cell_type": "markdown",
   "metadata": {},
   "source": [
    "r2 score isnt big enough to extract any solid conclusions, but results indicate the following:\n",
    "\n",
    "Being male increases suicide rate by 8.08 points\n",
    "\n",
    "For every year we go back from this dataset (2016,2015,2010,2000) the suicide rate goes up by 0.154\n",
    "\n",
    "Formular for calculating the suicide rate of a Male will therefore be expressed as: \n",
    "\n",
    "### y = mx + c\n",
    "### y = 8.01x - 0.154\n",
    "\n",
    "considering all things being equal!"
   ]
  },
  {
   "cell_type": "code",
   "execution_count": null,
   "metadata": {},
   "outputs": [],
   "source": []
  },
  {
   "cell_type": "markdown",
   "metadata": {},
   "source": [
    "## Worldwide Sucide Map 2016"
   ]
  },
  {
   "cell_type": "code",
   "execution_count": null,
   "metadata": {
    "execution": {
     "iopub.execute_input": "2021-11-11T09:59:32.729225Z",
     "iopub.status.busy": "2021-11-11T09:59:32.728959Z",
     "iopub.status.idle": "2021-11-11T09:59:32.74013Z",
     "shell.execute_reply": "2021-11-11T09:59:32.739241Z",
     "shell.execute_reply.started": "2021-11-11T09:59:32.72919Z"
    }
   },
   "outputs": [],
   "source": [
    "#2016\n",
    "df_2016=df_age_both.drop(columns=['2015','2010','2000'])\n",
    "df_2016=pd.melt(df_2016,id_vars=['Country','Sex'],var_name='Year',value_name='sr')\n"
   ]
  },
  {
   "cell_type": "code",
   "execution_count": null,
   "metadata": {
    "execution": {
     "iopub.execute_input": "2021-11-11T09:59:32.741824Z",
     "iopub.status.busy": "2021-11-11T09:59:32.741526Z",
     "iopub.status.idle": "2021-11-11T09:59:33.621674Z",
     "shell.execute_reply": "2021-11-11T09:59:33.620819Z",
     "shell.execute_reply.started": "2021-11-11T09:59:32.741794Z"
    }
   },
   "outputs": [],
   "source": [
    "cloro= dict(type='choropleth',\n",
    "            locations=df_2016['Country'],\n",
    "            locationmode='country names',\n",
    "            z=df_2016['sr'],\n",
    "            text=df_2016['Country'],\n",
    "            colorscale='blues_r',\n",
    "            reversescale=True,\n",
    "            colorbar={'title':'suicide rate per 100.000 humans'})\n",
    "\n",
    "layout= dict(title= 'Worldwide Suicide rate in 2016',\n",
    "             geo= dict(showframe=True,\n",
    "                       showcoastlines=True,\n",
    "                      projection={'type':'miller'}))\n",
    "\n",
    "choromap3= go.Figure(data=[cloro],layout=layout)\n",
    "\n",
    "mapplot = iplot(choromap3)\n",
    "mapplot\n",
    "\n",
    "#py.plot(mapplot, filename = 'Worldwide Suicide rate in 2016', auto_open = False)"
   ]
  },
  {
   "cell_type": "code",
   "execution_count": null,
   "metadata": {
    "execution": {
     "iopub.execute_input": "2021-11-11T10:57:14.808373Z",
     "iopub.status.busy": "2021-11-11T10:57:14.807886Z",
     "iopub.status.idle": "2021-11-11T10:57:14.859602Z",
     "shell.execute_reply": "2021-11-11T10:57:14.858678Z",
     "shell.execute_reply.started": "2021-11-11T10:57:14.808334Z"
    }
   },
   "outputs": [],
   "source": [
    "choromap3.write_html(\"suicidemap.html\")"
   ]
  },
  {
   "cell_type": "code",
   "execution_count": null,
   "metadata": {},
   "outputs": [],
   "source": []
  },
  {
   "cell_type": "code",
   "execution_count": null,
   "metadata": {
    "execution": {
     "iopub.execute_input": "2021-11-11T09:59:33.629268Z",
     "iopub.status.busy": "2021-11-11T09:59:33.628931Z",
     "iopub.status.idle": "2021-11-11T09:59:33.712123Z",
     "shell.execute_reply": "2021-11-11T09:59:33.711523Z",
     "shell.execute_reply.started": "2021-11-11T09:59:33.629223Z"
    }
   },
   "outputs": [],
   "source": [
    "df_sro = pd.read_csv(\"../input/suicide-rates-overview-1985-to-2016/master.csv\")\n",
    "df_sro.head()"
   ]
  },
  {
   "cell_type": "code",
   "execution_count": null,
   "metadata": {
    "execution": {
     "iopub.execute_input": "2021-11-11T09:59:33.713768Z",
     "iopub.status.busy": "2021-11-11T09:59:33.713044Z",
     "iopub.status.idle": "2021-11-11T09:59:33.725849Z",
     "shell.execute_reply": "2021-11-11T09:59:33.7251Z",
     "shell.execute_reply.started": "2021-11-11T09:59:33.713734Z"
    }
   },
   "outputs": [],
   "source": [
    "df_sro_sex = pd.DataFrame(df_sro[[\"country\", \"sex\",\"suicides_no\"]], columns = [\"country\", \"sex\", \"suicides_no\"])\n",
    "df_sro_sex.head()"
   ]
  },
  {
   "cell_type": "code",
   "execution_count": null,
   "metadata": {
    "execution": {
     "iopub.execute_input": "2021-11-11T09:59:33.72752Z",
     "iopub.status.busy": "2021-11-11T09:59:33.727304Z",
     "iopub.status.idle": "2021-11-11T09:59:33.750645Z",
     "shell.execute_reply": "2021-11-11T09:59:33.749958Z",
     "shell.execute_reply.started": "2021-11-11T09:59:33.727494Z"
    }
   },
   "outputs": [],
   "source": [
    "df_sro_m = df_sro_sex[df_sro_sex[\"sex\"] == \"male\"]\n",
    "df_sro_m.head()"
   ]
  },
  {
   "cell_type": "code",
   "execution_count": null,
   "metadata": {
    "execution": {
     "iopub.execute_input": "2021-11-11T09:59:33.752219Z",
     "iopub.status.busy": "2021-11-11T09:59:33.751724Z",
     "iopub.status.idle": "2021-11-11T09:59:33.77064Z",
     "shell.execute_reply": "2021-11-11T09:59:33.769642Z",
     "shell.execute_reply.started": "2021-11-11T09:59:33.752183Z"
    }
   },
   "outputs": [],
   "source": [
    "df_sro_f = df_sro_sex[df_sro_sex[\"sex\"] == \"female\"]\n",
    "df_sro_f.head()"
   ]
  },
  {
   "cell_type": "code",
   "execution_count": null,
   "metadata": {
    "execution": {
     "iopub.execute_input": "2021-11-11T09:59:33.77223Z",
     "iopub.status.busy": "2021-11-11T09:59:33.771962Z",
     "iopub.status.idle": "2021-11-11T09:59:33.778635Z",
     "shell.execute_reply": "2021-11-11T09:59:33.77781Z",
     "shell.execute_reply.started": "2021-11-11T09:59:33.772197Z"
    }
   },
   "outputs": [],
   "source": [
    "msum = df_sro_m[\"suicides_no\"].sum()\n",
    "msum"
   ]
  },
  {
   "cell_type": "code",
   "execution_count": null,
   "metadata": {
    "execution": {
     "iopub.execute_input": "2021-11-11T09:59:33.780551Z",
     "iopub.status.busy": "2021-11-11T09:59:33.779887Z",
     "iopub.status.idle": "2021-11-11T09:59:33.790368Z",
     "shell.execute_reply": "2021-11-11T09:59:33.789372Z",
     "shell.execute_reply.started": "2021-11-11T09:59:33.780502Z"
    }
   },
   "outputs": [],
   "source": [
    "fsum = df_sro_f[\"suicides_no\"].sum()\n",
    "fsum"
   ]
  },
  {
   "cell_type": "code",
   "execution_count": null,
   "metadata": {
    "execution": {
     "iopub.execute_input": "2021-11-11T09:59:33.792404Z",
     "iopub.status.busy": "2021-11-11T09:59:33.792027Z",
     "iopub.status.idle": "2021-11-11T09:59:33.908061Z",
     "shell.execute_reply": "2021-11-11T09:59:33.907148Z",
     "shell.execute_reply.started": "2021-11-11T09:59:33.792367Z"
    }
   },
   "outputs": [],
   "source": [
    "#pie chart of world suicide rate by sex 1985-2016\n",
    "\n",
    "data = [msum, fsum]\n",
    "labels = [\"Male\", \"Female\"]\n",
    "colors = sns.color_palette('pastel')[0:5]\n",
    "\n",
    "plt.figure(figsize=(10, 7))\n",
    "plt.title(\"World Suicide by Gender (1985-2015)\", fontsize=14);\n",
    "plt.pie(data, labels = labels, colors = colors, explode=[0.01]*2, autopct='%.1f%%')\n",
    "plt.show()"
   ]
  },
  {
   "cell_type": "code",
   "execution_count": null,
   "metadata": {
    "execution": {
     "iopub.execute_input": "2021-11-11T09:59:33.909897Z",
     "iopub.status.busy": "2021-11-11T09:59:33.909575Z",
     "iopub.status.idle": "2021-11-11T09:59:33.92734Z",
     "shell.execute_reply": "2021-11-11T09:59:33.926379Z",
     "shell.execute_reply.started": "2021-11-11T09:59:33.909855Z"
    }
   },
   "outputs": [],
   "source": [
    "df_sro.head()"
   ]
  },
  {
   "cell_type": "code",
   "execution_count": null,
   "metadata": {
    "execution": {
     "iopub.execute_input": "2021-11-11T09:59:33.928894Z",
     "iopub.status.busy": "2021-11-11T09:59:33.928656Z",
     "iopub.status.idle": "2021-11-11T09:59:33.945753Z",
     "shell.execute_reply": "2021-11-11T09:59:33.944828Z",
     "shell.execute_reply.started": "2021-11-11T09:59:33.928864Z"
    }
   },
   "outputs": [],
   "source": [
    "df_sro_age = df_sro[[\"age\", \"suicides_no\"]]\n",
    "df_sro_age.head()"
   ]
  },
  {
   "cell_type": "code",
   "execution_count": null,
   "metadata": {
    "collapsed": true,
    "execution": {
     "iopub.execute_input": "2021-11-11T09:59:33.947149Z",
     "iopub.status.busy": "2021-11-11T09:59:33.946877Z",
     "iopub.status.idle": "2021-11-11T09:59:34.037056Z",
     "shell.execute_reply": "2021-11-11T09:59:34.036158Z",
     "shell.execute_reply.started": "2021-11-11T09:59:33.947107Z"
    },
    "jupyter": {
     "outputs_hidden": true
    }
   },
   "outputs": [],
   "source": [
    "lst = []\n",
    "for i in df_sro_age[\"age\"].unique():\n",
    "    dat = df_sro_age[df_sro_age[\"age\"] == i]\n",
    "    lst.append(dat)\n",
    "    print(lst)"
   ]
  },
  {
   "cell_type": "code",
   "execution_count": null,
   "metadata": {
    "execution": {
     "iopub.execute_input": "2021-11-11T09:59:34.039083Z",
     "iopub.status.busy": "2021-11-11T09:59:34.038533Z",
     "iopub.status.idle": "2021-11-11T09:59:34.181894Z",
     "shell.execute_reply": "2021-11-11T09:59:34.180846Z",
     "shell.execute_reply.started": "2021-11-11T09:59:34.039049Z"
    }
   },
   "outputs": [],
   "source": [
    "#pie chart of world suicide rate by age group 1985-2016\n",
    "\n",
    "data = [lst[0][\"suicides_no\"].sum(), lst[1][\"suicides_no\"].sum(), lst[2][\"suicides_no\"].sum(),\n",
    "       lst[3][\"suicides_no\"].sum(), lst[4][\"suicides_no\"].sum(), lst[5][\"suicides_no\"].sum()]\n",
    "labels = ['15-24 years', '35-54 years', '75+ years', '25-34 years',\n",
    "       '55-74 years', '5-14 years']\n",
    "colors = sns.color_palette('pastel')[0:6]\n",
    "\n",
    "plt.figure(figsize=(10, 7))\n",
    "plt.title(\"World Suicide by Age (1985-2015)\", fontsize=14);\n",
    "plt.pie(data, labels = labels, colors = colors, explode=[0.01]*6, autopct='%.1f%%')\n",
    "plt.show()"
   ]
  },
  {
   "cell_type": "code",
   "execution_count": null,
   "metadata": {
    "execution": {
     "iopub.execute_input": "2021-11-11T09:59:34.183591Z",
     "iopub.status.busy": "2021-11-11T09:59:34.183364Z",
     "iopub.status.idle": "2021-11-11T09:59:34.20027Z",
     "shell.execute_reply": "2021-11-11T09:59:34.199307Z",
     "shell.execute_reply.started": "2021-11-11T09:59:34.183565Z"
    }
   },
   "outputs": [],
   "source": [
    "df_sro.head()"
   ]
  },
  {
   "cell_type": "code",
   "execution_count": null,
   "metadata": {
    "execution": {
     "iopub.execute_input": "2021-11-11T09:59:34.201526Z",
     "iopub.status.busy": "2021-11-11T09:59:34.201314Z",
     "iopub.status.idle": "2021-11-11T09:59:34.223132Z",
     "shell.execute_reply": "2021-11-11T09:59:34.222251Z",
     "shell.execute_reply.started": "2021-11-11T09:59:34.2015Z"
    }
   },
   "outputs": [],
   "source": [
    "df_sro_year = df_sro[[\"year\", \"age\", \"suicides/100k pop\"]]\n",
    "df_sro_year.rename(columns = {\"suicides/100k pop\": \"sr/100\"}, inplace = True)\n",
    "df_sro_year"
   ]
  },
  {
   "cell_type": "code",
   "execution_count": null,
   "metadata": {
    "execution": {
     "iopub.execute_input": "2021-11-11T09:59:34.224678Z",
     "iopub.status.busy": "2021-11-11T09:59:34.224467Z",
     "iopub.status.idle": "2021-11-11T09:59:34.231365Z",
     "shell.execute_reply": "2021-11-11T09:59:34.230564Z",
     "shell.execute_reply.started": "2021-11-11T09:59:34.224652Z"
    }
   },
   "outputs": [],
   "source": [
    "df_sro_year[\"year\"].unique()"
   ]
  },
  {
   "cell_type": "code",
   "execution_count": null,
   "metadata": {
    "execution": {
     "iopub.execute_input": "2021-11-11T09:59:34.232677Z",
     "iopub.status.busy": "2021-11-11T09:59:34.232329Z",
     "iopub.status.idle": "2021-11-11T09:59:34.266698Z",
     "shell.execute_reply": "2021-11-11T09:59:34.265809Z",
     "shell.execute_reply.started": "2021-11-11T09:59:34.232645Z"
    }
   },
   "outputs": [],
   "source": [
    "collect = []\n",
    "for i in df_sro_year[\"year\"].unique():\n",
    "    dat = df_sro_year[df_sro_year[\"year\"] == i]\n",
    "    cal = round( dat[\"sr/100\"].sum(), 2)\n",
    "    collect.append(cal)\n",
    "print(collect)"
   ]
  },
  {
   "cell_type": "code",
   "execution_count": null,
   "metadata": {
    "execution": {
     "iopub.execute_input": "2021-11-11T09:59:34.268977Z",
     "iopub.status.busy": "2021-11-11T09:59:34.268421Z",
     "iopub.status.idle": "2021-11-11T09:59:34.27625Z",
     "shell.execute_reply": "2021-11-11T09:59:34.275173Z",
     "shell.execute_reply.started": "2021-11-11T09:59:34.268934Z"
    }
   },
   "outputs": [],
   "source": [
    "len(collect)"
   ]
  },
  {
   "cell_type": "code",
   "execution_count": null,
   "metadata": {
    "execution": {
     "iopub.execute_input": "2021-11-11T09:59:34.278715Z",
     "iopub.status.busy": "2021-11-11T09:59:34.277943Z",
     "iopub.status.idle": "2021-11-11T09:59:34.309075Z",
     "shell.execute_reply": "2021-11-11T09:59:34.308459Z",
     "shell.execute_reply.started": "2021-11-11T09:59:34.278668Z"
    }
   },
   "outputs": [],
   "source": [
    "year = pd.DataFrame([df_sro_year[\"year\"].unique(), collect])\n",
    "year.head()"
   ]
  },
  {
   "cell_type": "code",
   "execution_count": null,
   "metadata": {
    "execution": {
     "iopub.execute_input": "2021-11-11T09:59:34.310641Z",
     "iopub.status.busy": "2021-11-11T09:59:34.310045Z",
     "iopub.status.idle": "2021-11-11T09:59:34.315645Z",
     "shell.execute_reply": "2021-11-11T09:59:34.314766Z",
     "shell.execute_reply.started": "2021-11-11T09:59:34.310607Z"
    }
   },
   "outputs": [],
   "source": [
    "year = year.T\n",
    "year.rename(columns = {0 : \"year\", 1 : \"sr/100k\"}, inplace = True)"
   ]
  },
  {
   "cell_type": "code",
   "execution_count": null,
   "metadata": {},
   "outputs": [],
   "source": []
  },
  {
   "cell_type": "code",
   "execution_count": null,
   "metadata": {
    "execution": {
     "iopub.execute_input": "2021-11-11T09:59:34.317342Z",
     "iopub.status.busy": "2021-11-11T09:59:34.317128Z",
     "iopub.status.idle": "2021-11-11T09:59:34.506767Z",
     "shell.execute_reply": "2021-11-11T09:59:34.505855Z",
     "shell.execute_reply.started": "2021-11-11T09:59:34.317316Z"
    }
   },
   "outputs": [],
   "source": [
    "#Plot Suicide rate per 100k pop\n",
    "df = year.sort_values(\"year\")[:31]\n",
    "fig = px.line(df, x=\"year\", y=\"sr/100k\", title='Suicide Rate per 100k pop', markers=True)\n",
    "\n",
    "fig.show()\n",
    "\n",
    "#py.plot(fig, filename = 'Suicide Rate per 100k pop', auto_open = False)"
   ]
  },
  {
   "cell_type": "code",
   "execution_count": null,
   "metadata": {
    "execution": {
     "iopub.execute_input": "2021-11-11T09:59:34.509593Z",
     "iopub.status.busy": "2021-11-11T09:59:34.509339Z",
     "iopub.status.idle": "2021-11-11T09:59:34.526302Z",
     "shell.execute_reply": "2021-11-11T09:59:34.525405Z",
     "shell.execute_reply.started": "2021-11-11T09:59:34.509564Z"
    }
   },
   "outputs": [],
   "source": [
    "df_sro.head()"
   ]
  },
  {
   "cell_type": "markdown",
   "metadata": {},
   "source": []
  },
  {
   "cell_type": "code",
   "execution_count": null,
   "metadata": {
    "execution": {
     "iopub.execute_input": "2021-11-11T09:59:34.52792Z",
     "iopub.status.busy": "2021-11-11T09:59:34.527696Z",
     "iopub.status.idle": "2021-11-11T09:59:34.546245Z",
     "shell.execute_reply": "2021-11-11T09:59:34.54518Z",
     "shell.execute_reply.started": "2021-11-11T09:59:34.527893Z"
    }
   },
   "outputs": [],
   "source": [
    "df_sro_gend = df_sro[[\"year\", \"sex\", \"suicides/100k pop\"]]\n",
    "df_sro_gend.rename(columns = {\"suicides/100k pop\": \"sr/100\"}, inplace = True)\n",
    "df_sro_gend.head()"
   ]
  },
  {
   "cell_type": "code",
   "execution_count": null,
   "metadata": {
    "execution": {
     "iopub.execute_input": "2021-11-11T09:59:34.547829Z",
     "iopub.status.busy": "2021-11-11T09:59:34.547486Z",
     "iopub.status.idle": "2021-11-11T09:59:34.565795Z",
     "shell.execute_reply": "2021-11-11T09:59:34.565148Z",
     "shell.execute_reply.started": "2021-11-11T09:59:34.547801Z"
    }
   },
   "outputs": [],
   "source": [
    "df_sro_m = df_sro_gend[df_sro_gend[\"sex\"] == \"male\"]\n",
    "df_sro_m.head()"
   ]
  },
  {
   "cell_type": "code",
   "execution_count": null,
   "metadata": {
    "execution": {
     "iopub.execute_input": "2021-11-11T09:59:34.567962Z",
     "iopub.status.busy": "2021-11-11T09:59:34.567004Z",
     "iopub.status.idle": "2021-11-11T09:59:34.597552Z",
     "shell.execute_reply": "2021-11-11T09:59:34.596613Z",
     "shell.execute_reply.started": "2021-11-11T09:59:34.567915Z"
    }
   },
   "outputs": [],
   "source": [
    "collectm = []\n",
    "for i in df_sro_m[\"year\"].unique():\n",
    "    dat = df_sro_m[df_sro_m[\"year\"] == i]\n",
    "    cal = round( dat[\"sr/100\"].sum(), 2)\n",
    "    collectm.append(cal)\n",
    "print(collectm)"
   ]
  },
  {
   "cell_type": "code",
   "execution_count": null,
   "metadata": {
    "execution": {
     "iopub.execute_input": "2021-11-11T09:59:34.599161Z",
     "iopub.status.busy": "2021-11-11T09:59:34.598931Z",
     "iopub.status.idle": "2021-11-11T09:59:34.606265Z",
     "shell.execute_reply": "2021-11-11T09:59:34.605609Z",
     "shell.execute_reply.started": "2021-11-11T09:59:34.599134Z"
    }
   },
   "outputs": [],
   "source": [
    "ma = pd.DataFrame([df_sro_year[\"year\"].unique(), collectm])\n",
    "ma = ma.T\n",
    "ma.rename(columns = {0 : \"year\", 1 : \"sr/100k\"}, inplace = True)"
   ]
  },
  {
   "cell_type": "code",
   "execution_count": null,
   "metadata": {
    "execution": {
     "iopub.execute_input": "2021-11-11T09:59:34.610037Z",
     "iopub.status.busy": "2021-11-11T09:59:34.608344Z",
     "iopub.status.idle": "2021-11-11T09:59:34.624076Z",
     "shell.execute_reply": "2021-11-11T09:59:34.623247Z",
     "shell.execute_reply.started": "2021-11-11T09:59:34.61Z"
    }
   },
   "outputs": [],
   "source": [
    "ma.head()"
   ]
  },
  {
   "cell_type": "code",
   "execution_count": null,
   "metadata": {
    "execution": {
     "iopub.execute_input": "2021-11-11T09:59:34.625543Z",
     "iopub.status.busy": "2021-11-11T09:59:34.625287Z",
     "iopub.status.idle": "2021-11-11T09:59:34.693921Z",
     "shell.execute_reply": "2021-11-11T09:59:34.692877Z",
     "shell.execute_reply.started": "2021-11-11T09:59:34.625516Z"
    }
   },
   "outputs": [],
   "source": [
    "#Plot Suicide rate per 100k pop\n",
    "df = ma.sort_values(\"year\")[:31]\n",
    "fig = px.line(df, x=\"year\", y=\"sr/100k\", title='Suicide Rate per 100k pop Male', markers=True)\n",
    "\n",
    "fig.show()\n",
    "\n",
    "#py.plot(fig, filename = 'Suicide Rate per 100k pop Male', auto_open = False)"
   ]
  },
  {
   "cell_type": "code",
   "execution_count": null,
   "metadata": {
    "execution": {
     "iopub.execute_input": "2021-11-11T09:59:34.695402Z",
     "iopub.status.busy": "2021-11-11T09:59:34.695177Z",
     "iopub.status.idle": "2021-11-11T09:59:34.714804Z",
     "shell.execute_reply": "2021-11-11T09:59:34.713622Z",
     "shell.execute_reply.started": "2021-11-11T09:59:34.695375Z"
    }
   },
   "outputs": [],
   "source": [
    "df_sro_f = df_sro_gend[df_sro_gend[\"sex\"] == \"female\"]\n",
    "df_sro_f.head()"
   ]
  },
  {
   "cell_type": "code",
   "execution_count": null,
   "metadata": {
    "execution": {
     "iopub.execute_input": "2021-11-11T09:59:34.716518Z",
     "iopub.status.busy": "2021-11-11T09:59:34.716194Z",
     "iopub.status.idle": "2021-11-11T09:59:34.747946Z",
     "shell.execute_reply": "2021-11-11T09:59:34.747139Z",
     "shell.execute_reply.started": "2021-11-11T09:59:34.716476Z"
    }
   },
   "outputs": [],
   "source": [
    "collectf= []\n",
    "for i in df_sro_f[\"year\"].unique():\n",
    "    dat = df_sro_f[df_sro_f[\"year\"] == i]\n",
    "    cal = round( dat[\"sr/100\"].sum(), 2)\n",
    "    collectf.append(cal)\n",
    "print(collectf)"
   ]
  },
  {
   "cell_type": "code",
   "execution_count": null,
   "metadata": {
    "execution": {
     "iopub.execute_input": "2021-11-11T09:59:34.756767Z",
     "iopub.status.busy": "2021-11-11T09:59:34.756499Z",
     "iopub.status.idle": "2021-11-11T09:59:34.772235Z",
     "shell.execute_reply": "2021-11-11T09:59:34.771249Z",
     "shell.execute_reply.started": "2021-11-11T09:59:34.756735Z"
    }
   },
   "outputs": [],
   "source": [
    "fe = pd.DataFrame([df_sro_f[\"year\"].unique(), collectf])\n",
    "fe = fe.T\n",
    "fe.rename(columns = {0 : \"year\", 1 : \"sr/100k\"}, inplace = True)\n",
    "fe.head"
   ]
  },
  {
   "cell_type": "code",
   "execution_count": null,
   "metadata": {
    "execution": {
     "iopub.execute_input": "2021-11-11T09:59:34.774401Z",
     "iopub.status.busy": "2021-11-11T09:59:34.773677Z",
     "iopub.status.idle": "2021-11-11T09:59:34.848616Z",
     "shell.execute_reply": "2021-11-11T09:59:34.848039Z",
     "shell.execute_reply.started": "2021-11-11T09:59:34.774353Z"
    }
   },
   "outputs": [],
   "source": [
    "#Plot Suicide rate per 100k pop Female\n",
    "df = fe.sort_values(\"year\")[:31]\n",
    "fig = px.line(df, x=\"year\", y=\"sr/100k\", title='Suicide Rate per 100k pop Female', markers=True)\n",
    "\n",
    "fig.show()\n",
    "\n",
    "#py.plot(fig, filename = 'Suicide Rate per 100k pop Female', auto_open = False)"
   ]
  },
  {
   "cell_type": "code",
   "execution_count": null,
   "metadata": {
    "execution": {
     "iopub.execute_input": "2021-11-11T09:59:34.84975Z",
     "iopub.status.busy": "2021-11-11T09:59:34.849522Z",
     "iopub.status.idle": "2021-11-11T09:59:34.865844Z",
     "shell.execute_reply": "2021-11-11T09:59:34.865056Z",
     "shell.execute_reply.started": "2021-11-11T09:59:34.849715Z"
    }
   },
   "outputs": [],
   "source": [
    "ma = ma.sort_values(\"year\")[:31]\n",
    "fe = fe.sort_values(\"year\")[:31]\n",
    "md = ma[\"sr/100k\"]\n",
    "fd = fe[\"sr/100k\"]\n",
    "\n",
    "# Create traces\n",
    "fig = go.Figure()\n",
    "fig.add_trace(go.Scatter(x=ma[\"year\"], y=md,\n",
    "                    mode='lines+markers',\n",
    "                    name='male'))\n",
    "fig.add_trace(go.Scatter(x=ma[\"year\"], y=fd,\n",
    "                    mode='lines+markers',\n",
    "                    name='female'))\n",
    "fig.update_layout(title='Suicide rate per 100 pop by Gender')\n",
    "                 \n",
    "\n",
    "\n",
    "fig.show()\n",
    "\n",
    "#py.plot(fig, filename = 'Suicide Rate per 100k pop by Gender', auto_open = False)"
   ]
  },
  {
   "cell_type": "markdown",
   "metadata": {},
   "source": []
  },
  {
   "cell_type": "code",
   "execution_count": null,
   "metadata": {},
   "outputs": [],
   "source": []
  },
  {
   "cell_type": "code",
   "execution_count": null,
   "metadata": {
    "execution": {
     "iopub.execute_input": "2021-11-11T09:59:34.866991Z",
     "iopub.status.busy": "2021-11-11T09:59:34.86676Z",
     "iopub.status.idle": "2021-11-11T09:59:34.890799Z",
     "shell.execute_reply": "2021-11-11T09:59:34.890079Z",
     "shell.execute_reply.started": "2021-11-11T09:59:34.866954Z"
    }
   },
   "outputs": [],
   "source": [
    "df_sro.head()"
   ]
  },
  {
   "cell_type": "code",
   "execution_count": null,
   "metadata": {
    "execution": {
     "iopub.execute_input": "2021-11-11T09:59:34.892266Z",
     "iopub.status.busy": "2021-11-11T09:59:34.891991Z",
     "iopub.status.idle": "2021-11-11T09:59:34.907676Z",
     "shell.execute_reply": "2021-11-11T09:59:34.906567Z",
     "shell.execute_reply.started": "2021-11-11T09:59:34.892231Z"
    }
   },
   "outputs": [],
   "source": [
    "df_sro.country.unique()"
   ]
  },
  {
   "cell_type": "code",
   "execution_count": null,
   "metadata": {
    "execution": {
     "iopub.execute_input": "2021-11-11T09:59:34.910315Z",
     "iopub.status.busy": "2021-11-11T09:59:34.909998Z",
     "iopub.status.idle": "2021-11-11T09:59:34.946941Z",
     "shell.execute_reply": "2021-11-11T09:59:34.945993Z",
     "shell.execute_reply.started": "2021-11-11T09:59:34.910273Z"
    }
   },
   "outputs": [],
   "source": [
    "nig = df_sro[df_sro[\"country\"]  == \"Iceland\"]\n",
    "nig"
   ]
  },
  {
   "cell_type": "code",
   "execution_count": null,
   "metadata": {},
   "outputs": [],
   "source": []
  },
  {
   "cell_type": "code",
   "execution_count": null,
   "metadata": {
    "execution": {
     "iopub.execute_input": "2021-11-11T09:59:34.948304Z",
     "iopub.status.busy": "2021-11-11T09:59:34.948058Z",
     "iopub.status.idle": "2021-11-11T09:59:34.979081Z",
     "shell.execute_reply": "2021-11-11T09:59:34.978346Z",
     "shell.execute_reply.started": "2021-11-11T09:59:34.948277Z"
    }
   },
   "outputs": [],
   "source": [
    "df_cru = pd.read_csv(\"../input/who-worldhealth-statistics-2020-complete/crudeSuicideRates.csv\")\n",
    "df_cru"
   ]
  },
  {
   "cell_type": "code",
   "execution_count": null,
   "metadata": {
    "execution": {
     "iopub.execute_input": "2021-11-11T11:11:44.030948Z",
     "iopub.status.busy": "2021-11-11T11:11:44.030396Z",
     "iopub.status.idle": "2021-11-11T11:11:44.045555Z",
     "shell.execute_reply": "2021-11-11T11:11:44.044456Z",
     "shell.execute_reply.started": "2021-11-11T11:11:44.030909Z"
    }
   },
   "outputs": [],
   "source": [
    "both = df_cru[df_cru[\"Dim1\"]  != \"Both sexes\"]\n",
    "both.head()"
   ]
  },
  {
   "cell_type": "code",
   "execution_count": null,
   "metadata": {
    "execution": {
     "iopub.execute_input": "2021-11-11T11:12:09.8293Z",
     "iopub.status.busy": "2021-11-11T11:12:09.828971Z",
     "iopub.status.idle": "2021-11-11T11:12:09.843713Z",
     "shell.execute_reply": "2021-11-11T11:12:09.842908Z",
     "shell.execute_reply.started": "2021-11-11T11:12:09.829269Z"
    }
   },
   "outputs": [],
   "source": [
    "both.drop([\"Location\"], axis = 1, inplace = True)\n",
    "both.head()"
   ]
  },
  {
   "cell_type": "code",
   "execution_count": null,
   "metadata": {
    "execution": {
     "iopub.execute_input": "2021-11-11T11:12:25.209787Z",
     "iopub.status.busy": "2021-11-11T11:12:25.209207Z",
     "iopub.status.idle": "2021-11-11T11:12:25.226153Z",
     "shell.execute_reply": "2021-11-11T11:12:25.225372Z",
     "shell.execute_reply.started": "2021-11-11T11:12:25.209738Z"
    }
   },
   "outputs": [],
   "source": [
    "gend = pd.get_dummies(both[\"Dim1\"], drop_first = True)\n",
    "both = pd.concat([both, gend], axis = 1)\n",
    "both.head()"
   ]
  },
  {
   "cell_type": "code",
   "execution_count": null,
   "metadata": {
    "execution": {
     "iopub.execute_input": "2021-11-11T11:12:28.824472Z",
     "iopub.status.busy": "2021-11-11T11:12:28.824176Z",
     "iopub.status.idle": "2021-11-11T11:12:28.835896Z",
     "shell.execute_reply": "2021-11-11T11:12:28.835048Z",
     "shell.execute_reply.started": "2021-11-11T11:12:28.824443Z"
    }
   },
   "outputs": [],
   "source": [
    "both = both.loc[3:]\n",
    "both.head()"
   ]
  },
  {
   "cell_type": "code",
   "execution_count": null,
   "metadata": {
    "execution": {
     "iopub.execute_input": "2021-11-11T11:12:29.380356Z",
     "iopub.status.busy": "2021-11-11T11:12:29.379834Z",
     "iopub.status.idle": "2021-11-11T11:12:29.385901Z",
     "shell.execute_reply": "2021-11-11T11:12:29.385278Z",
     "shell.execute_reply.started": "2021-11-11T11:12:29.380324Z"
    }
   },
   "outputs": [],
   "source": [
    "both.drop(\"Dim1\", axis = 1, inplace = True)"
   ]
  },
  {
   "cell_type": "code",
   "execution_count": null,
   "metadata": {
    "execution": {
     "iopub.execute_input": "2021-11-11T11:12:29.841525Z",
     "iopub.status.busy": "2021-11-11T11:12:29.841124Z",
     "iopub.status.idle": "2021-11-11T11:12:29.847484Z",
     "shell.execute_reply": "2021-11-11T11:12:29.846625Z",
     "shell.execute_reply.started": "2021-11-11T11:12:29.841473Z"
    }
   },
   "outputs": [],
   "source": [
    "both[\"Male\"] = both[\"Male\"].astype(float)"
   ]
  },
  {
   "cell_type": "code",
   "execution_count": null,
   "metadata": {
    "execution": {
     "iopub.execute_input": "2021-11-11T11:12:35.333597Z",
     "iopub.status.busy": "2021-11-11T11:12:35.333116Z",
     "iopub.status.idle": "2021-11-11T11:12:35.345071Z",
     "shell.execute_reply": "2021-11-11T11:12:35.344359Z",
     "shell.execute_reply.started": "2021-11-11T11:12:35.333546Z"
    }
   },
   "outputs": [],
   "source": [
    "both.head()"
   ]
  },
  {
   "cell_type": "code",
   "execution_count": null,
   "metadata": {
    "execution": {
     "iopub.execute_input": "2021-11-11T11:12:45.059425Z",
     "iopub.status.busy": "2021-11-11T11:12:45.058884Z",
     "iopub.status.idle": "2021-11-11T11:12:45.065084Z",
     "shell.execute_reply": "2021-11-11T11:12:45.064301Z",
     "shell.execute_reply.started": "2021-11-11T11:12:45.059382Z"
    }
   },
   "outputs": [],
   "source": [
    "both_x = both[[\"Male\", \"Period\"]]"
   ]
  },
  {
   "cell_type": "code",
   "execution_count": null,
   "metadata": {
    "execution": {
     "iopub.execute_input": "2021-11-11T11:12:45.066644Z",
     "iopub.status.busy": "2021-11-11T11:12:45.066433Z",
     "iopub.status.idle": "2021-11-11T11:12:45.076031Z",
     "shell.execute_reply": "2021-11-11T11:12:45.075495Z",
     "shell.execute_reply.started": "2021-11-11T11:12:45.066618Z"
    }
   },
   "outputs": [],
   "source": [
    "pred2 = model_lr.predict(both_x)"
   ]
  },
  {
   "cell_type": "code",
   "execution_count": null,
   "metadata": {
    "execution": {
     "iopub.execute_input": "2021-11-11T11:12:45.080768Z",
     "iopub.status.busy": "2021-11-11T11:12:45.080289Z",
     "iopub.status.idle": "2021-11-11T11:12:45.08689Z",
     "shell.execute_reply": "2021-11-11T11:12:45.086127Z",
     "shell.execute_reply.started": "2021-11-11T11:12:45.080742Z"
    }
   },
   "outputs": [],
   "source": [
    "pred2"
   ]
  },
  {
   "cell_type": "code",
   "execution_count": null,
   "metadata": {
    "execution": {
     "iopub.execute_input": "2021-11-11T11:12:45.193014Z",
     "iopub.status.busy": "2021-11-11T11:12:45.192394Z",
     "iopub.status.idle": "2021-11-11T11:12:45.207169Z",
     "shell.execute_reply": "2021-11-11T11:12:45.206568Z",
     "shell.execute_reply.started": "2021-11-11T11:12:45.192977Z"
    }
   },
   "outputs": [],
   "source": [
    "both[\"Prediction\"] = pred2\n",
    "both"
   ]
  },
  {
   "cell_type": "code",
   "execution_count": null,
   "metadata": {
    "execution": {
     "iopub.execute_input": "2021-11-11T11:12:55.205499Z",
     "iopub.status.busy": "2021-11-11T11:12:55.204472Z",
     "iopub.status.idle": "2021-11-11T11:12:55.224142Z",
     "shell.execute_reply": "2021-11-11T11:12:55.222473Z",
     "shell.execute_reply.started": "2021-11-11T11:12:55.205451Z"
    }
   },
   "outputs": [],
   "source": [
    "df_age_both.head()"
   ]
  },
  {
   "cell_type": "code",
   "execution_count": null,
   "metadata": {
    "execution": {
     "iopub.execute_input": "2021-11-11T11:13:17.694808Z",
     "iopub.status.busy": "2021-11-11T11:13:17.694515Z",
     "iopub.status.idle": "2021-11-11T11:13:17.708452Z",
     "shell.execute_reply": "2021-11-11T11:13:17.707747Z",
     "shell.execute_reply.started": "2021-11-11T11:13:17.694779Z"
    }
   },
   "outputs": [],
   "source": [
    "both = both.groupby(\"Period\").sum()\n",
    "both"
   ]
  },
  {
   "cell_type": "code",
   "execution_count": null,
   "metadata": {
    "execution": {
     "iopub.execute_input": "2021-11-11T11:24:31.680274Z",
     "iopub.status.busy": "2021-11-11T11:24:31.679727Z",
     "iopub.status.idle": "2021-11-11T11:24:31.68702Z",
     "shell.execute_reply": "2021-11-11T11:24:31.686125Z",
     "shell.execute_reply.started": "2021-11-11T11:24:31.680222Z"
    }
   },
   "outputs": [],
   "source": [
    "both_df = both.copy()\n",
    "both_df = both_df.reset_index()\n"
   ]
  },
  {
   "cell_type": "code",
   "execution_count": null,
   "metadata": {
    "execution": {
     "iopub.execute_input": "2021-11-11T11:24:32.315499Z",
     "iopub.status.busy": "2021-11-11T11:24:32.314775Z",
     "iopub.status.idle": "2021-11-11T11:24:32.330427Z",
     "shell.execute_reply": "2021-11-11T11:24:32.329442Z",
     "shell.execute_reply.started": "2021-11-11T11:24:32.31544Z"
    }
   },
   "outputs": [],
   "source": [
    "both_df.head()"
   ]
  },
  {
   "cell_type": "code",
   "execution_count": null,
   "metadata": {
    "execution": {
     "iopub.execute_input": "2021-11-11T11:24:34.500689Z",
     "iopub.status.busy": "2021-11-11T11:24:34.500357Z",
     "iopub.status.idle": "2021-11-11T11:24:34.514509Z",
     "shell.execute_reply": "2021-11-11T11:24:34.513626Z",
     "shell.execute_reply.started": "2021-11-11T11:24:34.500655Z"
    }
   },
   "outputs": [],
   "source": [
    "both_df = both_df.drop(\"Male\", axis = 1)\n",
    "both_df = both_df.rename(columns = {\"Period\": \"Year\", \"First Tooltip\": \"Suicide Rate\" })\n",
    "both_df.head()"
   ]
  },
  {
   "cell_type": "code",
   "execution_count": null,
   "metadata": {},
   "outputs": [],
   "source": []
  },
  {
   "cell_type": "code",
   "execution_count": null,
   "metadata": {
    "execution": {
     "iopub.execute_input": "2021-11-11T09:59:35.212226Z",
     "iopub.status.busy": "2021-11-11T09:59:35.211409Z",
     "iopub.status.idle": "2021-11-11T09:59:35.231762Z",
     "shell.execute_reply": "2021-11-11T09:59:35.230994Z",
     "shell.execute_reply.started": "2021-11-11T09:59:35.212069Z"
    }
   },
   "outputs": [],
   "source": [
    "nig = df_cru[df_cru[\"Location\"]  == \"Nigeria\"]\n",
    "nig"
   ]
  },
  {
   "cell_type": "code",
   "execution_count": null,
   "metadata": {
    "execution": {
     "iopub.execute_input": "2021-11-11T09:59:35.233648Z",
     "iopub.status.busy": "2021-11-11T09:59:35.233299Z",
     "iopub.status.idle": "2021-11-11T09:59:35.25052Z",
     "shell.execute_reply": "2021-11-11T09:59:35.248893Z",
     "shell.execute_reply.started": "2021-11-11T09:59:35.23362Z"
    }
   },
   "outputs": [],
   "source": [
    "nig = nig[[\"Location\", \"Period\", \"Dim1\", \"First Tooltip\"]]\n",
    "nig.head()"
   ]
  },
  {
   "cell_type": "code",
   "execution_count": null,
   "metadata": {
    "execution": {
     "iopub.execute_input": "2021-11-11T09:59:35.252507Z",
     "iopub.status.busy": "2021-11-11T09:59:35.252041Z",
     "iopub.status.idle": "2021-11-11T09:59:35.268864Z",
     "shell.execute_reply": "2021-11-11T09:59:35.267876Z",
     "shell.execute_reply.started": "2021-11-11T09:59:35.252464Z"
    }
   },
   "outputs": [],
   "source": [
    "nig.rename(columns = {\"Location\": \"country\", \"Period\" : \"year\", \"Dim1\": \"sex\", \"First Tooltip\" : \"suicide rate\"}, inplace = True)\n",
    "nig.head()"
   ]
  },
  {
   "cell_type": "code",
   "execution_count": null,
   "metadata": {
    "execution": {
     "iopub.execute_input": "2021-11-11T09:59:35.270679Z",
     "iopub.status.busy": "2021-11-11T09:59:35.270416Z",
     "iopub.status.idle": "2021-11-11T09:59:35.286345Z",
     "shell.execute_reply": "2021-11-11T09:59:35.285392Z",
     "shell.execute_reply.started": "2021-11-11T09:59:35.270643Z"
    }
   },
   "outputs": [],
   "source": [
    "nig = nig[nig.sex != \"Both sexes\"]\n",
    "nig.head()"
   ]
  },
  {
   "cell_type": "code",
   "execution_count": null,
   "metadata": {
    "execution": {
     "iopub.execute_input": "2021-11-11T09:59:35.288364Z",
     "iopub.status.busy": "2021-11-11T09:59:35.2876Z",
     "iopub.status.idle": "2021-11-11T09:59:38.634056Z",
     "shell.execute_reply": "2021-11-11T09:59:38.633148Z",
     "shell.execute_reply.started": "2021-11-11T09:59:35.288324Z"
    }
   },
   "outputs": [],
   "source": [
    "#Plot Nigeria Suicide rate per 100k pop\n",
    "df = nig[2:]\n",
    "fig = px.line(df, x=\"year\", y=\"suicide rate\", title='Nigeria Suicide Rate per 100k pop', color = \"sex\", markers=True)\n",
    "\n",
    "fig.show()\n",
    "\n",
    "py.plot(fig, filename = 'Nigeria Suicide Rate per 100k pop', auto_open = False)"
   ]
  },
  {
   "cell_type": "code",
   "execution_count": null,
   "metadata": {
    "execution": {
     "iopub.execute_input": "2021-11-11T09:59:38.635948Z",
     "iopub.status.busy": "2021-11-11T09:59:38.63556Z",
     "iopub.status.idle": "2021-11-11T09:59:38.642084Z",
     "shell.execute_reply": "2021-11-11T09:59:38.64139Z",
     "shell.execute_reply.started": "2021-11-11T09:59:38.635911Z"
    }
   },
   "outputs": [],
   "source": [
    "df_cru.drop(\"Indicator\", inplace = True, axis = 1)"
   ]
  },
  {
   "cell_type": "code",
   "execution_count": null,
   "metadata": {
    "execution": {
     "iopub.execute_input": "2021-11-11T09:59:38.643837Z",
     "iopub.status.busy": "2021-11-11T09:59:38.643416Z",
     "iopub.status.idle": "2021-11-11T09:59:38.666586Z",
     "shell.execute_reply": "2021-11-11T09:59:38.665922Z",
     "shell.execute_reply.started": "2021-11-11T09:59:38.643787Z"
    }
   },
   "outputs": [],
   "source": [
    "df_cru_m = df_cru[df_cru[\"Dim1\"] == \"Both sexes\"]\n",
    "df_cru_m.head()"
   ]
  },
  {
   "cell_type": "code",
   "execution_count": null,
   "metadata": {
    "execution": {
     "iopub.execute_input": "2021-11-11T09:59:38.668242Z",
     "iopub.status.busy": "2021-11-11T09:59:38.667647Z",
     "iopub.status.idle": "2021-11-11T09:59:38.681275Z",
     "shell.execute_reply": "2021-11-11T09:59:38.680422Z",
     "shell.execute_reply.started": "2021-11-11T09:59:38.668202Z"
    }
   },
   "outputs": [],
   "source": [
    "df_cru_m.drop(\"Dim1\", axis = 1, inplace = True)"
   ]
  },
  {
   "cell_type": "code",
   "execution_count": null,
   "metadata": {
    "execution": {
     "iopub.execute_input": "2021-11-11T09:59:38.683187Z",
     "iopub.status.busy": "2021-11-11T09:59:38.682729Z",
     "iopub.status.idle": "2021-11-11T09:59:38.693884Z",
     "shell.execute_reply": "2021-11-11T09:59:38.69305Z",
     "shell.execute_reply.started": "2021-11-11T09:59:38.683146Z"
    }
   },
   "outputs": [],
   "source": [
    "df_cru_m = df_cru_m[df_cru_m.Period != 2016]"
   ]
  },
  {
   "cell_type": "code",
   "execution_count": null,
   "metadata": {
    "execution": {
     "iopub.execute_input": "2021-11-11T09:59:38.695423Z",
     "iopub.status.busy": "2021-11-11T09:59:38.695169Z",
     "iopub.status.idle": "2021-11-11T09:59:38.712063Z",
     "shell.execute_reply": "2021-11-11T09:59:38.711153Z",
     "shell.execute_reply.started": "2021-11-11T09:59:38.695391Z"
    }
   },
   "outputs": [],
   "source": [
    "df_cru_m.head()"
   ]
  },
  {
   "cell_type": "code",
   "execution_count": null,
   "metadata": {
    "execution": {
     "iopub.execute_input": "2021-11-11T09:59:38.714939Z",
     "iopub.status.busy": "2021-11-11T09:59:38.714277Z",
     "iopub.status.idle": "2021-11-11T09:59:38.736953Z",
     "shell.execute_reply": "2021-11-11T09:59:38.735721Z",
     "shell.execute_reply.started": "2021-11-11T09:59:38.714888Z"
    }
   },
   "outputs": [],
   "source": [
    "df_cru_m.sort_values(\"Period\")"
   ]
  },
  {
   "cell_type": "code",
   "execution_count": null,
   "metadata": {
    "collapsed": true,
    "execution": {
     "iopub.execute_input": "2021-11-11T11:32:51.575654Z",
     "iopub.status.busy": "2021-11-11T11:32:51.57534Z",
     "iopub.status.idle": "2021-11-11T11:32:51.583897Z",
     "shell.execute_reply": "2021-11-11T11:32:51.583009Z",
     "shell.execute_reply.started": "2021-11-11T11:32:51.575622Z"
    },
    "jupyter": {
     "outputs_hidden": true
    }
   },
   "outputs": [],
   "source": [
    "df_cru_m.Location.unique()"
   ]
  },
  {
   "cell_type": "code",
   "execution_count": null,
   "metadata": {
    "execution": {
     "iopub.execute_input": "2021-11-11T11:36:37.975365Z",
     "iopub.status.busy": "2021-11-11T11:36:37.97472Z",
     "iopub.status.idle": "2021-11-11T11:36:37.980398Z",
     "shell.execute_reply": "2021-11-11T11:36:37.979506Z",
     "shell.execute_reply.started": "2021-11-11T11:36:37.97532Z"
    }
   },
   "outputs": [],
   "source": [
    "count_lst = [\"Afghanistan\", \"Nigeria\", \"United States of America\", \"Liberia\", \"Canada\", \"Lesotho\", \"Zambia\", \"Ghana\", \"Russian Federation\"]"
   ]
  },
  {
   "cell_type": "code",
   "execution_count": null,
   "metadata": {
    "collapsed": true,
    "execution": {
     "iopub.execute_input": "2021-11-11T11:46:32.583492Z",
     "iopub.status.busy": "2021-11-11T11:46:32.582519Z",
     "iopub.status.idle": "2021-11-11T11:46:32.60186Z",
     "shell.execute_reply": "2021-11-11T11:46:32.600999Z",
     "shell.execute_reply.started": "2021-11-11T11:46:32.583441Z"
    },
    "jupyter": {
     "outputs_hidden": true
    }
   },
   "outputs": [],
   "source": [
    "df_c = df_cru_m['Location'].isin(count_lst)\n",
    "df_country = df_cru_m[df_c]\n",
    "df_country"
   ]
  },
  {
   "cell_type": "code",
   "execution_count": null,
   "metadata": {
    "execution": {
     "iopub.execute_input": "2021-11-11T11:47:53.071114Z",
     "iopub.status.busy": "2021-11-11T11:47:53.069962Z",
     "iopub.status.idle": "2021-11-11T11:47:53.177275Z",
     "shell.execute_reply": "2021-11-11T11:47:53.176434Z",
     "shell.execute_reply.started": "2021-11-11T11:47:53.071035Z"
    }
   },
   "outputs": [],
   "source": [
    "fig2 = px.line(df_country, x=\"Period\", y='First Tooltip', color=\"Location\" )\n",
    "fig2\n",
    "\n"
   ]
  },
  {
   "cell_type": "code",
   "execution_count": null,
   "metadata": {
    "execution": {
     "iopub.execute_input": "2021-11-11T11:56:44.487994Z",
     "iopub.status.busy": "2021-11-11T11:56:44.486989Z",
     "iopub.status.idle": "2021-11-11T11:56:48.788404Z",
     "shell.execute_reply": "2021-11-11T11:56:48.787562Z",
     "shell.execute_reply.started": "2021-11-11T11:56:44.487954Z"
    }
   },
   "outputs": [],
   "source": [
    "py.plot(fig2, filename = 'Suicide Rate per 100k pop for selected countries', auto_open = False)"
   ]
  },
  {
   "cell_type": "code",
   "execution_count": null,
   "metadata": {},
   "outputs": [],
   "source": []
  },
  {
   "cell_type": "code",
   "execution_count": null,
   "metadata": {},
   "outputs": [],
   "source": []
  },
  {
   "cell_type": "code",
   "execution_count": null,
   "metadata": {},
   "outputs": [],
   "source": []
  },
  {
   "cell_type": "code",
   "execution_count": null,
   "metadata": {},
   "outputs": [],
   "source": []
  },
  {
   "cell_type": "code",
   "execution_count": null,
   "metadata": {},
   "outputs": [],
   "source": []
  },
  {
   "cell_type": "code",
   "execution_count": null,
   "metadata": {},
   "outputs": [],
   "source": []
  },
  {
   "cell_type": "code",
   "execution_count": null,
   "metadata": {},
   "outputs": [],
   "source": []
  },
  {
   "cell_type": "markdown",
   "metadata": {},
   "source": []
  },
  {
   "cell_type": "code",
   "execution_count": null,
   "metadata": {},
   "outputs": [],
   "source": []
  }
 ],
 "metadata": {
  "kernelspec": {
   "display_name": "Python 3 (ipykernel)",
   "language": "python",
   "name": "python3"
  },
  "language_info": {
   "codemirror_mode": {
    "name": "ipython",
    "version": 3
   },
   "file_extension": ".py",
   "mimetype": "text/x-python",
   "name": "python",
   "nbconvert_exporter": "python",
   "pygments_lexer": "ipython3",
   "version": "3.9.7"
  }
 },
 "nbformat": 4,
 "nbformat_minor": 4
}
