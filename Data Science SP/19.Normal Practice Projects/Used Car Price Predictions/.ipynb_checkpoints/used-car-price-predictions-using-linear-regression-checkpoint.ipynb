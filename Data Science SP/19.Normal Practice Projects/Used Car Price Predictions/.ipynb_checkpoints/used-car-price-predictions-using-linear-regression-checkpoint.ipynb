{
 "cells": [
  {
   "cell_type": "markdown",
   "metadata": {},
   "source": [
    "In this notebook, a customized Linear Regression model, which uses Gradient Descent method for optimization, is built and trained. Then, this model is put in comparison with an another Linear Regression model built via scikit-learn library (which uses Normal Equation method for optimization), and further comparing with several other Regression models (such as Decision Tree and Random Forest)."
   ]
  },
  {
   "cell_type": "markdown",
   "metadata": {},
   "source": [
    "# 1. Importing libraries:"
   ]
  },
  {
   "cell_type": "code",
   "execution_count": 1,
   "metadata": {
    "_cell_guid": "b1076dfc-b9ad-4769-8c92-a6c4dae69d19",
    "_uuid": "8f2839f25d086af736a60e9eeb907d3b93b6e0e5",
    "execution": {
     "iopub.execute_input": "2022-04-25T09:41:18.469524Z",
     "iopub.status.busy": "2022-04-25T09:41:18.468783Z",
     "iopub.status.idle": "2022-04-25T09:41:20.006790Z",
     "shell.execute_reply": "2022-04-25T09:41:20.005552Z",
     "shell.execute_reply.started": "2022-04-25T09:41:18.469401Z"
    }
   },
   "outputs": [],
   "source": [
    "import numpy as np\n",
    "import pandas as pd\n",
    "import seaborn as sns\n",
    "import matplotlib.pyplot as plt\n",
    "from matplotlib import rcParams\n",
    "from sklearn.preprocessing import LabelEncoder, StandardScaler\n",
    "from sklearn.model_selection import train_test_split\n",
    "from sklearn.linear_model import LinearRegression\n",
    "from sklearn.tree import DecisionTreeRegressor\n",
    "from sklearn.ensemble import RandomForestRegressor\n",
    "from sklearn.metrics import mean_squared_error\n",
    "from sklearn.pipeline import Pipeline\n",
    "\n",
    "rcParams['figure.figsize'] = 12, 7"
   ]
  },
  {
   "cell_type": "markdown",
   "metadata": {},
   "source": [
    "# 2. Loading data:"
   ]
  },
  {
   "cell_type": "code",
   "execution_count": 2,
   "metadata": {
    "execution": {
     "iopub.execute_input": "2022-04-25T09:41:20.009963Z",
     "iopub.status.busy": "2022-04-25T09:41:20.009571Z",
     "iopub.status.idle": "2022-04-25T09:41:22.893338Z",
     "shell.execute_reply": "2022-04-25T09:41:22.892372Z",
     "shell.execute_reply.started": "2022-04-25T09:41:20.009915Z"
    }
   },
   "outputs": [
    {
     "data": {
      "text/html": [
       "<div>\n",
       "<style scoped>\n",
       "    .dataframe tbody tr th:only-of-type {\n",
       "        vertical-align: middle;\n",
       "    }\n",
       "\n",
       "    .dataframe tbody tr th {\n",
       "        vertical-align: top;\n",
       "    }\n",
       "\n",
       "    .dataframe thead th {\n",
       "        text-align: right;\n",
       "    }\n",
       "</style>\n",
       "<table border=\"1\" class=\"dataframe\">\n",
       "  <thead>\n",
       "    <tr style=\"text-align: right;\">\n",
       "      <th></th>\n",
       "      <th>Price</th>\n",
       "      <th>Year</th>\n",
       "      <th>Mileage</th>\n",
       "      <th>City</th>\n",
       "      <th>State</th>\n",
       "      <th>Vin</th>\n",
       "      <th>Make</th>\n",
       "      <th>Model</th>\n",
       "    </tr>\n",
       "  </thead>\n",
       "  <tbody>\n",
       "    <tr>\n",
       "      <th>0</th>\n",
       "      <td>8995</td>\n",
       "      <td>2014</td>\n",
       "      <td>35725</td>\n",
       "      <td>El Paso</td>\n",
       "      <td>TX</td>\n",
       "      <td>19VDE2E53EE000083</td>\n",
       "      <td>Acura</td>\n",
       "      <td>ILX6-Speed</td>\n",
       "    </tr>\n",
       "    <tr>\n",
       "      <th>1</th>\n",
       "      <td>10888</td>\n",
       "      <td>2013</td>\n",
       "      <td>19606</td>\n",
       "      <td>Long Island City</td>\n",
       "      <td>NY</td>\n",
       "      <td>19VDE1F52DE012636</td>\n",
       "      <td>Acura</td>\n",
       "      <td>ILX5-Speed</td>\n",
       "    </tr>\n",
       "    <tr>\n",
       "      <th>2</th>\n",
       "      <td>8995</td>\n",
       "      <td>2013</td>\n",
       "      <td>48851</td>\n",
       "      <td>El Paso</td>\n",
       "      <td>TX</td>\n",
       "      <td>19VDE2E52DE000025</td>\n",
       "      <td>Acura</td>\n",
       "      <td>ILX6-Speed</td>\n",
       "    </tr>\n",
       "    <tr>\n",
       "      <th>3</th>\n",
       "      <td>10999</td>\n",
       "      <td>2014</td>\n",
       "      <td>39922</td>\n",
       "      <td>Windsor</td>\n",
       "      <td>CO</td>\n",
       "      <td>19VDE1F71EE003817</td>\n",
       "      <td>Acura</td>\n",
       "      <td>ILX5-Speed</td>\n",
       "    </tr>\n",
       "    <tr>\n",
       "      <th>4</th>\n",
       "      <td>14799</td>\n",
       "      <td>2016</td>\n",
       "      <td>22142</td>\n",
       "      <td>Lindon</td>\n",
       "      <td>UT</td>\n",
       "      <td>19UDE2F32GA001284</td>\n",
       "      <td>Acura</td>\n",
       "      <td>ILXAutomatic</td>\n",
       "    </tr>\n",
       "    <tr>\n",
       "      <th>5</th>\n",
       "      <td>7989</td>\n",
       "      <td>2012</td>\n",
       "      <td>105246</td>\n",
       "      <td>Miami</td>\n",
       "      <td>FL</td>\n",
       "      <td>JH4CU2F83CC019895</td>\n",
       "      <td>Acura</td>\n",
       "      <td>TSXAutomatic</td>\n",
       "    </tr>\n",
       "    <tr>\n",
       "      <th>6</th>\n",
       "      <td>14490</td>\n",
       "      <td>2014</td>\n",
       "      <td>34032</td>\n",
       "      <td>Greatneck</td>\n",
       "      <td>NY</td>\n",
       "      <td>JH4CU2F84EC002686</td>\n",
       "      <td>Acura</td>\n",
       "      <td>TSXSpecial</td>\n",
       "    </tr>\n",
       "    <tr>\n",
       "      <th>7</th>\n",
       "      <td>13995</td>\n",
       "      <td>2013</td>\n",
       "      <td>32384</td>\n",
       "      <td>West Jordan</td>\n",
       "      <td>UT</td>\n",
       "      <td>JH4CU2F64DC006203</td>\n",
       "      <td>Acura</td>\n",
       "      <td>TSX5-Speed</td>\n",
       "    </tr>\n",
       "    <tr>\n",
       "      <th>8</th>\n",
       "      <td>10495</td>\n",
       "      <td>2013</td>\n",
       "      <td>57596</td>\n",
       "      <td>Waterbury</td>\n",
       "      <td>CT</td>\n",
       "      <td>19VDE2E50DE000234</td>\n",
       "      <td>Acura</td>\n",
       "      <td>ILX6-Speed</td>\n",
       "    </tr>\n",
       "    <tr>\n",
       "      <th>9</th>\n",
       "      <td>9995</td>\n",
       "      <td>2013</td>\n",
       "      <td>63887</td>\n",
       "      <td>El Paso</td>\n",
       "      <td>TX</td>\n",
       "      <td>19VDE1F50DE010450</td>\n",
       "      <td>Acura</td>\n",
       "      <td>ILX5-Speed</td>\n",
       "    </tr>\n",
       "  </tbody>\n",
       "</table>\n",
       "</div>"
      ],
      "text/plain": [
       "   Price  Year  Mileage              City State                Vin   Make  \\\n",
       "0   8995  2014    35725           El Paso    TX  19VDE2E53EE000083  Acura   \n",
       "1  10888  2013    19606  Long Island City    NY  19VDE1F52DE012636  Acura   \n",
       "2   8995  2013    48851           El Paso    TX  19VDE2E52DE000025  Acura   \n",
       "3  10999  2014    39922           Windsor    CO  19VDE1F71EE003817  Acura   \n",
       "4  14799  2016    22142            Lindon    UT  19UDE2F32GA001284  Acura   \n",
       "5   7989  2012   105246             Miami    FL  JH4CU2F83CC019895  Acura   \n",
       "6  14490  2014    34032         Greatneck    NY  JH4CU2F84EC002686  Acura   \n",
       "7  13995  2013    32384       West Jordan    UT  JH4CU2F64DC006203  Acura   \n",
       "8  10495  2013    57596         Waterbury    CT  19VDE2E50DE000234  Acura   \n",
       "9   9995  2013    63887           El Paso    TX  19VDE1F50DE010450  Acura   \n",
       "\n",
       "          Model  \n",
       "0    ILX6-Speed  \n",
       "1    ILX5-Speed  \n",
       "2    ILX6-Speed  \n",
       "3    ILX5-Speed  \n",
       "4  ILXAutomatic  \n",
       "5  TSXAutomatic  \n",
       "6    TSXSpecial  \n",
       "7    TSX5-Speed  \n",
       "8    ILX6-Speed  \n",
       "9    ILX5-Speed  "
      ]
     },
     "execution_count": 2,
     "metadata": {},
     "output_type": "execute_result"
    }
   ],
   "source": [
    "car_price_df = pd.read_csv('/kaggle/input/used-car-price-predictions/true_car_listings.csv')\n",
    "car_price_df.head(10)"
   ]
  },
  {
   "cell_type": "code",
   "execution_count": 3,
   "metadata": {
    "execution": {
     "iopub.execute_input": "2022-04-25T09:41:22.895107Z",
     "iopub.status.busy": "2022-04-25T09:41:22.894796Z",
     "iopub.status.idle": "2022-04-25T09:41:23.379160Z",
     "shell.execute_reply": "2022-04-25T09:41:23.378293Z",
     "shell.execute_reply.started": "2022-04-25T09:41:22.895065Z"
    }
   },
   "outputs": [
    {
     "name": "stdout",
     "output_type": "stream",
     "text": [
      "<class 'pandas.core.frame.DataFrame'>\n",
      "RangeIndex: 852122 entries, 0 to 852121\n",
      "Data columns (total 8 columns):\n",
      " #   Column   Non-Null Count   Dtype \n",
      "---  ------   --------------   ----- \n",
      " 0   Price    852122 non-null  int64 \n",
      " 1   Year     852122 non-null  int64 \n",
      " 2   Mileage  852122 non-null  int64 \n",
      " 3   City     852122 non-null  object\n",
      " 4   State    852122 non-null  object\n",
      " 5   Vin      852122 non-null  object\n",
      " 6   Make     852122 non-null  object\n",
      " 7   Model    852122 non-null  object\n",
      "dtypes: int64(3), object(5)\n",
      "memory usage: 52.0+ MB\n"
     ]
    }
   ],
   "source": [
    "car_price_df.info()"
   ]
  },
  {
   "cell_type": "code",
   "execution_count": 4,
   "metadata": {
    "execution": {
     "iopub.execute_input": "2022-04-25T09:41:23.382206Z",
     "iopub.status.busy": "2022-04-25T09:41:23.381854Z",
     "iopub.status.idle": "2022-04-25T09:41:23.517206Z",
     "shell.execute_reply": "2022-04-25T09:41:23.516157Z",
     "shell.execute_reply.started": "2022-04-25T09:41:23.382161Z"
    }
   },
   "outputs": [
    {
     "data": {
      "text/html": [
       "<div>\n",
       "<style scoped>\n",
       "    .dataframe tbody tr th:only-of-type {\n",
       "        vertical-align: middle;\n",
       "    }\n",
       "\n",
       "    .dataframe tbody tr th {\n",
       "        vertical-align: top;\n",
       "    }\n",
       "\n",
       "    .dataframe thead th {\n",
       "        text-align: right;\n",
       "    }\n",
       "</style>\n",
       "<table border=\"1\" class=\"dataframe\">\n",
       "  <thead>\n",
       "    <tr style=\"text-align: right;\">\n",
       "      <th></th>\n",
       "      <th>Price</th>\n",
       "      <th>Year</th>\n",
       "      <th>Mileage</th>\n",
       "    </tr>\n",
       "  </thead>\n",
       "  <tbody>\n",
       "    <tr>\n",
       "      <th>count</th>\n",
       "      <td>852122.000000</td>\n",
       "      <td>852122.000000</td>\n",
       "      <td>8.521220e+05</td>\n",
       "    </tr>\n",
       "    <tr>\n",
       "      <th>mean</th>\n",
       "      <td>21464.100210</td>\n",
       "      <td>2013.289145</td>\n",
       "      <td>5.250779e+04</td>\n",
       "    </tr>\n",
       "    <tr>\n",
       "      <th>std</th>\n",
       "      <td>13596.202241</td>\n",
       "      <td>3.414987</td>\n",
       "      <td>4.198896e+04</td>\n",
       "    </tr>\n",
       "    <tr>\n",
       "      <th>min</th>\n",
       "      <td>1500.000000</td>\n",
       "      <td>1997.000000</td>\n",
       "      <td>5.000000e+00</td>\n",
       "    </tr>\n",
       "    <tr>\n",
       "      <th>25%</th>\n",
       "      <td>13000.000000</td>\n",
       "      <td>2012.000000</td>\n",
       "      <td>2.383600e+04</td>\n",
       "    </tr>\n",
       "    <tr>\n",
       "      <th>50%</th>\n",
       "      <td>18500.000000</td>\n",
       "      <td>2014.000000</td>\n",
       "      <td>4.025600e+04</td>\n",
       "    </tr>\n",
       "    <tr>\n",
       "      <th>75%</th>\n",
       "      <td>26995.000000</td>\n",
       "      <td>2016.000000</td>\n",
       "      <td>7.218600e+04</td>\n",
       "    </tr>\n",
       "    <tr>\n",
       "      <th>max</th>\n",
       "      <td>499500.000000</td>\n",
       "      <td>2018.000000</td>\n",
       "      <td>2.856196e+06</td>\n",
       "    </tr>\n",
       "  </tbody>\n",
       "</table>\n",
       "</div>"
      ],
      "text/plain": [
       "               Price           Year       Mileage\n",
       "count  852122.000000  852122.000000  8.521220e+05\n",
       "mean    21464.100210    2013.289145  5.250779e+04\n",
       "std     13596.202241       3.414987  4.198896e+04\n",
       "min      1500.000000    1997.000000  5.000000e+00\n",
       "25%     13000.000000    2012.000000  2.383600e+04\n",
       "50%     18500.000000    2014.000000  4.025600e+04\n",
       "75%     26995.000000    2016.000000  7.218600e+04\n",
       "max    499500.000000    2018.000000  2.856196e+06"
      ]
     },
     "execution_count": 4,
     "metadata": {},
     "output_type": "execute_result"
    }
   ],
   "source": [
    "car_price_df.describe()"
   ]
  },
  {
   "cell_type": "markdown",
   "metadata": {},
   "source": [
    "As this dataset is created for predicting used car prices, the \"Price\" attribute is considered as target variable."
   ]
  },
  {
   "cell_type": "markdown",
   "metadata": {},
   "source": [
    "# 3. Data preprocessing and visualization:"
   ]
  },
  {
   "cell_type": "markdown",
   "metadata": {},
   "source": [
    "## a. Categorical encoding for categorical features:"
   ]
  },
  {
   "cell_type": "code",
   "execution_count": 5,
   "metadata": {
    "execution": {
     "iopub.execute_input": "2022-04-25T09:41:23.518809Z",
     "iopub.status.busy": "2022-04-25T09:41:23.518543Z",
     "iopub.status.idle": "2022-04-25T09:41:28.299848Z",
     "shell.execute_reply": "2022-04-25T09:41:28.298849Z",
     "shell.execute_reply.started": "2022-04-25T09:41:23.518777Z"
    }
   },
   "outputs": [],
   "source": [
    "categorical_features = ['City', 'State', 'Vin', 'Make', 'Model']\n",
    "\n",
    "for feature in categorical_features:\n",
    "    raw_feature_data = car_price_df[feature]\n",
    "    encoded_feature_data = LabelEncoder().fit_transform(raw_feature_data)\n",
    "    car_price_df[feature] = encoded_feature_data"
   ]
  },
  {
   "cell_type": "code",
   "execution_count": 6,
   "metadata": {
    "execution": {
     "iopub.execute_input": "2022-04-25T09:41:28.301424Z",
     "iopub.status.busy": "2022-04-25T09:41:28.301120Z",
     "iopub.status.idle": "2022-04-25T09:41:28.313608Z",
     "shell.execute_reply": "2022-04-25T09:41:28.312966Z",
     "shell.execute_reply.started": "2022-04-25T09:41:28.301391Z"
    }
   },
   "outputs": [
    {
     "data": {
      "text/html": [
       "<div>\n",
       "<style scoped>\n",
       "    .dataframe tbody tr th:only-of-type {\n",
       "        vertical-align: middle;\n",
       "    }\n",
       "\n",
       "    .dataframe tbody tr th {\n",
       "        vertical-align: top;\n",
       "    }\n",
       "\n",
       "    .dataframe thead th {\n",
       "        text-align: right;\n",
       "    }\n",
       "</style>\n",
       "<table border=\"1\" class=\"dataframe\">\n",
       "  <thead>\n",
       "    <tr style=\"text-align: right;\">\n",
       "      <th></th>\n",
       "      <th>Price</th>\n",
       "      <th>Year</th>\n",
       "      <th>Mileage</th>\n",
       "      <th>City</th>\n",
       "      <th>State</th>\n",
       "      <th>Vin</th>\n",
       "      <th>Make</th>\n",
       "      <th>Model</th>\n",
       "    </tr>\n",
       "  </thead>\n",
       "  <tbody>\n",
       "    <tr>\n",
       "      <th>0</th>\n",
       "      <td>8995</td>\n",
       "      <td>2014</td>\n",
       "      <td>35725</td>\n",
       "      <td>646</td>\n",
       "      <td>49</td>\n",
       "      <td>3972</td>\n",
       "      <td>1</td>\n",
       "      <td>1194</td>\n",
       "    </tr>\n",
       "    <tr>\n",
       "      <th>1</th>\n",
       "      <td>10888</td>\n",
       "      <td>2013</td>\n",
       "      <td>19606</td>\n",
       "      <td>1260</td>\n",
       "      <td>39</td>\n",
       "      <td>3707</td>\n",
       "      <td>1</td>\n",
       "      <td>1193</td>\n",
       "    </tr>\n",
       "    <tr>\n",
       "      <th>2</th>\n",
       "      <td>8995</td>\n",
       "      <td>2013</td>\n",
       "      <td>48851</td>\n",
       "      <td>646</td>\n",
       "      <td>49</td>\n",
       "      <td>3970</td>\n",
       "      <td>1</td>\n",
       "      <td>1194</td>\n",
       "    </tr>\n",
       "    <tr>\n",
       "      <th>3</th>\n",
       "      <td>10999</td>\n",
       "      <td>2014</td>\n",
       "      <td>39922</td>\n",
       "      <td>2490</td>\n",
       "      <td>6</td>\n",
       "      <td>3824</td>\n",
       "      <td>1</td>\n",
       "      <td>1193</td>\n",
       "    </tr>\n",
       "    <tr>\n",
       "      <th>4</th>\n",
       "      <td>14799</td>\n",
       "      <td>2016</td>\n",
       "      <td>22142</td>\n",
       "      <td>1231</td>\n",
       "      <td>50</td>\n",
       "      <td>42</td>\n",
       "      <td>1</td>\n",
       "      <td>1196</td>\n",
       "    </tr>\n",
       "    <tr>\n",
       "      <th>5</th>\n",
       "      <td>7989</td>\n",
       "      <td>2012</td>\n",
       "      <td>105246</td>\n",
       "      <td>1397</td>\n",
       "      <td>11</td>\n",
       "      <td>649119</td>\n",
       "      <td>1</td>\n",
       "      <td>2249</td>\n",
       "    </tr>\n",
       "    <tr>\n",
       "      <th>6</th>\n",
       "      <td>14490</td>\n",
       "      <td>2014</td>\n",
       "      <td>34032</td>\n",
       "      <td>888</td>\n",
       "      <td>39</td>\n",
       "      <td>649126</td>\n",
       "      <td>1</td>\n",
       "      <td>2252</td>\n",
       "    </tr>\n",
       "    <tr>\n",
       "      <th>7</th>\n",
       "      <td>13995</td>\n",
       "      <td>2013</td>\n",
       "      <td>32384</td>\n",
       "      <td>2429</td>\n",
       "      <td>50</td>\n",
       "      <td>648930</td>\n",
       "      <td>1</td>\n",
       "      <td>2248</td>\n",
       "    </tr>\n",
       "    <tr>\n",
       "      <th>8</th>\n",
       "      <td>10495</td>\n",
       "      <td>2013</td>\n",
       "      <td>57596</td>\n",
       "      <td>2389</td>\n",
       "      <td>7</td>\n",
       "      <td>3966</td>\n",
       "      <td>1</td>\n",
       "      <td>1194</td>\n",
       "    </tr>\n",
       "    <tr>\n",
       "      <th>9</th>\n",
       "      <td>9995</td>\n",
       "      <td>2013</td>\n",
       "      <td>63887</td>\n",
       "      <td>646</td>\n",
       "      <td>49</td>\n",
       "      <td>3684</td>\n",
       "      <td>1</td>\n",
       "      <td>1193</td>\n",
       "    </tr>\n",
       "  </tbody>\n",
       "</table>\n",
       "</div>"
      ],
      "text/plain": [
       "   Price  Year  Mileage  City  State     Vin  Make  Model\n",
       "0   8995  2014    35725   646     49    3972     1   1194\n",
       "1  10888  2013    19606  1260     39    3707     1   1193\n",
       "2   8995  2013    48851   646     49    3970     1   1194\n",
       "3  10999  2014    39922  2490      6    3824     1   1193\n",
       "4  14799  2016    22142  1231     50      42     1   1196\n",
       "5   7989  2012   105246  1397     11  649119     1   2249\n",
       "6  14490  2014    34032   888     39  649126     1   2252\n",
       "7  13995  2013    32384  2429     50  648930     1   2248\n",
       "8  10495  2013    57596  2389      7    3966     1   1194\n",
       "9   9995  2013    63887   646     49    3684     1   1193"
      ]
     },
     "execution_count": 6,
     "metadata": {},
     "output_type": "execute_result"
    }
   ],
   "source": [
    "# Verify data after encoding\n",
    "car_price_df.head(10)"
   ]
  },
  {
   "cell_type": "code",
   "execution_count": 7,
   "metadata": {
    "execution": {
     "iopub.execute_input": "2022-04-25T09:41:28.315428Z",
     "iopub.status.busy": "2022-04-25T09:41:28.314664Z",
     "iopub.status.idle": "2022-04-25T09:41:28.346864Z",
     "shell.execute_reply": "2022-04-25T09:41:28.346150Z",
     "shell.execute_reply.started": "2022-04-25T09:41:28.315392Z"
    }
   },
   "outputs": [
    {
     "name": "stdout",
     "output_type": "stream",
     "text": [
      "<class 'pandas.core.frame.DataFrame'>\n",
      "RangeIndex: 852122 entries, 0 to 852121\n",
      "Data columns (total 8 columns):\n",
      " #   Column   Non-Null Count   Dtype\n",
      "---  ------   --------------   -----\n",
      " 0   Price    852122 non-null  int64\n",
      " 1   Year     852122 non-null  int64\n",
      " 2   Mileage  852122 non-null  int64\n",
      " 3   City     852122 non-null  int64\n",
      " 4   State    852122 non-null  int64\n",
      " 5   Vin      852122 non-null  int64\n",
      " 6   Make     852122 non-null  int64\n",
      " 7   Model    852122 non-null  int64\n",
      "dtypes: int64(8)\n",
      "memory usage: 52.0 MB\n"
     ]
    }
   ],
   "source": [
    "# Verify features' datatypes after encoding\n",
    "car_price_df.info()"
   ]
  },
  {
   "cell_type": "markdown",
   "metadata": {},
   "source": [
    "## b. Data Visualization:"
   ]
  },
  {
   "cell_type": "code",
   "execution_count": 8,
   "metadata": {
    "execution": {
     "iopub.execute_input": "2022-04-25T09:41:28.348515Z",
     "iopub.status.busy": "2022-04-25T09:41:28.348102Z",
     "iopub.status.idle": "2022-04-25T09:41:29.266937Z",
     "shell.execute_reply": "2022-04-25T09:41:29.266025Z",
     "shell.execute_reply.started": "2022-04-25T09:41:28.348476Z"
    }
   },
   "outputs": [
    {
     "data": {
      "text/plain": [
       "<AxesSubplot:>"
      ]
     },
     "execution_count": 8,
     "metadata": {},
     "output_type": "execute_result"
    },
    {
     "data": {
      "image/png": "[encoded data removed]",
      "text/plain": [
       "<Figure size 864x504 with 2 Axes>"
      ]
     },
     "metadata": {
      "needs_background": "light"
     },
     "output_type": "display_data"
    }
   ],
   "source": [
    "# Visualize correlations between attributes\n",
    "features_correlation = car_price_df.corr()\n",
    "sns.heatmap(features_correlation, annot=True, vmin=-1, vmax=1, center=0)"
   ]
  },
  {
   "cell_type": "markdown",
   "metadata": {},
   "source": [
    "This correlation plot depicts that, only \"Year\" and \"Mileage\" features are two most correlated features with the target variable. Therefore, only those features would be selected for preparation."
   ]
  },
  {
   "cell_type": "code",
   "execution_count": 9,
   "metadata": {
    "execution": {
     "iopub.execute_input": "2022-04-25T09:41:29.268431Z",
     "iopub.status.busy": "2022-04-25T09:41:29.268156Z",
     "iopub.status.idle": "2022-04-25T09:41:35.507244Z",
     "shell.execute_reply": "2022-04-25T09:41:35.506599Z",
     "shell.execute_reply.started": "2022-04-25T09:41:29.268399Z"
    }
   },
   "outputs": [
    {
     "data": {
      "text/plain": [
       "<AxesSubplot:xlabel='Mileage', ylabel='Price'>"
      ]
     },
     "execution_count": 9,
     "metadata": {},
     "output_type": "execute_result"
    },
    {
     "data": {
      "image/png": "[encoded data removed]",
      "text/plain": [
       "<Figure size 1080x504 with 2 Axes>"
      ]
     },
     "metadata": {
      "needs_background": "light"
     },
     "output_type": "display_data"
    }
   ],
   "source": [
    "# Make scatterplots with data in \"Year\", \"Mileage\" and \"Price\" columns\n",
    "# to show the correlation of each feature with the target variable\n",
    "fig, axes = plt.subplots(1, 2, figsize=(15, 7))\n",
    "sns.scatterplot(x='Year', y='Price', data=car_price_df, ax=axes[0])\n",
    "sns.scatterplot(x='Mileage', y='Price', data=car_price_df, ax=axes[1])"
   ]
  },
  {
   "cell_type": "markdown",
   "metadata": {},
   "source": [
    "# 4. Data Preparation:"
   ]
  },
  {
   "cell_type": "markdown",
   "metadata": {},
   "source": [
    "## a. Define X (features data) and y (target data):"
   ]
  },
  {
   "cell_type": "code",
   "execution_count": 10,
   "metadata": {
    "execution": {
     "iopub.execute_input": "2022-04-25T09:41:35.510697Z",
     "iopub.status.busy": "2022-04-25T09:41:35.510410Z",
     "iopub.status.idle": "2022-04-25T09:41:35.548615Z",
     "shell.execute_reply": "2022-04-25T09:41:35.547647Z",
     "shell.execute_reply.started": "2022-04-25T09:41:35.510649Z"
    }
   },
   "outputs": [],
   "source": [
    "X = car_price_df[['Year', 'Mileage']].values\n",
    "y = car_price_df['Price'].values"
   ]
  },
  {
   "cell_type": "markdown",
   "metadata": {},
   "source": [
    "## b. Train test split"
   ]
  },
  {
   "cell_type": "code",
   "execution_count": 11,
   "metadata": {
    "execution": {
     "iopub.execute_input": "2022-04-25T09:41:35.550656Z",
     "iopub.status.busy": "2022-04-25T09:41:35.550301Z",
     "iopub.status.idle": "2022-04-25T09:41:35.656361Z",
     "shell.execute_reply": "2022-04-25T09:41:35.655468Z",
     "shell.execute_reply.started": "2022-04-25T09:41:35.550612Z"
    }
   },
   "outputs": [],
   "source": [
    "X_train, X_test, y_train, y_test = train_test_split(X, y, test_size=0.015, random_state=25)"
   ]
  },
  {
   "cell_type": "markdown",
   "metadata": {},
   "source": [
    "## c. Normalize training set:"
   ]
  },
  {
   "cell_type": "code",
   "execution_count": 12,
   "metadata": {
    "execution": {
     "iopub.execute_input": "2022-04-25T09:41:35.657931Z",
     "iopub.status.busy": "2022-04-25T09:41:35.657511Z",
     "iopub.status.idle": "2022-04-25T09:41:35.748342Z",
     "shell.execute_reply": "2022-04-25T09:41:35.747477Z",
     "shell.execute_reply.started": "2022-04-25T09:41:35.657894Z"
    }
   },
   "outputs": [],
   "source": [
    "normalizer = StandardScaler().fit(X_train)"
   ]
  },
  {
   "cell_type": "markdown",
   "metadata": {},
   "source": [
    "# 5. Build a custom Linear Regression model using Gradient Descent method:"
   ]
  },
  {
   "cell_type": "markdown",
   "metadata": {},
   "source": [
    "Information about Linear Regression model & Gradient Descent method:\n",
    "\n",
    "* Hypothesis function: $h_\\theta(x)=\\theta^TX$, $X=[1,x_1,x_2,...,x_n]^T$, $\\theta=[\\theta_0,\\theta_1,\\theta_2,...\\theta_n]^T$\n",
    "\n",
    "* Cost function: $J=\\frac{1}{2m}\\sum_{i=1}^m(\\theta^TX^{(i)}-y^{(i)})^2$\n",
    "* Backpropagation: $\\frac{\\partial J}{\\partial \\theta_a}=\\frac{1}{m}\\sum_{i=1}^m(\\theta^TX^{(i)}-y{(i)})x_a^{(i)}$, $a=0,1,2,...,n$\n",
    "* Gradient Descent: $\\theta_a=\\theta_a-\\alpha\\frac{\\partial J}{\\partial \\theta_a}$, $a=0,1,2,...,n$"
   ]
  },
  {
   "cell_type": "markdown",
   "metadata": {},
   "source": [
    "## a. Build model class:"
   ]
  },
  {
   "cell_type": "code",
   "execution_count": 13,
   "metadata": {
    "execution": {
     "iopub.execute_input": "2022-04-25T09:41:35.749753Z",
     "iopub.status.busy": "2022-04-25T09:41:35.749533Z",
     "iopub.status.idle": "2022-04-25T09:41:35.764926Z",
     "shell.execute_reply": "2022-04-25T09:41:35.763917Z",
     "shell.execute_reply.started": "2022-04-25T09:41:35.749727Z"
    }
   },
   "outputs": [],
   "source": [
    "class GDLinearRegression:\n",
    "    def __init__(self, learning_rate=0.1, epsilon=1e-7):\n",
    "        self.learning_rate = learning_rate\n",
    "        self.epsilon = epsilon\n",
    "    \n",
    "    def set_learning_rate(self, new_learning_rate):\n",
    "        self.learning_rate = new_learning_rate\n",
    "    \n",
    "    def _initialize_params_n_gradients(self, num_params):\n",
    "        self.theta = np.zeros((num_params,))\n",
    "        self.gradients = np.zeros((num_params,))\n",
    "    \n",
    "    def _get_cost(self):\n",
    "        y_hat = np.dot(self.X, self.theta)\n",
    "        cost = 1/2 * np.mean((y_hat-self.y)**2)\n",
    "        return cost\n",
    "    \n",
    "    def _backpropagation(self):\n",
    "        y_hat = np.dot(self.X, self.theta)\n",
    "        for i in range(len(self.gradients)):\n",
    "            self.gradients[i] = np.mean((y_hat - self.y) * self.X[:, i])\n",
    "    \n",
    "    def _update_params(self):\n",
    "        self.theta -= self.learning_rate * self.gradients\n",
    "    \n",
    "    def fit(self, X, y):\n",
    "        # Initialize X, y\n",
    "        num_data_points = X.shape[0]\n",
    "        num_features = X.shape[1]\n",
    "        self.X = np.c_[np.ones((num_data_points, 1)), X]\n",
    "        self.y = y\n",
    "        num_params = num_features + 1\n",
    "        prev_cost = 0\n",
    "        iteration = 1\n",
    "        # Initialize parameters theta, and gradients\n",
    "        self._initialize_params_n_gradients(num_params)\n",
    "        while True:\n",
    "            # Compute cost\n",
    "            cost = self._get_cost()\n",
    "            # Calculate gradients\n",
    "            self._backpropagation()\n",
    "            # Update parameters\n",
    "            self._update_params()\n",
    "            # Loop until cost difference below epsilon value\n",
    "            if np.abs(cost - prev_cost) < self.epsilon:\n",
    "                break\n",
    "            prev_cost = cost\n",
    "            iteration += 1\n",
    "        # Return the model\n",
    "        return self\n",
    "    \n",
    "    def predict(self, X):\n",
    "        num_data_points = X.shape[0]\n",
    "        X_b = np.c_[np.ones((num_data_points, 1)), X]\n",
    "        return np.dot(X_b, self.theta)"
   ]
  },
  {
   "cell_type": "markdown",
   "metadata": {},
   "source": [
    "## b. Train model:"
   ]
  },
  {
   "cell_type": "code",
   "execution_count": 14,
   "metadata": {
    "execution": {
     "iopub.execute_input": "2022-04-25T09:41:35.766521Z",
     "iopub.status.busy": "2022-04-25T09:41:35.766196Z",
     "iopub.status.idle": "2022-04-25T09:41:55.289793Z",
     "shell.execute_reply": "2022-04-25T09:41:55.288753Z",
     "shell.execute_reply.started": "2022-04-25T09:41:35.766478Z"
    }
   },
   "outputs": [
    {
     "data": {
      "text/plain": [
       "Pipeline(steps=[('scaler', StandardScaler()),\n",
       "                ('GDLR',\n",
       "                 <__main__.GDLinearRegression object at 0x7f679cd08a10>)])"
      ]
     },
     "execution_count": 14,
     "metadata": {},
     "output_type": "execute_result"
    }
   ],
   "source": [
    "gd_lr = Pipeline([('scaler', normalizer),\n",
    "                  ('GDLR', GDLinearRegression())])\n",
    "gd_lr.fit(X_train, y_train)"
   ]
  },
  {
   "cell_type": "markdown",
   "metadata": {},
   "source": [
    "## c. Evaluate model:"
   ]
  },
  {
   "cell_type": "markdown",
   "metadata": {},
   "source": [
    "In the evaluation phase, RMSE metric is used. RMSE stands for Root Mean Squared Error, is the squared-root value of, the mean of differences between actual values and predictions.\n",
    "\n",
    "The formula of RMSE:\n",
    "\n",
    "$RMSE=\\sqrt{\\frac{1}{m}\\sum_{i=1}^m(y^{(i)}-\\hat{y}^{(i)})^2}$"
   ]
  },
  {
   "cell_type": "code",
   "execution_count": 15,
   "metadata": {
    "execution": {
     "iopub.execute_input": "2022-04-25T09:41:55.299399Z",
     "iopub.status.busy": "2022-04-25T09:41:55.295759Z",
     "iopub.status.idle": "2022-04-25T09:41:55.315857Z",
     "shell.execute_reply": "2022-04-25T09:41:55.313923Z",
     "shell.execute_reply.started": "2022-04-25T09:41:55.299307Z"
    }
   },
   "outputs": [
    {
     "name": "stdout",
     "output_type": "stream",
     "text": [
      "RMSE: 11622.82243\n"
     ]
    }
   ],
   "source": [
    "y_pred_gd = gd_lr.predict(X_test)\n",
    "print(\"RMSE: %.5f\" % mean_squared_error(y_test, y_pred_gd, squared=False))"
   ]
  },
  {
   "cell_type": "code",
   "execution_count": 16,
   "metadata": {
    "execution": {
     "iopub.execute_input": "2022-04-25T09:41:55.328233Z",
     "iopub.status.busy": "2022-04-25T09:41:55.324426Z",
     "iopub.status.idle": "2022-04-25T09:41:55.344826Z",
     "shell.execute_reply": "2022-04-25T09:41:55.343418Z",
     "shell.execute_reply.started": "2022-04-25T09:41:55.328151Z"
    }
   },
   "outputs": [
    {
     "name": "stdout",
     "output_type": "stream",
     "text": [
      "Bias: 21464.48111254084\n",
      "Weights: [ 2588.21024046 -3751.84658925]\n"
     ]
    }
   ],
   "source": [
    "# Display model's parameters\n",
    "print('Bias:', gd_lr['GDLR'].theta[0])\n",
    "print('Weights:', gd_lr['GDLR'].theta[1:])"
   ]
  },
  {
   "cell_type": "markdown",
   "metadata": {},
   "source": [
    "# 6. Compare with Linear Regression model built via scikit-learn library (which uses Normal Equation method):"
   ]
  },
  {
   "cell_type": "markdown",
   "metadata": {},
   "source": [
    "## a. Train model:"
   ]
  },
  {
   "cell_type": "code",
   "execution_count": 17,
   "metadata": {
    "execution": {
     "iopub.execute_input": "2022-04-25T09:41:55.351109Z",
     "iopub.status.busy": "2022-04-25T09:41:55.350289Z",
     "iopub.status.idle": "2022-04-25T09:41:55.585024Z",
     "shell.execute_reply": "2022-04-25T09:41:55.584176Z",
     "shell.execute_reply.started": "2022-04-25T09:41:55.351051Z"
    }
   },
   "outputs": [
    {
     "data": {
      "text/plain": [
       "Pipeline(steps=[('scaler', StandardScaler()), ('NELR', LinearRegression())])"
      ]
     },
     "execution_count": 17,
     "metadata": {},
     "output_type": "execute_result"
    }
   ],
   "source": [
    "ne_lr = Pipeline([('scaler', normalizer),\n",
    "                  ('NELR', LinearRegression())])\n",
    "ne_lr.fit(X_train, y_train)"
   ]
  },
  {
   "cell_type": "markdown",
   "metadata": {},
   "source": [
    "## b. Evaluate model:"
   ]
  },
  {
   "cell_type": "code",
   "execution_count": 18,
   "metadata": {
    "execution": {
     "iopub.execute_input": "2022-04-25T09:41:55.586823Z",
     "iopub.status.busy": "2022-04-25T09:41:55.586350Z",
     "iopub.status.idle": "2022-04-25T09:41:55.599942Z",
     "shell.execute_reply": "2022-04-25T09:41:55.598943Z",
     "shell.execute_reply.started": "2022-04-25T09:41:55.586779Z"
    }
   },
   "outputs": [
    {
     "name": "stdout",
     "output_type": "stream",
     "text": [
      "RMSE: 11622.82247\n"
     ]
    }
   ],
   "source": [
    "y_pred_ne = ne_lr.predict(X_test)\n",
    "print('RMSE: %.5f' % mean_squared_error(y_test, y_pred_ne, squared=False))"
   ]
  },
  {
   "cell_type": "code",
   "execution_count": 19,
   "metadata": {
    "execution": {
     "iopub.execute_input": "2022-04-25T09:41:55.602107Z",
     "iopub.status.busy": "2022-04-25T09:41:55.601641Z",
     "iopub.status.idle": "2022-04-25T09:41:55.611527Z",
     "shell.execute_reply": "2022-04-25T09:41:55.609919Z",
     "shell.execute_reply.started": "2022-04-25T09:41:55.602059Z"
    }
   },
   "outputs": [
    {
     "name": "stdout",
     "output_type": "stream",
     "text": [
      "Bias: 21464.481112540874\n",
      "Weights: [ 2588.20736312 -3751.84946659]\n"
     ]
    }
   ],
   "source": [
    "# Display model's parameters\n",
    "print('Bias:', ne_lr['NELR'].intercept_)\n",
    "print('Weights:', ne_lr['NELR'].coef_)"
   ]
  },
  {
   "cell_type": "markdown",
   "metadata": {},
   "source": [
    "## c. Comparison summary:"
   ]
  },
  {
   "cell_type": "markdown",
   "metadata": {},
   "source": [
    "### Performance comparison:\n",
    "\n",
    "| Model | RMSE |\n",
    "| :---: | :---: |\n",
    "| Gradient Descent based Linear Regression | 11622.822 |\n",
    "| Normal Equation based Linear Regression | 11622.822 |\n",
    "\n",
    "### Parameters comparison:\n",
    "\n",
    "| Model | $\\theta_0$ | $\\theta_1$ | $\\theta_2$ |\n",
    "| :---: | :---: | :---: | :---: |\n",
    "| Gradient Descent based Linear Regression | 21464.481 | 2588.21 | -3751.847 |\n",
    "| Normal Equation based Linear Regression | 21464.481 | 2588.207 | -3751.849 |\n",
    "\n",
    "--> These tables indicate that performances of two models are almost the same. Although there are several differences about RMSE or several parameters between them, these differences are very small."
   ]
  },
  {
   "cell_type": "markdown",
   "metadata": {},
   "source": [
    "# BONUS: Compare with several other Regression models (Decision Tree, Random Forest)"
   ]
  },
  {
   "cell_type": "markdown",
   "metadata": {},
   "source": [
    "## a. Import class models:"
   ]
  },
  {
   "cell_type": "code",
   "execution_count": 20,
   "metadata": {
    "execution": {
     "iopub.execute_input": "2022-04-25T09:41:55.614730Z",
     "iopub.status.busy": "2022-04-25T09:41:55.614152Z",
     "iopub.status.idle": "2022-04-25T09:41:55.624159Z",
     "shell.execute_reply": "2022-04-25T09:41:55.622730Z",
     "shell.execute_reply.started": "2022-04-25T09:41:55.614658Z"
    }
   },
   "outputs": [],
   "source": [
    "from sklearn.tree import DecisionTreeRegressor\n",
    "from sklearn.ensemble import RandomForestRegressor"
   ]
  },
  {
   "cell_type": "markdown",
   "metadata": {},
   "source": [
    "## b. Train models:"
   ]
  },
  {
   "cell_type": "code",
   "execution_count": 21,
   "metadata": {
    "execution": {
     "iopub.execute_input": "2022-04-25T09:41:55.626620Z",
     "iopub.status.busy": "2022-04-25T09:41:55.626081Z",
     "iopub.status.idle": "2022-04-25T09:41:59.714194Z",
     "shell.execute_reply": "2022-04-25T09:41:59.713334Z",
     "shell.execute_reply.started": "2022-04-25T09:41:55.626573Z"
    }
   },
   "outputs": [
    {
     "data": {
      "text/plain": [
       "Pipeline(steps=[('scaler', StandardScaler()),\n",
       "                ('Decision Tree', DecisionTreeRegressor(random_state=25))])"
      ]
     },
     "execution_count": 21,
     "metadata": {},
     "output_type": "execute_result"
    }
   ],
   "source": [
    "# Decision Tree\n",
    "dtr = Pipeline([('scaler', normalizer),\n",
    "                ('Decision Tree', DecisionTreeRegressor(random_state=25))])\n",
    "dtr.fit(X_train, y_train)"
   ]
  },
  {
   "cell_type": "code",
   "execution_count": 22,
   "metadata": {
    "execution": {
     "iopub.execute_input": "2022-04-25T09:41:59.715488Z",
     "iopub.status.busy": "2022-04-25T09:41:59.715259Z",
     "iopub.status.idle": "2022-04-25T09:46:05.178909Z",
     "shell.execute_reply": "2022-04-25T09:46:05.177869Z",
     "shell.execute_reply.started": "2022-04-25T09:41:59.715461Z"
    }
   },
   "outputs": [
    {
     "data": {
      "text/plain": [
       "Pipeline(steps=[('scaler', StandardScaler()),\n",
       "                ('Random Forest', RandomForestRegressor(random_state=20))])"
      ]
     },
     "execution_count": 22,
     "metadata": {},
     "output_type": "execute_result"
    }
   ],
   "source": [
    "# Random Forest\n",
    "rfr = Pipeline([('scaler', normalizer),\n",
    "                ('Random Forest', RandomForestRegressor(random_state=20))])\n",
    "rfr.fit(X_train, y_train)"
   ]
  },
  {
   "cell_type": "markdown",
   "metadata": {},
   "source": [
    "## c. Evaluate models:"
   ]
  },
  {
   "cell_type": "code",
   "execution_count": 23,
   "metadata": {
    "execution": {
     "iopub.execute_input": "2022-04-25T09:46:05.180810Z",
     "iopub.status.busy": "2022-04-25T09:46:05.180400Z",
     "iopub.status.idle": "2022-04-25T09:46:05.208345Z",
     "shell.execute_reply": "2022-04-25T09:46:05.207380Z",
     "shell.execute_reply.started": "2022-04-25T09:46:05.180766Z"
    }
   },
   "outputs": [
    {
     "name": "stdout",
     "output_type": "stream",
     "text": [
      "RMSE: 14294.230405454233\n"
     ]
    }
   ],
   "source": [
    "# Decision Tree\n",
    "y_pred_dt = dtr.predict(X_test)\n",
    "print('RMSE:', mean_squared_error(y_test, y_pred_dt, squared=False))"
   ]
  },
  {
   "cell_type": "code",
   "execution_count": 24,
   "metadata": {
    "execution": {
     "iopub.execute_input": "2022-04-25T09:46:05.210273Z",
     "iopub.status.busy": "2022-04-25T09:46:05.209998Z",
     "iopub.status.idle": "2022-04-25T09:46:06.660279Z",
     "shell.execute_reply": "2022-04-25T09:46:06.659146Z",
     "shell.execute_reply.started": "2022-04-25T09:46:05.210242Z"
    }
   },
   "outputs": [
    {
     "name": "stdout",
     "output_type": "stream",
     "text": [
      "RMSE: 13043.905422626149\n"
     ]
    }
   ],
   "source": [
    "# Random Forest\n",
    "y_pred_rf = rfr.predict(X_test)\n",
    "print('RMSE:', mean_squared_error(y_test, y_pred_rf, squared=False))"
   ]
  },
  {
   "cell_type": "markdown",
   "metadata": {},
   "source": [
    "## d. Comparison summary:"
   ]
  },
  {
   "cell_type": "markdown",
   "metadata": {},
   "source": [
    "### Performance comparison:\n",
    "\n",
    "| Model | RMSE |\n",
    "| :---: | :---: |\n",
    "| Gradient Descent based Linear Regression | 11622.822 |\n",
    "| Normal Equation based Linear Regression | 11622.822 |\n",
    "| Decision Tree | 14294.23 |\n",
    "| Random Forest | 13043.905 |\n",
    "\n",
    "--> Tree-based models have worse performances than Linear Regression models."
   ]
  }
 ],
 "metadata": {
  "kernelspec": {
   "display_name": "Python 3 (ipykernel)",
   "language": "python",
   "name": "python3"
  },
  "language_info": {
   "codemirror_mode": {
    "name": "ipython",
    "version": 3
   },
   "file_extension": ".py",
   "mimetype": "text/x-python",
   "name": "python",
   "nbconvert_exporter": "python",
   "pygments_lexer": "ipython3",
   "version": "3.9.7"
  }
 },
 "nbformat": 4,
 "nbformat_minor": 4
}
