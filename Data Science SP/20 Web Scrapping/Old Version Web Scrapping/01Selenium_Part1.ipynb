{
 "cells": [
  {
   "cell_type": "code",
   "execution_count": 2,
   "id": "a58a454e",
   "metadata": {},
   "outputs": [
    {
     "name": "stderr",
     "output_type": "stream",
     "text": [
      "C:\\Users\\tswar\\AppData\\Local\\Temp/ipykernel_14012/525505431.py:3: DeprecationWarning: executable_path has been deprecated, please pass in a Service object\n",
      "  chr1 = wb.Chrome('C:\\Program Files (x86)\\Google\\Chrome\\Application\\chromedriver.exe')\n"
     ]
    }
   ],
   "source": [
    "import selenium\n",
    "from selenium import webdriver as wb\n",
    "chr1 = wb.Chrome('C:\\Program Files (x86)\\Google\\Chrome\\Application\\chromedriver.exe')\n",
    "chr1.get('https://www.olx.in/punjab_g2001170/q-Motorcycles?isSearchCall=true')"
   ]
  },
  {
   "cell_type": "code",
   "execution_count": 3,
   "id": "77842344",
   "metadata": {},
   "outputs": [
    {
     "name": "stderr",
     "output_type": "stream",
     "text": [
      "C:\\Users\\tswar\\AppData\\Local\\Temp/ipykernel_14012/215405066.py:1: DeprecationWarning: find_element_by_* commands are deprecated. Please use find_element() instead\n",
      "  alldet =chr1.find_element_by_class_name('_3etsg')\n"
     ]
    }
   ],
   "source": [
    "alldet =chr1.find_element_by_class_name('_3etsg')"
   ]
  },
  {
   "cell_type": "code",
   "execution_count": 1,
   "id": "f4c07c80",
   "metadata": {},
   "outputs": [],
   "source": [
    "from tqdm import tqdm\n",
    "import time\n",
    "tejalinks1=[]\n",
    "tejalinks2=[]\n",
    "condition=True\n",
    "while condition:\n",
    "    try:\n",
    "        allitems = alldet.find_elements_by_class_name('product-base')\n",
    "        for i in tqdm(allitems):\n",
    "            linkend = i.find_element_by_tag_name('a')\n",
    "            tejalinks1.append(linkend.get_property('href'))\n",
    "            [tejalinks2.append(x) for x in tejalinks1 if x not in tejalinks2 ]\n",
    "            tejalinks1.clear\n",
    "        time.sleep(30)\n",
    "        alldet.find_element_by_class_name('pagination-next').click()\n",
    "         \n",
    "    except:\n",
    "        condition = False\n",
    "   \n",
    "        \n",
    "               \n",
    "    \n",
    "    "
   ]
  },
  {
   "cell_type": "code",
   "execution_count": 5,
   "id": "3654c12d",
   "metadata": {},
   "outputs": [],
   "source": [
    "listofbikes=[]\n",
    "for c in tejalinks2:\n",
    "    details={\"Links\":c}\n",
    "    listofbikes.append(details)"
   ]
  },
  {
   "cell_type": "code",
   "execution_count": 6,
   "id": "2bef4001",
   "metadata": {},
   "outputs": [],
   "source": [
    "import pandas as pd\n",
    "df =pd.DataFrame(listofbikes)\n",
    "df.to_csv('olxPunjab.csv')"
   ]
  },
  {
   "cell_type": "code",
   "execution_count": null,
   "id": "d606c6ab",
   "metadata": {},
   "outputs": [],
   "source": []
  }
 ],
 "metadata": {
  "kernelspec": {
   "display_name": "Python 3 (ipykernel)",
   "language": "python",
   "name": "python3"
  },
  "language_info": {
   "codemirror_mode": {
    "name": "ipython",
    "version": 3
   },
   "file_extension": ".py",
   "mimetype": "text/x-python",
   "name": "python",
   "nbconvert_exporter": "python",
   "pygments_lexer": "ipython3",
   "version": "3.9.7"
  }
 },
 "nbformat": 4,
 "nbformat_minor": 5
}
