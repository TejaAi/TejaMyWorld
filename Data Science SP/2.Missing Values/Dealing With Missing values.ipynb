{
 "cells": [
  {
   "cell_type": "markdown",
   "id": "f114056d",
   "metadata": {},
   "source": [
    "<h1 style=\"color:red\"><center>Dealing With Missing Values</center></h1>"
   ]
  },
  {
   "cell_type": "markdown",
   "id": "2cb95bd3",
   "metadata": {},
   "source": [
    "<h3 style=\"color:orange\">Importing Libiraries</h3>"
   ]
  },
  {
   "cell_type": "code",
   "execution_count": 1,
   "id": "0d604ab3",
   "metadata": {},
   "outputs": [],
   "source": [
    "import pandas as pd\n",
    "import numpy as np"
   ]
  },
  {
   "cell_type": "markdown",
   "id": "be5adfc7",
   "metadata": {},
   "source": [
    "<h3 style=\"color:orange\">Load Dataset</h3>"
   ]
  },
  {
   "cell_type": "code",
   "execution_count": 2,
   "id": "0deed977",
   "metadata": {},
   "outputs": [
    {
     "data": {
      "text/html": [
       "<div>\n",
       "<style scoped>\n",
       "    .dataframe tbody tr th:only-of-type {\n",
       "        vertical-align: middle;\n",
       "    }\n",
       "\n",
       "    .dataframe tbody tr th {\n",
       "        vertical-align: top;\n",
       "    }\n",
       "\n",
       "    .dataframe thead th {\n",
       "        text-align: right;\n",
       "    }\n",
       "</style>\n",
       "<table border=\"1\" class=\"dataframe\">\n",
       "  <thead>\n",
       "    <tr style=\"text-align: right;\">\n",
       "      <th></th>\n",
       "      <th>CASENUM</th>\n",
       "      <th>CLMSEX</th>\n",
       "      <th>CLMINSUR</th>\n",
       "      <th>SEATBELT</th>\n",
       "      <th>CLMAGE</th>\n",
       "      <th>LOSS</th>\n",
       "      <th>ATTORNEY</th>\n",
       "    </tr>\n",
       "  </thead>\n",
       "  <tbody>\n",
       "    <tr>\n",
       "      <th>0</th>\n",
       "      <td>5</td>\n",
       "      <td>0.0</td>\n",
       "      <td>1.0</td>\n",
       "      <td>0.0</td>\n",
       "      <td>50.0</td>\n",
       "      <td>34.940</td>\n",
       "      <td>0</td>\n",
       "    </tr>\n",
       "    <tr>\n",
       "      <th>1</th>\n",
       "      <td>3</td>\n",
       "      <td>1.0</td>\n",
       "      <td>0.0</td>\n",
       "      <td>0.0</td>\n",
       "      <td>18.0</td>\n",
       "      <td>0.891</td>\n",
       "      <td>1</td>\n",
       "    </tr>\n",
       "    <tr>\n",
       "      <th>2</th>\n",
       "      <td>66</td>\n",
       "      <td>0.0</td>\n",
       "      <td>1.0</td>\n",
       "      <td>0.0</td>\n",
       "      <td>5.0</td>\n",
       "      <td>0.330</td>\n",
       "      <td>1</td>\n",
       "    </tr>\n",
       "    <tr>\n",
       "      <th>3</th>\n",
       "      <td>70</td>\n",
       "      <td>0.0</td>\n",
       "      <td>1.0</td>\n",
       "      <td>1.0</td>\n",
       "      <td>31.0</td>\n",
       "      <td>0.037</td>\n",
       "      <td>0</td>\n",
       "    </tr>\n",
       "    <tr>\n",
       "      <th>4</th>\n",
       "      <td>96</td>\n",
       "      <td>0.0</td>\n",
       "      <td>1.0</td>\n",
       "      <td>0.0</td>\n",
       "      <td>30.0</td>\n",
       "      <td>0.038</td>\n",
       "      <td>1</td>\n",
       "    </tr>\n",
       "    <tr>\n",
       "      <th>...</th>\n",
       "      <td>...</td>\n",
       "      <td>...</td>\n",
       "      <td>...</td>\n",
       "      <td>...</td>\n",
       "      <td>...</td>\n",
       "      <td>...</td>\n",
       "      <td>...</td>\n",
       "    </tr>\n",
       "    <tr>\n",
       "      <th>1335</th>\n",
       "      <td>34100</td>\n",
       "      <td>0.0</td>\n",
       "      <td>1.0</td>\n",
       "      <td>0.0</td>\n",
       "      <td>NaN</td>\n",
       "      <td>0.576</td>\n",
       "      <td>1</td>\n",
       "    </tr>\n",
       "    <tr>\n",
       "      <th>1336</th>\n",
       "      <td>34110</td>\n",
       "      <td>1.0</td>\n",
       "      <td>1.0</td>\n",
       "      <td>0.0</td>\n",
       "      <td>46.0</td>\n",
       "      <td>3.705</td>\n",
       "      <td>0</td>\n",
       "    </tr>\n",
       "    <tr>\n",
       "      <th>1337</th>\n",
       "      <td>34113</td>\n",
       "      <td>1.0</td>\n",
       "      <td>1.0</td>\n",
       "      <td>0.0</td>\n",
       "      <td>39.0</td>\n",
       "      <td>0.099</td>\n",
       "      <td>1</td>\n",
       "    </tr>\n",
       "    <tr>\n",
       "      <th>1338</th>\n",
       "      <td>34145</td>\n",
       "      <td>1.0</td>\n",
       "      <td>0.0</td>\n",
       "      <td>0.0</td>\n",
       "      <td>8.0</td>\n",
       "      <td>3.177</td>\n",
       "      <td>0</td>\n",
       "    </tr>\n",
       "    <tr>\n",
       "      <th>1339</th>\n",
       "      <td>34153</td>\n",
       "      <td>1.0</td>\n",
       "      <td>1.0</td>\n",
       "      <td>0.0</td>\n",
       "      <td>30.0</td>\n",
       "      <td>0.688</td>\n",
       "      <td>1</td>\n",
       "    </tr>\n",
       "  </tbody>\n",
       "</table>\n",
       "<p>1340 rows × 7 columns</p>\n",
       "</div>"
      ],
      "text/plain": [
       "      CASENUM  CLMSEX  CLMINSUR  SEATBELT  CLMAGE    LOSS  ATTORNEY\n",
       "0           5     0.0       1.0       0.0    50.0  34.940         0\n",
       "1           3     1.0       0.0       0.0    18.0   0.891         1\n",
       "2          66     0.0       1.0       0.0     5.0   0.330         1\n",
       "3          70     0.0       1.0       1.0    31.0   0.037         0\n",
       "4          96     0.0       1.0       0.0    30.0   0.038         1\n",
       "...       ...     ...       ...       ...     ...     ...       ...\n",
       "1335    34100     0.0       1.0       0.0     NaN   0.576         1\n",
       "1336    34110     1.0       1.0       0.0    46.0   3.705         0\n",
       "1337    34113     1.0       1.0       0.0    39.0   0.099         1\n",
       "1338    34145     1.0       0.0       0.0     8.0   3.177         0\n",
       "1339    34153     1.0       1.0       0.0    30.0   0.688         1\n",
       "\n",
       "[1340 rows x 7 columns]"
      ]
     },
     "execution_count": 2,
     "metadata": {},
     "output_type": "execute_result"
    }
   ],
   "source": [
    "df=pd.read_csv(\"claimants.csv\")\n",
    "df"
   ]
  },
  {
   "cell_type": "code",
   "execution_count": 3,
   "id": "067031a2",
   "metadata": {},
   "outputs": [
    {
     "name": "stdout",
     "output_type": "stream",
     "text": [
      "<class 'pandas.core.frame.DataFrame'>\n",
      "RangeIndex: 1340 entries, 0 to 1339\n",
      "Data columns (total 7 columns):\n",
      " #   Column    Non-Null Count  Dtype  \n",
      "---  ------    --------------  -----  \n",
      " 0   CASENUM   1340 non-null   int64  \n",
      " 1   CLMSEX    1328 non-null   float64\n",
      " 2   CLMINSUR  1299 non-null   float64\n",
      " 3   SEATBELT  1292 non-null   float64\n",
      " 4   CLMAGE    1151 non-null   float64\n",
      " 5   LOSS      1340 non-null   float64\n",
      " 6   ATTORNEY  1340 non-null   int64  \n",
      "dtypes: float64(5), int64(2)\n",
      "memory usage: 73.4 KB\n"
     ]
    }
   ],
   "source": [
    "df.info()"
   ]
  },
  {
   "cell_type": "markdown",
   "id": "cae11b55",
   "metadata": {},
   "source": [
    "<h5 style=\"color:red\">Checking for Null valus</h5>"
   ]
  },
  {
   "cell_type": "code",
   "execution_count": 4,
   "id": "b3cfd154",
   "metadata": {},
   "outputs": [
    {
     "data": {
      "text/plain": [
       "CASENUM       0\n",
       "CLMSEX       12\n",
       "CLMINSUR     41\n",
       "SEATBELT     48\n",
       "CLMAGE      189\n",
       "LOSS          0\n",
       "ATTORNEY      0\n",
       "dtype: int64"
      ]
     },
     "execution_count": 4,
     "metadata": {},
     "output_type": "execute_result"
    }
   ],
   "source": [
    "df.isnull().sum()"
   ]
  },
  {
   "cell_type": "markdown",
   "id": "a83c5d3a",
   "metadata": {},
   "source": [
    "<h5 style=\"color:green\">We can replace Null values normally or using sklearn libiraries</h5>"
   ]
  },
  {
   "cell_type": "markdown",
   "id": "a0f80ce7",
   "metadata": {},
   "source": [
    "<h4 style=\"color:blue\">fillna</h4>"
   ]
  },
  {
   "cell_type": "code",
   "execution_count": 5,
   "id": "eb81fc77",
   "metadata": {},
   "outputs": [
    {
     "data": {
      "text/plain": [
       "0       False\n",
       "1       False\n",
       "2       False\n",
       "3       False\n",
       "4       False\n",
       "        ...  \n",
       "1335    False\n",
       "1336    False\n",
       "1337    False\n",
       "1338    False\n",
       "1339    False\n",
       "Name: CLMSEX, Length: 1340, dtype: bool"
      ]
     },
     "execution_count": 5,
     "metadata": {},
     "output_type": "execute_result"
    }
   ],
   "source": [
    "df[\"CLMSEX\"].isnull()"
   ]
  },
  {
   "cell_type": "code",
   "execution_count": 6,
   "id": "a100353a",
   "metadata": {},
   "outputs": [
    {
     "data": {
      "text/plain": [
       "12"
      ]
     },
     "execution_count": 6,
     "metadata": {},
     "output_type": "execute_result"
    }
   ],
   "source": [
    "df[\"CLMSEX\"].isnull().sum()"
   ]
  },
  {
   "cell_type": "code",
   "execution_count": 7,
   "id": "45a68d44",
   "metadata": {},
   "outputs": [
    {
     "data": {
      "text/html": [
       "<div>\n",
       "<style scoped>\n",
       "    .dataframe tbody tr th:only-of-type {\n",
       "        vertical-align: middle;\n",
       "    }\n",
       "\n",
       "    .dataframe tbody tr th {\n",
       "        vertical-align: top;\n",
       "    }\n",
       "\n",
       "    .dataframe thead th {\n",
       "        text-align: right;\n",
       "    }\n",
       "</style>\n",
       "<table border=\"1\" class=\"dataframe\">\n",
       "  <thead>\n",
       "    <tr style=\"text-align: right;\">\n",
       "      <th></th>\n",
       "      <th>CASENUM</th>\n",
       "      <th>CLMSEX</th>\n",
       "      <th>CLMINSUR</th>\n",
       "      <th>SEATBELT</th>\n",
       "      <th>CLMAGE</th>\n",
       "      <th>LOSS</th>\n",
       "      <th>ATTORNEY</th>\n",
       "    </tr>\n",
       "  </thead>\n",
       "  <tbody>\n",
       "    <tr>\n",
       "      <th>132</th>\n",
       "      <td>3087</td>\n",
       "      <td>NaN</td>\n",
       "      <td>NaN</td>\n",
       "      <td>NaN</td>\n",
       "      <td>NaN</td>\n",
       "      <td>3.040</td>\n",
       "      <td>0</td>\n",
       "    </tr>\n",
       "    <tr>\n",
       "      <th>465</th>\n",
       "      <td>901</td>\n",
       "      <td>NaN</td>\n",
       "      <td>NaN</td>\n",
       "      <td>NaN</td>\n",
       "      <td>NaN</td>\n",
       "      <td>1.069</td>\n",
       "      <td>0</td>\n",
       "    </tr>\n",
       "    <tr>\n",
       "      <th>491</th>\n",
       "      <td>1580</td>\n",
       "      <td>NaN</td>\n",
       "      <td>1.0</td>\n",
       "      <td>0.0</td>\n",
       "      <td>14.0</td>\n",
       "      <td>5.500</td>\n",
       "      <td>0</td>\n",
       "    </tr>\n",
       "    <tr>\n",
       "      <th>522</th>\n",
       "      <td>3570</td>\n",
       "      <td>NaN</td>\n",
       "      <td>1.0</td>\n",
       "      <td>0.0</td>\n",
       "      <td>NaN</td>\n",
       "      <td>7.857</td>\n",
       "      <td>0</td>\n",
       "    </tr>\n",
       "    <tr>\n",
       "      <th>902</th>\n",
       "      <td>13179</td>\n",
       "      <td>NaN</td>\n",
       "      <td>1.0</td>\n",
       "      <td>0.0</td>\n",
       "      <td>50.0</td>\n",
       "      <td>0.800</td>\n",
       "      <td>1</td>\n",
       "    </tr>\n",
       "    <tr>\n",
       "      <th>920</th>\n",
       "      <td>13658</td>\n",
       "      <td>NaN</td>\n",
       "      <td>1.0</td>\n",
       "      <td>0.0</td>\n",
       "      <td>17.0</td>\n",
       "      <td>1.039</td>\n",
       "      <td>0</td>\n",
       "    </tr>\n",
       "    <tr>\n",
       "      <th>964</th>\n",
       "      <td>14810</td>\n",
       "      <td>NaN</td>\n",
       "      <td>1.0</td>\n",
       "      <td>0.0</td>\n",
       "      <td>8.0</td>\n",
       "      <td>1.365</td>\n",
       "      <td>0</td>\n",
       "    </tr>\n",
       "    <tr>\n",
       "      <th>1009</th>\n",
       "      <td>15805</td>\n",
       "      <td>NaN</td>\n",
       "      <td>1.0</td>\n",
       "      <td>0.0</td>\n",
       "      <td>0.0</td>\n",
       "      <td>6.300</td>\n",
       "      <td>0</td>\n",
       "    </tr>\n",
       "    <tr>\n",
       "      <th>1166</th>\n",
       "      <td>19857</td>\n",
       "      <td>NaN</td>\n",
       "      <td>NaN</td>\n",
       "      <td>NaN</td>\n",
       "      <td>NaN</td>\n",
       "      <td>0.000</td>\n",
       "      <td>1</td>\n",
       "    </tr>\n",
       "    <tr>\n",
       "      <th>1175</th>\n",
       "      <td>30306</td>\n",
       "      <td>NaN</td>\n",
       "      <td>1.0</td>\n",
       "      <td>0.0</td>\n",
       "      <td>NaN</td>\n",
       "      <td>3.675</td>\n",
       "      <td>0</td>\n",
       "    </tr>\n",
       "    <tr>\n",
       "      <th>1223</th>\n",
       "      <td>30751</td>\n",
       "      <td>NaN</td>\n",
       "      <td>1.0</td>\n",
       "      <td>0.0</td>\n",
       "      <td>34.0</td>\n",
       "      <td>0.150</td>\n",
       "      <td>1</td>\n",
       "    </tr>\n",
       "    <tr>\n",
       "      <th>1246</th>\n",
       "      <td>31008</td>\n",
       "      <td>NaN</td>\n",
       "      <td>1.0</td>\n",
       "      <td>0.0</td>\n",
       "      <td>45.0</td>\n",
       "      <td>0.358</td>\n",
       "      <td>1</td>\n",
       "    </tr>\n",
       "  </tbody>\n",
       "</table>\n",
       "</div>"
      ],
      "text/plain": [
       "      CASENUM  CLMSEX  CLMINSUR  SEATBELT  CLMAGE   LOSS  ATTORNEY\n",
       "132      3087     NaN       NaN       NaN     NaN  3.040         0\n",
       "465       901     NaN       NaN       NaN     NaN  1.069         0\n",
       "491      1580     NaN       1.0       0.0    14.0  5.500         0\n",
       "522      3570     NaN       1.0       0.0     NaN  7.857         0\n",
       "902     13179     NaN       1.0       0.0    50.0  0.800         1\n",
       "920     13658     NaN       1.0       0.0    17.0  1.039         0\n",
       "964     14810     NaN       1.0       0.0     8.0  1.365         0\n",
       "1009    15805     NaN       1.0       0.0     0.0  6.300         0\n",
       "1166    19857     NaN       NaN       NaN     NaN  0.000         1\n",
       "1175    30306     NaN       1.0       0.0     NaN  3.675         0\n",
       "1223    30751     NaN       1.0       0.0    34.0  0.150         1\n",
       "1246    31008     NaN       1.0       0.0    45.0  0.358         1"
      ]
     },
     "execution_count": 7,
     "metadata": {},
     "output_type": "execute_result"
    }
   ],
   "source": [
    "df[df[\"CLMSEX\"].isnull()]"
   ]
  },
  {
   "cell_type": "code",
   "execution_count": 8,
   "id": "b84098a6",
   "metadata": {},
   "outputs": [
    {
     "data": {
      "text/plain": [
       "0.5587349397590361"
      ]
     },
     "execution_count": 8,
     "metadata": {},
     "output_type": "execute_result"
    }
   ],
   "source": [
    "x=df[\"CLMSEX\"].mean()\n",
    "x"
   ]
  },
  {
   "cell_type": "code",
   "execution_count": 9,
   "id": "1bb3d731",
   "metadata": {},
   "outputs": [],
   "source": [
    "df[\"CLMSEX\"].fillna(x,inplace=True)"
   ]
  },
  {
   "cell_type": "code",
   "execution_count": 10,
   "id": "902b75cb",
   "metadata": {},
   "outputs": [
    {
     "data": {
      "text/plain": [
       "CASENUM       0\n",
       "CLMSEX        0\n",
       "CLMINSUR     41\n",
       "SEATBELT     48\n",
       "CLMAGE      189\n",
       "LOSS          0\n",
       "ATTORNEY      0\n",
       "dtype: int64"
      ]
     },
     "execution_count": 10,
     "metadata": {},
     "output_type": "execute_result"
    }
   ],
   "source": [
    "df.isnull().sum()"
   ]
  },
  {
   "cell_type": "markdown",
   "id": "1c49df37",
   "metadata": {},
   "source": [
    "**Above we can observe there is no Null value in CLMSEX Feature**"
   ]
  },
  {
   "cell_type": "markdown",
   "id": "79af32b6",
   "metadata": {},
   "source": [
    "Every Time i can't Do do like this my hand is pain to write code so write simple program"
   ]
  },
  {
   "cell_type": "code",
   "execution_count": 11,
   "id": "3dd0a1a8",
   "metadata": {},
   "outputs": [
    {
     "data": {
      "text/plain": [
       "Index(['CASENUM', 'CLMSEX', 'CLMINSUR', 'SEATBELT', 'CLMAGE', 'LOSS',\n",
       "       'ATTORNEY'],\n",
       "      dtype='object')"
      ]
     },
     "execution_count": 11,
     "metadata": {},
     "output_type": "execute_result"
    }
   ],
   "source": [
    "df.columns"
   ]
  },
  {
   "cell_type": "code",
   "execution_count": 12,
   "id": "e3819b92",
   "metadata": {},
   "outputs": [],
   "source": [
    "for i in df.columns:\n",
    "    x=df[df[i].isnull()]\n",
    "    if len(x)==0:\n",
    "        pass\n",
    "    else:\n",
    "        meen=df[i].mean()\n",
    "        df[i].fillna(meen,inplace=True)"
   ]
  },
  {
   "cell_type": "code",
   "execution_count": 13,
   "id": "52d3f15a",
   "metadata": {},
   "outputs": [
    {
     "data": {
      "text/plain": [
       "CASENUM     0\n",
       "CLMSEX      0\n",
       "CLMINSUR    0\n",
       "SEATBELT    0\n",
       "CLMAGE      0\n",
       "LOSS        0\n",
       "ATTORNEY    0\n",
       "dtype: int64"
      ]
     },
     "execution_count": 13,
     "metadata": {},
     "output_type": "execute_result"
    }
   ],
   "source": [
    "df.isnull().sum()"
   ]
  },
  {
   "cell_type": "markdown",
   "id": "e509b090",
   "metadata": {},
   "source": [
    "<h5 style=\"color:green\">Congratulations We fill all null values</h5>"
   ]
  },
  {
   "cell_type": "markdown",
   "id": "ca5f74e0",
   "metadata": {},
   "source": [
    "<h4 style=\"color:blue\">SimpleImputer</h4>\n"
   ]
  },
  {
   "cell_type": "code",
   "execution_count": 14,
   "id": "9828228b",
   "metadata": {},
   "outputs": [],
   "source": [
    "from sklearn.impute  import SimpleImputer"
   ]
  },
  {
   "cell_type": "markdown",
   "id": "82468cb1",
   "metadata": {},
   "source": [
    "<h6 style=\"color:red\">Load Dataset</h6>"
   ]
  },
  {
   "cell_type": "code",
   "execution_count": 15,
   "id": "978ed2da",
   "metadata": {},
   "outputs": [
    {
     "data": {
      "text/html": [
       "<div>\n",
       "<style scoped>\n",
       "    .dataframe tbody tr th:only-of-type {\n",
       "        vertical-align: middle;\n",
       "    }\n",
       "\n",
       "    .dataframe tbody tr th {\n",
       "        vertical-align: top;\n",
       "    }\n",
       "\n",
       "    .dataframe thead th {\n",
       "        text-align: right;\n",
       "    }\n",
       "</style>\n",
       "<table border=\"1\" class=\"dataframe\">\n",
       "  <thead>\n",
       "    <tr style=\"text-align: right;\">\n",
       "      <th></th>\n",
       "      <th>CASENUM</th>\n",
       "      <th>CLMSEX</th>\n",
       "      <th>CLMINSUR</th>\n",
       "      <th>SEATBELT</th>\n",
       "      <th>CLMAGE</th>\n",
       "      <th>LOSS</th>\n",
       "      <th>ATTORNEY</th>\n",
       "    </tr>\n",
       "  </thead>\n",
       "  <tbody>\n",
       "    <tr>\n",
       "      <th>0</th>\n",
       "      <td>5</td>\n",
       "      <td>0.0</td>\n",
       "      <td>1.0</td>\n",
       "      <td>0.0</td>\n",
       "      <td>50.0</td>\n",
       "      <td>34.940</td>\n",
       "      <td>0</td>\n",
       "    </tr>\n",
       "    <tr>\n",
       "      <th>1</th>\n",
       "      <td>3</td>\n",
       "      <td>1.0</td>\n",
       "      <td>0.0</td>\n",
       "      <td>0.0</td>\n",
       "      <td>18.0</td>\n",
       "      <td>0.891</td>\n",
       "      <td>1</td>\n",
       "    </tr>\n",
       "    <tr>\n",
       "      <th>2</th>\n",
       "      <td>66</td>\n",
       "      <td>0.0</td>\n",
       "      <td>1.0</td>\n",
       "      <td>0.0</td>\n",
       "      <td>5.0</td>\n",
       "      <td>0.330</td>\n",
       "      <td>1</td>\n",
       "    </tr>\n",
       "    <tr>\n",
       "      <th>3</th>\n",
       "      <td>70</td>\n",
       "      <td>0.0</td>\n",
       "      <td>1.0</td>\n",
       "      <td>1.0</td>\n",
       "      <td>31.0</td>\n",
       "      <td>0.037</td>\n",
       "      <td>0</td>\n",
       "    </tr>\n",
       "    <tr>\n",
       "      <th>4</th>\n",
       "      <td>96</td>\n",
       "      <td>0.0</td>\n",
       "      <td>1.0</td>\n",
       "      <td>0.0</td>\n",
       "      <td>30.0</td>\n",
       "      <td>0.038</td>\n",
       "      <td>1</td>\n",
       "    </tr>\n",
       "  </tbody>\n",
       "</table>\n",
       "</div>"
      ],
      "text/plain": [
       "   CASENUM  CLMSEX  CLMINSUR  SEATBELT  CLMAGE    LOSS  ATTORNEY\n",
       "0        5     0.0       1.0       0.0    50.0  34.940         0\n",
       "1        3     1.0       0.0       0.0    18.0   0.891         1\n",
       "2       66     0.0       1.0       0.0     5.0   0.330         1\n",
       "3       70     0.0       1.0       1.0    31.0   0.037         0\n",
       "4       96     0.0       1.0       0.0    30.0   0.038         1"
      ]
     },
     "execution_count": 15,
     "metadata": {},
     "output_type": "execute_result"
    }
   ],
   "source": [
    "df=pd.read_csv(\"claimants.csv\")\n",
    "df.head()"
   ]
  },
  {
   "cell_type": "markdown",
   "id": "5e79f184",
   "metadata": {},
   "source": [
    "-----------------------------------------------------------------------------------"
   ]
  },
  {
   "cell_type": "markdown",
   "id": "d5fe5285",
   "metadata": {},
   "source": [
    "Initalizing"
   ]
  },
  {
   "cell_type": "code",
   "execution_count": 16,
   "id": "259d8b92",
   "metadata": {},
   "outputs": [],
   "source": [
    "mean_imputer=SimpleImputer(strategy=\"mean\")"
   ]
  },
  {
   "cell_type": "code",
   "execution_count": 17,
   "id": "eebe95f6",
   "metadata": {},
   "outputs": [],
   "source": [
    "mode_imputer=SimpleImputer(strategy=\"most_frequent\")"
   ]
  },
  {
   "cell_type": "code",
   "execution_count": 18,
   "id": "73b61238",
   "metadata": {},
   "outputs": [],
   "source": [
    "median_imputer=SimpleImputer(strategy=\"median\")"
   ]
  },
  {
   "cell_type": "markdown",
   "id": "71f410c0",
   "metadata": {},
   "source": [
    "------------------------------------------------------------------------------------"
   ]
  },
  {
   "cell_type": "code",
   "execution_count": 19,
   "id": "43169154",
   "metadata": {},
   "outputs": [
    {
     "data": {
      "text/plain": [
       "CASENUM       0\n",
       "CLMSEX       12\n",
       "CLMINSUR     41\n",
       "SEATBELT     48\n",
       "CLMAGE      189\n",
       "LOSS          0\n",
       "ATTORNEY      0\n",
       "dtype: int64"
      ]
     },
     "execution_count": 19,
     "metadata": {},
     "output_type": "execute_result"
    }
   ],
   "source": [
    "df.isnull().sum()"
   ]
  },
  {
   "cell_type": "code",
   "execution_count": 20,
   "id": "b48e505a",
   "metadata": {},
   "outputs": [],
   "source": [
    "df[\"CLMSEX\"]=pd.DataFrame(mean_imputer.fit_transform(df[[\"CLMSEX\"]]))"
   ]
  },
  {
   "cell_type": "code",
   "execution_count": 21,
   "id": "44e5cdb1",
   "metadata": {},
   "outputs": [
    {
     "data": {
      "text/plain": [
       "0"
      ]
     },
     "execution_count": 21,
     "metadata": {},
     "output_type": "execute_result"
    }
   ],
   "source": [
    "df[\"CLMSEX\"].isnull().sum()"
   ]
  },
  {
   "cell_type": "markdown",
   "id": "b7a49f3c",
   "metadata": {},
   "source": [
    "**No Null Values**"
   ]
  },
  {
   "cell_type": "markdown",
   "id": "6cc93f9b",
   "metadata": {},
   "source": [
    "Again Boring let's write a program"
   ]
  },
  {
   "cell_type": "code",
   "execution_count": 22,
   "id": "3e87db05",
   "metadata": {},
   "outputs": [],
   "source": [
    "for i in df.columns:\n",
    "    x=df[df[i].isnull()]\n",
    "    if len(x)==0:\n",
    "        pass\n",
    "    else:\n",
    "        df[i]=pd.DataFrame(mean_imputer.fit_transform(df[[i]]))\n",
    "        "
   ]
  },
  {
   "cell_type": "code",
   "execution_count": 23,
   "id": "ac781600",
   "metadata": {},
   "outputs": [
    {
     "data": {
      "text/plain": [
       "CASENUM     0\n",
       "CLMSEX      0\n",
       "CLMINSUR    0\n",
       "SEATBELT    0\n",
       "CLMAGE      0\n",
       "LOSS        0\n",
       "ATTORNEY    0\n",
       "dtype: int64"
      ]
     },
     "execution_count": 23,
     "metadata": {},
     "output_type": "execute_result"
    }
   ],
   "source": [
    "df.isnull().sum()"
   ]
  },
  {
   "cell_type": "markdown",
   "id": "981f1d4a",
   "metadata": {},
   "source": [
    "<h5 style=\"color:green\">Congratulations We fill all null values</h5>"
   ]
  }
 ],
 "metadata": {
  "kernelspec": {
   "display_name": "Python 3 (ipykernel)",
   "language": "python",
   "name": "python3"
  },
  "language_info": {
   "codemirror_mode": {
    "name": "ipython",
    "version": 3
   },
   "file_extension": ".py",
   "mimetype": "text/x-python",
   "name": "python",
   "nbconvert_exporter": "python",
   "pygments_lexer": "ipython3",
   "version": "3.9.7"
  }
 },
 "nbformat": 4,
 "nbformat_minor": 5
}
